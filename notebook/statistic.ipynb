{
 "cells": [
  {
   "cell_type": "code",
   "execution_count": 3,
   "metadata": {},
   "outputs": [
    {
     "name": "stderr",
     "output_type": "stream",
     "text": [
      "[nltk_data] Downloading package punkt to\n",
      "[nltk_data]     /home/is/kaifan-l/nltk_data...\n",
      "[nltk_data]   Package punkt is already up-to-date!\n"
     ]
    }
   ],
   "source": [
    "import gc\n",
    "import os\n",
    "import sys\n",
    "import threading\n",
    "\n",
    "import numpy as np\n",
    "import psutil\n",
    "import torch\n",
    "import random\n",
    "\n",
    "from accelerate import Accelerator\n",
    "from datasets import load_dataset\n",
    "import evaluate\n",
    "from torch.utils.data import DataLoader\n",
    "\n",
    "import nltk\n",
    "nltk.download(\"punkt\")\n",
    "from nltk.tokenize import sent_tokenize\n",
    "\n",
    "from tqdm import tqdm\n",
    "\n",
    "from transformers import AutoModelForSeq2SeqLM, AutoTokenizer, get_linear_schedule_with_warmup, set_seed\n",
    "from peft import PrefixTuningConfig, TaskType, get_peft_model\n"
   ]
  },
  {
   "cell_type": "code",
   "execution_count": 4,
   "metadata": {},
   "outputs": [],
   "source": [
    "model_name_or_path = \"facebook/bart-large\"\n",
    "dataset_name = \"cnn_dailymail\"\n",
    "text_column = 'article'\n",
    "label_column = 'highlights'"
   ]
  },
  {
   "cell_type": "code",
   "execution_count": 5,
   "metadata": {},
   "outputs": [],
   "source": [
    "cnn_dataset = load_dataset(dataset_name, \"3.0.0\")\n",
    "tokenizer = AutoTokenizer.from_pretrained(model_name_or_path)"
   ]
  },
  {
   "cell_type": "code",
   "execution_count": 6,
   "metadata": {},
   "outputs": [
    {
     "name": "stderr",
     "output_type": "stream",
     "text": [
      "Running tokenizer on dataset: 100%|██████████| 13368/13368 [00:18<00:00, 741.70 examples/s]\n"
     ]
    },
    {
     "data": {
      "text/plain": [
       "DatasetDict({\n",
       "    train: Dataset({\n",
       "        features: ['input_ids', 'attention_mask', 'labels'],\n",
       "        num_rows: 287113\n",
       "    })\n",
       "    validation: Dataset({\n",
       "        features: ['input_ids', 'attention_mask', 'labels'],\n",
       "        num_rows: 13368\n",
       "    })\n",
       "    test: Dataset({\n",
       "        features: ['input_ids', 'attention_mask', 'labels'],\n",
       "        num_rows: 11490\n",
       "    })\n",
       "})"
      ]
     },
     "execution_count": 6,
     "metadata": {},
     "output_type": "execute_result"
    }
   ],
   "source": [
    "def preprocess_function(examples):\n",
    "    inputs = examples[text_column]\n",
    "    targets = examples[label_column]\n",
    "    model_inputs = tokenizer(\n",
    "        inputs,\n",
    "        max_length=4096,\n",
    "        truncation=True,\n",
    "        padding=False\n",
    "    ) # 这里暂时不padding\n",
    "    targets = tokenizer(\n",
    "        targets,\n",
    "        max_length=2048,\n",
    "        truncation=True,\n",
    "        padding=True,\n",
    "        return_tensors='pt',\n",
    "    )\n",
    "    targets = targets['input_ids']\n",
    "    targets[targets == tokenizer.pad_token_id] = -100\n",
    "    model_inputs['labels'] = targets\n",
    "    \n",
    "    return model_inputs\n",
    "\n",
    "cnn_dataset = cnn_dataset.map(\n",
    "    preprocess_function,\n",
    "    batched=True,\n",
    "    num_proc=1,\n",
    "    remove_columns=cnn_dataset[\"train\"].column_names,\n",
    "    load_from_cache_file=True,\n",
    "    desc=\"Running tokenizer on dataset\",\n",
    ")\n",
    "cnn_dataset"
   ]
  },
  {
   "cell_type": "code",
   "execution_count": 7,
   "metadata": {},
   "outputs": [],
   "source": [
    "train_size = int(len(cnn_dataset[\"train\"]) * 0.1)\n",
    "eval_size = int(len(cnn_dataset[\"validation\"]) * 0.1)\n",
    "test_size = int(len(cnn_dataset[\"test\"]) * 0.1)\n",
    "\n",
    "train_dataset = cnn_dataset[\"train\"].shuffle(seed=42).select(range(train_size))\n",
    "eval_dataset = cnn_dataset[\"validation\"].shuffle(seed=42).select(range(eval_size))\n",
    "test_dataset = cnn_dataset[\"test\"].shuffle(seed=42).select(range(test_size))"
   ]
  },
  {
   "cell_type": "code",
   "execution_count": 8,
   "metadata": {},
   "outputs": [
    {
     "data": {
      "text/plain": [
       "(Dataset({\n",
       "     features: ['input_ids', 'attention_mask', 'labels'],\n",
       "     num_rows: 28711\n",
       " }),\n",
       " Dataset({\n",
       "     features: ['input_ids', 'attention_mask', 'labels'],\n",
       "     num_rows: 1336\n",
       " }),\n",
       " Dataset({\n",
       "     features: ['input_ids', 'attention_mask', 'labels'],\n",
       "     num_rows: 1149\n",
       " }))"
      ]
     },
     "execution_count": 8,
     "metadata": {},
     "output_type": "execute_result"
    }
   ],
   "source": [
    "train_dataset, eval_dataset, test_dataset"
   ]
  },
  {
   "cell_type": "code",
   "execution_count": 36,
   "metadata": {},
   "outputs": [],
   "source": [
    "import matplotlib.pyplot as plt\n",
    "import datasets\n",
    "\n",
    "def visualize_token_size_distribution(dataset, column_name='input_ids'):\n",
    "    # 初始化用于存储不同 token 长度的样本数量的字典\n",
    "    input_lengths = {}\n",
    "\n",
    "    # 遍历数据集\n",
    "    for example in dataset:\n",
    "        # 排除标记为 -100 的值\n",
    "        input_ids = [token_id for token_id in example[column_name] if token_id != -100]\n",
    "        length = len(input_ids)\n",
    "\n",
    "        # 统计样本数量\n",
    "        if length in input_lengths:\n",
    "            input_lengths[length] += 1\n",
    "        else:\n",
    "            input_lengths[length] = 1\n",
    "\n",
    "    # 将字典按 token 长度排序\n",
    "    sorted_lengths = sorted(input_lengths.items(), key=lambda x: x[0])\n",
    "\n",
    "    # 提取 token 长度和样本数量\n",
    "    token_lengths, sample_counts = zip(*sorted_lengths)\n",
    "\n",
    "    # 可视化\n",
    "    plt.figure(figsize=(12, 6))\n",
    "    plt.bar(token_lengths, sample_counts)\n",
    "    plt.xlabel('Token Length')\n",
    "    plt.ylabel('Number of Samples')\n",
    "    # 设置X轴范围\n",
    "    if column_name == 'input_ids':\n",
    "        plt.xlim(0, 4096)\n",
    "    elif column_name == 'labels':\n",
    "        plt.xlim(0, 256)\n",
    "    plt.title('Distribution of Token Lengths in the Dataset')\n",
    "    plt.show()\n"
   ]
  },
  {
   "cell_type": "code",
   "execution_count": 37,
   "metadata": {},
   "outputs": [
    {
     "data": {
      "image/png": "[encoded data removed]",
      "text/plain": [
       "<Figure size 1200x600 with 1 Axes>"
      ]
     },
     "metadata": {},
     "output_type": "display_data"
    }
   ],
   "source": [
    "visualize_token_size_distribution(train_dataset, 'labels')"
   ]
  },
  {
   "cell_type": "code",
   "execution_count": 33,
   "metadata": {},
   "outputs": [],
   "source": [
    "import matplotlib.pyplot as plt\n",
    "import datasets\n",
    "\n",
    "def visualize_token_size_distribution(dataset):\n",
    "    # 初始化用于存储不同 token 长度的样本数量的字典\n",
    "    input_lengths = {}\n",
    "    label_lengths = {}\n",
    "\n",
    "    # 遍历数据集\n",
    "    for example in dataset:\n",
    "        # 排除标记为 -100 的值\n",
    "        input_ids = [token_id for token_id in example['input_ids'] if token_id != -100]\n",
    "        label_ids = [label_id for label_id in example['labels'] if label_id != -100]\n",
    "        input_length = len(input_ids)\n",
    "        label_length = len(label_ids)\n",
    "\n",
    "        # 统计样本数量\n",
    "        if input_length in input_lengths:\n",
    "            input_lengths[input_length] += 1\n",
    "        else:\n",
    "            input_lengths[input_length] = 1\n",
    "        \n",
    "        if label_length in label_lengths:\n",
    "            label_lengths[label_length] += 1\n",
    "        else:\n",
    "            label_lengths[label_length] = 1\n",
    "\n",
    "    # 将字典按 token 长度排序\n",
    "    sorted_input_lengths = sorted(input_lengths.items(), key=lambda x: x[0])\n",
    "    sorted_label_lengths = sorted(label_lengths.items(), key=lambda x: x[0])\n",
    "\n",
    "    # 提取 token 长度和样本数量\n",
    "    input_token_lengths, input_sample_counts = zip(*sorted_input_lengths)\n",
    "    label_token_lengths, label_sample_counts = zip(*sorted_label_lengths)\n",
    "\n",
    "    # 可视化\n",
    "    plt.figure(figsize=(12, 6))\n",
    "    plt.bar(input_token_lengths, input_sample_counts, label='Input Token Length')\n",
    "    plt.bar(label_token_lengths, label_sample_counts, label='Label Token Length', alpha=0.7)\n",
    "    plt.xlabel('Token Length')\n",
    "    plt.ylabel('Number of Samples')\n",
    "    plt.title('Distribution of Token Lengths in the Dataset')\n",
    "    plt.legend()\n",
    "    plt.show()"
   ]
  },
  {
   "cell_type": "code",
   "execution_count": 34,
   "metadata": {},
   "outputs": [
    {
     "data": {
      "image/png": "[encoded data removed]",
      "text/plain": [
       "<Figure size 1200x600 with 1 Axes>"
      ]
     },
     "metadata": {},
     "output_type": "display_data"
    }
   ],
   "source": [
    "visualize_token_size_distribution(train_dataset)"
   ]
  },
  {
   "cell_type": "code",
   "execution_count": 9,
   "metadata": {},
   "outputs": [
    {
     "name": "stdout",
     "output_type": "stream",
     "text": [
      "Samples with input_ids > 1024: 8675 samples (30.21%)\n",
      "Samples with input_ids <= 1024: 20036 samples (69.79%)\n"
     ]
    }
   ],
   "source": [
    "import datasets\n",
    "\n",
    "def count_input_ids(dataset_name, sequence_length=1024, split='train'):\n",
    "\n",
    "    # 获取数据集分割\n",
    "    data = dataset_name\n",
    "\n",
    "    # 初始化计数器\n",
    "    num_samples = len(data)\n",
    "    num_above_length = 0\n",
    "    num_below_length = 0\n",
    "\n",
    "    # 遍历数据集\n",
    "    for example in data:\n",
    "        input_ids = example['input_ids']\n",
    "\n",
    "        # 排除标记为 -100 的值\n",
    "        input_ids = [token_id for token_id in input_ids if token_id != -100]\n",
    "\n",
    "        # 计算 input_ids 长度\n",
    "        input_length = len(input_ids)\n",
    "\n",
    "        # 统计数量\n",
    "        if input_length > sequence_length:\n",
    "            num_above_length += 1\n",
    "        else:\n",
    "            num_below_length += 1\n",
    "\n",
    "    # 计算百分比\n",
    "    percent_above_length = (num_above_length / num_samples) * 100\n",
    "    percent_below_length = (num_below_length / num_samples) * 100\n",
    "\n",
    "    # 打印结果\n",
    "    print(f\"Samples with input_ids > {sequence_length}: {num_above_length} samples ({percent_above_length:.2f}%)\")\n",
    "    print(f\"Samples with input_ids <= {sequence_length}: {num_below_length} samples ({percent_below_length:.2f}%)\")\n",
    "\n",
    "# 使用示例\n",
    "count_input_ids(train_dataset, sequence_length=1024)"
   ]
  },
  {
   "cell_type": "code",
   "execution_count": null,
   "metadata": {},
   "outputs": [],
   "source": []
  }
 ],
 "metadata": {
  "kernelspec": {
   "display_name": "summarization",
   "language": "python",
   "name": "python3"
  },
  "language_info": {
   "codemirror_mode": {
    "name": "ipython",
    "version": 3
   },
   "file_extension": ".py",
   "mimetype": "text/x-python",
   "name": "python",
   "nbconvert_exporter": "python",
   "pygments_lexer": "ipython3",
   "version": "3.11.4"
  },
  "orig_nbformat": 4
 },
 "nbformat": 4,
 "nbformat_minor": 2
}
