{
 "cells": [
  {
   "cell_type": "markdown",
   "metadata": {},
   "source": [
    "# Preprocessing for PubMed Dataset"
   ]
  },
  {
   "cell_type": "markdown",
   "metadata": {},
   "source": [
    "## 1. Load Dataset"
   ]
  },
  {
   "cell_type": "code",
   "execution_count": 243,
   "metadata": {},
   "outputs": [],
   "source": [
    "# load by pandas\n",
    "import pandas as pd\n",
    "train_df = pd.read_json('../datasets/pubmed-dataset-copy/train.json', lines=True)\n",
    "val_df = pd.read_json('../datasets/pubmed-dataset-copy/val.json', lines=True)\n",
    "test_df = pd.read_json('../datasets/pubmed-dataset-copy/test.json', lines=True)"
   ]
  },
  {
   "cell_type": "markdown",
   "metadata": {},
   "source": [
    "* **Pubmed statistic:**\n",
    "  | Split | samples | \n",
    "  | --- | --- |\n",
    "  | Train | 119924 | \n",
    "  | Val | 6633 |\n",
    "  | Test | 6658 |\n",
    "\n",
    "* **a sample of vanilla dataset**\n",
    "  * labels seems to used for classification task, the labels of vanilla datasets are all None, i didn't do any processing.\n",
    "  \n",
    "  | article_id | article_text | abstract_text | labels | section_names | sections |\n",
    "  | --- | --- | --- | --- | --- | --- |\n",
    "  | str | List[str] | List[str] | None | List[str] | List[List[str]] |\n",
    "  | 'PMC3872579' | split by sentence<br>(似乎按照句子进行分割了, 如果要使用需要进行join) | ['<BOS> background : the present study was carried out to assess the effects of community nutrition intervention based on advocacy approach on malnutrition status among school - aged children in shiraz , iran.materials and methods : this case - control nutritional intervention has been done between 2008 and 2009 on 2897 primary and secondary school boys and girls ( 7 - 13 years old ) based on advocacy approach in shiraz , iran . </EOS>', <br> '<BOS> the project provided nutritious snacks in public schools over a 2-year period along with advocacy oriented actions in order to implement and promote nutritional intervention . for evaluation of effectiveness of the intervention growth monitoring indices of pre- and post - intervention were statistically compared.results:the frequency of subjects with body mass index lower than 5% decreased significantly after intervention among girls ( p = 0.02 ) . </EOS>', <br> '<BOS> however , there were no significant changes among boys or total population . </EOS>', <br> '<BOS> the mean of all anthropometric indices changed significantly after intervention both among girls and boys as well as in total population . </EOS>', <br> \"<BOS> the pre- and post - test education assessment in both groups showed that the student 's average knowledge score has been significantly increased from 12.5  3.2 to 16.8  4.3 ( p < 0.0001).conclusion : this study demonstrates the potential success and scalability of school feeding programs in iran . </EOS>\", <br> '<BOS> community nutrition intervention based on the advocacy process model is effective on reducing the prevalence of underweight specifically among female school aged children . </EOS>'] <br> 分割方式不明, 需要进行join并重新分割 | None | ['INTRODUCTION', <br>'MATERIALS AND METHODS', <br>'Participants'Instruments', <br>'Procedure', <br>'First step', <br>'Second step', <br>'Third step', <br>'Forth step', <br>'Interventions', <br>'Fifth step (assessment)', <br>'Data analysis', <br>'RESULTS', <br>'DISCUSSION', <br>'CONCLUSION'] <br><br>请注意METHODS包含了从Participants'Instruments到Data analysis的部分 | [<br>section[seq1, seq2, ...], <br>section[seq1, seq2, ...], <br>...] |\n",
    "  | reformat之后的格式 | --- | --- | --- | --- | --- |\n",
    "  | str | List[str] | list[str] | None | List[str] | List[str]|\n",
    "\n",
    "* **Final sample statistic after preprocessing**\n",
    "  | Split | samples | \n",
    "  | --- | --- |\n",
    "  | Train | 24793 | \n",
    "  | Val | 1398 |\n",
    "  | Test | 1429 |\n"
   ]
  },
  {
   "cell_type": "markdown",
   "metadata": {},
   "source": [
    "## 2. Dataset Preprocessing"
   ]
  },
  {
   "cell_type": "markdown",
   "metadata": {},
   "source": [
    "### 2.1 Keyword Table\n",
    "The summary(abstract) of pubmed dataset have not been split into multiple pieces, but luckily, it has section strutures so we could mannually process it by keyword matching.\n",
    "> reference: [GovReport](https://arxiv.org/pdf/2104.02112v2.pdf)\n",
    "> see page 18"
   ]
  },
  {
   "cell_type": "code",
   "execution_count": 7,
   "metadata": {},
   "outputs": [],
   "source": [
    "segmentation_keyword_table = {\n",
    "    # Introduction and Literature\n",
    "    'part_1': ['introduction', 'case', 'objectives', 'purposes', \n",
    "               'objective', 'purpose', 'background', 'literature',],\n",
    "    \n",
    "    # Methods\n",
    "    'part_2': ['material and methods',\n",
    "               'materials and methods', 'methods', 'techniques', 'methodology',\n",
    "               'materials', 'research design', 'study design'],\n",
    "    \n",
    "    # Results\n",
    "    'part_3': ['result', 'results', 'experiments', 'observations'],\n",
    "    \n",
    "    # Discussion and Conlusion\n",
    "    'part_4': ['discussion', 'limitation', 'conclusions', \n",
    "               'conclusion', 'concluding', 'comment', 'comments', \n",
    "               'summary', 'concluding remarks'],\n",
    "}"
   ]
  },
  {
   "cell_type": "markdown",
   "metadata": {},
   "source": [
    "## 2.2 Sections"
   ]
  },
  {
   "cell_type": "markdown",
   "metadata": {},
   "source": [
    "### 2.2.1 Concat sentences into one setence <br>(每一行是一个完整的sections, 由多个section组成, 其中每个section有多个句子, 需要进行合并)"
   ]
  },
  {
   "cell_type": "code",
   "execution_count": 8,
   "metadata": {},
   "outputs": [
    {
     "data": {
      "text/plain": [
       "[['a recent systematic analysis showed that in 2011 , 314 ( 296 - 331 ) million children younger than 5 years were mildly , moderately or severely stunted and 258 ( 240 - 274 ) million were mildly , moderately or severely underweight in the developing countries .',\n",
       "  'in iran a study among 752 high school girls in sistan and baluchestan showed prevalence of 16.2% , 8.6% and 1.5% , for underweight , overweight and obesity , respectively .',\n",
       "  'the prevalence of malnutrition among elementary school aged children in tehran varied from 6% to 16% .',\n",
       "  'anthropometric study of elementary school students in shiraz revealed that 16% of them suffer from malnutrition and low body weight .',\n",
       "  'snack should have 300 - 400 kcal energy and could provide 5 - 10 g of protein / day . nowadays , school nutrition programs are running as the national programs , world - wide . national school lunch program in the united states',\n",
       "  'there are also some reports regarding school feeding programs in developing countries . in vietnam ,',\n",
       "  'school base program showed an improvement in nutrient intakes . in iran a national free food program ( nffp )',\n",
       "  'is implemented in elementary schools of deprived areas to cover all poor students . however , this program is not conducted in slums and poor areas of the big cities so many malnourished children with low socio - economic situation are not covered by nffp . although the rate of poverty in areas known as deprived is higher than other areas , many students in deprived areas are not actually poor and can afford food .',\n",
       "  'hence , nutritional value of the nffp is lower than the scientific recommended snacks for this age group .',\n",
       "  'furthermore , lack of variety of food packages has decreased the tendency of children toward nffp . on the other hand ,',\n",
       "  'the most important one is ministry of education ( moe ) of iran , which is responsible for selecting and providing the packages for targeted schools .',\n",
       "  'the ministry of health ( moh ) is supervising the health situation of students and their health needs .',\n",
       "  'welfare organizations , along with charities , have the indirect effect on nutritional status of students by financial support of their family .',\n",
       "  'provincial governors have also the role of coordinating and supervising all activities of these organizations .',\n",
       "  \"parent - teacher association is a community - based institution that participates in school 's policy such as nffp .\",\n",
       "  'in addition to these organizations , nutritional literacy of students , their parents and teachers , is a very important issue , which could affect nutritional status of school age children .',\n",
       "  'therefore , the present study was conducted with the aim of improving the nffp , so that by its resources all poor children will be covered even in big cities .',\n",
       "  'moreover , all food packages were replaced by nutritious and diverse packages that were accessible for non - poor children . according to the aim of this study and multiple factors that could affect the problem ,',\n",
       "  'public health advocacy has been chosen as the best strategy to deal with this issue .',\n",
       "  'therefore , the present study determines the effects of nutrition intervention in an advocacy process model on the prevalence of underweight in school aged children in the poor area of shiraz , iran .'],\n",
       " ['this interventional study has been carried out between 2009 and 2010 in shiraz , iran .',\n",
       "  'this survey was approved by the research committee of shiraz university of medical sciences . in coordination with education organization of fars province',\n",
       "  'two elementary schools and one middle school in the third region of the urban area of shiraz were selected randomly . in those schools all',\n",
       "  'students ( 2897 , 7 - 13 years old ) were screened based on their body mass index ( bmi ) by nutritionists . according to convenience method all',\n",
       "  \"students divided to two groups based on their economic situation ; family revenue and head of household 's job and nutrition situation ; the first group were poor and malnourished students and the other group were well nourished or well - off students .\",\n",
       "  \"for this report , the children 's height and weight were entered into center for disease control and prevention ( cdc ) to calculate bmi and bmi - for - age z - scores based on cdc for diseases control and prevention and growth standards .\",\n",
       "  'the significance of the difference between proportions was calculated using two - tailed z - tests for independent proportions . for implementing the interventions ,',\n",
       "  'the advocacy process model weight was to the nearest 0.1 kg on a balance scale ( model # seca scale ) .',\n",
       "  'standing height was measured to the nearest 0.1 cm with a wall - mounted stadiometer .',\n",
       "  'advocacy group formation : this step was started with stakeholder analysis and identifying the stakeholders .',\n",
       "  'the team was formed with representatives of all stakeholders include ; education organization , welfare organization , deputy for health of shiraz university , food and cosmetic product supervisory office and several non - governmental organizations and charities . situation analysis : this was carried out by use of existing data such as formal report of organizations , literature review and focus group with experts .',\n",
       "  'the prevalence of malnutrition and its related factors among students was determined and weaknesses and strengths of the nffp were analyzed .',\n",
       "  'accordingly , three sub - groups were established : research and evaluation , education and justification and executive group . designing the strategies :',\n",
       "  'three strategies were identified ; education and justification campaign , nutritional intervention ( providing nutritious , safe and diverse snacks ) and networking . performing the interventions : interventions that were implementing in selected schools were providing a diverse and nutritious snack package along with nutrition education for both groups while the first group ( poor and malnourished students ) was utilized the package free of charge .',\n",
       "  'education and justification intervention : regarding the literature review and expert opinion , an educational group affiliated with the advocacy team has prepared educational booklets about nutritional information for each level ( degree ) .',\n",
       "  'accordingly , education of these booklets has been integrated into regular education of students and they educated and justified for better nutrition life - style .',\n",
       "  \"it leads the educational group to hold several meeting with the student 's parents to justify them about the project and its benefit for their children .\",\n",
       "  'after these meetings , parental desire for participation in the project illustrated the effectiveness of the justification meeting with them .',\n",
       "  'for educate fifteen talk show programs in tv and radio , 12 published papers in the local newspaper , have implemented to mobilize the community and gain their support .',\n",
       "  'healthy diet , the importance of breakfast and snack in adolescence , wrong food habits among school age children , role of the family to improve food habit of children were the main topics , in which media campaign has focused on .',\n",
       "  'nutritional intervention : the snack basket of the students was replaced with traditional , nutritious and diverse foods . in general , the new snack package in average has provided 380 kcal energy , 15 g protein along with sufficient calcium and iron .',\n",
       "  'low economic and malnourished children were supported by executive group affiliated with advocacy team and the rest of them prepare their snack by themselves .',\n",
       "  'research and evaluation : in this step , the literacy and anthropometric indices ( bmi ) of students were assessed before and after the interventions .',\n",
       "  'the reference for anthropometric measures was the world health organization / national center for health statistics ( who / nchs ) standards and the cut - offs were - two standard deviations ( sd ) from the mean .',\n",
       "  'each student that was malnourished and poor has been taken into account for free food and nutritious snacks .',\n",
       "  \"demographic information , height , weight and knowledge of the students were measured by use of a validated and reliable ( cronbach 's alpha was 0.61 ) questionnaire .\",\n",
       "  'this project is granted by shiraz university of medical sciences , charities and welfare organization and education organization of fars province .',\n",
       "  'statistical analyses were performed using the statistical package for the social sciences ( spss ) software , version 17.0 ( spss inc . ,',\n",
       "  'the results are expressed as mean  sd and proportions as appropriated . in order to determine the effective variables on the malnutrition status',\n",
       "  'paired t test was used to compare the end values with baseline ones in each group .',\n",
       "  'in this project , the who z - score cut - offs used were as follow : using bmi - for - age z - scores ; overweight : > + 1 sd , i.e. , z - score > 1 ( equivalent to bmi 25 kg / m ) , obesity : > + 2 sd ( equivalent to bmi 30 kg / m ) , thinness : < 2 sd and severe thinness : < 3 sd .'],\n",
       " ['this interventional study has been carried out between 2009 and 2010 in shiraz , iran .',\n",
       "  'this survey was approved by the research committee of shiraz university of medical sciences . in coordination with education organization of fars province',\n",
       "  'two elementary schools and one middle school in the third region of the urban area of shiraz were selected randomly . in those schools all',\n",
       "  'students ( 2897 , 7 - 13 years old ) were screened based on their body mass index ( bmi ) by nutritionists . according to convenience method all',\n",
       "  \"students divided to two groups based on their economic situation ; family revenue and head of household 's job and nutrition situation ; the first group were poor and malnourished students and the other group were well nourished or well - off students .\",\n",
       "  \"for this report , the children 's height and weight were entered into center for disease control and prevention ( cdc ) to calculate bmi and bmi - for - age z - scores based on cdc for diseases control and prevention and growth standards .\",\n",
       "  'the significance of the difference between proportions was calculated using two - tailed z - tests for independent proportions . for implementing the interventions ,'],\n",
       " ['weight was to the nearest 0.1 kg on a balance scale ( model # seca scale ) .',\n",
       "  'standing height was measured to the nearest 0.1 cm with a wall - mounted stadiometer .'],\n",
       " ['advocacy group formation : this step was started with stakeholder analysis and identifying the stakeholders .',\n",
       "  'the team was formed with representatives of all stakeholders include ; education organization , welfare organization , deputy for health of shiraz university , food and cosmetic product supervisory office and several non - governmental organizations and charities . situation analysis : this was carried out by use of existing data such as formal report of organizations , literature review and focus group with experts .',\n",
       "  'the prevalence of malnutrition and its related factors among students was determined and weaknesses and strengths of the nffp were analyzed .',\n",
       "  'accordingly , three sub - groups were established : research and evaluation , education and justification and executive group . designing the strategies :',\n",
       "  'three strategies were identified ; education and justification campaign , nutritional intervention ( providing nutritious , safe and diverse snacks ) and networking . performing the interventions : interventions that were implementing in selected schools were providing a diverse and nutritious snack package along with nutrition education for both groups while the first group ( poor and malnourished students ) was utilized the package free of charge . duration of intervention was 6 months .',\n",
       "  'education and justification intervention : regarding the literature review and expert opinion , an educational group affiliated with the advocacy team has prepared educational booklets about nutritional information for each level ( degree ) .',\n",
       "  \"accordingly , education of these booklets has been integrated into regular education of students and they educated and justified for better nutrition life - style . obviously , student 's families had remarkable effect on children 's food habit .\",\n",
       "  \"it leads the educational group to hold several meeting with the student 's parents to justify them about the project and its benefit for their children .\",\n",
       "  'after these meetings , parental desire for participation in the project illustrated the effectiveness of the justification meeting with them .',\n",
       "  'educate fifteen talk show programs in tv and radio , 12 published papers in the local newspaper , have implemented to mobilize the community and gain their support .',\n",
       "  'healthy diet , the importance of breakfast and snack in adolescence , wrong food habits among school age children , role of the family to improve food habit of children were the main topics , in which media campaign has focused on .',\n",
       "  'nutritional intervention : the snack basket of the students was replaced with traditional , nutritious and diverse foods . in general , the new snack package in average has provided 380 kcal energy , 15 g protein along with sufficient calcium and iron .',\n",
       "  'low economic and malnourished children were supported by executive group affiliated with advocacy team and the rest of them prepare their snack by themselves .',\n",
       "  'research and evaluation : in this step , the literacy and anthropometric indices ( bmi ) of students were assessed before and after the interventions .',\n",
       "  'the reference for anthropometric measures was the world health organization / national center for health statistics ( who / nchs ) standards and the cut - offs were - two standard deviations ( sd ) from the mean .',\n",
       "  'each student that was malnourished and poor has been taken into account for free food and nutritious snacks .',\n",
       "  \"demographic information , height , weight and knowledge of the students were measured by use of a validated and reliable ( cronbach 's alpha was 0.61 ) questionnaire .\",\n",
       "  'this project is granted by shiraz university of medical sciences , charities and welfare organization and education organization of fars province .'],\n",
       " ['advocacy group formation : this step was started with stakeholder analysis and identifying the stakeholders .',\n",
       "  'the team was formed with representatives of all stakeholders include ; education organization , welfare organization , deputy for health of shiraz university , food and cosmetic product supervisory office and several non - governmental organizations and charities .'],\n",
       " ['situation analysis : this was carried out by use of existing data such as formal report of organizations , literature review and focus group with experts .',\n",
       "  'the prevalence of malnutrition and its related factors among students was determined and weaknesses and strengths of the nffp were analyzed .',\n",
       "  'accordingly , three sub - groups were established : research and evaluation , education and justification and executive group .'],\n",
       " ['designing the strategies : three strategies were identified ; education and justification campaign , nutritional intervention ( providing nutritious , safe and diverse snacks ) and networking .'],\n",
       " ['performing the interventions : interventions that were implementing in selected schools were providing a diverse and nutritious snack package along with nutrition education for both groups while the first group ( poor and malnourished students ) was utilized the package free of charge .'],\n",
       " ['education and justification intervention : regarding the literature review and expert opinion , an educational group affiliated with the advocacy team has prepared educational booklets about nutritional information for each level ( degree ) .',\n",
       "  \"accordingly , education of these booklets has been integrated into regular education of students and they educated and justified for better nutrition life - style . obviously , student 's families had remarkable effect on children 's food habit .\",\n",
       "  \"it leads the educational group to hold several meeting with the student 's parents to justify them about the project and its benefit for their children .\",\n",
       "  'after these meetings , parental desire for participation in the project illustrated the effectiveness of the justification meeting with them .',\n",
       "  'educate fifteen talk show programs in tv and radio , 12 published papers in the local newspaper , have implemented to mobilize the community and gain their support .',\n",
       "  'healthy diet , the importance of breakfast and snack in adolescence , wrong food habits among school age children , role of the family to improve food habit of children were the main topics , in which media campaign has focused on . nutritional intervention : the snack basket of the students',\n",
       "  'was replaced with traditional , nutritious and diverse foods . in general , the new snack package in average has provided 380 kcal energy , 15 g protein along with sufficient calcium and iron .',\n",
       "  'low economic and malnourished children were supported by executive group affiliated with advocacy team and the rest of them prepare their snack by themselves .'],\n",
       " ['research and evaluation : in this step , the literacy and anthropometric indices ( bmi ) of students were assessed before and after the interventions .',\n",
       "  'the reference for anthropometric measures was the world health organization / national center for health statistics ( who / nchs ) standards and the cut - offs were - two standard deviations ( sd ) from the mean .',\n",
       "  'each student that was malnourished and poor has been taken into account for free food and nutritious snacks .',\n",
       "  \"demographic information , height , weight and knowledge of the students were measured by use of a validated and reliable ( cronbach 's alpha was 0.61 ) questionnaire .\",\n",
       "  'this project is granted by shiraz university of medical sciences , charities and welfare organization and education organization of fars province .'],\n",
       " ['statistical analyses were performed using the statistical package for the social sciences ( spss ) software , version 17.0 ( spss inc . , chicago , il , usa ) .',\n",
       "  'the results are expressed as mean  sd and proportions as appropriated . in order to determine the effective variables on the malnutrition status',\n",
       "  'paired t test was used to compare the end values with baseline ones in each group .',\n",
       "  'two - sided p < 0.05 was considered to be statistically significant . in this project ,',\n",
       "  'the who z - score cut - offs used were as follow : using bmi - for - age z - scores ; overweight : > + 1 sd , i.e. , z - score > 1 ( equivalent to bmi 25 kg / m ) , obesity : > + 2 sd ( equivalent to bmi 30',\n",
       "  'kg / m ) , thinness : < 2 sd and severe thinness : < 3 sd .'],\n",
       " ['study population contains 2897 children ; 70.8% were primary school students and 29.2% were secondary school students .',\n",
       "  '2336 ( 80.5% ) out of total students were well - off and 561 children ( 19.5% ) were indigent .',\n",
       "  '19.5% of subjects were in case group ( n = 561 ) and 80.5% were in the control group ( n = 2336 ) .',\n",
       "  'the mean of age in welfare group was 10.0  2.3 and 10.5  2.5 in non - welfare group .',\n",
       "  'demographic characteristics of school aged children in shiraz , iran table 2 shows the frequency of subjects in different categories of bmi for age in non - welfare and welfare groups of school aged children separately among boys and girls before and after a nutrition intervention based on advocacy process model in shiraz , iran .',\n",
       "  'the frequency of subjects with bmi lower than < 2 sd decreased significantly after intervention among non - welfare girls ( p < 0.01 ) .',\n",
       "  'however , there were no significant decreases in the frequency of subjects with bmi lower than < 2 sd boys .',\n",
       "  'when we assess the effect of intervention in total population without separating by sex groups , we found no significant change in this population [ table 3 ] .',\n",
       "  'bmi for age for iranian students aged 7 - 14 years based on gender according to who growth standards 2007 bmi for age for iranian students aged 7 - 14 years according to who growth standards 2007 in non - welfare and welfare groups of total population table 4 has shown the prevalence of normal bmi , mild , moderate and severe malnutrition in non - welfare and welfare groups of school aged children separately among boys and girls before and after a nutrition intervention based on advocacy process model . according to this table',\n",
       "  'there were no significant differences in the prevalence of mild , moderate and severe malnutrition among girls and boys .',\n",
       "  'table 4 also shows the mean of all anthropometric indices changed significantly after intervention both among girls and boys .',\n",
       "  \"the pre- and post - test education assessment in both groups showed that the student 's average knowledge score has been significantly increased from 12.5  3.2 to 16.8  4.3 ( p < 0.0001 ) .\",\n",
       "  \"bmi , height and weight in non - welfare and welfare groups of school aged children separately in males and females before and after a nutrition intervention based on advocacy process model in shiraz , iran according to study 's finding the odds ratio ( or ) of sever thinness and thinness in non - welfare compared with welfare is 3.5 ( or = 3.5 , confidence interval [ ci ] = 2.5 - 3.9 , p < 0.001 ) .\",\n",
       "  'furthermore , the finding showed or of overweight and obesity in welfare compared to non - welfare is 19.3 ( or = 19.3 , ci = 2.5 - 3.9 , p = 0.04 ) .'],\n",
       " ['the result of this community intervention study revealed that nutrition intervention based on advocacy program had been successful to reduce the prevalence of underweight among poor girls .',\n",
       "  'this study shows determinant factor of nutritional status of school age children was their socio - economic level . according to our knowledge ,',\n",
       "  'this is the first study , which determines the effect of a community intervention based on advocacy process on the malnutrition indices in a big city ( shiraz ) in iran .',\n",
       "  'the other program in iran ( nffp ) is specified to deprived area and is not conducted in big cities .',\n",
       "  \"allocating millions of dollars to nffp by government , selecting the malnourished students through an active screening system at primary and middle schools , paying attention of policy makers to student 's nutrition have provided the opportunity to combat the problem . however , negligence of under - poverty line , providing poor snacks in terms of nutritional value and lack of variety are the main defects of this program .\",\n",
       "  'advocacy by definition is a blending of science , ethics and politics for comprehensive approaching health issues . by using advocacy program in california among the high school students for improving their nutrition and physical activity',\n",
       "  'angeles unified school district participants emphasized on nutrition classes for families as well as students in addition to other interventions . in the present study',\n",
       "  'another study revealed that evaluability assessment gave stakeholders the opportunity to reflect on the project and its implementation issues .',\n",
       "  'it seems that in iran , free food program among the students not only is needed in deprived areas , but also it should be performed in big cities such as shiraz . at baseline ,',\n",
       "  'no significant difference was founded among wealthy students between the pre- and post - nutritional status intervention .',\n",
       "  'in contrast , the numbers of students who have malnutrition decreased from 44% to 39.4% , which was identified as a significant among impecunious girls students .',\n",
       "  'there was also a significant increase in the proportion of children with bmi that was normal for age ( 2 to + 1 sd ) most of the published community interventions showed better results among females compared with males .',\n",
       "  'this difference in the impact of nutritional interventions between male and female might be related to the different age of puberty in the female population compared to the male population . in the age range of the present study female',\n",
       "  'although , there is no nffp in big cities of iran , there are some programs for improving the nutritional status such as providing free milk in schools .',\n",
       "  'a recent publication has shown that school feeding programs focus on milk supplementation had beneficial effects on the physical function and school performances specifically among girls in iran .',\n",
       "  \"the results of the mentioned study showed an improvement in the weight of children , psychological test 's scores and the grade - point average following this school feeding program .\",\n",
       "  'the intervention in the present study had focused on the snack intake in the school time .',\n",
       "  'there are some reports regarding the nutrition transition in iran , which shows the importance of nutrition intervention to provide more healthy eating dietary habits among welfare groups of adolescents .',\n",
       "  \"hence , nutrition intervention especially in the form of nutrition education is needed in big cities and among welfare children and adolescents . although a study among iranian adolescents showed that dietary behavior of adolescents does not accord to their knowledge , which emphasize on the necessity of community intervention programs . a recent study regarding the major dietary pattern among iranian children showed the presence of four major dietary patterns , in which fast food pattern and sweet pattern as two major dietary patterns can be mentioned among iranian children . in advocacy program audience 's analysis\",\n",
       "  'accordingly , one of the prominent strategies in this study was working with media and was meeting with parent - teacher association that both of them were secondary target audiences',\n",
       "  '. we also took into account policy makers in different levels , from national to local as primary audiences .',\n",
       "  'advocacy team had several meetings with management and planning organization at national level and education organization of the fars province as well as principal of the targeted schools .',\n",
       "  'providing nutritious snacks need contribution of private sector such as food industries or factories , but their benefits should be warranted .',\n",
       "  'another choice was community involvement ; which can be achieved by female health volunteers who are working with the health system .',\n",
       "  \"advocacy team by using the support of charities and female health volunteers could establish a local factory that produced student 's snacks based on the new definition . however , there are some challenges on the way of expanding this program .\",\n",
       "  'mass production of the proposed snacks according to different desires and cultures and getting involvement of food industries with respect to marketing issues is one of those challenges .',\n",
       "  'moreover , providing a supportive environment in order to change the food habits of the students and their parents among the wide range of the population require a sustainable and continuous inter - sector collaboration .',\n",
       "  'although in a limited number of schools , in our study , interventions and advocacy program was successful , expanding this model to another areas around the country depends on convincing the policy makers at national level . in this',\n",
       "  'regard , advocacy team should prepare evidenced based profile and transitional planning to convince the policy makers for improving the rule and regulation of nffp .',\n",
       "  'the same as this study in other studies have also emphasized that there must be efforts to strengthen the capacity within the schools to deal with the nutritional problems either overweight , obesity or malnutrition by using of educational and nutritional intervention .',\n",
       "  \"assessing the dietary adherence is very important in nutrition intervention among population . as this population was children and adolescents we had a limitation in the blood sample collection to assess the subject 's dietary adherence .\",\n",
       "  'furthermore , this intervention was only focused on the intake of snack in school time and we did not have comprehensive information on the dietary intake of children and adolescents after school all over the day .',\n",
       "  'the investigators propose further investigation in different areas of the country based on socio - cultural differences in order to make necessary modification and adapt this model to other areas .',\n",
       "  'regarding the nutritional needs of the school age children , provision of a good platform for implementing and expanding this efficient model to the whole country based upon the socio - economic situation of each region is advisable to the moh and the moe .'],\n",
       " ['community nutrition intervention based on the advocacy process model is effective on reducing the prevalence of underweight specifically among female school aged children .']]"
      ]
     },
     "execution_count": 8,
     "metadata": {},
     "output_type": "execute_result"
    }
   ],
   "source": [
    "train_df['sections'][0]"
   ]
  },
  {
   "cell_type": "code",
   "execution_count": 9,
   "metadata": {},
   "outputs": [],
   "source": [
    "def sec_join(df):\n",
    "    # 每一行\n",
    "    sample_list = []\n",
    "    for sample in df['sections']:\n",
    "        # 每一个sample的每一个section\n",
    "        sections = []\n",
    "        for section in sample: \n",
    "            temp = \" \".join(section)\n",
    "            sections.append(temp)\n",
    "        \n",
    "        sample_list.append(sections)\n",
    "    \n",
    "    return sample_list"
   ]
  },
  {
   "cell_type": "code",
   "execution_count": null,
   "metadata": {},
   "outputs": [],
   "source": [
    "for dataset in [train_df, val_df, test_df]:\n",
    "    dataset['sections'] = sec_join(dataset)"
   ]
  },
  {
   "cell_type": "code",
   "execution_count": 13,
   "metadata": {},
   "outputs": [
    {
     "data": {
      "text/plain": [
       "[\"a recent systematic analysis showed that in 2011 , 314 ( 296 - 331 ) million children younger than 5 years were mildly , moderately or severely stunted and 258 ( 240 - 274 ) million were mildly , moderately or severely underweight in the developing countries . in iran a study among 752 high school girls in sistan and baluchestan showed prevalence of 16.2% , 8.6% and 1.5% , for underweight , overweight and obesity , respectively . the prevalence of malnutrition among elementary school aged children in tehran varied from 6% to 16% . anthropometric study of elementary school students in shiraz revealed that 16% of them suffer from malnutrition and low body weight . snack should have 300 - 400 kcal energy and could provide 5 - 10 g of protein / day . nowadays , school nutrition programs are running as the national programs , world - wide . national school lunch program in the united states there are also some reports regarding school feeding programs in developing countries . in vietnam , school base program showed an improvement in nutrient intakes . in iran a national free food program ( nffp ) is implemented in elementary schools of deprived areas to cover all poor students . however , this program is not conducted in slums and poor areas of the big cities so many malnourished children with low socio - economic situation are not covered by nffp . although the rate of poverty in areas known as deprived is higher than other areas , many students in deprived areas are not actually poor and can afford food . hence , nutritional value of the nffp is lower than the scientific recommended snacks for this age group . furthermore , lack of variety of food packages has decreased the tendency of children toward nffp . on the other hand , the most important one is ministry of education ( moe ) of iran , which is responsible for selecting and providing the packages for targeted schools . the ministry of health ( moh ) is supervising the health situation of students and their health needs . welfare organizations , along with charities , have the indirect effect on nutritional status of students by financial support of their family . provincial governors have also the role of coordinating and supervising all activities of these organizations . parent - teacher association is a community - based institution that participates in school 's policy such as nffp . in addition to these organizations , nutritional literacy of students , their parents and teachers , is a very important issue , which could affect nutritional status of school age children . therefore , the present study was conducted with the aim of improving the nffp , so that by its resources all poor children will be covered even in big cities . moreover , all food packages were replaced by nutritious and diverse packages that were accessible for non - poor children . according to the aim of this study and multiple factors that could affect the problem , public health advocacy has been chosen as the best strategy to deal with this issue . therefore , the present study determines the effects of nutrition intervention in an advocacy process model on the prevalence of underweight in school aged children in the poor area of shiraz , iran .\",\n",
       " \"this interventional study has been carried out between 2009 and 2010 in shiraz , iran . this survey was approved by the research committee of shiraz university of medical sciences . in coordination with education organization of fars province two elementary schools and one middle school in the third region of the urban area of shiraz were selected randomly . in those schools all students ( 2897 , 7 - 13 years old ) were screened based on their body mass index ( bmi ) by nutritionists . according to convenience method all students divided to two groups based on their economic situation ; family revenue and head of household 's job and nutrition situation ; the first group were poor and malnourished students and the other group were well nourished or well - off students . for this report , the children 's height and weight were entered into center for disease control and prevention ( cdc ) to calculate bmi and bmi - for - age z - scores based on cdc for diseases control and prevention and growth standards . the significance of the difference between proportions was calculated using two - tailed z - tests for independent proportions . for implementing the interventions , the advocacy process model weight was to the nearest 0.1 kg on a balance scale ( model # seca scale ) . standing height was measured to the nearest 0.1 cm with a wall - mounted stadiometer . advocacy group formation : this step was started with stakeholder analysis and identifying the stakeholders . the team was formed with representatives of all stakeholders include ; education organization , welfare organization , deputy for health of shiraz university , food and cosmetic product supervisory office and several non - governmental organizations and charities . situation analysis : this was carried out by use of existing data such as formal report of organizations , literature review and focus group with experts . the prevalence of malnutrition and its related factors among students was determined and weaknesses and strengths of the nffp were analyzed . accordingly , three sub - groups were established : research and evaluation , education and justification and executive group . designing the strategies : three strategies were identified ; education and justification campaign , nutritional intervention ( providing nutritious , safe and diverse snacks ) and networking . performing the interventions : interventions that were implementing in selected schools were providing a diverse and nutritious snack package along with nutrition education for both groups while the first group ( poor and malnourished students ) was utilized the package free of charge . education and justification intervention : regarding the literature review and expert opinion , an educational group affiliated with the advocacy team has prepared educational booklets about nutritional information for each level ( degree ) . accordingly , education of these booklets has been integrated into regular education of students and they educated and justified for better nutrition life - style . it leads the educational group to hold several meeting with the student 's parents to justify them about the project and its benefit for their children . after these meetings , parental desire for participation in the project illustrated the effectiveness of the justification meeting with them . for educate fifteen talk show programs in tv and radio , 12 published papers in the local newspaper , have implemented to mobilize the community and gain their support . healthy diet , the importance of breakfast and snack in adolescence , wrong food habits among school age children , role of the family to improve food habit of children were the main topics , in which media campaign has focused on . nutritional intervention : the snack basket of the students was replaced with traditional , nutritious and diverse foods . in general , the new snack package in average has provided 380 kcal energy , 15 g protein along with sufficient calcium and iron . low economic and malnourished children were supported by executive group affiliated with advocacy team and the rest of them prepare their snack by themselves . research and evaluation : in this step , the literacy and anthropometric indices ( bmi ) of students were assessed before and after the interventions . the reference for anthropometric measures was the world health organization / national center for health statistics ( who / nchs ) standards and the cut - offs were - two standard deviations ( sd ) from the mean . each student that was malnourished and poor has been taken into account for free food and nutritious snacks . demographic information , height , weight and knowledge of the students were measured by use of a validated and reliable ( cronbach 's alpha was 0.61 ) questionnaire . this project is granted by shiraz university of medical sciences , charities and welfare organization and education organization of fars province . statistical analyses were performed using the statistical package for the social sciences ( spss ) software , version 17.0 ( spss inc . , the results are expressed as mean  sd and proportions as appropriated . in order to determine the effective variables on the malnutrition status paired t test was used to compare the end values with baseline ones in each group . in this project , the who z - score cut - offs used were as follow : using bmi - for - age z - scores ; overweight : > + 1 sd , i.e. , z - score > 1 ( equivalent to bmi 25 kg / m ) , obesity : > + 2 sd ( equivalent to bmi 30 kg / m ) , thinness : < 2 sd and severe thinness : < 3 sd .\",\n",
       " \"this interventional study has been carried out between 2009 and 2010 in shiraz , iran . this survey was approved by the research committee of shiraz university of medical sciences . in coordination with education organization of fars province two elementary schools and one middle school in the third region of the urban area of shiraz were selected randomly . in those schools all students ( 2897 , 7 - 13 years old ) were screened based on their body mass index ( bmi ) by nutritionists . according to convenience method all students divided to two groups based on their economic situation ; family revenue and head of household 's job and nutrition situation ; the first group were poor and malnourished students and the other group were well nourished or well - off students . for this report , the children 's height and weight were entered into center for disease control and prevention ( cdc ) to calculate bmi and bmi - for - age z - scores based on cdc for diseases control and prevention and growth standards . the significance of the difference between proportions was calculated using two - tailed z - tests for independent proportions . for implementing the interventions ,\",\n",
       " 'weight was to the nearest 0.1 kg on a balance scale ( model # seca scale ) . standing height was measured to the nearest 0.1 cm with a wall - mounted stadiometer .',\n",
       " \"advocacy group formation : this step was started with stakeholder analysis and identifying the stakeholders . the team was formed with representatives of all stakeholders include ; education organization , welfare organization , deputy for health of shiraz university , food and cosmetic product supervisory office and several non - governmental organizations and charities . situation analysis : this was carried out by use of existing data such as formal report of organizations , literature review and focus group with experts . the prevalence of malnutrition and its related factors among students was determined and weaknesses and strengths of the nffp were analyzed . accordingly , three sub - groups were established : research and evaluation , education and justification and executive group . designing the strategies : three strategies were identified ; education and justification campaign , nutritional intervention ( providing nutritious , safe and diverse snacks ) and networking . performing the interventions : interventions that were implementing in selected schools were providing a diverse and nutritious snack package along with nutrition education for both groups while the first group ( poor and malnourished students ) was utilized the package free of charge . duration of intervention was 6 months . education and justification intervention : regarding the literature review and expert opinion , an educational group affiliated with the advocacy team has prepared educational booklets about nutritional information for each level ( degree ) . accordingly , education of these booklets has been integrated into regular education of students and they educated and justified for better nutrition life - style . obviously , student 's families had remarkable effect on children 's food habit . it leads the educational group to hold several meeting with the student 's parents to justify them about the project and its benefit for their children . after these meetings , parental desire for participation in the project illustrated the effectiveness of the justification meeting with them . educate fifteen talk show programs in tv and radio , 12 published papers in the local newspaper , have implemented to mobilize the community and gain their support . healthy diet , the importance of breakfast and snack in adolescence , wrong food habits among school age children , role of the family to improve food habit of children were the main topics , in which media campaign has focused on . nutritional intervention : the snack basket of the students was replaced with traditional , nutritious and diverse foods . in general , the new snack package in average has provided 380 kcal energy , 15 g protein along with sufficient calcium and iron . low economic and malnourished children were supported by executive group affiliated with advocacy team and the rest of them prepare their snack by themselves . research and evaluation : in this step , the literacy and anthropometric indices ( bmi ) of students were assessed before and after the interventions . the reference for anthropometric measures was the world health organization / national center for health statistics ( who / nchs ) standards and the cut - offs were - two standard deviations ( sd ) from the mean . each student that was malnourished and poor has been taken into account for free food and nutritious snacks . demographic information , height , weight and knowledge of the students were measured by use of a validated and reliable ( cronbach 's alpha was 0.61 ) questionnaire . this project is granted by shiraz university of medical sciences , charities and welfare organization and education organization of fars province .\",\n",
       " 'advocacy group formation : this step was started with stakeholder analysis and identifying the stakeholders . the team was formed with representatives of all stakeholders include ; education organization , welfare organization , deputy for health of shiraz university , food and cosmetic product supervisory office and several non - governmental organizations and charities .',\n",
       " 'situation analysis : this was carried out by use of existing data such as formal report of organizations , literature review and focus group with experts . the prevalence of malnutrition and its related factors among students was determined and weaknesses and strengths of the nffp were analyzed . accordingly , three sub - groups were established : research and evaluation , education and justification and executive group .',\n",
       " 'designing the strategies : three strategies were identified ; education and justification campaign , nutritional intervention ( providing nutritious , safe and diverse snacks ) and networking .',\n",
       " 'performing the interventions : interventions that were implementing in selected schools were providing a diverse and nutritious snack package along with nutrition education for both groups while the first group ( poor and malnourished students ) was utilized the package free of charge .',\n",
       " \"education and justification intervention : regarding the literature review and expert opinion , an educational group affiliated with the advocacy team has prepared educational booklets about nutritional information for each level ( degree ) . accordingly , education of these booklets has been integrated into regular education of students and they educated and justified for better nutrition life - style . obviously , student 's families had remarkable effect on children 's food habit . it leads the educational group to hold several meeting with the student 's parents to justify them about the project and its benefit for their children . after these meetings , parental desire for participation in the project illustrated the effectiveness of the justification meeting with them . educate fifteen talk show programs in tv and radio , 12 published papers in the local newspaper , have implemented to mobilize the community and gain their support . healthy diet , the importance of breakfast and snack in adolescence , wrong food habits among school age children , role of the family to improve food habit of children were the main topics , in which media campaign has focused on . nutritional intervention : the snack basket of the students was replaced with traditional , nutritious and diverse foods . in general , the new snack package in average has provided 380 kcal energy , 15 g protein along with sufficient calcium and iron . low economic and malnourished children were supported by executive group affiliated with advocacy team and the rest of them prepare their snack by themselves .\",\n",
       " \"research and evaluation : in this step , the literacy and anthropometric indices ( bmi ) of students were assessed before and after the interventions . the reference for anthropometric measures was the world health organization / national center for health statistics ( who / nchs ) standards and the cut - offs were - two standard deviations ( sd ) from the mean . each student that was malnourished and poor has been taken into account for free food and nutritious snacks . demographic information , height , weight and knowledge of the students were measured by use of a validated and reliable ( cronbach 's alpha was 0.61 ) questionnaire . this project is granted by shiraz university of medical sciences , charities and welfare organization and education organization of fars province .\",\n",
       " 'statistical analyses were performed using the statistical package for the social sciences ( spss ) software , version 17.0 ( spss inc . , chicago , il , usa ) . the results are expressed as mean  sd and proportions as appropriated . in order to determine the effective variables on the malnutrition status paired t test was used to compare the end values with baseline ones in each group . two - sided p < 0.05 was considered to be statistically significant . in this project , the who z - score cut - offs used were as follow : using bmi - for - age z - scores ; overweight : > + 1 sd , i.e. , z - score > 1 ( equivalent to bmi 25 kg / m ) , obesity : > + 2 sd ( equivalent to bmi 30 kg / m ) , thinness : < 2 sd and severe thinness : < 3 sd .',\n",
       " \"study population contains 2897 children ; 70.8% were primary school students and 29.2% were secondary school students . 2336 ( 80.5% ) out of total students were well - off and 561 children ( 19.5% ) were indigent . 19.5% of subjects were in case group ( n = 561 ) and 80.5% were in the control group ( n = 2336 ) . the mean of age in welfare group was 10.0  2.3 and 10.5  2.5 in non - welfare group . demographic characteristics of school aged children in shiraz , iran table 2 shows the frequency of subjects in different categories of bmi for age in non - welfare and welfare groups of school aged children separately among boys and girls before and after a nutrition intervention based on advocacy process model in shiraz , iran . the frequency of subjects with bmi lower than < 2 sd decreased significantly after intervention among non - welfare girls ( p < 0.01 ) . however , there were no significant decreases in the frequency of subjects with bmi lower than < 2 sd boys . when we assess the effect of intervention in total population without separating by sex groups , we found no significant change in this population [ table 3 ] . bmi for age for iranian students aged 7 - 14 years based on gender according to who growth standards 2007 bmi for age for iranian students aged 7 - 14 years according to who growth standards 2007 in non - welfare and welfare groups of total population table 4 has shown the prevalence of normal bmi , mild , moderate and severe malnutrition in non - welfare and welfare groups of school aged children separately among boys and girls before and after a nutrition intervention based on advocacy process model . according to this table there were no significant differences in the prevalence of mild , moderate and severe malnutrition among girls and boys . table 4 also shows the mean of all anthropometric indices changed significantly after intervention both among girls and boys . the pre- and post - test education assessment in both groups showed that the student 's average knowledge score has been significantly increased from 12.5  3.2 to 16.8  4.3 ( p < 0.0001 ) . bmi , height and weight in non - welfare and welfare groups of school aged children separately in males and females before and after a nutrition intervention based on advocacy process model in shiraz , iran according to study 's finding the odds ratio ( or ) of sever thinness and thinness in non - welfare compared with welfare is 3.5 ( or = 3.5 , confidence interval [ ci ] = 2.5 - 3.9 , p < 0.001 ) . furthermore , the finding showed or of overweight and obesity in welfare compared to non - welfare is 19.3 ( or = 19.3 , ci = 2.5 - 3.9 , p = 0.04 ) .\",\n",
       " \"the result of this community intervention study revealed that nutrition intervention based on advocacy program had been successful to reduce the prevalence of underweight among poor girls . this study shows determinant factor of nutritional status of school age children was their socio - economic level . according to our knowledge , this is the first study , which determines the effect of a community intervention based on advocacy process on the malnutrition indices in a big city ( shiraz ) in iran . the other program in iran ( nffp ) is specified to deprived area and is not conducted in big cities . allocating millions of dollars to nffp by government , selecting the malnourished students through an active screening system at primary and middle schools , paying attention of policy makers to student 's nutrition have provided the opportunity to combat the problem . however , negligence of under - poverty line , providing poor snacks in terms of nutritional value and lack of variety are the main defects of this program . advocacy by definition is a blending of science , ethics and politics for comprehensive approaching health issues . by using advocacy program in california among the high school students for improving their nutrition and physical activity angeles unified school district participants emphasized on nutrition classes for families as well as students in addition to other interventions . in the present study another study revealed that evaluability assessment gave stakeholders the opportunity to reflect on the project and its implementation issues . it seems that in iran , free food program among the students not only is needed in deprived areas , but also it should be performed in big cities such as shiraz . at baseline , no significant difference was founded among wealthy students between the pre- and post - nutritional status intervention . in contrast , the numbers of students who have malnutrition decreased from 44% to 39.4% , which was identified as a significant among impecunious girls students . there was also a significant increase in the proportion of children with bmi that was normal for age ( 2 to + 1 sd ) most of the published community interventions showed better results among females compared with males . this difference in the impact of nutritional interventions between male and female might be related to the different age of puberty in the female population compared to the male population . in the age range of the present study female although , there is no nffp in big cities of iran , there are some programs for improving the nutritional status such as providing free milk in schools . a recent publication has shown that school feeding programs focus on milk supplementation had beneficial effects on the physical function and school performances specifically among girls in iran . the results of the mentioned study showed an improvement in the weight of children , psychological test 's scores and the grade - point average following this school feeding program . the intervention in the present study had focused on the snack intake in the school time . there are some reports regarding the nutrition transition in iran , which shows the importance of nutrition intervention to provide more healthy eating dietary habits among welfare groups of adolescents . hence , nutrition intervention especially in the form of nutrition education is needed in big cities and among welfare children and adolescents . although a study among iranian adolescents showed that dietary behavior of adolescents does not accord to their knowledge , which emphasize on the necessity of community intervention programs . a recent study regarding the major dietary pattern among iranian children showed the presence of four major dietary patterns , in which fast food pattern and sweet pattern as two major dietary patterns can be mentioned among iranian children . in advocacy program audience 's analysis accordingly , one of the prominent strategies in this study was working with media and was meeting with parent - teacher association that both of them were secondary target audiences . we also took into account policy makers in different levels , from national to local as primary audiences . advocacy team had several meetings with management and planning organization at national level and education organization of the fars province as well as principal of the targeted schools . providing nutritious snacks need contribution of private sector such as food industries or factories , but their benefits should be warranted . another choice was community involvement ; which can be achieved by female health volunteers who are working with the health system . advocacy team by using the support of charities and female health volunteers could establish a local factory that produced student 's snacks based on the new definition . however , there are some challenges on the way of expanding this program . mass production of the proposed snacks according to different desires and cultures and getting involvement of food industries with respect to marketing issues is one of those challenges . moreover , providing a supportive environment in order to change the food habits of the students and their parents among the wide range of the population require a sustainable and continuous inter - sector collaboration . although in a limited number of schools , in our study , interventions and advocacy program was successful , expanding this model to another areas around the country depends on convincing the policy makers at national level . in this regard , advocacy team should prepare evidenced based profile and transitional planning to convince the policy makers for improving the rule and regulation of nffp . the same as this study in other studies have also emphasized that there must be efforts to strengthen the capacity within the schools to deal with the nutritional problems either overweight , obesity or malnutrition by using of educational and nutritional intervention . assessing the dietary adherence is very important in nutrition intervention among population . as this population was children and adolescents we had a limitation in the blood sample collection to assess the subject 's dietary adherence . furthermore , this intervention was only focused on the intake of snack in school time and we did not have comprehensive information on the dietary intake of children and adolescents after school all over the day . the investigators propose further investigation in different areas of the country based on socio - cultural differences in order to make necessary modification and adapt this model to other areas . regarding the nutritional needs of the school age children , provision of a good platform for implementing and expanding this efficient model to the whole country based upon the socio - economic situation of each region is advisable to the moh and the moe .\",\n",
       " 'community nutrition intervention based on the advocacy process model is effective on reducing the prevalence of underweight specifically among female school aged children .']"
      ]
     },
     "execution_count": 13,
     "metadata": {},
     "output_type": "execute_result"
    }
   ],
   "source": [
    "train_df.iloc[0]['sections']"
   ]
  },
  {
   "cell_type": "markdown",
   "metadata": {},
   "source": [
    "### 2.2.2 删除空行（包括None）"
   ]
  },
  {
   "cell_type": "markdown",
   "metadata": {},
   "source": [
    "* 删除labels列, 原数据集里就是全空值"
   ]
  },
  {
   "cell_type": "code",
   "execution_count": null,
   "metadata": {},
   "outputs": [],
   "source": [
    "# 首先需要删除labels列, 原数据集里面的labels列是空的\n",
    "for dataset in [train_df, val_df, test_df]:\n",
    "    dataset.drop(columns=['labels'], inplace=True)"
   ]
  },
  {
   "cell_type": "markdown",
   "metadata": {},
   "source": [
    "* 再删除有空值的行,确保没有问题"
   ]
  },
  {
   "cell_type": "code",
   "execution_count": 15,
   "metadata": {},
   "outputs": [],
   "source": [
    "# 删除有空值的行\n",
    "for dataset in [train_df, val_df, test_df]:\n",
    "    dataset.dropna(inplace=True)"
   ]
  },
  {
   "cell_type": "markdown",
   "metadata": {},
   "source": [
    "* 过滤掉文章本身为空的行"
   ]
  },
  {
   "cell_type": "code",
   "execution_count": 16,
   "metadata": {},
   "outputs": [],
   "source": [
    "for dataset in [train_df, val_df, test_df]:\n",
    "    dataset = dataset[dataset['sections'].apply(lambda x: x != [])]"
   ]
  },
  {
   "cell_type": "code",
   "execution_count": 17,
   "metadata": {},
   "outputs": [
    {
     "data": {
      "text/html": [
       "<div>\n",
       "<style scoped>\n",
       "    .dataframe tbody tr th:only-of-type {\n",
       "        vertical-align: middle;\n",
       "    }\n",
       "\n",
       "    .dataframe tbody tr th {\n",
       "        vertical-align: top;\n",
       "    }\n",
       "\n",
       "    .dataframe thead th {\n",
       "        text-align: right;\n",
       "    }\n",
       "</style>\n",
       "<table border=\"1\" class=\"dataframe\">\n",
       "  <thead>\n",
       "    <tr style=\"text-align: right;\">\n",
       "      <th></th>\n",
       "      <th>article_id</th>\n",
       "      <th>article_text</th>\n",
       "      <th>abstract_text</th>\n",
       "      <th>section_names</th>\n",
       "      <th>sections</th>\n",
       "    </tr>\n",
       "  </thead>\n",
       "  <tbody>\n",
       "    <tr>\n",
       "      <th>0</th>\n",
       "      <td>PMC3872579</td>\n",
       "      <td>[a recent systematic analysis showed that in 2...</td>\n",
       "      <td>[&lt;S&gt; background : the present study was carrie...</td>\n",
       "      <td>[INTRODUCTION, MATERIALS AND METHODS, Particip...</td>\n",
       "      <td>[a recent systematic analysis showed that in 2...</td>\n",
       "    </tr>\n",
       "    <tr>\n",
       "      <th>1</th>\n",
       "      <td>PMC3770628</td>\n",
       "      <td>[it occurs in more than 50% of patients and ma...</td>\n",
       "      <td>[&lt;S&gt; backgroundanemia in patients with cancer ...</td>\n",
       "      <td>[Introduction, Patients and methods, Study des...</td>\n",
       "      <td>[it occurs in more than 50% of patients and ma...</td>\n",
       "    </tr>\n",
       "    <tr>\n",
       "      <th>2</th>\n",
       "      <td>PMC5330001</td>\n",
       "      <td>[tardive dystonia ( td ) , a rarer side effect...</td>\n",
       "      <td>[&lt;S&gt; tardive dystonia ( td ) is a serious side...</td>\n",
       "      <td>[INTRODUCTION, CASE REPORT, DISCUSSION, Declar...</td>\n",
       "      <td>[tardive dystonia ( td ) , a rarer side effect...</td>\n",
       "    </tr>\n",
       "    <tr>\n",
       "      <th>3</th>\n",
       "      <td>PMC4386667</td>\n",
       "      <td>[lepidoptera include agricultural pests that ,...</td>\n",
       "      <td>[&lt;S&gt; many lepidopteran insects are agricultura...</td>\n",
       "      <td>[1. Introduction, 2. Insect Immunity, 3. Signa...</td>\n",
       "      <td>[lepidoptera include agricultural pests that ,...</td>\n",
       "    </tr>\n",
       "    <tr>\n",
       "      <th>4</th>\n",
       "      <td>PMC4307954</td>\n",
       "      <td>[syncope is caused by transient diffuse cerebr...</td>\n",
       "      <td>[&lt;S&gt; we present an unusual case of recurrent c...</td>\n",
       "      <td>[Introduction, Case report, Discussion, Confli...</td>\n",
       "      <td>[syncope is caused by transient diffuse cerebr...</td>\n",
       "    </tr>\n",
       "    <tr>\n",
       "      <th>...</th>\n",
       "      <td>...</td>\n",
       "      <td>...</td>\n",
       "      <td>...</td>\n",
       "      <td>...</td>\n",
       "      <td>...</td>\n",
       "    </tr>\n",
       "    <tr>\n",
       "      <th>119919</th>\n",
       "      <td>PMC3502213</td>\n",
       "      <td>[eukaryotic cells depend on vesicle - mediated...</td>\n",
       "      <td>[&lt;S&gt; long - distance trafficking of membranous...</td>\n",
       "      <td>[Introduction, Motor-Dependent Transport of Ra...</td>\n",
       "      <td>[eukaryotic cells depend on vesicle - mediated...</td>\n",
       "    </tr>\n",
       "    <tr>\n",
       "      <th>119920</th>\n",
       "      <td>PMC3198562</td>\n",
       "      <td>[as regards the selection criteria of the post...</td>\n",
       "      <td>[&lt;S&gt; aims and objectives : to study the stress...</td>\n",
       "      <td>[INTRODUCTION, MATERIALS AND METHODS, Modeling...</td>\n",
       "      <td>[fiber post systems are routinely used in rest...</td>\n",
       "    </tr>\n",
       "    <tr>\n",
       "      <th>119921</th>\n",
       "      <td>PMC4436536</td>\n",
       "      <td>[in most of the peer review publications in th...</td>\n",
       "      <td>[&lt;S&gt; abstractbackgroundthe objective of this s...</td>\n",
       "      <td>[Introduction, Methods, Results, Discussion, L...</td>\n",
       "      <td>[in most of the peer review publications in th...</td>\n",
       "    </tr>\n",
       "    <tr>\n",
       "      <th>119922</th>\n",
       "      <td>PMC4251613</td>\n",
       "      <td>[the reveal registry is a longitudinal registr...</td>\n",
       "      <td>[&lt;S&gt; background : patients with pulmonary arte...</td>\n",
       "      <td>[TRIAL REGISTRY:, Materials and Methods, REVEA...</td>\n",
       "      <td>[, the reveal registry is a longitudinal regis...</td>\n",
       "    </tr>\n",
       "    <tr>\n",
       "      <th>119923</th>\n",
       "      <td>PMC3389695</td>\n",
       "      <td>[cerebral palsy is a nonprogressive central ne...</td>\n",
       "      <td>[&lt;S&gt; \\n objective . to determine &lt;/S&gt;, &lt;S&gt; if ...</td>\n",
       "      <td>[1. Introduction, 2. Method, 3. Results, 4. Di...</td>\n",
       "      <td>[cerebral palsy is a nonprogressive central ne...</td>\n",
       "    </tr>\n",
       "  </tbody>\n",
       "</table>\n",
       "<p>117112 rows × 5 columns</p>\n",
       "</div>"
      ],
      "text/plain": [
       "        article_id                                       article_text  \\\n",
       "0       PMC3872579  [a recent systematic analysis showed that in 2...   \n",
       "1       PMC3770628  [it occurs in more than 50% of patients and ma...   \n",
       "2       PMC5330001  [tardive dystonia ( td ) , a rarer side effect...   \n",
       "3       PMC4386667  [lepidoptera include agricultural pests that ,...   \n",
       "4       PMC4307954  [syncope is caused by transient diffuse cerebr...   \n",
       "...            ...                                                ...   \n",
       "119919  PMC3502213  [eukaryotic cells depend on vesicle - mediated...   \n",
       "119920  PMC3198562  [as regards the selection criteria of the post...   \n",
       "119921  PMC4436536  [in most of the peer review publications in th...   \n",
       "119922  PMC4251613  [the reveal registry is a longitudinal registr...   \n",
       "119923  PMC3389695  [cerebral palsy is a nonprogressive central ne...   \n",
       "\n",
       "                                            abstract_text  \\\n",
       "0       [<S> background : the present study was carrie...   \n",
       "1       [<S> backgroundanemia in patients with cancer ...   \n",
       "2       [<S> tardive dystonia ( td ) is a serious side...   \n",
       "3       [<S> many lepidopteran insects are agricultura...   \n",
       "4       [<S> we present an unusual case of recurrent c...   \n",
       "...                                                   ...   \n",
       "119919  [<S> long - distance trafficking of membranous...   \n",
       "119920  [<S> aims and objectives : to study the stress...   \n",
       "119921  [<S> abstractbackgroundthe objective of this s...   \n",
       "119922  [<S> background : patients with pulmonary arte...   \n",
       "119923  [<S> \\n objective . to determine </S>, <S> if ...   \n",
       "\n",
       "                                            section_names  \\\n",
       "0       [INTRODUCTION, MATERIALS AND METHODS, Particip...   \n",
       "1       [Introduction, Patients and methods, Study des...   \n",
       "2       [INTRODUCTION, CASE REPORT, DISCUSSION, Declar...   \n",
       "3       [1. Introduction, 2. Insect Immunity, 3. Signa...   \n",
       "4       [Introduction, Case report, Discussion, Confli...   \n",
       "...                                                   ...   \n",
       "119919  [Introduction, Motor-Dependent Transport of Ra...   \n",
       "119920  [INTRODUCTION, MATERIALS AND METHODS, Modeling...   \n",
       "119921  [Introduction, Methods, Results, Discussion, L...   \n",
       "119922  [TRIAL REGISTRY:, Materials and Methods, REVEA...   \n",
       "119923  [1. Introduction, 2. Method, 3. Results, 4. Di...   \n",
       "\n",
       "                                                 sections  \n",
       "0       [a recent systematic analysis showed that in 2...  \n",
       "1       [it occurs in more than 50% of patients and ma...  \n",
       "2       [tardive dystonia ( td ) , a rarer side effect...  \n",
       "3       [lepidoptera include agricultural pests that ,...  \n",
       "4       [syncope is caused by transient diffuse cerebr...  \n",
       "...                                                   ...  \n",
       "119919  [eukaryotic cells depend on vesicle - mediated...  \n",
       "119920  [fiber post systems are routinely used in rest...  \n",
       "119921  [in most of the peer review publications in th...  \n",
       "119922  [, the reveal registry is a longitudinal regis...  \n",
       "119923  [cerebral palsy is a nonprogressive central ne...  \n",
       "\n",
       "[117112 rows x 5 columns]"
      ]
     },
     "execution_count": 17,
     "metadata": {},
     "output_type": "execute_result"
    }
   ],
   "source": [
    "# 似乎只有train数据集里有空的article_text\n",
    "train_df"
   ]
  },
  {
   "cell_type": "markdown",
   "metadata": {},
   "source": [
    "### 2.2.3 根据关键字列表合并sections"
   ]
  },
  {
   "cell_type": "markdown",
   "metadata": {},
   "source": [
    "* 首先需要取section_names的每一个句子的小写\n",
    "* 获取到section_names的中和keyword tabel相匹配的每一个section"
   ]
  },
  {
   "cell_type": "code",
   "execution_count": 18,
   "metadata": {},
   "outputs": [
    {
     "data": {
      "text/plain": [
       "[\"a recent systematic analysis showed that in 2011 , 314 ( 296 - 331 ) million children younger than 5 years were mildly , moderately or severely stunted and 258 ( 240 - 274 ) million were mildly , moderately or severely underweight in the developing countries . in iran a study among 752 high school girls in sistan and baluchestan showed prevalence of 16.2% , 8.6% and 1.5% , for underweight , overweight and obesity , respectively . the prevalence of malnutrition among elementary school aged children in tehran varied from 6% to 16% . anthropometric study of elementary school students in shiraz revealed that 16% of them suffer from malnutrition and low body weight . snack should have 300 - 400 kcal energy and could provide 5 - 10 g of protein / day . nowadays , school nutrition programs are running as the national programs , world - wide . national school lunch program in the united states there are also some reports regarding school feeding programs in developing countries . in vietnam , school base program showed an improvement in nutrient intakes . in iran a national free food program ( nffp ) is implemented in elementary schools of deprived areas to cover all poor students . however , this program is not conducted in slums and poor areas of the big cities so many malnourished children with low socio - economic situation are not covered by nffp . although the rate of poverty in areas known as deprived is higher than other areas , many students in deprived areas are not actually poor and can afford food . hence , nutritional value of the nffp is lower than the scientific recommended snacks for this age group . furthermore , lack of variety of food packages has decreased the tendency of children toward nffp . on the other hand , the most important one is ministry of education ( moe ) of iran , which is responsible for selecting and providing the packages for targeted schools . the ministry of health ( moh ) is supervising the health situation of students and their health needs . welfare organizations , along with charities , have the indirect effect on nutritional status of students by financial support of their family . provincial governors have also the role of coordinating and supervising all activities of these organizations . parent - teacher association is a community - based institution that participates in school 's policy such as nffp . in addition to these organizations , nutritional literacy of students , their parents and teachers , is a very important issue , which could affect nutritional status of school age children . therefore , the present study was conducted with the aim of improving the nffp , so that by its resources all poor children will be covered even in big cities . moreover , all food packages were replaced by nutritious and diverse packages that were accessible for non - poor children . according to the aim of this study and multiple factors that could affect the problem , public health advocacy has been chosen as the best strategy to deal with this issue . therefore , the present study determines the effects of nutrition intervention in an advocacy process model on the prevalence of underweight in school aged children in the poor area of shiraz , iran .\",\n",
       " \"this interventional study has been carried out between 2009 and 2010 in shiraz , iran . this survey was approved by the research committee of shiraz university of medical sciences . in coordination with education organization of fars province two elementary schools and one middle school in the third region of the urban area of shiraz were selected randomly . in those schools all students ( 2897 , 7 - 13 years old ) were screened based on their body mass index ( bmi ) by nutritionists . according to convenience method all students divided to two groups based on their economic situation ; family revenue and head of household 's job and nutrition situation ; the first group were poor and malnourished students and the other group were well nourished or well - off students . for this report , the children 's height and weight were entered into center for disease control and prevention ( cdc ) to calculate bmi and bmi - for - age z - scores based on cdc for diseases control and prevention and growth standards . the significance of the difference between proportions was calculated using two - tailed z - tests for independent proportions . for implementing the interventions , the advocacy process model weight was to the nearest 0.1 kg on a balance scale ( model # seca scale ) . standing height was measured to the nearest 0.1 cm with a wall - mounted stadiometer . advocacy group formation : this step was started with stakeholder analysis and identifying the stakeholders . the team was formed with representatives of all stakeholders include ; education organization , welfare organization , deputy for health of shiraz university , food and cosmetic product supervisory office and several non - governmental organizations and charities . situation analysis : this was carried out by use of existing data such as formal report of organizations , literature review and focus group with experts . the prevalence of malnutrition and its related factors among students was determined and weaknesses and strengths of the nffp were analyzed . accordingly , three sub - groups were established : research and evaluation , education and justification and executive group . designing the strategies : three strategies were identified ; education and justification campaign , nutritional intervention ( providing nutritious , safe and diverse snacks ) and networking . performing the interventions : interventions that were implementing in selected schools were providing a diverse and nutritious snack package along with nutrition education for both groups while the first group ( poor and malnourished students ) was utilized the package free of charge . education and justification intervention : regarding the literature review and expert opinion , an educational group affiliated with the advocacy team has prepared educational booklets about nutritional information for each level ( degree ) . accordingly , education of these booklets has been integrated into regular education of students and they educated and justified for better nutrition life - style . it leads the educational group to hold several meeting with the student 's parents to justify them about the project and its benefit for their children . after these meetings , parental desire for participation in the project illustrated the effectiveness of the justification meeting with them . for educate fifteen talk show programs in tv and radio , 12 published papers in the local newspaper , have implemented to mobilize the community and gain their support . healthy diet , the importance of breakfast and snack in adolescence , wrong food habits among school age children , role of the family to improve food habit of children were the main topics , in which media campaign has focused on . nutritional intervention : the snack basket of the students was replaced with traditional , nutritious and diverse foods . in general , the new snack package in average has provided 380 kcal energy , 15 g protein along with sufficient calcium and iron . low economic and malnourished children were supported by executive group affiliated with advocacy team and the rest of them prepare their snack by themselves . research and evaluation : in this step , the literacy and anthropometric indices ( bmi ) of students were assessed before and after the interventions . the reference for anthropometric measures was the world health organization / national center for health statistics ( who / nchs ) standards and the cut - offs were - two standard deviations ( sd ) from the mean . each student that was malnourished and poor has been taken into account for free food and nutritious snacks . demographic information , height , weight and knowledge of the students were measured by use of a validated and reliable ( cronbach 's alpha was 0.61 ) questionnaire . this project is granted by shiraz university of medical sciences , charities and welfare organization and education organization of fars province . statistical analyses were performed using the statistical package for the social sciences ( spss ) software , version 17.0 ( spss inc . , the results are expressed as mean  sd and proportions as appropriated . in order to determine the effective variables on the malnutrition status paired t test was used to compare the end values with baseline ones in each group . in this project , the who z - score cut - offs used were as follow : using bmi - for - age z - scores ; overweight : > + 1 sd , i.e. , z - score > 1 ( equivalent to bmi 25 kg / m ) , obesity : > + 2 sd ( equivalent to bmi 30 kg / m ) , thinness : < 2 sd and severe thinness : < 3 sd .\",\n",
       " \"this interventional study has been carried out between 2009 and 2010 in shiraz , iran . this survey was approved by the research committee of shiraz university of medical sciences . in coordination with education organization of fars province two elementary schools and one middle school in the third region of the urban area of shiraz were selected randomly . in those schools all students ( 2897 , 7 - 13 years old ) were screened based on their body mass index ( bmi ) by nutritionists . according to convenience method all students divided to two groups based on their economic situation ; family revenue and head of household 's job and nutrition situation ; the first group were poor and malnourished students and the other group were well nourished or well - off students . for this report , the children 's height and weight were entered into center for disease control and prevention ( cdc ) to calculate bmi and bmi - for - age z - scores based on cdc for diseases control and prevention and growth standards . the significance of the difference between proportions was calculated using two - tailed z - tests for independent proportions . for implementing the interventions ,\",\n",
       " 'weight was to the nearest 0.1 kg on a balance scale ( model # seca scale ) . standing height was measured to the nearest 0.1 cm with a wall - mounted stadiometer .',\n",
       " \"advocacy group formation : this step was started with stakeholder analysis and identifying the stakeholders . the team was formed with representatives of all stakeholders include ; education organization , welfare organization , deputy for health of shiraz university , food and cosmetic product supervisory office and several non - governmental organizations and charities . situation analysis : this was carried out by use of existing data such as formal report of organizations , literature review and focus group with experts . the prevalence of malnutrition and its related factors among students was determined and weaknesses and strengths of the nffp were analyzed . accordingly , three sub - groups were established : research and evaluation , education and justification and executive group . designing the strategies : three strategies were identified ; education and justification campaign , nutritional intervention ( providing nutritious , safe and diverse snacks ) and networking . performing the interventions : interventions that were implementing in selected schools were providing a diverse and nutritious snack package along with nutrition education for both groups while the first group ( poor and malnourished students ) was utilized the package free of charge . duration of intervention was 6 months . education and justification intervention : regarding the literature review and expert opinion , an educational group affiliated with the advocacy team has prepared educational booklets about nutritional information for each level ( degree ) . accordingly , education of these booklets has been integrated into regular education of students and they educated and justified for better nutrition life - style . obviously , student 's families had remarkable effect on children 's food habit . it leads the educational group to hold several meeting with the student 's parents to justify them about the project and its benefit for their children . after these meetings , parental desire for participation in the project illustrated the effectiveness of the justification meeting with them . educate fifteen talk show programs in tv and radio , 12 published papers in the local newspaper , have implemented to mobilize the community and gain their support . healthy diet , the importance of breakfast and snack in adolescence , wrong food habits among school age children , role of the family to improve food habit of children were the main topics , in which media campaign has focused on . nutritional intervention : the snack basket of the students was replaced with traditional , nutritious and diverse foods . in general , the new snack package in average has provided 380 kcal energy , 15 g protein along with sufficient calcium and iron . low economic and malnourished children were supported by executive group affiliated with advocacy team and the rest of them prepare their snack by themselves . research and evaluation : in this step , the literacy and anthropometric indices ( bmi ) of students were assessed before and after the interventions . the reference for anthropometric measures was the world health organization / national center for health statistics ( who / nchs ) standards and the cut - offs were - two standard deviations ( sd ) from the mean . each student that was malnourished and poor has been taken into account for free food and nutritious snacks . demographic information , height , weight and knowledge of the students were measured by use of a validated and reliable ( cronbach 's alpha was 0.61 ) questionnaire . this project is granted by shiraz university of medical sciences , charities and welfare organization and education organization of fars province .\",\n",
       " 'advocacy group formation : this step was started with stakeholder analysis and identifying the stakeholders . the team was formed with representatives of all stakeholders include ; education organization , welfare organization , deputy for health of shiraz university , food and cosmetic product supervisory office and several non - governmental organizations and charities .',\n",
       " 'situation analysis : this was carried out by use of existing data such as formal report of organizations , literature review and focus group with experts . the prevalence of malnutrition and its related factors among students was determined and weaknesses and strengths of the nffp were analyzed . accordingly , three sub - groups were established : research and evaluation , education and justification and executive group .',\n",
       " 'designing the strategies : three strategies were identified ; education and justification campaign , nutritional intervention ( providing nutritious , safe and diverse snacks ) and networking .',\n",
       " 'performing the interventions : interventions that were implementing in selected schools were providing a diverse and nutritious snack package along with nutrition education for both groups while the first group ( poor and malnourished students ) was utilized the package free of charge .',\n",
       " \"education and justification intervention : regarding the literature review and expert opinion , an educational group affiliated with the advocacy team has prepared educational booklets about nutritional information for each level ( degree ) . accordingly , education of these booklets has been integrated into regular education of students and they educated and justified for better nutrition life - style . obviously , student 's families had remarkable effect on children 's food habit . it leads the educational group to hold several meeting with the student 's parents to justify them about the project and its benefit for their children . after these meetings , parental desire for participation in the project illustrated the effectiveness of the justification meeting with them . educate fifteen talk show programs in tv and radio , 12 published papers in the local newspaper , have implemented to mobilize the community and gain their support . healthy diet , the importance of breakfast and snack in adolescence , wrong food habits among school age children , role of the family to improve food habit of children were the main topics , in which media campaign has focused on . nutritional intervention : the snack basket of the students was replaced with traditional , nutritious and diverse foods . in general , the new snack package in average has provided 380 kcal energy , 15 g protein along with sufficient calcium and iron . low economic and malnourished children were supported by executive group affiliated with advocacy team and the rest of them prepare their snack by themselves .\",\n",
       " \"research and evaluation : in this step , the literacy and anthropometric indices ( bmi ) of students were assessed before and after the interventions . the reference for anthropometric measures was the world health organization / national center for health statistics ( who / nchs ) standards and the cut - offs were - two standard deviations ( sd ) from the mean . each student that was malnourished and poor has been taken into account for free food and nutritious snacks . demographic information , height , weight and knowledge of the students were measured by use of a validated and reliable ( cronbach 's alpha was 0.61 ) questionnaire . this project is granted by shiraz university of medical sciences , charities and welfare organization and education organization of fars province .\",\n",
       " 'statistical analyses were performed using the statistical package for the social sciences ( spss ) software , version 17.0 ( spss inc . , chicago , il , usa ) . the results are expressed as mean  sd and proportions as appropriated . in order to determine the effective variables on the malnutrition status paired t test was used to compare the end values with baseline ones in each group . two - sided p < 0.05 was considered to be statistically significant . in this project , the who z - score cut - offs used were as follow : using bmi - for - age z - scores ; overweight : > + 1 sd , i.e. , z - score > 1 ( equivalent to bmi 25 kg / m ) , obesity : > + 2 sd ( equivalent to bmi 30 kg / m ) , thinness : < 2 sd and severe thinness : < 3 sd .',\n",
       " \"study population contains 2897 children ; 70.8% were primary school students and 29.2% were secondary school students . 2336 ( 80.5% ) out of total students were well - off and 561 children ( 19.5% ) were indigent . 19.5% of subjects were in case group ( n = 561 ) and 80.5% were in the control group ( n = 2336 ) . the mean of age in welfare group was 10.0  2.3 and 10.5  2.5 in non - welfare group . demographic characteristics of school aged children in shiraz , iran table 2 shows the frequency of subjects in different categories of bmi for age in non - welfare and welfare groups of school aged children separately among boys and girls before and after a nutrition intervention based on advocacy process model in shiraz , iran . the frequency of subjects with bmi lower than < 2 sd decreased significantly after intervention among non - welfare girls ( p < 0.01 ) . however , there were no significant decreases in the frequency of subjects with bmi lower than < 2 sd boys . when we assess the effect of intervention in total population without separating by sex groups , we found no significant change in this population [ table 3 ] . bmi for age for iranian students aged 7 - 14 years based on gender according to who growth standards 2007 bmi for age for iranian students aged 7 - 14 years according to who growth standards 2007 in non - welfare and welfare groups of total population table 4 has shown the prevalence of normal bmi , mild , moderate and severe malnutrition in non - welfare and welfare groups of school aged children separately among boys and girls before and after a nutrition intervention based on advocacy process model . according to this table there were no significant differences in the prevalence of mild , moderate and severe malnutrition among girls and boys . table 4 also shows the mean of all anthropometric indices changed significantly after intervention both among girls and boys . the pre- and post - test education assessment in both groups showed that the student 's average knowledge score has been significantly increased from 12.5  3.2 to 16.8  4.3 ( p < 0.0001 ) . bmi , height and weight in non - welfare and welfare groups of school aged children separately in males and females before and after a nutrition intervention based on advocacy process model in shiraz , iran according to study 's finding the odds ratio ( or ) of sever thinness and thinness in non - welfare compared with welfare is 3.5 ( or = 3.5 , confidence interval [ ci ] = 2.5 - 3.9 , p < 0.001 ) . furthermore , the finding showed or of overweight and obesity in welfare compared to non - welfare is 19.3 ( or = 19.3 , ci = 2.5 - 3.9 , p = 0.04 ) .\",\n",
       " \"the result of this community intervention study revealed that nutrition intervention based on advocacy program had been successful to reduce the prevalence of underweight among poor girls . this study shows determinant factor of nutritional status of school age children was their socio - economic level . according to our knowledge , this is the first study , which determines the effect of a community intervention based on advocacy process on the malnutrition indices in a big city ( shiraz ) in iran . the other program in iran ( nffp ) is specified to deprived area and is not conducted in big cities . allocating millions of dollars to nffp by government , selecting the malnourished students through an active screening system at primary and middle schools , paying attention of policy makers to student 's nutrition have provided the opportunity to combat the problem . however , negligence of under - poverty line , providing poor snacks in terms of nutritional value and lack of variety are the main defects of this program . advocacy by definition is a blending of science , ethics and politics for comprehensive approaching health issues . by using advocacy program in california among the high school students for improving their nutrition and physical activity angeles unified school district participants emphasized on nutrition classes for families as well as students in addition to other interventions . in the present study another study revealed that evaluability assessment gave stakeholders the opportunity to reflect on the project and its implementation issues . it seems that in iran , free food program among the students not only is needed in deprived areas , but also it should be performed in big cities such as shiraz . at baseline , no significant difference was founded among wealthy students between the pre- and post - nutritional status intervention . in contrast , the numbers of students who have malnutrition decreased from 44% to 39.4% , which was identified as a significant among impecunious girls students . there was also a significant increase in the proportion of children with bmi that was normal for age ( 2 to + 1 sd ) most of the published community interventions showed better results among females compared with males . this difference in the impact of nutritional interventions between male and female might be related to the different age of puberty in the female population compared to the male population . in the age range of the present study female although , there is no nffp in big cities of iran , there are some programs for improving the nutritional status such as providing free milk in schools . a recent publication has shown that school feeding programs focus on milk supplementation had beneficial effects on the physical function and school performances specifically among girls in iran . the results of the mentioned study showed an improvement in the weight of children , psychological test 's scores and the grade - point average following this school feeding program . the intervention in the present study had focused on the snack intake in the school time . there are some reports regarding the nutrition transition in iran , which shows the importance of nutrition intervention to provide more healthy eating dietary habits among welfare groups of adolescents . hence , nutrition intervention especially in the form of nutrition education is needed in big cities and among welfare children and adolescents . although a study among iranian adolescents showed that dietary behavior of adolescents does not accord to their knowledge , which emphasize on the necessity of community intervention programs . a recent study regarding the major dietary pattern among iranian children showed the presence of four major dietary patterns , in which fast food pattern and sweet pattern as two major dietary patterns can be mentioned among iranian children . in advocacy program audience 's analysis accordingly , one of the prominent strategies in this study was working with media and was meeting with parent - teacher association that both of them were secondary target audiences . we also took into account policy makers in different levels , from national to local as primary audiences . advocacy team had several meetings with management and planning organization at national level and education organization of the fars province as well as principal of the targeted schools . providing nutritious snacks need contribution of private sector such as food industries or factories , but their benefits should be warranted . another choice was community involvement ; which can be achieved by female health volunteers who are working with the health system . advocacy team by using the support of charities and female health volunteers could establish a local factory that produced student 's snacks based on the new definition . however , there are some challenges on the way of expanding this program . mass production of the proposed snacks according to different desires and cultures and getting involvement of food industries with respect to marketing issues is one of those challenges . moreover , providing a supportive environment in order to change the food habits of the students and their parents among the wide range of the population require a sustainable and continuous inter - sector collaboration . although in a limited number of schools , in our study , interventions and advocacy program was successful , expanding this model to another areas around the country depends on convincing the policy makers at national level . in this regard , advocacy team should prepare evidenced based profile and transitional planning to convince the policy makers for improving the rule and regulation of nffp . the same as this study in other studies have also emphasized that there must be efforts to strengthen the capacity within the schools to deal with the nutritional problems either overweight , obesity or malnutrition by using of educational and nutritional intervention . assessing the dietary adherence is very important in nutrition intervention among population . as this population was children and adolescents we had a limitation in the blood sample collection to assess the subject 's dietary adherence . furthermore , this intervention was only focused on the intake of snack in school time and we did not have comprehensive information on the dietary intake of children and adolescents after school all over the day . the investigators propose further investigation in different areas of the country based on socio - cultural differences in order to make necessary modification and adapt this model to other areas . regarding the nutritional needs of the school age children , provision of a good platform for implementing and expanding this efficient model to the whole country based upon the socio - economic situation of each region is advisable to the moh and the moe .\",\n",
       " 'community nutrition intervention based on the advocacy process model is effective on reducing the prevalence of underweight specifically among female school aged children .']"
      ]
     },
     "execution_count": 18,
     "metadata": {},
     "output_type": "execute_result"
    }
   ],
   "source": [
    "train_df['sections'][0]"
   ]
  },
  {
   "cell_type": "code",
   "execution_count": 19,
   "metadata": {},
   "outputs": [
    {
     "data": {
      "text/plain": [
       "['<S> background : the present study was carried out to assess the effects of community nutrition intervention based on advocacy approach on malnutrition status among school - aged children in shiraz , iran.materials and methods : this case - control nutritional intervention has been done between 2008 and 2009 on 2897 primary and secondary school boys and girls ( 7 - 13 years old ) based on advocacy approach in shiraz , iran . </S>',\n",
       " '<S> the project provided nutritious snacks in public schools over a 2-year period along with advocacy oriented actions in order to implement and promote nutritional intervention . for evaluation of effectiveness of the intervention growth monitoring indices of pre- and post - intervention were statistically compared.results:the frequency of subjects with body mass index lower than 5% decreased significantly after intervention among girls ( p = 0.02 ) . </S>',\n",
       " '<S> however , there were no significant changes among boys or total population . </S>',\n",
       " '<S> the mean of all anthropometric indices changed significantly after intervention both among girls and boys as well as in total population . </S>',\n",
       " \"<S> the pre- and post - test education assessment in both groups showed that the student 's average knowledge score has been significantly increased from 12.5  3.2 to 16.8  4.3 ( p < 0.0001).conclusion : this study demonstrates the potential success and scalability of school feeding programs in iran . </S>\",\n",
       " '<S> community nutrition intervention based on the advocacy process model is effective on reducing the prevalence of underweight specifically among female school aged children . </S>']"
      ]
     },
     "execution_count": 19,
     "metadata": {},
     "output_type": "execute_result"
    }
   ],
   "source": [
    "train_df['abstract_text'][0]"
   ]
  },
  {
   "cell_type": "code",
   "execution_count": 20,
   "metadata": {},
   "outputs": [],
   "source": [
    "import re\n",
    "\n",
    "def keyword_matching_and_re_section(dataset):\n",
    "    for idx, sample in dataset.iterrows():\n",
    "        # reset for each sample\n",
    "        sections = [\n",
    "            [], # part_1\n",
    "            [], # part_2\n",
    "            [], # part_3\n",
    "            [], # part_4\n",
    "        ]\n",
    "        section_names = [[] for _ in range(4)]\n",
    "        \n",
    "        for sec_name, sec in zip(sample['section_names'], sample['sections']):\n",
    "            for id, values in enumerate(segmentation_keyword_table.values()):\n",
    "                if any(keyword.lower() in sec_name.lower() for keyword in values):\n",
    "                    sections[id].append(sec)\n",
    "                    \n",
    "        for id, value in enumerate(sections):\n",
    "            sections[id] = \" \".join(sections[id])\n",
    "\n",
    "        dataset['sections'].loc[idx] = sections"
   ]
  },
  {
   "cell_type": "code",
   "execution_count": 21,
   "metadata": {},
   "outputs": [],
   "source": [
    "train_df_copy = train_df.copy()\n",
    "val_df_copy = val_df.copy()\n",
    "test_df_copy = test_df.copy()\n",
    "for dataset in [train_df_copy, val_df_copy, test_df_copy]:\n",
    "    keyword_matching_and_re_section(dataset)"
   ]
  },
  {
   "cell_type": "markdown",
   "metadata": {},
   "source": [
    "* 如果处理完后的sections仍然不包含完整的四段式结构, 就删除那一行"
   ]
  },
  {
   "cell_type": "code",
   "execution_count": 22,
   "metadata": {},
   "outputs": [],
   "source": [
    "train_df_copy_copy = train_df_copy.copy()\n",
    "val_df_copy_copy = val_df_copy.copy()\n",
    "test_df_copy_copy = test_df_copy.copy()\n",
    "for dataset in [train_df_copy_copy, val_df_copy_copy, test_df_copy_copy]:\n",
    "    dataset = dataset[dataset['sections'].apply(lambda x: all(s != '' for s in x))]"
   ]
  },
  {
   "cell_type": "markdown",
   "metadata": {},
   "source": [
    "* 处理之后分别剩下了51489/2858/2982个样本"
   ]
  },
  {
   "cell_type": "code",
   "execution_count": null,
   "metadata": {},
   "outputs": [],
   "source": [
    "train_df_copy_copy, test_df_copy_copy, val_df_copy_copy"
   ]
  },
  {
   "cell_type": "markdown",
   "metadata": {},
   "source": [
    "* 暂时进行一次保存"
   ]
  },
  {
   "cell_type": "code",
   "execution_count": 25,
   "metadata": {},
   "outputs": [],
   "source": [
    "train_df_copy_copy.to_json(f'../datasets/pubmed-dataset-processed/train.json', orient='records', lines=True) # orient\n",
    "val_df_copy_copy.to_json(f'../datasets/pubmed-dataset-processed/val.json', orient='records', lines=True)\n",
    "test_df_copy_copy.to_json(f'../datasets/pubmed-dataset-processed/test.json', orient='records', lines=True)"
   ]
  },
  {
   "cell_type": "code",
   "execution_count": 26,
   "metadata": {},
   "outputs": [],
   "source": [
    "index = 347"
   ]
  },
  {
   "cell_type": "code",
   "execution_count": 27,
   "metadata": {},
   "outputs": [
    {
     "data": {
      "text/plain": [
       "['1. Introduction',\n",
       " '2. PGD Synthases',\n",
       " '3. Hematopoietic PGD Synthase',\n",
       " '4. Lipocalin-Type PGD Synthase',\n",
       " '5. Prostaglandin D',\n",
       " '6. Conclusions']"
      ]
     },
     "execution_count": 27,
     "metadata": {},
     "output_type": "execute_result"
    }
   ],
   "source": [
    "train_df_copy.iloc[index]['section_names']"
   ]
  },
  {
   "cell_type": "code",
   "execution_count": 28,
   "metadata": {},
   "outputs": [
    {
     "data": {
      "text/plain": [
       "['prostaglandins ( pg ) are a family of structurally related eicosanoids that have regulatory roles in normal physiological as well as pathological contexts . cyclooxygenase enzymes catalyze the conversion of arachidonic acid to pgh2 , which is converted to other prostanoid species including pgd2 , pge2 , pgf2 , prostacyclin ( pgi2 ) , and thromboxane ( tx ) a2 by the action of specific synthases [ 13 ] .   the synthesis of pgd2 from its precursor pgh2 is catalyzed by two pgd synthases ( pgdss ) . prostaglandin d2 ( pgd2 ) is involved in a wide variety of neurophysiological functions , such as regulation of body temperature , hormone release , modulation of odor and pain responses , and regulation of the sleep - wake cycle in mammals . pgd2 acts through two receptors ( dp1 and dp2 crth2 ) , whereas 15d - pgj2 can activate peroxisome proliferator - activated receptors or inhibit a range of proinflammatory signaling pathways , including nf-b [ 1 , 2 , 5 ] .   the importance of the role of pgd2 in the pathogenesis and resolution of inflammation and innate immune response is increasingly recognized [ 6 , 7 ] . however , the effect of pgd2 on inflammation is complex because pgd2 either promotes or suppresses inflammation depending on the inflammatory milieu . this is further complicated by the fact that pgd2 undergoes nonenzymatic processes to generate 15d - pgj2 , an anti - inflammatory lipid . therefore , the net effect may depend on the rate of production of distal products of pgd2 depending upon the disease process . here , we review the biology and role of pgd synthases and pgd2 in inflammation and host immune response .',\n",
       " '',\n",
       " '',\n",
       " 'the role of pgds / pgd 2 in regulating inflammation in a variety of organ systems and disease process is burgeoning . the inflammatory response protects the body against infection and injury but can itself become dysregulated with deleterious consequences to the host . it is now evident that endogenous biochemical pathways such as pgds / pgd 2 get activated during defense reactions . the effect of pgds / pgd2 on inflammation is complex because they can either promote or suppresses inflammation depending on the inflammatory milieu .   table 1 provides a summary of the models of different effects of pgds / pgd2 . interdiction of l - pgds , pgd2 , and dp receptors provides novel therapeutic approaches to modulate inflammation and innate immune responses .']"
      ]
     },
     "execution_count": 28,
     "metadata": {},
     "output_type": "execute_result"
    }
   ],
   "source": [
    "train_df_copy.iloc[index]['sections']"
   ]
  },
  {
   "cell_type": "code",
   "execution_count": 29,
   "metadata": {},
   "outputs": [
    {
     "data": {
      "text/plain": [
       "['prostaglandins ( pg ) are a family of structurally related eicosanoids that have regulatory roles in normal physiological as well as pathological contexts . cyclooxygenase enzymes catalyze the conversion of arachidonic acid to pgh2 , which is converted to other prostanoid species including pgd2 , pge2 , pgf2 , prostacyclin ( pgi2 ) , and thromboxane ( tx ) a2 by the action of specific synthases [ 13 ] .   the synthesis of pgd2 from its precursor pgh2 is catalyzed by two pgd synthases ( pgdss ) . prostaglandin d2 ( pgd2 ) is involved in a wide variety of neurophysiological functions , such as regulation of body temperature , hormone release , modulation of odor and pain responses , and regulation of the sleep - wake cycle in mammals . pgd2 acts through two receptors ( dp1 and dp2 crth2 ) , whereas 15d - pgj2 can activate peroxisome proliferator - activated receptors or inhibit a range of proinflammatory signaling pathways , including nf-b [ 1 , 2 , 5 ] .   the importance of the role of pgd2 in the pathogenesis and resolution of inflammation and innate immune response is increasingly recognized [ 6 , 7 ] . however , the effect of pgd2 on inflammation is complex because pgd2 either promotes or suppresses inflammation depending on the inflammatory milieu . this is further complicated by the fact that pgd2 undergoes nonenzymatic processes to generate 15d - pgj2 , an anti - inflammatory lipid . therefore , the net effect may depend on the rate of production of distal products of pgd2 depending upon the disease process . here , we review the biology and role of pgd synthases and pgd2 in inflammation and host immune response .',\n",
       " 'the arachidonate cyclooxygenase pathway can generate pgd2 by the functional linkage of a series of isoformic enzymes corresponding to phospholipase a2 , cyclooxygenase and pgds . prostanoid formation occurs when cyclooxygenase oxygenates arachidonate converting it to pgg2 , which is then reduced to pgh2 . pgh2 , in turn , is converted to five primary active metabolites , pgd2 , pge2 , pgf2 , pgi2 , or thromboxane a2 via distinct synthases such as pgd synthase and pge synthase [ 1 , 2 ] . two pgd synthases have been identified , lipocalin ( l - pgds ) and hematopoietic ( h - pgds ) [ 4 , 810 ] . l - pgds and h - pgds are quite different from each other biochemically in terms of their amino acid sequence , tertiary structure , evolutional origin , chromosomal and cellular localization , and tissue distribution and immunologically in terms of their functional relevance [ 10 , 11 ] .',\n",
       " 'hematopoietic pgd synthase ( h - pgds ) was previously known as the spleen - type pgds [ 9 , 12 ] or glutathione- ( gsh- ) requiring enzyme for the production of pgd2 in the peripheral tissues [ 12 , 13 ] . h - pgds is characterized as a member of sigma class of glutathione s - transferase ( gst ) gene family   that catalyze the conjugation of gsh to an electrophilic substrate . h - pgds is localized in antigen - presenting cells and mast cells of a variety of tissues and is involved in the activation and differentiation of mast cells . h - pgds isomerizes pgh2 to pgd2 selectively and effectively , whereas other gst isozymes catalyze the conversion of pgh2 nonselectively to produce pgd2 , pge2 , and pgf2. the high specificity of h - pgds for the production of pgd2 is attributed to the unique architecture of the catalytic pocket . the deep and wide catalytic cavity of h - pgds is striking in comparison with the narrow shallow cavities of other gsts . the unique 3 d architecture of the cleft leads to the putative substrate binding mode and its catalytic mechanism , responsible for the specific isomerization from pgh2 to pgd2 . h - pgds contributes to the production of the d and j series of prostanoids in the immune system and is involved in allergic inflammatory response . since h - pgds is present in mast cells , th2 cells , and other leukocytes , it is thought to be responsible for the bulk of pgd2 production during allergic responses [ 16 , 17 ] . in mouse models of asthma and allergic disease , h - pgds has a substantial proinflammatory effect , regulating many hallmark characteristics including eosinophilia , airway hyperreactivity , mucus production , and th2 cytokine levels . inhibitors of h - pgds the compound , hql-79 , is characterized as a specific inhibitor of human h - pgds and has shown to exhibit a therapeutic effect when used in animal models of allergic disease and neuroinflammation . thus , selective inhibitors of h - pgds may prove to be more useful to suppress allergic and inflammatory reactions rather than cox-1 or cox-2 inhibitors , such as aspirin , indomethacin , and coxibs because these cox inhibitors suppress the production of all prostaglandins in comparison to h - pgds inhibitors [ 2023 ] . while h - pgds is proinflammatory in allergic airway diseases , h - pgds has shown to be protective in other models of inflammation . showed that h - pgds negatively regulates the severity and duration of delayed type hypersensitivity responses . their data suggests that contrary to the role of h - pgds in driving th2-like responses in models of asthma , hpgds may act as an internal braking signal essential for bringing about the resolution of th1-driven delayed type hypersensitivity reactions . using h - pgds knockout mice showed that h - pgds synthesizes 15d - pgj2 during mammalian defense responses and together with pgd2 , acting through the dp1 receptor , plays a central role in controlling the onset of acute inflammation and its resolution by balancing pro- versus anti - inflammatory cytokines . these data highlight the anti - inflammatory and proresolution properties of cyclopentanone prostaglandins , pgd2 and dp1 receptors .',\n",
       " 'lipocalin - type pgds is gsh independent and is identical to beta trace protein , which was discovered in 1961 as a major protein of human cerebrospinal fluid [ 2628 ] . because it resembles lipophilic ligand carrier proteins it was named lipocalin - type pgd synthase . l - pgds is a bifunctional protein , acting as a pgd2-producing enzyme as well as an intercellular transporter of retinoids or other lipophilic molecules . it is the only enzyme among the members of the lipocalin gene family that binds small lipophilic substances like retinoic acid , bilirubin , and ganglioside . structurally it is a monomer with a -barrel structure and a hydrophobic pocket and was initially identified as responsible for pgd2 production in the brain [ 10 , 19 , 30 ] . since then it has been shown that l - pgds is also expressed in other tissues including the heart , kidneys [ 31 , 32 ] , and lungs [ 33 , 34 ] . l - pgds is secreted into various body fluids , such as csf , plasma , seminal plasma , and urine , and functions as both a pgd2-producing enzyme and an extracellular transporter of various lipophilic substances . the l - pgds/-trace concentration in human serum fluctuates with circadian rhythmicity and exhibits a nocturnal increase and is best known because of its ability to induce sleep . deletion of l - pgds leads to accelerated glucose intolerance and induces obesity , nephropathy , and aortic thickening [ 36 , 37 ] . in animal models of ischemia lack of l - pgds confers susceptibility to injury in brain and heart [ 31 , 32 , 38 ] . l - pgds also has an inhibitory effect on progression of lung , ovarian , and colorectal cancer and some forms of leukemia . thus , it is evident that l - pgds has several key regulatory roles that extend beyond its function in the brain . similar to h - pgds in models of allergic inflammation l - pgds has shown to be proinflammatory . fujitani et al . reported that l - pgds transgenic mice exhibit strong allergic lung responses and eosinophilia   with enhanced allergic airway inflammation . in a model of chronic allergic dermatitis blockade of l - pgds with an inhibitor led to significant attenuation of inflammatory response , which was also confirmed in crth2 knockout mice . the proinflammatory role of l - pgds has also been suggested in human ulcerative colitis . hokari et al . showed that the level of l - pgds mrna expression is increased in uc patients in parallel with disease activity . in a diabetic rat model ogawa et al . showed that urinary excretion of l - pgds increased preceding diabetic nephropathy   and the levels of l - pgds could predict the progression of renal injury . l - pgds in the urine is being investigated as a diagnostic biomarker of acute kidney injury and inflammation associated with diabetes , hypertension , and drug - induced nephropathy . because l - pgds has a smaller molecular weight than serum albumin it may be expected to appear in the urine even before albuminuria and hence prove as a more sensitive marker for early detection of renal injury . we have studied the role of l - pgds in lps - induced inflammation and shown that l - pgds is induced in vitro in macrophages [ 33 , 34 ] and in vivo in the lung in response to lps and p. aeruginosa . our study showed that h - pgds was constitutively expressed in vitro in macrophages whereas l - pgds is induced in a time - dependent manner in response to lps or pa103 . similarly in vivo studies in mice showed that the expression of l - pgd synthase was induced in response to lps and pa103 . however , the immunomodulatory effects of l - pgds are less well studied . in a mouse model of p. aeruginosa infection we have shown that l - pgds mice have impaired host defenses whereas overexpression of l - pgds is protective in p. aeruginosa - induced pneumonia suggesting a pivotal role for l - pgds in innate immune response .',\n",
       " \"pgs are a group of 20-carbon polyunsaturated fatty acids containing a unique 5-carbon ring structure . prostaglandins are all produced from arachidonic acid ( c20:4 fatty acid ) via their common intermediate , pgh2 , and are a family of structurally related eicosanoids that not only have an important role in homeostasis but also contribute to the pathology of numerous inflammatory diseases . each prostanoid is then produced from pgh2 by its specific terminal pg synthase such as pgd synthase in the case of pgd2 . pgd2 is an acidic lipid mediator derived from arachidonic acid by sequential action of cyclooxygenase and pgd2 synthases . both h- and l - pgd synthase enzymes may form pgd2  in vitro , but it is not fully understood which pgds enzyme predominates under varied conditions in vivo . pgd2 for a long time was considered as a minor and biologically inactive prostaglandin . in the 1980s , however , pgd2 was found to be the most abundant prostaglandin in the brains of rats   and other mammals including humans , thus suggesting that it may have an important function in the central nervous system ( cns ) . the physiological functions of pgd2 have now been extensively defined and include regulation of sleep and body temperature , olfactory function , hormone release , and nociception in the central nervous system . it is released from mast cells as an allergic and inflammatory mediator   and is responsible for the symptoms in mastocytosis patients , such as flushing , diarrhea , tachycardia , dyspnea , and deep sleep . pgd2 is further converted to 9 , 11-pgf2 , a stereoisomer of pgf2 , which exerts various pharmacological actions different from those induced by pgf2. pgd2 is also readily dehydrated in vitro and in vivo   to produce prostaglandins of the j series , such as pgj2 , -pgj2 , and 15-deoxy--pgj2 . 15-deoxy--pgj2 has been identified as an endogenous ligand for a nuclear receptor ( peroxisome proliferator - activated receptor  ) , and it promotes adipocyte differentiation [ 5 , 6 ] . pgd 2 has been implicated in the initiation and progression of inflammation . in mouse models of asthma and allergic disease , pgd2 has a substantial proinflammatory effect , regulating many hallmark characteristics including eosinophilia , airway hyperreactivity , mucus production , and th2 cytokine levels [ 40 , 47 ] . moreover , inhibition of pgd 2 synthesis and pgd 2 signaling blockade has a suppressive effect on neuroinflammation in mouse models of krabbe 's disease . the injection of pgd 2 into the skin has been shown to result in erythema , edema , induration , and leukocyte infiltration . pgd 2 and other vasodilator prostaglandins may also contribute to inflammation by increasing local blood flow .   in contrast to these proinflammatory effects , pgd 2 and its cyclopentenone prostaglandin derivatives also have anti - inflammatory properties , with functions in resolution of inflammation . there is considerable interest in the importance of pgd2 and its distal products in the mediation and resolution of inflammation [ 3 , 57 ] . gilroy et al . showed that in a model of experimental pleuritis pgd2 significantly attenuated inflammation . similarly in a model of experimental colitis cox-2-derived pgd2 , acting via the dp receptor , was shown to attenuate neutrophilic infiltration into colonic mucosa . in a human model of an acute inflammatory response induced by administration of lps , which evokes transient flu - like symptoms with pyrexia and a hemodynamic response , song et al . have shown that tetranor pgdm increases markedly during this response and that pgj2 has antipyretic effects . although several studies have investigated the role of pgd 2 in inflammation , the role of pgd2 in host immune response has been scantly studied . an earlier study showed that pgd2 concentration , but not the pge2 or il-1 concentrations , is elevated in a time - dependent manner in the csf of patients with african sleeping sickness , caused by trypanosoma brucei . these investigators have also shown that mouse astrocytes and fibroblasts in culture induce the production of pgd2 in response to t. brucei . although the production of pgd2 was increased in vitro , the functional effects of pgd2 in this setting remain unclear . in a recent investigation zhao et al . showed that an age - related increase in pgd2 in mice led to diminished respiratory dendritic cell migration resulting in defects in virus - specific t - cell responses in vivo . they further showed that administration of pgd2 antagonist reversed this defect resulting in migration of dendritic cells with enhancement of t - cell antivirus response with increased clearance and survival . these data suggest that similar to allergic airway disease pgd2 may have immunosuppressive effects in viral infections . in a mouse model of p. aeruginosa lung infection we have shown that inhibition of cox-2 improves survival in a lethal model of p. aeruginosa infection . the bacterial clearance of p. aeruginosa was enhanced in cox-2 knockout mice whereas transgenic mice that overexpress cox-2 have an impaired bacterial clearance from the lungs . our study showed that the immunomodulatory effects of inhibition of cox-2 are related to inhibition of pge2 . we also examined the effects of administration of pgd2 in a model of p. aeruginosa lung infection . mice that were given intratracheal pgd 2 showed an enhanced clearance of p. aeruginosa from the lungs . these results were in agreement with our studies from l - pgds knockout and l - pgds overexpressing mice . we have shown that pgd2 inhibits a key proinflammatory immunoglobulin cell surface receptor trem-1 in vitro in macrophages . furthermore , we have shown that pgd2 induces the expression of nrf2 in a dp1 receptor - dependent manner . these studies provide a new paradigm and highlight a key regulatory role of pgd2 in innate immune response to bacterial infections .\",\n",
       " 'the role of pgds / pgd 2 in regulating inflammation in a variety of organ systems and disease process is burgeoning . the inflammatory response protects the body against infection and injury but can itself become dysregulated with deleterious consequences to the host . it is now evident that endogenous biochemical pathways such as pgds / pgd 2 get activated during defense reactions . the effect of pgds / pgd2 on inflammation is complex because they can either promote or suppresses inflammation depending on the inflammatory milieu .   table 1 provides a summary of the models of different effects of pgds / pgd2 . interdiction of l - pgds , pgd2 , and dp receptors provides novel therapeutic approaches to modulate inflammation and innate immune responses .']"
      ]
     },
     "execution_count": 29,
     "metadata": {},
     "output_type": "execute_result"
    }
   ],
   "source": [
    "train_df.iloc[index]['sections']"
   ]
  },
  {
   "cell_type": "markdown",
   "metadata": {},
   "source": [
    "### 2.2.4 对abstract进行分割\n",
    "* 特别注意：abstract有一部分文本需要再进行分词操作！！！！！！！"
   ]
  },
  {
   "cell_type": "markdown",
   "metadata": {},
   "source": [
    "* 加载数据集"
   ]
  },
  {
   "cell_type": "code",
   "execution_count": 215,
   "metadata": {},
   "outputs": [],
   "source": [
    "train_df = pd.read_json('../datasets/pubmed-dataset-processed/train.json', lines=True)\n",
    "val_df = pd.read_json('../datasets/pubmed-dataset-processed/val.json', lines=True)\n",
    "test_df = pd.read_json('../datasets/pubmed-dataset-processed/test.json', lines=True)"
   ]
  },
  {
   "cell_type": "markdown",
   "metadata": {},
   "source": [
    "1. 摘要部分由多个句子组成，每个句子开头有S，结束时有/S，需要删除，因为bart会自动添加启示和终止符.\n",
    "2. 原数据集的句子切分方式不明，所以需要重新划分，先将所有句子合并"
   ]
  },
  {
   "cell_type": "code",
   "execution_count": 216,
   "metadata": {},
   "outputs": [
    {
     "data": {
      "text/plain": [
       "['<S> background : the present study was carried out to assess the effects of community nutrition intervention based on advocacy approach on malnutrition status among school - aged children in shiraz , iran.materials and methods : this case - control nutritional intervention has been done between 2008 and 2009 on 2897 primary and secondary school boys and girls ( 7 - 13 years old ) based on advocacy approach in shiraz , iran . </S>',\n",
       " '<S> the project provided nutritious snacks in public schools over a 2-year period along with advocacy oriented actions in order to implement and promote nutritional intervention . for evaluation of effectiveness of the intervention growth monitoring indices of pre- and post - intervention were statistically compared.results:the frequency of subjects with body mass index lower than 5% decreased significantly after intervention among girls ( p = 0.02 ) . </S>',\n",
       " '<S> however , there were no significant changes among boys or total population . </S>',\n",
       " '<S> the mean of all anthropometric indices changed significantly after intervention both among girls and boys as well as in total population . </S>',\n",
       " \"<S> the pre- and post - test education assessment in both groups showed that the student 's average knowledge score has been significantly increased from 12.5  3.2 to 16.8  4.3 ( p < 0.0001).conclusion : this study demonstrates the potential success and scalability of school feeding programs in iran . </S>\",\n",
       " '<S> community nutrition intervention based on the advocacy process model is effective on reducing the prevalence of underweight specifically among female school aged children . </S>']"
      ]
     },
     "execution_count": 216,
     "metadata": {},
     "output_type": "execute_result"
    }
   ],
   "source": [
    "test_sample = train_df.iloc[0]['abstract_text']\n",
    "test_sample"
   ]
  },
  {
   "cell_type": "code",
   "execution_count": 217,
   "metadata": {},
   "outputs": [],
   "source": [
    "train_df_copy = train_df.copy()\n",
    "val_df_copy = val_df.copy()\n",
    "test_df_copy = test_df.copy()"
   ]
  },
  {
   "cell_type": "code",
   "execution_count": 218,
   "metadata": {},
   "outputs": [],
   "source": [
    "def remove_tag(dataset):\n",
    "    for idx, sample in dataset.iterrows():\n",
    "        # reset for each sample\n",
    "        abstract_text = \" \".join([text.replace('<S>', '').replace('</S>', '').strip() for text in sample['abstract_text']])\n",
    "        dataset['abstract_text'].loc[idx] = abstract_text"
   ]
  },
  {
   "cell_type": "code",
   "execution_count": 219,
   "metadata": {},
   "outputs": [],
   "source": [
    "for dataset in [train_df_copy, val_df_copy, test_df_copy]:\n",
    "    remove_tag(dataset)"
   ]
  },
  {
   "cell_type": "code",
   "execution_count": 41,
   "metadata": {},
   "outputs": [
    {
     "data": {
      "text/plain": [
       "\"background : the present study was carried out to assess the effects of community nutrition intervention based on advocacy approach on malnutrition status among school - aged children in shiraz , iran.materials and methods : this case - control nutritional intervention has been done between 2008 and 2009 on 2897 primary and secondary school boys and girls ( 7 - 13 years old ) based on advocacy approach in shiraz , iran . the project provided nutritious snacks in public schools over a 2-year period along with advocacy oriented actions in order to implement and promote nutritional intervention . for evaluation of effectiveness of the intervention growth monitoring indices of pre- and post - intervention were statistically compared.results:the frequency of subjects with body mass index lower than 5% decreased significantly after intervention among girls ( p = 0.02 ) . however , there were no significant changes among boys or total population . the mean of all anthropometric indices changed significantly after intervention both among girls and boys as well as in total population . the pre- and post - test education assessment in both groups showed that the student 's average knowledge score has been significantly increased from 12.5  3.2 to 16.8  4.3 ( p < 0.0001).conclusion : this study demonstrates the potential success and scalability of school feeding programs in iran . community nutrition intervention based on the advocacy process model is effective on reducing the prevalence of underweight specifically among female school aged children .\""
      ]
     },
     "execution_count": 41,
     "metadata": {},
     "output_type": "execute_result"
    }
   ],
   "source": [
    "train_df_copy.iloc[0]['abstract_text']"
   ]
  },
  {
   "cell_type": "markdown",
   "metadata": {},
   "source": [
    "3. 将所有句子以句号为分隔符进行切分\n",
    "---\n",
    "* 注意：这个分割是只要遇见\".\"这个符号就分割，意味着37.8这样的数学标记也会被分割成37.和8\n",
    "  * 因为`reported.conclusionintravenous`这样的情况存在，没办法直接用nltk, 先用.进行正则表达式的分割，再用nltk.word_tokenize分割(因为`wordninja`会删除标点符号)\n",
    "  * 使用`wordninja`这个包，会对粘连在一起的词进行切分"
   ]
  },
  {
   "cell_type": "code",
   "execution_count": 280,
   "metadata": {},
   "outputs": [],
   "source": [
    "train_df_copy_copy = train_df_copy.copy()\n",
    "val_df_copy_copy = val_df_copy.copy()\n",
    "test_df_copy_copy = test_df_copy.copy()"
   ]
  },
  {
   "cell_type": "code",
   "execution_count": 281,
   "metadata": {},
   "outputs": [
    {
     "data": {
      "text/plain": [
       "'objective : to evaluate the efficacy and safety of outpatient management of severe ovarian hyperstimulation syndrome  ( ohss ) requiring placement of a pigtail catheter.methods : retrospective analysis of thirty - three consecutive patients who underwent in - vitro fertilization  ( 2003 - 2009 ) and developed severe / critical ohss requiring placement of a pigtail catheter . patients who were managed on outpatient basis were monitored by frequent office visits , daily phone calls , and received iv normal saline for hydration when required.results : in 3 patients  ( 9.1% ) ohss started early , requiring placement of a pigtail catheter 4.3 + 0.6 days after retrieval . in 30 patients  ( 90.9% ) ohss started late  ( 14  4 days after retrieval ) . the mean amount of ascitic fluid drained immediately after placement of the catheter was 2085  1018 cc . the pigtail catheter was removed after 7.8  5.3 days . of the 31 patients who had embryo transfer  ( two had total freeze ) , 84% conceived . twenty - nine patients  ( 88% ) were managed on outpatient basis without any complications . four patients required hospital admission for 1 - 7 days  ( 3.0  2.7 ) . one patient with severe ohss was admitted for work up for chest pain . three patients with critical ohss with severe pleural effusion requiring thoracentesis were admitted for supportive measures.conclusion : the placement of a pigtail catheter resulted in safe and effective outpatient management for the majority of patients with severe ohss .'"
      ]
     },
     "execution_count": 281,
     "metadata": {},
     "output_type": "execute_result"
    }
   ],
   "source": [
    "test_df_copy_copy.iloc[0]['abstract_text']"
   ]
  },
  {
   "cell_type": "code",
   "execution_count": 282,
   "metadata": {},
   "outputs": [],
   "source": [
    "import nltk\n",
    "import re\n",
    "import wordninja\n",
    "from tqdm import tqdm\n",
    "nltk.download(\"punkt\", quiet=True)\n",
    "\n",
    "def sentences_split(dataset):\n",
    "    for idx, sample in tqdm(dataset.iterrows()):\n",
    "        # reset for each sample\n",
    "        # 以.作为分割符，但是保留.\n",
    "        abstract_text = re.split(r'(?<=\\.)', sample['abstract_text'])\n",
    "        # 移除列表中的空字符串\n",
    "        abstract_text = [text.strip() for text in abstract_text if text]\n",
    "        \n",
    "        sample = []\n",
    "        for sent in abstract_text:\n",
    "            words = nltk.word_tokenize(sent)\n",
    "            \n",
    "            # 对每个单词应用wordninja，保留原始的标点符号\n",
    "            split_words = [wordninja.split(word) if word.isalpha() else [word] for word in words]\n",
    "            \n",
    "            # 将嵌套的列表展平\n",
    "            flat_split_words = [item for sublist in split_words for item in sublist]\n",
    "\n",
    "            # 检查是否为标点符号，如果是就不用空格做连接\n",
    "            sent = '' # .join(flat_split_words)\n",
    "            for i, word in enumerate(flat_split_words):\n",
    "                if i == 0 or i == len(flat_split_words) - 1 or re.match(r'^\\W+$', word):\n",
    "                    sent += word\n",
    "                else:\n",
    "                    sent += f' {word}'\n",
    "            sample.append(sent)\n",
    "            \n",
    "        dataset.at[idx, 'abstract_text'] = sample"
   ]
  },
  {
   "cell_type": "code",
   "execution_count": 283,
   "metadata": {},
   "outputs": [
    {
     "name": "stderr",
     "output_type": "stream",
     "text": [
      "51489it [06:45, 127.13it/s]\n",
      "2858it [00:22, 128.62it/s]\n",
      "2982it [00:22, 130.51it/s]\n"
     ]
    }
   ],
   "source": [
    "for dataset in [train_df_copy_copy, val_df_copy_copy, test_df_copy_copy]:\n",
    "    sentences_split(dataset)"
   ]
  },
  {
   "cell_type": "code",
   "execution_count": 284,
   "metadata": {},
   "outputs": [
    {
     "data": {
      "text/plain": [
       "[\"research on the implications of anxiety in parkinson 's disease( pd) has been neglected despite its prevalence in nearly 50% of patients and its negative impact on quality of life.\",\n",
       " 'previous reports have noted that neuro psychiatric symptoms impair cognitive performance in pd patients; however, to date, no study has directly compared pd patients with and without anxiety to examine the impact of anxiety on cognitive impairments in pd.',\n",
       " 'this study compared cognitive performance across 50 pd participants with and without anxiety( 17 pda+; 33 pda), who underwent neurological and neuro psychological assessment.',\n",
       " 'group performance was compared across the following cognitive domains: simple attention/ vi suo motor processing speed, executive function( e.',\n",
       " 'g.',\n",
       " ', set- shifting), working memory, language, and memory/ new verbal learning.',\n",
       " 'results showed that pda+ performed significantly worse on the digit span forward and backward test and part b of the trail making task( t mt- b) compared to the pda group.',\n",
       " 'there were no group differences in verbal fluency, logical memory, or t mt- a performance.',\n",
       " 'in conclusion, anxiety in pd has a measurable impact on working memory and attention al set- shifting.']"
      ]
     },
     "execution_count": 284,
     "metadata": {},
     "output_type": "execute_result"
    }
   ],
   "source": [
    "test_df_copy_copy.iloc[0]['abstract_text']"
   ]
  },
  {
   "cell_type": "markdown",
   "metadata": {},
   "source": [
    "4. 对每一个句子进行关键字表匹配，如果开头出现的单词在匹配表里，就将整段划分到对于的part"
   ]
  },
  {
   "cell_type": "code",
   "execution_count": 285,
   "metadata": {},
   "outputs": [],
   "source": [
    "train_df_split =  train_df_copy_copy.copy()\n",
    "val_df_split = val_df_copy_copy.copy()\n",
    "test_df_split = test_df_copy_copy.copy()"
   ]
  },
  {
   "cell_type": "code",
   "execution_count": 286,
   "metadata": {},
   "outputs": [],
   "source": [
    "train_df_split.to_json(f'../datasets/pubmed-dataset-processed-abstract//train.json', orient='records', lines=True) # orient\n",
    "val_df_split.to_json(f'../datasets/pubmed-dataset-processed-abstract//val.json', orient='records', lines=True)\n",
    "test_df_split.to_json(f'../datasets/pubmed-dataset-processed-abstract//test.json', orient='records', lines=True)"
   ]
  },
  {
   "cell_type": "code",
   "execution_count": 478,
   "metadata": {},
   "outputs": [],
   "source": [
    "train_df = pd.read_json('../datasets/pubmed-dataset-processed-abstract/train.json', lines=True)\n",
    "val_df = pd.read_json('../datasets/pubmed-dataset-processed-abstract/val.json', lines=True)\n",
    "test_df = pd.read_json('../datasets/pubmed-dataset-processed-abstract/test.json', lines=True)"
   ]
  },
  {
   "cell_type": "code",
   "execution_count": 479,
   "metadata": {},
   "outputs": [],
   "source": [
    "\n",
    "segmentation_keyword_table = {\n",
    "    # Introduction and Literature\n",
    "    'part_1': ['introduction', 'case', 'objectives', 'purposes', \n",
    "               'objective', 'purpose', 'background', 'literature',\n",
    "               'aim', 'aims'],\n",
    "    \n",
    "    # Methods\n",
    "    'part_2': ['material and methods',\n",
    "               'materials and methods', 'methods', 'techniques', 'methodology',\n",
    "               'materials', 'research design', 'study design'],\n",
    "    \n",
    "    # Results\n",
    "    'part_3': ['result', 'results', 'experiments', 'observations'],\n",
    "    \n",
    "    # Discussion and Conlusion\n",
    "    'part_4': ['discussion', 'limitation', 'conclusions', \n",
    "               'conclusion', 'concluding', 'comment', 'comments', \n",
    "               'summary', 'concluding remarks'],\n",
    "    \n",
    "}"
   ]
  },
  {
   "cell_type": "code",
   "execution_count": 480,
   "metadata": {},
   "outputs": [],
   "source": [
    "import re\n",
    "from tqdm import tqdm\n",
    "\n",
    "def keyword_matching_and_re_abstract(dataset):\n",
    "    for idx, sample in tqdm(dataset.iterrows()):\n",
    "        # Reset for each sample\n",
    "        abstract_parts = [[] for _ in range(4)]\n",
    "        current_part = 0  # Initialize to part_1\n",
    "\n",
    "        for abs in sample['abstract_text']:\n",
    "            # Splitting the abstract_text into 4 parts\n",
    "            if abs != \"\":\n",
    "                match = re.search(r'\\b(\\S+)\\b', abs)\n",
    "                if match:\n",
    "                    first_word = match.group(1).lower()\n",
    "                else:\n",
    "                    # 处理没有匹配到单词的情况\n",
    "                    print(f'No word matched in {abs}')\n",
    "                    first_word = \"\"\n",
    "            else:\n",
    "                # 处理空字符串的情况\n",
    "                print('Empty abstract_text')\n",
    "                first_word = \"\"\n",
    "\n",
    "            # Check if the current sentence contains the keyword for the next part\n",
    "            for id, values in enumerate(segmentation_keyword_table.values()):\n",
    "                if any(keyword.lower() in first_word for keyword in values):\n",
    "                    # Move to the next part\n",
    "                    current_part = id\n",
    "\n",
    "            # Append the current sentence to the corresponding part\n",
    "            abstract_parts[current_part].append(abs)\n",
    "\n",
    "        # Joining the parts\n",
    "        for id, value in enumerate(abstract_parts):\n",
    "            abstract_parts[id] = \" \".join(abstract_parts[id])\n",
    "\n",
    "        dataset['abstract_text'].loc[idx] = abstract_parts\n",
    "        print(f'{dataset[\"abstract_text\"].iloc[idx]=}')\n"
   ]
  },
  {
   "cell_type": "code",
   "execution_count": null,
   "metadata": {},
   "outputs": [],
   "source": [
    "for dataset in [train_df, val_df, test_df]:\n",
    "    keyword_matching_and_re_abstract(dataset)"
   ]
  },
  {
   "cell_type": "markdown",
   "metadata": {},
   "source": [
    "* 删除不符合4段式结构的sample"
   ]
  },
  {
   "cell_type": "code",
   "execution_count": null,
   "metadata": {},
   "outputs": [],
   "source": [
    "for dataset in [train_df, val_df, test_df]:\n",
    "    dataset = dataset[dataset['abstract_text'].apply(lambda x: all(s != '' for s in x))]"
   ]
  },
  {
   "cell_type": "code",
   "execution_count": 492,
   "metadata": {},
   "outputs": [
    {
     "data": {
      "text/html": [
       "<div>\n",
       "<style scoped>\n",
       "    .dataframe tbody tr th:only-of-type {\n",
       "        vertical-align: middle;\n",
       "    }\n",
       "\n",
       "    .dataframe tbody tr th {\n",
       "        vertical-align: top;\n",
       "    }\n",
       "\n",
       "    .dataframe thead th {\n",
       "        text-align: right;\n",
       "    }\n",
       "</style>\n",
       "<table border=\"1\" class=\"dataframe\">\n",
       "  <thead>\n",
       "    <tr style=\"text-align: right;\">\n",
       "      <th></th>\n",
       "      <th>article_id</th>\n",
       "      <th>article_text</th>\n",
       "      <th>abstract_text</th>\n",
       "      <th>section_names</th>\n",
       "      <th>sections</th>\n",
       "    </tr>\n",
       "  </thead>\n",
       "  <tbody>\n",
       "    <tr>\n",
       "      <th>1</th>\n",
       "      <td>PMC4086000</td>\n",
       "      <td>[ohss is a serious complication of ovulation i...</td>\n",
       "      <td>[objective: to evaluate the efficacy and safet...</td>\n",
       "      <td>[Introduction, Materials and Methods, Results,...</td>\n",
       "      <td>[ohss is a serious complication of ovulation i...</td>\n",
       "    </tr>\n",
       "    <tr>\n",
       "      <th>2</th>\n",
       "      <td>PMC4414990</td>\n",
       "      <td>[type 1 diabetes ( t1d ) results from the dest...</td>\n",
       "      <td>[objective( s): pen to x if yl line is an immu...</td>\n",
       "      <td>[Introduction, Materials and Methods, Drug and...</td>\n",
       "      <td>[type 1 diabetes ( t1d ) results from the dest...</td>\n",
       "    </tr>\n",
       "    <tr>\n",
       "      <th>3</th>\n",
       "      <td>PMC5094872</td>\n",
       "      <td>[determinar a presena de anticorpos ige especf...</td>\n",
       "      <td>[abstract objective: to determine the presence...</td>\n",
       "      <td>[Objetivo:, Mtodos:, Resultados:, Concluses:, ...</td>\n",
       "      <td>[\\n staphylococcus aureus is a gram - positive...</td>\n",
       "    </tr>\n",
       "    <tr>\n",
       "      <th>4</th>\n",
       "      <td>PMC4262794</td>\n",
       "      <td>[development of human societies and industrial...</td>\n",
       "      <td>[background and objective: anxiety and depress...</td>\n",
       "      <td>[INTRODUCTION , METHODS , ETHICAL CONSIDERATIO...</td>\n",
       "      <td>[development of human societies and industrial...</td>\n",
       "    </tr>\n",
       "    <tr>\n",
       "      <th>6</th>\n",
       "      <td>PMC4841868</td>\n",
       "      <td>[medical tourism is illustrated as occurrence ...</td>\n",
       "      <td>[background: role of information source, perce...</td>\n",
       "      <td>[Introduction, Literature Review, Internationa...</td>\n",
       "      <td>[medical tourism is illustrated as occurrence ...</td>\n",
       "    </tr>\n",
       "    <tr>\n",
       "      <th>...</th>\n",
       "      <td>...</td>\n",
       "      <td>...</td>\n",
       "      <td>...</td>\n",
       "      <td>...</td>\n",
       "      <td>...</td>\n",
       "    </tr>\n",
       "    <tr>\n",
       "      <th>2970</th>\n",
       "      <td>PMC5029114</td>\n",
       "      <td>[the incidence of animal bites in the world is...</td>\n",
       "      <td>[background: despite the progress made, animal...</td>\n",
       "      <td>[INTRODUCTION, MATERIALS AND METHODS, RESULTS,...</td>\n",
       "      <td>[the incidence of animal bites in the world is...</td>\n",
       "    </tr>\n",
       "    <tr>\n",
       "      <th>2975</th>\n",
       "      <td>PMC3427834</td>\n",
       "      <td>[minimally invasive surgery was first describe...</td>\n",
       "      <td>[purpose this study aimed to comparatively eva...</td>\n",
       "      <td>[INTRODUCTION, MATERIALS AND METHODS, RESULTS,...</td>\n",
       "      <td>[minimally invasive surgery was first describe...</td>\n",
       "    </tr>\n",
       "    <tr>\n",
       "      <th>2976</th>\n",
       "      <td>PMC3155855</td>\n",
       "      <td>[ensuring the highest quality of health care f...</td>\n",
       "      <td>[background: we recently indicated that patien...</td>\n",
       "      <td>[Introduction, Methods, Quality of care, Predi...</td>\n",
       "      <td>[ensuring the highest quality of health care f...</td>\n",
       "    </tr>\n",
       "    <tr>\n",
       "      <th>2977</th>\n",
       "      <td>PMC4325121</td>\n",
       "      <td>[if left untreated , ureteropelvic junction ob...</td>\n",
       "      <td>[purpose to evaluate changes in differential r...</td>\n",
       "      <td>[INTRODUCTION, MATERIALS AND METHODS, RESULTS,...</td>\n",
       "      <td>[if left untreated , ureteropelvic junction ob...</td>\n",
       "    </tr>\n",
       "    <tr>\n",
       "      <th>2980</th>\n",
       "      <td>PMC4461384</td>\n",
       "      <td>[acute kidney injury ( aki ) , defined as an a...</td>\n",
       "      <td>[objective: the aim was to investigate the eff...</td>\n",
       "      <td>[INTRODUCTION, METHODS, Search Strategy, Study...</td>\n",
       "      <td>[acute kidney injury ( aki ) , defined as an a...</td>\n",
       "    </tr>\n",
       "  </tbody>\n",
       "</table>\n",
       "<p>1429 rows × 5 columns</p>\n",
       "</div>"
      ],
      "text/plain": [
       "      article_id                                       article_text  \\\n",
       "1     PMC4086000  [ohss is a serious complication of ovulation i...   \n",
       "2     PMC4414990  [type 1 diabetes ( t1d ) results from the dest...   \n",
       "3     PMC5094872  [determinar a presena de anticorpos ige especf...   \n",
       "4     PMC4262794  [development of human societies and industrial...   \n",
       "6     PMC4841868  [medical tourism is illustrated as occurrence ...   \n",
       "...          ...                                                ...   \n",
       "2970  PMC5029114  [the incidence of animal bites in the world is...   \n",
       "2975  PMC3427834  [minimally invasive surgery was first describe...   \n",
       "2976  PMC3155855  [ensuring the highest quality of health care f...   \n",
       "2977  PMC4325121  [if left untreated , ureteropelvic junction ob...   \n",
       "2980  PMC4461384  [acute kidney injury ( aki ) , defined as an a...   \n",
       "\n",
       "                                          abstract_text  \\\n",
       "1     [objective: to evaluate the efficacy and safet...   \n",
       "2     [objective( s): pen to x if yl line is an immu...   \n",
       "3     [abstract objective: to determine the presence...   \n",
       "4     [background and objective: anxiety and depress...   \n",
       "6     [background: role of information source, perce...   \n",
       "...                                                 ...   \n",
       "2970  [background: despite the progress made, animal...   \n",
       "2975  [purpose this study aimed to comparatively eva...   \n",
       "2976  [background: we recently indicated that patien...   \n",
       "2977  [purpose to evaluate changes in differential r...   \n",
       "2980  [objective: the aim was to investigate the eff...   \n",
       "\n",
       "                                          section_names  \\\n",
       "1     [Introduction, Materials and Methods, Results,...   \n",
       "2     [Introduction, Materials and Methods, Drug and...   \n",
       "3     [Objetivo:, Mtodos:, Resultados:, Concluses:, ...   \n",
       "4     [INTRODUCTION , METHODS , ETHICAL CONSIDERATIO...   \n",
       "6     [Introduction, Literature Review, Internationa...   \n",
       "...                                                 ...   \n",
       "2970  [INTRODUCTION, MATERIALS AND METHODS, RESULTS,...   \n",
       "2975  [INTRODUCTION, MATERIALS AND METHODS, RESULTS,...   \n",
       "2976  [Introduction, Methods, Quality of care, Predi...   \n",
       "2977  [INTRODUCTION, MATERIALS AND METHODS, RESULTS,...   \n",
       "2980  [INTRODUCTION, METHODS, Search Strategy, Study...   \n",
       "\n",
       "                                               sections  \n",
       "1     [ohss is a serious complication of ovulation i...  \n",
       "2     [type 1 diabetes ( t1d ) results from the dest...  \n",
       "3     [\\n staphylococcus aureus is a gram - positive...  \n",
       "4     [development of human societies and industrial...  \n",
       "6     [medical tourism is illustrated as occurrence ...  \n",
       "...                                                 ...  \n",
       "2970  [the incidence of animal bites in the world is...  \n",
       "2975  [minimally invasive surgery was first describe...  \n",
       "2976  [ensuring the highest quality of health care f...  \n",
       "2977  [if left untreated , ureteropelvic junction ob...  \n",
       "2980  [acute kidney injury ( aki ) , defined as an a...  \n",
       "\n",
       "[1429 rows x 5 columns]"
      ]
     },
     "execution_count": 492,
     "metadata": {},
     "output_type": "execute_result"
    }
   ],
   "source": [
    "test_df"
   ]
  },
  {
   "cell_type": "markdown",
   "metadata": {},
   "source": [
    "* 处理后分别剩下 24793/ 1398/ 1429条样本"
   ]
  },
  {
   "cell_type": "code",
   "execution_count": 502,
   "metadata": {},
   "outputs": [
    {
     "data": {
      "text/plain": [
       "['objectives: iron and multivitamin drops are being frequently prescribed in children less than 2 years of age. due to their low ph levels, these drops may lead to the softening of enamel and accelerate the destructive process. the aim of the present study was to investigate the enamel micro hardness of primary teeth after exposing them to iron and multivitamin drops.',\n",
       " 'materials and methods: forty healthy anterior teeth were randomly divided into four groups of 10 samples each. samples were exposed to two iron drops of khar azmi( iran) and iron or m( uk) and two multivitamin drops of shah daro u( iran) and euro vit( germany) for 5 min. the surface micro hardness was measured before and after exposure and data processing was done using statistical paired t- test and analysis of variance( a nova) test. the surface structure of the teeth was examined by scanning electron microscope( sem).',\n",
       " 'results: in all groups, micro hardness was decreased, but it was not significant in euro vit multivitamin group( p= 0. 088). the reduction rate in khar azmi iron group was significant compared to that in other groups( p< 0. 005). hardness reduction percent for khar azmi iron drop was 28/12 47/43. in sem analysis, irregular granular appearance was observed in the enamel exposed to khar azmi iron drop.',\n",
       " 'conclusion: the results showed that all the studied drugs have the potential to cause erosion; this potential is the most in khar azmi iron drop and the least in euro vit multivitamin drops. therefore, after using these kinds of drops, preventive measures should be used in children.']"
      ]
     },
     "execution_count": 502,
     "metadata": {},
     "output_type": "execute_result"
    }
   ],
   "source": [
    "train_df.iloc[5567]['abstract_text']"
   ]
  },
  {
   "cell_type": "markdown",
   "metadata": {},
   "source": [
    "# 3. Save Processed Dataset"
   ]
  },
  {
   "cell_type": "code",
   "execution_count": 503,
   "metadata": {},
   "outputs": [],
   "source": [
    "train_df.to_json(f'../datasets/pubmed-dataset-processed-final/train.json', orient='records', lines=True)\n",
    "val_df.to_json(f'../datasets/pubmed-dataset-processed-final/val.json', orient='records', lines=True)\n",
    "test_df.to_json(f'../datasets/pubmed-dataset-processed-final/test.json', orient='records', lines=True)"
   ]
  },
  {
   "cell_type": "code",
   "execution_count": 504,
   "metadata": {},
   "outputs": [],
   "source": [
    "import pandas as pd\n",
    "train_df = pd.read_json('../datasets/pubmed-dataset-processed-final/train.json', lines=True)\n",
    "val_df = pd.read_json('../datasets/pubmed-dataset-processed-final/val.json', lines=True)\n",
    "test_df = pd.read_json('../datasets/pubmed-dataset-processed-final/test.json', lines=True)"
   ]
  },
  {
   "cell_type": "code",
   "execution_count": 507,
   "metadata": {},
   "outputs": [
    {
     "data": {
      "text/plain": [
       "['aim. this paper presents a simple, versatile in vitro methodology that enables indirect quant if i cation of shrinkage and expansion stresses under clinically relevant conditions without the need for a dedicated instrument.',\n",
       " 'methods. for shrinkage effects, resulting cusp deformation of aluminum blocks with mod type cavity, filled with novel filling compositions and commercial cements, has been measured using a bench- top micrometer and a linear variable differential transformer( lv dt, a displacement transducer) based instrument.',\n",
       " 'results. the results demonstrated the validity of the proposed simple methodology. the technique was successfully used in longer- term measurements of shrinkage and expansion stress for several dental compositions.',\n",
       " 'conclusions. in contrast to in situ techniques where a measuring instrument is dedicated to the sample and its data collection, the proposed simple methodology allows for transfer of the samples to the environment of choice for storage and conditioning. the presented technique can be reliably used to quantify stress development of curing materials under clinically relevant( oral) conditions. this enables direct examination and comparison of structural properties corresponding to the final stage of formed networks. the proposed methodology is directly applicable to the study of self- curing systems as they require mouth- type conditions( temperature and humidity) to achieve their designed kinetics and reactions.']"
      ]
     },
     "execution_count": 507,
     "metadata": {},
     "output_type": "execute_result"
    }
   ],
   "source": [
    "train_df.iloc[5667]['abstract_text']"
   ]
  },
  {
   "cell_type": "markdown",
   "metadata": {},
   "source": [
    "# 4.Dataset Statistic"
   ]
  },
  {
   "cell_type": "markdown",
   "metadata": {},
   "source": [
    "* Avg token size of Sections"
   ]
  },
  {
   "cell_type": "code",
   "execution_count": null,
   "metadata": {},
   "outputs": [],
   "source": []
  },
  {
   "cell_type": "markdown",
   "metadata": {},
   "source": [
    "* Avg token size of Abstract"
   ]
  },
  {
   "cell_type": "code",
   "execution_count": null,
   "metadata": {},
   "outputs": [],
   "source": []
  }
 ],
 "metadata": {
  "kernelspec": {
   "display_name": "pytorch",
   "language": "python",
   "name": "python3"
  },
  "language_info": {
   "codemirror_mode": {
    "name": "ipython",
    "version": 3
   },
   "file_extension": ".py",
   "mimetype": "text/x-python",
   "name": "python",
   "nbconvert_exporter": "python",
   "pygments_lexer": "ipython3",
   "version": "3.10.13"
  }
 },
 "nbformat": 4,
 "nbformat_minor": 2
}
