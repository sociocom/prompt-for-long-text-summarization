{
 "cells": [
  {
   "cell_type": "markdown",
   "metadata": {},
   "source": [
    "# Preprocessing for PubMed Dataset"
   ]
  },
  {
   "cell_type": "markdown",
   "metadata": {},
   "source": [
    "## 1. Load Dataset"
   ]
  },
  {
   "cell_type": "code",
   "execution_count": 3,
   "metadata": {},
   "outputs": [],
   "source": [
    "# load by pandas\n",
    "import pandas as pd\n",
    "train_df = pd.read_json('../datasets/pubmed-dataset-copy/train.json', lines=True)\n",
    "val_df = pd.read_json('../datasets/pubmed-dataset-copy/val.json', lines=True)\n",
    "test_df = pd.read_json('../datasets/pubmed-dataset-copy/test.json', lines=True)"
   ]
  },
  {
   "cell_type": "markdown",
   "metadata": {},
   "source": [
    "* **Pubmed statistic:**\n",
    "  | Split | samples | \n",
    "  | --- | --- |\n",
    "  | Train | 119924 | \n",
    "  | Val | 6633 |\n",
    "  | Test | 6658 |\n",
    "\n",
    "* **a sample of vanilla dataset**\n",
    "  * labels seems to used for classification task, the labels of vanilla datasets are all None, i didn't do any processing.\n",
    "  \n",
    "  | article_id | article_text | abstract_text | labels | section_names | sections |\n",
    "  | --- | --- | --- | --- | --- | --- |\n",
    "  | str | List[str] | List[str] | None | List[str] | List[List[str]] |\n",
    "  | 'PMC3872579' | split by sentence<br>(似乎按照句子进行分割了, 如果要使用需要进行join) | ['<BOS> background : the present study was carried out to assess the effects of community nutrition intervention based on advocacy approach on malnutrition status among school - aged children in shiraz , iran.materials and methods : this case - control nutritional intervention has been done between 2008 and 2009 on 2897 primary and secondary school boys and girls ( 7 - 13 years old ) based on advocacy approach in shiraz , iran . </EOS>', <br> '<BOS> the project provided nutritious snacks in public schools over a 2-year period along with advocacy oriented actions in order to implement and promote nutritional intervention . for evaluation of effectiveness of the intervention growth monitoring indices of pre- and post - intervention were statistically compared.results:the frequency of subjects with body mass index lower than 5% decreased significantly after intervention among girls ( p = 0.02 ) . </EOS>', <br> '<BOS> however , there were no significant changes among boys or total population . </EOS>', <br> '<BOS> the mean of all anthropometric indices changed significantly after intervention both among girls and boys as well as in total population . </EOS>', <br> \"<BOS> the pre- and post - test education assessment in both groups showed that the student 's average knowledge score has been significantly increased from 12.5  3.2 to 16.8  4.3 ( p < 0.0001).conclusion : this study demonstrates the potential success and scalability of school feeding programs in iran . </EOS>\", <br> '<BOS> community nutrition intervention based on the advocacy process model is effective on reducing the prevalence of underweight specifically among female school aged children . </EOS>'] <br> 分割方式不明, 需要进行join并重新分割 | None | ['INTRODUCTION', <br>'MATERIALS AND METHODS', <br>'Participants'Instruments', <br>'Procedure', <br>'First step', <br>'Second step', <br>'Third step', <br>'Forth step', <br>'Interventions', <br>'Fifth step (assessment)', <br>'Data analysis', <br>'RESULTS', <br>'DISCUSSION', <br>'CONCLUSION'] <br><br>请注意METHODS包含了从Participants'Instruments到Data analysis的部分 | [<br>section[seq1, seq2, ...], <br>section[seq1, seq2, ...], <br>...] |\n",
    "  | reformat之后的格式 | --- | --- | --- | --- | --- |\n",
    "  | str | List[str] | list[str] | None | List[str] | List[str]|\n",
    "\n",
    "* **Final sample statistic after preprocessing**\n",
    "  | Split | samples | \n",
    "  | --- | --- |\n",
    "  | Train | 24843 | \n",
    "  | Val | 1399 |\n",
    "  | Test | 1431 |\n"
   ]
  },
  {
   "cell_type": "markdown",
   "metadata": {},
   "source": [
    "## 2. Dataset Preprocessing"
   ]
  },
  {
   "cell_type": "markdown",
   "metadata": {},
   "source": [
    "### 2.1 Keyword Table\n",
    "The summary(abstract) of pubmed dataset have not been split into multiple pieces, but luckily, it has section strutures so we could mannually process it by keyword matching.\n",
    "> reference: [GovReport](https://arxiv.org/pdf/2104.02112v2.pdf)\n",
    "> see page 18"
   ]
  },
  {
   "cell_type": "code",
   "execution_count": 4,
   "metadata": {},
   "outputs": [],
   "source": [
    "segmentation_keyword_table = {\n",
    "    # Introduction and Literature\n",
    "    'part_1': ['introduction', 'case', 'objectives', 'purposes', \n",
    "               'objective', 'purpose', 'background', 'literature',\n",
    "               'aim', 'aims'],\n",
    "    \n",
    "    # Methods\n",
    "    'part_2': ['material and methods',\n",
    "               'materials and methods', 'methods', 'techniques', 'methodology',\n",
    "               'materials', 'research design', 'study design'],\n",
    "    \n",
    "    # Results\n",
    "    'part_3': ['result', 'results', 'experiments', 'observations'],\n",
    "    \n",
    "    # Discussion and Conlusion\n",
    "    'part_4': ['discussion', 'limitation', 'conclusions', \n",
    "               'conclusion', 'concluding', 'comment', 'comments', \n",
    "               'summary', 'concluding remarks'],\n",
    "}"
   ]
  },
  {
   "cell_type": "markdown",
   "metadata": {},
   "source": [
    "## 2.2 Sections"
   ]
  },
  {
   "cell_type": "markdown",
   "metadata": {},
   "source": [
    "### 2.2.1 Concat sentences into one setence <br>(每一行是一个完整的sections, 由多个section组成, 其中每个section有多个句子, 需要进行合并)"
   ]
  },
  {
   "cell_type": "code",
   "execution_count": 5,
   "metadata": {},
   "outputs": [
    {
     "data": {
      "text/html": [
       "<div>\n",
       "<style scoped>\n",
       "    .dataframe tbody tr th:only-of-type {\n",
       "        vertical-align: middle;\n",
       "    }\n",
       "\n",
       "    .dataframe tbody tr th {\n",
       "        vertical-align: top;\n",
       "    }\n",
       "\n",
       "    .dataframe thead th {\n",
       "        text-align: right;\n",
       "    }\n",
       "</style>\n",
       "<table border=\"1\" class=\"dataframe\">\n",
       "  <thead>\n",
       "    <tr style=\"text-align: right;\">\n",
       "      <th></th>\n",
       "      <th>article_id</th>\n",
       "      <th>article_text</th>\n",
       "      <th>abstract_text</th>\n",
       "      <th>labels</th>\n",
       "      <th>section_names</th>\n",
       "      <th>sections</th>\n",
       "    </tr>\n",
       "  </thead>\n",
       "  <tbody>\n",
       "    <tr>\n",
       "      <th>0</th>\n",
       "      <td>PMC3872579</td>\n",
       "      <td>[a recent systematic analysis showed that in 2...</td>\n",
       "      <td>[&lt;S&gt; background : the present study was carrie...</td>\n",
       "      <td>NaN</td>\n",
       "      <td>[INTRODUCTION, MATERIALS AND METHODS, Particip...</td>\n",
       "      <td>[[a recent systematic analysis showed that in ...</td>\n",
       "    </tr>\n",
       "    <tr>\n",
       "      <th>1</th>\n",
       "      <td>PMC3770628</td>\n",
       "      <td>[it occurs in more than 50% of patients and ma...</td>\n",
       "      <td>[&lt;S&gt; backgroundanemia in patients with cancer ...</td>\n",
       "      <td>NaN</td>\n",
       "      <td>[Introduction, Patients and methods, Study des...</td>\n",
       "      <td>[[it occurs in more than 50% of patients and m...</td>\n",
       "    </tr>\n",
       "    <tr>\n",
       "      <th>2</th>\n",
       "      <td>PMC5330001</td>\n",
       "      <td>[tardive dystonia ( td ) , a rarer side effect...</td>\n",
       "      <td>[&lt;S&gt; tardive dystonia ( td ) is a serious side...</td>\n",
       "      <td>NaN</td>\n",
       "      <td>[INTRODUCTION, CASE REPORT, DISCUSSION, Declar...</td>\n",
       "      <td>[[tardive dystonia ( td ) , a rarer side effec...</td>\n",
       "    </tr>\n",
       "    <tr>\n",
       "      <th>3</th>\n",
       "      <td>PMC4386667</td>\n",
       "      <td>[lepidoptera include agricultural pests that ,...</td>\n",
       "      <td>[&lt;S&gt; many lepidopteran insects are agricultura...</td>\n",
       "      <td>NaN</td>\n",
       "      <td>[1. Introduction, 2. Insect Immunity, 3. Signa...</td>\n",
       "      <td>[[lepidoptera include agricultural pests that ...</td>\n",
       "    </tr>\n",
       "    <tr>\n",
       "      <th>4</th>\n",
       "      <td>PMC4307954</td>\n",
       "      <td>[syncope is caused by transient diffuse cerebr...</td>\n",
       "      <td>[&lt;S&gt; we present an unusual case of recurrent c...</td>\n",
       "      <td>NaN</td>\n",
       "      <td>[Introduction, Case report, Discussion, Confli...</td>\n",
       "      <td>[[syncope is caused by transient diffuse cereb...</td>\n",
       "    </tr>\n",
       "    <tr>\n",
       "      <th>...</th>\n",
       "      <td>...</td>\n",
       "      <td>...</td>\n",
       "      <td>...</td>\n",
       "      <td>...</td>\n",
       "      <td>...</td>\n",
       "      <td>...</td>\n",
       "    </tr>\n",
       "    <tr>\n",
       "      <th>119919</th>\n",
       "      <td>PMC3502213</td>\n",
       "      <td>[eukaryotic cells depend on vesicle - mediated...</td>\n",
       "      <td>[&lt;S&gt; long - distance trafficking of membranous...</td>\n",
       "      <td>NaN</td>\n",
       "      <td>[Introduction, Motor-Dependent Transport of Ra...</td>\n",
       "      <td>[[eukaryotic cells depend on vesicle - mediate...</td>\n",
       "    </tr>\n",
       "    <tr>\n",
       "      <th>119920</th>\n",
       "      <td>PMC3198562</td>\n",
       "      <td>[as regards the selection criteria of the post...</td>\n",
       "      <td>[&lt;S&gt; aims and objectives : to study the stress...</td>\n",
       "      <td>NaN</td>\n",
       "      <td>[INTRODUCTION, MATERIALS AND METHODS, Modeling...</td>\n",
       "      <td>[[fiber post systems are routinely used in res...</td>\n",
       "    </tr>\n",
       "    <tr>\n",
       "      <th>119921</th>\n",
       "      <td>PMC4436536</td>\n",
       "      <td>[in most of the peer review publications in th...</td>\n",
       "      <td>[&lt;S&gt; abstractbackgroundthe objective of this s...</td>\n",
       "      <td>NaN</td>\n",
       "      <td>[Introduction, Methods, Results, Discussion, L...</td>\n",
       "      <td>[[in most of the peer review publications in t...</td>\n",
       "    </tr>\n",
       "    <tr>\n",
       "      <th>119922</th>\n",
       "      <td>PMC4251613</td>\n",
       "      <td>[the reveal registry is a longitudinal registr...</td>\n",
       "      <td>[&lt;S&gt; background : patients with pulmonary arte...</td>\n",
       "      <td>NaN</td>\n",
       "      <td>[TRIAL REGISTRY:, Materials and Methods, REVEA...</td>\n",
       "      <td>[[], [the reveal registry is a longitudinal re...</td>\n",
       "    </tr>\n",
       "    <tr>\n",
       "      <th>119923</th>\n",
       "      <td>PMC3389695</td>\n",
       "      <td>[cerebral palsy is a nonprogressive central ne...</td>\n",
       "      <td>[&lt;S&gt; \\n objective . to determine &lt;/S&gt;, &lt;S&gt; if ...</td>\n",
       "      <td>NaN</td>\n",
       "      <td>[1. Introduction, 2. Method, 3. Results, 4. Di...</td>\n",
       "      <td>[[cerebral palsy is a nonprogressive central n...</td>\n",
       "    </tr>\n",
       "  </tbody>\n",
       "</table>\n",
       "<p>119924 rows × 6 columns</p>\n",
       "</div>"
      ],
      "text/plain": [
       "        article_id                                       article_text  \\\n",
       "0       PMC3872579  [a recent systematic analysis showed that in 2...   \n",
       "1       PMC3770628  [it occurs in more than 50% of patients and ma...   \n",
       "2       PMC5330001  [tardive dystonia ( td ) , a rarer side effect...   \n",
       "3       PMC4386667  [lepidoptera include agricultural pests that ,...   \n",
       "4       PMC4307954  [syncope is caused by transient diffuse cerebr...   \n",
       "...            ...                                                ...   \n",
       "119919  PMC3502213  [eukaryotic cells depend on vesicle - mediated...   \n",
       "119920  PMC3198562  [as regards the selection criteria of the post...   \n",
       "119921  PMC4436536  [in most of the peer review publications in th...   \n",
       "119922  PMC4251613  [the reveal registry is a longitudinal registr...   \n",
       "119923  PMC3389695  [cerebral palsy is a nonprogressive central ne...   \n",
       "\n",
       "                                            abstract_text  labels  \\\n",
       "0       [<S> background : the present study was carrie...     NaN   \n",
       "1       [<S> backgroundanemia in patients with cancer ...     NaN   \n",
       "2       [<S> tardive dystonia ( td ) is a serious side...     NaN   \n",
       "3       [<S> many lepidopteran insects are agricultura...     NaN   \n",
       "4       [<S> we present an unusual case of recurrent c...     NaN   \n",
       "...                                                   ...     ...   \n",
       "119919  [<S> long - distance trafficking of membranous...     NaN   \n",
       "119920  [<S> aims and objectives : to study the stress...     NaN   \n",
       "119921  [<S> abstractbackgroundthe objective of this s...     NaN   \n",
       "119922  [<S> background : patients with pulmonary arte...     NaN   \n",
       "119923  [<S> \\n objective . to determine </S>, <S> if ...     NaN   \n",
       "\n",
       "                                            section_names  \\\n",
       "0       [INTRODUCTION, MATERIALS AND METHODS, Particip...   \n",
       "1       [Introduction, Patients and methods, Study des...   \n",
       "2       [INTRODUCTION, CASE REPORT, DISCUSSION, Declar...   \n",
       "3       [1. Introduction, 2. Insect Immunity, 3. Signa...   \n",
       "4       [Introduction, Case report, Discussion, Confli...   \n",
       "...                                                   ...   \n",
       "119919  [Introduction, Motor-Dependent Transport of Ra...   \n",
       "119920  [INTRODUCTION, MATERIALS AND METHODS, Modeling...   \n",
       "119921  [Introduction, Methods, Results, Discussion, L...   \n",
       "119922  [TRIAL REGISTRY:, Materials and Methods, REVEA...   \n",
       "119923  [1. Introduction, 2. Method, 3. Results, 4. Di...   \n",
       "\n",
       "                                                 sections  \n",
       "0       [[a recent systematic analysis showed that in ...  \n",
       "1       [[it occurs in more than 50% of patients and m...  \n",
       "2       [[tardive dystonia ( td ) , a rarer side effec...  \n",
       "3       [[lepidoptera include agricultural pests that ...  \n",
       "4       [[syncope is caused by transient diffuse cereb...  \n",
       "...                                                   ...  \n",
       "119919  [[eukaryotic cells depend on vesicle - mediate...  \n",
       "119920  [[fiber post systems are routinely used in res...  \n",
       "119921  [[in most of the peer review publications in t...  \n",
       "119922  [[], [the reveal registry is a longitudinal re...  \n",
       "119923  [[cerebral palsy is a nonprogressive central n...  \n",
       "\n",
       "[119924 rows x 6 columns]"
      ]
     },
     "execution_count": 5,
     "metadata": {},
     "output_type": "execute_result"
    }
   ],
   "source": [
    "train_df"
   ]
  },
  {
   "cell_type": "code",
   "execution_count": 6,
   "metadata": {},
   "outputs": [
    {
     "data": {
      "text/plain": [
       "[['a recent systematic analysis showed that in 2011 , 314 ( 296 - 331 ) million children younger than 5 years were mildly , moderately or severely stunted and 258 ( 240 - 274 ) million were mildly , moderately or severely underweight in the developing countries .',\n",
       "  'in iran a study among 752 high school girls in sistan and baluchestan showed prevalence of 16.2% , 8.6% and 1.5% , for underweight , overweight and obesity , respectively .',\n",
       "  'the prevalence of malnutrition among elementary school aged children in tehran varied from 6% to 16% .',\n",
       "  'anthropometric study of elementary school students in shiraz revealed that 16% of them suffer from malnutrition and low body weight .',\n",
       "  'snack should have 300 - 400 kcal energy and could provide 5 - 10 g of protein / day . nowadays , school nutrition programs are running as the national programs , world - wide . national school lunch program in the united states',\n",
       "  'there are also some reports regarding school feeding programs in developing countries . in vietnam ,',\n",
       "  'school base program showed an improvement in nutrient intakes . in iran a national free food program ( nffp )',\n",
       "  'is implemented in elementary schools of deprived areas to cover all poor students . however , this program is not conducted in slums and poor areas of the big cities so many malnourished children with low socio - economic situation are not covered by nffp . although the rate of poverty in areas known as deprived is higher than other areas , many students in deprived areas are not actually poor and can afford food .',\n",
       "  'hence , nutritional value of the nffp is lower than the scientific recommended snacks for this age group .',\n",
       "  'furthermore , lack of variety of food packages has decreased the tendency of children toward nffp . on the other hand ,',\n",
       "  'the most important one is ministry of education ( moe ) of iran , which is responsible for selecting and providing the packages for targeted schools .',\n",
       "  'the ministry of health ( moh ) is supervising the health situation of students and their health needs .',\n",
       "  'welfare organizations , along with charities , have the indirect effect on nutritional status of students by financial support of their family .',\n",
       "  'provincial governors have also the role of coordinating and supervising all activities of these organizations .',\n",
       "  \"parent - teacher association is a community - based institution that participates in school 's policy such as nffp .\",\n",
       "  'in addition to these organizations , nutritional literacy of students , their parents and teachers , is a very important issue , which could affect nutritional status of school age children .',\n",
       "  'therefore , the present study was conducted with the aim of improving the nffp , so that by its resources all poor children will be covered even in big cities .',\n",
       "  'moreover , all food packages were replaced by nutritious and diverse packages that were accessible for non - poor children . according to the aim of this study and multiple factors that could affect the problem ,',\n",
       "  'public health advocacy has been chosen as the best strategy to deal with this issue .',\n",
       "  'therefore , the present study determines the effects of nutrition intervention in an advocacy process model on the prevalence of underweight in school aged children in the poor area of shiraz , iran .'],\n",
       " ['this interventional study has been carried out between 2009 and 2010 in shiraz , iran .',\n",
       "  'this survey was approved by the research committee of shiraz university of medical sciences . in coordination with education organization of fars province',\n",
       "  'two elementary schools and one middle school in the third region of the urban area of shiraz were selected randomly . in those schools all',\n",
       "  'students ( 2897 , 7 - 13 years old ) were screened based on their body mass index ( bmi ) by nutritionists . according to convenience method all',\n",
       "  \"students divided to two groups based on their economic situation ; family revenue and head of household 's job and nutrition situation ; the first group were poor and malnourished students and the other group were well nourished or well - off students .\",\n",
       "  \"for this report , the children 's height and weight were entered into center for disease control and prevention ( cdc ) to calculate bmi and bmi - for - age z - scores based on cdc for diseases control and prevention and growth standards .\",\n",
       "  'the significance of the difference between proportions was calculated using two - tailed z - tests for independent proportions . for implementing the interventions ,',\n",
       "  'the advocacy process model weight was to the nearest 0.1 kg on a balance scale ( model # seca scale ) .',\n",
       "  'standing height was measured to the nearest 0.1 cm with a wall - mounted stadiometer .',\n",
       "  'advocacy group formation : this step was started with stakeholder analysis and identifying the stakeholders .',\n",
       "  'the team was formed with representatives of all stakeholders include ; education organization , welfare organization , deputy for health of shiraz university , food and cosmetic product supervisory office and several non - governmental organizations and charities . situation analysis : this was carried out by use of existing data such as formal report of organizations , literature review and focus group with experts .',\n",
       "  'the prevalence of malnutrition and its related factors among students was determined and weaknesses and strengths of the nffp were analyzed .',\n",
       "  'accordingly , three sub - groups were established : research and evaluation , education and justification and executive group . designing the strategies :',\n",
       "  'three strategies were identified ; education and justification campaign , nutritional intervention ( providing nutritious , safe and diverse snacks ) and networking . performing the interventions : interventions that were implementing in selected schools were providing a diverse and nutritious snack package along with nutrition education for both groups while the first group ( poor and malnourished students ) was utilized the package free of charge .',\n",
       "  'education and justification intervention : regarding the literature review and expert opinion , an educational group affiliated with the advocacy team has prepared educational booklets about nutritional information for each level ( degree ) .',\n",
       "  'accordingly , education of these booklets has been integrated into regular education of students and they educated and justified for better nutrition life - style .',\n",
       "  \"it leads the educational group to hold several meeting with the student 's parents to justify them about the project and its benefit for their children .\",\n",
       "  'after these meetings , parental desire for participation in the project illustrated the effectiveness of the justification meeting with them .',\n",
       "  'for educate fifteen talk show programs in tv and radio , 12 published papers in the local newspaper , have implemented to mobilize the community and gain their support .',\n",
       "  'healthy diet , the importance of breakfast and snack in adolescence , wrong food habits among school age children , role of the family to improve food habit of children were the main topics , in which media campaign has focused on .',\n",
       "  'nutritional intervention : the snack basket of the students was replaced with traditional , nutritious and diverse foods . in general , the new snack package in average has provided 380 kcal energy , 15 g protein along with sufficient calcium and iron .',\n",
       "  'low economic and malnourished children were supported by executive group affiliated with advocacy team and the rest of them prepare their snack by themselves .',\n",
       "  'research and evaluation : in this step , the literacy and anthropometric indices ( bmi ) of students were assessed before and after the interventions .',\n",
       "  'the reference for anthropometric measures was the world health organization / national center for health statistics ( who / nchs ) standards and the cut - offs were - two standard deviations ( sd ) from the mean .',\n",
       "  'each student that was malnourished and poor has been taken into account for free food and nutritious snacks .',\n",
       "  \"demographic information , height , weight and knowledge of the students were measured by use of a validated and reliable ( cronbach 's alpha was 0.61 ) questionnaire .\",\n",
       "  'this project is granted by shiraz university of medical sciences , charities and welfare organization and education organization of fars province .',\n",
       "  'statistical analyses were performed using the statistical package for the social sciences ( spss ) software , version 17.0 ( spss inc . ,',\n",
       "  'the results are expressed as mean  sd and proportions as appropriated . in order to determine the effective variables on the malnutrition status',\n",
       "  'paired t test was used to compare the end values with baseline ones in each group .',\n",
       "  'in this project , the who z - score cut - offs used were as follow : using bmi - for - age z - scores ; overweight : > + 1 sd , i.e. , z - score > 1 ( equivalent to bmi 25 kg / m ) , obesity : > + 2 sd ( equivalent to bmi 30 kg / m ) , thinness : < 2 sd and severe thinness : < 3 sd .'],\n",
       " ['this interventional study has been carried out between 2009 and 2010 in shiraz , iran .',\n",
       "  'this survey was approved by the research committee of shiraz university of medical sciences . in coordination with education organization of fars province',\n",
       "  'two elementary schools and one middle school in the third region of the urban area of shiraz were selected randomly . in those schools all',\n",
       "  'students ( 2897 , 7 - 13 years old ) were screened based on their body mass index ( bmi ) by nutritionists . according to convenience method all',\n",
       "  \"students divided to two groups based on their economic situation ; family revenue and head of household 's job and nutrition situation ; the first group were poor and malnourished students and the other group were well nourished or well - off students .\",\n",
       "  \"for this report , the children 's height and weight were entered into center for disease control and prevention ( cdc ) to calculate bmi and bmi - for - age z - scores based on cdc for diseases control and prevention and growth standards .\",\n",
       "  'the significance of the difference between proportions was calculated using two - tailed z - tests for independent proportions . for implementing the interventions ,'],\n",
       " ['weight was to the nearest 0.1 kg on a balance scale ( model # seca scale ) .',\n",
       "  'standing height was measured to the nearest 0.1 cm with a wall - mounted stadiometer .'],\n",
       " ['advocacy group formation : this step was started with stakeholder analysis and identifying the stakeholders .',\n",
       "  'the team was formed with representatives of all stakeholders include ; education organization , welfare organization , deputy for health of shiraz university , food and cosmetic product supervisory office and several non - governmental organizations and charities . situation analysis : this was carried out by use of existing data such as formal report of organizations , literature review and focus group with experts .',\n",
       "  'the prevalence of malnutrition and its related factors among students was determined and weaknesses and strengths of the nffp were analyzed .',\n",
       "  'accordingly , three sub - groups were established : research and evaluation , education and justification and executive group . designing the strategies :',\n",
       "  'three strategies were identified ; education and justification campaign , nutritional intervention ( providing nutritious , safe and diverse snacks ) and networking . performing the interventions : interventions that were implementing in selected schools were providing a diverse and nutritious snack package along with nutrition education for both groups while the first group ( poor and malnourished students ) was utilized the package free of charge . duration of intervention was 6 months .',\n",
       "  'education and justification intervention : regarding the literature review and expert opinion , an educational group affiliated with the advocacy team has prepared educational booklets about nutritional information for each level ( degree ) .',\n",
       "  \"accordingly , education of these booklets has been integrated into regular education of students and they educated and justified for better nutrition life - style . obviously , student 's families had remarkable effect on children 's food habit .\",\n",
       "  \"it leads the educational group to hold several meeting with the student 's parents to justify them about the project and its benefit for their children .\",\n",
       "  'after these meetings , parental desire for participation in the project illustrated the effectiveness of the justification meeting with them .',\n",
       "  'educate fifteen talk show programs in tv and radio , 12 published papers in the local newspaper , have implemented to mobilize the community and gain their support .',\n",
       "  'healthy diet , the importance of breakfast and snack in adolescence , wrong food habits among school age children , role of the family to improve food habit of children were the main topics , in which media campaign has focused on .',\n",
       "  'nutritional intervention : the snack basket of the students was replaced with traditional , nutritious and diverse foods . in general , the new snack package in average has provided 380 kcal energy , 15 g protein along with sufficient calcium and iron .',\n",
       "  'low economic and malnourished children were supported by executive group affiliated with advocacy team and the rest of them prepare their snack by themselves .',\n",
       "  'research and evaluation : in this step , the literacy and anthropometric indices ( bmi ) of students were assessed before and after the interventions .',\n",
       "  'the reference for anthropometric measures was the world health organization / national center for health statistics ( who / nchs ) standards and the cut - offs were - two standard deviations ( sd ) from the mean .',\n",
       "  'each student that was malnourished and poor has been taken into account for free food and nutritious snacks .',\n",
       "  \"demographic information , height , weight and knowledge of the students were measured by use of a validated and reliable ( cronbach 's alpha was 0.61 ) questionnaire .\",\n",
       "  'this project is granted by shiraz university of medical sciences , charities and welfare organization and education organization of fars province .'],\n",
       " ['advocacy group formation : this step was started with stakeholder analysis and identifying the stakeholders .',\n",
       "  'the team was formed with representatives of all stakeholders include ; education organization , welfare organization , deputy for health of shiraz university , food and cosmetic product supervisory office and several non - governmental organizations and charities .'],\n",
       " ['situation analysis : this was carried out by use of existing data such as formal report of organizations , literature review and focus group with experts .',\n",
       "  'the prevalence of malnutrition and its related factors among students was determined and weaknesses and strengths of the nffp were analyzed .',\n",
       "  'accordingly , three sub - groups were established : research and evaluation , education and justification and executive group .'],\n",
       " ['designing the strategies : three strategies were identified ; education and justification campaign , nutritional intervention ( providing nutritious , safe and diverse snacks ) and networking .'],\n",
       " ['performing the interventions : interventions that were implementing in selected schools were providing a diverse and nutritious snack package along with nutrition education for both groups while the first group ( poor and malnourished students ) was utilized the package free of charge .'],\n",
       " ['education and justification intervention : regarding the literature review and expert opinion , an educational group affiliated with the advocacy team has prepared educational booklets about nutritional information for each level ( degree ) .',\n",
       "  \"accordingly , education of these booklets has been integrated into regular education of students and they educated and justified for better nutrition life - style . obviously , student 's families had remarkable effect on children 's food habit .\",\n",
       "  \"it leads the educational group to hold several meeting with the student 's parents to justify them about the project and its benefit for their children .\",\n",
       "  'after these meetings , parental desire for participation in the project illustrated the effectiveness of the justification meeting with them .',\n",
       "  'educate fifteen talk show programs in tv and radio , 12 published papers in the local newspaper , have implemented to mobilize the community and gain their support .',\n",
       "  'healthy diet , the importance of breakfast and snack in adolescence , wrong food habits among school age children , role of the family to improve food habit of children were the main topics , in which media campaign has focused on . nutritional intervention : the snack basket of the students',\n",
       "  'was replaced with traditional , nutritious and diverse foods . in general , the new snack package in average has provided 380 kcal energy , 15 g protein along with sufficient calcium and iron .',\n",
       "  'low economic and malnourished children were supported by executive group affiliated with advocacy team and the rest of them prepare their snack by themselves .'],\n",
       " ['research and evaluation : in this step , the literacy and anthropometric indices ( bmi ) of students were assessed before and after the interventions .',\n",
       "  'the reference for anthropometric measures was the world health organization / national center for health statistics ( who / nchs ) standards and the cut - offs were - two standard deviations ( sd ) from the mean .',\n",
       "  'each student that was malnourished and poor has been taken into account for free food and nutritious snacks .',\n",
       "  \"demographic information , height , weight and knowledge of the students were measured by use of a validated and reliable ( cronbach 's alpha was 0.61 ) questionnaire .\",\n",
       "  'this project is granted by shiraz university of medical sciences , charities and welfare organization and education organization of fars province .'],\n",
       " ['statistical analyses were performed using the statistical package for the social sciences ( spss ) software , version 17.0 ( spss inc . , chicago , il , usa ) .',\n",
       "  'the results are expressed as mean  sd and proportions as appropriated . in order to determine the effective variables on the malnutrition status',\n",
       "  'paired t test was used to compare the end values with baseline ones in each group .',\n",
       "  'two - sided p < 0.05 was considered to be statistically significant . in this project ,',\n",
       "  'the who z - score cut - offs used were as follow : using bmi - for - age z - scores ; overweight : > + 1 sd , i.e. , z - score > 1 ( equivalent to bmi 25 kg / m ) , obesity : > + 2 sd ( equivalent to bmi 30',\n",
       "  'kg / m ) , thinness : < 2 sd and severe thinness : < 3 sd .'],\n",
       " ['study population contains 2897 children ; 70.8% were primary school students and 29.2% were secondary school students .',\n",
       "  '2336 ( 80.5% ) out of total students were well - off and 561 children ( 19.5% ) were indigent .',\n",
       "  '19.5% of subjects were in case group ( n = 561 ) and 80.5% were in the control group ( n = 2336 ) .',\n",
       "  'the mean of age in welfare group was 10.0  2.3 and 10.5  2.5 in non - welfare group .',\n",
       "  'demographic characteristics of school aged children in shiraz , iran table 2 shows the frequency of subjects in different categories of bmi for age in non - welfare and welfare groups of school aged children separately among boys and girls before and after a nutrition intervention based on advocacy process model in shiraz , iran .',\n",
       "  'the frequency of subjects with bmi lower than < 2 sd decreased significantly after intervention among non - welfare girls ( p < 0.01 ) .',\n",
       "  'however , there were no significant decreases in the frequency of subjects with bmi lower than < 2 sd boys .',\n",
       "  'when we assess the effect of intervention in total population without separating by sex groups , we found no significant change in this population [ table 3 ] .',\n",
       "  'bmi for age for iranian students aged 7 - 14 years based on gender according to who growth standards 2007 bmi for age for iranian students aged 7 - 14 years according to who growth standards 2007 in non - welfare and welfare groups of total population table 4 has shown the prevalence of normal bmi , mild , moderate and severe malnutrition in non - welfare and welfare groups of school aged children separately among boys and girls before and after a nutrition intervention based on advocacy process model . according to this table',\n",
       "  'there were no significant differences in the prevalence of mild , moderate and severe malnutrition among girls and boys .',\n",
       "  'table 4 also shows the mean of all anthropometric indices changed significantly after intervention both among girls and boys .',\n",
       "  \"the pre- and post - test education assessment in both groups showed that the student 's average knowledge score has been significantly increased from 12.5  3.2 to 16.8  4.3 ( p < 0.0001 ) .\",\n",
       "  \"bmi , height and weight in non - welfare and welfare groups of school aged children separately in males and females before and after a nutrition intervention based on advocacy process model in shiraz , iran according to study 's finding the odds ratio ( or ) of sever thinness and thinness in non - welfare compared with welfare is 3.5 ( or = 3.5 , confidence interval [ ci ] = 2.5 - 3.9 , p < 0.001 ) .\",\n",
       "  'furthermore , the finding showed or of overweight and obesity in welfare compared to non - welfare is 19.3 ( or = 19.3 , ci = 2.5 - 3.9 , p = 0.04 ) .'],\n",
       " ['the result of this community intervention study revealed that nutrition intervention based on advocacy program had been successful to reduce the prevalence of underweight among poor girls .',\n",
       "  'this study shows determinant factor of nutritional status of school age children was their socio - economic level . according to our knowledge ,',\n",
       "  'this is the first study , which determines the effect of a community intervention based on advocacy process on the malnutrition indices in a big city ( shiraz ) in iran .',\n",
       "  'the other program in iran ( nffp ) is specified to deprived area and is not conducted in big cities .',\n",
       "  \"allocating millions of dollars to nffp by government , selecting the malnourished students through an active screening system at primary and middle schools , paying attention of policy makers to student 's nutrition have provided the opportunity to combat the problem . however , negligence of under - poverty line , providing poor snacks in terms of nutritional value and lack of variety are the main defects of this program .\",\n",
       "  'advocacy by definition is a blending of science , ethics and politics for comprehensive approaching health issues . by using advocacy program in california among the high school students for improving their nutrition and physical activity',\n",
       "  'angeles unified school district participants emphasized on nutrition classes for families as well as students in addition to other interventions . in the present study',\n",
       "  'another study revealed that evaluability assessment gave stakeholders the opportunity to reflect on the project and its implementation issues .',\n",
       "  'it seems that in iran , free food program among the students not only is needed in deprived areas , but also it should be performed in big cities such as shiraz . at baseline ,',\n",
       "  'no significant difference was founded among wealthy students between the pre- and post - nutritional status intervention .',\n",
       "  'in contrast , the numbers of students who have malnutrition decreased from 44% to 39.4% , which was identified as a significant among impecunious girls students .',\n",
       "  'there was also a significant increase in the proportion of children with bmi that was normal for age ( 2 to + 1 sd ) most of the published community interventions showed better results among females compared with males .',\n",
       "  'this difference in the impact of nutritional interventions between male and female might be related to the different age of puberty in the female population compared to the male population . in the age range of the present study female',\n",
       "  'although , there is no nffp in big cities of iran , there are some programs for improving the nutritional status such as providing free milk in schools .',\n",
       "  'a recent publication has shown that school feeding programs focus on milk supplementation had beneficial effects on the physical function and school performances specifically among girls in iran .',\n",
       "  \"the results of the mentioned study showed an improvement in the weight of children , psychological test 's scores and the grade - point average following this school feeding program .\",\n",
       "  'the intervention in the present study had focused on the snack intake in the school time .',\n",
       "  'there are some reports regarding the nutrition transition in iran , which shows the importance of nutrition intervention to provide more healthy eating dietary habits among welfare groups of adolescents .',\n",
       "  \"hence , nutrition intervention especially in the form of nutrition education is needed in big cities and among welfare children and adolescents . although a study among iranian adolescents showed that dietary behavior of adolescents does not accord to their knowledge , which emphasize on the necessity of community intervention programs . a recent study regarding the major dietary pattern among iranian children showed the presence of four major dietary patterns , in which fast food pattern and sweet pattern as two major dietary patterns can be mentioned among iranian children . in advocacy program audience 's analysis\",\n",
       "  'accordingly , one of the prominent strategies in this study was working with media and was meeting with parent - teacher association that both of them were secondary target audiences',\n",
       "  '. we also took into account policy makers in different levels , from national to local as primary audiences .',\n",
       "  'advocacy team had several meetings with management and planning organization at national level and education organization of the fars province as well as principal of the targeted schools .',\n",
       "  'providing nutritious snacks need contribution of private sector such as food industries or factories , but their benefits should be warranted .',\n",
       "  'another choice was community involvement ; which can be achieved by female health volunteers who are working with the health system .',\n",
       "  \"advocacy team by using the support of charities and female health volunteers could establish a local factory that produced student 's snacks based on the new definition . however , there are some challenges on the way of expanding this program .\",\n",
       "  'mass production of the proposed snacks according to different desires and cultures and getting involvement of food industries with respect to marketing issues is one of those challenges .',\n",
       "  'moreover , providing a supportive environment in order to change the food habits of the students and their parents among the wide range of the population require a sustainable and continuous inter - sector collaboration .',\n",
       "  'although in a limited number of schools , in our study , interventions and advocacy program was successful , expanding this model to another areas around the country depends on convincing the policy makers at national level . in this',\n",
       "  'regard , advocacy team should prepare evidenced based profile and transitional planning to convince the policy makers for improving the rule and regulation of nffp .',\n",
       "  'the same as this study in other studies have also emphasized that there must be efforts to strengthen the capacity within the schools to deal with the nutritional problems either overweight , obesity or malnutrition by using of educational and nutritional intervention .',\n",
       "  \"assessing the dietary adherence is very important in nutrition intervention among population . as this population was children and adolescents we had a limitation in the blood sample collection to assess the subject 's dietary adherence .\",\n",
       "  'furthermore , this intervention was only focused on the intake of snack in school time and we did not have comprehensive information on the dietary intake of children and adolescents after school all over the day .',\n",
       "  'the investigators propose further investigation in different areas of the country based on socio - cultural differences in order to make necessary modification and adapt this model to other areas .',\n",
       "  'regarding the nutritional needs of the school age children , provision of a good platform for implementing and expanding this efficient model to the whole country based upon the socio - economic situation of each region is advisable to the moh and the moe .'],\n",
       " ['community nutrition intervention based on the advocacy process model is effective on reducing the prevalence of underweight specifically among female school aged children .']]"
      ]
     },
     "execution_count": 6,
     "metadata": {},
     "output_type": "execute_result"
    }
   ],
   "source": [
    "train_df['sections'][0]"
   ]
  },
  {
   "cell_type": "code",
   "execution_count": 7,
   "metadata": {},
   "outputs": [],
   "source": [
    "def sec_join(df):\n",
    "    # 每一行\n",
    "    sample_list = []\n",
    "    for sample in df['sections']:\n",
    "        # 每一个sample的每一个section\n",
    "        sections = []\n",
    "        for section in sample: \n",
    "            temp = \" \".join(section)\n",
    "            sections.append(temp)\n",
    "        \n",
    "        sample_list.append(sections)\n",
    "    \n",
    "    return sample_list"
   ]
  },
  {
   "cell_type": "code",
   "execution_count": 8,
   "metadata": {},
   "outputs": [],
   "source": [
    "for dataset in [train_df, val_df, test_df]:\n",
    "    dataset['sections'] = sec_join(dataset)"
   ]
  },
  {
   "cell_type": "code",
   "execution_count": 9,
   "metadata": {},
   "outputs": [
    {
     "data": {
      "text/plain": [
       "[\"a recent systematic analysis showed that in 2011 , 314 ( 296 - 331 ) million children younger than 5 years were mildly , moderately or severely stunted and 258 ( 240 - 274 ) million were mildly , moderately or severely underweight in the developing countries . in iran a study among 752 high school girls in sistan and baluchestan showed prevalence of 16.2% , 8.6% and 1.5% , for underweight , overweight and obesity , respectively . the prevalence of malnutrition among elementary school aged children in tehran varied from 6% to 16% . anthropometric study of elementary school students in shiraz revealed that 16% of them suffer from malnutrition and low body weight . snack should have 300 - 400 kcal energy and could provide 5 - 10 g of protein / day . nowadays , school nutrition programs are running as the national programs , world - wide . national school lunch program in the united states there are also some reports regarding school feeding programs in developing countries . in vietnam , school base program showed an improvement in nutrient intakes . in iran a national free food program ( nffp ) is implemented in elementary schools of deprived areas to cover all poor students . however , this program is not conducted in slums and poor areas of the big cities so many malnourished children with low socio - economic situation are not covered by nffp . although the rate of poverty in areas known as deprived is higher than other areas , many students in deprived areas are not actually poor and can afford food . hence , nutritional value of the nffp is lower than the scientific recommended snacks for this age group . furthermore , lack of variety of food packages has decreased the tendency of children toward nffp . on the other hand , the most important one is ministry of education ( moe ) of iran , which is responsible for selecting and providing the packages for targeted schools . the ministry of health ( moh ) is supervising the health situation of students and their health needs . welfare organizations , along with charities , have the indirect effect on nutritional status of students by financial support of their family . provincial governors have also the role of coordinating and supervising all activities of these organizations . parent - teacher association is a community - based institution that participates in school 's policy such as nffp . in addition to these organizations , nutritional literacy of students , their parents and teachers , is a very important issue , which could affect nutritional status of school age children . therefore , the present study was conducted with the aim of improving the nffp , so that by its resources all poor children will be covered even in big cities . moreover , all food packages were replaced by nutritious and diverse packages that were accessible for non - poor children . according to the aim of this study and multiple factors that could affect the problem , public health advocacy has been chosen as the best strategy to deal with this issue . therefore , the present study determines the effects of nutrition intervention in an advocacy process model on the prevalence of underweight in school aged children in the poor area of shiraz , iran .\",\n",
       " \"this interventional study has been carried out between 2009 and 2010 in shiraz , iran . this survey was approved by the research committee of shiraz university of medical sciences . in coordination with education organization of fars province two elementary schools and one middle school in the third region of the urban area of shiraz were selected randomly . in those schools all students ( 2897 , 7 - 13 years old ) were screened based on their body mass index ( bmi ) by nutritionists . according to convenience method all students divided to two groups based on their economic situation ; family revenue and head of household 's job and nutrition situation ; the first group were poor and malnourished students and the other group were well nourished or well - off students . for this report , the children 's height and weight were entered into center for disease control and prevention ( cdc ) to calculate bmi and bmi - for - age z - scores based on cdc for diseases control and prevention and growth standards . the significance of the difference between proportions was calculated using two - tailed z - tests for independent proportions . for implementing the interventions , the advocacy process model weight was to the nearest 0.1 kg on a balance scale ( model # seca scale ) . standing height was measured to the nearest 0.1 cm with a wall - mounted stadiometer . advocacy group formation : this step was started with stakeholder analysis and identifying the stakeholders . the team was formed with representatives of all stakeholders include ; education organization , welfare organization , deputy for health of shiraz university , food and cosmetic product supervisory office and several non - governmental organizations and charities . situation analysis : this was carried out by use of existing data such as formal report of organizations , literature review and focus group with experts . the prevalence of malnutrition and its related factors among students was determined and weaknesses and strengths of the nffp were analyzed . accordingly , three sub - groups were established : research and evaluation , education and justification and executive group . designing the strategies : three strategies were identified ; education and justification campaign , nutritional intervention ( providing nutritious , safe and diverse snacks ) and networking . performing the interventions : interventions that were implementing in selected schools were providing a diverse and nutritious snack package along with nutrition education for both groups while the first group ( poor and malnourished students ) was utilized the package free of charge . education and justification intervention : regarding the literature review and expert opinion , an educational group affiliated with the advocacy team has prepared educational booklets about nutritional information for each level ( degree ) . accordingly , education of these booklets has been integrated into regular education of students and they educated and justified for better nutrition life - style . it leads the educational group to hold several meeting with the student 's parents to justify them about the project and its benefit for their children . after these meetings , parental desire for participation in the project illustrated the effectiveness of the justification meeting with them . for educate fifteen talk show programs in tv and radio , 12 published papers in the local newspaper , have implemented to mobilize the community and gain their support . healthy diet , the importance of breakfast and snack in adolescence , wrong food habits among school age children , role of the family to improve food habit of children were the main topics , in which media campaign has focused on . nutritional intervention : the snack basket of the students was replaced with traditional , nutritious and diverse foods . in general , the new snack package in average has provided 380 kcal energy , 15 g protein along with sufficient calcium and iron . low economic and malnourished children were supported by executive group affiliated with advocacy team and the rest of them prepare their snack by themselves . research and evaluation : in this step , the literacy and anthropometric indices ( bmi ) of students were assessed before and after the interventions . the reference for anthropometric measures was the world health organization / national center for health statistics ( who / nchs ) standards and the cut - offs were - two standard deviations ( sd ) from the mean . each student that was malnourished and poor has been taken into account for free food and nutritious snacks . demographic information , height , weight and knowledge of the students were measured by use of a validated and reliable ( cronbach 's alpha was 0.61 ) questionnaire . this project is granted by shiraz university of medical sciences , charities and welfare organization and education organization of fars province . statistical analyses were performed using the statistical package for the social sciences ( spss ) software , version 17.0 ( spss inc . , the results are expressed as mean  sd and proportions as appropriated . in order to determine the effective variables on the malnutrition status paired t test was used to compare the end values with baseline ones in each group . in this project , the who z - score cut - offs used were as follow : using bmi - for - age z - scores ; overweight : > + 1 sd , i.e. , z - score > 1 ( equivalent to bmi 25 kg / m ) , obesity : > + 2 sd ( equivalent to bmi 30 kg / m ) , thinness : < 2 sd and severe thinness : < 3 sd .\",\n",
       " \"this interventional study has been carried out between 2009 and 2010 in shiraz , iran . this survey was approved by the research committee of shiraz university of medical sciences . in coordination with education organization of fars province two elementary schools and one middle school in the third region of the urban area of shiraz were selected randomly . in those schools all students ( 2897 , 7 - 13 years old ) were screened based on their body mass index ( bmi ) by nutritionists . according to convenience method all students divided to two groups based on their economic situation ; family revenue and head of household 's job and nutrition situation ; the first group were poor and malnourished students and the other group were well nourished or well - off students . for this report , the children 's height and weight were entered into center for disease control and prevention ( cdc ) to calculate bmi and bmi - for - age z - scores based on cdc for diseases control and prevention and growth standards . the significance of the difference between proportions was calculated using two - tailed z - tests for independent proportions . for implementing the interventions ,\",\n",
       " 'weight was to the nearest 0.1 kg on a balance scale ( model # seca scale ) . standing height was measured to the nearest 0.1 cm with a wall - mounted stadiometer .',\n",
       " \"advocacy group formation : this step was started with stakeholder analysis and identifying the stakeholders . the team was formed with representatives of all stakeholders include ; education organization , welfare organization , deputy for health of shiraz university , food and cosmetic product supervisory office and several non - governmental organizations and charities . situation analysis : this was carried out by use of existing data such as formal report of organizations , literature review and focus group with experts . the prevalence of malnutrition and its related factors among students was determined and weaknesses and strengths of the nffp were analyzed . accordingly , three sub - groups were established : research and evaluation , education and justification and executive group . designing the strategies : three strategies were identified ; education and justification campaign , nutritional intervention ( providing nutritious , safe and diverse snacks ) and networking . performing the interventions : interventions that were implementing in selected schools were providing a diverse and nutritious snack package along with nutrition education for both groups while the first group ( poor and malnourished students ) was utilized the package free of charge . duration of intervention was 6 months . education and justification intervention : regarding the literature review and expert opinion , an educational group affiliated with the advocacy team has prepared educational booklets about nutritional information for each level ( degree ) . accordingly , education of these booklets has been integrated into regular education of students and they educated and justified for better nutrition life - style . obviously , student 's families had remarkable effect on children 's food habit . it leads the educational group to hold several meeting with the student 's parents to justify them about the project and its benefit for their children . after these meetings , parental desire for participation in the project illustrated the effectiveness of the justification meeting with them . educate fifteen talk show programs in tv and radio , 12 published papers in the local newspaper , have implemented to mobilize the community and gain their support . healthy diet , the importance of breakfast and snack in adolescence , wrong food habits among school age children , role of the family to improve food habit of children were the main topics , in which media campaign has focused on . nutritional intervention : the snack basket of the students was replaced with traditional , nutritious and diverse foods . in general , the new snack package in average has provided 380 kcal energy , 15 g protein along with sufficient calcium and iron . low economic and malnourished children were supported by executive group affiliated with advocacy team and the rest of them prepare their snack by themselves . research and evaluation : in this step , the literacy and anthropometric indices ( bmi ) of students were assessed before and after the interventions . the reference for anthropometric measures was the world health organization / national center for health statistics ( who / nchs ) standards and the cut - offs were - two standard deviations ( sd ) from the mean . each student that was malnourished and poor has been taken into account for free food and nutritious snacks . demographic information , height , weight and knowledge of the students were measured by use of a validated and reliable ( cronbach 's alpha was 0.61 ) questionnaire . this project is granted by shiraz university of medical sciences , charities and welfare organization and education organization of fars province .\",\n",
       " 'advocacy group formation : this step was started with stakeholder analysis and identifying the stakeholders . the team was formed with representatives of all stakeholders include ; education organization , welfare organization , deputy for health of shiraz university , food and cosmetic product supervisory office and several non - governmental organizations and charities .',\n",
       " 'situation analysis : this was carried out by use of existing data such as formal report of organizations , literature review and focus group with experts . the prevalence of malnutrition and its related factors among students was determined and weaknesses and strengths of the nffp were analyzed . accordingly , three sub - groups were established : research and evaluation , education and justification and executive group .',\n",
       " 'designing the strategies : three strategies were identified ; education and justification campaign , nutritional intervention ( providing nutritious , safe and diverse snacks ) and networking .',\n",
       " 'performing the interventions : interventions that were implementing in selected schools were providing a diverse and nutritious snack package along with nutrition education for both groups while the first group ( poor and malnourished students ) was utilized the package free of charge .',\n",
       " \"education and justification intervention : regarding the literature review and expert opinion , an educational group affiliated with the advocacy team has prepared educational booklets about nutritional information for each level ( degree ) . accordingly , education of these booklets has been integrated into regular education of students and they educated and justified for better nutrition life - style . obviously , student 's families had remarkable effect on children 's food habit . it leads the educational group to hold several meeting with the student 's parents to justify them about the project and its benefit for their children . after these meetings , parental desire for participation in the project illustrated the effectiveness of the justification meeting with them . educate fifteen talk show programs in tv and radio , 12 published papers in the local newspaper , have implemented to mobilize the community and gain their support . healthy diet , the importance of breakfast and snack in adolescence , wrong food habits among school age children , role of the family to improve food habit of children were the main topics , in which media campaign has focused on . nutritional intervention : the snack basket of the students was replaced with traditional , nutritious and diverse foods . in general , the new snack package in average has provided 380 kcal energy , 15 g protein along with sufficient calcium and iron . low economic and malnourished children were supported by executive group affiliated with advocacy team and the rest of them prepare their snack by themselves .\",\n",
       " \"research and evaluation : in this step , the literacy and anthropometric indices ( bmi ) of students were assessed before and after the interventions . the reference for anthropometric measures was the world health organization / national center for health statistics ( who / nchs ) standards and the cut - offs were - two standard deviations ( sd ) from the mean . each student that was malnourished and poor has been taken into account for free food and nutritious snacks . demographic information , height , weight and knowledge of the students were measured by use of a validated and reliable ( cronbach 's alpha was 0.61 ) questionnaire . this project is granted by shiraz university of medical sciences , charities and welfare organization and education organization of fars province .\",\n",
       " 'statistical analyses were performed using the statistical package for the social sciences ( spss ) software , version 17.0 ( spss inc . , chicago , il , usa ) . the results are expressed as mean  sd and proportions as appropriated . in order to determine the effective variables on the malnutrition status paired t test was used to compare the end values with baseline ones in each group . two - sided p < 0.05 was considered to be statistically significant . in this project , the who z - score cut - offs used were as follow : using bmi - for - age z - scores ; overweight : > + 1 sd , i.e. , z - score > 1 ( equivalent to bmi 25 kg / m ) , obesity : > + 2 sd ( equivalent to bmi 30 kg / m ) , thinness : < 2 sd and severe thinness : < 3 sd .',\n",
       " \"study population contains 2897 children ; 70.8% were primary school students and 29.2% were secondary school students . 2336 ( 80.5% ) out of total students were well - off and 561 children ( 19.5% ) were indigent . 19.5% of subjects were in case group ( n = 561 ) and 80.5% were in the control group ( n = 2336 ) . the mean of age in welfare group was 10.0  2.3 and 10.5  2.5 in non - welfare group . demographic characteristics of school aged children in shiraz , iran table 2 shows the frequency of subjects in different categories of bmi for age in non - welfare and welfare groups of school aged children separately among boys and girls before and after a nutrition intervention based on advocacy process model in shiraz , iran . the frequency of subjects with bmi lower than < 2 sd decreased significantly after intervention among non - welfare girls ( p < 0.01 ) . however , there were no significant decreases in the frequency of subjects with bmi lower than < 2 sd boys . when we assess the effect of intervention in total population without separating by sex groups , we found no significant change in this population [ table 3 ] . bmi for age for iranian students aged 7 - 14 years based on gender according to who growth standards 2007 bmi for age for iranian students aged 7 - 14 years according to who growth standards 2007 in non - welfare and welfare groups of total population table 4 has shown the prevalence of normal bmi , mild , moderate and severe malnutrition in non - welfare and welfare groups of school aged children separately among boys and girls before and after a nutrition intervention based on advocacy process model . according to this table there were no significant differences in the prevalence of mild , moderate and severe malnutrition among girls and boys . table 4 also shows the mean of all anthropometric indices changed significantly after intervention both among girls and boys . the pre- and post - test education assessment in both groups showed that the student 's average knowledge score has been significantly increased from 12.5  3.2 to 16.8  4.3 ( p < 0.0001 ) . bmi , height and weight in non - welfare and welfare groups of school aged children separately in males and females before and after a nutrition intervention based on advocacy process model in shiraz , iran according to study 's finding the odds ratio ( or ) of sever thinness and thinness in non - welfare compared with welfare is 3.5 ( or = 3.5 , confidence interval [ ci ] = 2.5 - 3.9 , p < 0.001 ) . furthermore , the finding showed or of overweight and obesity in welfare compared to non - welfare is 19.3 ( or = 19.3 , ci = 2.5 - 3.9 , p = 0.04 ) .\",\n",
       " \"the result of this community intervention study revealed that nutrition intervention based on advocacy program had been successful to reduce the prevalence of underweight among poor girls . this study shows determinant factor of nutritional status of school age children was their socio - economic level . according to our knowledge , this is the first study , which determines the effect of a community intervention based on advocacy process on the malnutrition indices in a big city ( shiraz ) in iran . the other program in iran ( nffp ) is specified to deprived area and is not conducted in big cities . allocating millions of dollars to nffp by government , selecting the malnourished students through an active screening system at primary and middle schools , paying attention of policy makers to student 's nutrition have provided the opportunity to combat the problem . however , negligence of under - poverty line , providing poor snacks in terms of nutritional value and lack of variety are the main defects of this program . advocacy by definition is a blending of science , ethics and politics for comprehensive approaching health issues . by using advocacy program in california among the high school students for improving their nutrition and physical activity angeles unified school district participants emphasized on nutrition classes for families as well as students in addition to other interventions . in the present study another study revealed that evaluability assessment gave stakeholders the opportunity to reflect on the project and its implementation issues . it seems that in iran , free food program among the students not only is needed in deprived areas , but also it should be performed in big cities such as shiraz . at baseline , no significant difference was founded among wealthy students between the pre- and post - nutritional status intervention . in contrast , the numbers of students who have malnutrition decreased from 44% to 39.4% , which was identified as a significant among impecunious girls students . there was also a significant increase in the proportion of children with bmi that was normal for age ( 2 to + 1 sd ) most of the published community interventions showed better results among females compared with males . this difference in the impact of nutritional interventions between male and female might be related to the different age of puberty in the female population compared to the male population . in the age range of the present study female although , there is no nffp in big cities of iran , there are some programs for improving the nutritional status such as providing free milk in schools . a recent publication has shown that school feeding programs focus on milk supplementation had beneficial effects on the physical function and school performances specifically among girls in iran . the results of the mentioned study showed an improvement in the weight of children , psychological test 's scores and the grade - point average following this school feeding program . the intervention in the present study had focused on the snack intake in the school time . there are some reports regarding the nutrition transition in iran , which shows the importance of nutrition intervention to provide more healthy eating dietary habits among welfare groups of adolescents . hence , nutrition intervention especially in the form of nutrition education is needed in big cities and among welfare children and adolescents . although a study among iranian adolescents showed that dietary behavior of adolescents does not accord to their knowledge , which emphasize on the necessity of community intervention programs . a recent study regarding the major dietary pattern among iranian children showed the presence of four major dietary patterns , in which fast food pattern and sweet pattern as two major dietary patterns can be mentioned among iranian children . in advocacy program audience 's analysis accordingly , one of the prominent strategies in this study was working with media and was meeting with parent - teacher association that both of them were secondary target audiences . we also took into account policy makers in different levels , from national to local as primary audiences . advocacy team had several meetings with management and planning organization at national level and education organization of the fars province as well as principal of the targeted schools . providing nutritious snacks need contribution of private sector such as food industries or factories , but their benefits should be warranted . another choice was community involvement ; which can be achieved by female health volunteers who are working with the health system . advocacy team by using the support of charities and female health volunteers could establish a local factory that produced student 's snacks based on the new definition . however , there are some challenges on the way of expanding this program . mass production of the proposed snacks according to different desires and cultures and getting involvement of food industries with respect to marketing issues is one of those challenges . moreover , providing a supportive environment in order to change the food habits of the students and their parents among the wide range of the population require a sustainable and continuous inter - sector collaboration . although in a limited number of schools , in our study , interventions and advocacy program was successful , expanding this model to another areas around the country depends on convincing the policy makers at national level . in this regard , advocacy team should prepare evidenced based profile and transitional planning to convince the policy makers for improving the rule and regulation of nffp . the same as this study in other studies have also emphasized that there must be efforts to strengthen the capacity within the schools to deal with the nutritional problems either overweight , obesity or malnutrition by using of educational and nutritional intervention . assessing the dietary adherence is very important in nutrition intervention among population . as this population was children and adolescents we had a limitation in the blood sample collection to assess the subject 's dietary adherence . furthermore , this intervention was only focused on the intake of snack in school time and we did not have comprehensive information on the dietary intake of children and adolescents after school all over the day . the investigators propose further investigation in different areas of the country based on socio - cultural differences in order to make necessary modification and adapt this model to other areas . regarding the nutritional needs of the school age children , provision of a good platform for implementing and expanding this efficient model to the whole country based upon the socio - economic situation of each region is advisable to the moh and the moe .\",\n",
       " 'community nutrition intervention based on the advocacy process model is effective on reducing the prevalence of underweight specifically among female school aged children .']"
      ]
     },
     "execution_count": 9,
     "metadata": {},
     "output_type": "execute_result"
    }
   ],
   "source": [
    "train_df.iloc[0]['sections']"
   ]
  },
  {
   "cell_type": "markdown",
   "metadata": {},
   "source": [
    "### 2.2.2 删除空行（包括None）"
   ]
  },
  {
   "cell_type": "markdown",
   "metadata": {},
   "source": [
    "* 删除labels列, 原数据集里就是全空值"
   ]
  },
  {
   "cell_type": "code",
   "execution_count": 10,
   "metadata": {},
   "outputs": [],
   "source": [
    "# 首先需要删除labels列, 原数据集里面的labels列是空的\n",
    "for dataset in [train_df, val_df, test_df]:\n",
    "    dataset.drop(columns=['labels'], inplace=True)"
   ]
  },
  {
   "cell_type": "markdown",
   "metadata": {},
   "source": [
    "* 再删除有空值的行,确保没有问题"
   ]
  },
  {
   "cell_type": "code",
   "execution_count": 11,
   "metadata": {},
   "outputs": [],
   "source": [
    "# 删除有空值的行\n",
    "for dataset in [train_df, val_df, test_df]:\n",
    "    dataset.dropna(inplace=True)"
   ]
  },
  {
   "cell_type": "markdown",
   "metadata": {},
   "source": [
    "* 过滤掉文章本身为空的行"
   ]
  },
  {
   "cell_type": "code",
   "execution_count": 12,
   "metadata": {},
   "outputs": [],
   "source": [
    "train_df = train_df[train_df['article_text'].apply(lambda x: x != [\"\"])]\n",
    "val_df = val_df[val_df['article_text'].apply(lambda x: x != [\"\"])]\n",
    "test_df = test_df[test_df['article_text'].apply(lambda x: x != [\"\"])]"
   ]
  },
  {
   "cell_type": "code",
   "execution_count": 13,
   "metadata": {},
   "outputs": [
    {
     "data": {
      "text/html": [
       "<div>\n",
       "<style scoped>\n",
       "    .dataframe tbody tr th:only-of-type {\n",
       "        vertical-align: middle;\n",
       "    }\n",
       "\n",
       "    .dataframe tbody tr th {\n",
       "        vertical-align: top;\n",
       "    }\n",
       "\n",
       "    .dataframe thead th {\n",
       "        text-align: right;\n",
       "    }\n",
       "</style>\n",
       "<table border=\"1\" class=\"dataframe\">\n",
       "  <thead>\n",
       "    <tr style=\"text-align: right;\">\n",
       "      <th></th>\n",
       "      <th>article_id</th>\n",
       "      <th>article_text</th>\n",
       "      <th>abstract_text</th>\n",
       "      <th>section_names</th>\n",
       "      <th>sections</th>\n",
       "    </tr>\n",
       "  </thead>\n",
       "  <tbody>\n",
       "    <tr>\n",
       "      <th>0</th>\n",
       "      <td>PMC3872579</td>\n",
       "      <td>[a recent systematic analysis showed that in 2...</td>\n",
       "      <td>[&lt;S&gt; background : the present study was carrie...</td>\n",
       "      <td>[INTRODUCTION, MATERIALS AND METHODS, Particip...</td>\n",
       "      <td>[a recent systematic analysis showed that in 2...</td>\n",
       "    </tr>\n",
       "    <tr>\n",
       "      <th>1</th>\n",
       "      <td>PMC3770628</td>\n",
       "      <td>[it occurs in more than 50% of patients and ma...</td>\n",
       "      <td>[&lt;S&gt; backgroundanemia in patients with cancer ...</td>\n",
       "      <td>[Introduction, Patients and methods, Study des...</td>\n",
       "      <td>[it occurs in more than 50% of patients and ma...</td>\n",
       "    </tr>\n",
       "    <tr>\n",
       "      <th>2</th>\n",
       "      <td>PMC5330001</td>\n",
       "      <td>[tardive dystonia ( td ) , a rarer side effect...</td>\n",
       "      <td>[&lt;S&gt; tardive dystonia ( td ) is a serious side...</td>\n",
       "      <td>[INTRODUCTION, CASE REPORT, DISCUSSION, Declar...</td>\n",
       "      <td>[tardive dystonia ( td ) , a rarer side effect...</td>\n",
       "    </tr>\n",
       "    <tr>\n",
       "      <th>3</th>\n",
       "      <td>PMC4386667</td>\n",
       "      <td>[lepidoptera include agricultural pests that ,...</td>\n",
       "      <td>[&lt;S&gt; many lepidopteran insects are agricultura...</td>\n",
       "      <td>[1. Introduction, 2. Insect Immunity, 3. Signa...</td>\n",
       "      <td>[lepidoptera include agricultural pests that ,...</td>\n",
       "    </tr>\n",
       "    <tr>\n",
       "      <th>4</th>\n",
       "      <td>PMC4307954</td>\n",
       "      <td>[syncope is caused by transient diffuse cerebr...</td>\n",
       "      <td>[&lt;S&gt; we present an unusual case of recurrent c...</td>\n",
       "      <td>[Introduction, Case report, Discussion, Confli...</td>\n",
       "      <td>[syncope is caused by transient diffuse cerebr...</td>\n",
       "    </tr>\n",
       "    <tr>\n",
       "      <th>...</th>\n",
       "      <td>...</td>\n",
       "      <td>...</td>\n",
       "      <td>...</td>\n",
       "      <td>...</td>\n",
       "      <td>...</td>\n",
       "    </tr>\n",
       "    <tr>\n",
       "      <th>119919</th>\n",
       "      <td>PMC3502213</td>\n",
       "      <td>[eukaryotic cells depend on vesicle - mediated...</td>\n",
       "      <td>[&lt;S&gt; long - distance trafficking of membranous...</td>\n",
       "      <td>[Introduction, Motor-Dependent Transport of Ra...</td>\n",
       "      <td>[eukaryotic cells depend on vesicle - mediated...</td>\n",
       "    </tr>\n",
       "    <tr>\n",
       "      <th>119920</th>\n",
       "      <td>PMC3198562</td>\n",
       "      <td>[as regards the selection criteria of the post...</td>\n",
       "      <td>[&lt;S&gt; aims and objectives : to study the stress...</td>\n",
       "      <td>[INTRODUCTION, MATERIALS AND METHODS, Modeling...</td>\n",
       "      <td>[fiber post systems are routinely used in rest...</td>\n",
       "    </tr>\n",
       "    <tr>\n",
       "      <th>119921</th>\n",
       "      <td>PMC4436536</td>\n",
       "      <td>[in most of the peer review publications in th...</td>\n",
       "      <td>[&lt;S&gt; abstractbackgroundthe objective of this s...</td>\n",
       "      <td>[Introduction, Methods, Results, Discussion, L...</td>\n",
       "      <td>[in most of the peer review publications in th...</td>\n",
       "    </tr>\n",
       "    <tr>\n",
       "      <th>119922</th>\n",
       "      <td>PMC4251613</td>\n",
       "      <td>[the reveal registry is a longitudinal registr...</td>\n",
       "      <td>[&lt;S&gt; background : patients with pulmonary arte...</td>\n",
       "      <td>[TRIAL REGISTRY:, Materials and Methods, REVEA...</td>\n",
       "      <td>[, the reveal registry is a longitudinal regis...</td>\n",
       "    </tr>\n",
       "    <tr>\n",
       "      <th>119923</th>\n",
       "      <td>PMC3389695</td>\n",
       "      <td>[cerebral palsy is a nonprogressive central ne...</td>\n",
       "      <td>[&lt;S&gt; \\n objective . to determine &lt;/S&gt;, &lt;S&gt; if ...</td>\n",
       "      <td>[1. Introduction, 2. Method, 3. Results, 4. Di...</td>\n",
       "      <td>[cerebral palsy is a nonprogressive central ne...</td>\n",
       "    </tr>\n",
       "  </tbody>\n",
       "</table>\n",
       "<p>117112 rows × 5 columns</p>\n",
       "</div>"
      ],
      "text/plain": [
       "        article_id                                       article_text  \\\n",
       "0       PMC3872579  [a recent systematic analysis showed that in 2...   \n",
       "1       PMC3770628  [it occurs in more than 50% of patients and ma...   \n",
       "2       PMC5330001  [tardive dystonia ( td ) , a rarer side effect...   \n",
       "3       PMC4386667  [lepidoptera include agricultural pests that ,...   \n",
       "4       PMC4307954  [syncope is caused by transient diffuse cerebr...   \n",
       "...            ...                                                ...   \n",
       "119919  PMC3502213  [eukaryotic cells depend on vesicle - mediated...   \n",
       "119920  PMC3198562  [as regards the selection criteria of the post...   \n",
       "119921  PMC4436536  [in most of the peer review publications in th...   \n",
       "119922  PMC4251613  [the reveal registry is a longitudinal registr...   \n",
       "119923  PMC3389695  [cerebral palsy is a nonprogressive central ne...   \n",
       "\n",
       "                                            abstract_text  \\\n",
       "0       [<S> background : the present study was carrie...   \n",
       "1       [<S> backgroundanemia in patients with cancer ...   \n",
       "2       [<S> tardive dystonia ( td ) is a serious side...   \n",
       "3       [<S> many lepidopteran insects are agricultura...   \n",
       "4       [<S> we present an unusual case of recurrent c...   \n",
       "...                                                   ...   \n",
       "119919  [<S> long - distance trafficking of membranous...   \n",
       "119920  [<S> aims and objectives : to study the stress...   \n",
       "119921  [<S> abstractbackgroundthe objective of this s...   \n",
       "119922  [<S> background : patients with pulmonary arte...   \n",
       "119923  [<S> \\n objective . to determine </S>, <S> if ...   \n",
       "\n",
       "                                            section_names  \\\n",
       "0       [INTRODUCTION, MATERIALS AND METHODS, Particip...   \n",
       "1       [Introduction, Patients and methods, Study des...   \n",
       "2       [INTRODUCTION, CASE REPORT, DISCUSSION, Declar...   \n",
       "3       [1. Introduction, 2. Insect Immunity, 3. Signa...   \n",
       "4       [Introduction, Case report, Discussion, Confli...   \n",
       "...                                                   ...   \n",
       "119919  [Introduction, Motor-Dependent Transport of Ra...   \n",
       "119920  [INTRODUCTION, MATERIALS AND METHODS, Modeling...   \n",
       "119921  [Introduction, Methods, Results, Discussion, L...   \n",
       "119922  [TRIAL REGISTRY:, Materials and Methods, REVEA...   \n",
       "119923  [1. Introduction, 2. Method, 3. Results, 4. Di...   \n",
       "\n",
       "                                                 sections  \n",
       "0       [a recent systematic analysis showed that in 2...  \n",
       "1       [it occurs in more than 50% of patients and ma...  \n",
       "2       [tardive dystonia ( td ) , a rarer side effect...  \n",
       "3       [lepidoptera include agricultural pests that ,...  \n",
       "4       [syncope is caused by transient diffuse cerebr...  \n",
       "...                                                   ...  \n",
       "119919  [eukaryotic cells depend on vesicle - mediated...  \n",
       "119920  [fiber post systems are routinely used in rest...  \n",
       "119921  [in most of the peer review publications in th...  \n",
       "119922  [, the reveal registry is a longitudinal regis...  \n",
       "119923  [cerebral palsy is a nonprogressive central ne...  \n",
       "\n",
       "[117112 rows x 5 columns]"
      ]
     },
     "execution_count": 13,
     "metadata": {},
     "output_type": "execute_result"
    }
   ],
   "source": [
    "# 似乎只有train数据集里有空的article_text\n",
    "train_df"
   ]
  },
  {
   "cell_type": "markdown",
   "metadata": {},
   "source": [
    "### 2.2.3 根据关键字列表合并sections"
   ]
  },
  {
   "cell_type": "markdown",
   "metadata": {},
   "source": [
    "* 首先需要取section_names的每一个句子的小写\n",
    "* 获取到section_names的中和keyword tabel相匹配的每一个section"
   ]
  },
  {
   "cell_type": "code",
   "execution_count": 14,
   "metadata": {},
   "outputs": [
    {
     "data": {
      "text/plain": [
       "[\"a recent systematic analysis showed that in 2011 , 314 ( 296 - 331 ) million children younger than 5 years were mildly , moderately or severely stunted and 258 ( 240 - 274 ) million were mildly , moderately or severely underweight in the developing countries . in iran a study among 752 high school girls in sistan and baluchestan showed prevalence of 16.2% , 8.6% and 1.5% , for underweight , overweight and obesity , respectively . the prevalence of malnutrition among elementary school aged children in tehran varied from 6% to 16% . anthropometric study of elementary school students in shiraz revealed that 16% of them suffer from malnutrition and low body weight . snack should have 300 - 400 kcal energy and could provide 5 - 10 g of protein / day . nowadays , school nutrition programs are running as the national programs , world - wide . national school lunch program in the united states there are also some reports regarding school feeding programs in developing countries . in vietnam , school base program showed an improvement in nutrient intakes . in iran a national free food program ( nffp ) is implemented in elementary schools of deprived areas to cover all poor students . however , this program is not conducted in slums and poor areas of the big cities so many malnourished children with low socio - economic situation are not covered by nffp . although the rate of poverty in areas known as deprived is higher than other areas , many students in deprived areas are not actually poor and can afford food . hence , nutritional value of the nffp is lower than the scientific recommended snacks for this age group . furthermore , lack of variety of food packages has decreased the tendency of children toward nffp . on the other hand , the most important one is ministry of education ( moe ) of iran , which is responsible for selecting and providing the packages for targeted schools . the ministry of health ( moh ) is supervising the health situation of students and their health needs . welfare organizations , along with charities , have the indirect effect on nutritional status of students by financial support of their family . provincial governors have also the role of coordinating and supervising all activities of these organizations . parent - teacher association is a community - based institution that participates in school 's policy such as nffp . in addition to these organizations , nutritional literacy of students , their parents and teachers , is a very important issue , which could affect nutritional status of school age children . therefore , the present study was conducted with the aim of improving the nffp , so that by its resources all poor children will be covered even in big cities . moreover , all food packages were replaced by nutritious and diverse packages that were accessible for non - poor children . according to the aim of this study and multiple factors that could affect the problem , public health advocacy has been chosen as the best strategy to deal with this issue . therefore , the present study determines the effects of nutrition intervention in an advocacy process model on the prevalence of underweight in school aged children in the poor area of shiraz , iran .\",\n",
       " \"this interventional study has been carried out between 2009 and 2010 in shiraz , iran . this survey was approved by the research committee of shiraz university of medical sciences . in coordination with education organization of fars province two elementary schools and one middle school in the third region of the urban area of shiraz were selected randomly . in those schools all students ( 2897 , 7 - 13 years old ) were screened based on their body mass index ( bmi ) by nutritionists . according to convenience method all students divided to two groups based on their economic situation ; family revenue and head of household 's job and nutrition situation ; the first group were poor and malnourished students and the other group were well nourished or well - off students . for this report , the children 's height and weight were entered into center for disease control and prevention ( cdc ) to calculate bmi and bmi - for - age z - scores based on cdc for diseases control and prevention and growth standards . the significance of the difference between proportions was calculated using two - tailed z - tests for independent proportions . for implementing the interventions , the advocacy process model weight was to the nearest 0.1 kg on a balance scale ( model # seca scale ) . standing height was measured to the nearest 0.1 cm with a wall - mounted stadiometer . advocacy group formation : this step was started with stakeholder analysis and identifying the stakeholders . the team was formed with representatives of all stakeholders include ; education organization , welfare organization , deputy for health of shiraz university , food and cosmetic product supervisory office and several non - governmental organizations and charities . situation analysis : this was carried out by use of existing data such as formal report of organizations , literature review and focus group with experts . the prevalence of malnutrition and its related factors among students was determined and weaknesses and strengths of the nffp were analyzed . accordingly , three sub - groups were established : research and evaluation , education and justification and executive group . designing the strategies : three strategies were identified ; education and justification campaign , nutritional intervention ( providing nutritious , safe and diverse snacks ) and networking . performing the interventions : interventions that were implementing in selected schools were providing a diverse and nutritious snack package along with nutrition education for both groups while the first group ( poor and malnourished students ) was utilized the package free of charge . education and justification intervention : regarding the literature review and expert opinion , an educational group affiliated with the advocacy team has prepared educational booklets about nutritional information for each level ( degree ) . accordingly , education of these booklets has been integrated into regular education of students and they educated and justified for better nutrition life - style . it leads the educational group to hold several meeting with the student 's parents to justify them about the project and its benefit for their children . after these meetings , parental desire for participation in the project illustrated the effectiveness of the justification meeting with them . for educate fifteen talk show programs in tv and radio , 12 published papers in the local newspaper , have implemented to mobilize the community and gain their support . healthy diet , the importance of breakfast and snack in adolescence , wrong food habits among school age children , role of the family to improve food habit of children were the main topics , in which media campaign has focused on . nutritional intervention : the snack basket of the students was replaced with traditional , nutritious and diverse foods . in general , the new snack package in average has provided 380 kcal energy , 15 g protein along with sufficient calcium and iron . low economic and malnourished children were supported by executive group affiliated with advocacy team and the rest of them prepare their snack by themselves . research and evaluation : in this step , the literacy and anthropometric indices ( bmi ) of students were assessed before and after the interventions . the reference for anthropometric measures was the world health organization / national center for health statistics ( who / nchs ) standards and the cut - offs were - two standard deviations ( sd ) from the mean . each student that was malnourished and poor has been taken into account for free food and nutritious snacks . demographic information , height , weight and knowledge of the students were measured by use of a validated and reliable ( cronbach 's alpha was 0.61 ) questionnaire . this project is granted by shiraz university of medical sciences , charities and welfare organization and education organization of fars province . statistical analyses were performed using the statistical package for the social sciences ( spss ) software , version 17.0 ( spss inc . , the results are expressed as mean  sd and proportions as appropriated . in order to determine the effective variables on the malnutrition status paired t test was used to compare the end values with baseline ones in each group . in this project , the who z - score cut - offs used were as follow : using bmi - for - age z - scores ; overweight : > + 1 sd , i.e. , z - score > 1 ( equivalent to bmi 25 kg / m ) , obesity : > + 2 sd ( equivalent to bmi 30 kg / m ) , thinness : < 2 sd and severe thinness : < 3 sd .\",\n",
       " \"this interventional study has been carried out between 2009 and 2010 in shiraz , iran . this survey was approved by the research committee of shiraz university of medical sciences . in coordination with education organization of fars province two elementary schools and one middle school in the third region of the urban area of shiraz were selected randomly . in those schools all students ( 2897 , 7 - 13 years old ) were screened based on their body mass index ( bmi ) by nutritionists . according to convenience method all students divided to two groups based on their economic situation ; family revenue and head of household 's job and nutrition situation ; the first group were poor and malnourished students and the other group were well nourished or well - off students . for this report , the children 's height and weight were entered into center for disease control and prevention ( cdc ) to calculate bmi and bmi - for - age z - scores based on cdc for diseases control and prevention and growth standards . the significance of the difference between proportions was calculated using two - tailed z - tests for independent proportions . for implementing the interventions ,\",\n",
       " 'weight was to the nearest 0.1 kg on a balance scale ( model # seca scale ) . standing height was measured to the nearest 0.1 cm with a wall - mounted stadiometer .',\n",
       " \"advocacy group formation : this step was started with stakeholder analysis and identifying the stakeholders . the team was formed with representatives of all stakeholders include ; education organization , welfare organization , deputy for health of shiraz university , food and cosmetic product supervisory office and several non - governmental organizations and charities . situation analysis : this was carried out by use of existing data such as formal report of organizations , literature review and focus group with experts . the prevalence of malnutrition and its related factors among students was determined and weaknesses and strengths of the nffp were analyzed . accordingly , three sub - groups were established : research and evaluation , education and justification and executive group . designing the strategies : three strategies were identified ; education and justification campaign , nutritional intervention ( providing nutritious , safe and diverse snacks ) and networking . performing the interventions : interventions that were implementing in selected schools were providing a diverse and nutritious snack package along with nutrition education for both groups while the first group ( poor and malnourished students ) was utilized the package free of charge . duration of intervention was 6 months . education and justification intervention : regarding the literature review and expert opinion , an educational group affiliated with the advocacy team has prepared educational booklets about nutritional information for each level ( degree ) . accordingly , education of these booklets has been integrated into regular education of students and they educated and justified for better nutrition life - style . obviously , student 's families had remarkable effect on children 's food habit . it leads the educational group to hold several meeting with the student 's parents to justify them about the project and its benefit for their children . after these meetings , parental desire for participation in the project illustrated the effectiveness of the justification meeting with them . educate fifteen talk show programs in tv and radio , 12 published papers in the local newspaper , have implemented to mobilize the community and gain their support . healthy diet , the importance of breakfast and snack in adolescence , wrong food habits among school age children , role of the family to improve food habit of children were the main topics , in which media campaign has focused on . nutritional intervention : the snack basket of the students was replaced with traditional , nutritious and diverse foods . in general , the new snack package in average has provided 380 kcal energy , 15 g protein along with sufficient calcium and iron . low economic and malnourished children were supported by executive group affiliated with advocacy team and the rest of them prepare their snack by themselves . research and evaluation : in this step , the literacy and anthropometric indices ( bmi ) of students were assessed before and after the interventions . the reference for anthropometric measures was the world health organization / national center for health statistics ( who / nchs ) standards and the cut - offs were - two standard deviations ( sd ) from the mean . each student that was malnourished and poor has been taken into account for free food and nutritious snacks . demographic information , height , weight and knowledge of the students were measured by use of a validated and reliable ( cronbach 's alpha was 0.61 ) questionnaire . this project is granted by shiraz university of medical sciences , charities and welfare organization and education organization of fars province .\",\n",
       " 'advocacy group formation : this step was started with stakeholder analysis and identifying the stakeholders . the team was formed with representatives of all stakeholders include ; education organization , welfare organization , deputy for health of shiraz university , food and cosmetic product supervisory office and several non - governmental organizations and charities .',\n",
       " 'situation analysis : this was carried out by use of existing data such as formal report of organizations , literature review and focus group with experts . the prevalence of malnutrition and its related factors among students was determined and weaknesses and strengths of the nffp were analyzed . accordingly , three sub - groups were established : research and evaluation , education and justification and executive group .',\n",
       " 'designing the strategies : three strategies were identified ; education and justification campaign , nutritional intervention ( providing nutritious , safe and diverse snacks ) and networking .',\n",
       " 'performing the interventions : interventions that were implementing in selected schools were providing a diverse and nutritious snack package along with nutrition education for both groups while the first group ( poor and malnourished students ) was utilized the package free of charge .',\n",
       " \"education and justification intervention : regarding the literature review and expert opinion , an educational group affiliated with the advocacy team has prepared educational booklets about nutritional information for each level ( degree ) . accordingly , education of these booklets has been integrated into regular education of students and they educated and justified for better nutrition life - style . obviously , student 's families had remarkable effect on children 's food habit . it leads the educational group to hold several meeting with the student 's parents to justify them about the project and its benefit for their children . after these meetings , parental desire for participation in the project illustrated the effectiveness of the justification meeting with them . educate fifteen talk show programs in tv and radio , 12 published papers in the local newspaper , have implemented to mobilize the community and gain their support . healthy diet , the importance of breakfast and snack in adolescence , wrong food habits among school age children , role of the family to improve food habit of children were the main topics , in which media campaign has focused on . nutritional intervention : the snack basket of the students was replaced with traditional , nutritious and diverse foods . in general , the new snack package in average has provided 380 kcal energy , 15 g protein along with sufficient calcium and iron . low economic and malnourished children were supported by executive group affiliated with advocacy team and the rest of them prepare their snack by themselves .\",\n",
       " \"research and evaluation : in this step , the literacy and anthropometric indices ( bmi ) of students were assessed before and after the interventions . the reference for anthropometric measures was the world health organization / national center for health statistics ( who / nchs ) standards and the cut - offs were - two standard deviations ( sd ) from the mean . each student that was malnourished and poor has been taken into account for free food and nutritious snacks . demographic information , height , weight and knowledge of the students were measured by use of a validated and reliable ( cronbach 's alpha was 0.61 ) questionnaire . this project is granted by shiraz university of medical sciences , charities and welfare organization and education organization of fars province .\",\n",
       " 'statistical analyses were performed using the statistical package for the social sciences ( spss ) software , version 17.0 ( spss inc . , chicago , il , usa ) . the results are expressed as mean  sd and proportions as appropriated . in order to determine the effective variables on the malnutrition status paired t test was used to compare the end values with baseline ones in each group . two - sided p < 0.05 was considered to be statistically significant . in this project , the who z - score cut - offs used were as follow : using bmi - for - age z - scores ; overweight : > + 1 sd , i.e. , z - score > 1 ( equivalent to bmi 25 kg / m ) , obesity : > + 2 sd ( equivalent to bmi 30 kg / m ) , thinness : < 2 sd and severe thinness : < 3 sd .',\n",
       " \"study population contains 2897 children ; 70.8% were primary school students and 29.2% were secondary school students . 2336 ( 80.5% ) out of total students were well - off and 561 children ( 19.5% ) were indigent . 19.5% of subjects were in case group ( n = 561 ) and 80.5% were in the control group ( n = 2336 ) . the mean of age in welfare group was 10.0  2.3 and 10.5  2.5 in non - welfare group . demographic characteristics of school aged children in shiraz , iran table 2 shows the frequency of subjects in different categories of bmi for age in non - welfare and welfare groups of school aged children separately among boys and girls before and after a nutrition intervention based on advocacy process model in shiraz , iran . the frequency of subjects with bmi lower than < 2 sd decreased significantly after intervention among non - welfare girls ( p < 0.01 ) . however , there were no significant decreases in the frequency of subjects with bmi lower than < 2 sd boys . when we assess the effect of intervention in total population without separating by sex groups , we found no significant change in this population [ table 3 ] . bmi for age for iranian students aged 7 - 14 years based on gender according to who growth standards 2007 bmi for age for iranian students aged 7 - 14 years according to who growth standards 2007 in non - welfare and welfare groups of total population table 4 has shown the prevalence of normal bmi , mild , moderate and severe malnutrition in non - welfare and welfare groups of school aged children separately among boys and girls before and after a nutrition intervention based on advocacy process model . according to this table there were no significant differences in the prevalence of mild , moderate and severe malnutrition among girls and boys . table 4 also shows the mean of all anthropometric indices changed significantly after intervention both among girls and boys . the pre- and post - test education assessment in both groups showed that the student 's average knowledge score has been significantly increased from 12.5  3.2 to 16.8  4.3 ( p < 0.0001 ) . bmi , height and weight in non - welfare and welfare groups of school aged children separately in males and females before and after a nutrition intervention based on advocacy process model in shiraz , iran according to study 's finding the odds ratio ( or ) of sever thinness and thinness in non - welfare compared with welfare is 3.5 ( or = 3.5 , confidence interval [ ci ] = 2.5 - 3.9 , p < 0.001 ) . furthermore , the finding showed or of overweight and obesity in welfare compared to non - welfare is 19.3 ( or = 19.3 , ci = 2.5 - 3.9 , p = 0.04 ) .\",\n",
       " \"the result of this community intervention study revealed that nutrition intervention based on advocacy program had been successful to reduce the prevalence of underweight among poor girls . this study shows determinant factor of nutritional status of school age children was their socio - economic level . according to our knowledge , this is the first study , which determines the effect of a community intervention based on advocacy process on the malnutrition indices in a big city ( shiraz ) in iran . the other program in iran ( nffp ) is specified to deprived area and is not conducted in big cities . allocating millions of dollars to nffp by government , selecting the malnourished students through an active screening system at primary and middle schools , paying attention of policy makers to student 's nutrition have provided the opportunity to combat the problem . however , negligence of under - poverty line , providing poor snacks in terms of nutritional value and lack of variety are the main defects of this program . advocacy by definition is a blending of science , ethics and politics for comprehensive approaching health issues . by using advocacy program in california among the high school students for improving their nutrition and physical activity angeles unified school district participants emphasized on nutrition classes for families as well as students in addition to other interventions . in the present study another study revealed that evaluability assessment gave stakeholders the opportunity to reflect on the project and its implementation issues . it seems that in iran , free food program among the students not only is needed in deprived areas , but also it should be performed in big cities such as shiraz . at baseline , no significant difference was founded among wealthy students between the pre- and post - nutritional status intervention . in contrast , the numbers of students who have malnutrition decreased from 44% to 39.4% , which was identified as a significant among impecunious girls students . there was also a significant increase in the proportion of children with bmi that was normal for age ( 2 to + 1 sd ) most of the published community interventions showed better results among females compared with males . this difference in the impact of nutritional interventions between male and female might be related to the different age of puberty in the female population compared to the male population . in the age range of the present study female although , there is no nffp in big cities of iran , there are some programs for improving the nutritional status such as providing free milk in schools . a recent publication has shown that school feeding programs focus on milk supplementation had beneficial effects on the physical function and school performances specifically among girls in iran . the results of the mentioned study showed an improvement in the weight of children , psychological test 's scores and the grade - point average following this school feeding program . the intervention in the present study had focused on the snack intake in the school time . there are some reports regarding the nutrition transition in iran , which shows the importance of nutrition intervention to provide more healthy eating dietary habits among welfare groups of adolescents . hence , nutrition intervention especially in the form of nutrition education is needed in big cities and among welfare children and adolescents . although a study among iranian adolescents showed that dietary behavior of adolescents does not accord to their knowledge , which emphasize on the necessity of community intervention programs . a recent study regarding the major dietary pattern among iranian children showed the presence of four major dietary patterns , in which fast food pattern and sweet pattern as two major dietary patterns can be mentioned among iranian children . in advocacy program audience 's analysis accordingly , one of the prominent strategies in this study was working with media and was meeting with parent - teacher association that both of them were secondary target audiences . we also took into account policy makers in different levels , from national to local as primary audiences . advocacy team had several meetings with management and planning organization at national level and education organization of the fars province as well as principal of the targeted schools . providing nutritious snacks need contribution of private sector such as food industries or factories , but their benefits should be warranted . another choice was community involvement ; which can be achieved by female health volunteers who are working with the health system . advocacy team by using the support of charities and female health volunteers could establish a local factory that produced student 's snacks based on the new definition . however , there are some challenges on the way of expanding this program . mass production of the proposed snacks according to different desires and cultures and getting involvement of food industries with respect to marketing issues is one of those challenges . moreover , providing a supportive environment in order to change the food habits of the students and their parents among the wide range of the population require a sustainable and continuous inter - sector collaboration . although in a limited number of schools , in our study , interventions and advocacy program was successful , expanding this model to another areas around the country depends on convincing the policy makers at national level . in this regard , advocacy team should prepare evidenced based profile and transitional planning to convince the policy makers for improving the rule and regulation of nffp . the same as this study in other studies have also emphasized that there must be efforts to strengthen the capacity within the schools to deal with the nutritional problems either overweight , obesity or malnutrition by using of educational and nutritional intervention . assessing the dietary adherence is very important in nutrition intervention among population . as this population was children and adolescents we had a limitation in the blood sample collection to assess the subject 's dietary adherence . furthermore , this intervention was only focused on the intake of snack in school time and we did not have comprehensive information on the dietary intake of children and adolescents after school all over the day . the investigators propose further investigation in different areas of the country based on socio - cultural differences in order to make necessary modification and adapt this model to other areas . regarding the nutritional needs of the school age children , provision of a good platform for implementing and expanding this efficient model to the whole country based upon the socio - economic situation of each region is advisable to the moh and the moe .\",\n",
       " 'community nutrition intervention based on the advocacy process model is effective on reducing the prevalence of underweight specifically among female school aged children .']"
      ]
     },
     "execution_count": 14,
     "metadata": {},
     "output_type": "execute_result"
    }
   ],
   "source": [
    "train_df['sections'][0]"
   ]
  },
  {
   "cell_type": "code",
   "execution_count": 15,
   "metadata": {},
   "outputs": [
    {
     "data": {
      "text/plain": [
       "['<S> background : the present study was carried out to assess the effects of community nutrition intervention based on advocacy approach on malnutrition status among school - aged children in shiraz , iran.materials and methods : this case - control nutritional intervention has been done between 2008 and 2009 on 2897 primary and secondary school boys and girls ( 7 - 13 years old ) based on advocacy approach in shiraz , iran . </S>',\n",
       " '<S> the project provided nutritious snacks in public schools over a 2-year period along with advocacy oriented actions in order to implement and promote nutritional intervention . for evaluation of effectiveness of the intervention growth monitoring indices of pre- and post - intervention were statistically compared.results:the frequency of subjects with body mass index lower than 5% decreased significantly after intervention among girls ( p = 0.02 ) . </S>',\n",
       " '<S> however , there were no significant changes among boys or total population . </S>',\n",
       " '<S> the mean of all anthropometric indices changed significantly after intervention both among girls and boys as well as in total population . </S>',\n",
       " \"<S> the pre- and post - test education assessment in both groups showed that the student 's average knowledge score has been significantly increased from 12.5  3.2 to 16.8  4.3 ( p < 0.0001).conclusion : this study demonstrates the potential success and scalability of school feeding programs in iran . </S>\",\n",
       " '<S> community nutrition intervention based on the advocacy process model is effective on reducing the prevalence of underweight specifically among female school aged children . </S>']"
      ]
     },
     "execution_count": 15,
     "metadata": {},
     "output_type": "execute_result"
    }
   ],
   "source": [
    "train_df['abstract_text'][0]"
   ]
  },
  {
   "cell_type": "code",
   "execution_count": 16,
   "metadata": {},
   "outputs": [],
   "source": [
    "import re\n",
    "from tqdm import tqdm\n",
    "def keyword_matching_and_re_section(dataset):\n",
    "    for idx, sample in tqdm(dataset.iterrows()):\n",
    "        # reset for each sample\n",
    "        sections = [\n",
    "            [], # part_1\n",
    "            [], # part_2\n",
    "            [], # part_3\n",
    "            [], # part_4\n",
    "        ]\n",
    "        section_names = [[] for _ in range(4)]\n",
    "        \n",
    "        for sec_name, sec in zip(sample['section_names'], sample['sections']):\n",
    "            for id, values in enumerate(segmentation_keyword_table.values()):\n",
    "                if any(keyword.lower() in sec_name.lower() for keyword in values):\n",
    "                    sections[id].append(sec)\n",
    "                    \n",
    "        for id, value in enumerate(sections):\n",
    "            sections[id] = \" \".join(sections[id])\n",
    "\n",
    "        dataset['sections'].loc[idx] = sections"
   ]
  },
  {
   "cell_type": "code",
   "execution_count": 17,
   "metadata": {},
   "outputs": [
    {
     "name": "stderr",
     "output_type": "stream",
     "text": [
      "0it [00:00, ?it/s]"
     ]
    },
    {
     "name": "stderr",
     "output_type": "stream",
     "text": [
      "/tmp/ipykernel_8272/450827664.py:22: SettingWithCopyWarning: \n",
      "A value is trying to be set on a copy of a slice from a DataFrame\n",
      "\n",
      "See the caveats in the documentation: https://pandas.pydata.org/pandas-docs/stable/user_guide/indexing.html#returning-a-view-versus-a-copy\n",
      "  dataset['sections'].loc[idx] = sections\n",
      "117112it [02:54, 672.59it/s]\n",
      "6633it [00:01, 3584.99it/s]\n",
      "6658it [00:01, 3573.40it/s]\n"
     ]
    }
   ],
   "source": [
    "for dataset in [train_df, val_df, test_df]:\n",
    "    keyword_matching_and_re_section(dataset)"
   ]
  },
  {
   "cell_type": "markdown",
   "metadata": {},
   "source": [
    "* 如果处理完后的sections仍然不包含完整的四段式结构, 就删除那一行"
   ]
  },
  {
   "cell_type": "code",
   "execution_count": 18,
   "metadata": {},
   "outputs": [],
   "source": [
    "train_df = train_df[train_df['sections'].apply(lambda x: all(s != '' for s in x))]\n",
    "val_df = val_df[val_df['sections'].apply(lambda x: all(s != '' for s in x))]\n",
    "test_df = test_df[test_df['sections'].apply(lambda x: all(s != '' for s in x))]"
   ]
  },
  {
   "cell_type": "code",
   "execution_count": 19,
   "metadata": {},
   "outputs": [
    {
     "data": {
      "text/plain": [
       "[\"aptamers are short single - stranded oligomers made up of dna , rna , or peptides that are capable of binding a target ligand ( proteins , small molecules , or even living cells ) with high affinity . they are also known as artificial antibodies because in addition to binding with high affinity , they also bind with high specificity . aptamers have several advantages over antibodies , including ease and low cost of production which does not involve animals . aptamers are less immunogenic than antibodies and are already being used as therapeutic agents in humans . nucleic acid aptamers , unlike antibodies , can be selected for and used under nonphysiological conditions , such as high - salt conditions and varying ph . also , nucleic acid aptamers are able to undergo specific conformational changes that antibodies can not . for example , nucleic acid aptamer binding can be  turned off  by the addition of the complementary strand . additionally , nucleic acid aptamers can undergo a conformational change when binding to their target and can be used as molecular beacons , fluorescently  off  when unbound and  on  when bound . the field of aptamers is rapidly growing as is the number of applications for their use .   nucleic acid aptamers are  evolved  from random sequences of dna / rna by a process known as systematic evolution of ligands by exponential enrichment ( selex ) . the selex procedure involves the use of the random library of dna / rna sequences being incubated with the target , followed by a partitioning step to remove unbound sequences , an elution step to recover the binding sequences , and then an amplification step to generate a library of sequences enriched for binding . the selex procedure generally takes months to complete , with a typical selection requiring 10 or more rounds before completion . also , traditional selex requires a support for the target ( magnetic beads , membranes , etc . ) to bind with . the supports themselves can be targets for selection , and often rounds of negative selection must be done to avoid aptamers for the support .   use of capillary electrophoresis ( ce ) allows for selex to be performed in a much shorter amount of time due to much more efficient partitioning and without the aptamers binding to the ligand support ( the ligand flows freely in buffer , there is no support ) . in as little as one round of selection , and generally less than five rounds of selection ce - selex is a new technology first developed for use in 2004 and has yet to be commonly used . one of the main advantages to ce - selex over traditional selex is that the aptamer - target complex can be detected in the first round of selection . this early detection contrasts traditional selex , where several rounds must be done before being able to detect any dna . most ce - selex is done with laser - induced fluorescence ( lif ) to increase the detection sensitivity to the analyzed samples . using ce with lif , a laser excites fluorescently labeled samples passing through the glass capillary tube which then emits light that is captured by an on - board detector attached to the ce machine itself .   we have developed a technique for selection of dna aptamers using ce but without the need for an on - board laser / detector system . the system takes advantage of real - time polymerase chain reaction ( rt - pcr ) . rt - pcr is able to sensitively detect dna - target complexes early in the selection procedure with an efficacy greater than that of traditional selex and equal to that of ce - selex with lif . we believe that this system could be beneficial for researchers that have access to ce , but do not have access to ce with lif , and are seeking to perform ce - selex . the protein that we chose to use as a target for aptamer selection was bovine serum albumin ( bsa ) . bsa is widely used for stabilization of enzymes , preventing enzymes of interest from adhering to tubes or pipettes , or as a protein comparison standard . there are several advantages to using bsa in that it is relatively stable , abundantly available from cow 's blood , and is of low cost . due to the low cost and high abundance of bsa , we chose it to serve as the protein target for our rt - pcr - coupled selection system . here , we report the isolation of a dna aptamer with specificity for bsa using the rt - pcr coupled capillary electrophoresis selection system .\",\n",
       " 'the target protein of interest , bovine serum albumin ( bsa ) , was purchased as a lyophilized powder through sigma - aldrich and was greater than 98% pure . the bsa was dissolved in rb1 buffer ( 50  mm tris - hcl , ph 8.2 ) and stored at 4c at a stock concentration of 1  mm . the dna library was purchased from alpha dna and contained a sequence of 5_cttctgcccgcctccttcc-(n)36-gacgagataggcggacact_3 ( 36 random nucleotides flanked by two - fixed 19 base regions used later as primers for pcr amplification ) . the protocol for selex using capillary electrophoresis ( ce ) was essentially as described earlier   but with a few modifications . the initial bulk affinity assay was performed with 50  m bsa and 25  m dna in order to view any dna - protein complexes and determine the collection window . capillary electrophoresis was done using a beckman coulter proteomelab pa 800 with a photon diode array ( pda ) capable of reading wavelengths in the uv range ( 10  nm400  nm ) . separation was done at a voltage of 10  kv and with 0  psi of pressure , except that during timed fraction collection the machine automatically reaches 0.1  psi of pressure . after determination of the collection window based on the bulk affinity analysis , the first round of selection began . the initial in vitro selection procedure involved 500  nm bsa and 3.3  m dna . the dna library ( 0.3  l at 100  m ) was mixed with 0.3  l of sb3 ( 100  mm tris - hcl at ph 8.2 , 200  mm nacl , and 10  mm mgcl2 ) for a final concentration of 50 m dna library , 50  mm tris - hcl at ph 8.2 , 100  mm nacl , and 5  mm mgcl2 . this mixture was heated in the biorad icycler to 94c for 1 minute and then cooled to 20c at a rate of 0.5c per second . after the folding of the dna library , 5  l of 1  m bsa dissolved in rb1 buffer was added , and additional run buffer was added to make the final volume 10  l . this brought the final concentrations to 3.3  m dna library , 500  nm bsa , 6  mm nacl , 300  m mgcl2 , and 50  mm tris - hcl ( ph 8.2 ) . after each round of selection , fractions were analyzed through real - time pcr ( rt - pcr ) using the abi stepone plus . rt - pcr was done with two primers : the forward aptamer - amplifying primer p1 ( 5_cttctgcccgcctccttcc_3 ) and the reverse primer p2 ( 5_agtgtccgcctatctcgtc_3 ) , respectively . the primers were designed using oligoanalyzer ( http://www.idtdna.com/analyzer/applications/oligoanalyzer/ ) to limit complementarity to each other , in order to decrease nonspecific amplification of self - dimerizing primers . for amplification , 20  l of pcr mix was prepared consisting of 10  l of 2x quanta sybr green pcr master mix ( roche ) , 0.6  l of 10  m p1 , 0.6  l of 10  m p2 , 1  l of collected fraction as template , and 7.8  l h2o . following rt - pcr , the fraction containing the complex was amplified using standard pcr . pcr was done in a 100  l volume consisting of 1  l of 5  u/l ex taq polymerase from takara , 3  l of 10  m forward primer p1 , 3  l of 10  m reverse primer p2 , 10  l of 10x mg buffer ( takara ex taq ) , 8  l of 2.5  mm each dntp , and 5  l of the collected fraction from capillary electrophoresis . pcr was done using primer p1 and p2 as noted previously , except that the number of cycles for pcr amplification was based on 50% of the maximum yield as determined by rt - pcr . the biotin - labeled primer was used subsequent to pcr in order to separate the strand of interest and the nonaptamer strand after pcr . magnetic beads with streptavidin coating from bangs laboratories ( biomag nuclease - free streptavidin ) were used to bind the biotin - labeled dna . strands were separated with 10  mm naoh after three washes with wash buffer ( 10  mm tris - hcl at ph 8 with 500  mm nacl and 1  mm edta ) . post - selection dna cloning of the aptamer pool was done with the zero blunt topo pcr cloning kit ( invitrogen ) . standard pcr with unlabeled primers p1 and p2 was used to generate double - stranded dna containing the aptamer sequence , which was then blunt - end ligated into the pcr - blunt ii - topo vector that contains the kanamycin resistance gene . colonies were selected for growth on kanamycin - containing media ( kanamycin final concentration was 40  g / ml ) , and plasmid dna was isolated using the genejet plasmid miniprep kit ( fermentas ) . asymmetric pcr with unlabeled primers p1 and p2 was used on the plasmid dna to predominately generate the strand of interest which was then analyzed using ce and rt - pcr . twelve colonies were pooled into a group and each group was assayed for bsa binding using ce . individual plasmids from each pooled group that showed binding were sequenced by eurofins mwg operon . based on sequencing results , additionally , mfold ( http://mfold.rna.albany.edu/?q=mfold/dna-folding-form ) was used on each candidate aptamer to identify secondary structure . potential aptamer oligonucleotides and a negative control oligonucleotide were 5 labeled with p32 -atp using t4 polynucleotide kinase ( new england biolabs ) . the negative control consisted of an oligonucleotide of the same length as the random dna library oligonucleotides ( 74 bases ) , contained the same flanking primer regions , and had a fixed sequence for its internal region 5-cttctgcccgcctccttccggtcgggcacacctgtcatacccaatctcgaggccagacgagataggcggacact-3. the internal region was chosen using a random dna sequence generator with a specified gc content of 50% ( http://www.faculty.ucr.edu/~mmaduro/random.htm ) . the binding conditions for the initial emsa were done by adding equal amounts of sb3 buffer to the labeled oligonucleotides ( 20,000  cpm equivalent ) and incubating at 94c for 1 minute in a pcr machine and a gradual cooling to 20c at a rate of 0.5c per second ( total time taken is ~4 minutes ) . bsa stock of 1  mm was made in rb1 buffer ( the run buffer used in the ce - selex protocol ) . different dilutions of bsa , as required for assessing aptamer binding , were also made in rb1 buffer . with fixed concentration of the p32-labeled candidate aptamer , the concentration of the ligand ( bsa ) was varied from 50 to 800  m .   the buffer used for binding was a 6x buffer consisting of 600  mm ammonium chloride , 300  mm potassium chloride , 30  mm sodium chloride , 120  mm tris - hcl ph 7.5 , 30% glycerol , and bromophenol blue ( bpb ) 0.25% . the reaction was incubated at room temperature for 30 minutes after which 1.5  l of 10x loading buffer ( 200  mm tris - hcl ph 8.2 , 50% glycerol , and bpb 0.25% ) was added and the reaction was left on ice for 515 minutes before loading into the gel . minigels were made with stock solutions of 40% acrylamide / bis - acrylamide ( 29  :  1 ) , 1x tris - borate edta ( tbe ) , 10% ammonium persulfate ( aps ) , and tetramethylethylenediamine ( temed ) . prerun was done in 1x tbe buffer for 1 hour prior to loading of the samples . the samples were run at 150  v until the bromophenol blue dye reached the bottom of the gel . the radioactivity in the gel was analyzed by phosphor imager ( molecular dynamics - typhoon trio imager ) . apart from the above - mentioned 6x buffer , an additional 5x binding buffer containing 100  mm tris - hcl ph 8.5 , 250  mm nacl , 10  mm mgcl2 , 10  mm zncl2 , and 10% glycerol was added in the incubation mixture . furthermore , the radiolabeled oligonucleotides were added directly to the incubation mixture and not heated to 94c as done previously . samples were left on ice for 515 minutes before being loaded into the 4% nondenaturing gels which had been prerun for 1 hour in 1x tbe as described previously . increasing concentrations of the specific unlabeled oligonucleotide were added during incubation of the bsa - aptamer complex ( conditions described previously ) . three different amounts ( 1.25 , 2.5 , and 5  pmol ) were used . complex formation was allowed to go on for 30 minutes at room temperature before the radioactively labeled oligonucleotide was added and the incubation was continued for another hour and 30 minutes . in the control sample , all the conditions were similar except for the absence of the unlabeled competing oligonucleotide .   emsas were set up using 4  g of the anti - bsa polyclonal antibody ( obtained from invitrogen ) . essentially , the antibody ( 4  g ) was mixed with bsa ( 500  m ) along with the 5x binding buffer and left on ice for 1 hour . the radioactively labeled i1 - 5 aptamer and the 6x buffer were added next and the incubation continued for 1 hour and 30 minutes at room temperature before stopping the incubation by leaving the samples on ice for 515 minutes .',\n",
       " \"the general scheme of rt - pcr coupled ce - selex is shown in figure 1 . to test the concept that aptamer selection with ce - selex and rt - pcr could be feasible , we first began by calibrating the capillary electrophoresis ( ce ) machine . the ce machine used , the proteomelab pa 800 , is incapable of running solutions that contain high concentrations of salts . due to this limitation , our buffers had to be tested to find the proper salt balance to ensure that the machine did not fail but at the same time had enough salt to stabilize our aptamer structures . therefore , the buffer condition used for the initial step of folding the dna library was done in a high - salt buffer ( 50  mm tris - hcl at ph 8.2 , 100  mm nacl , and 5  mm mgcl2 ) followed by incubation and running the folded dna library in low - salt concentrations ( 50  mm tris - hcl at ph 8.2 , 6  mm nacl , and 300  nm mgcl2 ) to ensure both proper folding and running of the dna library . although the low - salt problem may have excluded many potential binders to bsa , low - salt concentrations actually mirror the physiological conditions more accurately since the cellular level of magnesium is only ~1 - 2  mm . after optimizing for the salt concentrations , we used ce and ran a large amount ( 100  m ) of bsa alone in order to visualize the free protein peak run timing . next , we performed the same analysis using a large ( 3  m ) amount of dna alone .   once the individual free protein and free dna run times were established , we proceeded to combine bsa and dna for a bulk affinity analysis ( figure 2 ) . the bulk affinity analysis allowed us to visualize peaks for the free bsa and the free dna in combination , and this information was used to determine the collection window . the ce machine used was the proteomelab pa 800 from beckman coulter , which did not have laser - induced fluorescence ( lif ) . to sensitively detect protein - dna complexes between the free dna and free protein , we relied on rt - pcr . the collection window started from the end of the free - protein peak to the start of the free - dna peak ( figure 3(a ) ) . the seven fractions , instead of just one fraction , allowed us to analyze with greater precision the region of the dna - protein complex . unlike the bulk affinity assay in which 100  m bsa was used , for the selection , the concentration of bsa was reduced to 500  nm in order to increase the stringency of selection . in the first round of selection , the initial collected fraction of dna detected by rt - pcr needed 36 cycles of amplification to reach 50% of the maximum yield , the midpoint cycle , of pcr ( figure 3(a ) ) . the second fraction analyzed had a higher amount of dna compared to the first fraction collected , taking only 34 cycles of amplification to reach the midpoint cycle . the amount of dna collected for the third and fourth fractions was lower than that of the second fraction collected . the fifth fraction collected showed a marked increase in dna indicative of the beginning of the free - dna peak and so this fraction was not used . the pattern detected by rt - pcr implied a dna - protein complex present in the second fraction collected since this fraction was collected by ce after the free protein peak , but well before the free - dna peak .   the collected dna containing the supposed dna - protein complex was rt - pcr amplified using primers flanking the internal random sequence . the forward primer , p1 , amplified the aptamer - containing strand of interest , while the reverse primer , p2 , amplified the nonaptamer complementary strand . in a previous protocol to select dna aptamers , it was shown that overamplification of the random library leads to formation of nonspecific products , therefore the random library was only amplified to ~50% of the maximum yield as measured by rt - pcr . after rt - pcr analysis revealed the optimum number of cycles to amplify the collected dna , a regular pcr using more of the collected dna was performed . in this regular pcr , the p2 primer was labeled at its 5 end with biotin while p1 had no modifications . after the pcr , the dna products were attached to streptavidin - coated beads due to the strong interaction between the streptavidin on the beads and the biotin - labeled primer p2 . after immobilization on the beads and several washing steps , the forward aptamer - containing strand was released from the complementary strand by incubation with 10  mm naoh . after this step , the binding of the new aptamer pool was analyzed using ce and rt - pcr .   to assess the binding of the newly generated aptamer pool to the target , two separate ce runs were done , one with a 200-fold molar excess of bsa used for the first round of selection ( 100  m ) ( figure 3(b ) ) and another without any bsa ( figure 3(c ) ) . based upon these ce test runs , it was clear that the second fraction collected in round one of ce - selex did show binding to bsa . the aptamer pool ( 5  l of the collected fraction ) was then subjected to another round of selection . selection continued until the fourth round ; at which point rt - pcr did not show any change in the amount of dna at the complex and we did not continue with any further rounds of selection .   potential aptamers collected during the third round of selection were again amplified and then used for cloning . instead of amplifying with a biotin - labeled p2 primer , the potential aptamers were amplified with a nonlabeled p2 primer since the biotin label at the 5 end of the dna might interfere with ligation during cloning . topo blunt - end cloning was performed with the aptamer pool and colonies were selected by growth on lb plus kanamycin plates . two hundred colonies were selected and analyzed for bsa binding using ce and rt - pcr . groups of 12 colonies were combined in order to facilitate faster analysis . in order to amplify the aptamer strand from the vector with the aptamer insert , asymmetric pcr was performed using a 10-fold excess of the aptamer strand primer . four groups : i1 , r2 , g2 , and o3 showed stronger binding than the others by rt - pcr and then the individual clones from these groups were sequenced .   after sequencing , in order to confirm that the potential aptamer sequences were binding to bsa , salt - free oligonucleotides containing the potential aptamer sequences were used in emsa gels . emsas work on the principle that dna bound in a dna - target complex will run slower than free dna . the free dna will appear at the bottom of the gel , while the dna bound in the dna - target complex will be shifted higher up in the gel . the potential aptamers , as well as a negative control ( described in section 1 ) , were initially screened with a set of binding conditions similar to that of the ce experiments . only those sequences that were 76 or 75 bases in length , and identical or almost identical in length to the original library length of 76 bases , were ordered and subsequently screened by emsa . the candidate aptamer sequences were analyzed in silico by using clustalw2 and mfold , but no consensus sequence or specific secondary structure between the sequences was found . of the initial group of oligonucleotides screened by emsa , the i1 group , one member of this group of potential aptamers , i1 - 5 , did bind to bsa and a distinct bound complex could be visualized at 500 and 800  m bsa in the initial emsa ( figure 4(a ) ) . also in the initial emsa , at higher concentrations of bsa ( > 500  m ) , a faint band could be seen . this band was considered a nonspecific complex because both the negative control and the i1 - 5 aptamer had this band . in this emsa , and in all subsequent emsas , the appearance of radiolabeled dna at the top of each lane , in the well , can be seen . the dna at the top of the lanes is caused due to the single - stranded nature of the dna . the single - stranded dna is capable of forming aggregates with itself and with the loading dye . the size of these aggregates prevents the dna from entering the gel and thus it remains in the well . after the initial emsa modeled after the ce experiments , binding conditions were changed to include higher salt conditions that were not possible to run with the proteomelab pa 800 . in addition to buffer conditions , we also did not subject the aptamers to the heating at 94c prior to incubation . again the potential aptamer i1 - 5 showed a bound complex using these modified binding conditions ( figure 4(b ) ) . after the initial screen for potential aptamers with the i1 group , a subsequent screen using oligos from the g2 group and the modified emsa conditions revealed several additional aptamers for bsa ( figure 5 ) . the list of the potential aptamers ' sequences ordered is shown in table 2 , among these aptamers , i1 - 5 was chosen for further characterization . only the i1 - 5 oligonucleotide was further pursued as it was the first aptamer discovered by the screen that consistently showed binding ability to bsa in the ce - selex as well as under the two different emsa conditions . to further confirm the specificity of this aptamer to bsa , a supershift assay using an antibody to bsa was performed . in the presence of 4  g of the anti - bsa polyclonal antibody , the binding capacity was reduced as seen by an appreciable reduction in the intensity of the radioactive oligo banding pattern ( figure 6 ) . this supports the idea that the anti - bsa polyclonal antibody and the bsa aptamer i1 - 5 recognize the same epitope . a similar pattern of banding was reported for the human neurofilament mrna binding to superoxide dismutase1 ( sod1 ) in a supershift assay . also , competition assays were performed by incubating bsa with an excess of unlabeled i1 - 5 aptamer of three different amounts ( 1.25 , 2.5 , and 5  pmoles ) before the addition of the labeled i1 - 5 oligo . the bsa - aptamer bound complex was abolished in the presence of higher amounts of the unlabeled competitor ( figure 7 ) . although by emsa the i1 - 5 aptamer showed low binding affinity to bsa , the cold - competitor assay , as well as the supershift assay indicated that a specific interaction was occurring between bsa and the i1 - 5 aptamer , thus supporting the effectiveness of rt - pcr coupled ce - selex .\",\n",
       " \"the general scheme of rt - pcr coupled ce - selex is shown in figure 1 . to test the concept that aptamer selection with ce - selex and rt - pcr could be feasible , we first began by calibrating the capillary electrophoresis ( ce ) machine . the ce machine used , the proteomelab pa 800 , is incapable of running solutions that contain high concentrations of salts . due to this limitation , our buffers had to be tested to find the proper salt balance to ensure that the machine did not fail but at the same time had enough salt to stabilize our aptamer structures . therefore , the buffer condition used for the initial step of folding the dna library was done in a high - salt buffer ( 50  mm tris - hcl at ph 8.2 , 100  mm nacl , and 5  mm mgcl2 ) followed by incubation and running the folded dna library in low - salt concentrations ( 50  mm tris - hcl at ph 8.2 , 6  mm nacl , and 300  nm mgcl2 ) to ensure both proper folding and running of the dna library . although the low - salt problem may have excluded many potential binders to bsa , low - salt concentrations actually mirror the physiological conditions more accurately since the cellular level of magnesium is only ~1 - 2  mm . after optimizing for the salt concentrations , we used ce and ran a large amount ( 100  m ) of bsa alone in order to visualize the free protein peak run timing . next , we performed the same analysis using a large ( 3  m ) amount of dna alone .   once the individual free protein and free dna run times were established , we proceeded to combine bsa and dna for a bulk affinity analysis ( figure 2 ) . the bulk affinity analysis allowed us to visualize peaks for the free bsa and the free dna in combination , and this information was used to determine the collection window . the ce machine used was the proteomelab pa 800 from beckman coulter , which did not have laser - induced fluorescence ( lif ) . to sensitively detect protein - dna complexes between the free dna and free protein , we relied on rt - pcr . the collection window started from the end of the free - protein peak to the start of the free - dna peak ( figure 3(a ) ) . the seven fractions , instead of just one fraction , allowed us to analyze with greater precision the region of the dna - protein complex . unlike the bulk affinity assay in which 100  m bsa was used , for the selection , the concentration of bsa was reduced to 500  nm in order to increase the stringency of selection . in the first round of selection , the initial collected fraction of dna detected by rt - pcr needed 36 cycles of amplification to reach 50% of the maximum yield , the midpoint cycle , of pcr ( figure 3(a ) ) . the second fraction analyzed had a higher amount of dna compared to the first fraction collected , taking only 34 cycles of amplification to reach the midpoint cycle . the amount of dna collected for the third and fourth fractions was lower than that of the second fraction collected . the fifth fraction collected showed a marked increase in dna indicative of the beginning of the free - dna peak and so this fraction was not used . the pattern detected by rt - pcr implied a dna - protein complex present in the second fraction collected since this fraction was collected by ce after the free protein peak , but well before the free - dna peak .   the collected dna containing the supposed dna - protein complex was rt - pcr amplified using primers flanking the internal random sequence . the forward primer , p1 , amplified the aptamer - containing strand of interest , while the reverse primer , p2 , amplified the nonaptamer complementary strand . in a previous protocol to select dna aptamers , it was shown that overamplification of the random library leads to formation of nonspecific products , therefore the random library was only amplified to ~50% of the maximum yield as measured by rt - pcr . after rt - pcr analysis revealed the optimum number of cycles to amplify the collected dna , a regular pcr using more of the collected dna was performed . in this regular pcr , the p2 primer was labeled at its 5 end with biotin while p1 had no modifications . after the pcr , the dna products were attached to streptavidin - coated beads due to the strong interaction between the streptavidin on the beads and the biotin - labeled primer p2 . after immobilization on the beads and several washing steps , the forward aptamer - containing strand was released from the complementary strand by incubation with 10  mm naoh . after this step , the binding of the new aptamer pool was analyzed using ce and rt - pcr .   to assess the binding of the newly generated aptamer pool to the target , two separate ce runs were done , one with a 200-fold molar excess of bsa used for the first round of selection ( 100  m ) ( figure 3(b ) ) and another without any bsa ( figure 3(c ) ) . based upon these ce test runs , it was clear that the second fraction collected in round one of ce - selex did show binding to bsa . the aptamer pool ( 5  l of the collected fraction ) was then subjected to another round of selection . selection continued until the fourth round ; at which point rt - pcr did not show any change in the amount of dna at the complex and we did not continue with any further rounds of selection .   potential aptamers collected during the third round of selection were again amplified and then used for cloning . instead of amplifying with a biotin - labeled p2 primer , the potential aptamers were amplified with a nonlabeled p2 primer since the biotin label at the 5 end of the dna might interfere with ligation during cloning . topo blunt - end cloning was performed with the aptamer pool and colonies were selected by growth on lb plus kanamycin plates . two hundred colonies were selected and analyzed for bsa binding using ce and rt - pcr . groups of 12 colonies were combined in order to facilitate faster analysis . in order to amplify the aptamer strand from the vector with the aptamer insert , asymmetric pcr was performed using a 10-fold excess of the aptamer strand primer . four groups : i1 , r2 , g2 , and o3 showed stronger binding than the others by rt - pcr and then the individual clones from these groups were sequenced .   after sequencing , in order to confirm that the potential aptamer sequences were binding to bsa , salt - free oligonucleotides containing the potential aptamer sequences were used in emsa gels . emsas work on the principle that dna bound in a dna - target complex will run slower than free dna . the free dna will appear at the bottom of the gel , while the dna bound in the dna - target complex will be shifted higher up in the gel . the potential aptamers , as well as a negative control ( described in section 1 ) , were initially screened with a set of binding conditions similar to that of the ce experiments . only those sequences that were 76 or 75 bases in length , and identical or almost identical in length to the original library length of 76 bases , were ordered and subsequently screened by emsa . the candidate aptamer sequences were analyzed in silico by using clustalw2 and mfold , but no consensus sequence or specific secondary structure between the sequences was found . of the initial group of oligonucleotides screened by emsa , the i1 group , one member of this group of potential aptamers , i1 - 5 , did bind to bsa and a distinct bound complex could be visualized at 500 and 800  m bsa in the initial emsa ( figure 4(a ) ) . also in the initial emsa , at higher concentrations of bsa ( > 500  m ) , a faint band could be seen . this band was considered a nonspecific complex because both the negative control and the i1 - 5 aptamer had this band . in this emsa , and in all subsequent emsas , the appearance of radiolabeled dna at the top of each lane , in the well , can be seen . the dna at the top of the lanes is caused due to the single - stranded nature of the dna . the single - stranded dna is capable of forming aggregates with itself and with the loading dye . the size of these aggregates prevents the dna from entering the gel and thus it remains in the well . after the initial emsa modeled after the ce experiments , binding conditions were changed to include higher salt conditions that were not possible to run with the proteomelab pa 800 . in addition to buffer conditions , we also did not subject the aptamers to the heating at 94c prior to incubation . again the potential aptamer i1 - 5 showed a bound complex using these modified binding conditions ( figure 4(b ) ) . after the initial screen for potential aptamers with the i1 group , a subsequent screen using oligos from the g2 group and the modified emsa conditions revealed several additional aptamers for bsa ( figure 5 ) . the list of the potential aptamers ' sequences ordered is shown in table 2 , among these aptamers , i1 - 5 was chosen for further characterization . only the i1 - 5 oligonucleotide was further pursued as it was the first aptamer discovered by the screen that consistently showed binding ability to bsa in the ce - selex as well as under the two different emsa conditions . to further confirm the specificity of this aptamer to bsa , a supershift assay using an antibody to bsa was performed . in the presence of 4  g of the anti - bsa polyclonal antibody , the binding capacity was reduced as seen by an appreciable reduction in the intensity of the radioactive oligo banding pattern ( figure 6 ) . this supports the idea that the anti - bsa polyclonal antibody and the bsa aptamer i1 - 5 recognize the same epitope . a similar pattern of banding was reported for the human neurofilament mrna binding to superoxide dismutase1 ( sod1 ) in a supershift assay . also , competition assays were performed by incubating bsa with an excess of unlabeled i1 - 5 aptamer of three different amounts ( 1.25 , 2.5 , and 5  pmoles ) before the addition of the labeled i1 - 5 oligo . the bsa - aptamer bound complex was abolished in the presence of higher amounts of the unlabeled competitor ( figure 7 ) . although by emsa the i1 - 5 aptamer showed low binding affinity to bsa , the cold - competitor assay , as well as the supershift assay indicated that a specific interaction was occurring between bsa and the i1 - 5 aptamer , thus supporting the effectiveness of rt - pcr coupled ce - selex . the conclusion drawn from our studies is that we have been able to generate an aptamer for bsa with appreciable specificity in a few rounds of selection from a random library of dna oligonucleotides .   the protocol described here is very efficient compared to the traditional selex which takes much more time and reagents . as noted previously , traditional selex makes use of a solid support to which the target must be bound . the coupling of the target to the support is not completely efficient and often much of the target remains unbound and washed away . using ce - selex , there is no need for a solid support and because of the small size of the capillary a much smaller amount of target is required . even though ce - selex is much more efficient than traditional selex , ce - selex still requires additional equipment ( lif ) beyond the standard capillary electrophoresis machine . ce is not restricted to the isolation of aptamers , and while many labs may have a ce machine , much fewer will have one with lif . rt - pcr and lif both work under the principle of fluorescence . very sensitively and directly , rt - pcr has the potential to be more sensitive because unlike lif , which directly detects the fluorescent signal , rt - pcr can amplify the signal . by amplifying a signal undetectable by lif , dna - target complexes that would have been missed by lif taken together the efficiency , time , and sensitivity of the protocol for dna aptamer selection by coupling ce - selex with rt - pcr described here can benefit other researchers that are also interested in selecting for aptamers and would like to use ce - selex , but are unable to do so for lack of lif .   bsa was chosen to test our rt - pcr - coupled selection system , but the bsa aptamer we selected may be beneficial itself . due to the high amount of bsa used in many biochemical assays , sometimes the amount of bsa present in a mixture of proteins obscures accurate readings of proteins of interest . it would be useful to have a way to deplete this unwanted bsa from a reaction . also , bsa can be allergenic   and in certain situations it might be beneficial to detect small amounts of bsa contaminant present in cow 's milk . currently , antibodies to bsa provide an answer to these issues , but as previously mentioned , there are several advantages to using aptamers over antibodies .\"]"
      ]
     },
     "execution_count": 19,
     "metadata": {},
     "output_type": "execute_result"
    }
   ],
   "source": [
    "train_df.iloc[51235]['sections']"
   ]
  },
  {
   "cell_type": "markdown",
   "metadata": {},
   "source": [
    "* 处理之后分别剩下了51552/2860/2984个样本"
   ]
  },
  {
   "cell_type": "markdown",
   "metadata": {},
   "source": [
    "* 暂时进行一次保存"
   ]
  },
  {
   "cell_type": "code",
   "execution_count": 23,
   "metadata": {},
   "outputs": [],
   "source": [
    "train_df.to_json(f'../datasets/pubmed-dataset-processed/train.json', orient='records', lines=True) # orient\n",
    "val_df.to_json(f'../datasets/pubmed-dataset-processed/val.json', orient='records', lines=True)\n",
    "test_df.to_json(f'../datasets/pubmed-dataset-processed/test.json', orient='records', lines=True)"
   ]
  },
  {
   "cell_type": "code",
   "execution_count": 24,
   "metadata": {},
   "outputs": [],
   "source": [
    "index = 457"
   ]
  },
  {
   "cell_type": "code",
   "execution_count": 25,
   "metadata": {},
   "outputs": [
    {
     "data": {
      "text/plain": [
       "['Introduction',\n",
       " 'Materials and methods',\n",
       " 'Participants',\n",
       " 'Missing data',\n",
       " 'Statistical analyses',\n",
       " 'Results',\n",
       " 'Internal consistency of the MASI',\n",
       " 'Confirmatory factor analysis of the MASI',\n",
       " 'Item reduction procedure',\n",
       " 'Rasch analysis of the MASI-R',\n",
       " 'Discussion',\n",
       " 'Conclusion',\n",
       " 'Supplementary material']"
      ]
     },
     "execution_count": 25,
     "metadata": {},
     "output_type": "execute_result"
    }
   ],
   "source": [
    "train_df.iloc[index]['section_names']"
   ]
  },
  {
   "cell_type": "code",
   "execution_count": 26,
   "metadata": {},
   "outputs": [
    {
     "data": {
      "text/plain": [
       "['it is well known that job stress is responsible for poor work performance , high absenteeism , less work productivity , and several diseases.15 recently , results from thirteen independent cohort studies in europe indicated that job strain is responsible for coronary heart disease , as are lifestyle and orthodox risk factors.6 the population s attributable risk for job strain was 3.4% , which is lower than that for smoking habits ( 36% ) , abdominal obesity ( 20% ) , and physical inactivity ( 12% ) . however , the interheart study7 showed that work stress doubled the risk of coronary heart disease . in finland , the increase in job strain was associated with an increase in the risk of requiring a disability pension . moreover , as regarding men , a positive association between cardiovascular diseases and an increased risk of disability pension was found.8 mental health caused disabling conditions in 9% of the population in the uk , and estimations for the 20012002 prevalence of self - reported illness caused or made worse by work classified stress , depression , or anxiety as the second most commonly reported illness.9 within this context , in 2010 , in italy , a governmental commission published several indications for the evaluation of stress . the commission identified a preliminary phase and a second phase for in - depth examination . instruments for self - evaluation such as psychometric tests are recommended during the second phase . in this context of changes in the cultural and legislative background , the authors have taken the opportunity to contribute to the development of models for the identification and assessment of stress , responding to the demand for specific measurement instruments . data from the literature as well as normative requirements suggest the need for methods for the early identification of stress in workers . some instruments have already been developed , such as the job content questionnaire,1012 the work organization assessment questionnaire,13 and the effort  reward imbalance questionnaire.14,15 these instruments are considered complementary sources since they are based on different concepts of the work - related stress . they are mainly focused on measuring the job climate , the facets of job organization , or the balance between effort and reward , but an in - depth examination of individual resources and capabilities is lacking . newman and beehr16 underlined that job stress is a situation wherein job - related factors interact with the worker to change his / her psychological and/or physiological condition , forcing a person to deviate from normal functioning . from this viewpoint , the focus is not the stressful situation or the subjective perception , but the interaction between these two components . in agreement with this rationale , we developed a new multidimensional instrument called the maugeri stress index ( masi ) designed to investigate individual resources for coping with stressful situations on the job . the instrument was developed for an in - depth examination , but it is also usable in the preliminary phase and for monitoring homogeneous groups of workers when individual resources play a critical role in coping with the demands arising from organizational changes . this group of workers represents a category particularly at risk for the development of job stress , and for this reason they can be considered a representative sample of the target population . the first version was tested on a restricted sample ( n=329 ) and has already been published with some clinical qualities and some limitations.17 the aims of this study were to develop a shorter form of the questionnaire using an item reduction procedure and to assess the psychometric properties of the resulting instrument using the rasch measurement model .',\n",
       " 'the masi ( figure s1 ) requires participants to express their level of agreement with 51 items on a five - point likert scale ( never , little , enough , much , very much ) . the questionnaire is composed of four main scales including 47 items : wellness ( eleven items ) , resilience ( 20 items ) , perception of social support ( nine items ) , and negative coping styles ( seven items ) . further , a lie scale ( four items ) is included . a high score on the index shows perceived eustress . previously , giorgi et al17 studied the dimensionality of the instrument by using exploratory factor analysis . in the study here presented , we analyzed the internal consistency of the masi and its factorial structure by using structural equation models ( sems).18 therefore , starting with these results , we developed a reduced form of the instrument , the maugeri stress index  reduced form ( masi - r ) , which is described in this paper . the psychometric properties of the masi - r are analyzed using the rasch measurement model.19 the scientific and technical committee ( irb ) of the care and research institute of tradate ( varese , italy ) , salvatore maugeri foundation irccs , discussed and approved the study ( 5/5/2015 cod . the sample comprised 1,182 participants ( females : 57.6% ; males : 42.4% ) with a mean age of 45.7 years ( standard deviation = 9.0 ) . other subjects engaged in the study were factory workers ( 15.1% ) , teachers ( 4.6% ) , and managers ( 4.2% ) . of the sample , 93.9% had a permanent work contract and 38.0% were shift workers . all the participants filled in the questionnaire voluntarily after a short motivational presentation made by a psychologist . each participant provided written informed consent for the use of data in anonymous form . participants who omitted at least 25% of responses ( 13 items ) were not considered in the analysis . therefore , seven subjects were removed , and 1,175 units were used for analysis . regarding sem analysis , the remaining missing data were replaced by the mean of the responses for each item . by contrast , for the rasch analysis , only the complete cases were considered , leading to a total sample of 904 subjects . the confirmatory factor analysis was used to test and improve the fit of the data for the hypothesized four - factor model ( see  missing data  section ) . the confirmatory factor analysis is part of the general methodology of the sem and allows us to test causal relations between latent and observed variables . the analysis was started by building an independence model , assuming uncorrelated latent factors . as a second step , we tested the presence of relations between the latent factors , performing a model comparison . step by step , we imposed covariance relations among factors , looking for an improvement in the fit . a similar methodology was applied to select the items in order to reduce their number and to simplify the instrument . to make model comparisons , we used the akaike information criterion ( aic)20 and the bayesian information criterion ( bic)21 to identify which model was better.22,23 since the best model has the lowest indices , we compared the information criteria of a complex model with those of the simpler one , obtaining two differences : aic and bic . a negative difference indicates that the complex model is better than the simpler one ; a difference of bic 2 is generally accepted as positive evidence for the difference between two models.24 in contrast to the aic , the bic penalizes greatly complex models : a very complex model would have to improve the fit substantially in order for bic to choose it as the best . the item properties were analyzed using the partial credit model,25 a polytomous formulation of the rasch model . the rasch model is a well - known one - parameter logistic model , commonly applied for the evaluation of the properties of a unidimensional psychometric test with an ordinal response scale . it assumes that the probability of a person producing a positive outcome to an item depends on the distance between the person s ability and the item s difficulty . in contrast to the classical test theory and the sem approach , the rasch model is centered on the study of items and their properties . the model tests the calibration of the instrument on a population , putting persons abilities and item difficulties into the same scale . it can distinguish between the easiest and hardest items and evaluate if the instrument leads to a reliable measure of the latent trait . the scales of the masi were studied separately , fitting one partial credit model for each scale . the reliability was evaluated using the separation index g for persons ( gp ) and items ( gi ) and the person separation reliability r , which corresponds to cronbach s .26 a high variability in persons abilities and in item difficulties is necessary so that the measurement is reliable . gp quantifies the number of strata of abilities that the instrument can separate and identify as different ; a low value ( gp < 2 ) is a sign that the instrument may not be sensitive enough to distinguish between individuals with high and low performance abilities.27 by contrast , a low gi value ( gi <3 ) indicates that either the variance of item difficulties is too small or the sample is not large enough . item properties have been evaluated using two popular indices:27 infit ( information - weighted fit ) and outfit ( outlier - sensitive fit ) . both indices are calculated based on the mean square of standardized residuals for items , but outfit is more sensitive to outliers than infit . acceptable values range between 0.6 and 1.4;28 lower values indicate underfit ( ie , the presence of unexplained variance ) and higher values indicate overfit ( ie , redundancy in the set of items ) . the unidimensionality of each scale was assessed by evaluating the strength of correlations between residuals and the results of the principal component analysis performed on the residuals.29 since the rasch analysis extracts the first , and theoretically , the only latent component within each scale , residuals should be constituted only by random noise . a simple rule of thumb27 is that if the residuals are constituted by pure random noise , the eigenvalue of the first extracted component must be less than 2 ( ie , a strength of less than two items ) . furthermore , we used the martin - lf test,30 which splits the scale into two clusters of items on the basis of the median difficulty and performs a likelihood ratio test . analyses were performed in the r environment,31 using the packages lavaan 0.51132 for the confirmatory factor analysis and erm 0.15033 for the rasch analysis .',\n",
       " 'the internal consistency , measured by the cronbach s  , appeared good for the scales wellness ( =0.94 ) and resilience ( =0.89 ) . in contrast , for the scales perception of social support ( =0.64 ) and negative coping styles ( =0.65 ) , the values were not so good , although they were acceptable . we considered the correlation between each item and the total score of the respective scale ( calculated excluding the target item ) . within the scale of perception of social support these items were : 4 , 13 , 17 , and 28 ( the content of items are reported in figure s1 ) . whereas the item - total correlation for items 4 and 28 were near 0.3 , the indices for items 13 and 17 were lower than 0.2 . the most problematic item was 13 , because the cronbach s  of the respective scale increased if this item was deleted . we observed a medium - sized pearson s correlation between the scales resilience and wellness ( r=0.53 , p<0.001 ) and between resilience and perception of social support ( r=0.45 , p<0.001 ) . the confirmatory factor analysis started with the estimation of the independence model , assuming uncorrelated latent dimensions . all parameters were estimated to be significantly different from zero for p<0.001 . for the wellness scale , the standardized parameters ranged between 0.61 and 0.87 , while the values for the resilience scale were between 0.33 and 0.71 . in the perception of social support scale , the coefficients ranged between 0.11 and 0.66 ( item 13 was the only one that was significant for p<0.01 ) . finally , in the negative coping styles scale , the values ranged between 0.35 and 0.55 . the goodness - of - fit indices highlighted a poor fit ( comparative fit index [ cfi ] = 0.78 , nonnormed fit index [ nnfi ] = 0.77 , root mean squares error of approximation [ rmsea ] = 0.06 ) . therefore , we proceeded to free the covariance relations between the latent dimensions one by one , looking for an improvement . we released , in sequence , the covariance parameters for wellness , resilience , and perception of social support . in the last step , we freed the covariance relations with the negative coping styles scale at each step , the new model was compared with the previous one using the difference in aic and bic . the progressive deletion of constraints in covariance parameters improved the model ( cfi = 0.82 , nnfi = 0.81 , rmsea = 0.06 ) . in order to develop a short form of the masi as a first step , starting from the identified model in the  confirmatory factor analysis of the masi  section ( correlated factors ) , we deleted selected items one by one , looking for a better internal consistency . the candidate items for deletion were those with an item - total correlation of less than 0.3 and those that , if deleted , caused an increase in the cronbach . we deleted three items from the scale perception of social support ( 13 , 17 , and 4 ) , three items from the scale resilience ( 36 , 8 , and 22 ) , and two items from the negative coping styles scale ( 38 and 15 ) . the resulting model showed a better fit than the starting model ( cfi = 0.86 , nnfi = 0.85 , rmsea = 0.06 ) . as the second step , using sem , we tested the presence of covariance between errors . inspecting modification indices , we identified several candidate parameters to free , concentrating our attention on items with semantic similarities in content . one at a time , aic and bic showed an improvement of the fit for each step ; further , the final model showed better fit indices ( cfi = 0.89 , nnfi = 0.88 , rmsea = 0.05 ) than the starting one . since the semantic content of several items was very similar , we kept only one item from each pair , considering the relevance of the item in a clinical perspective as driving principle for the choice . competing items are reported in table 2 , with bold items being included in the final model . in one case ( 6s and 11s ) , we deleted both items , and in two cases , ( items 33 and 25 and items 29 and 39 ) we kept both items . the final model considered item 37 , marked in bold in figure s1 , which constitutes the short version of the tool , called masi - r . figure 1 is a graphical description of the model with estimated parameters ; fit indices indicate an acceptable fit with the data ( cfi = 0.88 , nnfi = 0.87 ) and a good error of approximation of the model ( rmsea = 0.05 ) . preliminarily , we evaluated the possible presence of a differential item functioning on the scales . using the regression approach , we tested the invariance of item scores across several clusters of subjects , taking into account the sex of participants , their age , the presence / absence of job shifts , and the length of service . for each scale , f - tests sometimes showed significant results at the 5% level , but the effect sizes were always very low (  < 0.05 ) . since the effect of these variables on the total scores was not noticeable , they were not considered significant . regarding the issue of reliability , the results of the analyses on the masi - r were similar to the results of the analyses on the masi . the person reliability appeared good for the scales wellness ( r=0.89 ) and resilience ( r=0.89 ) and were acceptable for the scales perception of social support ( r=0.70 ) and negative coping styles ( r=0.50 ) . in the two latter scales , the persons separation indices seemed critical : gp = 1.52 for perception of social support and gp = 0.99 for negative coping styles . in contrast , for the wellnesss ( gp = 2.87 ) and resilience ( gp = 2.79 ) scales , the persons separation indices were more adequate . both infit and outfit were always good ( table 3 ) and neither underfit nor overfit affected the items . figure 2 depicts the calibration of the instrument , comparing the distribution of the persons abilities and item difficulties along the logit scale . for each panel , the scores on the left side represent persons with high stress ( ie , low  ability  ) , while the right side represents persons with low stress ( ie , high  ability  ) . the matched distributions of persons abilities and item difficulties show that difficulties cover the abilities quite well . this is confirmed by the separation indices gi , for which the values are always good ( wellness : 15.10 , resilience : 6.80 , perception of social support : 11.01 , negative coping styles : 4.55 ) , showing that the variances of item difficulties are adequate for measuring latent dimensions because they cover the entire spectrum of each trait . finally , we tested the actual unidimensionality of the masi - r scales . for each one , all of the correlations between residuals were lower than 0.4 ( rarely did they exceed 0.3 ) . further , the eigenvalues estimated by the principal component analyses were always lower than 2 . moreover , the martin - lf test confirmed that no other components appeared to be present within the four scales :  values were never significant .',\n",
       " 'this paper presents the masi - r , a new psychometric instrument that aims to screen for job stress . the instrument is structured as a self - report questionnaire that is relatively short but psychometrically comprehensive . the masi - r allows us to obtain a reliable measure of exposure to workplace stress and its impact on workers . using four correlated subscales ( wellness , resilience , perception of social support , negative copying styles ) and a lie index , the questionnaire measures several dimensions that determine the total index . the total index can be obtained as the sum of responses ( coded from 1 to 5 ) . when the response pattern presents missing items , these values can be estimated by the mean of the provided responses . the masi - r originates from a reduction of the original longer masi , whose scales include an overall pool of 47 items . using an item selection procedure , we selected and removed those items that did not adequately contribute to the measurement . the structure of the instrument was further improved using an sem . the rasch model indicated good item properties with neither underfit , overfit , nor differential item functioning between population strata . furthermore , item difficulties covered the persons abilities quite well . the first one refers to a general condition of wellness , serenity , and satisfaction ; it is defined by the absence of negative symptoms and by the presence of optimism regarding the work experience . the resilience scale evaluates skills such as tenacity , flexibility , and the ability to deal with problems on the job . the other two scales have a restricted number of items . perception of social support explores a component that plays a fundamental role in stress and burnout , consisting of the perception of adequate support and assistance from colleagues and superiors.34 by contrast , the negative coping styles scale investigates the presence of social isolation , behavioral disengagement , anxiety , or irritability in reaction to stressor situations . for both scales this was probably due to the small number of items included in the scales , but it might also indicate a restricted ability range within the selected sample.27 the masi - r assumes stress as a general and unidimensional latent factor that shows itself in a broad spectrum of facets . these facets are clustered in the four identified components . according to this point of view , the correlation between the four latent traits suggests that the number of items could be further reduced and the total score could be used as a uniform one - factorial measure . recently , a study regarding the discriminant validity of the masi - r was published35 and the results show that workers exposed to workplace mobbing showed higher work stress levels compared to the control group in all aspects measured . in summary , using only 37 items , the masi - r can measure the perception of wellness and support , the resilience capability , and the behavioral reactions of individuals coping with stressful situations in the workplace . further , unlike other instruments , the masi - r provides a lie index capable of identifying cheating responders , a phenomenon that can occur in workplace contexts . it is focused on the relation between the worker and stressful situations on the job , and it could be used to drive interventions centered on the interaction between the work environment and individual perceptions and resources .']"
      ]
     },
     "execution_count": 26,
     "metadata": {},
     "output_type": "execute_result"
    }
   ],
   "source": [
    "train_df.iloc[index]['sections']"
   ]
  },
  {
   "cell_type": "code",
   "execution_count": 27,
   "metadata": {},
   "outputs": [
    {
     "data": {
      "text/plain": [
       "['<S> introduction and objectivesa multidimensional self - report questionnaire to evaluate job - related stress factors is presented . the questionnaire , </S>',\n",
       " '<S> called maugeri stress index  reduced form ( masi - r ) , aims to assess the impact of job strain on a team or on a single worker by considering four domains : wellness , resilience , perception of social support , and reactions to stressful situations.material and methodsthe reliability of a first longer version ( 47 items ) of the questionnaire was evaluated by an internal consistency analysis and a confirmatory factor analysis . </S>',\n",
       " '<S> an item reduction procedure was implemented to obtain a short form of the instrument , and the psychometric properties of the resulting instrument were evaluated using the rasch measurement model.resultsa total of 14 items from the initial pool were deleted because they were not productive for measurement . </S>',\n",
       " '<S> the analysis of internal consistency led to the exclusion of eight items , while the analysis performed using structural equation models led to the exclusion of another six items . according to the rasch model , item properties and the reliability of the instruments appear good , especially for the scales for wellness and resilience . </S>',\n",
       " '<S> in contrast , the scales for perception of social support and negative coping styles show a lower internal consistency.conclusionsthe maugeri stress index  reduced form provides a reliable and valid measure , useful for early identification of stress levels in workers or in a team along the eustress  vadistress continuum . </S>']"
      ]
     },
     "execution_count": 27,
     "metadata": {},
     "output_type": "execute_result"
    }
   ],
   "source": [
    "train_df.iloc[index]['abstract_text']"
   ]
  },
  {
   "cell_type": "markdown",
   "metadata": {},
   "source": [
    "### 2.2.4 对abstract进行分割\n",
    "* 特别注意：abstract有一部分文本需要再进行分词操作！！！！！！！"
   ]
  },
  {
   "cell_type": "markdown",
   "metadata": {},
   "source": [
    "* 加载数据集"
   ]
  },
  {
   "cell_type": "code",
   "execution_count": 9,
   "metadata": {},
   "outputs": [],
   "source": [
    "train_df = pd.read_json('../datasets/pubmed-dataset-processed/train.json', lines=True)\n",
    "val_df = pd.read_json('../datasets/pubmed-dataset-processed/val.json', lines=True)\n",
    "test_df = pd.read_json('../datasets/pubmed-dataset-processed/test.json', lines=True)"
   ]
  },
  {
   "cell_type": "markdown",
   "metadata": {},
   "source": [
    "1. 摘要部分由多个句子组成，每个句子开头有S，结束时有/S，需要删除，因为bart会自动添加启示和终止符.\n",
    "2. 原数据集的句子切分方式不明，所以需要重新划分，先将所有句子合并"
   ]
  },
  {
   "cell_type": "code",
   "execution_count": 10,
   "metadata": {},
   "outputs": [
    {
     "data": {
      "text/plain": [
       "['<S> background : the present study was carried out to assess the effects of community nutrition intervention based on advocacy approach on malnutrition status among school - aged children in shiraz , iran.materials and methods : this case - control nutritional intervention has been done between 2008 and 2009 on 2897 primary and secondary school boys and girls ( 7 - 13 years old ) based on advocacy approach in shiraz , iran . </S>',\n",
       " '<S> the project provided nutritious snacks in public schools over a 2-year period along with advocacy oriented actions in order to implement and promote nutritional intervention . for evaluation of effectiveness of the intervention growth monitoring indices of pre- and post - intervention were statistically compared.results:the frequency of subjects with body mass index lower than 5% decreased significantly after intervention among girls ( p = 0.02 ) . </S>',\n",
       " '<S> however , there were no significant changes among boys or total population . </S>',\n",
       " '<S> the mean of all anthropometric indices changed significantly after intervention both among girls and boys as well as in total population . </S>',\n",
       " \"<S> the pre- and post - test education assessment in both groups showed that the student 's average knowledge score has been significantly increased from 12.5  3.2 to 16.8  4.3 ( p < 0.0001).conclusion : this study demonstrates the potential success and scalability of school feeding programs in iran . </S>\",\n",
       " '<S> community nutrition intervention based on the advocacy process model is effective on reducing the prevalence of underweight specifically among female school aged children . </S>']"
      ]
     },
     "execution_count": 10,
     "metadata": {},
     "output_type": "execute_result"
    }
   ],
   "source": [
    "test_sample = train_df.iloc[0]['abstract_text']\n",
    "test_sample"
   ]
  },
  {
   "cell_type": "code",
   "execution_count": 11,
   "metadata": {},
   "outputs": [],
   "source": [
    "def remove_tag(dataset):\n",
    "    for idx, sample in dataset.iterrows():\n",
    "        # reset for each sample\n",
    "        abstract_text = \" \".join([text.replace('<S>', '').replace('</S>', '').strip() for text in sample['abstract_text']])\n",
    "        dataset['abstract_text'].loc[idx] = abstract_text"
   ]
  },
  {
   "cell_type": "code",
   "execution_count": 12,
   "metadata": {},
   "outputs": [],
   "source": [
    "for dataset in [train_df, val_df, test_df]:\n",
    "    remove_tag(dataset)"
   ]
  },
  {
   "cell_type": "code",
   "execution_count": 13,
   "metadata": {},
   "outputs": [
    {
     "data": {
      "text/plain": [
       "'introduction and objectivesa multidimensional self - report questionnaire to evaluate job - related stress factors is presented . the questionnaire , called maugeri stress index  reduced form ( masi - r ) , aims to assess the impact of job strain on a team or on a single worker by considering four domains : wellness , resilience , perception of social support , and reactions to stressful situations.material and methodsthe reliability of a first longer version ( 47 items ) of the questionnaire was evaluated by an internal consistency analysis and a confirmatory factor analysis . an item reduction procedure was implemented to obtain a short form of the instrument , and the psychometric properties of the resulting instrument were evaluated using the rasch measurement model.resultsa total of 14 items from the initial pool were deleted because they were not productive for measurement . the analysis of internal consistency led to the exclusion of eight items , while the analysis performed using structural equation models led to the exclusion of another six items . according to the rasch model , item properties and the reliability of the instruments appear good , especially for the scales for wellness and resilience . in contrast , the scales for perception of social support and negative coping styles show a lower internal consistency.conclusionsthe maugeri stress index  reduced form provides a reliable and valid measure , useful for early identification of stress levels in workers or in a team along the eustress  vadistress continuum .'"
      ]
     },
     "execution_count": 13,
     "metadata": {},
     "output_type": "execute_result"
    }
   ],
   "source": [
    "train_df.iloc[457]['abstract_text']"
   ]
  },
  {
   "cell_type": "markdown",
   "metadata": {},
   "source": [
    "3. 将所有句子以句号为分隔符进行切分\n",
    "---\n",
    "* 注意：这个分割是只要遇见\".\"这个符号就分割，意味着37.8这样的数学标记也会被分割成37.和8\n",
    "  * 因为`reported.conclusionintravenous`这样的情况存在，没办法直接用nltk, 先用.进行正则表达式的分割，再用nltk.word_tokenize分割(因为`wordninja`会删除标点符号)\n",
    "  * 使用`wordninja`这个包，会对粘连在一起的词进行切分"
   ]
  },
  {
   "cell_type": "code",
   "execution_count": 14,
   "metadata": {},
   "outputs": [],
   "source": [
    "import nltk\n",
    "import re\n",
    "import wordninja\n",
    "from tqdm import tqdm\n",
    "nltk.download(\"punkt\", quiet=True)\n",
    "\n",
    "def sentences_split(dataset):\n",
    "    for idx, sample in tqdm(dataset.iterrows()):\n",
    "        # reset for each sample\n",
    "        # 以.作为分割符，但是保留.\n",
    "        abstract_text = re.split(r'(?<=\\.)', sample['abstract_text'])\n",
    "        # 移除列表中的空字符串\n",
    "        abstract_text = [text.strip() for text in abstract_text if text]\n",
    "        \n",
    "        sample = []\n",
    "        for sent in abstract_text:\n",
    "            words = nltk.word_tokenize(sent)\n",
    "            \n",
    "            # 对每个单词应用wordninja，保留原始的标点符号\n",
    "            split_words = [wordninja.split(word) if word.isalpha() else [word] for word in words]\n",
    "            \n",
    "            # 将嵌套的列表展平\n",
    "            flat_split_words = [item for sublist in split_words for item in sublist]\n",
    "\n",
    "            # 检查是否为标点符号，如果是就不用空格做连接\n",
    "            sent = '' # .join(flat_split_words)\n",
    "            for i, word in enumerate(flat_split_words):\n",
    "                if i == 0 or i == len(flat_split_words) - 1 or re.match(r'^\\W+$', word):\n",
    "                    sent += word\n",
    "                else:\n",
    "                    sent += f' {word}'\n",
    "            sample.append(sent)\n",
    "            \n",
    "        dataset.at[idx, 'abstract_text'] = sample"
   ]
  },
  {
   "cell_type": "code",
   "execution_count": 15,
   "metadata": {},
   "outputs": [
    {
     "name": "stderr",
     "output_type": "stream",
     "text": [
      "51552it [08:53, 96.69it/s] \n",
      "2860it [00:29, 96.01it/s] \n",
      "2984it [00:30, 96.32it/s] \n"
     ]
    }
   ],
   "source": [
    "for dataset in [train_df, val_df, test_df]:\n",
    "    sentences_split(dataset)"
   ]
  },
  {
   "cell_type": "code",
   "execution_count": 16,
   "metadata": {},
   "outputs": [
    {
     "data": {
      "text/plain": [
       "[\"research on the implications of anxiety in parkinson 's disease( pd) has been neglected despite its prevalence in nearly 50% of patients and its negative impact on quality of life.\",\n",
       " 'previous reports have noted that neuro psychiatric symptoms impair cognitive performance in pd patients; however, to date, no study has directly compared pd patients with and without anxiety to examine the impact of anxiety on cognitive impairments in pd.',\n",
       " 'this study compared cognitive performance across 50 pd participants with and without anxiety( 17 pda+; 33 pda), who underwent neurological and neuro psychological assessment.',\n",
       " 'group performance was compared across the following cognitive domains: simple attention/ vi suo motor processing speed, executive function( e.',\n",
       " 'g.',\n",
       " ', set- shifting), working memory, language, and memory/ new verbal learning.',\n",
       " 'results showed that pda+ performed significantly worse on the digit span forward and backward test and part b of the trail making task( t mt- b) compared to the pda group.',\n",
       " 'there were no group differences in verbal fluency, logical memory, or t mt- a performance.',\n",
       " 'in conclusion, anxiety in pd has a measurable impact on working memory and attention al set- shifting.']"
      ]
     },
     "execution_count": 16,
     "metadata": {},
     "output_type": "execute_result"
    }
   ],
   "source": [
    "test_df.iloc[0]['abstract_text']"
   ]
  },
  {
   "cell_type": "markdown",
   "metadata": {},
   "source": [
    "4. 对每一个句子进行关键字表匹配，如果开头出现的单词在匹配表里，就将整段划分到对于的part"
   ]
  },
  {
   "cell_type": "code",
   "execution_count": 17,
   "metadata": {},
   "outputs": [],
   "source": [
    "train_df.to_json(f'../datasets/pubmed-dataset-processed-abstract/train.json', orient='records', lines=True) # orient\n",
    "val_df.to_json(f'../datasets/pubmed-dataset-processed-abstract/val.json', orient='records', lines=True)\n",
    "test_df.to_json(f'../datasets/pubmed-dataset-processed-abstract/test.json', orient='records', lines=True)"
   ]
  },
  {
   "cell_type": "code",
   "execution_count": 18,
   "metadata": {},
   "outputs": [],
   "source": [
    "import pandas as pd\n",
    "train_df = pd.read_json('../datasets/pubmed-dataset-processed-abstract/train.json', lines=True)\n",
    "val_df = pd.read_json('../datasets/pubmed-dataset-processed-abstract/val.json', lines=True)\n",
    "test_df = pd.read_json('../datasets/pubmed-dataset-processed-abstract/test.json', lines=True)"
   ]
  },
  {
   "cell_type": "code",
   "execution_count": 19,
   "metadata": {},
   "outputs": [
    {
     "data": {
      "text/plain": [
       "['background: the present study was carried out to assess the effects of community nutrition intervention based on advocacy approach on malnutrition status among school- aged children in shiraz, iran.',\n",
       " 'materials and methods: this case- control nutritional intervention has been done between 2008 and 2009 on 2897 primary and secondary school boys and girls( 7- 13 years old) based on advocacy approach in shiraz, iran.',\n",
       " 'the project provided nutritious snacks in public schools over a 2-year period along with advocacy oriented actions in order to implement and promote nutritional intervention.',\n",
       " 'for evaluation of effectiveness of the intervention growth monitoring indices of pre- and post- intervention were statistically compared.',\n",
       " 'results: the frequency of subjects with body mass index lower than 5% decreased significantly after intervention among girls( p= 0.',\n",
       " '02).',\n",
       " 'however, there were no significant changes among boys or total population.',\n",
       " 'the mean of all an thro po metric indices changed significantly after intervention both among girls and boys as well as in total population.',\n",
       " \"the pre- and post- test education assessment in both groups showed that the student 's average knowledge score has been significantly increased from 12.\",\n",
       " '5 3.',\n",
       " '2 to 16.',\n",
       " '8 4.',\n",
       " '3( p< 0.',\n",
       " '0001).',\n",
       " 'conclusion: this study demonstrates the potential success and s cal ability of school feeding programs in iran.',\n",
       " 'community nutrition intervention based on the advocacy process model is effective on reducing the prevalence of underweight specifically among female school aged children.']"
      ]
     },
     "execution_count": 19,
     "metadata": {},
     "output_type": "execute_result"
    }
   ],
   "source": [
    "train_df.iloc[0]['abstract_text']"
   ]
  },
  {
   "cell_type": "code",
   "execution_count": 20,
   "metadata": {},
   "outputs": [],
   "source": [
    "segmentation_keyword_table = {\n",
    "    # Introduction and Literature\n",
    "    'part_1': ['introduction', 'case', 'objectives', 'purposes', \n",
    "               'objective', 'purpose', 'background', 'literature',\n",
    "               'aim', 'aims'],\n",
    "    \n",
    "    # Methods\n",
    "    'part_2': ['material and methods',\n",
    "               'materials and methods', 'methods', 'techniques', 'methodology',\n",
    "               'materials', 'research design', 'study design'],\n",
    "    \n",
    "    # Results\n",
    "    'part_3': ['result', 'results', 'experiments', 'observations'],\n",
    "    \n",
    "    # Discussion and Conlusion\n",
    "    'part_4': ['discussion', 'limitation', 'conclusions', \n",
    "               'conclusion', 'concluding', 'comment', 'comments', \n",
    "               'summary', 'concluding remarks'],\n",
    "}"
   ]
  },
  {
   "cell_type": "code",
   "execution_count": 22,
   "metadata": {},
   "outputs": [],
   "source": [
    "import re\n",
    "from tqdm import tqdm\n",
    "\n",
    "def keyword_matching_and_re_abstract(dataset):\n",
    "    for idx, sample in tqdm(dataset.iterrows()):\n",
    "        # Reset for each sample\n",
    "        abstract_parts = [[] for _ in range(4)]\n",
    "        current_part = 0  # Initialize to part_1\n",
    "\n",
    "        for abs in sample['abstract_text']:\n",
    "            # Splitting the abstract_text into 4 parts\n",
    "            if abs != \"\":\n",
    "                match = re.search(r'\\b(\\S+)\\b', abs)\n",
    "                if match:\n",
    "                    first_word = match.group(1).lower()\n",
    "                else:\n",
    "                    # 处理没有匹配到单词的情况\n",
    "                    # print(f'No word matched in {abs}')\n",
    "                    first_word = \"\"\n",
    "            else:\n",
    "                # 处理空字符串的情况\n",
    "                # print('Empty abstract_text')\n",
    "                first_word = \"\"\n",
    "\n",
    "            # Check if the current sentence contains the keyword for the next part\n",
    "            for id, values in enumerate(segmentation_keyword_table.values()):\n",
    "                if any(keyword.lower() in first_word for keyword in values):\n",
    "                    # Move to the next part\n",
    "                    current_part = id\n",
    "\n",
    "            # Append the current sentence to the corresponding part\n",
    "            abstract_parts[current_part].append(abs)\n",
    "\n",
    "        # Joining the parts\n",
    "        for id, value in enumerate(abstract_parts):\n",
    "            abstract_parts[id] = \" \".join(abstract_parts[id])\n",
    "\n",
    "        dataset['abstract_text'].loc[idx] = abstract_parts\n",
    "        # print(f'{dataset[\"abstract_text\"].iloc[idx]=}')"
   ]
  },
  {
   "cell_type": "code",
   "execution_count": 23,
   "metadata": {},
   "outputs": [
    {
     "name": "stderr",
     "output_type": "stream",
     "text": [
      "51552it [00:29, 1724.63it/s]\n",
      "2860it [00:00, 2908.47it/s]\n",
      "2984it [00:01, 2912.18it/s]\n"
     ]
    }
   ],
   "source": [
    "for dataset in [train_df, val_df, test_df]:\n",
    "    keyword_matching_and_re_abstract(dataset)"
   ]
  },
  {
   "cell_type": "markdown",
   "metadata": {},
   "source": [
    "* 删除不符合4段式结构的sample"
   ]
  },
  {
   "cell_type": "code",
   "execution_count": 28,
   "metadata": {},
   "outputs": [],
   "source": [
    "train_df = train_df[train_df['abstract_text'].apply(lambda x: all(s != '' for s in x))]\n",
    "val_df = val_df[val_df['abstract_text'].apply(lambda x: all(s != '' for s in x))]\n",
    "test_df = test_df[test_df['abstract_text'].apply(lambda x: all(s != '' for s in x))]"
   ]
  },
  {
   "cell_type": "markdown",
   "metadata": {},
   "source": [
    "* 处理后分别剩下 24843/ 1399/ 1431条样本"
   ]
  },
  {
   "cell_type": "code",
   "execution_count": 32,
   "metadata": {},
   "outputs": [
    {
     "data": {
      "text/plain": [
       "['introduction tumors lack normal drainage of secreted fluids and consequently build up tumor interstitial fluid( tif). unlike other bodily fluids, tif likely contains a high proportion of tumor- specific proteins with potential as biomarkers.',\n",
       " 'methods here, we evaluated a novel technique using a unique ultra filtration catheter for in situ collection of tif and used it to generate the first catalog of tif proteins from a head and neck s quam o us cell carcinoma( hn s cc). to maximize pro teo mic coverage, tif was immuno depleted for high abundance proteins and digested with try ps in, and peptides were fraction a ted in three dimensions prior to mass spectrometry.',\n",
       " 'results we identified 525 proteins with high confidence. the hn s cc tif pro teo me was distinct compared to pro teo mes of other bodily fluids. it contained a relatively high proportion of proteins annotated by gene ontology as extracellular compared to other secreted fluid and cellular pro teo mes, indicating minimal cell lysis from our in situ collection technique. several proteins identified are putative biomarkers of hn s cc, supporting our catalog s value as a source of potential biomarkers.',\n",
       " 'conclusions in all, we demonstrate a reliable new technique for in situ tif collection and provide the first hn s cc tif protein catalog with value as a guide for others seeking to develop tumor biomarkers. electronic supplementary material the online version of this article( doi:10. 1007/s12014- 010- 9050- 3) contains supplementary material, which is available to authorized users.']"
      ]
     },
     "execution_count": 32,
     "metadata": {},
     "output_type": "execute_result"
    }
   ],
   "source": [
    "train_df.iloc[5567]['abstract_text']"
   ]
  },
  {
   "cell_type": "markdown",
   "metadata": {},
   "source": [
    "# 3. Save Processed Dataset"
   ]
  },
  {
   "cell_type": "code",
   "execution_count": 34,
   "metadata": {},
   "outputs": [],
   "source": [
    "train_df.to_json(f'../datasets/pubmed-dataset-processed-final/train.json', orient='records', lines=True)\n",
    "val_df.to_json(f'../datasets/pubmed-dataset-processed-final/val.json', orient='records', lines=True)\n",
    "test_df.to_json(f'../datasets/pubmed-dataset-processed-final/test.json', orient='records', lines=True)"
   ]
  },
  {
   "cell_type": "code",
   "execution_count": 35,
   "metadata": {},
   "outputs": [],
   "source": [
    "import pandas as pd\n",
    "processed_train_df = pd.read_json('../datasets/pubmed-dataset-processed-final/train.json', lines=True)\n",
    "processed_val_df = pd.read_json('../datasets/pubmed-dataset-processed-final/val.json', lines=True)\n",
    "processed_test_df = pd.read_json('../datasets/pubmed-dataset-processed-final/test.json', lines=True)"
   ]
  },
  {
   "cell_type": "code",
   "execution_count": 36,
   "metadata": {},
   "outputs": [
    {
     "data": {
      "text/plain": [
       "'PMC2937136'"
      ]
     },
     "execution_count": 36,
     "metadata": {},
     "output_type": "execute_result"
    }
   ],
   "source": [
    "processed_train_df.iloc[5567]['article_id']"
   ]
  },
  {
   "cell_type": "code",
   "execution_count": 37,
   "metadata": {},
   "outputs": [
    {
     "data": {
      "text/plain": [
       "['squamous cell carcinoma ( scc ) is a common type of cancer originating in epithelial cells . survival rates of sccs of the upper respiratory tract 5  years post - diagnosis are about 50% . however , early detection and treatment results in substantially better prognosis . currently , the most accurate diagnostic test for all sccs is a histological examination of a tissue biopsy . a less invasive test that still maintains sensitivity and selectivity , from a readily available bodily fluid like plasma or saliva , would be greatly beneficial . one potential test would be based on specific differential protein expression , or protein biomarkers of scc . a promising source of possible biomarkers of scc is tumor interstitial fluid ( tif ) . the production of tif results from buildup of fluid derived from cell secretions due to a lack of a fully formed vascular and lymphatic system within the tumor . because this fluid is directly associated with the tumor , it may be a rich source of tumor - specific biomarkers . in the case of scc of the head and neck ( and potentially scc at other anatomical locations ) , tif may infiltrate other easily sampled bio - fluids such as plasma or saliva . thus , knowledge of tif proteomes may help to prioritize putative protein biomarkers found in plasma or saliva to guide validation studies . despite its potential value as a source of tumor biomarkers , representative catalogs of tif proteomes currently , a couple of different analysis strategies for studying interstitial fluid have been employed . first , some studies have used indirect extraction of tif from biopsies where resected tissue is soaked in buffer and proteins diffused into the buffer over time are analyzed [ 3 , 4 ] . other studies have used cell culture models to study tif - like proteomes where conditioned media are collected after a period of incubation and shed / secreted proteins are analyzed [ 5 , 6 ] . these collections may not be true representations of tif due to the ex vivo and in vitro sampling techniques employed . in this study , tif from a head and neck scc tumor was obtained directly in situ without biopsy using a novel ultrafiltration catheter , and its proteome was characterized via immunodepletion , trypsin digestion , three - dimensional peptide fractionation , and mass spectrometry . this represents the first study of tif collected in situ and the first study of tif obtained from head and neck squamous cell carcinoma ( hnscc ) . our collection technique , sample preparation , and resulting proteomic catalog should be a valuable resource to others investigating tumor progression mechanisms as well as those seeking to identify tumor - specific biomarkers of scc .',\n",
       " 'in situ scc tif collection tif was collected from the tumor of a patient with stage iv head and neck cancer with informed consent using an ultrafiltration catheter previously described . briefly , the catheter is constructed with hollow fibers composed of polysulfone with 0.45-m pores throughout the walls of the fiber . it is slightly smaller than a 27-gauge needle , and the proximal shaft of the catheter is the size of a 24-gauge needle to limit disturbances from seeding . tif was collected from the right and left side of the tumor , was mixed with phosphate buffered saline , and was immediately stored at 80c . depletion of high abundance proteins from tif to remove high abundance proteins from tif for enhancement of proteomic coverage , a multiple affinity removal system ( mars , agilent technologies , inc . the mars column consists of immobilized antibodies directed against albumin , igg , iga , transferrin , haptoglobin , and antitrypsin . protein from tif ( 0.4  mg ) was applied to the mars column , and the column was used according to manufacturer s instructions using manufacturer - supplied buffers . fractions consisting of flow - through of unbound and eluted bound proteins were collected separately . trypsin digestion and fractionation of tif peptides both undepleted ( 100  g ) and mars - depleted ( 150  g ) tif protein samples were independently digested and used for proteomics analysis . as a denaturant , sds was added to tif samples to a final concentration of 0.5% w / v . dithiothreitol ( sigma ) was added at 10  mm and incubated for 60  min at 56c . resulting free sulfhydryl groups were alkylated with addition of 50  mm iodoacetamide ( sigma ) for 45  min at room temperature in the dark . samples were diluted tenfold with 10  mm ammonium bicarbonate buffer ( ph  8.0 ) to reduce the sds concentration to 0.05% w / v . sequencing grade trypsin ( promega , madison , wi ) was added to a final enzyme / substrate ratio of 1:50 , and the reaction was incubated at 37c overnight . the next day , samples were cleaned with an oasis mcx solid phase extraction cartridge ( waters , milford , ma ) according to manufacturer s protocol , and the eluted peptides were dried by vacuum centrifugation.peptide isoelectric focusing ( ief ) was performed using an agilent 3100 offgel fractionator ( agilent )   using the 24-well setup with ph  310 ipg strips according to manufacturer s instructions . briefly , peptides resulting from trypsin digestion of tif proteins were dissolved in 3.6  ml of offgel peptide sample solution consisting of appropriate ampholytes . the ipg strip was rehydrated with the peptide ipg strip rehydration solution for 15  min . the peptide solutions ( either from the non - depleted or depleted sample ) were separately loaded in equal volumes ( 150  l ) into each of the wells . the peptides were then electrofocused at a maximum limit of 50  a until 50  kvh was reached . after completion , peptide ief fractions from the non - depleted samples were acidified to ph  ~2 with tfa , purified using  stage  tips   composed of 2    22-gauge needle punches of empore extraction disks ( 3  m , st . paul , mn ) , dried by vacuum centrifugation , and stored pending mass spectrometric analysis . the mars depleted samples were further fractionated with offline strong cation exchange ( scx ) hplc as described previously . capillary lc - ms / ms dried peptides were resuspended in 5  l of load buffer ( 98:2:0.1 water / acetonitrile / formic acid ) . theses samples were loaded onto an in - house poured reversed phase capillary column at 1,000  nl / min using an eksigent microas autosampler and 1dlc nano - hplc . the column consisted of fused silica tubing packed with magic c18aq5-m , 200- pore size resin ( michrom bioresources ) to dimensions of 13  cm    100  m , and the outlet of the column was a pulled tip . reversed phase chromatography followed a gradient of 240% acetonitrile in 0.1% formic acid over 90  min at 250  nl / min . the tip of the column was in line with an ltq - orbitrap xl mass spectrometer ( thermofisher scientific ) . spray voltage was set to 1.75  kv , and the capillary ion transfer tube was set to 160c . a series of four separate full scans were acquired from the orbital trap ( m / z 380520 ; 515690 ; 685975 ; 9702,000 ) at a resolution of 60,000 at m / z 400 with agc settings of 1e6 ions or 500  ms . the top three intense ions from each individual full scan fraction were subjected to fragmentation by cid at a normalized collision energy of 35% and scanned out using the ltq ion trap . charge state screening was enabled for full scans so that unassigned charge states and singly charged ions were rejected for cid . exclusion time was set to 60  s with a mass tolerance window of 0.6 to 1.2  amu . spectral data were acquired and saved using xcalibur software . cheek cell brush biopsy collection and analysis the inside of the cheek of a healthy volunteer was dried with a cotton swab to minimize salivary contamination , and buccal epithelial cells were obtained with brushing using an oralcdx brush test kit ( oralcdx laboratories , inc . , after that , the oral brush was rotated 360 for three times on the tissue surface . the brush head was placed in 0.25  ml of lysis buffer ( 4% sds , 10% 2-mercaptoethanol , 100  mm tris  hcl , ph  6.8 , and 1 protease inhibitors ( complete mini , roche applied science , indianapolis , in , usa ) ) , and the exfoliated epithelial cells were lysed with continuous vortexing for 15  min at room temperature . the protein lysate ( 0.25  ml ) was chilled on ice prior to addition of 1  ml of ice - cold acetone to precipitate proteins overnight at 20c . precipitated protein was centrifuged at 6,000  rpm for 10  min at 4c , and the protein pellet was dissolved in 50  mm tris  an aliquot containing 0.1  mg of protein was digested with sequencing grade trypsin ( promega , madison , wi ) at a 1:100 enzyme / substrate ratio . digestion occurred overnight at 37c , and resulting peptides were subjected to scx as described above . a total of nine fractions were analyzed by reversed phase nlc ms / ms essentially as described   database searching and data processing mass spectral data were searched using maxquant software . parameters included full trypsin specificity with up to two missed cleavages and oxidized methionine as a variable modification . the msm files were searched against a composite of the ipi human database v3.52 and its reversed compliment including common contaminant proteins using mascot   with 7  ppm precursor and 0.5  amu fragment ion mass tolerances , respectively . identification parameters included minimum pep score of 1 , at least two unique peptides for identification , and protein false discovery rate ( fdr ) < 1% . comparison of tif to other proteomes the salivary protein dataset was generated from .raw files obtained from   and was searched using maxquant and parameters as above . protein datasets from conditioned media of the ovarian cancer cell lines : htb-75 , rmug - s , tov-112d , and tov-21 g were obtained from . identifications were filtered based on 95% peptide probability and 80% protein probability for peptideprophet   and proteinprophet , respectively . the liver interstitial fluid ( if ) proteomes were from , and each identification had at least two unique peptide matches . comparison using gene ontology terms proteins identified from tif and epithelial brush biopsy cell lysate were compared by the cellular components gene ontology ( go ) term . cytosolic ,   cytoplasmic ,  or  cytoskeletol  were counted and grouped as  names that referred to organelles such as the endoplasmic reticulum , the nucleus , mitochondria , the golgi complex , peroxisomes , or lysosomes were counted and grouped as ',\n",
       " 'in situ collection of tif for our study , a unique ultrafiltration catheter [ 7 , 16 ] was used for in situ tif collection from a patient with a stage iv neck scc . the catheter , originally designed to deliver therapeutics to localized sites , was composed of a fibrous wall 3-mm long with an outer diameter of 380  m similar to that of a 28-gauge needle . the walls were made of semi - permeable hydrophilic polysulfone fiber with 0.45-m pores to prevent solid material from passing through . the porous fiber also had a relatively large surface area to dissipate the force generated from suction , thereby providing gentle extraction . in all , the miniature design with large surface area was intended to limit tissue damage . the distal end was enclosed , and the proximal end was connected to a vacutainer , providing suction for removal and storage of the tif . sample preparation and proteomic analysis of tif tif was collected from two bilateral regional metastases of a stage iv hnscc in a single patient with informed consent . the extracted fluids were mixed with phosphate - buffered saline and immediately stored at 80c until further use . the coomassie staining pattern after sds - page showed that the two tif collections were very similar ( fig .  1 , lanes 1 and 2 ) , suggesting that the tif was homogenous throughout the tumor and that extraction was consistent and repeatable . the detection of only a few intense bands by coomassie staining indicated the possible presence of several proteins at much higher abundance compared to other proteins in the sample , similar to the large dynamic range of protein abundances observed in other bio - fluids like plasma . \\n tif ( 10  g ) was separated by sds - page and stained with coomassie brilliant blue . the two lanes labeled right and left represent tif collected from two separate extractions using the ultrafiltration catheter device of a head and neck tumor in situto get an initial assessment of the protein composition of tif , a small portion was digested with trypsin , and the peptides were analyzed via tandem mass spectrometry ( ms / ms ) . the seven identified proteins that had the highest number of assigned spectra ( starting with the highest in descending order ) were albumin , hemoglobin ( beta and alpha subunits ) , transferrin , complement component 3 precursor , haptoglobin isoform 2 preprotein , alpha-2-macroglobulin , and alpha-1-antitrypsin . 1 at ~70 and ~15  kda match the expected molecular weight of albumin and alpha / beta globin , respectively . except for the two hemoglobin subunits , the other six proteins are among the most abundant proteins found in plasma [ 17 , 18].seeking to expand our identification of lower abundance proteins , we chose to remove the high abundance proteins through immunodepletion using a mars column designed to remove the abundant plasma proteins we found in tif . after starting with ~0.4  mg , the depleted flow - through from the mars column contained 0.15  mg of total protein . these proteins were digested with trypsin , and the peptides were separated based on isoelectric point . we then incorporated scx chromatography as depicted in fig .  2 , which outlines the sample preparation and analysis scheme . scx had previously been shown to be an effective second fractionation step after isoelectric focusing for complex samples [ 10 , 19 ] . specifically , the isoelectric point peptide fractions were combined in groups of six to eight fractions creating three separate pools , each of which was subjected to scx hplc . a total of 1215 fractions from each pooled sample were selected based on signal from uv chromatograms of the associated scx fractionation . each of these fractions was individually subjected to lc - ms / ms analysis , which resulted in identification of 525 proteins with at least two unique peptide sequences . all of the identified peptides are listed in supplementary table  1 , and the corresponding proteins are listed in supplementary table  2 . \\n the peptides were subjected to three dimensions of fractionation using isoelectric focusing , strong cation exchange chromatography , and reversed - phase chromatography prior to tandem mass spectrometry analysis . ms / ms data was searched against a human database using maxquant sds - page analysis of tif . tif ( 10  g ) was separated by sds - page and stained with coomassie brilliant blue . the two lanes labeled right and left represent tif collected from two separate extractions using the ultrafiltration catheter device of a head and neck tumor in situ proteomic analysis strategy for identifying proteins from tif . the peptides were subjected to three dimensions of fractionation using isoelectric focusing , strong cation exchange chromatography , and reversed - phase chromatography prior to tandem mass spectrometry analysis . ms / ms data was searched against a human database using maxquant comparison of hnscc tif to other proteomes with a novel , high confidence protein catalog in hand , we next sought to compare it with other proteomes to further characterize the hnscc tif proteome . since hnscc tif contained several high abundance plasma proteins , we initially compared it against the plasma proteome to determine the degree of similarity between these two proteomes . the human plasma proteome was obtained from the hupo plasma proteome project ( http://www.bioinformatics.med.umich.edu/hupo/ppp ) and contained 3,020 proteins with at least two unique peptide identifications . unexpectedly , hnscc tif had a relatively small overlap of common proteins with plasma ( 40% overlap , fig .  in fact , hnscc tif shared more in common with the proteome of whole saliva ( 76% overlap , fig .  this finding was even more striking considering that the plasma proteome had about 1,000 more proteins than saliva . the relatively low amount of overlap with plasma supported that the hnscc tif was collected with little or no accidental contamination from blood . venn diagrams showing common and unique proteins from hnscc tif to a plasma , 40% in common ; b saliva , 76% in common ; c hepatocyte cell carcinoma tif , 41% in common ; and d conditioned media from tov-112d ovarian carcinoma cell line , 34% in commonwe next sought a more direct comparison of the hnscc tif proteome to other if or if - like proteomes . recently , the ifs were derived from tissue biopsies and obtained ex vivo from proteins released into buffer . these samples included tif from a hepatocellular carcinoma ( hcc ) , if from a non - tumor part of the same liver , and if from a separate healthy liver . not surprisingly , the hcc tif proteome had the most in common with the hnscc tif proteome with 41% overlap ( fig .  3c ) , whereas the if from a non - tumor part of the same liver and the if from a separate healthy liver had 38% and 35% of proteins in common . even though there was 41% overlap , the hcc and hnscc tif proteomes had large numbers of non - shared proteins suggesting that they were quite distinct.finally , the hnscc tif was compared to secreted proteins from four different ovarian cancer cell lines . the proteomic datasets were obtained in a previous study   where an extensive analysis was performed using conditioned media after incubation with cells in order to obtain shed or secreted proteins , similar in principle to those found in tif . this type of rigorous proteomics analysis has not been performed for hnscc - based cell models , and despite differences , an ovarian cancer model seemed appropriate since both cancer types are epithelial in nature . hnscc tif had 34% proteins in common with media from tov-112d cells ( fig .  there was somewhat less overlap with media from htb-75 cells ( 28% ) , tov-21 g cells ( 29% ) , and rmug - s ( 18% ; data not shown ) . once again , the hnscc tif proteome had a high amount of non - overlapping proteins further demonstrating that our in situ collected hnscc tif proteome was distinct . venn diagrams showing common and unique proteins from hnscc tif to a plasma , 40% in common ; b saliva , 76% in common ; c hepatocyte cell carcinoma tif , 41% in common ; and d conditioned media from tov-112d ovarian carcinoma cell line , 34% in common',\n",
       " 'this study describes the first report to our knowledge of the proteomic characterization of hnscc tif . initial characterization showed that hnscc tif had a large dynamic range of protein abundance ( see fig .  1 ) . many of the high abundance proteins were the same high abundance proteins found in plasma . as a result , we chose to use mars depletion coupled with three - dimensional peptide fractionation in our sample preparation , which enabled deeper proteomic coverage . the scheme employed here , as depicted in fig .  2 , may serve as a template for future tif proteomic studies . in all , 525 proteins were identified with high confidence . as a whole , our results indicated that the ultrafiltration catheter effectively collected tif in situ and preserved its integrity by limiting contamination from other sources . first , sds - page analysis of two separate collections of tif from the same tumor showed that each collection was consistent . if the samples were contaminated with proteins due to cell lysis or blood vessel damage , we would have expected more random protein patterns detected between the samples . second , hnscc tif identified proteins had a relatively small overlap to proteins identified from plasma ( fig .  this demonstrated that the catheter did not accidentally damage blood vessels leading to introduction of blood proteins into our sample .  gene ontology term revealed that the tif proteome had a high proportion of proteins grouped as extracellular and a low proportion of proteins classified as cytoplasmic and organellar compared to a similar sized dataset of an epithelial cell lysate ( fig .  the localization of proteins identified from tif was consistent with that of an extracellular fluid and further suggested that the insertion of the catheter caused minimal cell damage . the tif proteome characterized here was quite distinct when compared to other relevant proteomes as shown in fig .  there was a relatively low overlap of identified proteins when compared to interstitial fluids derived from liver and when compared to proteins secreted into conditioned media from various ovarian cancer cell lines . part of the low overlap is likely due to the different biological sources of the fluids . however , the distinctiveness of the hnscc tif is also probably a result of the unique sample collection technique . previous studies of tif have relied on excision of tissue biopsies followed by soaking of the extracted tissue over time in buffer . this method is comparably quite destructive and has invariably led to identification of contaminating proteins , which may negatively affect biomarker studies . the unique technique used in this study allowed for gentle collection of tif in situ , without a biopsy or time delay . overall , our in situ technique reliably collects high fidelity tif samples , and it should prove beneficial for further studies characterizing fluid from other types of tumors . tif protein catalogs obtained from high fidelity samples , such as the hnscc catalog presented here , have potential value in prioritization of potential biomarkers found in other studies . there has been a large push in the field of proteomics to find protein biomarkers from easily accessible fluids such as plasma or saliva . it is difficult to validate all of these potential biomarkers because each validation requires it own specific and sensitive test , which together is rate - limiting . consequently , prioritization is usually necessary , enabling validation of the most promising potential biomarkers . given the rich source of potential biomarkers provided by the catalog of tif proteins , it should serve as a valuable guide to help prioritize potential biomarkers discovered in other bodily fluids for validation . indeed , a number of proteins identified in our study were previously shown to be up - regulated in scc progression ( table  1 ) .']"
      ]
     },
     "execution_count": 37,
     "metadata": {},
     "output_type": "execute_result"
    }
   ],
   "source": [
    "processed_train_df.iloc[5567]['sections']"
   ]
  },
  {
   "cell_type": "code",
   "execution_count": 38,
   "metadata": {},
   "outputs": [
    {
     "data": {
      "text/plain": [
       "['aims: to investigate the effect of the storage period on the accuracy of recently developed el as tom eric materials.',\n",
       " 'methods: simultaneous impressions of a steel die were taken using a poly ether( i: imp re gum soft heavy and light body, 3 m esp e) and vinyl poly silo x a ne( p: perfect im blue velvet and flex i- velvet, j. morita). the trays were loaded with the heavy- bodied impression materials while the light- bodied impression materials were simultaneously spread on the steel die. the impressions were poured after 2 hours, 24 hours, and 7 days. impressions were stored at approximately 55% relative humidity and room temperature. ten replicas were produced for each experimental condition( n=60). accuracy of the stone dies was assessed with a depth- measuring microscope. the difference in height between the surface of the stone die and a standard metallic ring was recorded in micrometers at four demarcated points, by two independent examiners. dx at a were submitted to two- way a nova and tu key test(= 0. 05).',\n",
       " 'results: significant differences were found among the groups. smaller discrepancies were observed when pouring was performed up to 24 hours( i-2h= 65. 0 15. 68 m; i-24h= 81. 6 11. 13 m) for the poly ether, and up to 7 days for the vinyl poly silo x a ne( p-2h= 79. 1 13. 82 m; p-24h= 96. 8 6. 02 m; p-7d= 81. 4 4. 3 m). significant dimensional discrepancies, however, were observed when poly ether was stored for 7 days( i-7d= 295. 3 17. 4 m).',\n",
       " 'conclusion: storage may significantly affect the dimensional accuracy of impressions and, thus, a maximum period and storage condition should be specified for the recently developed materials.']"
      ]
     },
     "execution_count": 38,
     "metadata": {},
     "output_type": "execute_result"
    }
   ],
   "source": [
    "processed_train_df.iloc[5667]['abstract_text']"
   ]
  },
  {
   "cell_type": "code",
   "execution_count": 18,
   "metadata": {},
   "outputs": [],
   "source": [
    "train_df = pd.read_json('../datasets/pubmed-dataset-copy/train.json', lines=True)"
   ]
  },
  {
   "cell_type": "code",
   "execution_count": 38,
   "metadata": {},
   "outputs": [
    {
     "data": {
      "text/plain": [
       "[['<S> objectives : iron and multivitamin drops are being frequently prescribed in children less than 2 years of age . due to their low ph levels , these drops may lead to the softening of enamel and accelerate the destructive process . the aim of </S>',\n",
       "  '<S> the present study was to investigate the enamel microhardness of primary teeth after exposing them to iron and multivitamin drops.materials and methods : forty healthy anterior teeth were randomly divided into four groups of 10 samples each . </S>',\n",
       "  '<S> samples were exposed to two iron drops of kharazmi ( iran ) and ironorm ( uk ) and two multivitamin drops of shahdarou ( iran ) and eurovit ( germany ) for 5 min . </S>',\n",
       "  '<S> the surface microhardness was measured before and after exposure and data processing was done using statistical paired t - test and analysis of variance ( anova ) test . </S>',\n",
       "  '<S> the surface structure of the teeth was examined by scanning electron microscope ( sem).results : in all groups , microhardness was decreased , but it was not significant in eurovit multivitamin group ( p = 0.088 ) . </S>',\n",
       "  '<S> the reduction rate in kharazmi iron group was significant compared to that in other groups ( p < 0.005 ) . </S>',\n",
       "  '<S> hardness reduction percent for kharazmi iron drop was 28/12  47/43 . in sem analysis </S>',\n",
       "  '<S> , irregular granular appearance was observed in the enamel exposed to kharazmi iron drop.conclusion:the results showed that all the studied drugs have the potential to cause erosion ; this potential is the most in kharazmi iron drop and the least in eurovit multivitamin drops . </S>',\n",
       "  '<S> therefore , after using these kinds of drops , preventive measures should be used in children . </S>']]"
      ]
     },
     "execution_count": 38,
     "metadata": {},
     "output_type": "execute_result"
    }
   ],
   "source": [
    "# 选择'PMC4697239'这篇文章\n",
    "sample = train_df[train_df['article_id'] == 'PMC4697239']\n",
    "sample['abstract_text'].to_list()"
   ]
  },
  {
   "cell_type": "markdown",
   "metadata": {},
   "source": [
    "# 4.Dataset Statistic"
   ]
  },
  {
   "cell_type": "code",
   "execution_count": 39,
   "metadata": {},
   "outputs": [
    {
     "data": {
      "text/plain": [
       "True"
      ]
     },
     "execution_count": 39,
     "metadata": {},
     "output_type": "execute_result"
    }
   ],
   "source": [
    "import nltk\n",
    "from tqdm import tqdm\n",
    "nltk.download(\"punkt\", quiet=True)"
   ]
  },
  {
   "cell_type": "markdown",
   "metadata": {},
   "source": [
    "* Avg token size of Sections"
   ]
  },
  {
   "cell_type": "code",
   "execution_count": 40,
   "metadata": {},
   "outputs": [],
   "source": [
    "# calculate the avg token size of dataset['sections']:\n",
    "def avg_token_size(dataset):\n",
    "    token_size = 0\n",
    "    for idx, sample in tqdm(dataset.iterrows()):\n",
    "        for sec in sample['sections']:\n",
    "            token_size += len(nltk.word_tokenize(sec))\n",
    "    return token_size / len(dataset)"
   ]
  },
  {
   "cell_type": "code",
   "execution_count": 41,
   "metadata": {},
   "outputs": [
    {
     "name": "stderr",
     "output_type": "stream",
     "text": [
      "24843it [09:25, 43.89it/s]\n"
     ]
    },
    {
     "name": "stdout",
     "output_type": "stream",
     "text": [
      "2736.260194018436\n"
     ]
    },
    {
     "name": "stderr",
     "output_type": "stream",
     "text": [
      "1399it [00:33, 42.28it/s]\n"
     ]
    },
    {
     "name": "stdout",
     "output_type": "stream",
     "text": [
      "2751.263759828449\n"
     ]
    },
    {
     "name": "stderr",
     "output_type": "stream",
     "text": [
      "1431it [00:33, 43.26it/s]"
     ]
    },
    {
     "name": "stdout",
     "output_type": "stream",
     "text": [
      "2729.0041928721175\n"
     ]
    },
    {
     "name": "stderr",
     "output_type": "stream",
     "text": [
      "\n"
     ]
    }
   ],
   "source": [
    "for dataset in [processed_train_df, processed_val_df, processed_test_df]:\n",
    "    print(avg_token_size(dataset))"
   ]
  },
  {
   "cell_type": "markdown",
   "metadata": {},
   "source": [
    "| avg_token_size | sections |\n",
    "| --- | --- |\n",
    "| train | 2740 |\n",
    "| eval | 2752 |\n",
    "| test | 2732 |"
   ]
  },
  {
   "cell_type": "markdown",
   "metadata": {},
   "source": [
    "* Avg token size of Abstract"
   ]
  },
  {
   "cell_type": "code",
   "execution_count": 39,
   "metadata": {},
   "outputs": [],
   "source": [
    "# calculate the avg token size of dataset['abstract_text']:\n",
    "def avg_token_size_abstract(dataset):\n",
    "    token_size = 0\n",
    "    for idx, sample in tqdm(dataset.iterrows()):\n",
    "        for abs in sample['abstract_text']:\n",
    "            token_size += len(nltk.word_tokenize(abs))\n",
    "    return token_size / len(dataset)"
   ]
  },
  {
   "cell_type": "code",
   "execution_count": 40,
   "metadata": {},
   "outputs": [
    {
     "name": "stderr",
     "output_type": "stream",
     "text": [
      "0it [00:00, ?it/s]"
     ]
    },
    {
     "name": "stderr",
     "output_type": "stream",
     "text": [
      "24793it [00:43, 571.31it/s]\n"
     ]
    },
    {
     "name": "stdout",
     "output_type": "stream",
     "text": [
      "298.68567740894605\n"
     ]
    },
    {
     "name": "stderr",
     "output_type": "stream",
     "text": [
      "1398it [00:02, 563.99it/s]\n"
     ]
    },
    {
     "name": "stdout",
     "output_type": "stream",
     "text": [
      "300.18741058655223\n"
     ]
    },
    {
     "name": "stderr",
     "output_type": "stream",
     "text": [
      "1429it [00:02, 557.62it/s]"
     ]
    },
    {
     "name": "stdout",
     "output_type": "stream",
     "text": [
      "302.94891532540237\n"
     ]
    },
    {
     "name": "stderr",
     "output_type": "stream",
     "text": [
      "\n"
     ]
    }
   ],
   "source": [
    "for dataset in [processed_train_df, processed_val_df, processed_test_df]:\n",
    "    print(avg_token_size_abstract(dataset))"
   ]
  },
  {
   "cell_type": "markdown",
   "metadata": {},
   "source": [
    "| avg_token_size | abstract_text |\n",
    "| --- | --- |\n",
    "| train | 299 |\n",
    "| eval | 300 |\n",
    "| test | 303 |"
   ]
  }
 ],
 "metadata": {
  "kernelspec": {
   "display_name": "pytorch",
   "language": "python",
   "name": "python3"
  },
  "language_info": {
   "codemirror_mode": {
    "name": "ipython",
    "version": 3
   },
   "file_extension": ".py",
   "mimetype": "text/x-python",
   "name": "python",
   "nbconvert_exporter": "python",
   "pygments_lexer": "ipython3",
   "version": "3.10.13"
  }
 },
 "nbformat": 4,
 "nbformat_minor": 2
}
