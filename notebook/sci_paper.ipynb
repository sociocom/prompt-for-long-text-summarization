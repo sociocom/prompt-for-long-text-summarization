{
 "cells": [
  {
   "cell_type": "code",
   "execution_count": 6,
   "metadata": {},
   "outputs": [],
   "source": [
    "from datasets import load_dataset"
   ]
  },
  {
   "cell_type": "code",
   "execution_count": 9,
   "metadata": {},
   "outputs": [
    {
     "name": "stderr",
     "output_type": "stream",
     "text": [
      "Downloading data: 100%|██████████| 3.62G/3.62G [08:15<00:00, 7.31MB/s]\n",
      "Downloading data: 100%|██████████| 880M/880M [01:57<00:00, 7.46MB/s]t]\n",
      "Downloading data files: 100%|██████████| 2/2 [10:17<00:00, 308.67s/it]\n",
      "Extracting data files: 100%|██████████| 2/2 [01:01<00:00, 30.78s/it]\n",
      "Generating train split: 100%|██████████| 203037/203037 [01:07<00:00, 3007.89 examples/s]\n",
      "Generating validation split: 100%|██████████| 6436/6436 [00:02<00:00, 3113.56 examples/s]\n",
      "Generating test split: 100%|██████████| 6440/6440 [00:02<00:00, 3150.02 examples/s]\n"
     ]
    }
   ],
   "source": [
    "sci_paper = load_dataset(\"scientific_papers\", \"arxiv\")"
   ]
  },
  {
   "cell_type": "code",
   "execution_count": 18,
   "metadata": {},
   "outputs": [
    {
     "data": {
      "text/html": [
       "<div>\n",
       "<style scoped>\n",
       "    .dataframe tbody tr th:only-of-type {\n",
       "        vertical-align: middle;\n",
       "    }\n",
       "\n",
       "    .dataframe tbody tr th {\n",
       "        vertical-align: top;\n",
       "    }\n",
       "\n",
       "    .dataframe thead th {\n",
       "        text-align: right;\n",
       "    }\n",
       "</style>\n",
       "<table border=\"1\" class=\"dataframe\">\n",
       "  <thead>\n",
       "    <tr style=\"text-align: right;\">\n",
       "      <th></th>\n",
       "      <th>article</th>\n",
       "      <th>abstract</th>\n",
       "      <th>section_names</th>\n",
       "    </tr>\n",
       "  </thead>\n",
       "  <tbody>\n",
       "    <tr>\n",
       "      <th>0</th>\n",
       "      <td>additive models @xcite provide an important fa...</td>\n",
       "      <td>additive models play an important role in sem...</td>\n",
       "      <td>introduction\\nmain results on learning rates\\n...</td>\n",
       "    </tr>\n",
       "    <tr>\n",
       "      <th>1</th>\n",
       "      <td>the leptonic decays of a charged pseudoscalar ...</td>\n",
       "      <td>we have studied the leptonic decay @xmath0 , ...</td>\n",
       "      <td>[sec:introduction]introduction\\n[sec:detector]...</td>\n",
       "    </tr>\n",
       "    <tr>\n",
       "      <th>2</th>\n",
       "      <td>the transport properties of nonlinear non - eq...</td>\n",
       "      <td>in 84 , 258 ( 2000 ) , mateos conjectured tha...</td>\n",
       "      <td>introduction\\nregularity and chaos in single-p...</td>\n",
       "    </tr>\n",
       "    <tr>\n",
       "      <th>3</th>\n",
       "      <td>studies of laser beams propagating through tur...</td>\n",
       "      <td>the effect of a random phase diffuser on fluc...</td>\n",
       "      <td>introduction\\nthe method of photon distributio...</td>\n",
       "    </tr>\n",
       "    <tr>\n",
       "      <th>4</th>\n",
       "      <td>the so - called `` nucleon spin crisis '' rais...</td>\n",
       "      <td>with a special intention of clarifying the un...</td>\n",
       "      <td>introduction\\nmodel lagrangian with pion mass ...</td>\n",
       "    </tr>\n",
       "  </tbody>\n",
       "</table>\n",
       "</div>"
      ],
      "text/plain": [
       "                                             article  \\\n",
       "0  additive models @xcite provide an important fa...   \n",
       "1  the leptonic decays of a charged pseudoscalar ...   \n",
       "2  the transport properties of nonlinear non - eq...   \n",
       "3  studies of laser beams propagating through tur...   \n",
       "4  the so - called `` nucleon spin crisis '' rais...   \n",
       "\n",
       "                                            abstract  \\\n",
       "0   additive models play an important role in sem...   \n",
       "1   we have studied the leptonic decay @xmath0 , ...   \n",
       "2   in 84 , 258 ( 2000 ) , mateos conjectured tha...   \n",
       "3   the effect of a random phase diffuser on fluc...   \n",
       "4   with a special intention of clarifying the un...   \n",
       "\n",
       "                                       section_names  \n",
       "0  introduction\\nmain results on learning rates\\n...  \n",
       "1  [sec:introduction]introduction\\n[sec:detector]...  \n",
       "2  introduction\\nregularity and chaos in single-p...  \n",
       "3  introduction\\nthe method of photon distributio...  \n",
       "4  introduction\\nmodel lagrangian with pion mass ...  "
      ]
     },
     "execution_count": 18,
     "metadata": {},
     "output_type": "execute_result"
    }
   ],
   "source": [
    "import pandas\n",
    "pandas.DataFrame(sci_paper['train']).head()\n"
   ]
  }
 ],
 "metadata": {
  "kernelspec": {
   "display_name": "summarization",
   "language": "python",
   "name": "python3"
  },
  "language_info": {
   "codemirror_mode": {
    "name": "ipython",
    "version": 3
   },
   "file_extension": ".py",
   "mimetype": "text/x-python",
   "name": "python",
   "nbconvert_exporter": "python",
   "pygments_lexer": "ipython3",
   "version": "3.11.4"
  },
  "orig_nbformat": 4
 },
 "nbformat": 4,
 "nbformat_minor": 2
}
