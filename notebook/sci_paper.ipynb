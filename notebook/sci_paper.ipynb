{
 "cells": [
  {
   "cell_type": "code",
   "execution_count": 6,
   "metadata": {},
   "outputs": [],
   "source": [
    "from datasets import load_dataset"
   ]
  },
  {
   "cell_type": "code",
   "execution_count": 9,
   "metadata": {},
   "outputs": [
    {
     "name": "stderr",
     "output_type": "stream",
     "text": [
      "Downloading data: 100%|██████████| 3.62G/3.62G [08:15<00:00, 7.31MB/s]\n",
      "Downloading data: 100%|██████████| 880M/880M [01:57<00:00, 7.46MB/s]t]\n",
      "Downloading data files: 100%|██████████| 2/2 [10:17<00:00, 308.67s/it]\n",
      "Extracting data files: 100%|██████████| 2/2 [01:01<00:00, 30.78s/it]\n",
      "Generating train split: 100%|██████████| 203037/203037 [01:07<00:00, 3007.89 examples/s]\n",
      "Generating validation split: 100%|██████████| 6436/6436 [00:02<00:00, 3113.56 examples/s]\n",
      "Generating test split: 100%|██████████| 6440/6440 [00:02<00:00, 3150.02 examples/s]\n"
     ]
    }
   ],
   "source": [
    "sci_paper = load_dataset(\"scientific_papers\", \"arxiv\")"
   ]
  },
  {
   "cell_type": "code",
   "execution_count": null,
   "metadata": {},
   "outputs": [],
   "source": [
    "import pandas\n",
    "pandas.DataFrame(sci_paper['train']).head()\n"
   ]
  },
  {
   "cell_type": "code",
   "execution_count": 25,
   "metadata": {},
   "outputs": [
    {
     "data": {
      "text/plain": [
       "26092"
      ]
     },
     "execution_count": 25,
     "metadata": {},
     "output_type": "execute_result"
    }
   ],
   "source": [
    "article = sci_paper['train'][0]\n",
    "len(article['article'])"
   ]
  },
  {
   "cell_type": "code",
   "execution_count": null,
   "metadata": {},
   "outputs": [],
   "source": [
    "data = pandas.read_csv(\"../../../arxiv-dataset/test.csv\")"
   ]
  }
 ],
 "metadata": {
  "kernelspec": {
   "display_name": "summarization",
   "language": "python",
   "name": "python3"
  },
  "language_info": {
   "codemirror_mode": {
    "name": "ipython",
    "version": 3
   },
   "file_extension": ".py",
   "mimetype": "text/x-python",
   "name": "python",
   "nbconvert_exporter": "python",
   "pygments_lexer": "ipython3",
   "version": "3.11.4"
  },
  "orig_nbformat": 4
 },
 "nbformat": 4,
 "nbformat_minor": 2
}
