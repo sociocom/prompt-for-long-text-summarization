{
 "cells": [
  {
   "cell_type": "code",
   "execution_count": 6,
   "metadata": {},
   "outputs": [],
   "source": [
    "from datasets import load_dataset"
   ]
  },
  {
   "cell_type": "code",
   "execution_count": 9,
   "metadata": {},
   "outputs": [
    {
     "name": "stderr",
     "output_type": "stream",
     "text": [
      "Downloading data: 100%|██████████| 3.62G/3.62G [08:15<00:00, 7.31MB/s]\n",
      "Downloading data: 100%|██████████| 880M/880M [01:57<00:00, 7.46MB/s]t]\n",
      "Downloading data files: 100%|██████████| 2/2 [10:17<00:00, 308.67s/it]\n",
      "Extracting data files: 100%|██████████| 2/2 [01:01<00:00, 30.78s/it]\n",
      "Generating train split: 100%|██████████| 203037/203037 [01:07<00:00, 3007.89 examples/s]\n",
      "Generating validation split: 100%|██████████| 6436/6436 [00:02<00:00, 3113.56 examples/s]\n",
      "Generating test split: 100%|██████████| 6440/6440 [00:02<00:00, 3150.02 examples/s]\n"
     ]
    }
   ],
   "source": [
    "sci_paper = load_dataset(\"scientific_papers\", \"arxiv\")"
   ]
  },
  {
   "cell_type": "code",
   "execution_count": null,
   "metadata": {},
   "outputs": [],
   "source": [
    "import pandas\n",
    "pandas.DataFrame(sci_paper['train']).head()\n"
   ]
  },
  {
   "cell_type": "code",
   "execution_count": 25,
   "metadata": {},
   "outputs": [
    {
     "data": {
      "text/plain": [
       "26092"
      ]
     },
     "execution_count": 25,
     "metadata": {},
     "output_type": "execute_result"
    }
   ],
   "source": [
    "article = sci_paper['train'][0]\n",
    "len(article['article'])"
   ]
  },
  {
   "cell_type": "code",
   "execution_count": null,
   "metadata": {},
   "outputs": [],
   "source": [
    "data = pandas.read_csv(\"../../../arxiv-dataset/test.csv\")"
   ]
  },
  {
   "cell_type": "code",
   "execution_count": 9,
   "metadata": {},
   "outputs": [],
   "source": [
    "import csv\n",
    "import json\n",
    "\n",
    "def process_text_file(input_file_path, output_file_path):\n",
    "    with open(input_file_path, 'r') as input_file, open(output_file_path, 'w', newline='') as output_file:\n",
    "        fieldnames = ['article_id', 'abstract_text', 'article_text', 'section_names', 'sections', 'labels']\n",
    "        writer = csv.DictWriter(output_file, fieldnames=fieldnames)\n",
    "        writer.writeheader()\n",
    "        \n",
    "        for line in input_file:\n",
    "            try:\n",
    "                # Replace null with None\n",
    "                line = line.replace('null', 'None')\n",
    "                data = json.loads(line.strip())\n",
    "                writer.writerow(data)\n",
    "            except json.JSONDecodeError:\n",
    "                # Try to parse the line as a JSON object\n",
    "                # If it fails, skip the line\n",
    "                continue"
   ]
  },
  {
   "cell_type": "code",
   "execution_count": 10,
   "metadata": {},
   "outputs": [],
   "source": [
    "process_text_file('../../../arxiv-dataset/test.txt', '../../../arxiv-dataset/test.csv')\n"
   ]
  },
  {
   "cell_type": "code",
   "execution_count": 12,
   "metadata": {},
   "outputs": [
    {
     "name": "stderr",
     "output_type": "stream",
     "text": [
      "Downloading data files: 100%|██████████| 1/1 [00:00<00:00, 3276.80it/s]\n",
      "Extracting data files: 100%|██████████| 1/1 [00:00<00:00, 557.98it/s]\n",
      "Generating train split: 6440 examples [00:01, 4073.11 examples/s]\n"
     ]
    }
   ],
   "source": [
    "from datasets import load_dataset\n",
    "file = load_dataset(\"json\", data_files=\"../../../arxiv-dataset/test.json\")"
   ]
  },
  {
   "cell_type": "code",
   "execution_count": 17,
   "metadata": {},
   "outputs": [
    {
     "data": {
      "text/plain": [
       "[['for about 20 years the problem of properties of short - term changes of solar activity has been considered extensively .',\n",
       "  'many investigators studied the short - term periodicities of the various indices of solar activity .',\n",
       "  'several periodicities were detected , but the periodicities about 155 days and from the interval of @xmath3 $ ] days ( @xmath4 $ ] years ) are mentioned most often .',\n",
       "  'first of them was discovered by @xcite in the occurence rate of gamma - ray flares detected by the gamma - ray spectrometer aboard the _ solar maximum mission ( smm ) .',\n",
       "  'this periodicity was confirmed for other solar flares data and for the same time period @xcite .',\n",
       "  'it was also found in proton flares during solar cycles 19 and 20 @xcite , but it was not found in the solar flares data during solar cycles 22 @xcite .',\n",
       "  '_    several autors confirmed above results for the daily sunspot area data . @xcite studied the sunspot data from 18741984 .',\n",
       "  'she found the 155-day periodicity in data records from 31 years .',\n",
       "  'this periodicity is always characteristic for one of the solar hemispheres ( the southern hemisphere for cycles 1215 and the northern hemisphere for cycles 1621 ) .',\n",
       "  'moreover , it is only present during epochs of maximum activity ( in episodes of 13 years ) .',\n",
       "  'similarinvestigationswerecarriedoutby + @xcite .',\n",
       "  'they applied the same power spectrum method as lean , but the daily sunspot area data ( cycles 1221 ) were divided into 10 shorter time series .',\n",
       "  'the periodicities were searched for the frequency interval 57115 nhz ( 100200 days ) and for each of 10 time series .',\n",
       "  'the authors showed that the periodicity between 150160 days is statistically significant during all cycles from 16 to 21 .',\n",
       "  'the considered peaks were remained unaltered after removing the 11-year cycle and applying the power spectrum analysis .',\n",
       "  '@xcite used the wavelet technique for the daily sunspot areas between 1874 and 1993 .',\n",
       "  'they determined the epochs of appearance of this periodicity and concluded that it presents around the maximum activity period in cycles 16 to 21 .',\n",
       "  'moreover , the power of this periodicity started growing at cycle 19 , decreased in cycles 20 and 21 and disappered after cycle 21 .',\n",
       "  'similaranalyseswerepresentedby + @xcite , but for sunspot number , solar wind plasma , interplanetary magnetic field and geomagnetic activity index @xmath5 .',\n",
       "  'during 1964 - 2000 the sunspot number wavelet power of periods less than one year shows a cyclic evolution with the phase of the solar cycle.the 154-day period is prominent and its strenth is stronger around the 1982 - 1984 interval in almost all solar wind parameters .',\n",
       "  'the existence of the 156-day periodicity in sunspot data were confirmed by @xcite .',\n",
       "  'they considered the possible relation between the 475-day ( 1.3-year ) and 156-day periodicities .',\n",
       "  'the 475-day ( 1.3-year ) periodicity was also detected in variations of the interplanetary magnetic field , geomagnetic activity helioseismic data and in the solar wind speed @xcite .',\n",
       "  '@xcite concluded that the region of larger wavelet power shifts from 475-day ( 1.3-year ) period to 620-day ( 1.7-year ) period and then back to 475-day ( 1.3-year ) .',\n",
       "  'the periodicities from the interval @xmath6 $ ] days ( @xmath4 $ ] years ) have been considered from 1968 .',\n",
       "  '@xcite mentioned a 16.3-month ( 490-day ) periodicity in the sunspot numbers and in the geomagnetic data .',\n",
       "  '@xcite analysed the occurrence rate of major flares during solar cycles 19 .',\n",
       "  'they found a 18-month ( 540-day ) periodicity in flare rate of the norhern hemisphere .',\n",
       "  '@xcite confirmed this result for the @xmath7 flare data for solar cycles 20 and 21 and found a peak in the power spectra near 510540 days .',\n",
       "  '@xcite found a 17-month ( 510-day ) periodicity of sunspot groups and their areas from 1969 to 1986 .',\n",
       "  'these authors concluded that the length of this period is variable and the reason of this periodicity is still not understood .',\n",
       "  '@xcite and + @xcite obtained statistically significant peaks of power at around 158 days for daily sunspot data from 1923 - 1933 ( cycle 16 ) . in this paper the problem of the existence of this periodicity for sunspot data from cycle 16 is considered .',\n",
       "  'the daily sunspot areas , the mean sunspot areas per carrington rotation , the monthly sunspot numbers and their fluctuations , which are obtained after removing the 11-year cycle are analysed . in section 2 the properties of the power spectrum methods are described . in section 3 a new approach to the problem of aliases in the power spectrum analysis',\n",
       "  'is presented . in section 4 numerical results of the new method of the diagnosis of an echo - effect for sunspot area data are discussed . in section 5 the problem of the existence of the periodicity of about 155 days during the maximum activity period for sunspot data from the whole solar disk and from each solar hemisphere separately is considered .'],\n",
       " ['to find periodicities in a given time series the power spectrum analysis is applied . in this paper',\n",
       "  'two methods are used : the fast fourier transformation algorithm with the hamming window function ( fft ) and the blackman - tukey ( bt ) power spectrum method @xcite .',\n",
       "  'the bt method is used for the diagnosis of the reasons of the existence of peaks , which are obtained by the fft method .',\n",
       "  'the bt method consists in the smoothing of a cosine transform of an autocorrelation function using a 3-point weighting average .',\n",
       "  'such an estimator is consistent and unbiased .',\n",
       "  'moreover , the peaks are uncorrelated and their sum is a variance of a considered time series . the main disadvantage of this method is a weak resolution of the periodogram points , particularly for low frequences .',\n",
       "  'for example , if the autocorrelation function is evaluated for @xmath8 , then the distribution points in the time domain are : @xmath9 thus , it is obvious that this method should not be used for detecting low frequency periodicities with a fairly good resolution .',\n",
       "  'however , because of an application of the autocorrelation function , the bt method can be used to verify a reality of peaks which are computed using a method giving the better resolution ( for example the fft method ) .',\n",
       "  'it is valuable to remember that the power spectrum methods should be applied very carefully .',\n",
       "  'the difficulties in the interpretation of significant peaks could be caused by at least four effects : a sampling of a continuos function , an echo - effect , a contribution of long - term periodicities and a random noise .',\n",
       "  'first effect exists because periodicities , which are shorter than the sampling interval , may mix with longer periodicities . in result , this effect can be reduced by an decrease of the sampling interval between observations .',\n",
       "  'the echo - effect occurs when there is a latent harmonic of frequency @xmath10 in the time series , giving a spectral peak at @xmath10 , and also periodic terms of frequency @xmath11 etc .',\n",
       "  'this may be detected by the autocorrelation function for time series with a large variance .',\n",
       "  'time series often contain long - term periodicities , that influence short - term peaks .',\n",
       "  'they could rise periodogram s peaks at lower frequencies .',\n",
       "  'however , it is also easy to notice the influence of the long - term periodicities on short - term peaks in the graphs of the autocorrelation functions .',\n",
       "  'this effect is observed for the time series of solar activity indexes which are limited by the 11-year cycle .    to find statistically significant periodicities',\n",
       "  'it is reasonable to use the autocorrelation function and the power spectrum method with a high resolution . in the case of a stationary time',\n",
       "  'series they give similar results .',\n",
       "  'moreover , for a stationary time series with the mean zero the fourier transform is equivalent to the cosine transform of an autocorrelation function @xcite .',\n",
       "  'thus , after a comparison of a periodogram with an appropriate autocorrelation function one can detect peaks which are in the graph of the first function and do not exist in the graph of the second function .',\n",
       "  'the reasons of their existence could be explained by the long - term periodicities and the echo - effect .',\n",
       "  'below method enables one to detect these effects .',\n",
       "  '( solid line ) and the 95% confidence level basing on thered noise ( dotted line ) .',\n",
       "  'the periodogram values are presented on the left axis .',\n",
       "  'the lower curve illustrates the autocorrelation function of the same time series ( solid line ) .',\n",
       "  'the dotted lines represent two standard errors of the autocorrelation function .',\n",
       "  'the dashed horizontal line shows the zero level .',\n",
       "  'the autocorrelation values are shown in the right axis . ]     because the statistical tests indicate that the time series is a white noise the confidence level is not marked . ]    . ]'],\n",
       " ['the method of the diagnosis of an echo - effect in the power spectrum ( de ) consists in an analysis of a periodogram of a given time series computed using the bt method .',\n",
       "  'the bt method bases on the cosine transform of the autocorrelation function which creates peaks which are in the periodogram , but not in the autocorrelation function .',\n",
       "  'the de method is used for peaks which are computed by the fft method ( with high resolution ) and are statistically significant .',\n",
       "  'the time series of sunspot activity indexes with the spacing interval one rotation or one month contain a markov - type persistence , which means a tendency for the successive values of the time series to remember their antecendent values .',\n",
       "  'thus , i use a confidence level basing on the red noise of markov @xcite for the choice of the significant peaks of the periodogram computed by the fft method .',\n",
       "  'when a time series does not contain the markov - type persistence i apply the fisher test and the kolmogorov - smirnov test at the significance level @xmath12 @xcite to verify a statistically significance of periodograms peaks . the fisher test checks the null hypothesis that the time series is white noise agains the alternative hypothesis that the time series contains an added deterministic periodic component of unspecified frequency . because the fisher test tends to be severe in rejecting peaks as insignificant the kolmogorov - smirnov test is also used .',\n",
       "  'the de method analyses raw estimators of the power spectrum .',\n",
       "  'they are given as follows    @xmath13    for @xmath14 + where @xmath15 for @xmath16 + @xmath17 is the length of the time series @xmath18 and @xmath19 is the mean value .',\n",
       "  'the first term of the estimator @xmath20 is constant .',\n",
       "  'the second term takes two values ( depending on odd or even @xmath21 ) which are not significant because @xmath22 for large m. thus , the third term of ( 1 ) should be analysed .',\n",
       "  'looking for intervals of @xmath23 for which @xmath24 has the same sign and different signs one can find such parts of the function @xmath25 which create the value @xmath20 .',\n",
       "  'let the set of values of the independent variable of the autocorrelation function be called @xmath26 and it can be divided into the sums of disjoint sets : @xmath27 where + @xmath28 + @xmath29 @xmath30 @xmath31 + @xmath32 + @xmath33 @xmath34 @xmath35 @xmath36 @xmath37 @xmath38',\n",
       "  '@xmath39 @xmath40    well , the set @xmath41 contains all integer values of @xmath23 from the interval of @xmath42 for which the autocorrelation function and the cosinus function with the period @xmath43 $ ] are positive .',\n",
       "  'the index @xmath44 indicates successive parts of the cosinus function for which the cosinuses of successive values of @xmath23 have the same sign .',\n",
       "  'however , sometimes the set @xmath41 can be empty .',\n",
       "  'for example , for @xmath45 and @xmath46 the set @xmath47 should contain all @xmath48 $ ] for which @xmath49 and @xmath50 , but for such values of @xmath23 the values of @xmath51 are negative .',\n",
       "  'thus , the set @xmath47 is empty .    .',\n",
       "  'the periodogram values are presented on the left axis .',\n",
       "  'the lower curve illustrates the autocorrelation function of the same time series .',\n",
       "  'the autocorrelation values are shown in the right axis . ]',\n",
       "  'let us take into consideration all sets \\\\{@xmath52 } , \\\\{@xmath53 } and \\\\{@xmath41 } which are not empty . because numberings and power of these sets depend on the form of the autocorrelation function of the given time series , it is impossible to establish them arbitrary .',\n",
       "  'thus , the sets of appropriate indexes of the sets \\\\{@xmath52 } , \\\\{@xmath53 } and \\\\{@xmath41 } are called @xmath54 , @xmath55 and @xmath56 respectively . for example',\n",
       "  'the set @xmath56 contains all @xmath44 from the set @xmath57 for which the sets @xmath41 are not empty .',\n",
       "  'to separate quantitatively in the estimator @xmath20 the positive contributions which are originated by the cases described by the formula ( 5 ) from the cases which are described by the formula ( 3 ) the following indexes are introduced : @xmath58 @xmath59 @xmath60 @xmath61 where @xmath62 @xmath63 @xmath64 taking for the empty sets \\\\{@xmath53 } and \\\\{@xmath41 } the indices @xmath65 and @xmath66 equal zero .',\n",
       "  'the index @xmath65 describes a percentage of the contribution of the case when @xmath25 and @xmath51 are positive to the positive part of the third term of the sum ( 1 ) .',\n",
       "  'the index @xmath66 describes a similar contribution , but for the case when the both @xmath25 and @xmath51 are simultaneously negative .',\n",
       "  'thanks to these one can decide which the positive or the negative values of the autocorrelation function have a larger contribution to the positive values of the estimator @xmath20 .',\n",
       "  'when the difference @xmath67 is positive , the statement the @xmath21-th peak really exists can not be rejected .',\n",
       "  'thus , the following formula should be satisfied : @xmath68    because the @xmath21-th peak could exist as a result of the echo - effect , it is necessary to verify the second condition :    @xmath69\\\\in c_m.\\\\ ] ]    .',\n",
       "  'the periodogram values are presented on the left axis .',\n",
       "  'the lower curve illustrates the autocorrelation function of the same time series ( solid line ) .',\n",
       "  'the dotted lines represent two standard errors of the autocorrelation function .',\n",
       "  'the dashed horizontal line shows the zero level .',\n",
       "  'the autocorrelation values are shown in the right axis . ]    to verify the implication ( 8) firstly it is necessary to evaluate the sets @xmath41 for @xmath70 of the values of @xmath23 for which the autocorrelation function and the cosine function with the period @xmath71 $ ] are positive and the sets @xmath72 of values of @xmath23 for which the autocorrelation function and the cosine function with the period @xmath43 $ ] are negative .',\n",
       "  'secondly , a percentage of the contribution of the sum of products of positive values of @xmath25 and @xmath51 to the sum of positive products of the values of @xmath25 and @xmath51 should be evaluated . as a result the indexes @xmath65 for each set',\n",
       "  '@xmath41 where @xmath44 is the index from the set @xmath56 are obtained .',\n",
       "  'thirdly , from all sets @xmath41 such that @xmath70 the set @xmath73 for which the index @xmath65 is the greatest should be chosen .    the implication ( 8) is true when the set @xmath73 includes the considered period @xmath43 $ ] .',\n",
       "  'this means that the greatest contribution of positive values of the autocorrelation function and positive cosines with the period @xmath43 $ ] to the periodogram value @xmath20 is caused by the sum of positive products of @xmath74 for each @xmath75-\\\\frac{m}{2k},[\\\\frac{2m}{k}]+\\\\frac{m}{2k})$ ] .    when the implication ( 8) is false , the peak @xmath20 is mainly created by the sum of positive products of @xmath74 for each @xmath76-\\\\frac{m}{2k},\\\\big [ \\\\frac{2m}{n}\\\\big ] + \\\\frac{m}{2k } \\\\big ) $ ] , where @xmath77 is a multiple or a divisor of @xmath21 .',\n",
       "  'it is necessary to add , that the de method should be applied to the periodograms peaks , which probably exist because of the echo - effect .',\n",
       "  'it enables one to find such parts of the autocorrelation function , which have the significant contribution to the considered peak .',\n",
       "  'the fact , that the conditions ( 7 ) and ( 8) are satisfied , can unambiguously decide about the existence of the considered periodicity in the given time series , but if at least one of them is not satisfied , one can doubt about the existence of the considered periodicity .',\n",
       "  'thus , in such cases the sentence the peak can not be treated as true should be used .    using the de method',\n",
       "  'it is necessary to remember about the power of the set @xmath78 .',\n",
       "  'if @xmath79 is too large , errors of an autocorrelation function estimation appear .',\n",
       "  'they are caused by the finite length of the given time series and as a result additional peaks of the periodogram occur . if @xmath79 is too small , there are less peaks because of a low resolution of the periodogram . in applications',\n",
       "  '@xmath80 is used . in order to evaluate the value',\n",
       "  '@xmath79 the fft method is used .',\n",
       "  'the periodograms computed by the bt and the fft method are compared .',\n",
       "  'the conformity of them enables one to obtain the value @xmath79 .    .',\n",
       "  'the fft periodogram values are presented on the left axis .',\n",
       "  'the lower curve illustrates the bt periodogram of the same time series ( solid line and large black circles ) .',\n",
       "  'the bt periodogram values are shown in the right axis . ]'],\n",
       " ['in this paper the sunspot activity data ( august 1923 - october 1933 ) provided by the greenwich photoheliographic results ( gpr ) are analysed .',\n",
       "  'firstly , i consider the monthly sunspot number data . to eliminate the 11-year trend from these data ,',\n",
       "  'the consecutively smoothed monthly sunspot number @xmath81 is subtracted from the monthly sunspot number @xmath82 where the consecutive mean @xmath83 is given by @xmath84 the values @xmath83 for @xmath85 and @xmath86 are calculated using additional data from last six months of cycle 15 and first six months of cycle 17 .    because of the north - south asymmetry of various solar indices @xcite , the sunspot activity is considered for each solar hemisphere separately .',\n",
       "  'analogously to the monthly sunspot numbers , the time series of sunspot areas in the northern and southern hemispheres with the spacing interval @xmath87 rotation are denoted . in order to find periodicities ,',\n",
       "  'the following time series are used : + @xmath88  ',\n",
       "  '+ @xmath89',\n",
       "  '   + @xmath90     + in the lower part of figure [ f1 ] the autocorrelation function of the time series for the northern hemisphere @xmath88 is shown .',\n",
       "  'it is easy to notice that the prominent peak falls at 17 rotations interval ( 459 days ) and @xmath25 for @xmath91 $ ] rotations ( [ 81 , 162 ] days ) are significantly negative .',\n",
       "  'the periodogram of the time series @xmath88 ( see the upper curve in figures [ f1 ] ) does not show the significant peaks at @xmath92 rotations ( 135 , 162 days ) , but there is the significant peak at @xmath93 ( 243 days ) .',\n",
       "  'the peaks at @xmath94 are close to the peaks of the autocorrelation function .',\n",
       "  'thus , the result obtained for the periodicity at about @xmath0 days are contradict to the results obtained for the time series of daily sunspot areas @xcite .    for the southern hemisphere ( the lower curve in figure [ f2 ] ) @xmath25 for @xmath95 $ ] rotations ( [ 54 , 189 ] days ) is not positive except @xmath96 ( 135 days ) for which @xmath97 is not statistically significant .',\n",
       "  'the upper curve in figures [ f2 ] presents the periodogram of the time series @xmath89 .',\n",
       "  'this time series does not contain a markov - type persistence .',\n",
       "  'moreover , the kolmogorov - smirnov test and the fisher test do not reject a null hypothesis that the time series is a white noise only .',\n",
       "  'this means that the time series do not contain an added deterministic periodic component of unspecified frequency .',\n",
       "  'the autocorrelation function of the time series @xmath90 ( the lower curve in figure [ f3 ] ) has only one statistically significant peak for @xmath98 months ( 480 days ) and negative values for @xmath99 $ ] months ( [ 90 , 390 ] days ) .',\n",
       "  'however , the periodogram of this time series ( the upper curve in figure [ f3 ] ) has two significant peaks the first at 15.2 and the second at 5.3 months ( 456 , 159 days ) .',\n",
       "  'thus , the periodogram contains the significant peak , although the autocorrelation function has the negative value at @xmath100 months .    to explain',\n",
       "  'these problems two following time series of daily sunspot areas are considered : + @xmath101  ',\n",
       "  '+ @xmath102     + where @xmath103    the values @xmath104 for @xmath105 and @xmath106 are calculated using additional daily data from the solar cycles 15 and 17 .     and the cosine function for @xmath45 ( the period at about 154 days ) .',\n",
       "  'the horizontal line ( dotted line ) shows the zero level .',\n",
       "  'the vertical dotted lines evaluate the intervals where the sets @xmath107 ( for @xmath108 ) are searched .',\n",
       "  'the percentage values show the index @xmath65 for each @xmath41 for the time series @xmath102 ( in parentheses for the time series @xmath101 ) . in the right bottom corner',\n",
       "  'the values of @xmath65 for the time series @xmath102 , for @xmath109 are written . ]',\n",
       "  '( the 500-day period ) ]    the comparison of the functions @xmath25 of the time series @xmath101 ( the lower curve in figure [ f4 ] ) and @xmath102 ( the lower curve in figure [ f5 ] ) suggests that the positive values of the function @xmath110 of the time series @xmath101 in the interval of @xmath111 $ ] days could be caused by the 11-year cycle .',\n",
       "  'this effect is not visible in the case of periodograms of the both time series computed using the fft method ( see the upper curves in figures [ f4 ] and [ f5 ] ) or the bt method ( see the lower curve in figure [ f6 ] ) . moreover , the periodogram of the time series @xmath102 has the significant values at @xmath112 days , but the autocorrelation function is negative at these points .',\n",
       "  '@xcite showed that the lomb - scargle periodograms for the both time series ( see @xcite , figures 7 a - c ) have a peak at 158.8 days which stands over the fap level by a significant amount . using the de method the above discrepancies are obvious . to establish the @xmath79 value the periodograms computed by the fft and',\n",
       "  'the bt methods are shown in figure [ f6 ] ( the upper and the lower curve respectively ) .',\n",
       "  'for @xmath46 and for periods less than 166 days there is a good comformity of the both periodograms ( but for periods greater than 166 days the points of the bt periodogram are not linked because the bt periodogram has much worse resolution than the fft periodogram ( no one know how to do it ) ) . for @xmath46 and @xmath113',\n",
       "  'the value of @xmath21 is 13 ( @xmath71=153 $ ] ) .',\n",
       "  'the inequality ( 7 ) is satisfied because @xmath114 .',\n",
       "  'this means that the value of @xmath115 is mainly created by positive values of the autocorrelation function .',\n",
       "  'the implication ( 8) needs an evaluation of the greatest value of the index @xmath65 where @xmath70 , but the solar data contain the most prominent period for @xmath116 days because of the solar rotation .',\n",
       "  'thus , although @xmath117 for each @xmath118 , all sets @xmath41 ( see ( 5 ) and ( 6 ) ) without the set @xmath119 ( see ( 4 ) ) , which contains @xmath120 $ ] , are considered . this situation is presented in figure [ f7 ] . in this figure',\n",
       "  'two curves @xmath121 and @xmath122 are plotted .',\n",
       "  'the vertical dotted lines evaluate the intervals where the sets @xmath107 ( for @xmath123 ) are searched . for such @xmath41 two numbers',\n",
       "  'are written : in parentheses the value of @xmath65 for the time series @xmath101 and above it the value of @xmath65 for the time series @xmath102 . to make this figure clear the curves are plotted for the set @xmath124 only .',\n",
       "  '( in the right bottom corner information about the values of @xmath65 for the time series @xmath102 , for @xmath109 are written . )',\n",
       "  'the implication ( 8) is not true , because @xmath125 for @xmath126 .',\n",
       "  'therefore , @xmath43=153\\\\notin c_6=[423,500]$ ] .',\n",
       "  'moreover , the autocorrelation function for @xmath127 $ ] is negative and the set @xmath128 is empty .',\n",
       "  'thus , @xmath129 . on the basis of these information one can state , that the periodogram peak at @xmath130 days of the time series @xmath102 exists because of positive @xmath25 , but for @xmath23 from the intervals which do not contain this period .',\n",
       "  'looking at the values of @xmath65 of the time series @xmath101 , one can notice that they decrease when @xmath23 increases until @xmath131 .',\n",
       "  'this indicates , that when @xmath23 increases , the contribution of the 11-year cycle to the peaks of the periodogram decreases .',\n",
       "  'an increase of the value of @xmath65 is for @xmath132 for the both time series , although the contribution of the 11-year cycle for the time series @xmath101 is insignificant .',\n",
       "  'thus , this part of the autocorrelation function ( @xmath133 for the time series @xmath102 ) influences the @xmath21-th peak of the periodogram .',\n",
       "  'this suggests that the periodicity at about 155 days is a harmonic of the periodicity from the interval of @xmath1 $ ] days .',\n",
       "  '( solid line ) and consecutively smoothed sunspot areas of the one rotation time interval @xmath134 ( dotted line ) .',\n",
       "  'both indexes are presented on the left axis .',\n",
       "  'the lower curve illustrates fluctuations of the sunspot areas @xmath135 .',\n",
       "  'the dotted and dashed horizontal lines represent levels zero and @xmath136 respectively .',\n",
       "  'the fluctuations are shown on the right axis . ]',\n",
       "  'the described reasoning can be carried out for other values of the periodogram .',\n",
       "  'for example , the condition ( 8) is not satisfied for @xmath137 ( 250 , 222 , 200 days ) .',\n",
       "  'moreover , the autocorrelation function at these points is negative .',\n",
       "  'these suggest that there are not a true periodicity in the interval of [ 200 , 250 ] days .',\n",
       "  'it is difficult to decide about the existence of the periodicities for @xmath138 ( 333 days ) and @xmath139 ( 286 days ) on the basis of above analysis . the implication ( 8) is not satisfied for @xmath139 and the condition ( 7 ) is not satisfied for @xmath138 , although the function @xmath25 of the time series @xmath102 is significantly positive for @xmath140 .',\n",
       "  'the conditions ( 7 ) and ( 8) are satisfied for @xmath141 ( figure [ f8 ] ) and @xmath142 . therefore , it is possible to exist the periodicity from the interval of @xmath1 $ ] days .',\n",
       "  'similar results were also obtained by @xcite for daily sunspot numbers and daily sunspot areas .',\n",
       "  'she considered the means of three periodograms of these indexes for data from @xmath143 years and found statistically significant peaks from the interval of @xmath1 $ ] ( see @xcite , figure 2 ) .',\n",
       "  '@xcite studied sunspot areas from 1876 - 1999 and sunspot numbers from 1749 - 2001 with the help of the wavelet transform .',\n",
       "  'they pointed out that the 154 - 158-day period could be the third harmonic of the 1.3-year ( 475-day ) period .',\n",
       "  'moreover , the both periods fluctuate considerably with time , being stronger during stronger sunspot cycles .',\n",
       "  'therefore , the wavelet analysis suggests a common origin of the both periodicities . this conclusion confirms the de method result which indicates that the periodogram peak at @xmath144 days is an alias of the periodicity from the interval of @xmath1 $ ]'],\n",
       " ['in order to verify the existence of the periodicity at about 155 days i consider the following time series : + @xmath145     + @xmath146',\n",
       "  '   + @xmath147  ',\n",
       "  '+ the value @xmath134 is calculated analogously to @xmath83 ( see sect .',\n",
       "  'the values @xmath148 and @xmath149 are evaluated from the formula ( 9 ) . in the upper part of figure [ f9 ] the time series of sunspot areas @xmath150 of the one rotation time interval from the whole solar disk and the time series of consecutively smoothed sunspot areas @xmath151',\n",
       "  'are showed . in the lower part of figure [ f9 ]',\n",
       "  'the time series of sunspot area fluctuations @xmath145 is presented .',\n",
       "  'on the basis of these data the maximum activity period of cycle 16 is evaluated .',\n",
       "  'it is an interval between two strongest fluctuations e.a .',\n",
       "  '@xmath152 $ ] rotations .',\n",
       "  'the length of the time interval @xmath153 is 54 rotations .',\n",
       "  'if the about @xmath0-day ( 6 solar rotations ) periodicity existed in this time interval and it was characteristic for strong fluctuations from this time interval , 10 local maxima in the set of @xmath154 would be seen .',\n",
       "  'then it should be necessary to find such a value of p for which @xmath155 for @xmath156 and the number of the local maxima of these values is 10 .',\n",
       "  'as it can be seen in the lower part of figure [ f9 ] this is for the case of @xmath157 ( in this figure the dashed horizontal line is the level of @xmath158 ) .',\n",
       "  'figure [ f10 ] presents nine time distances among the successive fluctuation local maxima and the horizontal line represents the 6-rotation periodicity .',\n",
       "  'it is immediately apparent that the dispersion of these points is 10 and it is difficult to find even few points which oscillate around the value of 6 .',\n",
       "  'such an analysis was carried out for smaller and larger @xmath136 and the results were similar .',\n",
       "  'therefore , the fact , that the about @xmath0-day periodicity exists in the time series of sunspot area fluctuations during the maximum activity period is questionable .    .',\n",
       "  'the horizontal line represents the 6-rotation ( 162-day ) period . ]    ]    ]    to verify again the existence of the about @xmath0-day periodicity during the maximum activity period in each solar hemisphere separately , the time series @xmath88 and @xmath89 were also cut down to the maximum activity period ( january 1925december 1930 ) .',\n",
       "  'the comparison of the autocorrelation functions of these time series with the appriopriate autocorrelation functions of the time series @xmath88 and @xmath89 , which are computed for the whole 11-year cycle ( the lower curves of figures [ f1 ] and [ f2 ] ) , indicates that there are not significant differences between them especially for @xmath23=5 and 6 rotations ( 135 and 162 days ) ) .',\n",
       "  'this conclusion is confirmed by the analysis of the time series @xmath146 for the maximum activity period .',\n",
       "  'the autocorrelation function ( the lower curve of figure [ f11 ] ) is negative for the interval of [ 57 , 173 ] days , but the resolution of the periodogram is too low to find the significant peak at @xmath159 days .',\n",
       "  'the autocorrelation function gives the same result as for daily sunspot area fluctuations from the whole solar disk ( @xmath160 ) ( see also the lower curve of figures [ f5 ] ) . in the case of',\n",
       "  'the time series @xmath89 @xmath161 is zero for the fluctuations from the whole solar cycle and it is almost zero ( @xmath162 ) for the fluctuations from the maximum activity period .',\n",
       "  'the value @xmath163 is negative .',\n",
       "  'similarly to the case of the northern hemisphere the autocorrelation function and the periodogram of southern hemisphere daily sunspot area fluctuations from the maximum activity period @xmath147 are computed ( see figure [ f12 ] ) .',\n",
       "  'the autocorrelation function has the statistically significant positive peak in the interval of [ 155 , 165 ] days , but the periodogram has too low resolution to decide about the possible periodicities .',\n",
       "  'the correlative analysis indicates that there are positive fluctuations with time distances about @xmath0 days in the maximum activity period .',\n",
       "  'the results of the analyses of the time series of sunspot area fluctuations from the maximum activity period are contradict with the conclusions of @xcite .',\n",
       "  'she uses the power spectrum analysis only .',\n",
       "  'the periodogram of daily sunspot fluctuations contains peaks , which could be harmonics or subharmonics of the true periodicities .',\n",
       "  'they could be treated as real periodicities .',\n",
       "  'this effect is not visible for sunspot data of the one rotation time interval , but averaging could lose true periodicities .',\n",
       "  'this is observed for data from the southern hemisphere .',\n",
       "  'there is the about @xmath0-day peak in the autocorrelation function of daily fluctuations , but the correlation for data of the one rotation interval is almost zero or negative at the points @xmath164 and 6 rotations .',\n",
       "  'thus , it is reasonable to research both time series together using the correlative and the power spectrum analyses .'],\n",
       " ['the following results are obtained :    1 .',\n",
       "  'a new method of the detection of statistically significant peaks of the periodograms enables one to identify aliases in the periodogram .',\n",
       "  '2 .   two effects cause the existence of the peak of the periodogram of the time series of sunspot area fluctuations at about @xmath0 days : the first is caused by the 27-day periodicity , which probably creates the 162-day periodicity ( it is a subharmonic frequency of the 27-day periodicity ) and the second is caused by statistically significant positive values of the autocorrelation function from the intervals of @xmath165 $ ] and @xmath166 $ ] days .',\n",
       "  'the existence of the periodicity of about @xmath0 days of the time series of sunspot area fluctuations and sunspot area fluctuations from the northern hemisphere during the maximum activity period is questionable .',\n",
       "  'the autocorrelation analysis of the time series of sunspot area fluctuations from the southern hemisphere indicates that the periodicity of about 155 days exists during the maximum activity period .'],\n",
       " ['i appreciate valuable comments from professor j. jakimiec .']]"
      ]
     },
     "execution_count": 17,
     "metadata": {},
     "output_type": "execute_result"
    }
   ],
   "source": [
    "file['train']['sections'][0]"
   ]
  },
  {
   "cell_type": "code",
   "execution_count": 6,
   "metadata": {},
   "outputs": [
    {
     "name": "stderr",
     "output_type": "stream",
     "text": [
      "Downloading data files: 100%|██████████| 1/1 [00:00<00:00, 7796.10it/s]\n",
      "Extracting data files: 100%|██████████| 1/1 [00:00<00:00, 307.59it/s]\n",
      "Generating train split: 215365 examples [00:10, 19991.91 examples/s]\n"
     ]
    }
   ],
   "source": [
    "from datasets import load_dataset\n",
    "wikihow = load_dataset(\"../datasets/wikihow\")"
   ]
  },
  {
   "cell_type": "code",
   "execution_count": 7,
   "metadata": {},
   "outputs": [
    {
     "data": {
      "text/plain": [
       "DatasetDict({\n",
       "    train: Dataset({\n",
       "        features: ['headline', 'title', 'text'],\n",
       "        num_rows: 215365\n",
       "    })\n",
       "})"
      ]
     },
     "execution_count": 7,
     "metadata": {},
     "output_type": "execute_result"
    }
   ],
   "source": [
    "wikihow"
   ]
  },
  {
   "cell_type": "code",
   "execution_count": 10,
   "metadata": {},
   "outputs": [
    {
     "data": {
      "text/plain": [
       "{'headline': '\\nGet a bachelor’s degree.,\\nEnroll in a studio-based program.,\\nTrain on a number of VFX computer programs.,\\nWatch online tutorials.,\\nNurture your artistic side.,\\nPay close attention to movies, television shows, and video games.,\\nDevelop a specialization.',\n",
       " 'title': 'How to Be a Visual Effects Artist1',\n",
       " 'text': ' It is possible to become a VFX artist without a college degree, but the path is often easier with one. VFX artists usually major in fine arts, computer graphics, or animation. Choose a college with a reputation for strength in these areas and a reputation for good job placement for graduates. The availability of internships is another factor to consider.Out of the jobs advertised for VFX artists, a majority at any given time specify a bachelor’s degree as a minimum requirement for applicants.;\\n, Some studios offer short-term programs for people who want to learn more about VFX artistry without pursuing a college degree. Enrolling in these programs can be expensive as financial aid isn’t always offered, but they usually have the most cutting edge technology for you to learn from., Although you may create some hand sketches, the majority of your work will be completed on the computer using the most up-to-date programs. Stay informed about the newest software advances by following VFX blogs and taking online computer tutorials.For example, VFX artists are expected to be well-versed in graphics and animation programs, such as Adobe Creative Suite and JavaScript.Clearly list every program that you can work with on your resume.\\n\\n, Hop onto YouTube or another video service and search for VFX clip reels or demonstrations. Some of these videos will focus on a particular skill set, such as shading, which you then can practice on your own. Challenge yourself to mimic some of the more difficult tasks, or even try to improve upon the models used., Take as many art and design classes as you can. Or, simply carry a sketch pad around with you to work on your basic animation skills. As you draw, consider factors such as lighting and framing. Even geometry skills can come in handy when creating a particular type of background or even a person’s face.Make a choice to become an observer of the world around you. Ask yourself: how could I capture the movement of the leaves? Or, in what situations do shadows appear?\\n\\n, Watch all of these creations with an eye for detail. Look for the techniques used and any original approaches that you see. Try to recreate any scenes that you find particularly interesting. Research the artists and see what their backgrounds are and contact them if you like., As you gain more experience, you’ll likely find yourself gravitating toward a certain aspect of design. This will become your “calling card” and directors and other professionals will seek you out for this type of work. To build your specialization, start choosing jobs with that emphasis and attend additional training seminars.For example, some VFX specialists focus on human character’s faces, animal figures, or city backgrounds.\\n\\n'}"
      ]
     },
     "execution_count": 10,
     "metadata": {},
     "output_type": "execute_result"
    }
   ],
   "source": [
    "wikihow['train'][2]"
   ]
  }
 ],
 "metadata": {
  "kernelspec": {
   "display_name": "summarization",
   "language": "python",
   "name": "python3"
  },
  "language_info": {
   "codemirror_mode": {
    "name": "ipython",
    "version": 3
   },
   "file_extension": ".py",
   "mimetype": "text/x-python",
   "name": "python",
   "nbconvert_exporter": "python",
   "pygments_lexer": "ipython3",
   "version": "3.11.4"
  },
  "orig_nbformat": 4
 },
 "nbformat": 4,
 "nbformat_minor": 2
}
