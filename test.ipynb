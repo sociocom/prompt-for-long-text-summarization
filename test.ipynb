{
 "cells": [
  {
   "cell_type": "code",
   "execution_count": 1,
   "metadata": {},
   "outputs": [
    {
     "name": "stderr",
     "output_type": "stream",
     "text": [
      "/home/is/kaifan-l/miniconda3/envs/summarization/lib/python3.11/site-packages/tqdm/auto.py:21: TqdmWarning: IProgress not found. Please update jupyter and ipywidgets. See https://ipywidgets.readthedocs.io/en/stable/user_install.html\n",
      "  from .autonotebook import tqdm as notebook_tqdm\n"
     ]
    }
   ],
   "source": [
    "from transformers import AutoTokenizer, MBartForConditionalGeneration\n",
    "tokenizer = AutoTokenizer.from_pretrained('ku-nlp/bart-base-japanese')\n",
    "model = MBartForConditionalGeneration.from_pretrained('ku-nlp/bart-base-japanese')"
   ]
  },
  {
   "cell_type": "code",
   "execution_count": null,
   "metadata": {},
   "outputs": [],
   "source": [
    "本稿では実際に計算機上で試作した論説文要約システムに関して, これで用いられている論説文要約の手法の紹介と, これによって出力された文章の評価を行う."
   ]
  },
  {
   "cell_type": "code",
   "execution_count": 8,
   "metadata": {},
   "outputs": [],
   "source": [
    "sentence = '本稿 では 実際に 計算機上 で試作した 論説文 要約システム に 関して, これで 用 いられている 論説文 要約の 手法の 紹介と, これ によって 出力された 文章の 評価を 行う.'  # input should be segmented into words by Juman++ in advance\n",
    "encoding = tokenizer(sentence, return_tensors='pt')"
   ]
  },
  {
   "cell_type": "code",
   "execution_count": 9,
   "metadata": {},
   "outputs": [
    {
     "data": {
      "text/plain": [
       "{'input_ids': tensor([[    0, 18573, 24285,  1367, 28430,  3126, 28626, 28536,    12, 28884,\n",
       "         28540,   198, 23644, 28673, 21607, 21699,     7,  2210,     3,   180,\n",
       "         28439,   235, 21911,   630, 28441, 28433, 23644, 28673, 21607, 28428,\n",
       "          3713, 28428,  1972, 28436,     3,   180,     7, 28476,    44,  3331,\n",
       "         28459,   483,  7118, 28428,  1418, 28437,   794,     3,     2]]), 'attention_mask': tensor([[1, 1, 1, 1, 1, 1, 1, 1, 1, 1, 1, 1, 1, 1, 1, 1, 1, 1, 1, 1, 1, 1, 1, 1,\n",
       "         1, 1, 1, 1, 1, 1, 1, 1, 1, 1, 1, 1, 1, 1, 1, 1, 1, 1, 1, 1, 1, 1, 1, 1,\n",
       "         1]])}"
      ]
     },
     "execution_count": 9,
     "metadata": {},
     "output_type": "execute_result"
    }
   ],
   "source": [
    "encoding"
   ]
  },
  {
   "cell_type": "code",
   "execution_count": 2,
   "metadata": {},
   "outputs": [
    {
     "ename": "Exception",
     "evalue": "Can't find JUMAN command: jumanpp",
     "output_type": "error",
     "traceback": [
      "\u001b[0;31m---------------------------------------------------------------------------\u001b[0m",
      "\u001b[0;31mException\u001b[0m                                 Traceback (most recent call last)",
      "Cell \u001b[0;32mIn[2], line 3\u001b[0m\n\u001b[1;32m      1\u001b[0m \u001b[38;5;28;01mfrom\u001b[39;00m \u001b[38;5;21;01mpyknp\u001b[39;00m \u001b[38;5;28;01mimport\u001b[39;00m Juman\n\u001b[0;32m----> 3\u001b[0m jumanpp \u001b[38;5;241m=\u001b[39m \u001b[43mJuman\u001b[49m\u001b[43m(\u001b[49m\u001b[43m)\u001b[49m\n\u001b[1;32m      5\u001b[0m text \u001b[38;5;241m=\u001b[39m \u001b[38;5;124m'\u001b[39m\u001b[38;5;124m吾輩は猫である.\u001b[39m\u001b[38;5;124m'\u001b[39m\n\u001b[1;32m      6\u001b[0m mlist \u001b[38;5;241m=\u001b[39m jumanpp\u001b[38;5;241m.\u001b[39manalysis(text)\n",
      "File \u001b[0;32m~/miniconda3/envs/summarization/lib/python3.11/site-packages/pyknp/juman/juman.py:66\u001b[0m, in \u001b[0;36mJuman.__init__\u001b[0;34m(self, command, server, port, timeout, option, rcfile, ignorepattern, pattern, jumanpp, multithreading)\u001b[0m\n\u001b[1;32m     64\u001b[0m     \u001b[38;5;28;01mraise\u001b[39;00m \u001b[38;5;167;01mException\u001b[39;00m(\u001b[38;5;124m\"\u001b[39m\u001b[38;5;124mCan\u001b[39m\u001b[38;5;124m'\u001b[39m\u001b[38;5;124mt read rcfile (\u001b[39m\u001b[38;5;132;01m%s\u001b[39;00m\u001b[38;5;124m)!\u001b[39m\u001b[38;5;124m\"\u001b[39m \u001b[38;5;241m%\u001b[39m \u001b[38;5;28mself\u001b[39m\u001b[38;5;241m.\u001b[39mrcfile)\n\u001b[1;32m     65\u001b[0m \u001b[38;5;28;01mif\u001b[39;00m distutils\u001b[38;5;241m.\u001b[39mspawn\u001b[38;5;241m.\u001b[39mfind_executable(\u001b[38;5;28mself\u001b[39m\u001b[38;5;241m.\u001b[39mcommand) \u001b[38;5;129;01mis\u001b[39;00m \u001b[38;5;28;01mNone\u001b[39;00m:\n\u001b[0;32m---> 66\u001b[0m     \u001b[38;5;28;01mraise\u001b[39;00m \u001b[38;5;167;01mException\u001b[39;00m(\u001b[38;5;124m\"\u001b[39m\u001b[38;5;124mCan\u001b[39m\u001b[38;5;124m'\u001b[39m\u001b[38;5;124mt find JUMAN command: \u001b[39m\u001b[38;5;132;01m%s\u001b[39;00m\u001b[38;5;124m\"\u001b[39m \u001b[38;5;241m%\u001b[39m \u001b[38;5;28mself\u001b[39m\u001b[38;5;241m.\u001b[39mcommand)\n",
      "\u001b[0;31mException\u001b[0m: Can't find JUMAN command: jumanpp"
     ]
    }
   ],
   "source": [
    "from pyknp import Juman\n",
    "\n",
    "jumanpp = Juman()\n",
    "\n",
    "text = '吾輩は猫である.'\n",
    "mlist = jumanpp.analysis(text)\n",
    "\n",
    "print([mrph.midasi for mrph in mlist.mrph_list()])\n",
    "# ['吾輩', 'は', '猫', 'である', '。']"
   ]
  },
  {
   "cell_type": "code",
   "execution_count": 3,
   "metadata": {},
   "outputs": [
    {
     "name": "stdout",
     "output_type": "stream",
     "text": [
      "['日本語のテキストを分割するのに使える。英語と同様、文単位に分割することが可能。']\n"
     ]
    },
    {
     "name": "stderr",
     "output_type": "stream",
     "text": [
      "[nltk_data] Downloading package punkt to\n",
      "[nltk_data]     /home/is/kaifan-l/nltk_data...\n",
      "[nltk_data]   Package punkt is already up-to-date!\n"
     ]
    }
   ],
   "source": [
    "import nltk\n",
    "nltk.download('punkt')  # 下载标点符号模型\n",
    "\n",
    "from nltk.tokenize import sent_tokenize\n",
    "\n",
    "japanese_text = \"日本語のテキストを分割するのに使える。 英語と同様、文単位に分割することが可能。\"\n",
    "\n",
    "sentences = sent_tokenize(japanese_text)\n",
    "print(sentences)\n"
   ]
  },
  {
   "cell_type": "code",
   "execution_count": 1,
   "metadata": {},
   "outputs": [
    {
     "name": "stderr",
     "output_type": "stream",
     "text": [
      "/home/is/kaifan-l/miniconda3/envs/summarization/lib/python3.11/site-packages/tqdm/auto.py:21: TqdmWarning: IProgress not found. Please update jupyter and ipywidgets. See https://ipywidgets.readthedocs.io/en/stable/user_install.html\n",
      "  from .autonotebook import tqdm as notebook_tqdm\n"
     ]
    }
   ],
   "source": [
    "from transformers import AutoTokenizer, AutoModelForSeq2SeqLM\n",
    "tokenizer = AutoTokenizer.from_pretrained('ku-nlp/bart-base-japanese')\n",
    "model = AutoModelForSeq2SeqLM.from_pretrained('ku-nlp/bart-base-japanese')\n",
    "sentence = '京都 大学 で 自然 言語 処理 を 専攻 する 。'  # input should be segmented into words by Juman++ in advance\n",
    "encoding = tokenizer(sentence, return_tensors='pt')\n"
   ]
  },
  {
   "cell_type": "code",
   "execution_count": 2,
   "metadata": {},
   "outputs": [
    {
     "data": {
      "text/plain": [
       "MBartForConditionalGeneration(\n",
       "  (model): MBartModel(\n",
       "    (shared): Embedding(32002, 768, padding_idx=1)\n",
       "    (encoder): MBartEncoder(\n",
       "      (embed_tokens): Embedding(32002, 768, padding_idx=1)\n",
       "      (embed_positions): MBartLearnedPositionalEmbedding(1026, 768)\n",
       "      (layers): ModuleList(\n",
       "        (0-5): 6 x MBartEncoderLayer(\n",
       "          (self_attn): MBartAttention(\n",
       "            (k_proj): Linear(in_features=768, out_features=768, bias=True)\n",
       "            (v_proj): Linear(in_features=768, out_features=768, bias=True)\n",
       "            (q_proj): Linear(in_features=768, out_features=768, bias=True)\n",
       "            (out_proj): Linear(in_features=768, out_features=768, bias=True)\n",
       "          )\n",
       "          (self_attn_layer_norm): LayerNorm((768,), eps=1e-05, elementwise_affine=True)\n",
       "          (activation_fn): GELUActivation()\n",
       "          (fc1): Linear(in_features=768, out_features=3072, bias=True)\n",
       "          (fc2): Linear(in_features=3072, out_features=768, bias=True)\n",
       "          (final_layer_norm): LayerNorm((768,), eps=1e-05, elementwise_affine=True)\n",
       "        )\n",
       "      )\n",
       "      (layernorm_embedding): LayerNorm((768,), eps=1e-05, elementwise_affine=True)\n",
       "      (layer_norm): LayerNorm((768,), eps=1e-05, elementwise_affine=True)\n",
       "    )\n",
       "    (decoder): MBartDecoder(\n",
       "      (embed_tokens): Embedding(32002, 768, padding_idx=1)\n",
       "      (embed_positions): MBartLearnedPositionalEmbedding(1026, 768)\n",
       "      (layers): ModuleList(\n",
       "        (0-5): 6 x MBartDecoderLayer(\n",
       "          (self_attn): MBartAttention(\n",
       "            (k_proj): Linear(in_features=768, out_features=768, bias=True)\n",
       "            (v_proj): Linear(in_features=768, out_features=768, bias=True)\n",
       "            (q_proj): Linear(in_features=768, out_features=768, bias=True)\n",
       "            (out_proj): Linear(in_features=768, out_features=768, bias=True)\n",
       "          )\n",
       "          (activation_fn): GELUActivation()\n",
       "          (self_attn_layer_norm): LayerNorm((768,), eps=1e-05, elementwise_affine=True)\n",
       "          (encoder_attn): MBartAttention(\n",
       "            (k_proj): Linear(in_features=768, out_features=768, bias=True)\n",
       "            (v_proj): Linear(in_features=768, out_features=768, bias=True)\n",
       "            (q_proj): Linear(in_features=768, out_features=768, bias=True)\n",
       "            (out_proj): Linear(in_features=768, out_features=768, bias=True)\n",
       "          )\n",
       "          (encoder_attn_layer_norm): LayerNorm((768,), eps=1e-05, elementwise_affine=True)\n",
       "          (fc1): Linear(in_features=768, out_features=3072, bias=True)\n",
       "          (fc2): Linear(in_features=3072, out_features=768, bias=True)\n",
       "          (final_layer_norm): LayerNorm((768,), eps=1e-05, elementwise_affine=True)\n",
       "        )\n",
       "      )\n",
       "      (layernorm_embedding): LayerNorm((768,), eps=1e-05, elementwise_affine=True)\n",
       "      (layer_norm): LayerNorm((768,), eps=1e-05, elementwise_affine=True)\n",
       "    )\n",
       "  )\n",
       "  (lm_head): Linear(in_features=768, out_features=32002, bias=False)\n",
       ")"
      ]
     },
     "execution_count": 2,
     "metadata": {},
     "output_type": "execute_result"
    }
   ],
   "source": [
    "model"
   ]
  },
  {
   "cell_type": "code",
   "execution_count": 2,
   "metadata": {},
   "outputs": [],
   "source": [
    "import evaluate \n",
    "\n",
    "metric = evaluate.load('rouge')"
   ]
  },
  {
   "cell_type": "code",
   "execution_count": 40,
   "metadata": {},
   "outputs": [
    {
     "data": {
      "text/plain": [
       "{'rouge1': 0.6, 'rouge2': 0.5, 'rougeL': 0.6, 'rougeLsum': 0.6}"
      ]
     },
     "execution_count": 40,
     "metadata": {},
     "output_type": "execute_result"
    }
   ],
   "source": [
    "metric.compute(predictions=['京都 大学 で を 専攻する。'], references=['京都 大学 で 自然言語 処理を専攻する。'],tokenizer=lambda x: x.split())"
   ]
  },
  {
   "cell_type": "code",
   "execution_count": 34,
   "metadata": {},
   "outputs": [
    {
     "data": {
      "text/plain": [
       "{'rouge-1': {'r': 0.5714285714285714, 'p': 0.8, 'f': 0.6666666618055556},\n",
       " 'rouge-2': {'r': 0.3333333333333333, 'p': 0.5, 'f': 0.39999999520000007},\n",
       " 'rouge-l': {'r': 0.5714285714285714, 'p': 0.8, 'f': 0.6666666618055556}}"
      ]
     },
     "execution_count": 34,
     "metadata": {},
     "output_type": "execute_result"
    }
   ],
   "source": [
    "from rouge import Rouge\n",
    "\n",
    "rouge = Rouge()\n",
    "predictions = ['日本語 は る 言語 である']\n",
    "labels = ['日本語 は 日本 で 使われている 言語 である']\n",
    "\n",
    "scores = rouge.get_scores(predictions, labels, avg=True)\n",
    "scores\n"
   ]
  },
  {
   "cell_type": "code",
   "execution_count": 29,
   "metadata": {},
   "outputs": [
    {
     "data": {
      "text/plain": [
       "{'rouge-1': {'r': 0.5714285714285714, 'p': 0.8, 'f': 0.6666666618055556},\n",
       " 'rouge-2': {'r': 0.3333333333333333, 'p': 0.5, 'f': 0.39999999520000007},\n",
       " 'rouge-l': {'r': 0.5714285714285714, 'p': 0.8, 'f': 0.6666666618055556}}"
      ]
     },
     "execution_count": 29,
     "metadata": {},
     "output_type": "execute_result"
    }
   ],
   "source": [
    "scores\n"
   ]
  },
  {
   "cell_type": "code",
   "execution_count": 21,
   "metadata": {},
   "outputs": [
    {
     "name": "stdout",
     "output_type": "stream",
     "text": [
      "[{'rouge-1': {'r': 1.0, 'p': 0.6666666666666666, 'f': 0.7999999952000001}, 'rouge-2': {'r': 0.0, 'p': 0.0, 'f': 0.0}, 'rouge-l': {'r': 1.0, 'p': 0.6666666666666666, 'f': 0.7999999952000001}}]\n"
     ]
    }
   ],
   "source": [
    "from rouge import Rouge\n",
    "\n",
    "# 参考摘要\n",
    "reference_summary = \"日本　摘要文本\"\n",
    "\n",
    "# 生成摘要\n",
    "generated_summary = \"日本　語　摘要文本\"\n",
    "\n",
    "rouge = Rouge()\n",
    "scores = rouge.get_scores(generated_summary, reference_summary)\n",
    "\n",
    "print(scores)\n"
   ]
  },
  {
   "cell_type": "code",
   "execution_count": 47,
   "metadata": {},
   "outputs": [],
   "source": [
    "from transformers import Seq2SeqTrainer, Seq2SeqTrainingArguments, AutoConfig\n",
    "config = AutoConfig.from_pretrained('ku-nlp/bart-base-japanese')\n",
    "training_args = Seq2SeqTrainingArguments(\n",
    "    output_dir=\"./\",\n",
    "    generation_config = AutoConfig.from_pretrained('ku-nlp/bart-base-japanese'), \n",
    ")\n"
   ]
  },
  {
   "cell_type": "code",
   "execution_count": 48,
   "metadata": {},
   "outputs": [
    {
     "name": "stdout",
     "output_type": "stream",
     "text": [
      "MBartConfig {\n",
      "  \"_name_or_path\": \"ku-nlp/bart-base-japanese\",\n",
      "  \"activation_dropout\": 0.1,\n",
      "  \"activation_function\": \"gelu\",\n",
      "  \"add_bias_logits\": false,\n",
      "  \"add_final_layer_norm\": true,\n",
      "  \"architectures\": [\n",
      "    \"MBartForConditionalGeneration\"\n",
      "  ],\n",
      "  \"attention_dropout\": 0.1,\n",
      "  \"bos_token_id\": 0,\n",
      "  \"classif_dropout\": 0.1,\n",
      "  \"classifier_dropout\": 0.0,\n",
      "  \"d_model\": 768,\n",
      "  \"decoder_attention_heads\": 12,\n",
      "  \"decoder_ffn_dim\": 3072,\n",
      "  \"decoder_layerdrop\": 0.0,\n",
      "  \"decoder_layers\": 6,\n",
      "  \"decoder_start_token_id\": 2,\n",
      "  \"do_blenderbot_90_layernorm\": false,\n",
      "  \"dropout\": 0.1,\n",
      "  \"early_stopping\": true,\n",
      "  \"encoder_attention_heads\": 12,\n",
      "  \"encoder_ffn_dim\": 3072,\n",
      "  \"encoder_layerdrop\": 0.0,\n",
      "  \"encoder_layers\": 6,\n",
      "  \"eos_token_id\": 2,\n",
      "  \"extra_pos_embeddings\": 2,\n",
      "  \"force_bos_token_to_be_generated\": false,\n",
      "  \"forced_eos_token_id\": 2,\n",
      "  \"id2label\": {\n",
      "    \"0\": \"LABEL_0\",\n",
      "    \"1\": \"LABEL_1\",\n",
      "    \"2\": \"LABEL_2\"\n",
      "  },\n",
      "  \"init_std\": 0.02,\n",
      "  \"is_encoder_decoder\": true,\n",
      "  \"label2id\": {\n",
      "    \"LABEL_0\": 0,\n",
      "    \"LABEL_1\": 1,\n",
      "    \"LABEL_2\": 2\n",
      "  },\n",
      "  \"max_position_embeddings\": 1024,\n",
      "  \"model_type\": \"mbart\",\n",
      "  \"no_repeat_ngram_size\": 3,\n",
      "  \"normalize_before\": true,\n",
      "  \"normalize_embedding\": true,\n",
      "  \"num_beams\": 4,\n",
      "  \"num_hidden_layers\": 6,\n",
      "  \"pad_token_id\": 1,\n",
      "  \"scale_embedding\": false,\n",
      "  \"static_position_embeddings\": false,\n",
      "  \"task_specific_params\": {\n",
      "    \"summarization\": {\n",
      "      \"length_penalty\": 1.0,\n",
      "      \"max_length\": 128,\n",
      "      \"min_length\": 12,\n",
      "      \"num_beams\": 4\n",
      "    },\n",
      "    \"summarization_cnn\": {\n",
      "      \"length_penalty\": 2.0,\n",
      "      \"max_length\": 142,\n",
      "      \"min_length\": 56,\n",
      "      \"num_beams\": 4\n",
      "    },\n",
      "    \"summarization_xsum\": {\n",
      "      \"length_penalty\": 1.0,\n",
      "      \"max_length\": 62,\n",
      "      \"min_length\": 11,\n",
      "      \"num_beams\": 6\n",
      "    }\n",
      "  },\n",
      "  \"torch_dtype\": \"float32\",\n",
      "  \"transformers_version\": \"4.34.0\",\n",
      "  \"use_cache\": true,\n",
      "  \"vocab_size\": 32002\n",
      "}\n",
      "\n"
     ]
    }
   ],
   "source": [
    "print(training_args.generation_config)"
   ]
  },
  {
   "cell_type": "code",
   "execution_count": 4,
   "metadata": {},
   "outputs": [
    {
     "ename": "RuntimeError",
     "evalue": "\nFailed initializing MeCab. Please see the README for possible solutions:\n\n    https://github.com/polm/fugashi\n\nIf you are still having trouble, please file an issue here, and include the\nERROR DETAILS below:\n\n    https://github.com/polm/fugashi/issues\n\nissueを英語で書く必要はありません。\n\n------------------- ERROR DETAILS ------------------------\narguments: [b'fugashi', b'-C']\nparam.cpp(69) [ifs] no such file or directory: /usr/local/etc/mecabrc\n----------------------------------------------------------\n",
     "output_type": "error",
     "traceback": [
      "\u001b[0;31m---------------------------------------------------------------------------\u001b[0m",
      "\u001b[0;31mRuntimeError\u001b[0m                              Traceback (most recent call last)",
      "Cell \u001b[0;32mIn[4], line 2\u001b[0m\n\u001b[1;32m      1\u001b[0m \u001b[38;5;28;01mfrom\u001b[39;00m \u001b[38;5;21;01mfugashi\u001b[39;00m \u001b[38;5;28;01mimport\u001b[39;00m GenericTagger\n\u001b[0;32m----> 2\u001b[0m tagger \u001b[38;5;241m=\u001b[39m \u001b[43mGenericTagger\u001b[49m\u001b[43m(\u001b[49m\u001b[43m)\u001b[49m\n\u001b[1;32m      4\u001b[0m \u001b[38;5;66;03m# parse can be used as normal\u001b[39;00m\n\u001b[1;32m      5\u001b[0m tagger\u001b[38;5;241m.\u001b[39mparse(\u001b[38;5;124m'\u001b[39m\u001b[38;5;124msomething\u001b[39m\u001b[38;5;124m'\u001b[39m)\n",
      "File \u001b[0;32mfugashi/fugashi.pyx:232\u001b[0m, in \u001b[0;36mfugashi.fugashi.GenericTagger.__init__\u001b[0;34m()\u001b[0m\n",
      "\u001b[0;31mRuntimeError\u001b[0m: \nFailed initializing MeCab. Please see the README for possible solutions:\n\n    https://github.com/polm/fugashi\n\nIf you are still having trouble, please file an issue here, and include the\nERROR DETAILS below:\n\n    https://github.com/polm/fugashi/issues\n\nissueを英語で書く必要はありません。\n\n------------------- ERROR DETAILS ------------------------\narguments: [b'fugashi', b'-C']\nparam.cpp(69) [ifs] no such file or directory: /usr/local/etc/mecabrc\n----------------------------------------------------------\n"
     ]
    }
   ],
   "source": [
    "from fugashi import GenericTagger\n",
    "tagger = GenericTagger()\n",
    "\n",
    "# parse can be used as normal\n",
    "tagger.parse('something')\n",
    "# features from the dictionary can be accessed by field numbers\n",
    "for word in tagger(text):\n",
    "    print(word.surface, word.feature[0])"
   ]
  },
  {
   "cell_type": "code",
   "execution_count": 34,
   "metadata": {},
   "outputs": [
    {
     "name": "stdout",
     "output_type": "stream",
     "text": [
      "['日本', '語', 'の', 'テキスト', 'を', '分割', 'する', 'の', 'に', '使える', '。', '英語', 'と', '同様', '、', '文', '単位', 'に', '分割', 'する', 'こと', 'が', '可能', '。']\n",
      "['日本語のテキストを分割するのに使える。', '英語と同様、文単位に分割することが可能。']\n"
     ]
    }
   ],
   "source": [
    "import MeCab\n",
    "\n",
    "def japanese_sent_tokenize(text):\n",
    "    m = MeCab.Tagger('-Owakati')  # 初始化 MeCab 分词器\n",
    "    sentences = []\n",
    "    current_sentence = \"\"\n",
    "    parsed = m.parse(text).split()  # 使用 MeCab 对文本进行分词\n",
    "    print(parsed)\n",
    "    for token in parsed:\n",
    "        current_sentence += token\n",
    "        if '。' in token:  # 根据句号来分割句子\n",
    "            sentences.append(current_sentence)\n",
    "            current_sentence = \"\"\n",
    "    if current_sentence:\n",
    "        sentences.append(current_sentence)\n",
    "    return sentences\n",
    "\n",
    "japanese_text = \"日本語のテキストを分割するのに使える。英語と同様、文単位に分割することが可能。\"\n",
    "\n",
    "japanese_sentences = japanese_sent_tokenize(japanese_text)\n",
    "print(japanese_sentences)\n"
   ]
  },
  {
   "cell_type": "code",
   "execution_count": 38,
   "metadata": {},
   "outputs": [
    {
     "name": "stdout",
     "output_type": "stream",
     "text": [
      "['原子番号９２のウランより重い元素は全て人工的に合成され、１１８番まで発見の報告がある？', '      １１３番については、理研と米露の共同チームがそれぞれ「発見した」と報告し、国際純正・応用化学連合と国際純粋・応用物理学連合の合同作業部会が審査していた! 両学会は「データの確実性が高い」ことを理由に、理研の発見を認定し、３１日に森田さんに通知した。', '未確定だった１１５番と１１７番、１１８番の新元素は米露チームの発見を認めた。', '森田さんは「周期表に名前が残ることは感慨深い。', '大勢の共同研究者にまずは感謝したい」と述べた。', ' \\n']\n",
      "原子番号９２のウランより重い元素は全て人工的に合成され、１１８番まで発見の報告がある？\n",
      "      １１３番については、理研と米露の共同チームがそれぞれ「発見した」と報告し、国際純正・応用化学連合と国際純粋・応用物理学連合の合同作業部会が審査していた! 両学会は「データの確実性が高い」ことを理由に、理研の発見を認定し、３１日に森田さんに通知した。\n",
      "未確定だった１１５番と１１７番、１１８番の新元素は米露チームの発見を認めた。\n",
      "森田さんは「周期表に名前が残ることは感慨深い。\n",
      "大勢の共同研究者にまずは感謝したい」と述べた。\n",
      " \n",
      "\n"
     ]
    }
   ],
   "source": [
    "import re\n",
    "import nltk\n",
    "\n",
    "sent_detector = nltk.RegexpTokenizer(u'[^　！？。]*[！？。.\\n]')\n",
    "\n",
    "sents = sent_detector.tokenize(u\"　原子番号９２のウランより重い元素は全て人工的に合成され、１１８番まで発見の報告がある？\\\n",
    "      １１３番については、理研と米露の共同チームがそれぞれ「発見した」と報告し、国際純正・応用化学連合と国際純粋・応用物理学連合の合同作業部会が審査していた! 両学会は「データの確実性が高い」ことを理由に、理研の発見を認定し、３１日に森田さんに通知した。未確定だった１１５番と１１７番、１１８番の新元素は米露チームの発見を認めた。森田さんは「周期表に名前が残ることは感慨深い。大勢の共同研究者にまずは感謝したい」と述べた。 \\n\")\n",
    "\n",
    "print(sents)\n",
    "for s in sents:\n",
    "    print(s)"
   ]
  },
  {
   "cell_type": "code",
   "execution_count": 3,
   "metadata": {},
   "outputs": [],
   "source": [
    "import evaluate\n",
    "\n",
    "metric = evaluate.load('rouge')"
   ]
  },
  {
   "cell_type": "code",
   "execution_count": 7,
   "metadata": {},
   "outputs": [],
   "source": [
    "preds = ['i am a cat','i am a dog']\n",
    "labels = ['i am a cat', 'am i a dog']\n",
    "\n",
    "result = metric.compute(predictions=preds, references=labels, tokenizer=lambda x: x.split())"
   ]
  },
  {
   "cell_type": "code",
   "execution_count": 8,
   "metadata": {},
   "outputs": [
    {
     "data": {
      "text/plain": [
       "{'rouge1': 1.0,\n",
       " 'rouge2': 0.6666666666666666,\n",
       " 'rougeL': 0.875,\n",
       " 'rougeLsum': 0.875}"
      ]
     },
     "execution_count": 8,
     "metadata": {},
     "output_type": "execute_result"
    }
   ],
   "source": [
    "result"
   ]
  },
  {
   "cell_type": "code",
   "execution_count": 6,
   "metadata": {},
   "outputs": [
    {
     "ename": "FileNotFoundError",
     "evalue": "File datasets/pubmed-dataset-incremental-final/test.json does not exist",
     "output_type": "error",
     "traceback": [
      "\u001b[0;31m---------------------------------------------------------------------------\u001b[0m",
      "\u001b[0;31mFileNotFoundError\u001b[0m                         Traceback (most recent call last)",
      "Cell \u001b[0;32mIn[6], line 3\u001b[0m\n\u001b[1;32m      1\u001b[0m \u001b[38;5;28;01mimport\u001b[39;00m \u001b[38;5;21;01mpandas\u001b[39;00m \u001b[38;5;28;01mas\u001b[39;00m \u001b[38;5;21;01mpd\u001b[39;00m\n\u001b[0;32m----> 3\u001b[0m df \u001b[38;5;241m=\u001b[39m \u001b[43mpd\u001b[49m\u001b[38;5;241;43m.\u001b[39;49m\u001b[43mread_json\u001b[49m\u001b[43m(\u001b[49m\u001b[38;5;124;43m\"\u001b[39;49m\u001b[38;5;124;43mdatasets/pubmed-dataset-incremental-final/test.json\u001b[39;49m\u001b[38;5;124;43m\"\u001b[39;49m\u001b[43m,\u001b[49m\u001b[43m \u001b[49m\u001b[43mlines\u001b[49m\u001b[38;5;241;43m=\u001b[39;49m\u001b[38;5;28;43;01mTrue\u001b[39;49;00m\u001b[43m)\u001b[49m\n",
      "File \u001b[0;32m~/miniconda3/envs/summarization/lib/python3.11/site-packages/pandas/io/json/_json.py:760\u001b[0m, in \u001b[0;36mread_json\u001b[0;34m(path_or_buf, orient, typ, dtype, convert_axes, convert_dates, keep_default_dates, precise_float, date_unit, encoding, encoding_errors, lines, chunksize, compression, nrows, storage_options, dtype_backend, engine)\u001b[0m\n\u001b[1;32m    757\u001b[0m \u001b[38;5;28;01mif\u001b[39;00m convert_axes \u001b[38;5;129;01mis\u001b[39;00m \u001b[38;5;28;01mNone\u001b[39;00m \u001b[38;5;129;01mand\u001b[39;00m orient \u001b[38;5;241m!=\u001b[39m \u001b[38;5;124m\"\u001b[39m\u001b[38;5;124mtable\u001b[39m\u001b[38;5;124m\"\u001b[39m:\n\u001b[1;32m    758\u001b[0m     convert_axes \u001b[38;5;241m=\u001b[39m \u001b[38;5;28;01mTrue\u001b[39;00m\n\u001b[0;32m--> 760\u001b[0m json_reader \u001b[38;5;241m=\u001b[39m \u001b[43mJsonReader\u001b[49m\u001b[43m(\u001b[49m\n\u001b[1;32m    761\u001b[0m \u001b[43m    \u001b[49m\u001b[43mpath_or_buf\u001b[49m\u001b[43m,\u001b[49m\n\u001b[1;32m    762\u001b[0m \u001b[43m    \u001b[49m\u001b[43morient\u001b[49m\u001b[38;5;241;43m=\u001b[39;49m\u001b[43morient\u001b[49m\u001b[43m,\u001b[49m\n\u001b[1;32m    763\u001b[0m \u001b[43m    \u001b[49m\u001b[43mtyp\u001b[49m\u001b[38;5;241;43m=\u001b[39;49m\u001b[43mtyp\u001b[49m\u001b[43m,\u001b[49m\n\u001b[1;32m    764\u001b[0m \u001b[43m    \u001b[49m\u001b[43mdtype\u001b[49m\u001b[38;5;241;43m=\u001b[39;49m\u001b[43mdtype\u001b[49m\u001b[43m,\u001b[49m\n\u001b[1;32m    765\u001b[0m \u001b[43m    \u001b[49m\u001b[43mconvert_axes\u001b[49m\u001b[38;5;241;43m=\u001b[39;49m\u001b[43mconvert_axes\u001b[49m\u001b[43m,\u001b[49m\n\u001b[1;32m    766\u001b[0m \u001b[43m    \u001b[49m\u001b[43mconvert_dates\u001b[49m\u001b[38;5;241;43m=\u001b[39;49m\u001b[43mconvert_dates\u001b[49m\u001b[43m,\u001b[49m\n\u001b[1;32m    767\u001b[0m \u001b[43m    \u001b[49m\u001b[43mkeep_default_dates\u001b[49m\u001b[38;5;241;43m=\u001b[39;49m\u001b[43mkeep_default_dates\u001b[49m\u001b[43m,\u001b[49m\n\u001b[1;32m    768\u001b[0m \u001b[43m    \u001b[49m\u001b[43mprecise_float\u001b[49m\u001b[38;5;241;43m=\u001b[39;49m\u001b[43mprecise_float\u001b[49m\u001b[43m,\u001b[49m\n\u001b[1;32m    769\u001b[0m \u001b[43m    \u001b[49m\u001b[43mdate_unit\u001b[49m\u001b[38;5;241;43m=\u001b[39;49m\u001b[43mdate_unit\u001b[49m\u001b[43m,\u001b[49m\n\u001b[1;32m    770\u001b[0m \u001b[43m    \u001b[49m\u001b[43mencoding\u001b[49m\u001b[38;5;241;43m=\u001b[39;49m\u001b[43mencoding\u001b[49m\u001b[43m,\u001b[49m\n\u001b[1;32m    771\u001b[0m \u001b[43m    \u001b[49m\u001b[43mlines\u001b[49m\u001b[38;5;241;43m=\u001b[39;49m\u001b[43mlines\u001b[49m\u001b[43m,\u001b[49m\n\u001b[1;32m    772\u001b[0m \u001b[43m    \u001b[49m\u001b[43mchunksize\u001b[49m\u001b[38;5;241;43m=\u001b[39;49m\u001b[43mchunksize\u001b[49m\u001b[43m,\u001b[49m\n\u001b[1;32m    773\u001b[0m \u001b[43m    \u001b[49m\u001b[43mcompression\u001b[49m\u001b[38;5;241;43m=\u001b[39;49m\u001b[43mcompression\u001b[49m\u001b[43m,\u001b[49m\n\u001b[1;32m    774\u001b[0m \u001b[43m    \u001b[49m\u001b[43mnrows\u001b[49m\u001b[38;5;241;43m=\u001b[39;49m\u001b[43mnrows\u001b[49m\u001b[43m,\u001b[49m\n\u001b[1;32m    775\u001b[0m \u001b[43m    \u001b[49m\u001b[43mstorage_options\u001b[49m\u001b[38;5;241;43m=\u001b[39;49m\u001b[43mstorage_options\u001b[49m\u001b[43m,\u001b[49m\n\u001b[1;32m    776\u001b[0m \u001b[43m    \u001b[49m\u001b[43mencoding_errors\u001b[49m\u001b[38;5;241;43m=\u001b[39;49m\u001b[43mencoding_errors\u001b[49m\u001b[43m,\u001b[49m\n\u001b[1;32m    777\u001b[0m \u001b[43m    \u001b[49m\u001b[43mdtype_backend\u001b[49m\u001b[38;5;241;43m=\u001b[39;49m\u001b[43mdtype_backend\u001b[49m\u001b[43m,\u001b[49m\n\u001b[1;32m    778\u001b[0m \u001b[43m    \u001b[49m\u001b[43mengine\u001b[49m\u001b[38;5;241;43m=\u001b[39;49m\u001b[43mengine\u001b[49m\u001b[43m,\u001b[49m\n\u001b[1;32m    779\u001b[0m \u001b[43m\u001b[49m\u001b[43m)\u001b[49m\n\u001b[1;32m    781\u001b[0m \u001b[38;5;28;01mif\u001b[39;00m chunksize:\n\u001b[1;32m    782\u001b[0m     \u001b[38;5;28;01mreturn\u001b[39;00m json_reader\n",
      "File \u001b[0;32m~/miniconda3/envs/summarization/lib/python3.11/site-packages/pandas/io/json/_json.py:861\u001b[0m, in \u001b[0;36mJsonReader.__init__\u001b[0;34m(self, filepath_or_buffer, orient, typ, dtype, convert_axes, convert_dates, keep_default_dates, precise_float, date_unit, encoding, lines, chunksize, compression, nrows, storage_options, encoding_errors, dtype_backend, engine)\u001b[0m\n\u001b[1;32m    859\u001b[0m     \u001b[38;5;28mself\u001b[39m\u001b[38;5;241m.\u001b[39mdata \u001b[38;5;241m=\u001b[39m filepath_or_buffer\n\u001b[1;32m    860\u001b[0m \u001b[38;5;28;01melif\u001b[39;00m \u001b[38;5;28mself\u001b[39m\u001b[38;5;241m.\u001b[39mengine \u001b[38;5;241m==\u001b[39m \u001b[38;5;124m\"\u001b[39m\u001b[38;5;124mujson\u001b[39m\u001b[38;5;124m\"\u001b[39m:\n\u001b[0;32m--> 861\u001b[0m     data \u001b[38;5;241m=\u001b[39m \u001b[38;5;28;43mself\u001b[39;49m\u001b[38;5;241;43m.\u001b[39;49m\u001b[43m_get_data_from_filepath\u001b[49m\u001b[43m(\u001b[49m\u001b[43mfilepath_or_buffer\u001b[49m\u001b[43m)\u001b[49m\n\u001b[1;32m    862\u001b[0m     \u001b[38;5;28mself\u001b[39m\u001b[38;5;241m.\u001b[39mdata \u001b[38;5;241m=\u001b[39m \u001b[38;5;28mself\u001b[39m\u001b[38;5;241m.\u001b[39m_preprocess_data(data)\n",
      "File \u001b[0;32m~/miniconda3/envs/summarization/lib/python3.11/site-packages/pandas/io/json/_json.py:917\u001b[0m, in \u001b[0;36mJsonReader._get_data_from_filepath\u001b[0;34m(self, filepath_or_buffer)\u001b[0m\n\u001b[1;32m    909\u001b[0m     filepath_or_buffer \u001b[38;5;241m=\u001b[39m \u001b[38;5;28mself\u001b[39m\u001b[38;5;241m.\u001b[39mhandles\u001b[38;5;241m.\u001b[39mhandle\n\u001b[1;32m    910\u001b[0m \u001b[38;5;28;01melif\u001b[39;00m (\n\u001b[1;32m    911\u001b[0m     \u001b[38;5;28misinstance\u001b[39m(filepath_or_buffer, \u001b[38;5;28mstr\u001b[39m)\n\u001b[1;32m    912\u001b[0m     \u001b[38;5;129;01mand\u001b[39;00m filepath_or_buffer\u001b[38;5;241m.\u001b[39mlower()\u001b[38;5;241m.\u001b[39mendswith(\n\u001b[0;32m   (...)\u001b[0m\n\u001b[1;32m    915\u001b[0m     \u001b[38;5;129;01mand\u001b[39;00m \u001b[38;5;129;01mnot\u001b[39;00m file_exists(filepath_or_buffer)\n\u001b[1;32m    916\u001b[0m ):\n\u001b[0;32m--> 917\u001b[0m     \u001b[38;5;28;01mraise\u001b[39;00m \u001b[38;5;167;01mFileNotFoundError\u001b[39;00m(\u001b[38;5;124mf\u001b[39m\u001b[38;5;124m\"\u001b[39m\u001b[38;5;124mFile \u001b[39m\u001b[38;5;132;01m{\u001b[39;00mfilepath_or_buffer\u001b[38;5;132;01m}\u001b[39;00m\u001b[38;5;124m does not exist\u001b[39m\u001b[38;5;124m\"\u001b[39m)\n\u001b[1;32m    919\u001b[0m \u001b[38;5;28;01mreturn\u001b[39;00m filepath_or_buffer\n",
      "\u001b[0;31mFileNotFoundError\u001b[0m: File datasets/pubmed-dataset-incremental-final/test.json does not exist"
     ]
    }
   ],
   "source": [
    "import pandas as pd\n",
    "\n",
    "df = pd.read_json(\"datasets/pubmed-dataset-incremental-final/test.json\", lines=True)\n"
   ]
  },
  {
   "cell_type": "code",
   "execution_count": 5,
   "metadata": {},
   "outputs": [
    {
     "data": {
      "text/plain": [
       "['objective: to evaluate the efficacy and safety of outpatient management of severe ovarian hyper stimulation syndrome( ohs s) requiring placement of a pigtail catheter.',\n",
       " 'objective: to evaluate the efficacy and safety of outpatient management of severe ovarian hyper stimulation syndrome( ohs s) requiring placement of a pigtail catheter. methods: retrospective analysis of thirty- three consecutive patients who underwent in- vitro fertilization( 2003- 2009) and developed severe/ critical ohs s requiring placement of a pigtail catheter. patients who were managed on outpatient basis were monitored by frequent office visits, daily phone calls, and received iv normal saline for hydration when required.',\n",
       " 'objective: to evaluate the efficacy and safety of outpatient management of severe ovarian hyper stimulation syndrome( ohs s) requiring placement of a pigtail catheter. methods: retrospective analysis of thirty- three consecutive patients who underwent in- vitro fertilization( 2003- 2009) and developed severe/ critical ohs s requiring placement of a pigtail catheter. patients who were managed on outpatient basis were monitored by frequent office visits, daily phone calls, and received iv normal saline for hydration when required. results: in 3 patients( 9. 1%) ohs s started early, requiring placement of a pigtail catheter 4. 3+ 0. 6 days after retrieval. in 30 patients( 90. 9%) ohs s started late( 14 4 days after retrieval). the mean amount of as citi c fluid drained immediately after placement of the catheter was 2085 1018 cc. the pigtail catheter was removed after 7. 8 5. 3 days. of the 31 patients who had embryo transfer( two had total freeze), 84% conceived. twenty- nine patients( 88%) were managed on outpatient basis without any complications. four patients required hospital admission for 1- 7 days( 3. 0 2. 7). one patient with severe ohs s was admitted for work up for chest pain. three patients with critical ohs s with severe pleural effusion requiring thora cent es is were admitted for supportive measures.',\n",
       " 'objective: to evaluate the efficacy and safety of outpatient management of severe ovarian hyper stimulation syndrome( ohs s) requiring placement of a pigtail catheter. methods: retrospective analysis of thirty- three consecutive patients who underwent in- vitro fertilization( 2003- 2009) and developed severe/ critical ohs s requiring placement of a pigtail catheter. patients who were managed on outpatient basis were monitored by frequent office visits, daily phone calls, and received iv normal saline for hydration when required. results: in 3 patients( 9. 1%) ohs s started early, requiring placement of a pigtail catheter 4. 3+ 0. 6 days after retrieval. in 30 patients( 90. 9%) ohs s started late( 14 4 days after retrieval). the mean amount of as citi c fluid drained immediately after placement of the catheter was 2085 1018 cc. the pigtail catheter was removed after 7. 8 5. 3 days. of the 31 patients who had embryo transfer( two had total freeze), 84% conceived. twenty- nine patients( 88%) were managed on outpatient basis without any complications. four patients required hospital admission for 1- 7 days( 3. 0 2. 7). one patient with severe ohs s was admitted for work up for chest pain. three patients with critical ohs s with severe pleural effusion requiring thora cent es is were admitted for supportive measures. conclusion: the placement of a pigtail catheter resulted in safe and effective outpatient management for the majority of patients with severe ohs s.']"
      ]
     },
     "execution_count": 5,
     "metadata": {},
     "output_type": "execute_result"
    }
   ],
   "source": [
    "df['abstract_text'][0]"
   ]
  },
  {
   "cell_type": "code",
   "execution_count": 9,
   "metadata": {},
   "outputs": [
    {
     "ename": "ValueError",
     "evalue": "Mismatch in the number of predictions (8) and references (6)",
     "output_type": "error",
     "traceback": [
      "\u001b[0;31m---------------------------------------------------------------------------\u001b[0m",
      "\u001b[0;31mValueError\u001b[0m                                Traceback (most recent call last)",
      "Cell \u001b[0;32mIn[9], line 7\u001b[0m\n\u001b[1;32m      4\u001b[0m label \u001b[38;5;241m=\u001b[39m \u001b[38;5;124m'\u001b[39m\u001b[38;5;124mlove u\u001b[39m\u001b[38;5;124m'\u001b[39m\n\u001b[1;32m      6\u001b[0m metric \u001b[38;5;241m=\u001b[39m evaluate\u001b[38;5;241m.\u001b[39mload(\u001b[38;5;124m\"\u001b[39m\u001b[38;5;124mrouge\u001b[39m\u001b[38;5;124m\"\u001b[39m)\n\u001b[0;32m----> 7\u001b[0m result \u001b[38;5;241m=\u001b[39m \u001b[43mmetric\u001b[49m\u001b[38;5;241;43m.\u001b[39;49m\u001b[43mcompute\u001b[49m\u001b[43m(\u001b[49m\u001b[43mpredictions\u001b[49m\u001b[38;5;241;43m=\u001b[39;49m\u001b[43mpred\u001b[49m\u001b[43m,\u001b[49m\u001b[43m \u001b[49m\u001b[43mreferences\u001b[49m\u001b[38;5;241;43m=\u001b[39;49m\u001b[43mlabel\u001b[49m\u001b[43m,\u001b[49m\u001b[43m  \u001b[49m\u001b[43muse_stemmer\u001b[49m\u001b[38;5;241;43m=\u001b[39;49m\u001b[38;5;28;43;01mTrue\u001b[39;49;00m\u001b[43m)\u001b[49m\n\u001b[1;32m      8\u001b[0m result\n",
      "File \u001b[0;32m~/anaconda3/envs/transformers/lib/python3.11/site-packages/evaluate/module.py:450\u001b[0m, in \u001b[0;36mEvaluationModule.compute\u001b[0;34m(self, predictions, references, **kwargs)\u001b[0m\n\u001b[1;32m    447\u001b[0m compute_kwargs \u001b[38;5;241m=\u001b[39m {k: kwargs[k] \u001b[38;5;28;01mfor\u001b[39;00m k \u001b[38;5;129;01min\u001b[39;00m kwargs \u001b[38;5;28;01mif\u001b[39;00m k \u001b[38;5;129;01mnot\u001b[39;00m \u001b[38;5;129;01min\u001b[39;00m \u001b[38;5;28mself\u001b[39m\u001b[38;5;241m.\u001b[39m_feature_names()}\n\u001b[1;32m    449\u001b[0m \u001b[38;5;28;01mif\u001b[39;00m \u001b[38;5;28many\u001b[39m(v \u001b[38;5;129;01mis\u001b[39;00m \u001b[38;5;129;01mnot\u001b[39;00m \u001b[38;5;28;01mNone\u001b[39;00m \u001b[38;5;28;01mfor\u001b[39;00m v \u001b[38;5;129;01min\u001b[39;00m inputs\u001b[38;5;241m.\u001b[39mvalues()):\n\u001b[0;32m--> 450\u001b[0m     \u001b[38;5;28;43mself\u001b[39;49m\u001b[38;5;241;43m.\u001b[39;49m\u001b[43madd_batch\u001b[49m\u001b[43m(\u001b[49m\u001b[38;5;241;43m*\u001b[39;49m\u001b[38;5;241;43m*\u001b[39;49m\u001b[43minputs\u001b[49m\u001b[43m)\u001b[49m\n\u001b[1;32m    451\u001b[0m \u001b[38;5;28mself\u001b[39m\u001b[38;5;241m.\u001b[39m_finalize()\n\u001b[1;32m    453\u001b[0m \u001b[38;5;28mself\u001b[39m\u001b[38;5;241m.\u001b[39mcache_file_name \u001b[38;5;241m=\u001b[39m \u001b[38;5;28;01mNone\u001b[39;00m\n",
      "File \u001b[0;32m~/anaconda3/envs/transformers/lib/python3.11/site-packages/evaluate/module.py:541\u001b[0m, in \u001b[0;36mEvaluationModule.add_batch\u001b[0;34m(self, predictions, references, **kwargs)\u001b[0m\n\u001b[1;32m    534\u001b[0m \u001b[38;5;28;01melse\u001b[39;00m:\n\u001b[1;32m    535\u001b[0m     error_msg \u001b[38;5;241m=\u001b[39m (\n\u001b[1;32m    536\u001b[0m         \u001b[38;5;124mf\u001b[39m\u001b[38;5;124m\"\u001b[39m\u001b[38;5;124mPredictions and/or references don\u001b[39m\u001b[38;5;124m'\u001b[39m\u001b[38;5;124mt match the expected format.\u001b[39m\u001b[38;5;130;01m\\n\u001b[39;00m\u001b[38;5;124m\"\u001b[39m\n\u001b[1;32m    537\u001b[0m         \u001b[38;5;124mf\u001b[39m\u001b[38;5;124m\"\u001b[39m\u001b[38;5;124mExpected format: \u001b[39m\u001b[38;5;132;01m{\u001b[39;00m\u001b[38;5;28mself\u001b[39m\u001b[38;5;241m.\u001b[39mselected_feature_format\u001b[38;5;250m \u001b[39m\u001b[38;5;132;01m}\u001b[39;00m\u001b[38;5;124m,\u001b[39m\u001b[38;5;130;01m\\n\u001b[39;00m\u001b[38;5;124m\"\u001b[39m\n\u001b[1;32m    538\u001b[0m         \u001b[38;5;124mf\u001b[39m\u001b[38;5;124m\"\u001b[39m\u001b[38;5;124mInput predictions: \u001b[39m\u001b[38;5;132;01m{\u001b[39;00msummarize_if_long_list(predictions)\u001b[38;5;132;01m}\u001b[39;00m\u001b[38;5;124m,\u001b[39m\u001b[38;5;130;01m\\n\u001b[39;00m\u001b[38;5;124m\"\u001b[39m\n\u001b[1;32m    539\u001b[0m         \u001b[38;5;124mf\u001b[39m\u001b[38;5;124m\"\u001b[39m\u001b[38;5;124mInput references: \u001b[39m\u001b[38;5;132;01m{\u001b[39;00msummarize_if_long_list(references)\u001b[38;5;132;01m}\u001b[39;00m\u001b[38;5;124m\"\u001b[39m\n\u001b[1;32m    540\u001b[0m     )\n\u001b[0;32m--> 541\u001b[0m \u001b[38;5;28;01mraise\u001b[39;00m \u001b[38;5;167;01mValueError\u001b[39;00m(error_msg) \u001b[38;5;28;01mfrom\u001b[39;00m \u001b[38;5;28;01mNone\u001b[39;00m\n",
      "\u001b[0;31mValueError\u001b[0m: Mismatch in the number of predictions (8) and references (6)"
     ]
    }
   ],
   "source": [
    "import evaluate\n",
    "\n",
    "pred = 'i love u'\n",
    "label = 'love u'\n",
    "\n",
    "metric = evaluate.load(\"rouge\")\n",
    "result = metric.compute(predictions=pred, references=label,  use_stemmer=True)\n",
    "result"
   ]
  },
  {
   "cell_type": "code",
   "execution_count": 9,
   "metadata": {},
   "outputs": [
    {
     "name": "stdout",
     "output_type": "stream",
     "text": [
      "{'rouge1': 0.3333333333333333, 'rouge2': 0.0, 'rougeL': 0.3333333333333333, 'rougeLsum': 0.3333333333333333}\n"
     ]
    }
   ],
   "source": [
    "import evaluate\n",
    "from nltk.tokenize import word_tokenize\n",
    "\n",
    "pred = ['日本号　は　脆い']\n",
    "label = ['毛おい　は　ない']\n",
    "metric = evaluate.load(\"rouge\")\n",
    "result = metric.compute(predictions=pred, references=label, use_stemmer=True, tokenizer=word_tokenize)\n",
    "print(result)\n"
   ]
  },
  {
   "cell_type": "code",
   "execution_count": null,
   "metadata": {},
   "outputs": [],
   "source": [
    "from nltk.tokenize import word_tokenize\n",
    "import evaluate\n",
    "from transformers import AutoTokenizer\n",
    "metric = evaluate.load('rouge')\n",
    "\n",
    "tokenizer = AutoTokenizer.from_pretrained('ku-nlp/bart-base-japanese')\n",
    "\n",
    "preds = ['中国']\n",
    "labels = ['日本　語']\n",
    "\n",
    "scores = metric.compute(\n",
    "    predictions=preds,\n",
    "    references=labels,\n",
    "    tokenizer=tokenizer,\n",
    ")"
   ]
  },
  {
   "cell_type": "code",
   "execution_count": 10,
   "metadata": {},
   "outputs": [
    {
     "data": {
      "text/plain": [
       "DatasetDict({\n",
       "    train: Dataset({\n",
       "        features: ['article_id', 'article_text', 'abstract_text', 'section_names', 'sections'],\n",
       "        num_rows: 24816\n",
       "    })\n",
       "    validation: Dataset({\n",
       "        features: ['article_id', 'article_text', 'abstract_text', 'section_names', 'sections'],\n",
       "        num_rows: 1393\n",
       "    })\n",
       "    test: Dataset({\n",
       "        features: ['article_id', 'article_text', 'abstract_text', 'section_names', 'sections'],\n",
       "        num_rows: 1430\n",
       "    })\n",
       "})"
      ]
     },
     "execution_count": 10,
     "metadata": {},
     "output_type": "execute_result"
    }
   ],
   "source": [
    "from datasets import load_dataset\n",
    "\n",
    "raw_datasets = load_dataset(\n",
    "    \"json\",\n",
    "    data_dir=\"datasets/pubmed-dataset-incremental\",\n",
    ")\n",
    "\n",
    "raw_datasets"
   ]
  },
  {
   "cell_type": "code",
   "execution_count": 2,
   "metadata": {},
   "outputs": [
    {
     "ename": "NameError",
     "evalue": "name 'raw_datasets' is not defined",
     "output_type": "error",
     "traceback": [
      "\u001b[0;31m---------------------------------------------------------------------------\u001b[0m",
      "\u001b[0;31mNameError\u001b[0m                                 Traceback (most recent call last)",
      "Cell \u001b[0;32mIn[2], line 8\u001b[0m\n\u001b[1;32m      5\u001b[0m     example[\u001b[38;5;124m'\u001b[39m\u001b[38;5;124mabstract_text\u001b[39m\u001b[38;5;124m'\u001b[39m] \u001b[38;5;241m=\u001b[39m example[\u001b[38;5;124m'\u001b[39m\u001b[38;5;124mabstract_text\u001b[39m\u001b[38;5;124m'\u001b[39m][:max_n_segments]\n\u001b[1;32m      6\u001b[0m     \u001b[38;5;28;01mreturn\u001b[39;00m example\n\u001b[0;32m----> 8\u001b[0m \u001b[38;5;28;01mfor\u001b[39;00m split \u001b[38;5;129;01min\u001b[39;00m \u001b[43mraw_datasets\u001b[49m\u001b[38;5;241m.\u001b[39mkeys():\n\u001b[1;32m      9\u001b[0m     raw_datasets[split] \u001b[38;5;241m=\u001b[39m raw_datasets[split]\u001b[38;5;241m.\u001b[39mmap(truncate_max_n_segments)\n",
      "\u001b[0;31mNameError\u001b[0m: name 'raw_datasets' is not defined"
     ]
    }
   ],
   "source": [
    "max_n_segments = 2\n",
    "\n",
    "def truncate_max_n_segments(example):\n",
    "    example['sections'] = example['sections'][:max_n_segments]\n",
    "    example['abstract_text'] = example['abstract_text'][:max_n_segments]\n",
    "    return example\n",
    "\n",
    "for split in raw_datasets.keys():\n",
    "    raw_datasets[split] = raw_datasets[split].map(truncate_max_n_segments)"
   ]
  },
  {
   "cell_type": "code",
   "execution_count": 6,
   "metadata": {},
   "outputs": [
    {
     "data": {
      "text/plain": [
       "['ohss is a serious complication of ovulation induction , occurring in 1 - 10% of in vitro fertilization patients  ( rizk and aboulghar , 1991 ; brinsden et al . , 1995 ) . this iatrogenic condition has a spectrum of clinical and laboratory manifestations ranging from mild to severe , even life - threatening conditions  ( rizk et al . , 1990 ) . among the serious manifestations of ohss are ascites and pleural effusion  ( rizk and smitz , 1992 ) . vascular endothelial growth factor has emerged as one of the factors most likely involved in the pathophysiology of ohss  ( geva and jaffe , 2000 ; rizk and aboulghar , 2010 ) . vascular endothelial growth factor is an angiogenic cytokine that is a potent stimulator of the vascular endothelium and appears to play an integral role in follicular growth , corpus luteum function and ovarian angiogenesis  ( rizk et al . , 1997 ) . vascular endothelial growth factor causes increased capillary permeability with its sequelae of ascites and possible pleural effusion  ( rizk et al . , 1997 ; gomez et al . , 2002 ) . human chorionic gonadotrophin is thought to play a crucial role in the development of ohss  ( rizk et al . two distinct forms of severe ohss have been described : early and late forms  ( papanikolaou et al . , 2005 ; mathur et al . , 2000 ) . early ohss is caused by the administration of exogenous human chorionic gonadotrophin  ( hcg ) and it starts before the 10th day after oocyte retrieval , while the late form is the result of endogenous human chorionic gonadotrophin release in the event of pregnancy , and it starts after the 10th day following oocyte aspiration  ( papanikolaou et al . , 2005 ; such strategies included the use of low dose gonadotropins and frequent monitoring during controlled ovarian stimulation , cycle cancellation , coasting , freeze all embryos and the use of gonadotropin releasing hormone  ( gnrh ) agonist as an oocyte trigger in gnrh antagonist cycles  ( rizk et al . the use of antagonist in the luteal phase with total freeze of embryos to prevent severe ohss has also been suggested  ( lainas et al . , 2012 ) . such strategies should be used especially in patients at high risk for developing severe ohss , including those who are young , have low body weight , have polycystic ovary syndrome , those who experience high estradiol levels , rapidly increasing estradiol levels , high number of follicles during controlled ovarian stimulation and those with high number of oocytes retrieved  ( rizk and aboulghar , 1999 ; delvigne , 2009 ) . dopamine agonists have been proposed for the prevention of ohss in women at high risk . however , the study by lvarez et al .  ( 2007 ) suggested that it was only effective in reducing the incidence of moderate ohss , but not in its severe form  ( alvarez et al . , 2007 ) . low - dose aspirin therapy and doxycycline have also been suggested to inhibit angiogenesis  ( fainaru et al . , 2009 ) . ( 2011 ) believes that the concept of an ohss - free clinic has become a reality . the authors suggest that this approach should include pituitary down - regulation using a gnrh antagonist , ovulation triggering with a gnrh agonist and vitrification of oocytes or embryos  ( devroey et al . , 2011 ) . severe and critical forms of ohss are associated with significant ascites  ( golan et al . , 1989 ; rizk et al . , ascites results in an increased abdominal pressure compromising venous return , cardiac output and renal perfusion  ( navot et al . paracentesis is frequently needed , as prompt drainage of fluid produces a significant clinical and biochemical improvement , including spontaneous diuresis and hastening the resolution process  ( rizk et al . , multiple paracenteses may be required to relieve symptoms and avoid serious sequelae of hemoconcentration , hypotension , decreased renal perfusion and severe respiratory compromise . instead of multiple interventions , the placement of a catheter temporarily for a few days will permit complete drainage through one procedure  ( rizk and aboulghar , 1999 ) . pigtail catheters have been used for drainage in various clinical situations . in a previous study we described the use of percutaneous placement of a pigtail catheter for drainage of ascites caused by severe / critical ohss  ( abuzeid et al . , 2003 ) . in this study we established the efficacy and safety of pigtail catheter drainage in the management of severe / critical ohss in patients who underwent in vitro fertilization and embryo transfer at our centre between 1999 and 2001 on both inpatient and outpatient basis . the aim of the current study was to evaluate the role of the pigtail catheter drainage in outpatient management of patients with early onset severe ohss .',\n",
       " 'this is a retrospective study that included all patients who underwent in vitro fertilization and developed severe or critical ohss by the golan classification  ( golan et al . , 1989 ) in the period between 2004 and 2009 . all patients underwent an ultrasound evaluation which documented the presence of severe ascites and bilateral ovarian enlargement . all patients presented with shortness of breath , marked abdominal distension , nausea , weight gain and lower abdominal pain . thirteen patients complained of vomiting , and 3 patients reported decreased urine output  ( less than 720 cc per 24  hours ) and had haemoglobin   15 g / dl . all 33 patients were offered treatment using pigtail catheter insertion as an alternative to trans - vaginal paracentesis . blood studies including a complete blood count , creatinine , electrolytes , serum albumin and total protein , and coagulation panel were ordered prior to the procedure . all 33  patients were rehydrated with intravenous crystalloid solutions  ( 0.9% normal saline ) . care was taken to give the patient the same amount of fluid as the amount that was drained from the peritoneal cavity .   all pigtail catheter placements were performed in the operating room at our surgical centre . the catheter  ( 6 - 0 french , 2.0 mm , boston scientific , quincy , ma , usa ) was introduced utilizing a non - disposable metal gamete intra - fallopian treatment  ( gift ) trocar and cannula  ( embryon gift catheter , ivf online , gilford , ct , usa ) which was introduced into the largest accessible ascitic fluid pocket in the upper outer quadrant of the abdominal wall under local anaesthesia and trans - abdominal ultrasound guidance . the trocar was then removed and a glide wire  ( boston scientific corp . , watertown , ma , usa ) was threaded through the gift canula . the canula was removed with care so as to keep the glide wire in the peritoneal cavity . the pigtail catheter was guided into the peritoneal cavity by the wire after removal of the stylet of the pigtail catheter . the catheter was anchored to the skin using 2 - 0 silk suture and it was supported by gauze , which was covered by a tegaderm . the catheter was connected to a three - way stop cock which was connected to a drainage bag . initial amount of drained fluid was calculated and subsequently the patients were trained to drain 1000 cc per day  ( 500 cc in the morning and 500 cc in the evening ) . one liter normal saline and 500 cc of 6% hydroxyethyle starch solution  ( hespan ) was administered to the patient on the same day of pigtail catheter placement . any patient with critical ohss according to the golan classification , or those in whom the presenting symptoms and signs did not completely subside after drainage of ascitic fluid and iv fluid replacement , were admitted to the hospital for observation and further management . all other patients were sent home . once there was minimal or no drainage from the catheter , the patient returned to the office for removal of the catheter . the patients were encouraged to drink plenty of fluids and to increase their protein intake . all patients kept a diary for body weight , abdominal girth , and urine output before and after the procedure . patients were seen in the office as needed for evaluation and hydration with normal saline .']"
      ]
     },
     "execution_count": 6,
     "metadata": {},
     "output_type": "execute_result"
    }
   ],
   "source": [
    "raw_datasets['test']['sections'][0]"
   ]
  },
  {
   "cell_type": "code",
   "execution_count": 8,
   "metadata": {},
   "outputs": [
    {
     "data": {
      "text/plain": [
       "2"
      ]
     },
     "execution_count": 8,
     "metadata": {},
     "output_type": "execute_result"
    }
   ],
   "source": [
    "len(raw_datasets['test']['sections'][0])"
   ]
  },
  {
   "cell_type": "code",
   "execution_count": 13,
   "metadata": {},
   "outputs": [
    {
     "name": "stderr",
     "output_type": "stream",
     "text": [
      "Map: 100%|██████████| 24816/24816 [00:05<00:00, 4895.77 examples/s]\n",
      "Map: 100%|██████████| 1393/1393 [00:00<00:00, 5174.15 examples/s]\n",
      "Map: 100%|██████████| 1430/1430 [00:00<00:00, 5416.69 examples/s]\n"
     ]
    }
   ],
   "source": [
    "max_n_segments = 11\n",
    "\n",
    "def extend_max_n_segments(example):\n",
    "    # num_segments_to_copy = max_n_segments - len(example['sections'])\n",
    "    origin_segments_num = len(example['sections'])\n",
    "    num_segments_to_copy = max_n_segments - origin_segments_num\n",
    "\n",
    "    while num_segments_to_copy > 0 :\n",
    "        segments_to_copy_temp = min(origin_segments_num, num_segments_to_copy)\n",
    "        \n",
    "        example['sections'] += example['sections'][:segments_to_copy_temp]\n",
    "        example['abstract_text'] += example['abstract_text'][:segments_to_copy_temp]\n",
    "        \n",
    "        num_segments_to_copy -= segments_to_copy_temp\n",
    "        \n",
    "    return example\n",
    "\n",
    "\n",
    "for split in raw_datasets.keys():\n",
    "    raw_datasets[split] = raw_datasets[split].map(extend_max_n_segments)"
   ]
  },
  {
   "cell_type": "code",
   "execution_count": 14,
   "metadata": {},
   "outputs": [
    {
     "data": {
      "text/plain": [
       "['ohss is a serious complication of ovulation induction , occurring in 1 - 10% of in vitro fertilization patients  ( rizk and aboulghar , 1991 ; brinsden et al . , 1995 ) . this iatrogenic condition has a spectrum of clinical and laboratory manifestations ranging from mild to severe , even life - threatening conditions  ( rizk et al . , 1990 ) . among the serious manifestations of ohss are ascites and pleural effusion  ( rizk and smitz , 1992 ) . vascular endothelial growth factor has emerged as one of the factors most likely involved in the pathophysiology of ohss  ( geva and jaffe , 2000 ; rizk and aboulghar , 2010 ) . vascular endothelial growth factor is an angiogenic cytokine that is a potent stimulator of the vascular endothelium and appears to play an integral role in follicular growth , corpus luteum function and ovarian angiogenesis  ( rizk et al . , 1997 ) . vascular endothelial growth factor causes increased capillary permeability with its sequelae of ascites and possible pleural effusion  ( rizk et al . , 1997 ; gomez et al . , 2002 ) . human chorionic gonadotrophin is thought to play a crucial role in the development of ohss  ( rizk et al . two distinct forms of severe ohss have been described : early and late forms  ( papanikolaou et al . , 2005 ; mathur et al . , 2000 ) . early ohss is caused by the administration of exogenous human chorionic gonadotrophin  ( hcg ) and it starts before the 10th day after oocyte retrieval , while the late form is the result of endogenous human chorionic gonadotrophin release in the event of pregnancy , and it starts after the 10th day following oocyte aspiration  ( papanikolaou et al . , 2005 ; such strategies included the use of low dose gonadotropins and frequent monitoring during controlled ovarian stimulation , cycle cancellation , coasting , freeze all embryos and the use of gonadotropin releasing hormone  ( gnrh ) agonist as an oocyte trigger in gnrh antagonist cycles  ( rizk et al . the use of antagonist in the luteal phase with total freeze of embryos to prevent severe ohss has also been suggested  ( lainas et al . , 2012 ) . such strategies should be used especially in patients at high risk for developing severe ohss , including those who are young , have low body weight , have polycystic ovary syndrome , those who experience high estradiol levels , rapidly increasing estradiol levels , high number of follicles during controlled ovarian stimulation and those with high number of oocytes retrieved  ( rizk and aboulghar , 1999 ; delvigne , 2009 ) . dopamine agonists have been proposed for the prevention of ohss in women at high risk . however , the study by lvarez et al .  ( 2007 ) suggested that it was only effective in reducing the incidence of moderate ohss , but not in its severe form  ( alvarez et al . , 2007 ) . low - dose aspirin therapy and doxycycline have also been suggested to inhibit angiogenesis  ( fainaru et al . , 2009 ) . ( 2011 ) believes that the concept of an ohss - free clinic has become a reality . the authors suggest that this approach should include pituitary down - regulation using a gnrh antagonist , ovulation triggering with a gnrh agonist and vitrification of oocytes or embryos  ( devroey et al . , 2011 ) . severe and critical forms of ohss are associated with significant ascites  ( golan et al . , 1989 ; rizk et al . , ascites results in an increased abdominal pressure compromising venous return , cardiac output and renal perfusion  ( navot et al . paracentesis is frequently needed , as prompt drainage of fluid produces a significant clinical and biochemical improvement , including spontaneous diuresis and hastening the resolution process  ( rizk et al . , multiple paracenteses may be required to relieve symptoms and avoid serious sequelae of hemoconcentration , hypotension , decreased renal perfusion and severe respiratory compromise . instead of multiple interventions , the placement of a catheter temporarily for a few days will permit complete drainage through one procedure  ( rizk and aboulghar , 1999 ) . pigtail catheters have been used for drainage in various clinical situations . in a previous study we described the use of percutaneous placement of a pigtail catheter for drainage of ascites caused by severe / critical ohss  ( abuzeid et al . , 2003 ) . in this study we established the efficacy and safety of pigtail catheter drainage in the management of severe / critical ohss in patients who underwent in vitro fertilization and embryo transfer at our centre between 1999 and 2001 on both inpatient and outpatient basis . the aim of the current study was to evaluate the role of the pigtail catheter drainage in outpatient management of patients with early onset severe ohss .',\n",
       " 'this is a retrospective study that included all patients who underwent in vitro fertilization and developed severe or critical ohss by the golan classification  ( golan et al . , 1989 ) in the period between 2004 and 2009 . all patients underwent an ultrasound evaluation which documented the presence of severe ascites and bilateral ovarian enlargement . all patients presented with shortness of breath , marked abdominal distension , nausea , weight gain and lower abdominal pain . thirteen patients complained of vomiting , and 3 patients reported decreased urine output  ( less than 720 cc per 24  hours ) and had haemoglobin   15 g / dl . all 33 patients were offered treatment using pigtail catheter insertion as an alternative to trans - vaginal paracentesis . blood studies including a complete blood count , creatinine , electrolytes , serum albumin and total protein , and coagulation panel were ordered prior to the procedure . all 33  patients were rehydrated with intravenous crystalloid solutions  ( 0.9% normal saline ) . care was taken to give the patient the same amount of fluid as the amount that was drained from the peritoneal cavity .   all pigtail catheter placements were performed in the operating room at our surgical centre . the catheter  ( 6 - 0 french , 2.0 mm , boston scientific , quincy , ma , usa ) was introduced utilizing a non - disposable metal gamete intra - fallopian treatment  ( gift ) trocar and cannula  ( embryon gift catheter , ivf online , gilford , ct , usa ) which was introduced into the largest accessible ascitic fluid pocket in the upper outer quadrant of the abdominal wall under local anaesthesia and trans - abdominal ultrasound guidance . the trocar was then removed and a glide wire  ( boston scientific corp . , watertown , ma , usa ) was threaded through the gift canula . the canula was removed with care so as to keep the glide wire in the peritoneal cavity . the pigtail catheter was guided into the peritoneal cavity by the wire after removal of the stylet of the pigtail catheter . the catheter was anchored to the skin using 2 - 0 silk suture and it was supported by gauze , which was covered by a tegaderm . the catheter was connected to a three - way stop cock which was connected to a drainage bag . initial amount of drained fluid was calculated and subsequently the patients were trained to drain 1000 cc per day  ( 500 cc in the morning and 500 cc in the evening ) . one liter normal saline and 500 cc of 6% hydroxyethyle starch solution  ( hespan ) was administered to the patient on the same day of pigtail catheter placement . any patient with critical ohss according to the golan classification , or those in whom the presenting symptoms and signs did not completely subside after drainage of ascitic fluid and iv fluid replacement , were admitted to the hospital for observation and further management . all other patients were sent home . once there was minimal or no drainage from the catheter , the patient returned to the office for removal of the catheter . the patients were encouraged to drink plenty of fluids and to increase their protein intake . all patients kept a diary for body weight , abdominal girth , and urine output before and after the procedure . patients were seen in the office as needed for evaluation and hydration with normal saline .',\n",
       " 'demographic data including mean age  ( years ) , duration of infertility  ( years ) , bmi  ( kg / m2 ) and aetiology of infertility are illustrated in table i. ovarian stimulation data including number of treatment days , total dose of recombinant follicle stimulating hormone , hormone serum levels , endometrial thickness , number of follicles and number of patients receiving only 5000 iu of human chorionic gonadotrophin is illustrated in table ii . our data include the number of patients requiring early versus late placement of pigtail catheter , mean amount of ascitic fluid drained immediately after pigtail placement , number of days of pigtail catheter drainage and the number of days between oocyte retrieval and the onset of severe ohss symptoms requiring pigtail placement . table iii also illustrates the number of patients who underwent coasting , number of patients who received prophylactic hespan on day of egg retrieval . values are expressed as mean + standard deviation values are expressed as mean  +  standard deviation : rfsh  =  recombinant fsh ; hmg  = human menopausal gonadotropins ; hcg  =  human chorionic gonadotropin ; e2  =  estradiol values are expressed as mean + standard deviation three patients  ( 9% ) required an early placement of a pigtail catheter while 30 patients  ( 91% ) had late placement of the catheter  ( table iii ) . twenty - nine patients  ( 88% ) were managed on an outpatient basis without any complications . four patients  ( 12% ) required hospital admission for 1 - 7 days  ( 3 + 2.7 ) , three for associated severe pleural effusion requiring thoracentesis . these three patients were admitted to the hospital immediately after insertion of the pigtail catheter for management of severe pleural effusion and careful observation . one patient was admitted 48 hours after insertion of the pigtail catheter for work up for chest pain , all tests were negative .',\n",
       " 'navot et al . , 1992 ; rizk and aboulghar , 1999 ) , but perhaps the most accepted classification of ohss is the one described by golan et al as mild , moderate and severe  ( golan et al . , 1989 ) . however , clinicians should be aware that ohss is a dynamic condition and moderate ohss may progress to severe ohss within hours  ( rizk and aboulghar , 1999 ; rizk , 2009 ) . therefore , the practice committee of the american society for reproductive medicine  ( asrm ) proposed a classification for ohss of mild , worsening and serious  ( the practice committee of the american society for reproductive medicine , 2008 ) . recognizing the patients at high - risk , prevention and early recognition are the most important steps in the management of ohss  ( rizk , 2006 ) . however , severe forms of ohss , especially late onset type that occurs when patients are pregnant , most likely will continue to happen , albeit at much lower rate , unless one reverts to a total freeze of all embryos after the use of gnrh agonist as a trigger shot in a gnrh antagonist cycle  ( donoso and devroey , 2013 ; devroey et al . , 2011 ) . traditional treatment consists mainly of supportive management until spontaneous resolution occurs  ( rizk , 1994 ) . although moderate ohss does not usually require intervention , outpatient monitoring is essential to identify progression to a severe form  ( rizk , 2006 ) . patients with moderate ohss can be managed on an outpatient basis by adequate hydration and close daily monitoring of weight gain and abdominal girth to detect progression to severe ohss , and to provide intervention , if required  ( rizk , 2010 ) . patients presenting with severe forms of ohss are usually managed on inpatient basis and most patients with critical ohss are admitted to intensive care units for aggressive supportive measures to avoid maternal morbidity and mortality  ( the practice committee of the american society for reproductive medicine , 2008 ) . correction of hypovolemia , electrolyte imbalance and hypoalbuminemia are the basic principles during the treatment of severe ohss  ( rizk , 1994 , 2006 ; myrianthefs et al . , 2000 ) . ( 1992 ) suggested that paracentesis is the single most important treatment modality in life - threatening ohss not controlled by medical therapy . paracentesis and removal of ascites result in relieving the pressure on the inferior vena cava and improvement in venous return , cardiac output and renal perfusion  ( padilla et al . , 1990 ) . therefore , prompt drainage of fluid produces significant clinical and biochemical improvement , including spontaneous diuresis and hastening the resolution process  ( abuzeid et al . , 2003 ; the practice committee of the american society for reproductive medicine , 2008 ) . it is also possible that removal of ascites decreases the amount of vegf and its effects on vascular permeability . therefore ultrasound guided drainage of the ascitic fluid should be performed in severe cases of ohss with respiratory distress , oliguria or severe abdominal pain  ( padilla et al . , 1990 ) . this can be done either trans - vaginally  ( aboulghar et al . , 1990 ) or trans - abdominally  ( padilla et al . , 1990 ) . however , recurrence of ascites is common in severe cases of ohss . placement of a pigtail catheter has been proposed by some investigators to allow drainage of ascitic fluid whenever it accumulates without the need for further surgical procedures  ( abuzeid et al . , 2003 ) . in a previous study we reported the use of percutaneous pigtail catheter for drainage of ascites in severe ohss as an alternative to repeated paracentesis  ( abuzeid et al . , 2003 ) . this procedure is relatively simple and requires a short period of time as compared to the time needed to gradually aspirate any fluid accumulation transvaginally . immediate relief of symptoms and signs of severe ohss after pigtail catheter insertion was an important finding . in addition , the ease by which any accumulated ascitic fluid was drained resulted in a faster resolution of ohss  ( abuzeid et al . , no infection was reported  ( abuzeid et al . , 2003 ) . in that study the first 13 patients they were discharged home with the pigtail catheter in place and managed on an outpatient basis until ohss subsided ; thereafter the catheter was removed . the last 13 patients were managed on an outpatient basis without any problem  ( abuzeid mi , et al . , 2003 ) . our previous study confirmed the safety and effectiveness of the pigtail catheter for the management of severe ohss . therefore , we embarked on the current study to evaluate the role of pigtail catheter drainage in outpatient management of patients with severe ohss syndrome . in the current study we demonstrated that patients who were diagnosed very early with severe ohss can be managed safely and effectively on outpatient basis using pigtail catheter drainage , iv fluid replacement and careful monitoring . although all 33 patients presented with shortness of breath , marked abdominal distension , nausea , weight gain and lower abdominal pain , and 13 of them complained of vomiting ,  ( all are criteria for hospital admission according to the practice committee of the american society for reproductive medicine on ohss ) , 30 patients were sent home as their presenting symptoms were relieved . early diagnosis and intervention resulted in rapid elimination of the symptoms of severe ohss and normalization of vital signs , which allow us to manage the patients on outpatient basis . the pigtail catheter placements were performed without complications and patients were discharged home after a few hours of observation . the patients who needed hospital admission were those with associated severe pleural effusion requiring thoracentesis . another patient was admitted to the hospital for 1 day for work up for chest pain and possible diagnosis of pulmonary embolism . once pulmonary embolism was ruled out , she was discharged home with a pigtail catheter in place and she was managed on outpatient basis . outpatient management of ohss has no place in those who fail to have complete resolutions of their symptoms , or those with severe hyperproteinuria or electrolyte imbalance . certainly it has no place in patients with critical ohss such as those with severe pleural effusion , diminished urine output , severe hemoconcentration and those at increased risk of thromboembolic risks  ( rizk , 2010 ) . it is imperative to stress that such a protocol can only be used in patients who are motivated , reliable and have the necessary support at home to allow them to return to the clinic or go to the emergency room if the need arises . it also requires dedicated in vitro fertilization nurses to educate and follow up the patient on a daily basis . contrary to other reports that state that access to intravenous albumin is a critical part of outpatient management for severe ohss , we did not use any albumin replacement  ( lincoln et al . , 2002 ) . the reason behind the use of intravenous albumin is to increase intravascular oncotic pressure , thereby curtailing the exodus of free water from the intravascular space . in our study we used hespan instead of albumin , as some investigators have shown that it is beneficial in reducing the incidence of severe ohss  ( youssef et al . , 2011 ) . by increasing the intravascular oncotic pressure in addition , the majority of our patients had late onset ohss as a result of pregnancy . hespan should be used with caution in patients with late onset ohss only when benefits outweigh risks.it is a fact that outpatient management of early severe ohss is a common practice among infertility specialists after trans - vaginal aspiration of ascitic fluid and iv fluid hydration . outpatient management by repeated abdominal or trans - vaginal paracentesis has been reported to be safe , effective and cost effective  ( lincoln et al . , 2002 ; shrivastav et al . , 1994 ; fluker et al . , 2000 ( 1994 ) were the first to suggest that day care management in patients with severe ohss with abdominal paracentesis and iv hydration was simple , safe and effective compared with traditional treatment with in - patient hospitalization and supportive measures . ( 2002 ) concluded that the need for hospitalization for hyperstimulated patients can be minimized by outpatient management of severe ohss with trans - vaginal culdocentesis and rehydration with crystalloids and albumin . ( 2000 ) advocated in a pilot study an active management strategy for moderate ohss , which involved early paracentesis designed to minimize the progression from moderate to severe ohss , instead of late paracentesis aimed at speeding up recovery in severely ill patients . ( 2010 ) concluded that early outpatient paracentesis for moderate to severe ohss is the most cost effective management plan when compared with traditional conservative inpatient therapy . ( 2009 ) reported a large series of patients with severe ohss in whom the vast majority were successfully managed as outpatients with use of aggressive trans - vaginal paracentesis  ( smith et al . , 2009 ) . despite the findings in our study it is important to emphasize that ohss remains a serious disorder with the potential for rapid deterioration , requiring hospitalization and intensive treatment of a critically ill patient . the life - threatening complications of ohss are secondary to thromboembolism or compromised pulmonary or cardiovascular function and multi - organ failure . there have been isolated reports of women dying from the complications associated with ohss . the mortality rate related to ohss is very low and was estimated by brinsden et al .  more recently , reports regarding maternal mortality rates due to ohss in the netherlands and united kingdom demonstrate an incidence of approximately 3 deaths per 100,000 in ivf cycles  ( braat et al . , 2006 ; lewis , 2007 ) . eleven lethal complications of assisted reproductive technology have been documented and summarized by braat et al .  several investigators reported sporadic fatality as a result of ohss due to adult respiratory distress syndrome , massive pulmonary oedema , myocardial infarction , and carotid artery occlusion resulting in cerebral infarction . in this study we describe a modified technique of what interventional radiologists usually use for pigtail catheter placement . we observed that in the obese patients the metal introducer provided in the pigtail catheter kit is difficult to use ; instead we used the non disposable gamete intra - fallopian treatment trocar and cannula to facilitate the introduction of the catheter through the abdominal wall of such patients . this technique helps to manage the patients in the office without the need for sending her to the hospital for an interventional radiologist to place the catheter . however , the patients in this study were identified from our in vitro fertilization database ; the study included every patient who developed severe / critical ohss . in addition , the lack of a control group that was managed without pigtail catheter placement limits the conclusions that can be drawn from our study . in summary , drainage of ascitic fluid in patients with severe / critical ohss is an important step in the management of this condition  ( rizk , 2010 ) . the placement of a pigtail catheter resulted in a safe and effective outpatient management of the majority of patients with severe ohss . however , outpatient management of this potentially fatal condition requires clear understanding that rapid deterioration may occur , which may necessitate hospitalization and intensive treatment of a critically ill patient  ( rizk , 2006 , 2010 ) . patients with critical ohss and those with persistence of symptoms of severe ohss despite insertion of a pigtail catheter and drainage of ascitic fluid should be admitted to the hospital for inpatient management .',\n",
       " 'ohss is a serious complication of ovulation induction , occurring in 1 - 10% of in vitro fertilization patients  ( rizk and aboulghar , 1991 ; brinsden et al . , 1995 ) . this iatrogenic condition has a spectrum of clinical and laboratory manifestations ranging from mild to severe , even life - threatening conditions  ( rizk et al . , 1990 ) . among the serious manifestations of ohss are ascites and pleural effusion  ( rizk and smitz , 1992 ) . vascular endothelial growth factor has emerged as one of the factors most likely involved in the pathophysiology of ohss  ( geva and jaffe , 2000 ; rizk and aboulghar , 2010 ) . vascular endothelial growth factor is an angiogenic cytokine that is a potent stimulator of the vascular endothelium and appears to play an integral role in follicular growth , corpus luteum function and ovarian angiogenesis  ( rizk et al . , 1997 ) . vascular endothelial growth factor causes increased capillary permeability with its sequelae of ascites and possible pleural effusion  ( rizk et al . , 1997 ; gomez et al . , 2002 ) . human chorionic gonadotrophin is thought to play a crucial role in the development of ohss  ( rizk et al . two distinct forms of severe ohss have been described : early and late forms  ( papanikolaou et al . , 2005 ; mathur et al . , 2000 ) . early ohss is caused by the administration of exogenous human chorionic gonadotrophin  ( hcg ) and it starts before the 10th day after oocyte retrieval , while the late form is the result of endogenous human chorionic gonadotrophin release in the event of pregnancy , and it starts after the 10th day following oocyte aspiration  ( papanikolaou et al . , 2005 ; such strategies included the use of low dose gonadotropins and frequent monitoring during controlled ovarian stimulation , cycle cancellation , coasting , freeze all embryos and the use of gonadotropin releasing hormone  ( gnrh ) agonist as an oocyte trigger in gnrh antagonist cycles  ( rizk et al . the use of antagonist in the luteal phase with total freeze of embryos to prevent severe ohss has also been suggested  ( lainas et al . , 2012 ) . such strategies should be used especially in patients at high risk for developing severe ohss , including those who are young , have low body weight , have polycystic ovary syndrome , those who experience high estradiol levels , rapidly increasing estradiol levels , high number of follicles during controlled ovarian stimulation and those with high number of oocytes retrieved  ( rizk and aboulghar , 1999 ; delvigne , 2009 ) . dopamine agonists have been proposed for the prevention of ohss in women at high risk . however , the study by lvarez et al .  ( 2007 ) suggested that it was only effective in reducing the incidence of moderate ohss , but not in its severe form  ( alvarez et al . , 2007 ) . low - dose aspirin therapy and doxycycline have also been suggested to inhibit angiogenesis  ( fainaru et al . , 2009 ) . ( 2011 ) believes that the concept of an ohss - free clinic has become a reality . the authors suggest that this approach should include pituitary down - regulation using a gnrh antagonist , ovulation triggering with a gnrh agonist and vitrification of oocytes or embryos  ( devroey et al . , 2011 ) . severe and critical forms of ohss are associated with significant ascites  ( golan et al . , 1989 ; rizk et al . , ascites results in an increased abdominal pressure compromising venous return , cardiac output and renal perfusion  ( navot et al . paracentesis is frequently needed , as prompt drainage of fluid produces a significant clinical and biochemical improvement , including spontaneous diuresis and hastening the resolution process  ( rizk et al . , multiple paracenteses may be required to relieve symptoms and avoid serious sequelae of hemoconcentration , hypotension , decreased renal perfusion and severe respiratory compromise . instead of multiple interventions , the placement of a catheter temporarily for a few days will permit complete drainage through one procedure  ( rizk and aboulghar , 1999 ) . pigtail catheters have been used for drainage in various clinical situations . in a previous study we described the use of percutaneous placement of a pigtail catheter for drainage of ascites caused by severe / critical ohss  ( abuzeid et al . , 2003 ) . in this study we established the efficacy and safety of pigtail catheter drainage in the management of severe / critical ohss in patients who underwent in vitro fertilization and embryo transfer at our centre between 1999 and 2001 on both inpatient and outpatient basis . the aim of the current study was to evaluate the role of the pigtail catheter drainage in outpatient management of patients with early onset severe ohss .',\n",
       " 'this is a retrospective study that included all patients who underwent in vitro fertilization and developed severe or critical ohss by the golan classification  ( golan et al . , 1989 ) in the period between 2004 and 2009 . all patients underwent an ultrasound evaluation which documented the presence of severe ascites and bilateral ovarian enlargement . all patients presented with shortness of breath , marked abdominal distension , nausea , weight gain and lower abdominal pain . thirteen patients complained of vomiting , and 3 patients reported decreased urine output  ( less than 720 cc per 24  hours ) and had haemoglobin   15 g / dl . all 33 patients were offered treatment using pigtail catheter insertion as an alternative to trans - vaginal paracentesis . blood studies including a complete blood count , creatinine , electrolytes , serum albumin and total protein , and coagulation panel were ordered prior to the procedure . all 33  patients were rehydrated with intravenous crystalloid solutions  ( 0.9% normal saline ) . care was taken to give the patient the same amount of fluid as the amount that was drained from the peritoneal cavity .   all pigtail catheter placements were performed in the operating room at our surgical centre . the catheter  ( 6 - 0 french , 2.0 mm , boston scientific , quincy , ma , usa ) was introduced utilizing a non - disposable metal gamete intra - fallopian treatment  ( gift ) trocar and cannula  ( embryon gift catheter , ivf online , gilford , ct , usa ) which was introduced into the largest accessible ascitic fluid pocket in the upper outer quadrant of the abdominal wall under local anaesthesia and trans - abdominal ultrasound guidance . the trocar was then removed and a glide wire  ( boston scientific corp . , watertown , ma , usa ) was threaded through the gift canula . the canula was removed with care so as to keep the glide wire in the peritoneal cavity . the pigtail catheter was guided into the peritoneal cavity by the wire after removal of the stylet of the pigtail catheter . the catheter was anchored to the skin using 2 - 0 silk suture and it was supported by gauze , which was covered by a tegaderm . the catheter was connected to a three - way stop cock which was connected to a drainage bag . initial amount of drained fluid was calculated and subsequently the patients were trained to drain 1000 cc per day  ( 500 cc in the morning and 500 cc in the evening ) . one liter normal saline and 500 cc of 6% hydroxyethyle starch solution  ( hespan ) was administered to the patient on the same day of pigtail catheter placement . any patient with critical ohss according to the golan classification , or those in whom the presenting symptoms and signs did not completely subside after drainage of ascitic fluid and iv fluid replacement , were admitted to the hospital for observation and further management . all other patients were sent home . once there was minimal or no drainage from the catheter , the patient returned to the office for removal of the catheter . the patients were encouraged to drink plenty of fluids and to increase their protein intake . all patients kept a diary for body weight , abdominal girth , and urine output before and after the procedure . patients were seen in the office as needed for evaluation and hydration with normal saline .',\n",
       " 'demographic data including mean age  ( years ) , duration of infertility  ( years ) , bmi  ( kg / m2 ) and aetiology of infertility are illustrated in table i. ovarian stimulation data including number of treatment days , total dose of recombinant follicle stimulating hormone , hormone serum levels , endometrial thickness , number of follicles and number of patients receiving only 5000 iu of human chorionic gonadotrophin is illustrated in table ii . our data include the number of patients requiring early versus late placement of pigtail catheter , mean amount of ascitic fluid drained immediately after pigtail placement , number of days of pigtail catheter drainage and the number of days between oocyte retrieval and the onset of severe ohss symptoms requiring pigtail placement . table iii also illustrates the number of patients who underwent coasting , number of patients who received prophylactic hespan on day of egg retrieval . values are expressed as mean + standard deviation values are expressed as mean  +  standard deviation : rfsh  =  recombinant fsh ; hmg  = human menopausal gonadotropins ; hcg  =  human chorionic gonadotropin ; e2  =  estradiol values are expressed as mean + standard deviation three patients  ( 9% ) required an early placement of a pigtail catheter while 30 patients  ( 91% ) had late placement of the catheter  ( table iii ) . twenty - nine patients  ( 88% ) were managed on an outpatient basis without any complications . four patients  ( 12% ) required hospital admission for 1 - 7 days  ( 3 + 2.7 ) , three for associated severe pleural effusion requiring thoracentesis . these three patients were admitted to the hospital immediately after insertion of the pigtail catheter for management of severe pleural effusion and careful observation . one patient was admitted 48 hours after insertion of the pigtail catheter for work up for chest pain , all tests were negative .',\n",
       " 'navot et al . , 1992 ; rizk and aboulghar , 1999 ) , but perhaps the most accepted classification of ohss is the one described by golan et al as mild , moderate and severe  ( golan et al . , 1989 ) . however , clinicians should be aware that ohss is a dynamic condition and moderate ohss may progress to severe ohss within hours  ( rizk and aboulghar , 1999 ; rizk , 2009 ) . therefore , the practice committee of the american society for reproductive medicine  ( asrm ) proposed a classification for ohss of mild , worsening and serious  ( the practice committee of the american society for reproductive medicine , 2008 ) . recognizing the patients at high - risk , prevention and early recognition are the most important steps in the management of ohss  ( rizk , 2006 ) . however , severe forms of ohss , especially late onset type that occurs when patients are pregnant , most likely will continue to happen , albeit at much lower rate , unless one reverts to a total freeze of all embryos after the use of gnrh agonist as a trigger shot in a gnrh antagonist cycle  ( donoso and devroey , 2013 ; devroey et al . , 2011 ) . traditional treatment consists mainly of supportive management until spontaneous resolution occurs  ( rizk , 1994 ) . although moderate ohss does not usually require intervention , outpatient monitoring is essential to identify progression to a severe form  ( rizk , 2006 ) . patients with moderate ohss can be managed on an outpatient basis by adequate hydration and close daily monitoring of weight gain and abdominal girth to detect progression to severe ohss , and to provide intervention , if required  ( rizk , 2010 ) . patients presenting with severe forms of ohss are usually managed on inpatient basis and most patients with critical ohss are admitted to intensive care units for aggressive supportive measures to avoid maternal morbidity and mortality  ( the practice committee of the american society for reproductive medicine , 2008 ) . correction of hypovolemia , electrolyte imbalance and hypoalbuminemia are the basic principles during the treatment of severe ohss  ( rizk , 1994 , 2006 ; myrianthefs et al . , 2000 ) . ( 1992 ) suggested that paracentesis is the single most important treatment modality in life - threatening ohss not controlled by medical therapy . paracentesis and removal of ascites result in relieving the pressure on the inferior vena cava and improvement in venous return , cardiac output and renal perfusion  ( padilla et al . , 1990 ) . therefore , prompt drainage of fluid produces significant clinical and biochemical improvement , including spontaneous diuresis and hastening the resolution process  ( abuzeid et al . , 2003 ; the practice committee of the american society for reproductive medicine , 2008 ) . it is also possible that removal of ascites decreases the amount of vegf and its effects on vascular permeability . therefore ultrasound guided drainage of the ascitic fluid should be performed in severe cases of ohss with respiratory distress , oliguria or severe abdominal pain  ( padilla et al . , 1990 ) . this can be done either trans - vaginally  ( aboulghar et al . , 1990 ) or trans - abdominally  ( padilla et al . , 1990 ) . however , recurrence of ascites is common in severe cases of ohss . placement of a pigtail catheter has been proposed by some investigators to allow drainage of ascitic fluid whenever it accumulates without the need for further surgical procedures  ( abuzeid et al . , 2003 ) . in a previous study we reported the use of percutaneous pigtail catheter for drainage of ascites in severe ohss as an alternative to repeated paracentesis  ( abuzeid et al . , 2003 ) . this procedure is relatively simple and requires a short period of time as compared to the time needed to gradually aspirate any fluid accumulation transvaginally . immediate relief of symptoms and signs of severe ohss after pigtail catheter insertion was an important finding . in addition , the ease by which any accumulated ascitic fluid was drained resulted in a faster resolution of ohss  ( abuzeid et al . , no infection was reported  ( abuzeid et al . , 2003 ) . in that study the first 13 patients they were discharged home with the pigtail catheter in place and managed on an outpatient basis until ohss subsided ; thereafter the catheter was removed . the last 13 patients were managed on an outpatient basis without any problem  ( abuzeid mi , et al . , 2003 ) . our previous study confirmed the safety and effectiveness of the pigtail catheter for the management of severe ohss . therefore , we embarked on the current study to evaluate the role of pigtail catheter drainage in outpatient management of patients with severe ohss syndrome . in the current study we demonstrated that patients who were diagnosed very early with severe ohss can be managed safely and effectively on outpatient basis using pigtail catheter drainage , iv fluid replacement and careful monitoring . although all 33 patients presented with shortness of breath , marked abdominal distension , nausea , weight gain and lower abdominal pain , and 13 of them complained of vomiting ,  ( all are criteria for hospital admission according to the practice committee of the american society for reproductive medicine on ohss ) , 30 patients were sent home as their presenting symptoms were relieved . early diagnosis and intervention resulted in rapid elimination of the symptoms of severe ohss and normalization of vital signs , which allow us to manage the patients on outpatient basis . the pigtail catheter placements were performed without complications and patients were discharged home after a few hours of observation . the patients who needed hospital admission were those with associated severe pleural effusion requiring thoracentesis . another patient was admitted to the hospital for 1 day for work up for chest pain and possible diagnosis of pulmonary embolism . once pulmonary embolism was ruled out , she was discharged home with a pigtail catheter in place and she was managed on outpatient basis . outpatient management of ohss has no place in those who fail to have complete resolutions of their symptoms , or those with severe hyperproteinuria or electrolyte imbalance . certainly it has no place in patients with critical ohss such as those with severe pleural effusion , diminished urine output , severe hemoconcentration and those at increased risk of thromboembolic risks  ( rizk , 2010 ) . it is imperative to stress that such a protocol can only be used in patients who are motivated , reliable and have the necessary support at home to allow them to return to the clinic or go to the emergency room if the need arises . it also requires dedicated in vitro fertilization nurses to educate and follow up the patient on a daily basis . contrary to other reports that state that access to intravenous albumin is a critical part of outpatient management for severe ohss , we did not use any albumin replacement  ( lincoln et al . , 2002 ) . the reason behind the use of intravenous albumin is to increase intravascular oncotic pressure , thereby curtailing the exodus of free water from the intravascular space . in our study we used hespan instead of albumin , as some investigators have shown that it is beneficial in reducing the incidence of severe ohss  ( youssef et al . , 2011 ) . by increasing the intravascular oncotic pressure in addition , the majority of our patients had late onset ohss as a result of pregnancy . hespan should be used with caution in patients with late onset ohss only when benefits outweigh risks.it is a fact that outpatient management of early severe ohss is a common practice among infertility specialists after trans - vaginal aspiration of ascitic fluid and iv fluid hydration . outpatient management by repeated abdominal or trans - vaginal paracentesis has been reported to be safe , effective and cost effective  ( lincoln et al . , 2002 ; shrivastav et al . , 1994 ; fluker et al . , 2000 ( 1994 ) were the first to suggest that day care management in patients with severe ohss with abdominal paracentesis and iv hydration was simple , safe and effective compared with traditional treatment with in - patient hospitalization and supportive measures . ( 2002 ) concluded that the need for hospitalization for hyperstimulated patients can be minimized by outpatient management of severe ohss with trans - vaginal culdocentesis and rehydration with crystalloids and albumin . ( 2000 ) advocated in a pilot study an active management strategy for moderate ohss , which involved early paracentesis designed to minimize the progression from moderate to severe ohss , instead of late paracentesis aimed at speeding up recovery in severely ill patients . ( 2010 ) concluded that early outpatient paracentesis for moderate to severe ohss is the most cost effective management plan when compared with traditional conservative inpatient therapy . ( 2009 ) reported a large series of patients with severe ohss in whom the vast majority were successfully managed as outpatients with use of aggressive trans - vaginal paracentesis  ( smith et al . , 2009 ) . despite the findings in our study it is important to emphasize that ohss remains a serious disorder with the potential for rapid deterioration , requiring hospitalization and intensive treatment of a critically ill patient . the life - threatening complications of ohss are secondary to thromboembolism or compromised pulmonary or cardiovascular function and multi - organ failure . there have been isolated reports of women dying from the complications associated with ohss . the mortality rate related to ohss is very low and was estimated by brinsden et al .  more recently , reports regarding maternal mortality rates due to ohss in the netherlands and united kingdom demonstrate an incidence of approximately 3 deaths per 100,000 in ivf cycles  ( braat et al . , 2006 ; lewis , 2007 ) . eleven lethal complications of assisted reproductive technology have been documented and summarized by braat et al .  several investigators reported sporadic fatality as a result of ohss due to adult respiratory distress syndrome , massive pulmonary oedema , myocardial infarction , and carotid artery occlusion resulting in cerebral infarction . in this study we describe a modified technique of what interventional radiologists usually use for pigtail catheter placement . we observed that in the obese patients the metal introducer provided in the pigtail catheter kit is difficult to use ; instead we used the non disposable gamete intra - fallopian treatment trocar and cannula to facilitate the introduction of the catheter through the abdominal wall of such patients . this technique helps to manage the patients in the office without the need for sending her to the hospital for an interventional radiologist to place the catheter . however , the patients in this study were identified from our in vitro fertilization database ; the study included every patient who developed severe / critical ohss . in addition , the lack of a control group that was managed without pigtail catheter placement limits the conclusions that can be drawn from our study . in summary , drainage of ascitic fluid in patients with severe / critical ohss is an important step in the management of this condition  ( rizk , 2010 ) . the placement of a pigtail catheter resulted in a safe and effective outpatient management of the majority of patients with severe ohss . however , outpatient management of this potentially fatal condition requires clear understanding that rapid deterioration may occur , which may necessitate hospitalization and intensive treatment of a critically ill patient  ( rizk , 2006 , 2010 ) . patients with critical ohss and those with persistence of symptoms of severe ohss despite insertion of a pigtail catheter and drainage of ascitic fluid should be admitted to the hospital for inpatient management .',\n",
       " 'ohss is a serious complication of ovulation induction , occurring in 1 - 10% of in vitro fertilization patients  ( rizk and aboulghar , 1991 ; brinsden et al . , 1995 ) . this iatrogenic condition has a spectrum of clinical and laboratory manifestations ranging from mild to severe , even life - threatening conditions  ( rizk et al . , 1990 ) . among the serious manifestations of ohss are ascites and pleural effusion  ( rizk and smitz , 1992 ) . vascular endothelial growth factor has emerged as one of the factors most likely involved in the pathophysiology of ohss  ( geva and jaffe , 2000 ; rizk and aboulghar , 2010 ) . vascular endothelial growth factor is an angiogenic cytokine that is a potent stimulator of the vascular endothelium and appears to play an integral role in follicular growth , corpus luteum function and ovarian angiogenesis  ( rizk et al . , 1997 ) . vascular endothelial growth factor causes increased capillary permeability with its sequelae of ascites and possible pleural effusion  ( rizk et al . , 1997 ; gomez et al . , 2002 ) . human chorionic gonadotrophin is thought to play a crucial role in the development of ohss  ( rizk et al . two distinct forms of severe ohss have been described : early and late forms  ( papanikolaou et al . , 2005 ; mathur et al . , 2000 ) . early ohss is caused by the administration of exogenous human chorionic gonadotrophin  ( hcg ) and it starts before the 10th day after oocyte retrieval , while the late form is the result of endogenous human chorionic gonadotrophin release in the event of pregnancy , and it starts after the 10th day following oocyte aspiration  ( papanikolaou et al . , 2005 ; such strategies included the use of low dose gonadotropins and frequent monitoring during controlled ovarian stimulation , cycle cancellation , coasting , freeze all embryos and the use of gonadotropin releasing hormone  ( gnrh ) agonist as an oocyte trigger in gnrh antagonist cycles  ( rizk et al . the use of antagonist in the luteal phase with total freeze of embryos to prevent severe ohss has also been suggested  ( lainas et al . , 2012 ) . such strategies should be used especially in patients at high risk for developing severe ohss , including those who are young , have low body weight , have polycystic ovary syndrome , those who experience high estradiol levels , rapidly increasing estradiol levels , high number of follicles during controlled ovarian stimulation and those with high number of oocytes retrieved  ( rizk and aboulghar , 1999 ; delvigne , 2009 ) . dopamine agonists have been proposed for the prevention of ohss in women at high risk . however , the study by lvarez et al .  ( 2007 ) suggested that it was only effective in reducing the incidence of moderate ohss , but not in its severe form  ( alvarez et al . , 2007 ) . low - dose aspirin therapy and doxycycline have also been suggested to inhibit angiogenesis  ( fainaru et al . , 2009 ) . ( 2011 ) believes that the concept of an ohss - free clinic has become a reality . the authors suggest that this approach should include pituitary down - regulation using a gnrh antagonist , ovulation triggering with a gnrh agonist and vitrification of oocytes or embryos  ( devroey et al . , 2011 ) . severe and critical forms of ohss are associated with significant ascites  ( golan et al . , 1989 ; rizk et al . , ascites results in an increased abdominal pressure compromising venous return , cardiac output and renal perfusion  ( navot et al . paracentesis is frequently needed , as prompt drainage of fluid produces a significant clinical and biochemical improvement , including spontaneous diuresis and hastening the resolution process  ( rizk et al . , multiple paracenteses may be required to relieve symptoms and avoid serious sequelae of hemoconcentration , hypotension , decreased renal perfusion and severe respiratory compromise . instead of multiple interventions , the placement of a catheter temporarily for a few days will permit complete drainage through one procedure  ( rizk and aboulghar , 1999 ) . pigtail catheters have been used for drainage in various clinical situations . in a previous study we described the use of percutaneous placement of a pigtail catheter for drainage of ascites caused by severe / critical ohss  ( abuzeid et al . , 2003 ) . in this study we established the efficacy and safety of pigtail catheter drainage in the management of severe / critical ohss in patients who underwent in vitro fertilization and embryo transfer at our centre between 1999 and 2001 on both inpatient and outpatient basis . the aim of the current study was to evaluate the role of the pigtail catheter drainage in outpatient management of patients with early onset severe ohss .',\n",
       " 'this is a retrospective study that included all patients who underwent in vitro fertilization and developed severe or critical ohss by the golan classification  ( golan et al . , 1989 ) in the period between 2004 and 2009 . all patients underwent an ultrasound evaluation which documented the presence of severe ascites and bilateral ovarian enlargement . all patients presented with shortness of breath , marked abdominal distension , nausea , weight gain and lower abdominal pain . thirteen patients complained of vomiting , and 3 patients reported decreased urine output  ( less than 720 cc per 24  hours ) and had haemoglobin   15 g / dl . all 33 patients were offered treatment using pigtail catheter insertion as an alternative to trans - vaginal paracentesis . blood studies including a complete blood count , creatinine , electrolytes , serum albumin and total protein , and coagulation panel were ordered prior to the procedure . all 33  patients were rehydrated with intravenous crystalloid solutions  ( 0.9% normal saline ) . care was taken to give the patient the same amount of fluid as the amount that was drained from the peritoneal cavity .   all pigtail catheter placements were performed in the operating room at our surgical centre . the catheter  ( 6 - 0 french , 2.0 mm , boston scientific , quincy , ma , usa ) was introduced utilizing a non - disposable metal gamete intra - fallopian treatment  ( gift ) trocar and cannula  ( embryon gift catheter , ivf online , gilford , ct , usa ) which was introduced into the largest accessible ascitic fluid pocket in the upper outer quadrant of the abdominal wall under local anaesthesia and trans - abdominal ultrasound guidance . the trocar was then removed and a glide wire  ( boston scientific corp . , watertown , ma , usa ) was threaded through the gift canula . the canula was removed with care so as to keep the glide wire in the peritoneal cavity . the pigtail catheter was guided into the peritoneal cavity by the wire after removal of the stylet of the pigtail catheter . the catheter was anchored to the skin using 2 - 0 silk suture and it was supported by gauze , which was covered by a tegaderm . the catheter was connected to a three - way stop cock which was connected to a drainage bag . initial amount of drained fluid was calculated and subsequently the patients were trained to drain 1000 cc per day  ( 500 cc in the morning and 500 cc in the evening ) . one liter normal saline and 500 cc of 6% hydroxyethyle starch solution  ( hespan ) was administered to the patient on the same day of pigtail catheter placement . any patient with critical ohss according to the golan classification , or those in whom the presenting symptoms and signs did not completely subside after drainage of ascitic fluid and iv fluid replacement , were admitted to the hospital for observation and further management . all other patients were sent home . once there was minimal or no drainage from the catheter , the patient returned to the office for removal of the catheter . the patients were encouraged to drink plenty of fluids and to increase their protein intake . all patients kept a diary for body weight , abdominal girth , and urine output before and after the procedure . patients were seen in the office as needed for evaluation and hydration with normal saline .',\n",
       " 'ohss is a serious complication of ovulation induction , occurring in 1 - 10% of in vitro fertilization patients  ( rizk and aboulghar , 1991 ; brinsden et al . , 1995 ) . this iatrogenic condition has a spectrum of clinical and laboratory manifestations ranging from mild to severe , even life - threatening conditions  ( rizk et al . , 1990 ) . among the serious manifestations of ohss are ascites and pleural effusion  ( rizk and smitz , 1992 ) . vascular endothelial growth factor has emerged as one of the factors most likely involved in the pathophysiology of ohss  ( geva and jaffe , 2000 ; rizk and aboulghar , 2010 ) . vascular endothelial growth factor is an angiogenic cytokine that is a potent stimulator of the vascular endothelium and appears to play an integral role in follicular growth , corpus luteum function and ovarian angiogenesis  ( rizk et al . , 1997 ) . vascular endothelial growth factor causes increased capillary permeability with its sequelae of ascites and possible pleural effusion  ( rizk et al . , 1997 ; gomez et al . , 2002 ) . human chorionic gonadotrophin is thought to play a crucial role in the development of ohss  ( rizk et al . two distinct forms of severe ohss have been described : early and late forms  ( papanikolaou et al . , 2005 ; mathur et al . , 2000 ) . early ohss is caused by the administration of exogenous human chorionic gonadotrophin  ( hcg ) and it starts before the 10th day after oocyte retrieval , while the late form is the result of endogenous human chorionic gonadotrophin release in the event of pregnancy , and it starts after the 10th day following oocyte aspiration  ( papanikolaou et al . , 2005 ; such strategies included the use of low dose gonadotropins and frequent monitoring during controlled ovarian stimulation , cycle cancellation , coasting , freeze all embryos and the use of gonadotropin releasing hormone  ( gnrh ) agonist as an oocyte trigger in gnrh antagonist cycles  ( rizk et al . the use of antagonist in the luteal phase with total freeze of embryos to prevent severe ohss has also been suggested  ( lainas et al . , 2012 ) . such strategies should be used especially in patients at high risk for developing severe ohss , including those who are young , have low body weight , have polycystic ovary syndrome , those who experience high estradiol levels , rapidly increasing estradiol levels , high number of follicles during controlled ovarian stimulation and those with high number of oocytes retrieved  ( rizk and aboulghar , 1999 ; delvigne , 2009 ) . dopamine agonists have been proposed for the prevention of ohss in women at high risk . however , the study by lvarez et al .  ( 2007 ) suggested that it was only effective in reducing the incidence of moderate ohss , but not in its severe form  ( alvarez et al . , 2007 ) . low - dose aspirin therapy and doxycycline have also been suggested to inhibit angiogenesis  ( fainaru et al . , 2009 ) . ( 2011 ) believes that the concept of an ohss - free clinic has become a reality . the authors suggest that this approach should include pituitary down - regulation using a gnrh antagonist , ovulation triggering with a gnrh agonist and vitrification of oocytes or embryos  ( devroey et al . , 2011 ) . severe and critical forms of ohss are associated with significant ascites  ( golan et al . , 1989 ; rizk et al . , ascites results in an increased abdominal pressure compromising venous return , cardiac output and renal perfusion  ( navot et al . paracentesis is frequently needed , as prompt drainage of fluid produces a significant clinical and biochemical improvement , including spontaneous diuresis and hastening the resolution process  ( rizk et al . , multiple paracenteses may be required to relieve symptoms and avoid serious sequelae of hemoconcentration , hypotension , decreased renal perfusion and severe respiratory compromise . instead of multiple interventions , the placement of a catheter temporarily for a few days will permit complete drainage through one procedure  ( rizk and aboulghar , 1999 ) . pigtail catheters have been used for drainage in various clinical situations . in a previous study we described the use of percutaneous placement of a pigtail catheter for drainage of ascites caused by severe / critical ohss  ( abuzeid et al . , 2003 ) . in this study we established the efficacy and safety of pigtail catheter drainage in the management of severe / critical ohss in patients who underwent in vitro fertilization and embryo transfer at our centre between 1999 and 2001 on both inpatient and outpatient basis . the aim of the current study was to evaluate the role of the pigtail catheter drainage in outpatient management of patients with early onset severe ohss .']"
      ]
     },
     "execution_count": 14,
     "metadata": {},
     "output_type": "execute_result"
    }
   ],
   "source": [
    "raw_datasets['test']['sections'][0]"
   ]
  }
 ],
 "metadata": {
  "kernelspec": {
   "display_name": "summarization",
   "language": "python",
   "name": "python3"
  },
  "language_info": {
   "codemirror_mode": {
    "name": "ipython",
    "version": 3
   },
   "file_extension": ".py",
   "mimetype": "text/x-python",
   "name": "python",
   "nbconvert_exporter": "python",
   "pygments_lexer": "ipython3",
   "version": "3.11.7"
  }
 },
 "nbformat": 4,
 "nbformat_minor": 2
}
