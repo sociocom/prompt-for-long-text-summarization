{
 "cells": [
  {
   "cell_type": "code",
   "execution_count": 1,
   "metadata": {},
   "outputs": [
    {
     "name": "stderr",
     "output_type": "stream",
     "text": [
      "/home/is/kaifan-l/miniconda3/envs/summarization/lib/python3.11/site-packages/tqdm/auto.py:21: TqdmWarning: IProgress not found. Please update jupyter and ipywidgets. See https://ipywidgets.readthedocs.io/en/stable/user_install.html\n",
      "  from .autonotebook import tqdm as notebook_tqdm\n"
     ]
    }
   ],
   "source": [
    "from transformers import AutoTokenizer, MBartForConditionalGeneration\n",
    "tokenizer = AutoTokenizer.from_pretrained('ku-nlp/bart-base-japanese')\n",
    "model = MBartForConditionalGeneration.from_pretrained('ku-nlp/bart-base-japanese')"
   ]
  },
  {
   "cell_type": "code",
   "execution_count": null,
   "metadata": {},
   "outputs": [],
   "source": [
    "本稿では実際に計算機上で試作した論説文要約システムに関して, これで用いられている論説文要約の手法の紹介と, これによって出力された文章の評価を行う."
   ]
  },
  {
   "cell_type": "code",
   "execution_count": 8,
   "metadata": {},
   "outputs": [],
   "source": [
    "sentence = '本稿 では 実際に 計算機上 で試作した 論説文 要約システム に 関して, これで 用 いられている 論説文 要約の 手法の 紹介と, これ によって 出力された 文章の 評価を 行う.'  # input should be segmented into words by Juman++ in advance\n",
    "encoding = tokenizer(sentence, return_tensors='pt')"
   ]
  },
  {
   "cell_type": "code",
   "execution_count": 9,
   "metadata": {},
   "outputs": [
    {
     "data": {
      "text/plain": [
       "{'input_ids': tensor([[    0, 18573, 24285,  1367, 28430,  3126, 28626, 28536,    12, 28884,\n",
       "         28540,   198, 23644, 28673, 21607, 21699,     7,  2210,     3,   180,\n",
       "         28439,   235, 21911,   630, 28441, 28433, 23644, 28673, 21607, 28428,\n",
       "          3713, 28428,  1972, 28436,     3,   180,     7, 28476,    44,  3331,\n",
       "         28459,   483,  7118, 28428,  1418, 28437,   794,     3,     2]]), 'attention_mask': tensor([[1, 1, 1, 1, 1, 1, 1, 1, 1, 1, 1, 1, 1, 1, 1, 1, 1, 1, 1, 1, 1, 1, 1, 1,\n",
       "         1, 1, 1, 1, 1, 1, 1, 1, 1, 1, 1, 1, 1, 1, 1, 1, 1, 1, 1, 1, 1, 1, 1, 1,\n",
       "         1]])}"
      ]
     },
     "execution_count": 9,
     "metadata": {},
     "output_type": "execute_result"
    }
   ],
   "source": [
    "encoding"
   ]
  },
  {
   "cell_type": "code",
   "execution_count": 2,
   "metadata": {},
   "outputs": [
    {
     "ename": "Exception",
     "evalue": "Can't find JUMAN command: jumanpp",
     "output_type": "error",
     "traceback": [
      "\u001b[0;31m---------------------------------------------------------------------------\u001b[0m",
      "\u001b[0;31mException\u001b[0m                                 Traceback (most recent call last)",
      "Cell \u001b[0;32mIn[2], line 3\u001b[0m\n\u001b[1;32m      1\u001b[0m \u001b[38;5;28;01mfrom\u001b[39;00m \u001b[38;5;21;01mpyknp\u001b[39;00m \u001b[38;5;28;01mimport\u001b[39;00m Juman\n\u001b[0;32m----> 3\u001b[0m jumanpp \u001b[38;5;241m=\u001b[39m \u001b[43mJuman\u001b[49m\u001b[43m(\u001b[49m\u001b[43m)\u001b[49m\n\u001b[1;32m      5\u001b[0m text \u001b[38;5;241m=\u001b[39m \u001b[38;5;124m'\u001b[39m\u001b[38;5;124m吾輩は猫である.\u001b[39m\u001b[38;5;124m'\u001b[39m\n\u001b[1;32m      6\u001b[0m mlist \u001b[38;5;241m=\u001b[39m jumanpp\u001b[38;5;241m.\u001b[39manalysis(text)\n",
      "File \u001b[0;32m~/miniconda3/envs/summarization/lib/python3.11/site-packages/pyknp/juman/juman.py:66\u001b[0m, in \u001b[0;36mJuman.__init__\u001b[0;34m(self, command, server, port, timeout, option, rcfile, ignorepattern, pattern, jumanpp, multithreading)\u001b[0m\n\u001b[1;32m     64\u001b[0m     \u001b[38;5;28;01mraise\u001b[39;00m \u001b[38;5;167;01mException\u001b[39;00m(\u001b[38;5;124m\"\u001b[39m\u001b[38;5;124mCan\u001b[39m\u001b[38;5;124m'\u001b[39m\u001b[38;5;124mt read rcfile (\u001b[39m\u001b[38;5;132;01m%s\u001b[39;00m\u001b[38;5;124m)!\u001b[39m\u001b[38;5;124m\"\u001b[39m \u001b[38;5;241m%\u001b[39m \u001b[38;5;28mself\u001b[39m\u001b[38;5;241m.\u001b[39mrcfile)\n\u001b[1;32m     65\u001b[0m \u001b[38;5;28;01mif\u001b[39;00m distutils\u001b[38;5;241m.\u001b[39mspawn\u001b[38;5;241m.\u001b[39mfind_executable(\u001b[38;5;28mself\u001b[39m\u001b[38;5;241m.\u001b[39mcommand) \u001b[38;5;129;01mis\u001b[39;00m \u001b[38;5;28;01mNone\u001b[39;00m:\n\u001b[0;32m---> 66\u001b[0m     \u001b[38;5;28;01mraise\u001b[39;00m \u001b[38;5;167;01mException\u001b[39;00m(\u001b[38;5;124m\"\u001b[39m\u001b[38;5;124mCan\u001b[39m\u001b[38;5;124m'\u001b[39m\u001b[38;5;124mt find JUMAN command: \u001b[39m\u001b[38;5;132;01m%s\u001b[39;00m\u001b[38;5;124m\"\u001b[39m \u001b[38;5;241m%\u001b[39m \u001b[38;5;28mself\u001b[39m\u001b[38;5;241m.\u001b[39mcommand)\n",
      "\u001b[0;31mException\u001b[0m: Can't find JUMAN command: jumanpp"
     ]
    }
   ],
   "source": [
    "from pyknp import Juman\n",
    "\n",
    "jumanpp = Juman()\n",
    "\n",
    "text = '吾輩は猫である.'\n",
    "mlist = jumanpp.analysis(text)\n",
    "\n",
    "print([mrph.midasi for mrph in mlist.mrph_list()])\n",
    "# ['吾輩', 'は', '猫', 'である', '。']"
   ]
  },
  {
   "cell_type": "code",
   "execution_count": 3,
   "metadata": {},
   "outputs": [
    {
     "name": "stdout",
     "output_type": "stream",
     "text": [
      "['日本語のテキストを分割するのに使える。英語と同様、文単位に分割することが可能。']\n"
     ]
    },
    {
     "name": "stderr",
     "output_type": "stream",
     "text": [
      "[nltk_data] Downloading package punkt to\n",
      "[nltk_data]     /home/is/kaifan-l/nltk_data...\n",
      "[nltk_data]   Package punkt is already up-to-date!\n"
     ]
    }
   ],
   "source": [
    "import nltk\n",
    "nltk.download('punkt')  # 下载标点符号模型\n",
    "\n",
    "from nltk.tokenize import sent_tokenize\n",
    "\n",
    "japanese_text = \"日本語のテキストを分割するのに使える。 英語と同様、文単位に分割することが可能。\"\n",
    "\n",
    "sentences = sent_tokenize(japanese_text)\n",
    "print(sentences)\n"
   ]
  },
  {
   "cell_type": "code",
   "execution_count": 1,
   "metadata": {},
   "outputs": [
    {
     "name": "stderr",
     "output_type": "stream",
     "text": [
      "/home/is/kaifan-l/miniconda3/envs/summarization/lib/python3.11/site-packages/tqdm/auto.py:21: TqdmWarning: IProgress not found. Please update jupyter and ipywidgets. See https://ipywidgets.readthedocs.io/en/stable/user_install.html\n",
      "  from .autonotebook import tqdm as notebook_tqdm\n"
     ]
    }
   ],
   "source": [
    "from transformers import AutoTokenizer, AutoModelForSeq2SeqLM\n",
    "tokenizer = AutoTokenizer.from_pretrained('ku-nlp/bart-base-japanese')\n",
    "model = AutoModelForSeq2SeqLM.from_pretrained('ku-nlp/bart-base-japanese')\n",
    "sentence = '京都 大学 で 自然 言語 処理 を 専攻 する 。'  # input should be segmented into words by Juman++ in advance\n",
    "encoding = tokenizer(sentence, return_tensors='pt')\n"
   ]
  },
  {
   "cell_type": "code",
   "execution_count": 2,
   "metadata": {},
   "outputs": [
    {
     "data": {
      "text/plain": [
       "MBartForConditionalGeneration(\n",
       "  (model): MBartModel(\n",
       "    (shared): Embedding(32002, 768, padding_idx=1)\n",
       "    (encoder): MBartEncoder(\n",
       "      (embed_tokens): Embedding(32002, 768, padding_idx=1)\n",
       "      (embed_positions): MBartLearnedPositionalEmbedding(1026, 768)\n",
       "      (layers): ModuleList(\n",
       "        (0-5): 6 x MBartEncoderLayer(\n",
       "          (self_attn): MBartAttention(\n",
       "            (k_proj): Linear(in_features=768, out_features=768, bias=True)\n",
       "            (v_proj): Linear(in_features=768, out_features=768, bias=True)\n",
       "            (q_proj): Linear(in_features=768, out_features=768, bias=True)\n",
       "            (out_proj): Linear(in_features=768, out_features=768, bias=True)\n",
       "          )\n",
       "          (self_attn_layer_norm): LayerNorm((768,), eps=1e-05, elementwise_affine=True)\n",
       "          (activation_fn): GELUActivation()\n",
       "          (fc1): Linear(in_features=768, out_features=3072, bias=True)\n",
       "          (fc2): Linear(in_features=3072, out_features=768, bias=True)\n",
       "          (final_layer_norm): LayerNorm((768,), eps=1e-05, elementwise_affine=True)\n",
       "        )\n",
       "      )\n",
       "      (layernorm_embedding): LayerNorm((768,), eps=1e-05, elementwise_affine=True)\n",
       "      (layer_norm): LayerNorm((768,), eps=1e-05, elementwise_affine=True)\n",
       "    )\n",
       "    (decoder): MBartDecoder(\n",
       "      (embed_tokens): Embedding(32002, 768, padding_idx=1)\n",
       "      (embed_positions): MBartLearnedPositionalEmbedding(1026, 768)\n",
       "      (layers): ModuleList(\n",
       "        (0-5): 6 x MBartDecoderLayer(\n",
       "          (self_attn): MBartAttention(\n",
       "            (k_proj): Linear(in_features=768, out_features=768, bias=True)\n",
       "            (v_proj): Linear(in_features=768, out_features=768, bias=True)\n",
       "            (q_proj): Linear(in_features=768, out_features=768, bias=True)\n",
       "            (out_proj): Linear(in_features=768, out_features=768, bias=True)\n",
       "          )\n",
       "          (activation_fn): GELUActivation()\n",
       "          (self_attn_layer_norm): LayerNorm((768,), eps=1e-05, elementwise_affine=True)\n",
       "          (encoder_attn): MBartAttention(\n",
       "            (k_proj): Linear(in_features=768, out_features=768, bias=True)\n",
       "            (v_proj): Linear(in_features=768, out_features=768, bias=True)\n",
       "            (q_proj): Linear(in_features=768, out_features=768, bias=True)\n",
       "            (out_proj): Linear(in_features=768, out_features=768, bias=True)\n",
       "          )\n",
       "          (encoder_attn_layer_norm): LayerNorm((768,), eps=1e-05, elementwise_affine=True)\n",
       "          (fc1): Linear(in_features=768, out_features=3072, bias=True)\n",
       "          (fc2): Linear(in_features=3072, out_features=768, bias=True)\n",
       "          (final_layer_norm): LayerNorm((768,), eps=1e-05, elementwise_affine=True)\n",
       "        )\n",
       "      )\n",
       "      (layernorm_embedding): LayerNorm((768,), eps=1e-05, elementwise_affine=True)\n",
       "      (layer_norm): LayerNorm((768,), eps=1e-05, elementwise_affine=True)\n",
       "    )\n",
       "  )\n",
       "  (lm_head): Linear(in_features=768, out_features=32002, bias=False)\n",
       ")"
      ]
     },
     "execution_count": 2,
     "metadata": {},
     "output_type": "execute_result"
    }
   ],
   "source": [
    "model"
   ]
  },
  {
   "cell_type": "code",
   "execution_count": 2,
   "metadata": {},
   "outputs": [],
   "source": [
    "import evaluate \n",
    "\n",
    "metric = evaluate.load('rouge')"
   ]
  },
  {
   "cell_type": "code",
   "execution_count": 40,
   "metadata": {},
   "outputs": [
    {
     "data": {
      "text/plain": [
       "{'rouge1': 0.6, 'rouge2': 0.5, 'rougeL': 0.6, 'rougeLsum': 0.6}"
      ]
     },
     "execution_count": 40,
     "metadata": {},
     "output_type": "execute_result"
    }
   ],
   "source": [
    "metric.compute(predictions=['京都 大学 で を 専攻する。'], references=['京都 大学 で 自然言語 処理を専攻する。'],tokenizer=lambda x: x.split())"
   ]
  },
  {
   "cell_type": "code",
   "execution_count": 34,
   "metadata": {},
   "outputs": [
    {
     "data": {
      "text/plain": [
       "{'rouge-1': {'r': 0.5714285714285714, 'p': 0.8, 'f': 0.6666666618055556},\n",
       " 'rouge-2': {'r': 0.3333333333333333, 'p': 0.5, 'f': 0.39999999520000007},\n",
       " 'rouge-l': {'r': 0.5714285714285714, 'p': 0.8, 'f': 0.6666666618055556}}"
      ]
     },
     "execution_count": 34,
     "metadata": {},
     "output_type": "execute_result"
    }
   ],
   "source": [
    "from rouge import Rouge\n",
    "\n",
    "rouge = Rouge()\n",
    "predictions = ['日本語 は る 言語 である']\n",
    "labels = ['日本語 は 日本 で 使われている 言語 である']\n",
    "\n",
    "scores = rouge.get_scores(predictions, labels, avg=True)\n",
    "scores\n"
   ]
  },
  {
   "cell_type": "code",
   "execution_count": 29,
   "metadata": {},
   "outputs": [
    {
     "data": {
      "text/plain": [
       "{'rouge-1': {'r': 0.5714285714285714, 'p': 0.8, 'f': 0.6666666618055556},\n",
       " 'rouge-2': {'r': 0.3333333333333333, 'p': 0.5, 'f': 0.39999999520000007},\n",
       " 'rouge-l': {'r': 0.5714285714285714, 'p': 0.8, 'f': 0.6666666618055556}}"
      ]
     },
     "execution_count": 29,
     "metadata": {},
     "output_type": "execute_result"
    }
   ],
   "source": [
    "scores\n"
   ]
  },
  {
   "cell_type": "code",
   "execution_count": 21,
   "metadata": {},
   "outputs": [
    {
     "name": "stdout",
     "output_type": "stream",
     "text": [
      "[{'rouge-1': {'r': 1.0, 'p': 0.6666666666666666, 'f': 0.7999999952000001}, 'rouge-2': {'r': 0.0, 'p': 0.0, 'f': 0.0}, 'rouge-l': {'r': 1.0, 'p': 0.6666666666666666, 'f': 0.7999999952000001}}]\n"
     ]
    }
   ],
   "source": [
    "from rouge import Rouge\n",
    "\n",
    "# 参考摘要\n",
    "reference_summary = \"日本　摘要文本\"\n",
    "\n",
    "# 生成摘要\n",
    "generated_summary = \"日本　語　摘要文本\"\n",
    "\n",
    "rouge = Rouge()\n",
    "scores = rouge.get_scores(generated_summary, reference_summary)\n",
    "\n",
    "print(scores)\n"
   ]
  },
  {
   "cell_type": "code",
   "execution_count": 47,
   "metadata": {},
   "outputs": [],
   "source": [
    "from transformers import Seq2SeqTrainer, Seq2SeqTrainingArguments, AutoConfig\n",
    "config = AutoConfig.from_pretrained('ku-nlp/bart-base-japanese')\n",
    "training_args = Seq2SeqTrainingArguments(\n",
    "    output_dir=\"./\",\n",
    "    generation_config = AutoConfig.from_pretrained('ku-nlp/bart-base-japanese'), \n",
    ")\n"
   ]
  },
  {
   "cell_type": "code",
   "execution_count": 48,
   "metadata": {},
   "outputs": [
    {
     "name": "stdout",
     "output_type": "stream",
     "text": [
      "MBartConfig {\n",
      "  \"_name_or_path\": \"ku-nlp/bart-base-japanese\",\n",
      "  \"activation_dropout\": 0.1,\n",
      "  \"activation_function\": \"gelu\",\n",
      "  \"add_bias_logits\": false,\n",
      "  \"add_final_layer_norm\": true,\n",
      "  \"architectures\": [\n",
      "    \"MBartForConditionalGeneration\"\n",
      "  ],\n",
      "  \"attention_dropout\": 0.1,\n",
      "  \"bos_token_id\": 0,\n",
      "  \"classif_dropout\": 0.1,\n",
      "  \"classifier_dropout\": 0.0,\n",
      "  \"d_model\": 768,\n",
      "  \"decoder_attention_heads\": 12,\n",
      "  \"decoder_ffn_dim\": 3072,\n",
      "  \"decoder_layerdrop\": 0.0,\n",
      "  \"decoder_layers\": 6,\n",
      "  \"decoder_start_token_id\": 2,\n",
      "  \"do_blenderbot_90_layernorm\": false,\n",
      "  \"dropout\": 0.1,\n",
      "  \"early_stopping\": true,\n",
      "  \"encoder_attention_heads\": 12,\n",
      "  \"encoder_ffn_dim\": 3072,\n",
      "  \"encoder_layerdrop\": 0.0,\n",
      "  \"encoder_layers\": 6,\n",
      "  \"eos_token_id\": 2,\n",
      "  \"extra_pos_embeddings\": 2,\n",
      "  \"force_bos_token_to_be_generated\": false,\n",
      "  \"forced_eos_token_id\": 2,\n",
      "  \"id2label\": {\n",
      "    \"0\": \"LABEL_0\",\n",
      "    \"1\": \"LABEL_1\",\n",
      "    \"2\": \"LABEL_2\"\n",
      "  },\n",
      "  \"init_std\": 0.02,\n",
      "  \"is_encoder_decoder\": true,\n",
      "  \"label2id\": {\n",
      "    \"LABEL_0\": 0,\n",
      "    \"LABEL_1\": 1,\n",
      "    \"LABEL_2\": 2\n",
      "  },\n",
      "  \"max_position_embeddings\": 1024,\n",
      "  \"model_type\": \"mbart\",\n",
      "  \"no_repeat_ngram_size\": 3,\n",
      "  \"normalize_before\": true,\n",
      "  \"normalize_embedding\": true,\n",
      "  \"num_beams\": 4,\n",
      "  \"num_hidden_layers\": 6,\n",
      "  \"pad_token_id\": 1,\n",
      "  \"scale_embedding\": false,\n",
      "  \"static_position_embeddings\": false,\n",
      "  \"task_specific_params\": {\n",
      "    \"summarization\": {\n",
      "      \"length_penalty\": 1.0,\n",
      "      \"max_length\": 128,\n",
      "      \"min_length\": 12,\n",
      "      \"num_beams\": 4\n",
      "    },\n",
      "    \"summarization_cnn\": {\n",
      "      \"length_penalty\": 2.0,\n",
      "      \"max_length\": 142,\n",
      "      \"min_length\": 56,\n",
      "      \"num_beams\": 4\n",
      "    },\n",
      "    \"summarization_xsum\": {\n",
      "      \"length_penalty\": 1.0,\n",
      "      \"max_length\": 62,\n",
      "      \"min_length\": 11,\n",
      "      \"num_beams\": 6\n",
      "    }\n",
      "  },\n",
      "  \"torch_dtype\": \"float32\",\n",
      "  \"transformers_version\": \"4.34.0\",\n",
      "  \"use_cache\": true,\n",
      "  \"vocab_size\": 32002\n",
      "}\n",
      "\n"
     ]
    }
   ],
   "source": [
    "print(training_args.generation_config)"
   ]
  },
  {
   "cell_type": "code",
   "execution_count": 4,
   "metadata": {},
   "outputs": [
    {
     "ename": "RuntimeError",
     "evalue": "\nFailed initializing MeCab. Please see the README for possible solutions:\n\n    https://github.com/polm/fugashi\n\nIf you are still having trouble, please file an issue here, and include the\nERROR DETAILS below:\n\n    https://github.com/polm/fugashi/issues\n\nissueを英語で書く必要はありません。\n\n------------------- ERROR DETAILS ------------------------\narguments: [b'fugashi', b'-C']\nparam.cpp(69) [ifs] no such file or directory: /usr/local/etc/mecabrc\n----------------------------------------------------------\n",
     "output_type": "error",
     "traceback": [
      "\u001b[0;31m---------------------------------------------------------------------------\u001b[0m",
      "\u001b[0;31mRuntimeError\u001b[0m                              Traceback (most recent call last)",
      "Cell \u001b[0;32mIn[4], line 2\u001b[0m\n\u001b[1;32m      1\u001b[0m \u001b[38;5;28;01mfrom\u001b[39;00m \u001b[38;5;21;01mfugashi\u001b[39;00m \u001b[38;5;28;01mimport\u001b[39;00m GenericTagger\n\u001b[0;32m----> 2\u001b[0m tagger \u001b[38;5;241m=\u001b[39m \u001b[43mGenericTagger\u001b[49m\u001b[43m(\u001b[49m\u001b[43m)\u001b[49m\n\u001b[1;32m      4\u001b[0m \u001b[38;5;66;03m# parse can be used as normal\u001b[39;00m\n\u001b[1;32m      5\u001b[0m tagger\u001b[38;5;241m.\u001b[39mparse(\u001b[38;5;124m'\u001b[39m\u001b[38;5;124msomething\u001b[39m\u001b[38;5;124m'\u001b[39m)\n",
      "File \u001b[0;32mfugashi/fugashi.pyx:232\u001b[0m, in \u001b[0;36mfugashi.fugashi.GenericTagger.__init__\u001b[0;34m()\u001b[0m\n",
      "\u001b[0;31mRuntimeError\u001b[0m: \nFailed initializing MeCab. Please see the README for possible solutions:\n\n    https://github.com/polm/fugashi\n\nIf you are still having trouble, please file an issue here, and include the\nERROR DETAILS below:\n\n    https://github.com/polm/fugashi/issues\n\nissueを英語で書く必要はありません。\n\n------------------- ERROR DETAILS ------------------------\narguments: [b'fugashi', b'-C']\nparam.cpp(69) [ifs] no such file or directory: /usr/local/etc/mecabrc\n----------------------------------------------------------\n"
     ]
    }
   ],
   "source": [
    "from fugashi import GenericTagger\n",
    "tagger = GenericTagger()\n",
    "\n",
    "# parse can be used as normal\n",
    "tagger.parse('something')\n",
    "# features from the dictionary can be accessed by field numbers\n",
    "for word in tagger(text):\n",
    "    print(word.surface, word.feature[0])"
   ]
  },
  {
   "cell_type": "code",
   "execution_count": 34,
   "metadata": {},
   "outputs": [
    {
     "name": "stdout",
     "output_type": "stream",
     "text": [
      "['日本', '語', 'の', 'テキスト', 'を', '分割', 'する', 'の', 'に', '使える', '。', '英語', 'と', '同様', '、', '文', '単位', 'に', '分割', 'する', 'こと', 'が', '可能', '。']\n",
      "['日本語のテキストを分割するのに使える。', '英語と同様、文単位に分割することが可能。']\n"
     ]
    }
   ],
   "source": [
    "import MeCab\n",
    "\n",
    "def japanese_sent_tokenize(text):\n",
    "    m = MeCab.Tagger('-Owakati')  # 初始化 MeCab 分词器\n",
    "    sentences = []\n",
    "    current_sentence = \"\"\n",
    "    parsed = m.parse(text).split()  # 使用 MeCab 对文本进行分词\n",
    "    print(parsed)\n",
    "    for token in parsed:\n",
    "        current_sentence += token\n",
    "        if '。' in token:  # 根据句号来分割句子\n",
    "            sentences.append(current_sentence)\n",
    "            current_sentence = \"\"\n",
    "    if current_sentence:\n",
    "        sentences.append(current_sentence)\n",
    "    return sentences\n",
    "\n",
    "japanese_text = \"日本語のテキストを分割するのに使える。英語と同様、文単位に分割することが可能。\"\n",
    "\n",
    "japanese_sentences = japanese_sent_tokenize(japanese_text)\n",
    "print(japanese_sentences)\n"
   ]
  },
  {
   "cell_type": "code",
   "execution_count": 38,
   "metadata": {},
   "outputs": [
    {
     "name": "stdout",
     "output_type": "stream",
     "text": [
      "['原子番号９２のウランより重い元素は全て人工的に合成され、１１８番まで発見の報告がある？', '      １１３番については、理研と米露の共同チームがそれぞれ「発見した」と報告し、国際純正・応用化学連合と国際純粋・応用物理学連合の合同作業部会が審査していた! 両学会は「データの確実性が高い」ことを理由に、理研の発見を認定し、３１日に森田さんに通知した。', '未確定だった１１５番と１１７番、１１８番の新元素は米露チームの発見を認めた。', '森田さんは「周期表に名前が残ることは感慨深い。', '大勢の共同研究者にまずは感謝したい」と述べた。', ' \\n']\n",
      "原子番号９２のウランより重い元素は全て人工的に合成され、１１８番まで発見の報告がある？\n",
      "      １１３番については、理研と米露の共同チームがそれぞれ「発見した」と報告し、国際純正・応用化学連合と国際純粋・応用物理学連合の合同作業部会が審査していた! 両学会は「データの確実性が高い」ことを理由に、理研の発見を認定し、３１日に森田さんに通知した。\n",
      "未確定だった１１５番と１１７番、１１８番の新元素は米露チームの発見を認めた。\n",
      "森田さんは「周期表に名前が残ることは感慨深い。\n",
      "大勢の共同研究者にまずは感謝したい」と述べた。\n",
      " \n",
      "\n"
     ]
    }
   ],
   "source": [
    "import re\n",
    "import nltk\n",
    "\n",
    "sent_detector = nltk.RegexpTokenizer(u'[^　！？。]*[！？。.\\n]')\n",
    "\n",
    "sents = sent_detector.tokenize(u\"　原子番号９２のウランより重い元素は全て人工的に合成され、１１８番まで発見の報告がある？\\\n",
    "      １１３番については、理研と米露の共同チームがそれぞれ「発見した」と報告し、国際純正・応用化学連合と国際純粋・応用物理学連合の合同作業部会が審査していた! 両学会は「データの確実性が高い」ことを理由に、理研の発見を認定し、３１日に森田さんに通知した。未確定だった１１５番と１１７番、１１８番の新元素は米露チームの発見を認めた。森田さんは「周期表に名前が残ることは感慨深い。大勢の共同研究者にまずは感謝したい」と述べた。 \\n\")\n",
    "\n",
    "print(sents)\n",
    "for s in sents:\n",
    "    print(s)"
   ]
  },
  {
   "cell_type": "code",
   "execution_count": 4,
   "metadata": {},
   "outputs": [
    {
     "data": {
      "text/html": [
       "<div>\n",
       "<style scoped>\n",
       "    .dataframe tbody tr th:only-of-type {\n",
       "        vertical-align: middle;\n",
       "    }\n",
       "\n",
       "    .dataframe tbody tr th {\n",
       "        vertical-align: top;\n",
       "    }\n",
       "\n",
       "    .dataframe thead th {\n",
       "        text-align: right;\n",
       "    }\n",
       "</style>\n",
       "<table border=\"1\" class=\"dataframe\">\n",
       "  <thead>\n",
       "    <tr style=\"text-align: right;\">\n",
       "      <th></th>\n",
       "      <th>index</th>\n",
       "      <th>user</th>\n",
       "      <th>text</th>\n",
       "      <th>summary</th>\n",
       "      <th>incremental_summary</th>\n",
       "    </tr>\n",
       "  </thead>\n",
       "  <tbody>\n",
       "    <tr>\n",
       "      <th>0</th>\n",
       "      <td>83</td>\n",
       "      <td>sachi-miu</td>\n",
       "      <td>[2014 - 10 - 29 \\n 始めて みる か \\n 9 月 某 日 ( て か 、...</td>\n",
       "      <td>[関連 イベント なし, 関連 イベント なし, 関連 イベント なし, 関連 イベント な...</td>\n",
       "      <td>[9 月 某 日 乳癌 告知 \\n 悪性 度 高い ． 脇 と 鎖骨 の リンパ に も 転...</td>\n",
       "    </tr>\n",
       "    <tr>\n",
       "      <th>1</th>\n",
       "      <td>53</td>\n",
       "      <td>mamadechuyo</td>\n",
       "      <td>[2009 - 04 - 26 \\n それ から ・ ・ ・ \\n 4 月 20 日 に 病...</td>\n",
       "      <td>[関連 イベント なし, 関連 イベント なし, 関連 イベント なし, 関連 イベント な...</td>\n",
       "      <td>[関連 イベント なし, 関連 イベント なし, 関連 イベント なし, 関連 イベント な...</td>\n",
       "    </tr>\n",
       "    <tr>\n",
       "      <th>2</th>\n",
       "      <td>70</td>\n",
       "      <td>noahraisins</td>\n",
       "      <td>[2011 - 09 - 28 \\n 薬 \\n 今日 は 診察 日 \\n\\n\\n ３ 週間 ...</td>\n",
       "      <td>[関連 イベント なし, 関連 イベント なし, 関連 イベント なし, 関連 イベント な...</td>\n",
       "      <td>[2011 - 09 - 28 診察 日 ． ホルモン 療法 3 週間 休止 中 ． 3 週...</td>\n",
       "    </tr>\n",
       "    <tr>\n",
       "      <th>3</th>\n",
       "      <td>45</td>\n",
       "      <td>kosoyu</td>\n",
       "      <td>[None, 2013 - 05 - 06 \\n 気合 \\n 手術 から 4 日 目 、 本...</td>\n",
       "      <td>[関連 イベント なし, 関連 イベント なし, 関連 イベント なし, 関連 イベント な...</td>\n",
       "      <td>[2013 - 04 - 11 腫瘍 内科 の 先生 の 初診 ， 乳腺 外科 の 先生 の...</td>\n",
       "    </tr>\n",
       "    <tr>\n",
       "      <th>4</th>\n",
       "      <td>44</td>\n",
       "      <td>kokoniiru9</td>\n",
       "      <td>[2021 - 12 - 13 \\n ３ 、 入院 〜 手術 〜 \\n 手術 〜 2021 ...</td>\n",
       "      <td>[関連 イベント なし, 関連 イベント なし, 関連 イベント なし, 関連 イベント な...</td>\n",
       "      <td>[2021 . 10 月 手術 ． \\n 手術 2 日 目 ， 尿管 抜去 ． 違和感 少し...</td>\n",
       "    </tr>\n",
       "    <tr>\n",
       "      <th>...</th>\n",
       "      <td>...</td>\n",
       "      <td>...</td>\n",
       "      <td>...</td>\n",
       "      <td>...</td>\n",
       "      <td>...</td>\n",
       "    </tr>\n",
       "    <tr>\n",
       "      <th>75</th>\n",
       "      <td>57</td>\n",
       "      <td>miyukb48</td>\n",
       "      <td>[2014 - 04 - 30 \\n お 父さん \\n うち の 父 は 母 に ぞっこん ...</td>\n",
       "      <td>[関連 イベント なし, 関連 イベント なし, 関連 イベント なし, 関連 イベント な...</td>\n",
       "      <td>[関連 イベント なし, 関連 イベント なし, 関連 イベント なし, 関連 イベント な...</td>\n",
       "    </tr>\n",
       "    <tr>\n",
       "      <th>76</th>\n",
       "      <td>75</td>\n",
       "      <td>omasan0108</td>\n",
       "      <td>[2017 - 05 - 01 \\n びっくり さ せて しまった \\n 学校 から 帰って...</td>\n",
       "      <td>[関連 イベント なし, 関連 イベント なし, 関連 イベント なし, 関連 イベント な...</td>\n",
       "      <td>[関連 イベント なし, 関連 イベント なし, 2017 - 05 - 02 ドンペリドン...</td>\n",
       "    </tr>\n",
       "    <tr>\n",
       "      <th>77</th>\n",
       "      <td>32</td>\n",
       "      <td>hana333hana</td>\n",
       "      <td>[2018 - 12 - 18 \\n ご 報告 ＊ \\n 私 は 、 今 ある 細胞 診 検...</td>\n",
       "      <td>[関連 イベント なし, 関連 イベント なし, 関連 イベント なし, 関連 イベント な...</td>\n",
       "      <td>[2018 - 12 - 18 細胞 診 の 結果 ： 乳 がん の 診断, 2018 - ...</td>\n",
       "    </tr>\n",
       "    <tr>\n",
       "      <th>78</th>\n",
       "      <td>94</td>\n",
       "      <td>usako8803</td>\n",
       "      <td>[2020 - 06 - 22 \\n しこり \\n 左 胸 の 下 の 部分 を 触って み...</td>\n",
       "      <td>[関連 イベント なし, 関連 イベント なし, 関連 イベント なし, 関連 イベント な...</td>\n",
       "      <td>[2020 - 06 - 19 左 胸 に しこり を みつける ．, 2020 - 06 ...</td>\n",
       "    </tr>\n",
       "    <tr>\n",
       "      <th>79</th>\n",
       "      <td>59</td>\n",
       "      <td>mokomokonoyama</td>\n",
       "      <td>[2023 - 02 - 09 \\n 2023 . 2 . 8 乳 がん 検診 \\n 市 の...</td>\n",
       "      <td>[関連 イベント なし, 関連 イベント なし, 関連 イベント なし, 関連 イベント な...</td>\n",
       "      <td>[2023 - 02 - 08 乳 がん 検診 ． 左 胸 の 表面 に ボコボコ と 固い...</td>\n",
       "    </tr>\n",
       "  </tbody>\n",
       "</table>\n",
       "<p>80 rows × 5 columns</p>\n",
       "</div>"
      ],
      "text/plain": [
       "    index            user                                               text  \\\n",
       "0      83       sachi-miu  [2014 - 10 - 29 \\n 始めて みる か \\n 9 月 某 日 ( て か 、...   \n",
       "1      53     mamadechuyo  [2009 - 04 - 26 \\n それ から ・ ・ ・ \\n 4 月 20 日 に 病...   \n",
       "2      70     noahraisins  [2011 - 09 - 28 \\n 薬 \\n 今日 は 診察 日 \\n\\n\\n ３ 週間 ...   \n",
       "3      45          kosoyu  [None, 2013 - 05 - 06 \\n 気合 \\n 手術 から 4 日 目 、 本...   \n",
       "4      44      kokoniiru9  [2021 - 12 - 13 \\n ３ 、 入院 〜 手術 〜 \\n 手術 〜 2021 ...   \n",
       "..    ...             ...                                                ...   \n",
       "75     57        miyukb48  [2014 - 04 - 30 \\n お 父さん \\n うち の 父 は 母 に ぞっこん ...   \n",
       "76     75      omasan0108  [2017 - 05 - 01 \\n びっくり さ せて しまった \\n 学校 から 帰って...   \n",
       "77     32     hana333hana  [2018 - 12 - 18 \\n ご 報告 ＊ \\n 私 は 、 今 ある 細胞 診 検...   \n",
       "78     94       usako8803  [2020 - 06 - 22 \\n しこり \\n 左 胸 の 下 の 部分 を 触って み...   \n",
       "79     59  mokomokonoyama  [2023 - 02 - 09 \\n 2023 . 2 . 8 乳 がん 検診 \\n 市 の...   \n",
       "\n",
       "                                              summary  \\\n",
       "0   [関連 イベント なし, 関連 イベント なし, 関連 イベント なし, 関連 イベント な...   \n",
       "1   [関連 イベント なし, 関連 イベント なし, 関連 イベント なし, 関連 イベント な...   \n",
       "2   [関連 イベント なし, 関連 イベント なし, 関連 イベント なし, 関連 イベント な...   \n",
       "3   [関連 イベント なし, 関連 イベント なし, 関連 イベント なし, 関連 イベント な...   \n",
       "4   [関連 イベント なし, 関連 イベント なし, 関連 イベント なし, 関連 イベント な...   \n",
       "..                                                ...   \n",
       "75  [関連 イベント なし, 関連 イベント なし, 関連 イベント なし, 関連 イベント な...   \n",
       "76  [関連 イベント なし, 関連 イベント なし, 関連 イベント なし, 関連 イベント な...   \n",
       "77  [関連 イベント なし, 関連 イベント なし, 関連 イベント なし, 関連 イベント な...   \n",
       "78  [関連 イベント なし, 関連 イベント なし, 関連 イベント なし, 関連 イベント な...   \n",
       "79  [関連 イベント なし, 関連 イベント なし, 関連 イベント なし, 関連 イベント な...   \n",
       "\n",
       "                                  incremental_summary  \n",
       "0   [9 月 某 日 乳癌 告知 \\n 悪性 度 高い ． 脇 と 鎖骨 の リンパ に も 転...  \n",
       "1   [関連 イベント なし, 関連 イベント なし, 関連 イベント なし, 関連 イベント な...  \n",
       "2   [2011 - 09 - 28 診察 日 ． ホルモン 療法 3 週間 休止 中 ． 3 週...  \n",
       "3   [2013 - 04 - 11 腫瘍 内科 の 先生 の 初診 ， 乳腺 外科 の 先生 の...  \n",
       "4   [2021 . 10 月 手術 ． \\n 手術 2 日 目 ， 尿管 抜去 ． 違和感 少し...  \n",
       "..                                                ...  \n",
       "75  [関連 イベント なし, 関連 イベント なし, 関連 イベント なし, 関連 イベント な...  \n",
       "76  [関連 イベント なし, 関連 イベント なし, 2017 - 05 - 02 ドンペリドン...  \n",
       "77  [2018 - 12 - 18 細胞 診 の 結果 ： 乳 がん の 診断, 2018 - ...  \n",
       "78  [2020 - 06 - 19 左 胸 に しこり を みつける ．, 2020 - 06 ...  \n",
       "79  [2023 - 02 - 08 乳 がん 検診 ． 左 胸 の 表面 に ボコボコ と 固い...  \n",
       "\n",
       "[80 rows x 5 columns]"
      ]
     },
     "execution_count": 4,
     "metadata": {},
     "output_type": "execute_result"
    }
   ],
   "source": [
    "import pandas as pd\n",
    "\n",
    "df = pd.read_json(\"./datasets/tobyoki/train.json\", lines=False)\n",
    "df"
   ]
  },
  {
   "cell_type": "code",
   "execution_count": 1,
   "metadata": {},
   "outputs": [],
   "source": [
    "import pandas as pd\n",
    "data_frame = pd.read_json('./tobyoki-event_summary_juman_processed_grouped.json', orient='records', encoding='utf-8', lines=False)"
   ]
  },
  {
   "cell_type": "code",
   "execution_count": 2,
   "metadata": {},
   "outputs": [],
   "source": [
    "test = data_frame.iloc[68]['text']"
   ]
  },
  {
   "cell_type": "code",
   "execution_count": 4,
   "metadata": {},
   "outputs": [
    {
     "data": {
      "text/plain": [
       "['2017 - 09 - 27 \\n 今日 から ブログ を 始め ます \\n 本日 2017 年 9 月 27 日 【 乳 がん 】 と 診断 さ れ ました 。 何 から 書いたら いい の か 心 の 整理 が まだ 付いて ない けど 診断 さ れたら 、 記録 と して ブログ を 始めよう と 思って いた ので 心 が 乱れて いる こと も 含めて ブログ に 、 記して おき ます 。 過去 に 、 何度 か 受けて いた 乳 がん 検診 。 いつも の ように 今年 2017 年 ２ 月 に 受診 。 でも 、 いつも と 違い 、 石灰 化 が 見つかり ました 。 念のため 、 ３ 月 に 乳腺 科 を 受診 。 「 穿刺 吸引 細胞 診 」 で 細胞 診 を した 結果 、 悪性 で は 無い と 診断 。 半年 、 様子 を 見 ましょう ！ と 言わ れ ました 。 そして 半年 後 の 受診 と して 、 9 月 12 日 に 再診 し ました 。 気 に なる シコリ が ある から と 再度 「 穿刺 吸引 細胞 診 」 し 、 次回 9 月 27 日 受診 まで 結果 を 待つ 事 に なり 、 帰り ました 。 そして 、 結果 、 悪性 細胞 が 検出 さ れた ようで 、 9 月 20 日 に 、 病院 から 電話 が あり 「 9 月 27 日 受診 の する 前 に MRI 検査 を 受けて ください 」 と 電話 が あった ので 私 と して は 、 この 時点 で 【 乳 がん 】 である 事 は 、 覚悟 して い ました 。 私 に とって ガン 宣告 さ れた の と 同様で その 日 から 、 睡眠 障害 と 、 手足 の しびれ 自律 神経 の 乱れ が 続き 自分 が どの 程度 の レベル な の か ガン に 対する 知識 が な さ 過ぎて ただただ 、 不安な 日々 が １ 週間 続き ました 。 そして 、 本日 9 月 27 日 ドクター の 口 から 【 乳 がん 】 です 。 。 。 と 診断 さ れ やっぱり そう か と 思う 気持ち の 後 、 気 に なって いた 質問 を たくさん して 少し だけ 気持ち が 落ち着いた 気 が し ます 。 そして 、 今日 は たくさん 検査 を した ので その 事 に ついて は 、 明日 記載 し ます ね 。 ゆき',\n",
       " '2017 - 09 - 28 \\n 乳 がん と 歩む 為 の 検診 \\n こんばんは 、 ゆき です ( * ´ ◡ ` * ) 昨日 、 ２ つ の 検診 した 事 を 話し し ます 。 まずは 、 ＭＲＩ 検査 。 私 の 行って いる 病院 は たこ焼き 器 の ような 穴 が 空いて る 乳房 専用 コイル に 、 胸 を 入れて うつぶせ 寝 で 、 行い ました 。 私 は 閉所 が 苦手な ので 入る と 言う だけ で 、 ドキドキ いよいよ 、 うつ伏せ に 寝て 軽く 固定 さ れて ヘッドホン を 装着 し 足 の 方向 から 、 機械 の 中 へ 。 。 。 中 に 入って いく と 言う だけ で めまい の ような ぐるぐる 回る 感覚 が ！ 最初 は 、 冷や汗 が 出て きて すぐ に でも 、 手 に 握ら せて もらった ナースコール を 押し たい 気持ち を 抑えて あと 10 秒 、 あと 10 秒 と 数えて いる うち に 少し 落ち着いて きて 後半 に は 、 やっと ウトウト そんな 頃 に 、 「 これ から 造影剤 入れ ます ね あと ７ 分 です 」 と アナウンス 。 どうにか 30 分 、 無事に 過ごせ ました 。 ホッと 一安心 。 出て きた 時 に は 、 フラフラ した ので 看護 婦 さん に 支え られ ながら MRI 室 を 後 に し ました 。 洋服 に 着替えて 、 部屋 を 出て から 横長 ベンチ で 、 1 時間 ほど 横 に なって い ました 。 あっ ！ 閉所 が 苦手じゃ ない 人 は こんな しんどい 感じ に は 、 なり ませ ん よ 。 痛み など は 、 一切 無い 検査 です ので 誤解 が あり ませ ん ように 。 。 。 そして 、 午後 に は 「 マンモ トーム 生検 」 マンモトーム 生検 と は 、 乳房 に 麻酔 を して ３ mm 針 を がん 細胞 に 向けて 侵入 し 細胞 を 摂取 し どんな 性質 の ガン 細胞 な の か を 確認 する 生検 だ そうです 。 痛み を 感じ ない ように と 何 本 か に 分けて 、 丁寧に 麻酔 を して くれ ました 。 細胞 を 採取 する 時 に は 空気 銃 を 打つ ような パチン ！ と する 音 が し ました 。 私 の 場合 は 、 ７ 回 採取 した ようです 。 胸 に しっかり 麻酔 を して くれた ので 摂取 時 は 、 痛く あり ませ ん でした 。 「 麻酔 が 切れて くる と 痛み が ある 人 も いる ので 痛かったら 、 痛み止め を 飲んで ね ！ 」 と 、 痛み止め を 処方 して もらい ました 。 以前 に 行った 「 穿刺 吸引 細胞 診 」 と は 違い それなり の 負担 が あった ようで 終わった 後 に は 、 こんな 状態 に コルセット で 圧迫 さ れて い ます 。 そして 、 案の定 麻酔 が 切れて くる と 、 じんわり 痛い 。 圧迫 感 も あって 、 このまま 寝 れる か 不安だった ので 、 痛み どめ を 飲んで 早 めに 就寝 。 私 の 場合 は 、 右 乳房 の 生検 を し 右 側面 を 下 に する 姿勢 が 楽でした 。 他 の 姿勢 は 痛い ので 寝返り を 打た ない ように 、 寝 ました 。 検査 の 翌日 は 、 傷口 の 確認 の 為 朝 から 病院 へ 行き ました 。 傷口 は 、 問題 無し 。 アオタン の ような 血 の にじみ も 正常 範囲 内 の ようです 。 少しずつ にじみ も マシ に なって いく ようです 。 今日 、 １ 日 は じんわり 痛み が あり ました が 時薬 で 良く なり そうです 。 検査 結果 は 、 約 ２ 週間 後 聞き に いく 予定 です 。 追記 この 「 マンモ トーム 生検 」 は 費用 負担 が 掛かり 生命 保険 の 内容 に よって は 日帰り 手術 で 、 保険 金 対象 に なる 保険 も ある ようです 。 生命 保険 に 加入 さ れて いて この 検査 を 行った 場合 は 問い合わせ して みて ください ね 。 ちなみに 、 私 の この 日 の 支払い は 33,000 円 でした 。 ゆき',\n",
       " '2017 - 10 - 01 \\n 自己 紹介 \\n こんばんは 、 ゆき です ( * ´ ◡ ` * ) 前後 して しまい ました が 自己 紹介 し ます ね 。 私 は 、 1970 年 生まれ 今年 47 歳 。 大阪 在住 の 主婦 です 。 結婚 して いて 、 子供 は 居て ませ ん 。 仕事 は 、 平日 フル タイム 。 週 末 は 、 実家 稼業 の お 手伝い を して い ます 。 25 歳 で 結婚 。 29 歳 で 、 子宮 筋腫 が 見つかり 筋腫 のみ を 、 開腹 手術 で 摘出 。 44 歳 で 、 再び 子宮 筋腫 が 見つかった ので 今度 は 、 筋腫 と 子宮 を 腹腔 鏡 手術 で 摘出 し ました 。 卵巣 に は 、 チョコレート 嚢腫 が あり ました が 嚢腫 のみ 処理 し 、 卵巣 は 残し ました 。 そして 、 46 歳 （ 2017 年 2 月 ） 乳 がん 検診 で 右 乳房 に 石灰 化 が 見つかり ました 。 翌月 （ 2017 年 3 月 ） 乳腺 科 を 受診 。 触診 、 エコー 、 穿刺 吸引 細胞 診 で 悪性 で は ない だろう と いう 診断 。 半年 後 （ 2017 年 9 月 ） に 、 再診 し 触診 、 エコー 、 穿刺 吸引 細胞 診 で 悪性 を 確認 さ れ 、 9 月 27 日 告知 を 受け ました 。 子宮 筋腫 が できたり 乳 がん に なったり 女性 ホルモン が 強い の かしら ？ ？ ( * ≧ ∀ ≦ * ) 不安に なる 事 も ある けど 慌て ず 、 少しずつ 進む つもりです 。 よろしく お 願い し ます ( o ˘ ◡ ˘ o ) ♪ ゆき',\n",
       " '2017 - 10 - 02 \\n 睡眠 導入 剤 \\n こんばんは 、 ゆき です ( * ´ ◡ ` * ) 今日 は 、 私 の 精神 的な お 話 を 書き ます ね 。 私 は 、 9 月 20 日 に 病院 より 「 MRI 検査 を 受けて 下さい 」 と 電話 が あった 時点 で 乳 がん を 覚悟 し ました 。 9 月 27 日 に 正式に 告知 さ れる まで が 精神 的に 、 しんどかった 気 が し ます 。 （ ※ まだ 始まった ばかりの 10 月 2 日 現在 です が ） 私 の ガン が どれ くらい 進行 して いる かも わから ない 。 ガン の 知識 も 無い 「 ガン ＝ 死 」 しか 浮かば ない 私 に は プラス に 考え れる 材料 が 無く 精神 的な 作用 に より 手足 が 痺れる 背中 や 股 関節 が 痛み その たび に 、 転移 を 想像 し 心拍 が 早く なり 動悸 と 息切れ 食欲 も 低下 して 夜 は ぐっくり 眠れ ない 日々 が 続き ました 。 初日 に も 、 お 話し し ました が 9 月 27 日 に 告知 さ れ 、 多少 ショック は あった もの の いま の 現状 や 不安に 思って いる 事 を 先生 と たくさん 話せて とても 気持ち が 楽に なり ました 。 話し し ながら 、 少し 泣き ました 。 泣く 事 で 楽に なった ような 気 が し ます 。 そして 、 寝 れ なかった 一 週間 の 話 を したら 睡眠 導入 剤 を 処方 して もらい ました 。 その 夜 は 、 まだ 気持ち の 高ぶり が あった し マンモトーム 検診 で の 痛み も あった 為 処方 して もらった 薬 を 飲んで 寝 ました 。 一 週間 ぶり に 朝 まで ぐっすり ！ 身体 も 楽に なり ました ( * ´ ◡ ` * ) 告知 の 日 が 楽に なる 日 に なる なんて 思い も よら ない もの です ね 。 ゆき',\n",
       " '2017 - 10 - 03 \\n 情報 収集 も 気 を つけ なきゃ \\n こんばんは 、 ゆき です ( * ´ ◡ ` * ) 乳 がん を 覚悟 して から 約 ２ 週間 。 いろんな キーワード 検索 を し ました 。 知る 事 で 、 かえって 不安に なる 事 も あり ました が 、 知ら な すぎる の も 不安だった から 。 。 。 先生 に 言わ れた 事 が あり ます 。 「 【 乳 がん 】 に ついて ネット 検索 も さ れた 事 だ と 思い ます 。 間違って いる ！ と いう わけで は ない のです が 医療 の 世界 は 、 日進月歩 。 その サイト を 作成 して から 技術 が 進歩 した 事 も たくさん ある と 思い ます 。 そして 、 何より 同じ 【 乳 がん 】 だ と して も 状態 は 、 人 それぞれ 。 出来る 場所 や 転移 の 有る 無し ガン の 性格 が 違えば 、 治療 方針 違い ます 。 な ので 、 検索 し すぎて 不安に なったり それ で 左右さ れ 過ぎ ない ように して 下さい ね 。 【 乳 がん 】 に ついて わかり やすく 紹介 さ れて いる 本 が あり ます ので もし 、 勉強 さ れ たい のであれば この 本 を オススメ し ます ！ 」 と 、 下記 の 本 を 紹介 して くれ ました 。 『 患者 さん の ため の 乳 がん 診療 ガイドライン 2016 』 ほんとに 、 この 本 は 【 乳 がん 】 と 告知 さ れて ご 本人 や ご 家族 が 読む と わかり やすい 本 の ような 気 が し ます 。 『 患者 さん の ため の 乳 がん 診療 ガイドライン 2016 』 まずは 、 前 の 方 から 少しずつ 勉強 して ます 。 ゆき',\n",
       " '2017 - 10 - 04 \\n 今日 は 、 「 骨 」 「 肺 」 検査 \\n こんばんは 、 ゆき です ( * ´ ◡ ` * ) 前回 、 9 月 27 日 に 検診 告知 を 受けて から 一 週間 ぶり の 病院 。 ずいぶん 長く 感じた 一 週間 だった なぁ ( * / ω ＼ * ) 先週 マンモトーム 生検 を 受けた 胸 が どんな 感じ か と 言う と 本日 （ 10 / 4 ） は 、 こんな 感じ ↓ もっと 赤かった のに 、 薄紫 に 変化 して ます ね ( * ´ ◡ ` * ) 周り の 黄色い 黄疸 みたいな の は 皮下 出血 の 後 、 起きる よう です ので 問題 ない そうです 。 ちなみに 、 生検 翌日 （ 9 / 28 ） の 状態 は こんな 感じ ↓ こう やって 見比べる と 赤み が 和らいで い ます 。 そして 、 何より 痛み が 全然 違い ます 。 いま は 、 ほぼ ない 感じ です ( * • ̀ ᴗ • ́ * ) 良 かったぁー ♪ そして 、 今日 病院 へ 行った の は 「 尿 検査 」 「 血液 検査 」 「 肺 レントゲン 」 「 骨 シンチグラフ 」 と いう 検査 。 まずは 、 「 尿 検査 」 次に 「 血液 検査 」 ５ 種類 の 容器 に 、 採取 し ました 。 わかって る の は 、 ＨＩＶ 検査 のみ 。 あれ を 調べる 時 だけ 、 同意 書 が いる の よ ねー なんだか 不思議 。 ほか の ４ 種類 は 、 何 か わかり ませ ん ( * ≧ ∀ ≦ * ) 次に 、 「 レントゲン 」 乳 がん は 、 肺 に 転移 し やすい と いう 事 で 肺 の レントゲン を 撮った の か な ？ ？ レントゲン の 板 を 抱える ように 、 後ろ から １ 枚 。 手 を バンザイ する ように して 、 横 から １ 枚 。 そして 、 最後 は 「 骨 （ こつ ） シンチグラフ 」 ３ 時間 前 に 、 専用 の 薬 を 注射 で 体 内 に 注入 私 は 自宅 が 近い ので 一 度 、 帰宅 して 、 検査 時間 に 再び 、 病院 へ 検査 着 に 着替えて 、 専用 台 へ こんな 機械 に 入り ました ↓ 上 と 下 に 、 座布団 サイズ の カメラ が あり それ で 、 全身 スキャン する 感じ です ね 。 名前 の 通り 「 骨 」 の 状態 を 見る そうです 。 私 の 場合 は 、 ２ 種類 の 方法 撮り ました 。 頭 から 足 に 向けて 、 まっすぐ スキャン 。 次に 、 顎先 から 股 関節 あたり まで 身体 の 回転 する ように スキャン 。 15 分 × ２ 種類 で 、 トータル 約 30 分 の 検査 でした 。 もし 、 骨 に 転移 して いたら 転移 して いる 場所 が 黒く 写る そうです 。 検査 結果 は 、 また 今度 です 。 検査 は 、 座布団 サイズ の カメラ が 身体 に ３ cm くらい の 所 に 近づいて くる ので 顔 の 真ん 前 に 降りて きた 時 、 閉所 の 苦手な 私 に は 、 少し 冷や汗 モノ です が ＭＲＩ ほど 、 閉鎖 的で は 無い ので 、 まだ 大丈夫 ( ^ ∀ ^ о ) 検査 の 後 は 、 放射 線 を 浴びた から か 体 内 に 熱 が こもる ような カッカ した 状態 が ２ 時間 ほど 続き ました 。 検査 だけ な ので 、 一時的です が 放射 線 治療 も する と なる と 常に こんな 感じ な の か な ？ ？ 今日 も 特殊な 検査 を した ので それなり に 費用 が 掛かり ました よー ( * / ω ＼ * ) 22,000 円 。 今年 は 、 医療 費 控除 決定 です ね ( * ≧ ∀ ≦ * ) ゆき',\n",
       " '2017 - 10 - 05 \\n 家族 へ の 報告 \\n こんばんは 、 ゆき です ( * ´ ◡ ` * ) 昨日 やっと 家族 に 【 乳 がん 】 の 事 を 報告 出来 ました 。 私 は 、 報告 し たい 家族 は 、 実家 で 一 人 暮らし して いる 母 （ 71 歳 ） と 、 そして 、 同居 して いる 主人 （ 47 歳 ） 2017 年 2 月 乳 がん 検診 で 、 石灰 が 見つかった 時 も 2017 年 9 月 細胞 診 で 、 悪性 見つかって も 私 は 、 誰 に も すぐ に 報告 出来 ませ ん でした 。 私 に は 、 転移 が あるか ない か ？ どういう オペ を する の か ？ この 辺り が ハッキリ して から 報告 した 方 が 、 いい気 が した のです 。 あまり 心配 を 掛け なく ない と いう 想い です 。 でも 、 すべて が わかって オペ の 方針 が 決まって から で は また 、 ドクター に 改めて 時間 を 取って もらわ なくて は いけない です し 何より “ 事後 報告 ” 感 が あり 私 が すべて 決めて から の 報告 は 内緒 に して いた 時期 を 知ったら 家族 が 寂しい 想い を する かも ？ いずれ 報告 する なら まだ 何も 決まって い ない 状態 でも まずは 、 報告 す べき か な ？ と 思い なおし ました 。 昨日 、 検査 後 に 家族 へ 報告 する 事 に し ました 。 ガン を 告知 さ れた 方 って 、 ご 家族 へ の 報告 、 どう さ れて る の かしら ？ すぐ 報告 して る の か な ？ ？ 昨日 は 、 検査 が 終わった の が 、 15 時 。 主人 は 、 まだ 帰って 来 ない ので まずは 実家 へ 行き 、 先 に 母 へ 報告 。 数 日 前 に 、 乳 がん 検診 で 要 検査 である 事 は 事前 に 報告 して あった ので 私 「 検査 結果 が 出て 悪性 だった の 」 母 「 え ！ そーかいなぁ〜 手術 する の ？ 」 私 「 これ から 、 精密 検査 だ けど ガン の 位置 が 乳首 の 裏 側 や から オペ する と なったら 、 全摘 か な ？ 」 母 「 それ は 全部 取って おいて もらった 方 が 安心や し 、 そーしー 」 と 、 意外 と 普通の 会話 が 成立 。 もっと 落ち 込む か と 思って いた けど 心配 を あまり 表 に 出さ ない 母 。 近しい 友人 を 乳 がん で 亡くして いる ので 心配で は あり ます が 逆に 、 ガン を 克服 して 元気な 方 も 知って ます もん ね 。 あと で 聞いた 話 です が その 友人 は 、 乳房 ガン が 発覚 して ガン のみ 摘出 手術 を し その後 、 他 の 臓器 に ガン が 見つかり 他界 さ れた そうです 。 全摘 し なかった から この 結果 を 招いた 訳 で は 無い と 思う のです が 母 と して は 「 全摘 が いい ！ 」 と 思った みたいです 。 女性 と して の 見た目 より も 命 が 守れる なら ！ と いう 気持ち で から でしょう ね 。 その後 、 母 と 一緒に 夕食 の 支度 して いたら やっぱり ため息 の 連続 。 本人 は 、 気 が ついて ない みたいだ けど ね ( * ≧ ∀ ≦ * ) そりゃ 、 そう だ よ ね 。 娘 に ガン が 見つかった ！ が 心配 無い わけ ない よ ね 。 ごめん ね 、 お かあちゃん 来週 10 日 （ 火 ） 精密 検査 の 結果 報告 と ドクター から 家族 へ の 説明 が ある 事 を 説明 する と 「 怖い し 、 聞いて も 多分 わかんない から 聞き に 行か ん とく わ ！ ゆき が 聞いて 、 噛み砕いて 、 私 に わかる ように 説明 してー 」 と 、 言わ れ ました 。 確かに 、 少し 耳 が 遠く なった 71 歳 の 母 に は 難しい かも です 。 なんとなく 、 口数 少なく 夕食 を 一緒に 食べて 私 は 、 自宅 へ 帰宅 しばらく したら 、 主人 が 帰宅 。 まずは 、 ご飯 の 支度 を して 食事 を 済ませた 主人 に 報告 。 「 え ！ マジで ？ ！ Σ (´Д｀) 早期 なん ？ どんな 施術 する ん ？ 腹腔 鏡 手術 的な ？ 全摘 ？ いつ 入院 ？ いつ 手術 ？ ？ 」 と 矢継ぎ早に 質問 ( * / ω ＼ * ) 母 と 同じく 来週 10 日 に 今後 の 方針 を 話し して くださる と 伝えたら 「 仕事 休む わ ！ ドクター の 話 聞き たい ！ ！ 」 と 母 と は 違う 反応 。 人 それぞれ や ねー ( * ≧ ∀ ≦ * ) 主人 は 主人 で 、 ７ 年 前 に 実の 兄 を 胃 ガン で 亡くして る から 【 ガン 】 と いう 響き は 、 あまり いい気 が し ない と 思う 。 夜 は 寝 れた か なぁ〜 心配 かけて ごめんで も 、 義兄 さん が ガン を 患って くれた お陰 で 、 私 たち も 念の為 に ！ と その 時 に 、 加入 した がん 保険 が まさか 、 役 に 立つ と は 。 。 。 天国 の 義兄 さん に 感謝 いたし ます 。 ありがとう ( o ˘ ◡ ˘ o ) ♪ 大切な 家族 を 悲しい 想い に さ せて しまった 中秋 の 名月 は おぼろ 月 でした ゆき',\n",
       " '2017 - 10 - 06 \\n ヘア ドネーション （ 髪 の 寄付 ） \\n こんばんは 、 ゆき です ( * ´ ◡ ` * ) 今日 は 、 ヘア カット へ 行って き ました 結構 、 長く 伸びて きて いた ので そろそろ パーマ を 立て直す か ？ それとも 、 久し振りに ショート ヘア に する か ？ 夏 の 終わり に 考えて い ました 。 そんな 時期 に 、 耳 に した の が 《 ヘア ドネーション 》 髪 の 寄付 です 。 30 cm カット 出来たら 、 寄付 出来る と 聞いて ９ 月 初め 、 美容 師 さん に 相談 したら 寄付 出来る 長 さ が ある と わかった ので 10 月 6 日 に ヘア カット の 予約 を 入れて いた のです 。 もちろん ９ 月 初め の 計画 な ので 自分 が 【 乳 がん 】 に なる と は 想像 も して い なかった 頃 。 小児 がん の 子供 たち の 役 に 立てれば と 少し 距離 感 の ある 想い でした が カット した 今日 現在 私 も ガン 患者 に なり 自分 の 切った 髪 の 毛 が 誰 か の カツラ に なる んだ と 思う と 少し 考え 深い もの が あり ました 。 本気で 役 に 立てば いい な ♪ これ で 、 少し でも 笑顔 で 過ごせる 時間 が 増え ます ように 。 。 。 想い を 込めて 送り ます 。 ゆき',\n",
       " '2017 - 10 - 07 \\n 左手 の 訓練 \\n こんばんは 、 ゆき です ( * ´ ◡ ` * ) いつも ブログ ご覧 いただき ありがとう ございます 。 先日 、 行った 「 マンモ トーム 生検 」 の 痛み は 、 もう あり ませ ん ので 身体 的に は 、 普通の 生活 を 送って い ます 。 ただ 、 その 時 に 少し だけ 感じた のです が 右 側 の 乳房 を 全摘 する って 事 は 、 右 半身 、 特に 右手 が 不自由な 生活 を する 事 に なる んです よ ねぇ〜 ( * ≧ ∀ ≦ * ) 経験 者 さん の お 話 だ と 手 を 前 に 出したり 上 に あげたり する 動作 は かなり しんどい ようです ね 。 私 は 、 右 利き な ので お 箸 も 、 鉛筆 も 右手 で 持ち ます し それ 以外 の 事 も 、 かなり の 確率 で 右手 を 使い ます 。 メイク も スマホ も カバン も 日常 生活 は 、 右手 を たくさん 使い ます し運転 も パソコン も 電卓 も 仕事 に 関する こと も もちろん 、 右手 中心 です 。 急に は 、 無理 かも しれ ませ ん が 少しずつ 左手 でも 出来る こと を 今 から 増やして おいた 方 が いい かしら ？ と 術後 の イメトレ を して 過ごして い ます 。 経験 者 さん 達 が 、 どんな 様子 で 術 前 術後 を 過ごさ れて いる の か とても 気 に なる のです が そういう 皆さん の ブログ や ＳＮＳ を 読む と 不安に なる 事 も いっぱい あり ます ね 。 ケースバイケース で 人 それぞれ な のだ から あまり 考え すぎ ない 方 が いい んでしょう けど 。 。 。 少しずつ 涼しく なって き ました 。 風邪 を 引か ない ように 暖かく して 睡眠 を たくさん 取る ように して い ます 。 今夜 も 、 お 風呂 で しっかり 温まって 早 めに 寝 ます 。 お やすみ なさい ( * ｕｕ * ) ゆき',\n",
       " \"2017 - 10 - 10 \\n マンモトーム 生検 の 結果 \\n こんにちは 、 ゆき です ( * ´ ◡ ` * ) ブログ 見て くださって ありがとう ございます 。 9 月 27 日 に 行った マンモトーム 生検 の 後 約 ２ 週間 経つ と 、 こんな 感じ ↓ 赤み は 、 ほぼ なく 横断 の ような モノ だけ が 残って い ます 。 生検 に よる 痛み の ような もの は まったく 無い で すね ( ^ ∀ ^ о ) さて 、 今日 は 午後 から ＣＴ 検査 を 行って 久し振りに ドクター 受診 です 。 ２ 週間 前 9 月 27 日 に 行った マンモトーム 生検 の 結果 や 骨 シンチ など 、 過去 の 行った 検査 結果 を 報告 して もらう 日 です 。 少し ドキドキ です ( * / ω ＼ * ) この 結果 は 、 次の 日記 に 書き ます ね 。 で は 、 行って 来 ます ( * ' ▽ ' * ) ﾉ ゆき\",\n",
       " '2017 - 10 - 16 \\n 検査 結果 の 報告 \\n こんばんは 、 ゆき です ( * ´ ◡ ` * ) ブログ へ の 訪問 ありがとう ございます 。 公私 ともに 忙しくて ブログ アップ が 出来て い ませ ん でした 。 報告 が 遅く なって ごめんなさい 10 月 10 日 （ 火 ） ＣＴ 検査 の のち 乳腺 科 受診 で 検査 の 結果 と 、 手術 説明 を 聞いて き ました 。 説明 は 、 主人 も 同伴 して くれた ので 初めて 聞く 主人 に も わかる ように 詳しく 説明 して くれ ました 。 2017 年 3 月 マンモグラフィ 検査 で 石灰 化 が 見つかる が 、 生検 した けど 悪性 は 見つから なかった ↓ 2017 年 9 月 に 再 検査 で 悪性 が 見つかり いろんな 角度 から 検査 ↓ その 結果 。 。 。 私 の 乳 ガン は 、 【 非 浸潤性 （ ひしんじゅんせい ） 乳 がん 】 病状 ステージ は 、 ０ （ ゼロ ） 転移 は 、 無し だ そうです ！ ！ 非 浸潤 性 だ と 聞いて 、 すごく ホッと し ました ( * / ω ＼ * ) 私 の 言葉 です が 、 簡単に 説明 し ます ね 。 がん 細胞 が 、 乳管 の 中 に しか 無い 状態 で 血管 や リンパ 管 に 転移 に くい と 言わ れる 状態 。 リンパ 管 や 他 の 臓器 に 転移 の 可能 性 は かなり 低い ので 局所 治療 （ オペ ） の 後 は 《 予後 が 良い 》 と 言う 書か れ 方 を して い ます 。 意味 と して は 、 オペ で 乳管 を 含む 乳房 の 全 摘出 を すれば 放射 線 や 抗がん 剤 治療 を し ない こと が 多い 状態 だ そうです 。 専門 家 に よる 詳しい 説明 は 、 こちら を 見て ね ♪ そう は 、 言って も 摘出 した 乳房 を 改めて 、 生検 に 出し その 細胞 から 、 術後 の 治療 を 決める そうです 。 MRI 画像 で 見る 感じ 4 . 3 cm と 、 決して 小さく は 無い です が 非 浸潤 性 乳 がん の 場合 は どんな 大き さ だ と して も 乳 がん ステージ は 、 ゼロ と いう 診断 な んだ そうです 。 ただ 、 逆に 確定 した 事 は 乳管 に は 、 ガン が ある 事 は 分かって いる ので これ から の 増殖 や 拡大 を 防ぐ に は 右 乳房 全て の 乳管 を 取り除か なくて は いけない と 言う こと に なり ました 。 私 は 、 あまり オッパイ に は 執着 が 無い ので 乳房 が 無くなる 事 の 寂し さ は あまり あり ませ ん でした 。 命 が あって の 物 種 な ので まずは 、 命 が あれば 、 恩 の 字 です ( * ｕｕ * ) な ので 、 乳房 再建 も 考えて は い なかった のです が 今後 の 参考 の 為 に 、 少し 話 を 聞き ました 。 今度 の 日記 に は 、 私 が 聞いた 乳房 再建 の 話 を 書き ます ね 。 気 に かけて 、 訪問 して くださって ありがとう ございました ( * ｕｕ * ) ゆき',\n",
       " '2017 - 10 - 22 \\n 全摘 → 再建 を する ？ し ない ？ \\n こんばんは 、 ゆき です ( * ´ ◡ ` * ) ブログ に 訪問 ありがとう ございます 。 先日 の 検査 結果 で 私 の 現状 が ハッキリ し ました ので 改めて 、 整理 して み ます 。 私 の 乳 がん は 、 右 乳房 乳首 の 真 裏 に 【 非 浸潤 性 乳 がん 】 と して 、 4 . 3 cm （ 2017 年 10 月 4 日 現在 ） サイズ であり ます 。 ドクター の カルテ 画像 を スマホ で 撮ら せて もらい ました こちら ↓ （ ※ わかり やすい ように 右 乳房 を 右 側 に して あり ます ） 右 の 乳房 の 中心 に 白い 毛虫 み たい に 鎮座 して いる の が がん 細胞 。 それ に 繋がる ように 白い 線 は 、 血管 だ そうで がん 細胞 が 栄養 を 欲し がる から 必死で 運んで いる から 、 太く なって いる そうです 。 我が 血管 も ケナゲ ( * / ω ＼ * ) この 画像 だけ で 無く いろんな 検査 の 結果 がん 細胞 は 、 乳管 内 だけ に 収まって いる ので 【 非 浸潤 性 乳 がん 】 だ そうです 。 でも 、 逆に 言い 換える の なら 右乳房乳 管 内 は 、 がん 細胞 が 浸潤 して いる 可能 性 が 高い ので 乳管 を 残す 事 は 、 とても 危険だ から 全摘 を する んだ そうです 。 そして 、 全摘 する 事 が 確定 した 後 先生 が お 話し して くれる の は 再建 （ 失った オッパイ を 作り 直す ） を する か ？ し ない か ？ を 決断 する 必要 が ある そうです 。 そして 、 する と したら 再建 を する タイミング と して 摘出 施術 と 同じ 日 に する か ？ （ 一 次 再建 ） 改めて 、 別の 日 に する か ？ （ 二 次 再建 ） 再建 を する なら 、 その 材料 は 自分 の 脂肪 から 作る か ？ （ 自家 組織 ） 人工 物 で 作る か ？ （ インプラント ） これ を 選んで いく 必要 が ある そうです 。 再建 する か ？ し ない か ？ ？ を 考えた 結果 、 私 の 答え は 【 ひとまず 再建 は し ない 】 です 。 私 は 元気である 事 が 最 優先 な ので 、 命 が ある なら オッパイ の ある ない は あまり 気 に なら ない だろう ！ と 思った から です 。 そして 、 ハッキリ そう 答え れた の は 本当に 失って から 「 やっぱり オッパイ が 欲しい 」 と 思って から 二 次 再建 と いう 選択 で いつでも 再建 出来る から です 。 スゴイ こと で すね ( ๑ ˃ ̵ ᴗ ˂ ̵ ) な ので 、 今回 は し ない 事 に し ました 。 一 次 再建 する 場合 は 、 整形 の 先生 と 合同 の オペ に なる ので 私 の お 世話 に なる 病院 で は 、 オペ の 曜日 も 違う し 整形 の 先生 と 面談 も 必要に なって くる ので 早い 段階 で の 決断 が 必要だ そうです 。 そして 、 再建 を し ない 理由 の 一 つ に オペ の 後 、 入院 期間 が 長い と いう 事 。 一刻 も 早く 仕事 に 復帰 し たい 事 も ある ので 再建 し ない 事 に し ました 。 乳房 摘出 オペ は 、 ２ 時間 くらい だ けど 一 次 再建 の 場合 は 、 再建 だけ でも ８ 時間 ほど を 要するに らしく 再建 材料 に も よる の かも しれ ませ ん が いろんな 経過 観察 を 見る 必要 が あり 入院 期間 も 長引く そうです 。 そして 、 参考 まで に 聞いた のです が 費用 に ついて ！ 以前 は 、 自家 組織 のみ 健康 保険 適用 対象 でした が 2013 年 から インプラント （ 人工 物 ） も 適用 さ れた らしく 、 以前 より 安価で どちら の 方法 も 選べる そうです 。 さらに 、 高額 療養 費 制度 を 使えれば 、 思って いる より も 、 リーズナブルに 再建 できる そうです 。 具体 的に 検討 して いる 方 は ドクター に 相談 して みて 下さい ね ( * ´ ◡ ` * ) 長々 と なり ました が 全摘 確定 → 再建 を 考える じき に 知った 事 、 考えた こと を 書いて み ました 。 最後 まで 、 読んで くださって ありがとう ございます ( o ˘ ◡ ˘ o ) ♪ ゆき',\n",
       " \"2017 - 10 - 26 \\n 入院 前 に する 事 \\n こんばんは 、 ゆき です 。 ブログ に 訪問 ありがとう ございます ( * ´ ◡ ` * ) さて 、 入院 を ２ 週間 後 に 控え そろそろ し なきゃ いけない こと を 考えて み ました ( * ｕｕ * ) 入院 時 に 、 提出 する 公的 書類 。 ◉ 病院 診察 券 ◉ 保険 証 この 二 点 は 、 普段 、 病院 へ 行く 時 から 持って 行く から 、 準備 万端 ( * ´ ◡ ` * ) ◉ 高額 療養 費 制度 証明 書 年齢 や 所得 に 合わせて 医療 費 負担 高額の 枠 を 決めて くれる 制度 。 事前 申請 が 必要です よ ね 。 申請 は 、 ご 自身 が 加入 して いる 健康 保険 協会 から 、 書類 を 取り寄せて 必要 事項 を 記入 して 、 郵送 で 申し込み 。 申し込み して から 、 １ 週間 ほど で 申請 期間 の 高額 療養 費 認定 証 が 届き ます 。 入院 する 時 に 、 それ を 提出 したら 自己 負担 金 が 最小 限 で 済み ます 。 詳しく は 、 協会 に 問い合わせ して 下さい ね 。 ◉ 病院 に 提出 する オペ 同意 書 、 健康 状態 報告 書 、 家族 に ついて の 詳細 書類 など 病院 から 、 渡さ れて 入院 当日 に 持参 し なくて は いけない 書類 が わりと いろいろ あり ます 。 オペ に ついて の 本人 の 同意 サイン や 家族 の 同意 、 入院 日 の 保証人 記入 など 。 少し 早 めに 記入 して 準備 して おく と 安心です ね 。 でも 、 この 書類 達 を 書く に は 同意 内容 を 確認 する 必要 が ある のです が 【 万が一 】 の 同意 が とても 多く 万が一 だ と わかって いて も 怖く なる 内容 です ( ； ´ Д` ) ◉ 入院 準備 品 パジャマ 、 下着 、 お 箸 、 コップ 、 スリッパ 普段 使う 身の回り の 物 を 用意 です ね 。 私 は 、 コーヒー 、 化粧 品 、 筆記 用具 本 、 タブレット 、 むくみ 防止 ローラー を 持って いこう と 思って い ます ( * ' ▽ ' * ) そして 、 前回 の 子宮 筋腫 の 入院 の 時 に も 書き ました 「 入院 日記 」 用 の ノート の 準備 。 今回 は 、 手書き した もの が すぐ デジタル 化 出来る KOKUYO の 【 キャミ アップ 】 ノート を 用意 して み ました ( * ´ ◡ ` * ) キャミ アップ 専用 ノート に 書いた もの を 専用 アプリ の カメラ で 、 写真 を 撮る と デジタル 化 できる 優れ もの ！ KOKUYO 【 キャミ アップ 】 公式 サイト 入院 中 だ から こそ 、 アナログ で 記録 して デジタル 取り 込み して みよう か な ？ 少し は 、 楽しい 事 も 用意 し ない と ね ( * - ∀ - ) ゞ 今夜 は 、 寝 よぉー ゆき\",\n",
       " '2017 - 11 - 07 \\n あっという間 に 、 入院 \\n こんにちは 、 ゆき です ( * ´ ◡ ` * ) 訪問 ありがとう ございます 。 日々 の 用事 に 追わ れ あっと言う間 に 本日 入院 と なり ました 。 私 は 、 旅行 でも 荷物 が 多い タイプ で 今回 約 10 日 入院 は ヨーロッパ 旅行 並み の 荷物 に なり ました そんな 荷物 の 中 に ベッド サイド テーブル 用 に テーブル クロス まで 持って きたら そりゃ 、 荷物 いっぱいに なる わね ( * ≧ ∀ ≦ * ) 大阪 人 らしく アニマル 柄 の クロス です （笑） 今日 は 、 10 時 30 分 病院 へ 入院 手続き を 済ませて 家族 同伴 で 麻酔 科 へ オペ 後 の 麻酔 に よる 影響 を 丁寧に 説明 。 私 の 場合 は 20 代 で 開腹 に よる 子宮 筋腫 オペ と 40 代 で 腹腔 鏡 に よる 子宮 全摘 オペ の 後 その 時 に 、 症状 など を 考慮 して くれる 為 に 、 かなり 細かい ヒヤリング を して くれ ました 。 その後 、 万が一 の 話 を さ れる と やっぱり 少し 怖く なり ます ね ( * / ω ＼ * ) 私 は 、 もちろん です が 、 家族 も 同じ 気持ち だ と 思う と 少し 申し訳ない です 。 。 。 そして 、 病室 へ 案内 さ れ 荷物 を 置いて から 、 院 外 で ランチ ( ^ ∀ ^ о ) なんか 世界 が 違って 見える 不思議な 感覚 でした ( * ´ ◡ ` * ) 病室 へ 戻ったら 今度 は 担当 看護 師 さん から 入院 期間 の 大きな 流れ を 聞き ました 。 私 の 場合 は 乳房 再建 を 行わ ない ので 入院 期間 は 、 約 10 日間 。 入院 した 日 〜 退院 まで の 流れ が わかって 目標 が 見える 感じ ( * ´ ◡ ` * ) なんでも 目標 設定 は 大切だ ねー ！ ！ 一番 、 驚いた の は オペ 当日 の 夕食 から 普通 食 が 出る って 事 。 「 食べ れる 人 も いる し 食べ れ ない 人 も いる よ 」 って ！ ！ そんな 感じ な の ？ ？ 乳房 全摘 って ( * ≧ ∀ ≦ * ) 私 は 、 子宮 系 の オペ を して いる ので つい それ と 比較 しちゃ う んだ けど 子宮 系 は 、 内臓 だからかな ？ オペ 後 の 食事 は 、 重 湯 から 始まって 、 二分 粥 、 五 分 粥 、 全 粥 、 普通 食 。 普通 食 に 至る まで が 長かった から 凄い 革命 的 衝撃 ！ ！ お腹 の 中 を 切る って 言う の と 乳房 摘出 って 、 別の 世界 な の ね 。 いろいろ 勉強 に なる わー ( * ≧ ∀ ≦ * ) 部屋 に 帰って きて 少し ウトウト 。 。 。 今度 は 、 担当 ドクター と 、 サブ ドクター が 様子 を 見 に きて くれ ました ( * ´ ◡ ` * ) ドクター と は 、 ３ 週間 ぶり の 再会 ！ この 病院 で 唯一 、 知って る 顔 な ので 親しい わけで も ない けど 顔 が 見 れる と ホッと し ます ( * ｕｕ * ) そして 、 初めて ご飯 が 来た ( * ´ ▽ ` * ) これ から 食事 し ます ( * ´ ◡ ` * ) オペ まで は 、 毎日 シャワー 入れる そう な ので 今夜 は 、 シャワー しよう か な ？ ？ で は 、 また 明日 ぁ ヽ ( * ´ ▽ ` * ) ゆき',\n",
       " '2017 - 11 - 08 \\n 入院 2 日 目 \\n こんばんは 、 ゆき です 。 ブログ 訪問 ありがとう ございます ( * ´ ◡ ` * ) 今日 は 、 目覚めれば ７ 時 。 前夜 は 、 22 時 頃 に 寝た の に よく 寝て たなぁ ( * / ω ＼ * ) 顔 を 洗ったり 、 歯 を 磨いて いる うち に 朝 ご飯 が 到着 し ました ( * ´ ◡ ` * ) パン が 温かい の は 、 嬉しかったぁ〜 この 食事 量 が 、 私 の 年齢 体重 に 適した 量 だ と したら 普段 が 食べ すぎ なんやな 。 。 。 と 感じた 朝 ( * / ω ＼ * ) 8 時 40 分 サブ ドクター が 回診 に 来て くれて 喉 が 少し 痛い 事 を 告げる と 「 トローチ 処方 して もらい ます ね 」 と 言って くれ ました ( * ´ ◡ ` * ) 9 時 頃 メイン ドクター の 回診 変わり ない です かぁ ？ と 、 可愛い 笑顔 を 見せて くれ ました ( * ´ ◡ ` * ) 9 時 15 分 体調 チェック の 看護 師 さん が 来 られて 血圧 、 体温 、 排出 物 の 量 など を 確認 。 そして 、 トローチ も 到着 ！ 仕事 が 早い ねー ( * ≧ ∀ ≦ * ) 9 時 30 分 医院 長 先生 の 総 回診 。 私 の いる 病院 は 、 総合 病院 だ けど たまたま 医院 長 の 専門 が 乳腺 な ので 医院 長 に も 、 触診 して もらう 。 触診 で は 、 わから ない タイプ の 乳 がん だ と 担当 ドクター が 告げて くれる と 「 ほんとだー ！ わかんない ね 検査 に きて 良かった です ね 」 と 笑顔 で 言って もらえ ました ( * ´ ◡ ` * ) 10 時 シャワー が ＯＫ だ と いう 事 で 午前 中 の うち に シャワー 。 寝汗 も かいた から 、 すっきり ！ ！ 11 時 薬剤 師 さん の 訪問 。 本日 使う 薬 の 案内 。 夕方 に 、 オペ に 必要な 注射 を する そうです 。 12 時 昼 ごはん 到着 ( * ´ ◡ ` * ) 鳥 の 照り焼き が 美味しかったぁ ( * / ω ＼ * ) 12 時 45 分 歯 の メンテナンス 。 オペ 中 に は 、 口 から いろんな 管 を 入れる ので 口 の 中 、 歯 の コン デション を 良く して おき たい って 事 で 、 メンテナンス して くれ ます 。 糸 ようじ と 、 器具 を 使った ツルツル に 13 時 30 分 頃 友人 が お 見舞い に 来て くれて 、 女子 トーク ( * ´ ◡ ` * ) たくさん 話し した から 、 少し 疲れて 友達 が 帰った あと は 、 少し お 昼寝 。 16 時 00 分 センチネル リンパ を はっきり 認識 する 為 の 着色 剤 を 注射 。 脇 の リンパ 節 は 、 いろんな リンパ が 通って いて センチネル リンパ 節 の 判断 が 難しい んです って ！ その 為 の 処置 。 局部 麻酔 を した 後 乳房 に 着色 注射 を ３ 本 し ました 。 明日 は 、 それ を ＣＴ で 見る そうです 。 18 時 30 分 頃 また 、 別の 友人 が お 見舞い に 来て くれて 病室 で 一緒に 、 夕食 を し ました ( * ´ ◡ ` * ) その後 も 、 別の 友人 や 家族 が お 見舞い に 来て くれて あっという間 に 、 21 時 面会 終了 時間 。 部屋 に 帰って 歯磨き 、 寝 仕度 を 済ませ やはり 22 時 頃 に は 就寝 。 細々と 忙しい １ 日 でした 。 ゆき',\n",
       " '2017 - 11 - 10 \\n 入院 3 日 目 〜オペ の 日 〜 後編 \\n こんばんは 、 ゆき です 。 訪問 ありがとう ございます ( * ´ ◡ ` * ) 昨日 の オペ の 後 を 書き ます ね 。 私 の 病院 は 、 オペ から 帰って きたら 部屋 に 帰る ので は 無く 一晩 は 、 観察 室 と いう 部屋 へ 帰り ます 。 ナース 室 の すぐ 横 で すぐ に 来 れる 事 は もちろん です が 夜中 に 何度 も 検診 する 事 が ほか の 患者 さん の 負担 に なら ない 為 の 配慮 みたいです 。 その 気持ち が 嬉しい です ね ( * ´ ▽ ` * ) この後 の 時間 経過 は あと で 家族 に 聞いたり 感覚 的な 時間 経過 を 記載 し ます ね 。 16 時 30 分 頃 当初 の 予定 通り オペ が 終わり いろんな 管 （ 心電図 、 バイタル 、 尿管 、 体液 袋 ） を つけて 、 観察 室 に 帰還 。 寒くて 、 震え が 止まら なかった ので 電気 毛布 を 掛けて くれ ました 。 寒 さ が 落ち着いて きて 、 ウトウト ( (__) ) . . zzzZZ 18 時 00 分 頃 今度 は 、 暑く なって 来て 喉 が 渇いた ！ と 言ったら 隣 に いた 主人 が 「 水 ある から 、 飲ま して あげる わ 」 と 水飲み 容器 で 、 水 を 一口 。 これ が 美味しかった ！ ！ 暑い から 、 口 の 酸素 吸入 を 取り たい と 、 看護 師 さん に 告げる と 「 19 時 30 分 まで 麻酔 が 切れ ない ので ドクター から の 指示 で 、 外せ ませ ん 」 と ！ 主人 が 「 いま 、 水 を 一口 飲ま せ ました けど それ は 、 いい んです よ ね ？ ？ 」 と 言う と 看護 師 さん が 慌てふためく w ( ﾟ o ﾟ ) w 「 え ！ ！ 飲ま せた んです かぁ ？ 咳き込んだり し ませ ん でした か ？ ？ ドクター に 確認 し ます 」 と ！ ！ 結果 は 、 誤嚥 し なかった から 幸いでした が 飲ま せちゃ ダメだった らしく びっくり し ました ( * ≧ ∀ ≦ * ) 18 時 30 分 夕食 （ 普通 食 ） が 運ば れて きた けど もちろん 食べ れる わけ も なく まだまだ フワフワ 状態 して い ました 。 吐き気 まで は 、 あり ませ ん でした が 軽い めまい が ある 感じ (_) 19 時 30 分 頃 酸素 マスク を 外して もらう 。 ただ 、 変な 冷や せ と 、 めまい の ような フワフワ 感 は 抜け ず 、 しんどい ( ´ ° ω ° ) ボー と した まま 夜 を 過ごす 。 21 時 、 深夜 0 時 、 夜中 3 時 看護 師 さん が 経過 観察 に 体調 管理 と ドレーン を 見 に 来て くれる 。 時間 の 経過 と ともに フワフワ 感 も 和らいで きて 朝方 に は 、 お腹 が キュルキュル 。 やっと ご飯 が 食べ れ そうに なって きて 自分 でも 一安心 ( * ｕｕ * ) 術後 の 傷 の 痛み は 、 点滴 で 痛み止め を 入れて くれて る から 痛く ない のだ と 思って た けど 痛み止め 系 の もの は 、 一切 入って ない らしい ( * ≧ ∀ ≦ * ) 痛い 止め 摂取 し なくて 、 この 痛み ？ ？ こんなに 切った のに ？ ？ ドレーン が まだ 体 内 に 入って いる のに ？ ？ 不思議で 仕方ない けど 現実 と して は 、 動か なければ そんなに 痛く も ない 。 現に 術後 の 翌日 に 、 こんなに スマホ が 操作 出来る なんて 奇跡 の ようです ( * ´ ▽ ` * ) 人間 の 身体 って 、 不思議 ( * ´ ◡ ` * ) 明日 は 、 翌日 の 話 を し ます ね 。 お やすみ なさい ゆき',\n",
       " '2017 - 11 - 10 \\n 入院 3 日 目 〜オペ の 日 〜 前 編 \\n おはよう ございます 、 ゆき です ( * ´ ◡ ` * ) ブログ 訪問 ありがとう ございます 。 11 月 9 日 （ 木 ） この 日 は 、 朝 早く から 目覚め さすが に 緊張 して いる の か ？ 私 ( * / ω ＼ * ) 7 時 30 分 頃 朝食 到着 ！ と 言い たい けど 、 この 日 から 、 絶食 で 何 届か ない ( ´ ° ω ° ) 8 時 40 分 頃 メイン ドクター が 回診 胸元 に マジック で マーキング 乳首 は 、 恥ずかしい ので 隠し ました が 、 こんな 感じ ( * ≧ ∀ ≦ * ) 9 時 10 分 頃 いつも の 体調 チェック 。 体温 、 血圧 、 バイタル を チェック 。 36 . 2 ℃ 、 112 / 80 、 99 と 良好 。 気持ち は 、 落ち着いて る みたい ね 。 9 時 15 分 頃 ＣＴ 室 へ 行く ように 依頼 が あり 、 ＣＴ 室 へ 移動 。 ここ で は 、 昨日 センチネル リンパ 節 を わかり やすく 色付け した モノ を 確認 して オペ に 使う そうです 。 胸 に 、 枕 の ような オモリ を 乗せて 約 30 分 ほど 掛けて 、 丁寧に 見て くれ ました 。 機械 を 冷やす ため らしい けど ＣＴ 室 が とっても 寒かった ( ´ ° ω ° ) 10 時 00 分 頃 部屋 に 帰る と 、 少し 頭痛 。 ＣＴ 室 が 少し 寒かった から か な ？ ？ 頭 を 冷やし たかった ので アイスノン を もらって 冷却 。 しばらく したら 、 マシ に なった ！ このまま 熱 でも 出たら オペ 出来 ない もん ねー 少し びっくり し たぁ ( * / ω ＼ * ) 12 時 00 分 頃 立会い 予定 の 家族 が 到着 。 私 より 明らかに 緊張 して いる 二 人 （ 母 と 主人 ） 二 人 と も 、 オペ を 経験 した 事 ない から きっと 怖い よ ねー ( * ≧ ∀ ≦ * ) 私 は 、 子宮 筋腫 で オペ を ２ 回 も して る から 今回 で ３ 回 目 だ もん ねー なんでも 経験 して いる と 違う ねー (*´艸`) ♪ 12 時 20 分 頃 オペ 用 の 服 が 到着 着替えて みる 。 よく できた 作り だわ ( * ´ ◡ ` * ) ↑ こんな 感じ の 服 。 胸 の オペ と 言う こと も あり 肩 が マジック テープ に なって いて 脱着 出来る タイプ 。 その 上 に ガウン を 着て 、 ベット で 待つ 。 12 時 50 分 頃 予定 より 少し 早く お呼び が かかる 。 いよいよ オペ 室 まで 歩いて いき ます 。 オペ 室 の 入口 まで は 、 家族 も 一緒で 。 そのまま 、 家族 は 病室 で 待って もらい ます ヽ ( * ´ ▽ ` * ) ドラマ でも 見る ような 、 金属 の 無機質な 空間 。 オペ 室 独特の 器具 や 洗面 台 を 見て 少し ワクワク ( * ≧ ∀ ≦ * ) ドクター が ヒジ まで 洗う あの 洗面 台 です （笑） 私 が お 世話 に なる オペ 室 「 ４ 」 へ 到着 。 患者 バンド 付いて いる バーコード を 読ま せて 名前 の 確認 「 フル ネーム で 名前 と オペ の 場所 を 教えて ください ！ 」 と 言わ れ 、 名前 と 場所 を 伝える 。 また 、 この オペ 室 も 寒かった ため 急に 、 おしっこ が し たく なって トイレ を 案内 して もらう こと に ！ ごめんなさぁーい ( * / ω ＼ * ) 再び 、 オペ 室 ４ へ 戻って ベッド の 上 へ ！ 私 は 、 右 乳房 の オペ な ので 左手 に 、 心電図 、 血圧 計 、 バイタル チェック 機器 、 点滴 など 、 次々 に 装着 。 心音 が オペ 室 内 に 響き 渡る 。 自分 の 早い 心 音 を 聞いて 緊張 が 高まる ( * ≧ ∀ ≦ * ) かなり 早い やん ！ ！ それ を 見 かねて ドクター が 、 私 の 右 手首 を さすって くれ ました 。 「 大丈夫 、 大丈夫 よー 」 酸素 マスク を 、 口 に セット 。 「 左手 から 、 全身 麻酔 の 薬 を 入れ ます ね 〜 少し 痛い です よ 〜 」 「 起きたら 、 終わって る から ね〜 」 と 優しい 声 が あちこち から 聞こえる ( * ｕｕ * ) あっという間 に 眠り に つき 。 。 。 続き は 、 また あと で ( * ´ ◡ ` * ) ゆき',\n",
       " \"2017 - 11 - 11 \\n 入院 4 日 目 〜オペ 2 日 目 〜 \\n おはよう ございます 、 ゆき です ( * ´ ◡ ` * ) ブログ 訪問 ありがとう ございます 。 オペ の 翌日 も 、 朝 早く 目覚め ました 。 自分 の 病室 で は 無く 、 まだ 観察 室 です 。 まだ あらゆる 管 （ 心電図 、 バイタル 、 尿管 、 ドレーン ） が 繋がった まま です 。 昨夜 は 、 傷 の 痛み より も めまい と 冷や汗 が しんどく 気分 も 悪い まま 、 寝たり 起きたり あまり 寝 れ ませ ん でした が 、 日中 、 いつでも 寝 れる ので 気 に なら ない ( * ´ ◡ ` * ) 今朝 に は 、 気分 も 良く なって お腹 も 動いて きて 、 オナラ も 出た し （笑） 良好な 感じ (*´艸`) ♪ 昨日 の 夜中 は ０ 時 、 ３ 時 、 ６ 時 と 定期 的に 、 体調 チェック と 傷口 チェック 、 ドレーン に 溜まった 体液 と 血 、 尿 を 排出 して くれて ました 。 7 時 30 分 頃 朝 ご飯 到着 オペ 後 、 初めて の 朝食 。 36 時間 ぶり くらい か な？ 食べて 気分 が 悪く なら ない か 少し ビビり なら がら 、 ゆっくり よく 噛んで 食べ ます 。 幸いに 気分 悪く なる こと も 無く 全て 完 食 ( * ´ ▽ ` * ) 牛乳 以外 は 。 。 。 あまり 好きじゃ ない ので 残して たら あと で 、 「 ドクター が 嫌い なら ジュース と か ヨーグルト に 変更 して もらえる よ 」 と 言って くれた ので 変更 を お 願い し ました ( * ≧ ∀ ≦ * ) 8 時 00 分 頃 一 人 で 立てる 事 を 確認 して 尿管 を 取り ましょう ！ と 自立 練習 ( * ' ▽ ' * ) 少し フワァ〜 と は した けど 立てた ( * ´ ▽ ` * ) ！ ！ クララ が 立った ！ ！ な 気分 （笑） 尿管 を 取って もらって 次の トイレ は 自分 の 足 で 歩いて 行く 事 に 。 同時に 、 食事 も 食べ れ られた ので 栄養 点滴 も 外し ましょう ！ と 点滴 も 外れ 心拍 も バイタル も 安定 して いる ので これ も 外し ましょう ！ と 外 れいま 、 残って いる の は この ドレーン （ 体液 袋 ） ちゃん だけ ( * ´ ◡ ` * ) 15 cm 角 の ビニール の 袋 に ドレーン を 入れて 、 首 から ぶら下げて ます 。 中身 を 見せる の は 、 リアル すぎる か な ？ もしかしたら 、 気持ち 悪い かも しれ ない から 要注意 です よー ！ ！ ↓ こちら が 、 ドレーン ちゃん 体液 に 血 が 混じって 、 こんな 色 に 。 。 。 オペ 直後 は 、 もっと 血 の 色 に 近く 段々 、 色 が 薄く なり 量 が 減って いく そうです 。 この 量 を 見 ながら 退院 直前 に 取る こと が 多い そうです 。 8 時 20 分 ドクター の 回診 今朝 は 元気 そうな 顔 で 良かった ！ と ( * ´ ◡ ` * ) 8 時 30 分 頃 日勤 の 看護 師 さん が 出勤 し すぐ 隣 の 部屋 で 、 申し送り 始まり の 声 が し ます 。 この 人 達 の お陰 で 、 入院 期間 安心 して 過ごせる と 思う と 、 感謝 感謝 です ( o ˘ ◡ ˘ o ) 足 を 向けて 寝 れ ない 所 です が 物理 的に は 、 足 を 向けて ました ごめんなさい ( * ≧ ∀ ≦ * ) 8 時 40 分 頃 医院 長 の 総 回診 傷口 も 見て もらう 。 9 時 00 分 頃 「 レントゲン 撮影 です ！ 」 と 大きな 機材 を 連れて 現れた レントゲン 医師 。 このまま ベット の 上 で 撮影 し ます ね 。 って 事 で 、 寝て いる 私 の 背中 に レントゲン 用 の 鉄板 を 入れて 、 パシャリ 看護 師 さん は 、 退室 して いた けど レントゲン 医師 さん は 、 室 内 に いた まま 「 放射 線 を 浴びて 、 大丈夫な んです か ？ 」 と 聞いたら 「 この レントゲン の 量 は 自然 界 で 浴びる 量 と あまり 変わり ませ ん 。 それ に 、 私 たち は 仕事 中 放射 線 を 浴びた 量 を 専用 機械 で 測ら さ れて る んです ！ この 数字 が 積算 して 、 ある 数値 に 達する と この 仕事 を 辞め なくて は 、 いけない ように なって る んです 。 。 。 」 と 話して くれ ました 。 いろんな お 仕事 が ある んです ね 。 ありがとう ございます ( * ´ ◡ ` * ) 9 時 30 分 頃 はじめて の トイレ 一 人 で は 危ない ので 看護 師 さん に 付き添って もらって トイレ へ 帰り も お迎え に 来て もらって 、 観察 室 へ 帰宅 。 無事に 出来た ので 次 から は 、 ひと り で ( * ´ ◡ ` * ) 10 時 00 分 頃 体 吹き の 時間 。 暖かい 濡れ タオル で 、 体 を 拭いて 手術 着 から 、 パジャマ へ オムツ から 、 パンツ へ お 着替え 。 そして 、 歩いて 自分 の 部屋 へ 帰宅 。 １ 日 ぶり の 我が 部屋 （笑） なんだか 落ち着く ( * ´ ◡ ` * ) 10 時 30 分 頃 栄養 士 さん が 訪問 。 何 か 質問 や お 願い 事 は あり ませ ん か ？ と 言って くれた ので 牛乳 を 飲む ヨーグルト に 、 変更 して もらい ました 。 11 時 00 分 頃 オペ 看護 師 さん が 来 られて 「 オペ 室 に 入った 時 や オペ に ついて 、 気 に なった 事 や こうして 欲しい など の 感想 は あり ませ ん か ？ ？ 今後 の 改善 提案 の 参考 に さ せて もらおう と 思って い ます 」 と 、 私 は 「 ドラマ の ような セット で ワクワク し ました ( * ｕｕ * ) 部屋 は 、 寒かった です 心拍 音 が オペ 室 に 広がって 自分 の 心拍 音 で ますます 緊張 し ました 」 と 伝え ました ( * ´ ◡ ` * ) 何 か の 参考 に なる と いい な ♪ 12 時 10 分 頃 お 昼 ご飯 到着 ↑ 私 の 病院 の トレイ は 、 左 は 、 冷たく 右 は 、 暖かく 管理 さ れて い ます 。 ↑ 給食 配膳 カート は 、 どう なって る の かしら ？ 感謝 で ございます ( * ｕｕ * ) 13 時 30 分 職場 の 人 が お 見舞い に 来て くれて ました 。 まだ フラフラ する ので 、 人 と 話 を する の は 疲れるぅ ( * / ω ＼ * ) 皆さん ッ お 見舞い に 行く の は 、 オペ の 次の 日 は 避け ましょう ！ ！ 14 時 10 分 頃 リハビリ の 先生 が 来て くれ ました 。 現在 の 痛く ない 範囲 の 可動 域 の 確認 肩 甲骨 と 、 肩 の マッサージ 土 日 は 、 リハビリ が お 休み な ので 自分 で 出来る リハビリ の 方法 を 伝授 して もらい ました 。 簡単な 作業 です が ３ 種類 を ５ 回 ずつ ５ セット する ように 宿題 を 出さ れ ました 。 この 少し 痛い 時期 から でも 意識 して 動かさ ない と 固まって しまう そうです 。 「 痛い から と あまり 控え ず 痛み を 感じ ない 程度 で 積極 的に 動かす ように し ましょう ！ 」 と 言わ れ ました ( * ´ ◡ ` * ) 15 時 頃 「 少しずつ 歩いて 下さい ！ 」 と 言わ れて る し 病室 に ジー と して いて も 、 退屈な ので １ 時間 ほど 院 内 を ウロウロ 。 かなり スローな 歩き 方 です が 出掛け 始め より 帰って きた 時 の 方 が 足取り も 軽かった か な ？ ？ ロビー 近く で メイン ドクター に 会って ご挨拶 「 元気 そうだ ね ♪ あと で 行く ね 」 と 声 かけて もらい ました ( * ´ ▽ ` * ) 16 時 30 分 頃 メイン ドクター が 回診 週 末 は 、 研修 に 出て いる ので 代わり の ドクター に 引き継いで ある 事 を 伝えて ください ました 。 そして 、 オペ 前 に 、 お 願い して いた 摘出 した 右 乳房 の 重 さ を 報告 ！ 690 ｇ だった そうです ( * ≧ ∀ ≦ * ) 結構 、 重たい です ね ！ 体重 が それ だけ 減った の ね ♪ 嬉しい (*´艸`) ♪ この 重 さ を 聞いた の は 今後 、 胸 パッド を 買う 時 の 参考 に しよう と 思った から です 。 傷 が 癒えたら 、 それなり の 重 さ の パット を 買い たかった ので ♪ 17 時 00 分 頃 母 が 来て くれて 、 また 院 内 散歩 。 そのまま 家族 と 夕食 を 頂き ました ( * ´ ◡ ` * ) あと は 、 穏やかに 時間 が 時間 が 過ぎ 早 めに 就寝 し ました ( * ´ ◡ ` * ) ゆき\",\n",
       " '2017 - 11 - 12 \\n 入院 6 日 目 胸 が 痛い （笑） \\n こんばんは 、 ゆき です ( * ´ ◡ ` * ) ブログ 訪問 ありがとう ございます 。 今日 も 、 いつも の ように 時間 経過 と ともに 書こう か と 思い ました が 昨日 より さらに 何も 無い 1 日 でした ( * ≧ ∀ ≦ * ) 天気 も 良かった ので 建物 から 少し 出て 病院 の 敷地 内 を 散歩 し ました (o^^o) ♪ イチョウ が 綺麗に 色づいて い ました 。 紅葉 の シーズン です ね 。 院 内 の 入口 に お 地蔵 さま が 祀って あった ので お参り して き ました 。 事後 に なり ました が 無事に オペ が 終わり 経過 も 良好です 。 ありがとう ございます ( * ｕｕ * ) そして 今日 は 、 私 が 大好きな 芸能 人 が テレビ に ご 出演 と いう こと で イヤホン で なく デイ ルーム の 大きな テレビ で 聴き たかった ので 早く 行って 待機 ！ ！ 名前 を 書いて 、 検索 で 引っかかって 来る と 恥ずかしい ので 、 あえて 書き ませ ん が 落語 家 さん です ( * / ω ＼ * ) 今日 は 、 特別 興行 と 言う こと で 向上 の 司会 黒 紋付 で 登場 ！ その後 に 、 落語 を 一 席 (人´∀`)♪ 久し振りに 拝見 出来て 楽しかった ぁ ♪ そして 、 心 ときめく 心臓 ドキドキ で 胸 の 傷口 が 痛く なって き ました ( * / ω ＼ * ) そんな 事 ある のぉ ？ いま まで 、 ドレーン 口 が 痛く なる こと は あって も 胸 の キズ は 、 ほ とんと 痛く なかった のに （笑） 恋 は 、 まさに 胸 が 痛く なる ほど 心臓 が 鼓動 する んです ね ( * ≧ ∀ ≦ * ) 少し 気持ち と 痛み が 治まったら シャワー して き ます ( * ´ ◡ ` * ) ゆき',\n",
       " '2017 - 11 - 12 \\n 入院 5 日 目 〜オペ 3 日 目 〜 \\n おはよう ございます 、 ゆき です ( * ´ ◡ ` * ) ブログ 訪問 ありがとう ございます 。 オペ 翌日 に 、 身体 に 繋がって る の は ドレーン だけ と 言う 革命 的な 日 を 迎え 次の 日 から 「 と くかく 歩いて 下さい 」 と 言わ れて いる ので 、 首 から ドレーン を 下げて パジャマ の 上 に ガウン を 来て 院 内 を ウロウロ 。 振動 は 、 少し 胸 に 響く ので 忍び 歩き で は ある もの の オペ の 翌日 に こんなに 歩ける なんて 思って なかった ので 、 嬉しい 限り ヽ ( * ´ ▽ ` * ) و ✧ そして 、 右手 の 不自由 さ も さほど で も 無い 。 手 を 伸ばす ような 姿勢 は もちろん 痛い ので し ない けど それ 以外 の 用事 は 、 ほぼ 出来 ます 。 だから 、 スマホ で こんな 長文 も 打てる んです ねー ほんと 感謝 です ( * ｕｕ * ) あっ ！ ちなみ に いま は 、 胸 帯 （ きょうたい ） を 巻いて こんな 状態 です よ ( * • ̀ ᴗ • ́ * ) 傷口 に 胸 帯 が 強く 当たら ない ように 自前 の タオル を 当てて い ます 。 圧迫 して 、 流血 を 止め なくて は いけない ので オペ から 帰って きた 時 から 結構 、 強 めに 締めて あり ます 。 胸 下 に ある ガーゼ の 下 は ドレーン が 出て いる 場所 です 。 身体 に 穴 が 空いて て 、 そこ から 管 が 出て いる なんて 信じ なれ ない ( * / ω ＼ * ) オペ から 帰って きて 、 自分 の 部屋 で 初めて 寝る 夜 。 前夜 、 消灯 22 時 過ぎ に は 眠く なって 来た ので 自然の 成り行き で 、 就寝 し ました 。 でも 、 深夜 1 時 30 分 頃 なんとなく 目 が 覚め ました ( ´ ω` ； ) ドレーン が 繋がって る 傷口 が 痛い ( ； д ； ) あれ ？ 昼間 は そんな 事 なかった んだ けど 気 に なる と 、 ジンジン して 寝 れ ない 。 深夜 に 看護 師 さん が 巡回 に 来て くれた ので それ を 使える と 、 飲み 薬 １ 錠 処方 して もらい 、 飲む 。 あっと言う間 に 、 痛み は 治り 次 は 朝 まで 就寝 。 ホッと し たぁ ( * / ω ＼ * ) たぶん 、 寝て いる うち に 自分 の 体重 で 踏んづけた か な ？ びっくり したぁ〜 6 時 00 分 起床 7 時 30 分 朝 ご飯 10 時 00 分 頃 メイン ドクター が 不在 の ため 研修 医 さん が 回診 に 来て くれる 。 傷口 を 見て 、 様子 を 聞いて くれ ました ( * ´ ◡ ` * ) 10 時 40 分 看護 師 さん に よる 体調 チェック 。 「 寝汗 を かいた ので 、 シャワー し たい んです けど いつ から 出来 ます かぁ ？ 」 と 確認 → 返事 待ち 11 時 頃 母 が 来て くれる 12 時 頃 母 と 一緒に 、 お 昼 ご飯 ( * ´ ◡ ` * ) 13 時 頃 母 も 帰った ので 、 ベット で ウトウト 。 15 時 頃 １ 時間 半 ほど 院 内 散歩 。 土日 で 病院 内 で の 検査 も 無い し ドクター 回診 も 、 ほぼ 無い （ １ 回 のみ ） スケジュール と して は 、 ご飯 と 、 面会 だけ （笑） 週 末 の 入院 は 、 退屈や ねー ( * / ω ＼ * ) 年金 生活 で 、 お 出掛け 予定 や 趣味 の 無い 方 は こんな 感じ な の か と 、 勝手に 想像 して みたり して ( * ≧ ∀ ≦ * ) 散歩 から 帰って 来る と 、 私 の 顔 を 見て 看護 師 さん が 走って 来る ！ ！ え！？ 何 か あった の ？ ？ ( * ≧ ∀ ≦ * ) 「 ドクター に 確認 したら シャワー して も 、 いい そうです ！ 部屋 に 行ったら 、 寝て いら した から 声 かけ ず に 、 再び 行ったら いらっしゃら なくて ( * / ω ＼ * ) 16 時 30 分 から の シャワー 予約 しか 空いて なかった ので 予約 して ある のです が 、 入り ます か ？ ？ 」 時間 を 確認 したら 、 16 時 25 分 ( ๑ ˃ ̵ ᴗ ˂ ̵ ) 急いで 準備 したら 、 入れる やん ！ 「 入り ます ！ ！ 」 オペ 後 に 、 始めて の シャワー ドレーン の ガーゼ 部分 は 防水 シート を 貼って くれ ました 。 ドレーン ちゃん は 、 首 から ぶら下げ ビニール 袋 に 入れて もらう 。 濡れて も いい そうな ので 、 仮 処理 的な 感じ です が 。 。 。 体 を 洗う 時 いつも の 勢い で 、 右 脇 から 胸 へ ゴシゴシ ！ 痛い ぁ ( * ≧ ∀ ≦ * ) 忘れて たぁ〜 鈍臭 いなそー と 洗わ なきゃ ！ ！ シャンプー も 、 身体 も 洗って サッパリ したぁ ヽ ( * ´ ▽ ` * ) و ✧ 水 って スゴイ ね ！ ！ 17 時 30 分 頃 腕 の 寸法 測定 。 入院 時 に 、 左右 の 腕 の サイズ を 測って もらって いた ので オペ 前後 の サイズ を 確認 ！ 肩 から 肘 の 間 肘 の 上 肘 から 手首 の 間 手首 手のひら すべて に おいて 入院 前 より 少し だけ サイズ ダウン して ました ( * • ω • * 人 ) それ って むくみ は ほぼ 無く 少し 痩せた って 事 かしら ？ (*´艸`) ♪ 18 時 頃 家族 が 来て 、 一緒に ご飯 こんな ヘルシーな ご飯 を 食べて たら 私 、 絶対 痩せて る わぁ ！ ！ 帰ったら 、 体重 計 に 乗る の が 楽しみ (*´艸`) ♪ 面会 時間 が 終わり 家族 が 帰って 、 寝 支度 。 今日 は 、 消灯 22 時 で も あまり 眠く 無い 。 スマホ を 触ったり ネット ショッピング したり して 24 時 頃 、 消灯 し ました 。 穏やかな 日々 が 続いて い ます 。 すべて に 感謝 ( * ｕｕ * ) ゆき',\n",
       " '2017 - 11 - 14 \\n 入院 7 日 目 嬉しい 事 が たくさん ♪ \\n こんにちは 、 ゆき です ( * ´ ◡ ` * ) ブログ 訪問 ありがとう ございます 。 11 月 13 日 （ 月 ） 週 末 明け の 入院 病棟 は なんだか 慌ただしく 、 少し 賑やか 。 その方 が 嬉しかったり する ( ^ ∀ ^ о ) 6 時 30 分 起床 7 時 30 分 朝 ご飯 なんだか ボリューム が 少ない けど カロリー 的に は 、 十分な んだろう なぁ ( * ≧ ∀ ≦ * ) 8 時 40 分 頃 久し振りの ドクター 回診 ( * ´ ◡ ` * ) 可愛い メイン ドクター と 、 サブ ドクター が 顔 を 出して くれる 。 個人 的に も 、 なんだか 嬉しい ( * / ω ＼ * ) 「 退院 は 、 いつ に し ます かぁ ？ ご 家族 と 相談 して 決めて ね ♪ 」 と はぁー い ！ 相談 し ます ( * ≧ ∀ ≦ * ) 9 時 30 分 頃 病院 スタッフ さん から 「 シーツ 交換 し たい のです が いい です かぁ ？ ？ 」 と 言わ れた ので お 散歩 支度 を して 、 院 内 散歩 院 内 の 本屋 さん で 、 雑誌 を 買って コーヒー を 入れて デイ ルーム で 、 日差し を 浴び ながら 読書 とっても 穏やかな 時間 たまに は 、 こんな 時間 も いい ね ♪ 胸 の ライン が 響き にくい 服 を 選び たい と 言う 気持ち も あり 少し ファッション を 変えよう か な ？ と 思って いて いま まで 、 取り入れて なかった カタチ や 色 で 、 生まれ変わる 私 を イメージ し ながら 。 。 。 ( o ˘ ◡ ˘ o ) ♪ お 気に入り の 洋服 メーカー 「 . st 」 を 見 ながら 、 ネット ショッピング 。 まずは 、 気 に なった 服 を どんどん カート に 入れる ！ ！ ある 程度 、 入れた 後 カート 内 を 見たら 、 すごい 金額 ( * / ω ＼ * ) 優先 順位 を 決め 、 予算 内 に 納めて ポチッ 数 日 後 に 、 届き ます (人´∀`)♪ この 服 たち を 着て 、 お 出掛け が 楽しみだ なぁ〜 ♪ これ で 、 また 退院 も 楽しみです ヽ ( * ´ ▽ ` * ) و ✧ これ は 、 予断 です が ある ガン 患者 さん の ブログ で 見かけた 言葉 な のです が 「 ガン に なって から モノ へ の 執着 が なくなり 自分 に とって 本当に 必要な モノ 、 そう で ない モノ その 判断 が ハッキリ する に なった ！ 」 と 。 わかるぅー ！ ！ ( * ≧ ∀ ≦ * ) 私 も そんな 気 が して いて この 言葉 を 見て 、 そうそう ！ と 思い ました 。 入院 前 から 、 少しずつ 断捨離 して いて 入院 中 の いま でも 早く 家 へ 帰って 、 とっても 断捨離 が し たい です 。 洋服 は もちろん 、 それ 以外 も ( ^ ∀ ^ о ) 体調 の 事 も ある ので 無理 の ない 範囲 で です が こういう 時 は 、 リサイクル ショップ や 「 メルカリ 」 が 便利です ね ( * ´ ◡ ` * ) 12 時 00 分 頃 あっという間 に 、 お 昼 ご飯 。 さっき 朝 ご飯 食べた ところ な んです けど ( * ≧ ∀ ≦ * ) 13 時 00 分 頃 母 が 来て くれ ました ( * ´ ◡ ` * ) 私 の 入院 前 から ずー と 風邪 を 引いて いて やっと 、 回復 して きた 感じ 。 きっと 、 心労 から 来た 風邪 な んだろう なぁ〜 ごめんなさい ね 14 時 00 分 頃 リハビリ の 先生 が 来 られて 「 いま から 、 リハビリ 室 で リハビリ し ませ ん か ？ ご 家族 も 一緒に 来て 見て もらえ ます よぉ ( * ´ ▽ ` * ) 」 と 案内 して もらえた ので 母 と 一緒に 、 リハビリ 室 へ ！ まずは 、 座って 自分 で 痛く ない 程度 に 手 を 上げて 、 可動 域 を 確認 。 ベット に 横 に なって 右 の 肩 甲骨 や 、 肩 を ほぐし ながら 少しずつ 可動 域 を 増やして くれ ます 。 肩凝り に も 効き そうで 、 ラッキー ♪ 一緒に 、 左 の 肩凝り も ほぐして 欲しい わ ( * ≧ ∀ ≦ * ) オペ から の 日数 を 考える と 順調な 可動 域 だ そうです ♪ 16 時 頃 ドクター が 来て くれて 退院 の 家族 迎え の 希望 を 15 日 （ 水 ） 18 時 頃 と 、 伝えたら 「 はい ！ で は 、 その 時間 で 退院 手続き 取り ましょう ね 。 明日 は 、 ドレーン を 外して 胸 の キズ テープ も 外して これ から 、 自宅 で して もらう テープ レッスン を し ます ね ♪ 」 と 言って もらえ ましたぁ ！ ( * ´ ▽ ` * ) やったぁ ！ ！ 退院 です よん ヽ ( * ´ ▽ ` * ) و ✧ 16 時 30 分 頃 友人 が お 見舞い に 来て くれて お 話 ( * ´ ◡ ` * ) 17 時 30 分 頃 シャワー を して ドライヤー で 髪 を 乾かし 胸 帯 も して い ない 身軽な 状態 で 体重 計 に 乗って み ました ！ ！ なんとッ ！ ！ ２キロ も 痩せて る やん ( * ≧ ∀ ≦ * ) そりゃ 、 右 乳房 690 g を 切除 した んや し それ くらい は 、 当然 かも しれ へん けど 普通に ダイエット して たら １ 週間 で ２キロ なんて 痩せ れ ない もん ね 嬉しい な (*´艸`) ♪ その 時 に 病室 から 見た 空 は 、 キレイでした ( o ˘ ◡ ˘ o ) ♪ 18 時 30 分 頃 夕食 今日 の スケジュール は 、 終了 ( * ´ ◡ ` * ) 入院 生活 も あと 少し です 。 ゆき',\n",
       " '2017 - 11 - 15 \\n 入院 8 日 目 プチ トラブル 発生 ！ \\n おはよう ございます 、 ゆき です ( * ´ ◡ ` * ) ブログ 訪問 ありがとう ございます 。 10 月 14 日 （ 火 ） 朝 この 日 は 、 外 が 暗い 。 雨 らしい ️ 院 内 に 居て る と 、 ほとんど わから ない 天気 。 テレビ も 見 ない から 世間 で は 起きて る ニュース や ゴシップ 知ら ない から 浦島太郎 みたいな 状態 だろう な ( * ≧ ∀ ≦ * ) 6 時 00 分 起床 7 時 30 分 朝 ご飯 8 時 40 分 頃 ドクター 回診 「 今日 は 、 ドレーン を 外し ましょう ♪ あと で 、 胸 傷 テープ も 外して もらって テープ レッスン して もらい ます ね 。 」 と ドレーン を 、 外して もらい ました 。 ドレーン と 、 入口 付近 の 皮膚 は 黒い 糸 で 、 仮縫い の ような 状態 で 縫わ れて い ました ので 糸 を 切って ドレーン を そぉ〜〜っと 、 抜いて いき ます 。 痛 さ は 、 少し だけ 。 それ より も 、 ドレーン の 先 に 入って いた 液体 が 、 中 に 放出 した 感じ が 気持ち 悪かった ( ノ v` * ) 9 時 00 分 頃 看護 師 さん から 今後 、 自宅 で 使う 保護 する テープ を 院 内 の 売店 で 買って くる ように 言わ れ 買い物 へ 出掛ける ( * ´ ◡ ` * ) マイクロ ボア テープ ３ cm 幅 の 茶色 タイプ 400 円 でした 。 10 時 00 分 頃 看護 師 さん が 再び 、 登場 ！ 「 保護 テープ 買って きたぁ ？ ？ 一緒に シャワー 室 で 傷 の テープ 剥がして テープ 貼り の レッスン し ましょう 。 ついでに 、 身体 と 頭 も 洗い ましょう 」 と 案内 して くれ ました ボディ シャンプー や 、 シャンプー タオル 系 を 持って 一 人 で 入る シャワー 室 で は 無く 介護 用 の シャワー 室 へ ↑ こんな 感じ の シャワー 室 に ↑ 肘 付き の お 風呂 用 椅子 が 置いて あり ました 。 真っ 裸 に なって 、 お 風呂 用 椅子 に 座り 少し 熱 めの シャワー を 、 足元 に 掛けて くれて ました 。 まずは 、 傷口 の テープ を 剥がし ましょう ！ とても 粘着 力 の ある モノ 貼って いる ので 傷口 から 剥がす の は 、 少し 大変 ( * ≧ ∀ ≦ * ) ① 傷 に 向かって 、 下 から 上 から それぞれ に 、 ギリギリ まで 浮か す ように 剥がす ② 手 に ボディ ソープ を 付けて 粘着 剤 を 、 手 で クルクル と 落とす ような 気持ち で 傷口 から 、 そー と 、 そー と 、 横 へ 少しずつ 剥がす ③ 再び 、 ボディ ソープ で 体 に 残って る 粘着 剤 を キレイに 落とす ように 、 手 で 丁寧に 洗う その 予定 でした が ！ ！ ちょうど 、 ② の テープ が 全部 剥がれる 頃 私 の 気分 が 悪く なって きて 突然 、 ふーーと 、 意識 が 遠のく (+_+) 異常 を 察知 した 看護 師 さん が ナースコール を 押して くれた みたいで もう 一 人 の 看護 師 さん が 、 飛んで 来て くれた 。 お 風呂 椅子 に 、 完全に 寄りかかる ように 座る 私 に 血圧 計 を セット して 、 測定 。 「 上 が 62 。 。 。 」 と の 声 が 、 遠く で 聞こえた Σ (´Д｀) 抱きかかえ られる ように 車 椅子 へ 移乗 。 体 を サッと 拭いて もらって 自力 で は 出来 ない ので 、 パンツ と 、 パジャマ を 着せて もらう 。 車 椅子 の まま 部屋 へ 戻る ベット に 横 に なったら 救命 救急 ドラマ の ように 次々 と 、 身体 に 測定 器 が 装着 さ れる 心電図 、 血 中 酸素 測定 器 血圧 計 、 体温 計 。 。 。 部屋 に 帰れた 安堵 感 で 静かに 目 を 瞑って いたら 看護 師 さん が 飛んで 来て 「 ゆきさん ！ 深呼吸 して ！ ！ 」 と 大きな 声 で 叫ば れ ながら 肩 を 叩か れる 。 酸素 濃度 が 下がって いる らしく 看護 室 で は 、 対処 音 が 鳴って いる らしい 私 の 病室 で は 、 音 は 聞こえ ない 言わ れる が まま 深い 呼吸 を して いたら 少し 楽に なって きた ( * ｕｕ * ) 落ち着いて くる と 測定 さ れて いる 数値 が 気 に なる ！ あと で 、 ブログ を 書く ため に も ブロガー の 習性 で すね ( * ≧ ∀ ≦ * ) 意識 が ぼんやり し つつ とりあえず 写真 ( ≧ ∀ ≦ ) ３ つ の 数値 が 並んで いた わかんない けど 、 写真 を 撮った ので あと で 調べよう と 、 再び 寝 ました 。 落ち着いて から 裏 を 見る と 、 数字 の 意味 が 記載 さ れて ました 。 1 つ 目 の 「 67 」 は 、 脈拍 。 私 に して は 、 少し 少ない 私 の いつも の 数字 は 、 80 前後 。 2 つ 目 の 「 17 」 は 、 呼吸 の 数 。 正常 値 は 、 12 〜 20 らしい ので 、 正常 範囲 内 3 つ 目 の 「 91 」 は 、 血 中 酸素 濃度 これ は 、 少ない です ね 。 正常 値 は 、 96 〜 100 。 90 を 切る と 、 呼吸 困難 と して 酸素 吸入 が 必要な レベル だ そうです 。 この 写真 を 撮った 時 は 落ち着いて た けど それ まで は 、 すごく 苦しかった から もっと 低かった んだろう な ( * / ω ＼ * ) 安静に して いたら 、 落ち着いて きて ほっと 、 一安心 。 時計 を 見たら 、 11 時 。 たった 1 時間 ほど の 出来事 だった けど しんどかったぁ ( * / ω ＼ * ) 担当 看護 師 さん も 同じ 病室 の 人 も 怖かった だろう なぁ〜 びっくり さ せて ごめんなさい ね 11 時 15 分 頃 看護 師 さん が 来 られて 傷口 が そのまま だ から テープ を 貼って 胸帯 して おき ましょう か ？ と テープ レッスン を して くれて 再び 、 胸 帯 を 巻き ました 。 テープ 貼り は 、 ① ３ cm 幅 の テープ を 約 5 cm くらい の 長 さ に カット して 20 本 ほど 作り 清潔な テーブル の 端 に でも 、 貼って 用意 。 ② 傷 の 前後 の 皮膚 を 寄せる ように 貼る ③ テープ の 幅 、 半分 は 重なる ように して 2 枚 目 も 貼り 、 傷 が 隠れる まで 続ける 。 ④ 貼り 張り 替え 時期 は 、 ３ 日 前後 が 目安 。 でも 、 端 が 剥がれて きたら 張り 替える くらい で 、 いい そうです 。 約 ３ ヶ月 くらい 続ける そうです 。 11 時 40 分 頃 そうだ ！ 11 時 50 分 から リハビリ の 予約 を して いた んだった ！ 行ける か な ？ ？ と 、 ガウン を 着て 部屋 を 出て 、 歩き 出した もの の 看護 室 近く まで 来て やっぱり 、 まだ フラフラ して いて しんどい 。 担当 看護 師 さん に 言おう ！ と 思った けど 、 担当 さん が 見つから ず どうした もの か ？ と ぼぉ〜 と 立ちすくんで いた 。 きっと 、 判断 力 も 低下 して た んだ ね ( * / ω ＼ * ) 担当 じゃ 無い 看護 師 さん が 「 どうか し ました か ？ 」 と 近づいて きて くれて 事情 を 説明 し リハビリ の 時間 を 変更 して もらい ました 。 いつでも 見守って 下さる 看護 師 さん って 、 ほんと 心強い です ね 。 感謝 で いっぱいです ( * ｕｕ * ) 12 時 00 分 頃 お 昼 ご飯 今日 は 、 お うどん でした ( * ´ ◡ ` * ) ぼぉ〜 と して た から 、 ちょうど 良かった ♪ お 昼 ご飯 を 食べて 、 少し ウトウト ( * ｕｕ * ) 14 時 20 分 頃 リハビリ 室 へ 今日 も リハビリ を 丁寧に して もらう 。 午前 中 の トラブル で 体 が かなり 固まって いた みたいで 自分 でも 動き が 悪く なって る の を 感じ ました 。 15 時 00 分 頃 元々 予約 して いた シャワー 少し 怖い 気 も した けど 中 に は 、 ナースコール も ある し 事前 に 担当 看護 師 さん に は 一 人 で シャワー に 入る こと も 伝えて 勇気 を 持って 、 一 人 で トライ して みる 。 寝汗 の 頭皮 が 気 に なった ので シャンプー を 丁寧に して 身体 は 、 そこそこ に 上がって きた 。 無事に 、 上がれて 良かった ( * ´ ◡ ` * ) 上がれた 事 を 、 看護 師 さん に も 報告 。 16 時 00 分 頃 少し 落ち着いた ので 、 20 分 ほど 院 内 を 散歩 。 足取り が 少し 不安定 。 昨日 まで の 私 と は 明らかに 違う 感じ です 。 16 時 30 分 頃 部屋 に 帰って きた と 、 ほぼ 同時に ドクター の 回診 。 テープ 貼った 後 を 確認 して もらって ドレーン の 傷口 も 良好 ！ 17 時 00 分 頃 研修 医 の 先生 も 来て くれて 、 見て くれ ました 。 主治医 に 聞く の を 忘れて いた ので 、 質問 。 「 胸 帯 は 、 いつまで 付ける んです かぁ ？ 」 即答 は 、 出来 ない ので 主治医 に 確認 して くれ ました 。 私 の 場合 は 、 ドレーン の 量 が 比較的 、 多い 方 が な ので 胸 帯 で 圧迫 して おいて もらう 方 が 水溜まり が 出来 にくい そうです 。 １ ヶ月 ほど 、 して おいて 欲しい そうです 。 ↑ この 返事 は きっと 個人 差 が ある と 思い ます 。 18 時 00 分 頃 それ の 話 を 聞いて 考えた んだ けど ドレーン が たまって 来て 外来 に 来る の は 、 しんどい し 午前 中 の シャワー 事件 の ような 事 が 自宅 で ひと り の 時 に 起きたら 、 怖い し 退院 を 伸ばせ ない か な ？ と 考え 始め ました ( * ｕｕ * ) まずは 、 出来る か どう か わかんない けど 迎え に 来て もらう 主人 に 時間 的な 相談 を して 担当 看護 師 さん に 伝え ました 。 「 まだ 手続き は 、 完了 して ない ので 変更 出来 ます よ 。 明日 、 ドクター に 変更 依頼 を して おき ます ね 。 」 11 月 18 日 （ 土 ） 午前 中 に 変更 して もらい ました 。 昨日 、 退院 だ ！ ！ と 、 喜んだ の も つかの間 だった けど 慌てて 帰って も 待つ 人 （ 子供 など 、 手 が かかる 人 ） が いる わけで も ない し 生命 保険 も 、 手厚く 入って いた ので 長く 居る 方 が 儲かる し ね (*´艸`) ♪ 18 時 30 分 頃 夕食 19 時 00 分 頃 主人 が 来て くれて 、 今日 の 出来事 を 改めて 報告 。 主人 的に は 、 延期 に なって ホッと して いる 様子 。 いろんな 方面 に 、 迷惑 掛けて る ね ( * / ω ＼ * ) 22 時 00 分 頃 消灯 就寝 少し 疲れた 1 日 でした ( * ｕｕ * ) もう 少し 入院 生活 を 満喫 し ます 。 ゆき',\n",
       " '2017 - 11 - 16 \\n 入院 9 日 目 傷 女 の 勲章 \\n こんにちは 、 ゆき です ( * ´ ◡ ` * ) ブログ 訪問 ありがとう ございます 。 今日 、 私 の ブログ の 読者 さん に 登録 さ れた ！ と アプリ から 連絡 が あった んです ( * / ω ＼ * ) 初めて の お 知らせ で 嬉しかったぁ ♪ 誰 か に 見て もらえる って 嬉しい です ね さて 、 前夜 も 22 時 の 就寝 後 なんとなく 横 に なって いたら 寝て い ました ( * ｕｕ * ) 夜中 1 時 30 分 頃 ふと 目 が 覚める と 胸 が ジンジン と して 痛い 。 昨日 、 テープ を はがした 事 に よって 傷 が 開いた の か な ？ 大人しく して たら 、 治る か な？ 考えて いて も 眠れ ない 。 これ は 、 我慢 し ないで ナース コール して 、 痛み止め もらおう 。 押したら 、 すぐ 飛んで きて くれて 痛み止め を 処方 して くれ ました 。 ほんと 、 看護 師 さん って 病人 に とって は 、 スーパー ヒーロー です 11 月 15 日 （ 水 ） 6 時 00 分 頃 起床 起きたら 、 痛み は 少し マシ に なって た けど 、 昨日 まで は 、 違和感 って 感じ が いま は 、 傷 の 痛み の 方 が 強い 。 ドクター 回診 が あったら 聞いて みよう ( * ´ ◡ ` * ) 7 時 30 分 頃 朝 ご飯 8 時 40 分 頃 ドクター 回診 傷 の 痛み に ついて 聞いて み ました 。 「 オペ 後 は 、 筋肉 も ぼぉ〜 と して いる らしく １ 週間 くらい する と 、 覚醒 して くる から 時期 的に は 、 そろそろ 傷 の 痛み が 出て くる 頃 だ と 思う ので それ で 、 正常です よぉ〜 」 と ！ ！ そんな 時期 が ある んです ね 。 それ なら 、 いい んです けど 言う て おいて くれ ない と 心配に なる やん ( * / ω ＼ * ) その タイミング は 、 最初の 退院 時期 と 重なる から 自宅 で 一 人 だったら もっと 不安に なって た かも ねー 退院 延期 して 、 良かったぁ ( * ≧ ∀ ≦ * ) あっ ！ ！ そう そう ( ^ ∀ ^ о ) 写真 載せる の を 、 忘れて い ました 。 私 の オペ 後 の 傷 は 、 こんな 感じ です 。 ↑ 胸 の 中心 から 、 脇 の 下 くらい まで 横 一 文字 の 傷 です 。 25 cm くらい か な？ 茶色く 広がって いる の は 、 出血 の 後 その 周り を 囲む ように マジック で なぞって ある の は オペ の 後 、 チェック する 度 に 看護 師 さん が 、 血 の にじみ を 書いて くれて い ました 。 ある 意味 、 愛 の 結晶 です こんなに 切った 傷 が 痛く ない 訳 は 、 無い ですよね ( * / ω ＼ * ) そりゃ そうだ ！ ！ ↑ こちら は 、 センチネル リンパ 節 を 採取 した 傷 。 少し 紫色 に なって いる の は きっと 、 オペ 前日 に 注射 した 着色 剤 です ね 。 私 の 場合 は 、 ３ つ の センチネル リンパ 節 を 採取 して そうです 。 オペ 中 に 行った 簡単 検査 で は ガン 細胞 は 、 見つから ず 【 転移 は 無し 】 摘出 した 乳房 と センチネル リンパ 節 は 精密 検査 に 、 出して １ ヶ月 後 くらい に は 、 結果 が わかる そうです 。 11 時 50 分 頃 リハビリ 室 へ ベット に 横 に なって 、 先生 が ほぐして くれる 。 肩 甲骨 と 、 肩 。 ポイント を 押さえ ながら 右手 を あげたり 、 胸 を 開いたり 痛く なる ギリ ギリ の ところ まで ゆっくり 動かして くれる 。 リハビリ を して もらった 後 は 明らかに 動かす の が 、 楽に なり ます 。 スゴイ で すね ( * ≧ ∀ ≦ * ) そして 、 病室 や 自宅 に 帰って から する セルフ リハビリ の 宿題 を 出さ れ ました ( ^ ∀ ^ о ) リハビリ ① 壁 の 真ん 前 に 向かって 立ち 右手 を 上げて 、 少しずつ 上 へ 上げる 。 脇 が 壁 に 着く の が 理想 だ けど 、 無理 し ない リハビリ ② 壁 と 少し 距離 を 上げて 、 横 に 立ち 右手 を 上げて 、 少しずつ 壁 に 近く この 時 の 注意 点 と して は 手 を 前 に 倒さ ず 耳 の 横 で 真 上 に 上げて 耳 と 、 壁 に 腕 を 挟む イメージ 上記 の ２ つ を １ 日 に ３ 〜 ５ 回 を 、 ３ セット 。 ３ ヶ月 続けて ください と 、 言わ れ ました 。 少しずつ 練習 です ね ( * ｕｕ * ) 12 時 頃 お 昼 ご飯 久し振りの 鰻 美味しかったぁ ( * ≧ ∀ ≦ * ) 13 時 30 分 頃 院 内 お 散歩 14 時 30 分 頃 職場 の 上司 が お 見舞い に 来て くれる 。 １ 週間 も 休んじゃ って 、 申し訳ない 大きな トラブル も 無く みんな 私 の 帰り を 待って くれて る らしい ありがたい です ね 、 ほんと ( ； д ； ) 何と して でも 、 来週 に 仕事 復帰 目指して 頑張る ぞ ！ ！ ヽ ( * ´ ▽ ` * ) و ✧ 16 時 30 分 頃 シャワー 一 人 で の シャワー な ので やはり 看護 師 さん に お 伝え して から 入る 。 15 分 ほど の シャワー な のに なんだか ドキドキ する ( * / ω ＼ * ) 17 時 30 分 頃 母 と 、 主人 、 友人 が 来て くれて デイ ルーム で 、 食事 。 持って きて くれた マロン の ロール ケーキ や 大学 芋 秋 の 味覚 を 頂く ( * ´ ◡ ` * ) 普段 の 幸せな 時間 です ね ️ 22 時 消灯 の 規則正しい 生活 です 。 ゆき',\n",
       " '2017 - 11 - 17 \\n 入院 10 日 目 ミッション トライ ！ ！ \\n こんにちは 、 ゆき です ( * ´ ◡ ` * ) ブログ 訪問 ありがとう ございます 。 11 月 16 日 （ 木 ） 6 時 00 分 頃 起床 最近 は 、 朝 ご飯 前 に 、 歯磨き して ます 。 寝て 居る 間 の 口 の 中 の 乾燥 は 菌 が 繁殖 して いる んです って ね ( * ≧ ∀ ≦ * ) 私 は 、 とっても 風邪 を 引き やすい ので 対策 と して 取り入れ ました ( * ´ ◡ ` * ) そして 、 この 洗面 台 利用 時間 に ある ミッション を 計画 して い ました (*´艸`) ♪ それ は 。 。 。 私 の 入院 して いる フロア は 、 《 女性 フロア 》 で 産婦 さん も 居れば 婦人 科 疾患 の 方 も いる 。 口腔 外科 の 人 や 眼科 の 人 も 内科 の 人 も 要するに 、 女性 の 患者 さん なら いろんな 方 が おら れる って こと です ね 。 私 の 病室 は 、 ４ 人 部屋 な んだ けど 入院 した 時 は 、 眼科 、 口腔 外科 、 婦人 科 の 方 で そこ へ 、 昨日 初めて 、 乳腺 科 の 人 が 入って 来 られた のです ！ ！ 仲間 が 居る と 思う と 、 なんか 嬉しい ヽ ( ・ ∀ ・ ) 声 の 感じ だ と 、 少し 年上 みたいです が お 話して み たい な ♪ と 思って いた のです 。 乳腺 科 でも 、 何の 病気 かしら ？ と ドクター と の 会話 に 聞き 耳 を 立てて いる と 。 。 。 提案 して いる 状況 が 私 と 似て いる から 乳 がん か な ？ ( * ≧ ∀ ≦ * ) な ので 、 朝 の 洗面 台 利用 時 に ご挨拶 を 交わして から の コミュ を 取ら せて もらおう ！ と 思って い ました 。 その 女性 が 朝 の 洗面 台 を 利用 中 ミッション 開始 ！ ！ そろりそろり と 、 私 も 向かって みる 。 そこ で 、 衝撃 映像 w ( ﾟ o ﾟ ) w 見た 瞬間 、 全裸 ？ と 思う 姿 。 よく 見る と 、 無地 の ラクダ 色 の パジャマ ( * ≧ ∀ ≦ * ) まるで 、 お 父さん の 肌着 ステテコ を 着て いる みたい ！ ！ そんな 斬新な 格好で 入院 って ( ๑ ˃ ̵ ᴗ ˂ ̵ ) そして 、 ヘア スタイル は パンチ パーマ ？ ？ 振り返った 彼女 を 見て 、 さらに 衝撃 ( ≧ ∀ ≦ ) それ は 、 ジャーーーン ダウン タウン の 番組 に 出て いる おばちゃん 、 ソックリ ！ ！ ( * ≧ ∀ ≦ * ) パンチ パーマ の 髪 を 、 櫛 で 整えた まま 挨拶 して くれ ました ( * / ω ＼ * ) あかん ！ 流石 に 、 喋ら れ へん 挨拶 を する の が 、 精 一杯でした 。 人 を 見た目 で 判断 したら あかん けど さすが 、 勇気 が 出 ず 話せ なかったぁ〜 ( ≧ ▽ ≦ ) 年齢 も 離れて る し 趣味 も キャラ も 違い すぎる ( * / ω ＼ * ) 仲間 は 、 今回 の 入院 以外 で 探し ます 。 。 。 同室 の 患者 さん 繋がり で 話 を する と 。 。 。 私 の お 隣 さん は 、 口腔 外科 で 入院 さ れて いる 15 歳 の 女性 昨日 は 、 同 級 生 の 友達 が ３ 人 で 来て くれた みたいで 「 やーん ！ 久し振り ♪ 」 「 元気 ぃ ？ 」 「 昨日 、 席 替え して んでー 」 「 今日 、 映画 行く ねん 」 一言 一言 が 黄色くて 、 可愛い いま 、 もう 一 人 は 、 産婦 さん 。 安静 を 言わ れて いる みたいです 。 この 一 部屋 だけ で いろんな 人生 が ある んだ よ ねー なんか 、 考え 深い もの が あり ます ( * ｕｕ * ) 7 時 30 分 頃 朝 ご飯 8 時 40 分 頃 ドクター 回診 少し お 昼寝 して 、 起きて から 院 内 の お 散歩 。 また 、 新たな 雑誌 を 買って デイ ルーム で 、 コーヒー タイム 。 主婦 系 雑誌 は 、 最近 断捨離 ブーム 。 こういう 本 を 読む と 、 ますます 家 に 帰って 、 断捨離 し たい ！ ！ 「 RoomClip 」 インテリア サイト を 見る と 部屋 の 模様替え も し たく なる ねぇ〜 あの 家具 を 、 あちら に 移動 して あれ は 、 処分 しよう か な ？ ？ あっ ！ ！ でも 、 重たい もの は 持た れ へんなぁ〜 主人 が 居て くれて る けど 、 さすが に タンス の 移動 は 、 なんぼ 、 力持ち でも 一 人 で は しんどい し なぁ 。 。 。 これ から は 、 誰 か に 手伝って もらわ ない と あかん って 事 か な ？ まずは 、 片手 でも 出来る 断捨離 から 少しずつ 始めよう ( * ´ ▽ ` * ) 12 時 00 分 頃 お 昼 ご飯 15 時 15 分 頃 リハビリ 室 へ 胸 帯 の せい で 、 左 の 肩 や 首 も 凝って る 事 を 伝えたら ほぐして おき ましょう ！ と ほぐして 下さい ました ( ^ ∀ ^ о ) 言う て みる もん です ね 。 17 時 30 分 頃 シャワー 体重 を 測って 見たら 、 数 日 前 と 変わら ず 。 胸 の 傷 は 、 テーピング して あり ます が ドレーン の 傷 は 、 もう テープ も 外し 放置 状態 ヽ ( ﾟ ∀ ﾟ ) ﾉ ↓ こんな 状態 ピンボケ で ごめんなさい ( * ≧ ∀ ≦ * ) 表面 は 乾燥 して きて いて ジュクジュク も 無い 。 痛み は 、 ほぼ 無く 少し 痒み が 出て 来て ます 。 治って 来て る 証拠 です ね ( * ´ ◡ ` * ) でも 、 胸 の 傷 も そう です が ドレーン の 穴 も 、 そのまま こんなに 放置 して いて も 傷 って 塞がる んです ね 。 人間 の 治癒 力 って スゴイ わ ！ ！ 18 時 30 分 夕食 今日 は 、 お 見舞い も 家族 も 誰 も 来 られ なかった ので とっても 退屈だった わぁ〜 まぁ 、 入院 生活 って こんな もの です もん ね 。 そんな 入院 生活 も あと 少し すべて に 感謝 ( * ｕｕ * ) ゆき',\n",
       " '2017 - 11 - 18 \\n 入院 11 日 目 明日 退院 \\n おはよう ございます 、 ゆき です ( * ´ ◡ ` * ) ブログ 訪問 ありがとう ございます 。 11 月 17 日 （ 金 ） 6 時 00 分 起床 7 時 30 分 朝 ご飯 入院 11 日 目 に して 、 初めて パン を 焼いて み ました 。 この 方 が 香ばしくて 美味しい やん ( * ≧ ∀ ≦ * ) 私 の 部屋 は 、 トースター が 一番 遠い ので なんとなく 面倒だった のです が 焼いて みる と 、 やっぱり 美味しい ( * ´ ▽ ` * ) 何事 も 、 めんどく さ がって は いけ ませ ん ね ( * / ω ＼ * ) 8 時 40 分 頃 ドクター 回診 「 脇 に 、 少し 水溜り が ある みたいな ので 、 午後 診察 に 来て もらって 、 抜き ましょう ね ( * ´ ◡ ` * ) 」 9 時 20 分 頃 医院 長 総 回診 10 時 頃 院 内 散歩 11 時 30 分 頃 母 が 来て くれた 12 時 20 分 頃 お 昼 ご飯 14 時 30 分 頃 乳腺 内科 受診 エコー で 見 ながら 、 注射 器 で 、 溜まった 体液 を 抜いて もらう 。 痛み は 、 まったく 無し 。 針 を 刺した 事 も わから ない くらい 胸 周辺 は 、 まだ 麻痺 して る わ ( * ≧ ∀ ≦ * ) 体液 は 、 60 cc ドレーン を 外して 、 ３ 日間 。 60 cc しか 溜まって ないし 色 も キレイな ので 、 経過 は 良好だ そうです 。 次回 の 受診 は 、 ちょうど 一 週間 後 11 月 24 日 （ 金 ） です 。 その 時 に は 、 抜か なくて いい ほど 溜まって い ない と いい な ♪ 医師 「 次回 の 受診 まで は 胸 帯 を 締めて 生活 して 下さい ね 」 ゆき 「 胸 も だ けど 特に 、 肩 から の 固定 で 、 肩 や 首 が 凝って 居る んです けど 」 医師 「 昼間 は 、 して おいて 欲しい けど 夜 、 寝る 時 くらい は 肩 の 締め を 外して も いい です よ ！ 」 許可 が 出 ました ので 、 今夜 から 肩 の バンド を 外して 寝て み ます 。 もう ひと つ 質問 ！ ゆき 「 胸 帯 を して いる 間 の 生活 で 左右 差 は 、 どう やって 補正 する のでしょう か ？ 」 医師 「 左 の 健 側 （ けんそく ） も バンド に よって 抑え られて いる ので あまり 左右 差 は 、 感じ られ ない です よ 。 ゆったり した 服 を 着て 外出 して みて 下さい ！ 」 確かに 、 左 も 押さえて る ので 左右 差 少ない けど 、 やっぱり ある よ なぁ (*´･ω･) 胸 帯 の 上 から 着 れ ない かも しれ ない けど 、 これ を 機会 に 前 から 気 に なって た タンクトップ を 買って みる こと に し ました ( * ´ ◡ ` * ) グンゼ の 「 キレイ ラボ 」 シリーズ ランニング タイプ で 、 無 縫製 な んです って ( * ´ ◡ ` * ) パット の 出し入れ が 出来る ので 患側 の 大き さ 補正 も ここ で 出来る かしら ？ ？ まずは 、 ２ 色 買って み ました ( * ´ ◡ ` * ) 楽天 「 グンゼキレイラボ シリーズ ランニング 型 」 1,728 円 （ 税込 ・ 送料 別 ） ※ 2017 年 11 月 現在 15 時 20 分 頃 リハビリ 室 へ 先生 に リハビリ を して もらって た ので 自主 トレ を あまり して なかったら 「 自分 でも して 下さい ね ！ 」 って 注意 さ れちゃ った ( * ≧ ∀ ≦ * ) 私 は 、 実家 の 家業 で フェイシャル エステ の 仕事 も して いる ので その 話 の 流れ から 胸 の デコルテ や 脇 の リンパ 節 の 話 に なって リハビリ 先生 「 今後 、 私 は デコルテ 伸ばし 作業 は して もらって も いい けど 脇 の リンパ 節 や 鎖骨 の リンパ 節 を 圧迫 する ような 作業 は あまり やら ない 方 が いい です よ 。 そう 頻繁で 無ければ 気 に し なくて も いい けど し ない 方 を オススメ し ます 。 」 と 言わ れた ので 、 これ から 、 私 自身 が エステ を 受ける 時 は 健 側 だけ を して もらう か デコルテ は 無し で 顔 だけ の エステ を 受けよう と 思い ます ( * ´ ◡ ` * ) こう やって 話 を して る と し ない 方 が いい 事 は 、 たくさん あり ます ね 。 気 を つけ なきゃ で すね ( * ≧ ∀ ≦ * ) 帰り に 院 内 お 散歩 病院 入口 から 、 駐車 場 の 景色 。 この 夕焼け を 見る の は 今夜 が 最後です ね 。 お 世話 に なり ました ( * ｕｕ * ) 18 時 00 分 頃 シャワー 19 時 30 分 頃 友人 と 、 主人 が 来て くれる 。 長かった ようで 、 短かった 12 日間 。 明日 が いよいよ 退院 です 。 ゆき',\n",
       " \"2017 - 11 - 19 \\n シャバ 初日 \\n こんばんは 、 ゆき です ( * ´ ◡ ` * ) ブログ 訪問 ありがとう ございます 。 昨日 、 退院 して きて 自分 の ベット で ぐっすり 寝た わぁ ( * ´ ▽ ` * ) 私 は 、 エア オン を かけ ず 少し ひんやり した 空気 の 中 重た めの 掛け布団 で 寝る の が 好きな ので 病室 の エアコン 管理 の 中 軽い 掛け布団 で 、 寝る の は 落ち着か ない ( * ≧ ∀ ≦ * ) 外泊 する と 、 ホテル でも そんな 感じ だ から 慣れ ない と 仕方ない んだ けど ねー ( * / ω ＼ * ) 今日 は 、 日曜日 な ので 休日 の いつも の 朝 ご飯 の ように 近所 の 焼き たて パン 屋 へ 行って パン を 買って きて 、 自宅 で 、 好きな コーヒー を 入れて まったり 頂く の が 、 恒例 ( * ´ ◡ ` * ) ♪ 普通の こと が 出来る って 嬉しい ね ヽ ( * ´ ▽ ` * ) و ✧ 朝 ご飯 を 食べたら 先日 、 たくさん 衝動 買い した 洋服 が 「 . st 」 から 届いて いる ので 、 荷 ほどき 。 合わ なかったら 返品 も し なきゃ いけない から 頑張って 、 全部 試着 した よー ( * ≧ ∀ ≦ * ) ↑ ちょっと 買い すぎた か な ？ この 写真 に 写って ない 洋服 も ある の よ （笑） 脱ぎ 着 が 大変だった わ ！ ！ なんで 、 こんなに 時期 に こんなに 買っちゃ った んだろう ？ 気 が ついて なかった けど 、 ストレス かかって た の ね 、 ワタシ (//∇//) お陰 で 、 ストレス 発散 この 洋服 たち を 入れる 為 に クローゼット の 整理 を して すべて 、 収め ました ( * ´ ▽ ` * ) ゞ そして 、 その 勢い で 下着 の コーナー も 整理 整頓 。 今回 の 病気 後 用 に 買った ソフトブラ や 、 パット 達 を ブラジャー コーナー に 収め たい ので しばらく は 着け れ な さ そうな ワイヤー 入り ブラジャー を 袋 に 入れて 、 天袋 へ 収納 ( * ´ ◡ ` * ) お 昼 ご飯 に 冷凍 パスタ を 食べて 少し お 昼寝 。 。 。 明日 から の 社会 復帰 の 為 に ２ つ の 事 を 準備 した よー ( * ´ ▽ ` * ) １ つ は 、 出勤 に 使う 車 の 運転 。 主人 に 付き合って もらって 確認 の 為 の ドライブ ( 人 ´ ∀ ` ) ２ 週間 ぶり の 運転 は ハンドル が 重たく 感じ ましたぁー ！ ！ たった ２ 週間 。 されど 、 ２ 週間 。 完全に 筋肉 が 低下 して る ね 。 少しずつ 慣れて きて 無事に 帰宅 した し ましたぁ〜 さすが に 、 疲れたぁ ( * / ω ＼ * ) そして 、 もう 一 つ は 下着 準備 (*´艸`) ♪ その 事 に ついて は 、 後日 の 日記 で 書き ます ねー で は 、 また 明日 ( * ' ▽ ' * ) ﾉ ♪ お やすみ なさい ︎ ゆき\",\n",
       " '2017 - 11 - 19 \\n 入院 12 日 目 〜 退院 〜 \\n こんにちは 、 ゆき です ( * ´ ◡ ` * ) ブログ 訪問 ありがとう ございます 。 11 月 18 日 （ 土 ） 6 時 00 分 起床 7 時 30 分 朝 ご飯 この 入院 生活 も 、 今日 で 終わり 。 なんだか 、 少し 寂しい ような やっと 、 家 に 帰れる 喜び も あり 複雑な 気分 ( * / ω ＼ * ) 8 時 00 分 頃 ドクター の 回診 。 先日 の 受診 の 際 に 、 伝える の を 忘れて た んだ けど 来週 から 、 仕事 復帰 する ので その 時 用 に 、 痛み止め を 処方 して もらい ました ( * ´ ▽ ` * ) 先生 、 お 世話 に なり ました 。 これ から も 、 受診 で お 世話 に なり ます ( * ｕｕ * ) 先生 の 回診 が 終わった ので そろそろ パジャマ から 洋服 に 着替え 帰り 支度 を しよう と 、 服 を 着たら 。 。 。 9 時 00 分 医院 長 の 総 回診 ( * ≧ ∀ ≦ * ) 土曜日 な のに ある の ？ ？ その 日 の 看護 師 さん に 聞いたら 土曜 の 回診 は 、 初めて 見た って ！ ！ どう なって る の ？ でも 、 初めて 初診 して もらった の は 医院 長 だ から 、 最後に お 会い 出来て 嬉しかった です ( o ˘ ◡ ˘ o ) ♪ 10 時 00 分 頃 担当 看護 師 さん から 、 退院 の 書類 や 次回 の 診察 案内 、 処方 さ れた 薬 など いろいろ 手渡さ れて 、 退院 手続き 終了 。 看護 婦 の 皆さん 大変 お 世話 に なり ました 。 とても 心強かった です 。 ありがとう ございました ( o ˘ ◡ ˘ o ) ♪ ありがとう 、 マイ ルーム ( * ´ ▽ ` * ) ありがとう 車 椅子 くん ！ あの 時 は 、 頼もしかった よー ( * ≧ ∀ ≦ * ) おばちゃん ッ 先 に 帰り ます ね ( * ≧ ∀ ≦ * ) おばちゃん と の 関係 は 、 こちら → ★ 見守って くださって ありがとう ございました ( * ´ ◡ ` * ) 迎え に 、 来て くれた 主人 と 久し振りに 、 ランチ して 帰ろう ！ と マクドナルド ね ( * ≧ ∀ ≦ * ) 病院 食 に 慣れて いた から 味 が 濃く 感じるぅー ！ ！ それ から 、 もう ひと つ 感じた こと 。 患側 側 に 人 が 通る 時 とっても 怖い ( * / ω ＼ * ) ぶつから ない か な ？ と 以上 に 緊張 する ね 。 少し の 人並みで も 、 ドキドキ する から しばらく は 、 人 混み に は 行か ない 方 が いいね ( * • ̀ ᴗ • ́ * ) 12 時 頃 無事に 帰宅 。 過去 、 ２ 回 の 退院 時 帰って る 途中 で 、 車 酔い に あって 大変だった けど 、 今回 は 合わ ず ヽ ( * ´ ▽ ` * ) و ✧ 入院 期間 が 長かった から 体調 が かなり 回復 して いた の か な ？ ？ 自宅 に 帰って から 荷物 を 解いて 洗濯物 の 選別 したり それぞれ の 品 を 元 に 戻して 少し 疲れた ので 、 寝よう と パジャマ に 着替え 、 ベット へ 。 。 。 しかし 、 胸 の 傷 が 痛くて 寝 れ ない 。 オペ を して から 、 過去 最高の 痛み じゃ ない か な ？ って 言う 痛み ｡ ・ (ﾉД`) ・ ｡ 少し 動けた から 、 無理 しちゃ った か な ？ ？ オペ が 9 日 だった から 、 9 日間 遅れ の 痛み です ね 胃薬 と 痛み止め を 飲んで 、 仮眠 成功 ♪ 16 時 頃 目覚めて 、 少し 早 めに 夕食 へ 出かけよう と 言う こと に なり 車 で 近所 の レストラン へ 早 めの 夕食 に した の は やっぱり 人 と すれ違い たく ない から 。 早い 計画 、 大 成功 ！ ！ お 店 に は 、 誰 も 居 なかった (人´∀`)♪ 帰って 来て から 何度 か 、 洋服 を 脱ぎ 着 して 感じた こと ( ^ ∀ ^ о ) いま まで は 、 洋服 を 着る 時 左手 を 通して から 、 右手 を 通して 、 服 を 着て いた みたい 自分 でも 知ら なかった ( * ≧ ∀ ≦ * ) けど 、 これ から 患側 の 右手 を 通して から 健 側 の 左手 を 通さ ない と 服 が 着 にくい ( * / ω ＼ * ) そんな 些細な こと でも いつも の ような リズム 感 で 支度 が 出来 ない ね 。 全て に おいて 、 時間 に 余裕 を 持って 行動 し ない と 、 慌てる こと に なっちゃ う ね 。 そして 、 早 めの 就寝 。 身体 が 身 に ついちゃ って る (*´艸`) ♪ 無事に 退院 できたぁ 〜 来週 から 、 仕事 。 一つ一つ クリアー です ね ！ ！ ありがとう ございます ( * ´ ▽ ` * ) ゆき',\n",
       " '2017 - 11 - 20 \\n 初 仕事 より ただいまぁ 〜 \\n こんばんは 、 ゆき です ( * ´ ▽ ` * ) ブログ 訪問 ありがとう ございます 。 いま 、 入院 後 の 初 出勤 から 帰って き ましたぁ ヽ ( * ´ ▽ ` * ) و ✧ さすが に 、 しんどかった けど どうにか 17 時 まで 、 仕事 出来た よー とりあえず 、 部屋 着 に 着替えて 少し 横 に なり ます (o^^o) ♪ ゆき',\n",
       " \"2017 - 11 - 20 \\n 勝負 下着 \\n おはよう ございます 、 ゆき です ( * ´ ◡ ` * ) ブログ 訪問 ありがとう ございます 。 11 月 9 日 （ 木 ） 乳房 摘出 手術 を 受け 11 月 18 日 （ 土 ） 退院 して 11 月 20 日 （ 月 ） 初 出勤 は 少し 早い と 、 思う のです が 私 は 、 職場 で 給与 計算 担当 で この 処理 は 、 私 しか 知ら ない のです ( * / ω ＼ * ) 入院 前 に 、 引き継ぎ が 出来れば 良かった のです が そんな 人材 に 余裕 も 無く 私 に も 時間 的 余裕 も 無く 結局 、 この 時期 に 一旦 、 仕事 復帰 を して 給与 計算 済ませた 後 は 、 様子 を 見 ながら 、 出勤 と さ せて もらう 事 に し ました 。 どーしても 、 終日 勤務 （ 9 時 〜 17 時 ） が 無理 なら 半日 で 帰って き ます ( * / ω ＼ * ) 今朝 は 、 久し振りに 目覚まし時計 で 目覚め いま 、 支度 中 ( ≧ ∀ ≦ ) ﾉ ↑ 昨日 、 洗濯 を 済ませた 私 の 勝負 下着 を 身 に つけて （笑） 行って き ます ( * ' ▽ ' * ) ゞ ゆき\",\n",
       " '2017 - 11 - 21 \\n 胸 の 痛み の 変化 \\n こんばんは 、 ゆき です ( * ´ ◡ ` * ) ブログ 訪問 ありがとう ございます 。 今朝 ぐらい から 胸 の 痛み の 種類 が 変わって き ました 。 私 の 場合 です が オペ （ 11 月 9 日 ） から 約 １ 週間 は 、 あまり 痛み が 無く 筋肉 が 寝て いた ような 感じ 。 11 月 15 日 頃 から は 、 キリキリ と 感じる 痛み が 慢性 的に 続き 突然 、 ズキンッ ！ ！ と 来る 痛み できれば 、 痛み止め を 飲み たい ！ っ 思う 。 昨日 （ 11 月 20 日 ） くらい まで 今朝 （ 11 月 21 日 ） から は 熱い もの を 飲んで しまった 時 に 「 食道 熱い ！ ！ 」 って 感じ の 熱 さ が 右 胸 いっぱいに 、 広がって る 違和感 が ずー と 続く 感じ 。 正確に は 、 痛み と 言う より 圧迫 感 が 強い やんわり した 痛み 。 圧迫 感 が ある ので 押さえ つけ られて る 感じ で 気 を つけ ない と とても 呼吸 が 浅く なって る 事 に 気 が つく 。 呼吸 が 浅い と いろんな 所 に 悪 影響 が ある ので 意識 的に 深呼吸 し ない と ね 。 もちろん 、 突然 来る ズキンッ ！ の 痛み は 相変わらず あり ます よぉ〜 ( * / ω ＼ * ) と は 言え 、 この 痛み が これ 以上 酷く なる 事 は 無い わけだ から 日薬 を 待つ のみ です ( * ｕｕ * ) 今夜 は 、 お やすみ なさい ︎ ゆき',\n",
       " '2017 - 11 - 21 \\n 仕事 復帰 初日 \\n こんばんは 、 ゆき ( * ´ ◡ ` * ) ブログ 訪問 ありがとう ございます 。 11 月 20 日 （ 水 ） は 、 仕事 復帰 初日 でした ( * ≧ ∀ ≦ * ) 11 月 9 日 （ 木 ） に 、 乳房 摘出 オペ を して 11 月 18 日 （ 土 ） 退院 した ところ な のに この 日 に 、 仕事 復帰 は 自分 でも かなり ハードル が 高い こと は 覚悟 して いた んだ けど 私 は 、 仕事 で 給与 計算 を 任さ れて おり この 作業 は 、 私 しか 知ら ず この 時期 に 復帰 し ない と 社員 160 人 の 今月 の 給与 が 支払わ れ ない ので ムチ打って 行く 必要 が あり ました ( * / ω ＼ * ) 事前 に 、 引き継ぎ が 出来れば 良かった のです が ９ 末 に ガン 告知 。 10 月 入院 決定 で は 引き継ぐ 人材 も 私 の 時間 的な 余裕 も 無く 今月 の 給与 時期 を 迎え ました 。 11 月 20 日 （ 月 ） 朝 、 自宅 で ヘア を セット して メイク を して 着替え を 済ませた 時点 で 少し 息切れ 大丈夫な の か 、 ワタヒ ( * / ω ＼ * ) 車 の 運転 も 歩き も 、 少し 丁寧に し たい ので 普段 より 30 分 早く 家 を 出て 駐車 場 到着 。 ここ から 、 職場 まで 約 ３ 分 ほど 歩く のです が 荷物 （ カバン 、 制服 、 お 詫び の お 菓子 など ） を 持って 歩く だけ で 、 息 ふーふー ( ； ´ Д` ) ２ 週間 ぶり の 職場 へ 制服 に 着替える の も 、 時間 が 掛かる ので ゆっくり と 。 。 。 正直 、 出勤 だけ で こんなに 息 が 上がって いて 17 時 まで 勤まる んだろう か ？ ？ (*´･ω･) と 、 思い ました が 出勤 した 以上 ひとまず 、 昼ま で 頑張ろう ！ ！ ( * ´ ▽ ` * ) ゞ 職場 の 人 達 が 出勤 して 来 られて 一人一人 に 、 ご挨拶 ( * ｕｕ * ) 詳細 を 話して い ない 人 でも ２ 週間 、 居 なかった 事 は わかって いる ので 何 か あった んだろう なぁ〜 的な リアクション 。 お 見舞い に も 来て くれた 直属 の 上司 に は 、 丁寧に お礼 と ご挨拶 を し まだ 、 本 調子 じゃ ない 事 を 伝えて 仕事 開始 。 言葉 を 発する の も しんどい し もちろん 立つ の も しんどい 。 本来 、 そんな 事 で は あかん の やけど そこ は 、 甘えて ただ ひたすら 机 に 向かって 事務 仕事 。 右手 （ 術 側 ） を 使う の も 痛い ので 左手 で 出来る こと は 、 左手 で 。 。 。 でも 、 電卓 や パソコン 筆記 は 右手 しか 使え ない 。 筆圧 が 出せ ない ので ひょろひょろ な 字 ( * ≧ ∀ ≦ * ) 必死で 、 仕事 を して も まだ １ 時間 。 少し 朦朧と して きた ので ひたすら 深呼吸 。 酸素 の 薄く なった 金魚 み たい ( ´ ω` ； ) お 昼ま で の 時間 が 一番 、 しんどかった です 。 右手 全般 の 痛み も もちろん です が 私 の 場合 は 、 何 時間 も 、 身体 を 起こして る 事 が 無かった ので それ が 一番 、 しんどかった かも 。 。 。 貧血 の ような しんど さ と 言う か 微熱 の 中 、 仕事 して る 感じ ？ もし 、 この 日記 を 見た 方 で 術後 、 仕事 や 社会 復帰 する 時 は 身体 を 起こした 生活 を しっかり 送って から 、 仕事 復帰 して 下さい ね 。 お 昼 ご飯 は 、 職場 近く の ほっと もっと で 肉 野菜 炒め 弁当 ↑ おかず だけ は 、 必死で 食べて ご飯 は 、 半分 以上 、 残して しまい ました ( * / ω ＼ * ) 痛み止め を 飲んで なだれ 込む ように 、 昼 休み は 机 で 、 伏せて 寝 ました 。 30 分 ぐっすり ( (__) ) . . zzzZZ お 昼 から も まだ 少し ぼぉ〜 と し つつ あと １ 時間 頑張ろう ！ あと １ 時間 頑張ろう ！ と 頑張って 、 どうにか ３ 時 私 の 職場 で は 、 ３ 時 に コーヒー タイム が あり みんな で 、 少し 雑談 ( * ´ ▽ ` * ) コーヒー 飲み ながら 少し 笑った 、 なんか 元気に なった ( * ´ ▽ ` * ) ＮＫ 細胞 が 働いた か な ？ 酸素 も 身体 に 入って きた か な ？ ？ あと は 、 17 時 まで 頑張れたぁ ！ ！ ヽ ( * ´ ▽ ` * ) و ✧ 帰る 頃 に は 、 身体 が 、 仕事 モード に スイッチ ＯＮ さ れた 感じ ♪ 何 か 、 乗り越え れた か な ？ と 感じた 初日 。 帰って ご飯 を 作る 元気 は さすが に 無かった ので ここ は 、 旦那 様 に 甘えて ほか 弁 を 買って きて もらい ました (*´艸`) ♪ 早寝 に 就寝 そして 、 今日 は 復帰 ２ 日 目 。 昨日 の 身体 の 具合 と は 、 全然 違う 。 朝 の 支度 も 駐車 場 から 職場 まで も 何より 朝 から 、 普通の 会話 が 出来る ！ ！ 人間 の 身体 って スゴイ です ね ( * ´ ▽ ` * ) 。 。 。 と 言って も 無理 は 禁物 。 私 は 、 明日 （ 11 月 22 日 ） まで に 給与 計算 を して 、 今週 は お 休み さ せて もらい ます 。 明日 も お 仕事 な ので 今夜 も 早 めに 寝 ます よー ( * ´ ▽ ` * ) 長々 、 付き合って くださって ありがとう ございます (o^^o) ♪ ゆき',\n",
       " \"2017 - 11 - 23 \\n 胸 の 痛み 〜 食後 〜 \\n こんばんは 、 ゆき です ( * ´ ◡ ` * ) ブログ 訪問 ありがとう ございます 。 月曜 から 三 日間 、 必死で 仕事 を して きた ので 今日 は 、 休息 日 。 朝 ご飯 食べて 、 寝て お 昼 ご飯 食べて 、 寝て いま 、 夕食 食べて 休憩 して いる ところ です ( * ≧ ∀ ≦ * ) 最近 胸 の 痛み 種類 が 変わった の と 同 時期 に 食後 に 、 とっても 胸 が 圧迫 で 苦しく なり ます 。 すべて の 傷 達 が 活性 化 して その 周辺 が 腫れて る 感じ 。 胸 から 、 背中 、 二の腕 まで 。 。 。 食事 を 摂取 する 事 で 、 細胞 の 血行 が 良く なる の か な ？ ？ 肩 で 呼吸 し たく なる 30 分 。 横 に なって 、 安静に 深呼吸 する 時間 を 取って い ます ( * ｕｕ * ) それ から 、 術 前 に は 、 無かった こと が 今朝 も あり ました 。 シャワー して いる 時 洗顔 料 で 顔 を 洗って いた のです が 無意識に 、 口 を 紡いで しまって て ふと 気 が つく と 、 酸欠 に ( * / ω ＼ * ) 危ない ！ ！ また 、 気分 が 悪く なる 所 なっ だったわ ( * ≧ ∀ ≦ * ) いつのまに 、 口 を 紡ぐ クセ が 付いて る の かしら ？ ？ 毎日 、 痛み が ある 事 で 少し 頑張る 時 に 、 口 を 紡ぐ クセ が 付いて いる みたいです 。 呼吸 が 浅く なって る の も 酸欠 の 原因 かも 。 。 。 私 、 気 を つけやー ( * ' ▽ ' * ) ﾉ ゆき\",\n",
       " '2017 - 11 - 24 \\n 退院 後 １ 週間 検診 \\n こんばんは 、 ゆき です ( * ´ ▽ ` * ) ブログ 訪問 ありがとう ございます 。 本日 11 月 24 日 （ 金 ） は 、 １ 週間 検診 へ 行って き ました ( * ´ ◡ ` * ) 先週 、 暮らして いた 場所 １ 週間 しか 経って い ない のに とっても 懐かしかった です 。 １ 週間 ぶり に 会う ドクター は 今日 も 可愛かった (*´艸`) ♪ 触診 して もらって 水 が 溜まって る から 抜いて おこう かぁ ！ ！ と 体液 を 抜いて もらい ました 。 今日 は 、 130 cc 。 前回 は 、 ドレーン を 抜いて 3 日間 で 60 cc 溜まって た から 7 日 ぶり の 今日 が 130 cc なら あまり 変わって ない 感じ だ ね ( * ≧ ∀ ≦ * ) 引き続き しっかり 胸帯 して 、 生活 して ね ！ ！ と 念 押さ れ ました ( * / ω ＼ * ) 次回 の 検診 は １ 週間 後 12 月 1 日 （ 金 ） です 。 それ から 、 胸 の 痛み が 圧迫 さ れた ような 痛み が ある 事 も 伝え ました が そういう 方 も いる ようで 問題 ない ようです 。 ただ 、 体液 が 溜まって 中 で 炎症 が 起きる と 皮膚 が 赤く なる そう な ので もし そう なったら 処置 が 必要だ から 予約 以外 でも 病院 へ 来て 欲しい です ！ と 。 それ から 、 痛み止め も 処方 して もらい ました 。 ロキソニン と 、 胃薬 。 ６ 時間 以上 空けて 、 服用 する こと ！ 昨夜 は 、 慢性 的な 痛み で 寝 つき が 悪く 何度 も 寝返り で 目 が 覚めちゃ った もん なぁ〜 今日 は 、 休み だったら 寝 不足 でも いい けど 次の 日 に 用事 や 仕事 が ある 時 の 前夜 は 、 しっかり 寝 たい もん ね ( * ≧ ∀ ≦ * ) 自分 の 体 の 変化 は 自分 で 確認 して いか ない と 誰 も 気 が ついて くれ ない もん ね 。 引き続き 、 セルフ チェック 気 を つけ ましょう ( * ´ ▽ ` * ) ゞ リハビリ も して もらおう と 予約 し に 行ったら ２ 時間 半 待ち こんなに 待つ 元気 は 無かった ので 次回 の 受診 前 に 、 予約 して 今日 は 、 帰って き ました 。 病院 は 、 少し 疲れる ねー 早 めに 寝る ゾォ ( * ｕｕ * ) ゆき',\n",
       " '2017 - 11 - 25 \\n 会い に きて くれた ♪ \\n こんばんは 、 ゆき です ( * ´ ◡ ` * ) ブログ 訪問 ありがとう ございます 。 昨日 は 、 夢 を 見 ました 。 久し振りに 、 元気な 姿 で 満面 の 笑み を たたえ 父 です ( * ´ ◡ ` * ) とても 優しい 父 でした が 晩年 は 、 認知 症 で コミュ が 思う ように 取れ ず 誤嚥 性 肺炎 で 、 去年 他界 した 父 。 夢 で の 再会 は わずかでした が 笑顔 の 父 と 会話 出来て とても 嬉しく 目 が 覚めた 後 余韻 に 浸って いたら 静かな 涙 が 出て き ました ( ； д ； ) 心配だった から 会い に 来て くれた んだ ね 。 ごめん ね 、 心配 掛けて 。 。 。 あなた の 娘 は 大丈夫です よー 少しずつ ちゃんと 元気に なり ます から こう やって 、 ブログ を 書いて いて も 涙 が 止まら なく なって きたぁ ｡ ･ ﾟ ﾟ ･ (>_<) ･ ﾟ ﾟ ･ ｡ オペ の 後 こんなに 涙 する の は 、 初めて 。 。 。 自覚 が 無かった けど 頑張って る んだ ねー 張り 詰めて る んだ ねー 私 。 父 の 笑顔 の 余韻 に 浸り つつ たまに は 、 泣き たい だけ 泣き ます 。 お 父さん 、 ありがとう ( * ｕｕ * ) ゆき ※ 去年 父 の 病院 で 、 見上げた うろこ雲',\n",
       " \"2017 - 11 - 26 \\n 傷口 テープ 貼り 替え \\n こんばんは 、 ゆき です ( * ´ ◡ ` * ) ブログ 訪問 ありがとう ございます 。 今日 は 、 久し振りに 家族 で 外食 ( * ´ ▽ ` * ) サンマルク へ 行って きた の よぉ〜 ( * ´ ▽ ` * ) サンマルク と 言えば 焼き たて の パン 食べ 放題 ！ ！ 食べ 過ぎる と 、 胸 が 苦しく なる ので いつも 以上 に 要注意 ( * ≧ ∀ ≦ * ) な んで 、 こんな 店 選んだ んだぁ ？ と 自問自答 （笑） 食べ 過ぎ で 胸 が 苦しく なる 事 も 無く 楽しい 食事 が 出来 ました (人´∀`)♪ まだまだ 、 身体 は 本 調子 じゃ 無い から 気 を つけ なきゃ だ ねー ( * ≧ ∀ ≦ * ) 目 に は 、 メバチコ （ 物もらい ） 口 の 中 は 、 口 内 炎 やんわり 頭 も 痛い しし 免疫 力 が 落ちて る ね 。 風邪 ひか ない ように し ない と 。 。 。 胸 の 痛み に 関して は 、 平常 時 は 、 胸 の 傷 も 筋肉 も あまり 痛く なく なって きた よぉ〜 日々 、 良く なって る んだ よ ね (人´∀`)♪ （ ※ 11 月 9 日 オペ で 、 今日 が 11 月 26 日 だ から 17 日 目 の 経過 です ） いま 、 一番 痛い の は 、 背中 。 筋肉 痛 的な 痛い が ずー と あり ます 。 あまり 動かして ない から 逆に 、 筋肉 疲労 起こして る の か な ？ ？ 痛く 無い 程度 に 、 守る ばかりで 無く 積極 的に 動かして みよう ( * ´ ▽ ` * ) ゞ そして 、 久し振りに 胸 の テープ を シャワー & ボディソープ で 剥がした よぉ ( * ≧ ∀ ≦ * ) トラウマ って 言う と 大げさ かも だ けど 入院 中 に 、 胸 の テープ を 剥がして いる 途中 で 酸欠 トラブル が あった から テープ 剥がし を する の が 、 ち と 怖い の よ ねぇ ( * ≧ ∀ ≦ * ) か と いって 、 自宅 で は 旦那 さん に 手伝って もらう の は なんだか 嫌だ し 、 意 を 決して 、 テープ 剥がし した よぉ ( * ´ ▽ ` * ) 少し ぐらい 痛くて も 息 を 止め ない ！ ！ まるで 、 産婦 さん の ように 口 で 「 ふーふー はー 」 と 息 を 意識 し ながら 、 成功 ！ ！ 剥がし 方 は 、 これ ね ↓ 剥がしたら 、 今度 は 貼ら なきゃ いけない から ベット に 座って 目の前 に ある タンス の 引き出し に 5 cm ほど に カット した テープ を 貼って スタンバイ ＯＫ ヽ ( * ' ▽ ' * ) 胸 の 中心 から 、 脇 に 向けて 少しずつ 貼って いき ます ( * ´ ◡ ` * ) 今日 は 、 16 枚 使用 し ました 。 終わる と 、 ひと 仕事 終えた 感 が ある わぁ やった わ 、 私 ヽ ( * ´ ▽ ` * ) و ✧ 胸 の 完成 画像 は 、 こちら ↓ テープ 被れ や 胸 帯 で の 圧迫 痕 で 、 お 肌 が ボロボロ だ ね 細かい ところ は 、 見 ないで ね ( * ≧ ∀ ≦ * ) 左 下 に ある 赤い ポチ は ドレーン の 後 ね ( * ´ ◡ ` * ) もう ２ 回 カサブタ が 取れた よーもう 、 痛く も 痒く も 無い わ ♪ さて 、 先生 に も 言わ れて る から 今夜 も 、 胸 帯 して 寝 ます 。 お やすみ なさい ( * ｕｕ * ) ゆき\",\n",
       " \"2017 - 11 - 27 \\n 当たったぁ ！ \\n こんばんは 、 ゆき です ( * ´ ◡ ` * ) ブログ 訪問 ありがとう ございます 。 再び 仕事 復帰 を 明日 に 控え 身体 を 休ま せ つつ も 体力 を 戻して おか なくて は いけない ので 寝て ばかり も 、 良く ない ですよね ( * • ω • * 人 ) 今日 は 、 実家 へ おでん を 届けて 自宅 で 、 母 と ランチ ( * ' ▽ ' * ) ♪ その後 、 近く の ショッピング モール へ オペ の 後 初めて の ショッピング モール 。 人 が 多い 所 が 怖い と 思った 退院 直後 より 心身 ともに 元気に なった 証拠 で すね ( * ´ ◡ ` * ) 無印 良品 週間 （ 全 品 10 % OFF ） 最終 日 な ので 何 か 欲しい もの が 無い か な ？ と ウィンドー ショッピング し に 行き ました 。 最終 日 と いう こと も あり 平日 な のに 、 主婦 層 で 店 内 も 、 レジ も 多く の 人 。 さすが の 私 も 人 酔い して しまって 見た だけ で 、 何も 買わ ず に 買って い ました ( * / ω ＼ * ) でも 、 行く ！ ！ と 言う こと が 私 に とって は 、 ひと つ 進歩 ヽ ( * ´ ▽ ` * ) و ✧ こう やって 、 ひと つ ずつ 回復 して いく んです ね ( * ´ ◡ ` * ) 帰って 来たら 荷物 の 不在 票 が 入って い ました 。 いま 、 何も 頼んで ない のに 何 だろう な？ と 再 配達 して もらう と 。 。 。 先月 に 買った ハッピー ハロウィン 宝くじ の キャンペーン で 「 KIHACHI 」 の 焼き 菓子 詰め合わせ が 当たった わん (人´∀`)♪ 嬉しい なぁ〜あっ ！ ！ 宝くじ も まだ 見て なかった ( * ≧ ∀ ≦ * ) 明日 、 宝くじ の 番号 も 確認 し に 行って みようー ( * ´ ▽ ` * ) 今夜 は 、 お やすみ なさい ( * ｕｕ * ) ゆき\",\n",
       " \"2017 - 11 - 28 \\n 再び 仕事 復帰 出来た よー \\n こんばんは 、 ゆき です ( * ´ ◡ ` * ) ブログ 訪問 ありがとう ございます 。 退院 後 、 すぐ に 3 日間 出勤 した 後 再び 5 日間 お 休み もらって 今日 、 仕事 復帰 し ました ( * ' ▽ ' * ) ﾉ 前回 復帰 した 時 は 「 あと １ 時間 したら 、 早退 しよう 」 と １ 時間 過ぎる の が 必死でした が 今日 は 、 どうにか 17 時 まで 仕事 が 出来たぁ ヽ ( * ´ ▽ ` * ) و ✧ １ 週間 前 と は 違う 自分 に 、 少し 感動 ！ 少しずつ 回復 して る ねー (o^^o) ♪ でも 、 元気な 頃 なら アフター ５ の 予定 を 入れる 体力 は あった けど いま の 私 に は 、 まっすぐ 帰る が 精一杯 ( ≧ ∀ ≦ ) ﾉ 帰って 来て 、 ホッと して 仮眠 ( * ｕｕ * ) 夕食 も 食べて し お 風呂 に 入って 寝 ますぅー ( * ´ ▽ ` * ) 今日 も 感謝 お やすみ なさい ( * ｕｕ * ) ゆき\",\n",
       " '2017 - 12 - 01 \\n 無 縫製 タンクトップ と 、 パット を 装着 して みた ！ \\n こんにちは 、 ゆき です ( * ´ ◡ ` * ) ブログ 訪問 ありがとう ございます 。 昨日 は 、 美容 室 へ 行く のに 胸 帯 で は 無く 、 タンクトップ に パット を 入れて 、 出掛けて み ました ( * ´ ◡ ` * ) ↑ 『 キレイ ラボ 無 縫製 シリーズ タンクトップ 』 1,600 円 （ 税 別 ） 商品 の ウリ と なって いる 完全 無 縫製 の タンクトップ は 脇 の 縫製 は もちろん 無く 筒 型 の 生地 に 、 首 と 腕 を 出す カット が 施さ れて いて パット を 入れる 部分 も 縫製 で は 無く 圧迫 で くっ付いて る の か ？ 接着 剤 で くっ付いて いる の か ？ 私 に は 、 わから ない くらい 安定 感 の くっ付き です ( * ´ ◡ ` * ) 肌触り は 、 とても 気持ちよく 綿 素材 の ような 柔らか さ と 温か さ を 感じる 素材 で ゴツ すぎ ず 、 薄 すぎ ず 少し の 収縮 性 も あって 私 好み の 素材 でした (人´∀`)♪ ただ 、 純正 の パット は 少し 安っぽい 感じ で 私 の 左 胸 （ 健側 ） に は 合わ なかった ので 別の 手持ち パット を 装着 。 そして 、 右胸 に は 楽天 市場 の 『 下着 専門 店 の アン 』 さん で 事前 に 購入 して いた パット を ２ 種類 装着 して み ました ( * ´ ◡ ` * ) ① 生 ゴム パット 大 『 生 ゴム パット （ 大 ） 』 1,800 円 （ 税 別 ） 中身 は 、 天然 の 生 ゴム だ そうです 。 比較的 軽く 、 まだ 傷 に 痛み が ある 私 に も 安心 。 ↑ 向かって 左 （ 術 側 の 右 胸 ） に 、 パット が 入って ます 。 どう かしら ？ ？ ※ 向かって 右 （ 健側 の 左 胸 ） の 下 から 出て いる パット の 角 は 、 私 の 装着 が 悪い だけ です ごめんなさい ② シリコン 入り パット Ｍ 『 シリコン 入り パット Ｍ 』 3,900 円 （ 税 別 ） こちら は 、 中身 が シリコン な ので 生 ゴム より 重 み が あり ます 。 形 も 涙 型 な ので 細い 部分 を 上 に したり 横 に したり 健 側 の 胸 と バランス を 取り やすい かも 。 ↑ こちら も 、 向かって 左 側 が パット です 。 正面 の 写真 から の 見比べ で は あまり わかんない で すね ( * ≧ ∀ ≦ * ) 私 の 装着 な 感想 です が 高 さ ： 私 の 本来 の 胸 （ Ｄ カップ ） の 比較 に なる のです が ① は ４ cm ② は ５ cm 少し の 差 で は あり ます が 同じ くらい の 高 さ が 出て いる ② シリコン 入り の 方 が 私 の 目線 から の 違和感 は 無かった です 。 重 さ ： ① 生 ゴム タイプ だ と 軽い と 身体 から 離れて 少し 浮いて る 感じ が し ます 。 でも 、 傷 が 気 に なる 私 に は 優しい ( * ´ ◡ ` * ) ② シリコン だ と 少し 重 み が ある ので 身体 に は 、 フィット 感 が ある もの の ポンポン 当たる 感じ が 気 に なる の と 当たり前だ けど 、 健 側 の 胸 は 動か ない ので パット だけ が 動く 感じ に 左右 差 が 大きく 出る 感じ 。 これ も 慣れ か な ？ ？ カタチ ： ① は 、 まん 丸 な ので 向き は 、 どちら 向き と か は 無い ② は 、 波 が 型 な ので 細い 部分 を どこ に 置く か でも カタチ は 違って くる と 思う 。 私 の 胸 は 、 少し 開き 気味な ので 細い 部分 を 身体 の 中心 に 向ける の が 一番 、 収まり が 良かった か な ？ ？ 結局 、 この 日 は ② シリコン 入り を つけて 出掛け ました 。 手術 の 事 を 知って る ２ 人 に 服 の 上 から 見て もらい ました が 左右 差 に 違和感 が 無い ！ と 高 評価 を もらい ました ( * ´ ▽ ` * ) ただ 、 個人 的に は 出掛ける 時 は 、 ずー と ブラジャー を 装着 して 、 ホールド 感 が あった ので タンクトップ に パット だけ で 出掛ける 事 に も 少し 違和感 が あり ました 。 傷 に も 優しい と 言う ソフトブラ も 買って 見た ので 今度 は 、 それ を 装着 して み ます ( * • ω • * 人 ) ながなが 読んで 下さって ありがとう ございます ( * ´ ◡ ` * ) ゆき',\n",
       " \"2017 - 12 - 09 \\n 術後 一 ヶ月 経ち ましたぁ〜 \\n こんばんは 、 ゆき です ( * ´ ◡ ` * ) ブログ 訪問 ありがとう ございます 。 2017 年 11 月 9 日 右 乳房 全摘 オペ を 受けて 本日 で 、 ちょうど １ ヶ月 。 お陰 様 で 、 順調に 回復 中 です ( ^ ∀ ^ о ) 現在 の 状況 を 書き ます ね 。 昨日 は 、 退院 後 ３ 回 目 の 検診 へ 行って き ました 。 傷 の 状態 は 、 良好だ そうです ♪ 今回 は 、 体液 を 抜く ほど 、 溜まって い なかった ので 、 抜か ず 。 これ で 、 傷 へ 検診 は 終了 ヽ ( * ´ ▽ ` * ) و ✧ 体液 だけ の 経過 を 見る と 退院 後 、 １ 週間 目 で 130 cc 。 二 週間 目 で 65 cc 。 今回 は 、 体液 抜か ず (人´∀`)♪ 当たり前の こと かも しれ ない けど ちゃんと 、 日薬 で 良く なって る 改めて 、 嬉しい 現実 です ( * ´ ◡ ` * ) そして 、 湯船 に 浸かる 許可 も 出 ました ヽ ( * ´ ▽ ` * ) و ✧ これ から 冬 本番 で 、 寒く なる ので 湯船 ＯＫ は 嬉しい ♪ ただし 、 条件 付き ① 一番 風呂 限定 ② 傷 に 貼って ある テープ を 取って 洗って から 早速 、 夜 に 入った よ (*´艸`) ♪ 気持ち良 かったぁ〜 私 の 傷 の 痛み と して も 傷 の 突っ張り 感 も かなり 減り 胸筋 肉 が 、 常に 熱 を 帯びて る 感 も なくなり 背中 の 筋肉 痛 的な 痛み も ほぼ 、 無し 。 ただ 、 全く 何も 無かった 訳 に は まだまだ いか ない ので 右手 を 全力 で 上げたり 、 前 に する の は 無理 。 睡眠 時 の 姿勢 も もちろん 、 左 下 （ 健側 ） が 痛み ゼロ 。 真 上 を 向いたり 右下 （ 術 則 ） を 下 に する の は かなり 注意 が 必要だ けど ゆっくり 寝返り すれば 、 出来る 程度 に なって き ました ( * ´ ▽ ` * ) 術 後 、 ３ 週間 くらい 経って いまさら です が 皆さん オススメ の ミニ クッション を 購入 して 、 抱いて 右手 を 乗せて 寝て い ます (o^^o) ♪ かなり 楽です ねー ( * ≧ ∀ ≦ * ) 早くから 導入 すれば 、 良かった です ( * ´ ◡ ` * ) 皆さん 、 情報 ありがとう ございます ♪ そして 、 私 の 次の 診察 は 、 12 月 19 日 担当 ドクター より 摘出 した 乳房 と センチネル リンパ 節 の 細胞 診 の 結果 報告 と 今後 の 治療 方針 の 相談 と なり ました 。 少し ドキドキ する けど 細胞 診 は 、 もう 決まって いる だし まな板 の 鯉 の つもり で 、 覚悟 して 行って き ます ( ^ ∀ ^ о ) 仕事 も ほぼ 毎日 行ける ように なり やっと 、 アフター ５ の 予定 も 入れ れる 体調 に 戻って い ました ( * ' ▽ ' * ) ﾉ ♪ 来週 は 、 忘年 会 ２ つ 車 の スノー タイヤ チェンジ や 年 末 の 準備 を 少しずつ して いく 予定 です 。 ありがとう ございます ( * ´ ◡ ` * ) ゆき\",\n",
       " \"2017 - 12 - 20 \\n オペ 摘出 おっぱい の 細胞 診 結果 \\n おはよう ございます 、 ゆき です ( * ´ ◡ ` * ) ブログ 訪問 ありがとう ございます 。 昨日 12 月 19 日 は 、 全摘 した 右 乳房 の 細胞 診 結果 報告 と 今後 の 治療 相談 へ 行って き ました 。 まずは 、 細胞 診 結果 から 。 。 。 。 オペ 前 の 診断 通り 乳房 内 の がん 細胞 に 浸潤 は 無し な ので 、 もちろん センチネル リンパ 節 へ の 転移 も 無し 想像 通り だった ので やったぁ ！ ！ ヾ ( * ´ ▽ ` * ) 八 ( * ' ▽ ' * ) ﾉ と 雄 叫び を 上げる ほど の 喜び で は 無かった けど 小さく ガッツ ポーズ ( * ´ ▽ ` * ) و 改めて 、 私 の ステージ は 浸潤 がん が 無い ので 、 ステージ ０ 摘出 した がん を サイズ 測定 が 無理な ので 、 大き さ も ０ cm と 記載 さ れて い ます 。 と 、 言う 事 で 右 乳房 の がん 治療 は 、 一旦 終了 。 最良の 結果 で 、 良かった です 。 ありがとう ございます ( * ｕｕ * ) 今回 の がん の 性格 を 見て もらう と 「 女性 ホルモン を 栄養 に 育つ がん 」 だ そうで その がん が 出来る タイプ の 人 は 残って いる 健 側 左 乳房 に も がん が 生まれる 可能 性 が 通常 の 人 より １ . ５ 倍 高い そうな のです 。 な ので 、 今度 は 左 乳房 の がん 予防 の 為 に ホルモン 治療 を 始める 事 を 勧め られ ました ( * ｕｕ * ) それ も 、 オペ の 前 に 話し して くださって いた 事 な ので 想定 内 でした 。 あくまで 予防 な ので しんどかったら 、 無理 する 事 も 無く やめて も いい し あまり 負担 に なら ない よう なら やって みる 価値 は ある ような ので 私 は 、 やって みる 事 に し ました (人´∀`)♪ 「 タモキシフェン 錠 20 mg 」 乳 がん 患者 さん の 間 で は 「 タモ 」 と 愛称 で 呼ば れて いる ぐらい 有名な お 薬 の ようです 。 １ 日 １ 錠 いつ 飲んで も いい そうな のです が これ から 長い 付き合い な ので 忘れ ない ような 飲み 方 を ！ 私 は 朝 ご飯 の 後 に 飲む 事 に し ました ( * ´ ◡ ` * ) 飲んだ か ？ 飲んで 無い の か わから なく なら ない ように 日 にち を 記載 し お 気に入り の トマト の 容器 に 入れ 食卓 に 並べ ました まずは 、 12 月 20 日 分 を １ 粒 副 作用 は 、 飲み はじめ の １ 週間 が 一番 、 症状 が あわ られる そうです 。 いく つ か あり ます が 出たり 出 なかったり だ そうで まずは 飲んで み ない と わから ない ので 飲んで から 、 変化 を 感じて み ます ( * ´ ◡ ` * ) 私 は 、 子宮 筋腫 の 治療 の 為 に ホルモン 治療 を して いた 事 も あり 薬 の 種類 は 違う けれど 更年期 症状 は 、 20 代 の 頃 より 体験 済み 更年期 が どんな 症状 な の か だいたい 想像 も つく ので この お 薬 の 副 作用 が どれほど 出る の か ある 意味 楽しみ で も あり ます (*´艸`) ♪ 副 作用 が どのように 出た か は また 、 ブログ で 報告 し ます ね ( ^ ∀ ^ о ) で は 、 お 仕事 行って き ます ( * ' ▽ ' * ) ゞ ゆき\",\n",
       " \"2017 - 12 - 25 \\n 「 タモキシフェン 」 ５ 日 目 \\n おはよう ございます 、 ゆき です ( * ´ ◡ ` * ) ブログ 訪問 ありがとう ございます ♪ 先日 の 日記 に たくさんの いい ね ♪ を ありがとう ございました ( * ´ ▽ ` * ) お陰 さま で 穏やかな 気持ち で 年 末 を 過ごして い ます 。 だから と 、 いって 乳 がん 患者 である 事 を 忘れる 事 も 無く 頭 の 片隅 に 置いて 生活 して い ます 。 そんな 中 の ひと つ で 先日 の 検診 で 、 ドクター より 提案 して いただいた 健側 左 乳房 の 予防 の ため に 12 月 20 日 から タモキシフェン （ Mylan ） を 服用 して い ます 。 12 月 24 日 まで の ５ 日間 服用 を 終え 、 経過 を 報告 し ます ね ( * ' ▽ ' * ) ゞ 私 は 、 朝 の 食事 後 （ 7 時 頃 ） に 服用 して い ます 。 忘れ ない ように する の も 大切です もん ね ♪ 初日 は 、 服用 して から ２ 時間 くらい で 耳 の 裏 あたり の 後頭 部 が 痛く なって き ました 。 忙しい 仕事 に 集中 出来 ない と 困る ので 胸 の 傷 の 痛み 用 に 処方 して もらって いた 痛み止め ロキソニン を 飲み ました 。 あまり 気 に なら ない 程度 に 治った ので 仕事 は スムーズに 出来 ました ( * ´ ◡ ` * ) ２ 日 目 は 、 服用 後 数 時間 は 変化 は 感じ られ ず 、 何も 現れ ない か な ？ と 思って いたら 、 午後 ２ 時 頃 昨日 同様の あたり に 頭痛 が 出て 来た ので また 、 ロキソニン を 飲み それ で 、 治り ました ( * ｕｕ * ) ３ 日 目 の 今日 は 、 朝 から 左 ヒザ の 痛み と 肩 コリ が 強く 感じ られ ます 。 寒い から 、 たまたま 痛み が 出た だけ で 、 副 作用 で は 無い かも しれ ない です けど ね ( * ≧ ∀ ≦ * ) 痛み止め を 飲む ほど で も 無かった ので 飲ま ず に 過ごしたら ヒザ の 痛み は 和らぎ ました 。 やっぱり 寒かった から か な ？ ( * / ω ＼ * ) そして 、 ４ 日 目 、 ５ 日 目 と 服用 して 副 作用 的な 症状 は 、 特に 無い ようです 。 な ので 、 まずは 次の 受診 （ 1 月 11 日 ） まで 引き続き 服用 して み ます ( * ´ ◡ ` * ) 週 末 は 、 街 は クリスマス でした ねぇー 皆さん は 、 どんな クリスマス を 過ごさ れ ました かぁ ？ ？ 私 は 、 週 末 に 京都 で クリスマス ♪ 今日 は 、 ケーキ を 買って 自宅 で クリスマス し ます 皆さん も 、 ステキな クリスマス を ゆき\",\n",
       " \"2017 - 12 - 26 \\n ワコール 「 リマンマルーム 」 へ 行って きた よ \\n こんばんは 、 ゆき です ( * ´ ◡ ` * ) ブログ 訪問 ありがとう ございます 。 最近 は 、 この 日記 に 書き たい 事 が いく つ か あって 頭 の 中 に は 、 構想 が ある んだ けど アウト プット する 時間 と 体力 が 無い ( * ≧ ∀ ≦ * ) まだまだ 、 疲れ やすい ので 夜 は 早 めの 就寝 に なっちゃ うし ね 。 少しずつ 進め ます ね ( * ´ ◡ ` * ) 先週 末 に ワコール に ある 「 リマンマルーム 」 へ 行って きた 事 を 書き ます ね ♪ 京都 へ 用事 が あった ので 、 出かけた 帰り ワコール 京都 の 近く を 通った ので ふらり と 立ち寄っちゃ い ました 。 完全 予約 制 だ と は 知ら ず ワコール ビル の 受付 で 、 「 リマンマ ルーム へ 行き たい のです が 、 どちら です か ？ 」 と 、 お 気軽な 私 ( * / ω ＼ * ) 受付 嬢 は 、 「 完全 予約 制 な のです が ご 予約 は いただいて い ます か ？ 」 と 言わ れて 、 予約 を して ない 事 を 伝えたら 担当 者 に 確認 して くれて 急な 訪問 に も 関わら ず 短 時間 なら と 案内 して 下さる と 通して くれ ました (*≧∀≦) ゞ ほんと 、 ごめんなさい インターホン で 、 予約 確認 する 入口 が あり 厳重 セキュリティ の 中 リマンマ ルーム へ お邪魔 し ました ♪ ※ この 写真 は 、 公式 サイト より お 借り し ました 完全 個室 に なって おり 下着 や パット の サンプル が 並び 商品 を 直接 触ら せて もらえ ます 。 カルテ に 、 住所 、 名前 、 オペ の 日 など を 記入 して いま 、 希望 して いる こと や 気 に なる 事 を 丁寧に 聴いて ください ました 。 この 日 、 私 は リマンマルーム が どんな 所 が 見て み たい ！ ！ ！ と 言う の が 希望 だった ので 、 特に 具体 的な 希望 は なかった のです が しいて 言う なら 、 パット が 私 の 健 側 と サイズ が 合って い ない 気 が した ので パット を 見せて もらう こと に し ました ( * ´ ◡ ` * ) パット だけ でも 、 何 種類 も あり ます 。 シリコン 入り の とても 柔らかい 素材 の もの は 素材 感 も カタチ も たくさん あり 価格 も 20,000 円 オーバー と 少し お 高め ( * ≧ 艸 ≦ ) ※ シリコン パッド に ついて 詳しく は 、 こちら 予約 も 無く 伺い 、 時間 も 無かった し 高級 パット は 、 また 日 を 改める 事 に して この 日 は 、 「 リマンマパット 」 3,240 円 を 購入 する 事 に し ました 。 ↑ 貝 の ような 形 を した パット 低 反発 ウレタン の パット で 真ん中 に 、 程よい 重 み を 持た せる 為 に シリコン の 芯 が 入って いる そうです 。 サイズ は 、 M 、 L 、 LL の ３ 種類 。 L サイズ と 、 LL サイズ を お 試し さ せて もらい ました ( * ´ ◡ ` * ) 結果 、 私 の 胸 に は LL サイズ が ちょうど いい 感じ な ので それ を 早速 、 付けて 帰って き ました ( * ´ ▽ ` * ) ♪ 重 さ は 、 50 g 横 は 、 165 mm 縦 は 、 135 mm 高 さ は 、 45 mm これ を 購入 する まで に付けて いた の は ↓ 涙 型 の パット を 縦長に 使って いた のです が 縦 横 が ずいぶん 違う ので 服 を 着た 時 の 仕上がり 感 が だいぶん 違い ます 。 私 は 、 リマンマパット の 方 が 健側 の 胸 に 近い ので 、 自然な 仕上がり です 。 胸 の 高 さ も 大切です が バスト トップ まで の なだらかな 丘 が 大切です ね ( * ´ ◡ ` * ) ワコール 京都 の リマンマルームスタッフ さん 急な 訪問 な のに 、 快く 対応 して くださって ありがとう ございました ( * ≧ ∀ ≦ * ) 今度 は 、 ちゃんと 予約 して から 伺い ます ので 、 よろしく お 願い し ます ( * ´ ◡ ` * ) 下着 の 話 ついでに ブラジャー の お 話 も ♪ いま 、 こちら を 使って ます ヽ ( * ' ▽ ' * ) ﾉ トリンプ の 「 sloggi （ スロギー ） 」 3,024 円 （ 税込 ） で 、 いろんな 色 が あって 選ぶ の も 楽しい ♪ 詳しく は 、 こちら 乳 がん 患者 に も 優しい ブラ で 裏 は 、 パット を 入れる ポケット が あり ます 。 ↑ ※ 裏返した 画像 です 。 購入 時 に も 、 一般 的な パット は 付いて ます 。 少し 安っぽい けど ( * ≧ 艸 ≦ ) パット 入り口 は 、 狭い けど 私 が 買った 「 リマンマパット 」 LL も 入り ます よん ♪ いわゆる 無 縫製 みたいで 縫い目 など も 、 あまり 気 に なら ない し 私 は 、 胸 へ の 圧迫 感 を あまり 感じ ない です 。 何より 本体 が とても 伸び が いい ので 上 から かぶって 着る の が しんどい 時 も 下 から 履け ます (人´∀`)♪ お 気に入り の ブラジャー が 見つから ない 方 オススメ です ヽ ( * ´ ▽ ` * ) و ✧ あっ ！ ！ この 宣伝 で 、 何 か もらったり アフェリエイト など の 収入 は あり ませ ん ので ご 安心 ください ね ( * ≧ ∀ ≦ * ) さて 、 明日 の 為 に 今夜 も 寝 ます 。 お やすみ なさい ( * ｕｕ * ) ゆき\",\n",
       " \"2017 - 12 - 28 \\n 大阪 の 人 混み へ \\n こんばんは 、 ゆき です ( * ´ ◡ ` * ) ブログ 訪問 ありがとう ございます 。 今日 は 、 仕事 終わり に 用事 が あって 、 梅田 へ ( * / ω ＼ * ) 術後 、 アフター ５ の 予定 を 入れた の も 、 初めて ！ その 上 、 この 時期 の 梅田 へ 出掛ける なんて なかなか の 冒険 (*≧∀≦) ゞ 胸 に 人 や モノ が 当たったら 痛い もん ね 、 きっと 考えた だけ で 、 ゾッと する けど だ から と 言って 、 いつまでも 逃げて い られ ない 。 何事 も はじめて の 事 は ある わ！ 乗り越える のだ ヽ ( * ´ ▽ ` * ) و ✧ 18 時 過ぎ 梅田 は 到着 。 案の定 スゴイ 人 ( * / ω ＼ * ) 左 の 胸 を かばう ように 人 の 波 に 逆らわ ず みんな と 同じ ペース で 歩けば 、 大丈夫 ！ と 言い聞かせ ながら 。 。 。 最初 は 、 肩 の 力 も 入って 少し 怖かった けど 帰る 頃 に は 、 慣れて きた わ ( * ´ ▽ ` * ) これ で 、 また 新たな 冒険 成功 ヾ ( * ´ ▽ ` * ) 八 ( * ' ▽ ' * ) ﾉ 少しずつ いろんな 事 が 出来て いく の よ ねー 今夜 も 感謝 です ( * ´ ◡ ` * ) お やすみ なさい ️ ゆき\",\n",
       " \"2017 - 12 - 28 \\n もらって くれ ませ ん か ？ ？ \\n おはよう ございます 、 ゆき です ( * ´ ◡ ` * ) ブログ 訪問 ありがとう ございます 。 先日 、 伺った ワコール 「 リマンマ ルーム 」 で 購入 した パット が なかなか 良い 感じ です ( * ´ ◡ ` * ) 手触り は 、 少し 硬い ので 身体 に 沿う 感じ で は 無い のです が 視界 に 入る 胸 に 違和感 が 無い ので 落ち着き ます ♪ 胸 の 傷 の 保護 など の 効果 も あり ます が 精神 的な 安定 って 、 ありがたい です ( * ｕｕ * ) それ で 、 思った のです が 直近 まで 、 使って いた パット は いま の 代役 と して 使う かも しれ ませ ん が 購入 して から １ 度 だけ しか 着用 して い ない 「 生 ゴム パット （ 大 ） 」 ↓ それ から 、 ２ 枚 セット で 購入 し まだ 使って い ない もう １ 枚 の ブラ 「 前 開き ブラジャー 」 モカ 色 ↓ パット と ブラ の セット を これ から 、 乳房 摘出 施術 を 受ける 方 も し 、 この ブログ を 見て おら れたら もらって 下さい ませ ん か ？ ？ ？ 住所 を 教えて もらわ ない と いけ ませ ん が 、 こちら より 送り ます ( * ´ ◡ ` * ) メッセ で やりとり し たい ので アメブロ 利用 者 限定 に は なって しまい ます が 。 。 。 。 ぜひ 、 メッセ ください ( * ' ▽ ' * ) ゞ ゆき\",\n",
       " \"2018 - 01 - 02 \\n 謹賀新年 \\n あけ まして おめでとう ございます ( * ´ ▽ ` * ) ブログ 訪問 ありがとう ございます 。 年 末 年始 、 皆さん の ブログ で 2017 年 を 振り返り アップ さ れて て 告知 さ れたり 、 手術 したり 治療 で ツラかったり した 日記 を 読んで 涙 を 流した お 正月 です ｡ ･ ﾟ ﾟ ･ (>_<) ･ ﾟ ﾟ ･ ｡ それ は 、 私 も 2017 年 を 同じ ように 思い で 過ごした から かも しれ ませ ん ね 。 。 。 皆さん が 書いて くれた 日記 で 2017 年 を 振り返った ので 私 は 、 振り返り 日記 は 書か ないで おき ます ね ( * ´ ◡ ` * ) ありがとう ございます ♪ 年 末 に 、 ブロ 友 さん の ブログ で 紹介 さ れて いた 商品 を 買い ました ( * ´ ▽ ` * ) ↑ 「 温泉 タオルン 」 2,900 円 （ 税 別 ） 自然に 胸 を 隠せる と いう なんと 魅力 的な タオル (o^^o) ♪ 明日 から 、 一 泊 で 家族 と 温泉 旅行 に 行く ので 見かけて すぐ 買い ました ヽ ( * ´ ▽ ` * ) و ✧ 私 は 、 2017 年 秋 に 全摘 した 後 はじめて の 旅行 & 温泉 な ので 、 大 浴場 に 行く 勇気 が 出 ない かも しれ ない と 思い つつ の 計画 でした 。 行く 勇気 が 持てたら 、 大 浴場 へ 行こう ！ 持て なかったら 、 お 部屋 の お 風呂 に 入ろう ！ そう 思って いた ところ に この 商品 を 知り ました (o^^o) ♪ すでに 事前 に 洗濯 して 準備 ＯＫ ( * ' ▽ ' * ) ゞ 旅行 に 持参 し ます 。 大 浴場 に 行って みよう ！ ！ って 、 気持ち が 少し だけ ＵＰ し ました ↑ ↑ どんな 気持ち で 旅行 を した か また ブログ で 報告 し ます ね ( * ´ ◡ ` * ) そして 、 私 の 胸 の 傷 アップ し ます ね 。 もし 、 自分 と 重ねて 辛く なり そうな 方 は 、 見 ないで ください ね ( * / ω ＼ * ) ↓ ↓ ↓ ↓ ↓ ↓ ↓ ↓ ↓ ↓ ↓ ↓ ↓ ↓ ↓ ↓ ↓ ↓ ↑ 11 月 9 日 右 乳房 全摘 した 後 の 胸 の 傷 です 。 ※ 左 の 乳頭 全開 です けど 、 載せちゃ い ます ( ≧ ∀ ≦ ) 最近 は 、 胸 が ウインク して いる ように 見えて 朝 は 、 目 も ウインク して Ｗ ウィンク を 楽しんで い ます ( - o ^ ) こんな 私 です が 今年 も よろしく お 願い し ます ( * ´ ▽ ` * ) ゞ ゆき\",\n",
       " \"2018 - 01 - 05 \\n ２ つ の ミッション \\n こんばんは 、 ゆき です ( * ´ ◡ ` * ) ブログ 訪問 ありがとう ございます ♪ 1 月 3 日 から 京都 へ 一 泊 旅行 に 行って き ました (人´∀`)♪ 今年 の お 正月 は 、 “ ゆっくり の 旅 ” を テーマ に 何の 予定 も 入れ ず 、 15 時 に ホテル チェックイン ！ 仲居 さん に 、 お 茶 を 入れて もらって 一息 したら 、 早々 に 荷 ほどき 。 今回 の 旅行 の 為 に 買った 「 温泉 タオルン 」 を 取り出す ( * ' ▽ ' * ) ﾉ ドラえもん の 秘密 兵器 を 出した ような 特別 感 （笑） 大 浴場 開放 に 備えて スタンバイ ！ 初めて の お つかい ♪ の ように ソワソワ ドキドキ ( * / ω ＼ * ) ♪ 握りしめて 、 開放 の 16 時 を 待ち ます ( * ｕｕ * ) お 風呂 に 入る 前 に 試し つけ こんな 感じ です ( * ' ▽ ' * ) ﾉ ↓ タオル の 右 端 に 穴 が 空いて る ので そこ に 、 左 の 端 を 通して 使い ます 。 結構 、 安定 感 が ある ので まるで 、 肩 と 胸 だけ 見る と サマー ドレス 着て いる ような ボリューム 感 。 ちなみに 、 お 宿 に 付いて いた タオル を 身 に つける と こんな 感じ ！ ↓ どー みて も 小さい 無理やり 広げて みた けど 左 の おっぱい 、 半分 出て る し ( * ≧ ∀ ≦ * ) 実際 の 大き さ を 比べて みる と こんな 感じ ↓ 長 さ も 幅 も 随分 違い ます 。 胸 が 隠れる 安心 感 は 初めて 大 浴場 に 行く 私 に とって は とっても サポート に なり ました (人´∀`)♪ そして 、 １ つ 目 の ミッション の 為 いざ 出陣 ！ ！ 16 時 すぎ に 大 浴場 へ 行く と 計画 通り 一番乗り ヽ ( * ´ ▽ ` * ) و ✧ サッサッ と 脱いで 「 温泉 タオルン 」 を 装着 して 大 浴場 へ 掛け 湯 を して から 急ぎ足 で 、 湯船 へ もちろん 、 マナー と して タオル を つける の は 良く 無い と 思った ので 通して いた タオル を ほどき 両 はし を 頭 に 乗せて インド 人 ヘア ？ に （笑） 湯船 に 浸かったら なんとなく 、 肩 でも 揉む ような 感じ で さりげなく 隠して おり ました ( * ｕｕ * ) この 時点 で は 、 誰 も い ない けど シュミレーション ね (*´艸`) ♪ そう こうして いる うち に ほか の お 客 さん が 脱衣 所 に 入って きて 服 を 脱いで る 気配 が する ( * ≧ ∀ ≦ * ) いま すぐ 出る と 鉢合わせ しちゃ う ので 入って 来 られる まで ドキドキ し ながら 待つ ( σ ≧ ∀ ≦ ) σ ３ 人 の お 客 さん が 大 浴場 に 入って 来 られたら 温泉 タオルン の 端 を 通して 湯船 から 離脱 ！ ！ 一番 、 端 の 目立た ない 洗い場 で 体 を サッと 洗う ( * / ω ＼ * ) 体 を 洗う 時 は 少し 邪魔でした (*≧∀≦) ゞ 水 を 含む と 、 当然 重たく なる し 泡 や 水 を 含んだら タオルン も 洗って 絞り たい し 。 。 。 少しずつ 慣れて くれば 勇気 を 持って インド 人 ヘア ？ に して も いい かも ( * ´ ◡ ` * ) でも 、 今回 は まだ 外せ なかった ので タオルン を 肩 に かけた まま 体 を 洗って タオルン と 一緒に 流して 、 出 ました ！ 脱衣 所 に 行く と 幸い 誰 も い なかった ので バス タオル で 体 を 拭いて 下着 だけ 身 に つけて から タオルン を 洗面 所 で 洗い ました ( * ´ ◡ ` * ) タオルン の 感想 は 、 ① 大き さ も 厚 み も 使い やすい サイズ で Good ！ ② 穴 が 空いて る ので 通した 時 の 安定 感 サイコー ！ ③ 身体 を 洗う 時 は 、 少し 邪魔だ けど 。 。 。 ④ 2,900 円 コスパ は 決して 良い と は 言え ない ⑤ 大 浴場 へ 行く ！ ミッション の 後押し あり が と ♪ このような 個人 的 感想 で 私 は 買って 良かった です ( * ´ ◡ ` * ) 少し 落ち着いたら スポーツ ジム へ も 行き たい し そう なったら 、 フル 活用 だ もん ねー ♪ ありがとう ！ 「 温泉 タオルン 」 とりあえず “ はじめて の 大 浴場 へ 行く ！ ！ ” ミッション クリアー ヾ ( * ´ ▽ ` * ) 八 ( * ' ▽ ' * ) ﾉ 緊張 して 、 めちゃ 疲れた ( * ≧ ∀ ≦ * ) 夕食 を 頂いて から 八坂 神社 へ お参り 三が日 を 過ぎて いた ので 比較的 、 夜 は 空いて ました ( * ´ ◡ ` * ) 押し合いへし合い の 大晦日 など は いま の 私 に は 、 まだ 行け ない 場所 です 夜 の 祇園 を 散歩 して スタバ で コーヒー 飲み ながら 雑談 ️ 私 「 右 （ 術 側 ） を かばう 生活 を して いる から 右 の 背中 や 肩 が 異常に 痛い よぉ 」 旦那 さん も 「 普段 の 疲れ を ほぐして もらい たい 」 って 話 に なって 、 急遽 、 マッサージ へ 行って みよう ！ って こと に なり まして 。 。 。 スマホ で 、 すぐ リサーチ して 近く の マッサージ 屋 さん へ 私 は 、 女性 を 指名 して オイル で リンパ を 流す 系 の 優しい マッサージ を オーダー ( * ｕｕ * ) 個室 に 案内 さ れて から 対応 施術 者 さん に オペ の 話 を して 理解 して もらった 上 で リンパ マッサージ を して もらい ました ( * ' ▽ ' * ) ゞ 長い 時間 の うつ伏せ が しんどい かも しれ ない し 胸 は 直接 触ら ない に して も 背中 や 腕 など を 触ら れて 痛く ない の か 、 ドキドキ し ながら 受け ました が 、  、  、  、 とっても 気持ち良 かったぁ ( o ˘ ◡ ˘ o ) ♪ そして 、 あちこち 筋肉 が 固まって いた そうです が 特に 、 足 に 血 が 通って い なかった ようです 。 体力 温存 生活 して いる の 為 に 日常 生活 の 動き も 最小 限 に なって る し 歩く 量 も 減って る かも なぁ〜 今年 は 、 体 を 動かして 少しずつ で いい から 以前 の 体力 に 戻し たい な ( * ´ ◡ ` * ) ♪ 受けて み たかった マッサージ を 受け れて ２ つ 目 の ミッション も クリアー ヾ ( * ´ ▽ ` * ) 八 ( * ' ▽ ' * ) ﾉ 少しずつ はじめて の 事 を 乗り越えて また 、 日常 に 戻って いく んです ねー ♪ 今日 も 感謝 ( * ｕｕ * ) 明日 1 月 5 日 から 仕事 です 。 さて 、 寝よう ！ お やすみ なさい ( * ｕｕ * ) ゆき\",\n",
       " \"2018 - 01 - 06 \\n 「 タモキシフェン 」 8 日間 服用 して 辞め ました \\n こんばんは 、 ゆき です ( * ´ ◡ ` * ) ブログ 訪問 ありがとう ございます 。 今日 の 大阪 は 、 曇天 で 少し 肌寒い 冬 の 日 でした ️ 今日 は 、 タモキシフェン の お 話 。 去年 12 月 19 日 に 乳腺 科 受診 時 オペ で 摘出 した 細胞 診 の 結果 を 見て ドクター より 「 転移 は ない ので 治療 の 必要 は ない 。 けれど 。 。 。 ホルモン 受容 体 の ガン だった ので 残さ れて いる 左 乳房 の 予防 の 為 ホルモン 治療 タモキシフェン の 服用 を お 勧め し ます 。 治療 で は 無い から 、 いつ 辞めて も いい よ ♪ 」 言わ れ ました 。 私 は 「 やって み たい です ！ 」 と 即答 ( * ' ▽ ' * ) ﾉ その 日 の 処方箋 で 「 タモキシフェン 錠 20 mg 」 を 処方箋 さ れ 、 次の 日 から 飲 みま しめ ました 。 これ から 、 タモキシフェン で の 治療 を 始めた 理由 と 辞める 理由 を 書き ます 。 もしかしたら 、 いま 、 服用 して いる 方 から 見て その方 を 否定 して いる ように 感じる 言葉 や 不安に なる 言葉 が ある かも しれ ませ ん 。 あくまで 、 私 の 見解 です 。 私 の 言葉 が 不快に 感じる かも ？ と 思った 方 は どう か 読ま ないで 下さい 。 嫌な 気持ち に なって 欲しく ない ので お 願い いたし ます ( * ｕｕ * ) 【 始めた 理由 】 ① 何でも 体験 し たい 性格 わりと 何でも 自分 で 体験 し たい 性格 な ので いつでも 辞め れる の なら 始め ない 理由 が 無い と 思った から ( * ´ ◡ ` * ) ② 副 作用 が どう 出る ？ ？ 私 は 、 子宮 筋腫 の 治療 でも ホルモン 治療 を 体験 し ました 。 その 時 は 、 錠剤 で は 無く 月 に 一 度 の 注射 でした 。 生理 は 完全に 止まり かなり 強 めの 更年期 症状 が 出 ました 。 ホット フラッシュ は もちろん 異常な 寒気 、 軽い そう鬱 など 。 。 。 それ と 比べ たかった から ( ^ ∀ ^ о ) ③ 副 作用 の 子宮 へ の 影響 私 は 、 子宮 全摘 の 手術 を 受けて いる ので 子宮 へ の リスク や 生理 へ の 影響 は 無い から (*´艸`) ♪ ④ 信頼 ある 担当 医 から の 勧め この 治療 を 受ける に あたり 告知 から 、 摘出 範囲 相談 、 オペ 実行 アフター フォロー 等 すべて この ドクター に して いただき ました 。 私 に とって は 、 命 の 恩人 であり 信じて いる 先生 の お 勧め だった から (o^^o) ♪ 大きく 分けて 、 ４ つ の 理由 から 始めて み ました ( * ´ ▽ ` * ) ゞ 【 辞めた 理由 】 ① 副 作用 と 見 られる 体調 不良 頭痛 、 胸 へ の 圧迫 感 、 胃 の 不 快感 、 足 の むくみ どれ も 我慢 出来 ない ほど の 副 作用 で は 無い もの の この 副 作用 ？ と 思わ れる モノ と 10 年 付き合う と 思う と 気 が 重たく なった から ② 治療 で 無く 予防 だ から 上記 の 副 作用 ？ らしき モノ が あって も 治療 なら 、 頑張って いた と 思い ます が 予防 であって この 治療 を 続けて いて も 発症 する 事 も ある らしい から 。 。 。 （ ※ 治療 で 頑張って いらっしゃる の に 甘い 考え で ごめんなさい ） ③ これ も 副 作用 ？ と 思う 日々 体調 不良 の 症状 が 出た 時 に 「 これ も タモ の 副 作用 か ！ 」 と なんでも タモ の せい に する の が 嫌だった から ④ まだ わかって い ない 悪 影響 いま 、 検証 で わかって いる 悪 影響 を 了解 した 上 で 飲んで いる けど 後 に なって 「 これ も そう でした 」 と 知ら ない 悪 影響 が 出て くる 可能 性 も ある から 薬 な んだ から メリット も あれば デメリット も ある も んね ⑤ 信頼 して いる ドクター の 異動 定期 的に 先生 の 顔 を 見 がてら お 薬 を 処方 して もらう と 思って た けど 異動 で 春 に 違う 病院 へ 行か れる そうで 一緒に 戦って きた （ 私 が そう 思って る だけ だ けど ） 先生 が 居 なく なる なら 病院 へ の 愛着 も 少なく なって しまった から 上記 の 始めた 理由 と 辞める 理由 を 並べて 必死に 考えた 結果 2017 年 12 月 の 私 は タモ を 辞める メリット と デメリット を チョイス する 事 に し ました ( * ´ ▽ ` * ) ゞ 結局 、 誰 から 押し付け られる わけじゃ 無く 最後 は 、 《 自分 の 決断 》 です ね 。 もしかしたら 、 何 年 後 か に 左 乳房 に ガン が 発症 して 一瞬 「 タモ を 続けて いれば 。 。 。 」 と 思う かも しれ ないで も 、 この 時 の 私 が 必死で 出した 答え に 後悔 は 無い と 思い ます 。 自分 の 責任 で 辞め ました ( * ´ ◡ ` * ) 服用 を やめて 胸 の 圧迫 感 は 無くなり ました 。 頭痛 は 軽く なり ました が 、 ゼロ で は 無い です 。 胃 の 違和感 は 、 和らぎ ました が タモ だけ の せい で は 無く 術後 から 飲んで いた 痛み止め が 原因 かも しれ ませ ん もん ね 。 服用 中 は 、 右 足 の むくみ が ひどく いま まで 履いて 居た 靴 を 履いて いて も 靴 擦れ が 出来て い ました が いま は 、 若干 窮屈です が 靴 づれ まで は なり ませ ん ( * ´ ◡ ` * ) 子宮 筋腫 時 の ホルモン 治療 の 方 が もっと 副 作用 は しんどかった ので でも 、 あの 時 は 【 治療 】 で 必要だ から 頑張って い ました ね ( * / ω ＼ * ) 子宮 筋腫 の お 話 は 、 また 別の 日記 まで し ます ね ( 人 ´ ∀ ` ) 8 日間 で タモ の 服用 を 辞め ました が 始めた から 、 体験 出来た 事 も あり やって 良かった です ( * ´ ◡ ` * ) 最後 まで 読んで くださって ありがとう ございました 。 お やすみ なさい ( * ｕｕ * ) ゆき\",\n",
       " '2018 - 01 - 07 \\n 右手 に 優しい 調理 器具 たち \\n こんばんは 、 ゆき です ( * ´ ◡ ` * ) ブログ 訪問 ありがとう ございます 。 今日 は 、 アウトレット へ 行って き ましたぁー お 目 当の 1 つ は 、 カバン でした が お 気に入り の モノ に は 、 出会え ず ( ´ ° ω ° ) ﾁ ｰ ﾝ そして 、 もう １ つ は フライパン ティファール で 直径 23 〜 25 cm 、 軽い モノ ♪ 調理 を イメージ して 持った バランス も 私 好み だった ので 、 即決 ヽ ( * ´ ▽ ` * ) و ✧ レジ に 並んで いたら レジ 前 に 陳列 して あった 「 ハンディチョッパー 」 を 発見 ( ^ ∀ ^ о ) 食 材 を みじん切り に して くれる 器具 だ そうです ( * ´ ◡ ` * ) 料理 は 、 好きだ けど オペ の 後 は 、 右手 で 包丁 を 長い こと 使って いる と 疲れる ように なって しまった ので ハンバーグ など みじん切り が 必要な 時 は コレに 任せて みよう (*´艸`) ♪ まるで 、 ポケモン トレーナー の ように 「 君 に 任せた ！ ！ 」 と 心 に 呟いて 一緒に 購入 ヽ ( * ´ ▽ ` * ) و ✧ 箱 から 出したら デザイン も 可愛い これ を 使い たい から 近日 、 ハンバーグ しよう か な ？ ？ (*´艸`) ♪ 楽しい 日曜日 でした ( * ´ ▽ ` * ) ゆき',\n",
       " '2018 - 01 - 07 \\n 2018 年 Ameba おみくじ \\n あなた の 運勢 は ・ ・ ・ 2018 年 Ameba おみくじ を ひく 私 も Ameba おみくじ を 引いて み ました ！ 【 大吉 】 いい こと ばっかり 書いて ある わ ( * / ω ＼ * ) これ を 胸 に 一 年 過ごし ます 。 皆さん は 、 Ameba おみくじ 引か れ ました かぁ ？ ？ ( * ´ ◡ ` * ) ゆき',\n",
       " '2018 - 01 - 09 \\n 急遽 、 病院 に 来て い ます 。 。 。 \\n こんにちは 、 ゆき です ( * ´ ◡ ` * ) ブログ 訪問 ありがとう ございます 。 今朝 、 起きたら 、 めちゃ 喉 が 痛い んです ｡ ･ ﾟ ﾟ ･ (>_<) ･ ﾟ ﾟ ･ ｡ ツバ を 飲み 込む の も 痛い くらい 。 完全に 扁桃腺 が 腫れて る 感じ 。 喋る 事 も ままならない ので お 仕事 休み を 頂いて 通常 だ と 、 自宅 近く の 内科 で 診察 して もらって 点滴 もしくは 薬 を もらって 安静に する ところ です が 乳腺 科 に 掛かって る 都合 気軽に 、 ほか の 内科 へ 行って 薬 を 処方 して もらう の は やっぱり 良く ない 気 が した ので 掛かって いる 乳腺 科 の ある 総合 病院 の 内科 を 予約 無し で 受診 。 そう で なくて も 総合 病院 の 内科 は めちゃ 混む の に あいにく 、 連休 明け 初日 ( ； ´ Д` ) 10 時 に カルテ を 出して から 初診 して もらう まで 、 ４ 時間 。 待って る 間 に お 茶 、 経口 補 水 液 、 オレンジ ジュース 飲んで 、 何 回 も トイレ へ 行って ピノ を 食べた わよ ( * ´ ◡ ` * ) 病院 に 到着 した 頃 は まだ 、 微熱 程度 だった けど 診察 して もらう 頃 は 立派な 熱 に 昇格 ( * - ∀ - ) ゞ 何 が シンドイ って 待って る 間 が 一番 しんどい よ ね ( * / ω ＼ * ) 途中 、 インフル 検査 も して もらって 陰性 と の 事 。 私 は 、 風邪 の 時 輸液 点滴 して もらう と 格段に 楽に なる 事 が 多い ので ドクター に オーダー ( * ´ ◡ ` * ) 病院 と の 付き合い も 年々 上手に なる わ (*´艸`) ♪ 注射 針 を 刺す んだ から 明後日 の 乳腺 科 前 に 受ける 予定 だった 血液 検査 と 一緒に 今日 の 炎症 具合 も 見て おき ましょう ！ と 急遽 血液 検査 を して もらい ました 。 結果 を 待って る 間 に 輸液 を して もらって 気持ち だけ 熱 が 下がった か な ？ ？ 血液 検査 の 結果 は 肝臓 の 数値 も 問題 なし 。 いま は 、 タモ 飲んで ない から 当然 かぁ ( * ≧ ∀ ≦ * ) 白血球 の 数値 が 少し 高い けど 風邪 の この 症状 なら 許容 範囲 。 今日 の 診断 結果 は 、 『 咽頭 炎 』 だってー ！ ！ ( * ≧ ∀ ≦ * ) そりゃ 喉 痛い わ お 薬 もらって 、 これ から 帰り ます 。 家 帰って ウィダーインゼリー 飲んで 安静に し ます 。 外 は 、 夕暮れ 。 久し振りに 見た 病院 から の 夕日 。 懐かしい なぁ〜 ( * ´ ▽ ` * ) 今夜 は このまま 寝 ます が 「 子宮 筋腫 と 私 ② 」 は 半分 くらい 書き 上げて る から 仕上げたら 、 近日 アップ し ます ねー ありがとう ございます ( * ´ ◡ ` * ) 皆さん も 、 風邪 や インフルエンザ 気 を つけて ねー ( * ´ ▽ ` * ) ゞ ゆき',\n",
       " '2018 - 01 - 09 \\n 子宮 筋腫 と 私 ① \\n こんばんは 、 ゆき です ( * ´ ◡ ` * ) ブログ 訪問 ありがとう ございます 。 今日 は 、 小学生 の 作文 みたいな タイトル に なっちゃ い ました が ( * ≧ ∀ ≦ * ) 私 の 子宮 筋腫 の お 話 を し ます 。 【 27 歳 】 私 は 、 25 歳 （ 1995 年 ） で 結婚 し 27 歳 （ 1997 年 ） で 子宮 筋腫 が 見つかり ました 。 見つかった 時点 で それなり の 大き さ で これ から 子供 を 作る なら 影響 する 位置 と 大き さ だった ので オペ の 必要 が あり ました 。 ただ 、 生理 出血 が 多く 、 貧血 でした ので すぐ に 、 オペ は 出来 なかった のです 。 ホルモン 治療 で 、 約 １ 年 近く 生理 を 止めて その 間 は 、 鉄分 補充 も して 貧血 を 治して から 、 オペ を し ました 。 この 時 の ホルモン 治療 は しんどかった です (+_+) まずは 、 頭痛 と めまい 。 ホット フラッシュ は もちろん 異常な まで の 悪寒 。 頭 だけ が 逆上せる ような 暑 さ で 汗 が タラタラ 流れた か と 思う と 次の 瞬間 に は 、 背中 の 真ん中 に 悪寒 が 走り ます 。 まるで 、 熱 が 出て くる 前触れ の ような 悪寒 。 寒く なって 、 服 を 着 込む と 、 また 逆上せ 。 1 日 に 何度 も 、 逆上せ と 悪寒 を 経験 した し それ に 、 頭痛 と めまい 。 疲れる 毎日 を 送って いた と 思い ます 。 でも 、 この 時 は 、 これ を し ない と オペ 出来 ない って 言わ れて る し する か ？ し ない か ？ なんて 選択肢 は 私 に は 、 あり ませ ん でした ( * ｕｕ * ) 貧血 が ある 程度 落ち着いて から 開腹 手術 で 筋腫 のみ を 、 複数 摘出 し ました 。 一番 大きな サイズ の 筋腫 は 、 約 ６ cm 。 小さい モノ も いく つ か 取って もらい ました が この 時点 で 取り きれ なかった とても 小さい 筋腫 が あった そうです 。 な ので 、 再発 の 可能 性 は ある ので 定期 的に 検査 して 下さい ！ と 言わ れて い ました ( * ｕｕ * ) 少し 醜い です が 約 20 年 前 の オペ の 傷 です ( * / ω ＼ * ) ↓ 縦 に ある の が 開腹 オペ の 傷跡 です 。 お へそ の 下 から 、 約 10 cm 切って い ます 。 この 当時 の 開腹 は 、 縦 に 切る 先生 と 横 に 切る 先生 が おら れた ようです 。 私 は 、 縦 派 でした ( * ≧ ∀ ≦ * ) いま は 、 痛み は 一切 あり ませ ん 。 この 時 、 筋腫 のみ を 摘出 し 子宮 を 残した の は まだ 20 代 でした し 子供 を 作り たい と 思った から です ( * ´ ◡ ` * ) 一 度 は 、 妊娠 は した もの の 流産 して しまい ました 。 その後 は 、 なかなか 出来 ませ ん でした が 不妊 治療 まで は せ ず 、 自然に 任せて い ました 。 結局 、 授かる 事 は 無く 子供 は 出来 ない まま 現在 は 、 夫婦 二 人 生活 です ( * ´ ◡ ` * ) オペ 後 の 体調 です が 、 開腹 手術 でした ので 傷 は ずいぶん 長い こと 痛かった 気 が し ます 。 でも 、 それ は 日薬 でした し 我慢 は 出来 ました 。 生活 に も 慣れ 筋腫 の 再発 の 事 など あまり 考え ず 生活 を して い ました が やはり 生理 出血 量 が 少しずつ 増えて きて 段々 、 貧血 症状 も 出て きて い ました 。 内科 で 貧血 の 薬 や 注射 を して もらって なんとなく 過ごして い ました 。 自分 で 、 筋腫 が 大きく なった 時 の 下腹部 の ハリ や 、 生理 の 出血 量 、 生理 痛 。 。 。 何となく わかって いる つもりだった ので 産婦人科 へ 検診 に 行って ませ ん でした 。 いろんな 事 に 忙し が しく 健康に 対して 、 意味 の ない 自信 を 持って い ました 。 若 さ です か ねぇ ( * ≧ ∀ ≦ * ) 【 43 歳 】 筋腫 が 大きく なって る の かも ？ と 感じ 次に 、 産婦人科 を 訪れた の は 、 43 歳 （ 2013 年 ） すっかり 育って い ました ( * / ω ＼ * ) この 時点 で 、 約 ９ cm (*≧∀≦) ゞ 先生 から 「 頻尿 と か 、 腰痛 と か 、 生理 痛 と か 生理 出血 量 が 多かったり 、 塊 が 出たり と か いろいろ 兆候 あった でしょー ？ ここ まで 、 よく 育てた ねー 」 って めちゃ びっくり さ れ ました w ( ﾟ o ﾟ ) w 筋腫 って 、 良性 だ から 育てて も 問題 ない ♪ くらい に 勝手に 思って た けど 大きく なる と 、 ガン 化 する 可能 性 が 高く なる そうです ね 。 この 時 、 先生 から 初めて 聞き ました ( * ﾟ ｪ ﾟ * ) そして 、 先生 は 何 か 対策 し ましょう ね ！ と 提案 して くれた 治療 は 「 まずは 、 １ 年 ほど ホルモン 治療 を して みて 筋腫 が 小さく なる か ？ なら ない か ？ を 試して み まし ましょう ！ ！ 小さく なれば 、 オペ する と して 楽だ し 閉経 まで 、 ホルモン 治療 を し 続けて オペ を し ない と いう 選択 も あり ます 。 逆に 、 小さく なら なれば オペ を オススメ し ます 。 開腹 に する か ？ 腹腔 鏡 下 に する か ？ 筋腫 のみ 摘出 する か ？ 子宮 も 全摘 する か ？ その 時 に 考え ましょう ！ 」 と 。 そう 勧め られて また 、 １ 年 ホルモン 治療 （ 注射 ） を 受け ました 。 20 代 で 受けた ホルモン 治療 の 副 作用 に 加え この 時 の 副 作用 に は 、 鬱 （ うつ ） 症状 が 出て いた ように 思い ます 。 その 時 は 、 気 が つき ませ ん でした が 治療 が 終わって から 心 が 元気に なって 、 わかり ました ( * ´ ▽ ` * ) ♪ そして 、 ホルモン 治療 の 結果 は 。 。 。 長文 を 読んで くださって ありがとう ございます ♪ 話 が 長く なって きた ので ここ で 、 休憩 し ます ね ( ○ ^ ∇ ^ ) _ 旦 ~ ~ ♪ 後半 に 続く ( * ´ ▽ ` * ) ゞ ゆき',\n",
       " '2018 - 01 - 12 \\n 子宮 筋腫 と 私 ② \\n こんばんは 、 ゆき です ( * ´ ◡ ` * ) ブログ 訪問 ありがとう ございます ♪ 前回 の 日記 で ご 心配 お 掛け し ました 。 薬 を 飲んで 、 よく 寝たら かなり 良く なり ました ので 、 明日 から 、 仕事 復帰 し ます ( * ´ ▽ ` * ) ゞ 年 末 から たくさん お 休み もらって る のに 年始 まで 迷惑 かけちゃ った 健康 管理 気 を つけ なきゃ で すね ( * ≧ ∀ ≦ * ) さて 、 気持ち も 新たに 「 子宮 筋腫 と 私 」 の 続き を お 話し し ます 。 今日 の 日記 は 、 「 子宮 筋腫 と 私 ① 」 の 続き です ので まだ 、 読んで ない 方 は 、 こちら を 、 ぜひ 読んで やって 下さい ね (人´∀`)♪ ２ 回 目 の ホルモン 治療 の 結果 は 、  、  、 残念 ながら 私 の 筋腫 に は 、 まったく 効果 が 無く 小さく なる どころ か 10 cm に 成長 して い ました ( * ≧ ∀ ≦ * ) 先生 は 「 他 の ホルモン 剤 と いう 選択 も ある から もう 半年 続けて み ます か ？ 」 と 言って くれた のです が この １ 年間 。 ホルモン 治療 し ながら 考えて いた のです が 私 と して は 、 「 オペ を し たい ！ 」 と 思って い ました 。 それ なら 、 少し でも 早い 方 が いい から 方法 と 、 摘出 内容 を 決め ましょう と なり ました 。 それ も 、 私 が 考えて いた 事 を お 伝え して 改めて 、 メリット と デメリット を 確認 し ました 。 ⑴ ︎ 開腹 オペ か ？ ︎ 腹腔 鏡 下 オペ か ？ 開腹 は 、 痛み も 大きい し 回復 に 時間 が 掛かり ます が 目 で 直接 見て 、 オペ を する ので リスク が 少ない そうです 。 反対に 、 腹腔 鏡 下 は 傷 は 、 ４ つ の 穴 の 跡 のみ 。 回復 は 早い です が 薄暗がり の 中 、 カメラ 越し で オペ する ので 多少 の リスク も ある そうです 。 特に 私 の 場合 は 、 一 度 開腹 して いる ので 前回 の オペ で どれほど 癒着 が ある か わから ない ので 、 他 の 臓器 を 傷つける 可能 性 が あり ます 。 リスク は あり ました が 今回 は 、 回復 が 早く 傷 が 痛く ない 方 が いい と 思った ので 《 腹腔 鏡 下 》 で お 願い し ました 。 ただ 、 腹腔 鏡 下 で とても 対応 出来 ない ような 状況 の 時 開腹 を する と 言う 誓約 付き です けど ね ( * ≧ ∀ ≦ * ) ⑵ ︎ 筋腫 のみ 摘出 か ？ ︎ 子宮 ごと 全摘 か ？ ？ 私 は 迷わ ず 、 《 子宮 全摘 》 でした ( ^ ∀ ^ о ) その 理由 は 、 ４ つ ！ ！ ！ ！ ① これ から 閉経 に 向かう 年齢 （ 43 歳 ） と は 言え 今回 の オペ が 終わった 後 三 度 、 筋腫 が 出来る 可能 性 が ある の は 面倒だった から 。 ② 妊娠 の 可能 性 は 、 もう 無い ので 子宮 の 有る 無し に 、 執着 が 無かった から 。 ③ 生理 が 無くなる 事 が 嬉しかった から 。 ④ 私 は 体質 的に 弱い 場所 が 子宮 だ と 思った ので 加齢 と 共に 、 免疫 力 が 下がった 時 に ガン 細胞 が 発生 さ せ たく ない から 。 ただ 、 ホルモン バランス の 為 に は 卵巣 は 残して もらい ました 。 （ ※ 卵巣 に は チョコレート 嚢腫 も あった のです が 、 嚢腫 だけ 摘出 して もらい ました 。 ） 卵巣 さえ 残って いれば 女性 ホルモン は 保た れ 年齢 なり の 更年期 → 閉経 と なる そうです ( * ´ ◡ ` * ) 腹腔 鏡 下 オペ の 実証 例 が たくさん ある 大学 病院 を 紹介 して もらい ました 。 紹介 状 を 書いて もらい オペ を する 大学 病院 で 、 改めて 受診 。 予定 通り 入院 し 無事に 、 子宮 全摘 を して もらい ました ( * ｕｕ * ) 私 の オペ の 時間 は 、 9 時 から 13 時 予定 でした が 、 筋腫 が 大き 過ぎた 事 と 、 予想 通り 前回 の オペ に よる 癒着 多く 、 1 . 5 時間 も 伸び 、 14 時 半 終了 でした 。 オペ 待ち して くれて いた 母 に は 、 大変 心配 と ご 迷惑 お 掛け し ました ( * ｕｕ * ) オペ を して みたら 筋腫 は 、 最大 12 cm ほど の サイズ に なって いた らしく そのまま で は 取り出す 事 が 出来 ず お腹 の 中 で 、 レーザー で 切る の が とても 大変だった そうです ( * / ω ＼ * ) この 時 の オペ は 麻酔 から 回復 した 時 強い 吐き気 で 、 とても しんどかった し 、 足 が 痺れる ような 痛 さ で 一晩 、 悶えて お ました 。 麻酔 も いろんな 種類 が ある ようで この 時 の オペ に 使用 した 麻酔 あけ が 私 に は 、 しんどかった です 。 反対に 、 キズ の 回復 は とても 楽でした 。 開腹 オペ 話 を 経験 して いる ので それ に 比べる と 、 痛み は 1 / 4 くらい か な ？ もっと 、 低い かもーー ！ ！ 痛み を 感じる 期間 も 短かった です 。 ちなみに 、 約 ３ 年 前 の 腹腔 鏡 下 の 傷 の 見て もらい ます ね 。 またまた 、 醜くて ごめんなさい ↓ 腹腔 鏡 下 で の 傷 は 、 左 上 の 薄 茶色い シミ の ような モノ が お へそ を 囲んで 、 ４ 点 ある だけ です ( * ´ ◡ ` * ) ※ 右 は お へそ 、 真ん中 下 は ホクロ です そして 、 摘出 した 細胞 診 した 結果 筋腫 に は 、 異常 は 無く 子宮 に は 、 子宮頸 ガン の 兆候 が 見 られた そうです ！ それ を 聞いた 時 は 、 やっぱり ！ ！ ( σ ≧ ∀ ≦ ) σ でも 、 もう 出来て た かぁ〜 思った より 早かった な ！ と 言う の が 、 感想 でした 。 自分 の 直感 を 信じて 、 良かった 瞬間 で も あり ます ね な ので 、 私 に とって 筋腫 が 発覚 し 子宮 全摘 オペ を 受けた 事 は 。 。 。 ︎ 生理 が 無くなり 、 毎月 気 に し なくて いい ︎ ナプキン を もう 買わ なくて いい し ︎ 貧血 に も なら ない し ︎ 温泉 や 旅行 に も いつでも 行ける し (人´∀`)♪ ︎ 何より 頚 がん の 早期 対処 に より 子宮 頚 がん に なら なくて 良かった ！ ！ と 思える 晴れ晴れ と した オペ の 終わり と なり ました ( * ´ ◡ ` * ) この 手帳 は 、 29 歳 の 入院 した 12 日間 と 、 43 歳 で 入院 した 10 日間 の 記録 が さ れて い ます 。 家族 が 言って くれた 言葉 や 友達 から もらった メモ や 手紙 も 残って い ます 。 その 当時 は 、 痛かった 事 も 時 が 経てば 、 忘れ ます ね ( * ´ ◡ ` * ) でも それ を 乗り越え 大切な 家族 や 友達 に 大切に さ れた 記録 は 私 の 宝物 です 。 そして 、 もちろん 今回 の 乳 がん の 入院 も 記録 して ます ( * ´ ◡ ` * ) ♪ これ 以上 、 記録 が 増え ない ように 気 を つけ なきゃ です ね 。 乳 がん の 治療 を なさって る 方 に 子宮 筋腫 を お 持ち の 方 も 多い みたいな ので 今回 は 、 私 の 筋腫 の 話 を さ せて もらい ました 。 あくまで 、 私 の 場合 です が 何 が 参考 に なる と いい な ( * ´ ◡ ` * ) 長々 と お 付き合い 下さって ありがとう ございました ( * ｕｕ * ) また 、 次回 から は 乳 がん ゆき の 日記 に 戻り ます が 私 の 体験 で 良かったら 子宮 筋腫 の 話 も し ます ので ご 質問 ください ね (人´∀`)♪ 今日 も ありがとう ございます 。 お やすみ なさい ( * ｕｕ * ) ゆき']"
      ]
     },
     "execution_count": 4,
     "metadata": {},
     "output_type": "execute_result"
    }
   ],
   "source": [
    "# def find_none(text):\n",
    "#     for seq in text:\n",
    "#         if seq == None:\n",
    "#             print(seq)\n",
    "#         else: \n",
    "#             print(f'{seq=}')    \n",
    "#     return True\n",
    "        \n",
    "test"
   ]
  },
  {
   "cell_type": "code",
   "execution_count": 38,
   "metadata": {},
   "outputs": [
    {
     "data": {
      "text/plain": [
       "68    [2017 - 09 - 27 \\n 今日 から ブログ を 始め ます \\n 本日 201...\n",
       "Name: text, dtype: object"
      ]
     },
     "execution_count": 38,
     "metadata": {},
     "output_type": "execute_result"
    }
   ],
   "source": [
    "# 找到shizuku-kokoro的数据\n",
    "user = data_frame[data_frame['user'] == 'newgan-yuki']\n",
    "user['text']"
   ]
  },
  {
   "cell_type": "code",
   "execution_count": 16,
   "metadata": {},
   "outputs": [],
   "source": [
    "df = data_frame[data_frame['user'] == 'shizuku-kokoro']"
   ]
  },
  {
   "cell_type": "code",
   "execution_count": 30,
   "metadata": {},
   "outputs": [
    {
     "data": {
      "text/plain": [
       "Index([85], dtype='int64')"
      ]
     },
     "execution_count": 30,
     "metadata": {},
     "output_type": "execute_result"
    }
   ],
   "source": [
    "df.index"
   ]
  },
  {
   "cell_type": "code",
   "execution_count": 23,
   "metadata": {},
   "outputs": [
    {
     "name": "stdout",
     "output_type": "stream",
     "text": [
      "['2016 - 06 - 19 \\n こっそり 更新 状況 アップ \\n メッセージ ボード に 書いて る ように 、 ブログ は 別の 場所 で やって い ます 。 これ まで ここ は 放置 でした が 、 ひっそり あっち の 更新 状況 なんて アップ して みよ と 思い つき ました 本日 更新 味覚 障害 の 時 の つよ～い 味方 関係 ない けど 、 アメブロ って 絵 文字 入れる の 簡単で いい ね', '2016 - 06 - 21 \\n 更新 の お 知らせ 「 父 の 日 に 想う 」 \\n こんにちは 本日 の 更新 です 父 の 日 に 想う', '2016 - 06 - 25 \\n 更新 し ました 「 あれ から ７ 年 」 \\n こんにちは～ 雨 降って きちゃ い ました ね 。 先 に お 買い物 行って 来れば よかった な 本日 の 更新 です あれ から ７ 年', '2016 - 06 - 27 \\n 更新 し ました 「 ５ 月 6 月 の お 菓子 教室 」 \\n こんにちは～ 今日 は 雨 か と 思ったら 、 意外 と お 天気 。 クリーニング 取って こよう か なぁ … 本日 の 更新 です ５ 月 ６ 月 の お 菓子 教室', '2016 - 06 - 29 \\n 更新 し ました 「 外泊 に 向けて 」 \\n おはよう ございます なんだか 夜中 に 目 が 覚めて 、 いろいろ ごそごそ … 早朝 から ブログ 更新 して しまった 今日 は プチ オフ で ～す が 心配だ けど 、 楽しみ 本日 の 更新 です 外泊 に 向けて', '2016 - 07 - 01 \\n 更新 し ました 「 プチ オフ in 宇治 」 \\n おはよう ございます 今日 から ７ 月 今年 も もう 半分 終わっちゃ った んだ 。 うそ み たい なんか 焦る わ 色々 がんばろう 本日 の 更新 です プチオフ in 宇治 ～ 紫陽花 見て 、 美味しい もの 食べよう～', '2016 - 07 - 03 \\n 更新 し ました 「 美容院 へ～ 脱 ヅラ から １ 年～ 」 \\n おはよう ございます めちゃめちゃ いい お 天気 梅雨 は どこ へ さて 、 今日 は １ 日 お 仕事 。 講師 と して は もう 何も 出来 ない ので 、 本番 の 生徒 たち の 頑張り を 祈る だけ です 。 さぁ 、 そろそろ 準備 しよ 本日 の 更新 です 美容院 へ～ 脱 ヅラ から １ 年～', '2016 - 07 - 05 \\n 更新 し ました 「 来年 へ スタート ！ 」 \\n こんにちは～ 今日 も 暑い もう人 と 会ったら 、 暑い ね～ しか 言葉 が 出 ませ ん 本日 の 更新 来年 へ スタート ！', '2016 - 07 - 07 \\n 更新 し ました 「 ただいま お 試し 帰宅 中 」 \\n こんにちは 今日 は 七夕 いい お 天気 な ので 、 天の川 見 られる か な ？ １ 歳 児 や ２ 歳 児 の クラス を 担当 して た 頃 は 、 レッスン で 笹 飾り したり 七夕 歌ったり 、 絵本 読んだり した もん です なつかしい な 本日 の 更新 ただいま お 試し 帰宅 中', '2016 - 07 - 09 \\n 更新 し ました 「 陶板 浴 ＆ ランチ 」 \\n こんにちは 今日 は 楽しみに して いた イベント の 日 です が 、 あいにくの もう 少し 小 降り に なって くれる と いい んだ けど 。 水曜 に デューブル べ の セミオーダー ブラ が 出来 上がって 来 ました せっかく な ので 今日 は これ して 、 テンション アップ です 本日 の 更新 陶板 浴 ＆ ランチ', '2016 - 07 - 11 \\n 更新 し ました 「 初 オフ 会 から 1 年 」 \\n おはよう ございます また １ 週間 の 始まり です 。 今週 も 元気で 過ごせ ます ように そして みなさん も よい １ 週間 であり ます ように 本日 の 更新 初 オフ 会 から １ 年', '2016 - 07 - 13 \\n 更新 し ました 「 セミオーダー ブラ 完成 ！ 」 \\n こんにちは～ 前 に ＴＮＧ の メンバー から 美味しい よ と 聞いて いた 、 松竹 堂 の フルーツ 餅 昨日 某 百貨店 で 売って る の を 見つけ 、 買って しまい ました の ６ 種類 本日 の 更新 セミオーダー ブラ 完成 ！', '2016 - 07 - 20 \\n 更新 し ました 「 納得 いか ない ！ 」 \\n こんにちは 梅雨 も 明け 、 明日 から は 夏 休み です ね 。 ママ たち 頑張れ～ 私 は そろそろ アンサンブル と 来年 の コンクール の 選曲 し ない と ＣＤ 買い 込む 季節 が やってき ました お 金 が 跳んで いき ます 本日 の 更新 は こちら～ 納得 いか ない ！', '2016 - 07 - 24 \\n 更新 し ました 「 退院 し ました 」 \\n おはよう ございます まだ ７ 時 台 な のに 、 すでに セミ が うるさい … 夏 です ねぇ 今日 お 仕事 関連 の コンクール を 聴き に 行き ます 。 うち の 生徒 たち が 目指して いた ステージ 。 来年 は 近づける と いい な 本日 の 更新 退院 し ました', '2016 - 07 - 27 \\n 更新 し ました 「 手編み パッド いただき ました ♪ 」 \\n こんにちは 今日 は 父 の 体位 変換 の ため に ３ 時 過ぎ に 起床 。 寝 ちゃう と ５ 時 に 起きる 自信 が ない ので 、 そのまま 起きて ます 。 さぁ どこ まで 寝 ず に 持つ か な～ またまた お 部屋 が 荒れて きた ので 、 片付け なくて は 本日 の 更新 は こちら～ 手編み パッド いただき ました ♪', '2016 - 08 - 04 \\n 更新 し ました 「 良い 方向 へ ！ 」 \\n こんばんは お 仕事 の 夏 休み まで あと １ 週間 。 それ まで に 今 かかえて る 楽譜 書き や ＣＤ 音源 作って しまって 、 お 休み は ゆっくり し たい と 思って ます が 、 さて どう なる 事 やら お 休み だし ネイル も 行き たい な 本日 の 更新 は こちら～ 良い 方向 へ ！', '2016 - 08 - 21 \\n 更新 し ました 「 採血 ＆ 診察 のち プチ ニット カフェ 」 \\n こんにちは～ 今日 も なんて 暑い 日 午前 中 は エアコン なし で 頑張って ました が ３１ 度 に なった ところ で 、 これ は あかん と スイッチオン 。 みんな の ブログ も すっかり ご無沙汰 です ちょっと ずつ 読ま せて もらい ます ね～ 本日 の 更新 は こちら～ 採血 ＆ 診察 のち プチ ニット カフェ', '2016 - 08 - 28 \\n 更新 し ました 「 空 の むこう へ 、 ありがとう 」 \\n こんばんは 暑 さ の 中 に も 少しずつ 秋 の 気配 が して 来た ような 。 昨日 は 、 今 生きて いる 事 を 大切に して 悔い の ない よう 過ごして いこう 、 と 改めて 思った １ 日 でした 。 本日 の 更新 空 の むこう へ 、 ありがとう', '2016 - 08 - 31 \\n 更新 し ました 「 夏 の 出来事 ～ THEICEin 大阪 中央 体育 館 ～ 」 \\n こんばんは 関西 は 風 は 強い もの の 過ごし やすい １ 日 でした が 、 台風 の 通った 地方 の 被害 の 大き さ に 驚く ばかりです 。 ９ 月 も 台風 来る だろう し 、 大きな 被害 が ない 事 を 祈る ばかりです ね … 本日 の 更新 は こちら 夏 の 出来事 ～ THEICEin 大阪 中央 体育 館～', '2016 - 09 - 16 \\n 更新 し ました 「 ゆるゆる 神戸 オフ 会 ２ ♪ 」 \\n こんにちは 少しずつ 暑 さ も 和らいで 、 秋 の 気配 です ね 。 果物 も 美味しい し 、 食欲 の 秋 やわ 気付けば 、 罹患 直前 の 体重 を 越え 、 やばい 事 に なって ます 本日 の 更新 は こちら～ ゆるゆる 神戸 オフ 会 ２ ♪ ( やっと アップ です )', '2016 - 09 - 21 \\n 更新 し ました 「 突然の 休日 と 、 麻央 ちゃん の ブログ 」 \\n おはよう ございます 今週 は ほぼ 働か ない しずく です この頃 の マイ ブーム 。 ナガノ パープル と シャイン マス カット めっちゃ 甘くて みずみずしくて 、 何より 皮 ごと 食べ られる 気軽 さ が いい です ナガノパープル の ほう が ちょっと 酸味 が ある か な 本日 の 更新 は こちら 突然の 休日 と 、 麻央 ちゃん の ブログ', '2016 - 09 - 23 \\n 更新 し ました 「 素敵な リサイタル 」 \\n こんにちは～ なんだか はっきり し ない お 天気 。 うち の あたり は 、 明日 小学校 の 運動 会 です 。 姪 っ子 の と こも な ので 、 すっきり 晴れる と いい な 本日 の 更新 素敵な リサイタル ※ 都合 に より 一旦 リンク を 外さ せて もらって ました が 、 戻し ました 。 思う ところ あり 、 少々 修正 して い ます 。', '2016 - 09 - 24 \\n 更新 し ました 「 平日 プチ オフ 会 」 \\n こんにちは～ ９ 月 も あと １ 週間 ほど 。 そろそろ 花粉 が 気 に なる 季節 に なって き ました よ さて と 、 これ から お 仕事 行って 来 まーす ( 例 に よって ただ働き です ) 本日 の 更新 平日 プチ オフ 会', '2016 - 09 - 27 \\n 更新 し ました 「 別れ と 出会い と 」 \\n こんにちは 久しぶりに すっきり した お 天気 ハッと 気 が つけば コンクール まで 、 ほぼ １ ヶ月 最後 まで 弾いて る の は まだ １ クラス のみ そして 私 の 音 作り も まだ 全然 で 、 そろそろ エンジン かけ ない と まずい 今日 この頃 です 本日 の 更新 別れ と 出会い と', '2016 - 10 - 04 \\n 更新 し ました 「 カフェ に 参加 して き ました ♪ 」 \\n こんにちは 先週 末 から 、 なぜ か ローチケ に ログイン 出来 ず 。 もう すぐ 全 日本 の 先行 も 始まる し 、 クリスマス オン アイス も 今回 外れた から 次の 先行 に チャレンジ し なあ かんの に 仕事 の テキスト ＣＤ も ２ 枚 失くしちゃ った し 、 どうも 10 月 に なって から ついて ない わ 本日 の 更新 は こちら～ ↓ カフェ に 参加 して き ました ♪', '2016 - 10 - 14 \\n 更新 し ました 「 初 ・ 酵素 浴 」 \\n こんばんは すっかり 日 が 暮れる の が 早く なり ました ね 。 私 の お 部屋 も 涼しい を 通り越して 寒い 〜 でも リビング は 暑くて 、 未だに エアコン ついて ます 。 同じ 家 の 中 と 思え ない わ 〜 本日 の 更新 です 初 ・ 酵素 浴', '2016 - 10 - 20 \\n 更新 し ました 「 ダウン しちゃ い ました 」 \\n こんにちは～ 昨年 も 確か １０ 月 は 遊び まわり 、 下旬 に 体調 を 崩した ような 。 元気に 思えて も 、 体力 って 意外 と 回復 して ない もの な の ね 皆さま 、 お 気 を つけ ください ませ 本日 の 更新 ～ダウン しちゃ い ました', '2016 - 10 - 22 \\n 更新 し ました 「 採血 結果 」 \\n こんにちは 〜 昨日 は 1 日 ダラダラ と ゆっくり 過ごし ました 。 食べ物 を 見て 、 美味し そう〜 って 思える くらい に 回復 して きて い ます 本日 の 更新 採血 結果', '2016 - 10 - 29 \\n 更新 し ました 「 久々 パン 教室 」 \\n おはよう ございます 先ほど 、 メダリスト ・ オン ・ アイス ( 全 日本 選手 権 の 翌日 に ある エキシビション ) の チケ 取り に 参戦 した のです が 、 玉砕 こっち は 取れる と 思って た のに なぁ 。 あと は 全 日本 が 当たる 事 を 祈る のみ 本日 の 更新 は こちら 久々 パン 教室', '2016 - 10 - 30 \\n 更新 し ました 「 お 仕事 ＆ ランチ ＆ セミナー 」 \\n こんばんは 帰り の 電車 の 中 で 見た 夕焼け が とても きれいでした 明日 は お 天気 か な ？ 本日 ２ つ め の 更新 お 仕事 ＆ ランチ ＆ セミナー', '2016 - 10 - 30 \\n 更新 し ました 「 ランチ オフ 会 」 \\n おはよう ございます 葉っぱ も 色づいて 来て 、 秋 が 深まって きた 感じ 。 昨日 ようやく 衣替え ほぼ 完了 この 時期 しか 着 れ ない マント を 引っ張り出して き ました ( 風 が 通る から もっと 寒く なったら 着 れ ない の ) 本日 の 更新 ～ランチ オフ 会', '2016 - 11 - 19 \\n 更新 し ました 「 骨 塩 定量 検査 と 診察 日 」 \\n こんばんは～ 時間 かけて 書いた 記事 が 、 書き 終えた 途端 エラー うそ でしょう～ って 萎え そうに なり つつ も 頑張って もう １ 度 書き ました 本日 の 更新 骨 塩 定量 検査 と 診察 日 ( 後 から 検索 し やすい ように タイトル を 変更 し ました )', '2016 - 11 - 22 \\n 更新 し ました 「 プチ オフ in すずらん の 湯 」 \\n こんにちは 。 地震 、 怖い です ね 。 私 の 住んで る あたり は これ まで あまり 大きな 災害 が ない 地域 です が 南海 沖 地震 に きちんと 備えて おか ない と なぁ 、 って つくづく 思い ました 。 本日 の 更新 プチ オフ in すずらん の 湯', '2016 - 11 - 29 \\n 更新 し ました 「 カフェ に 参加 ＆ ＮＨＫ 杯 」 \\n こんばんは 明日 で １１ 月 も 終わり 。 後半 特に 過ぎる の が 早かった 気 が し ます 昨日 は 1 年 に １ 度 の ピアノ の 調律 忙し さ に かまけて この ところ 部屋 が えらい 事 に なって ました が 、 おかげ で 見える 所 は お 片付け 出来 ました 今年 の うち に 見え ない とこ も しっかり お 片付け し たい んだ けど なぁ 。 本日 の 更新 カフェ に 参加 ＆ ＮＨＫ 杯', '2016 - 11 - 30 \\n 更新 し ました 「 7 月 ・ 9 月 ・ 10 月 の お 料理 教室 」 \\n おはよう ございます 今日 は いい お 天気 で 、 お出かけ 日和 です ね でも 明日 は なのかなぁ 。 久しぶりに お 料理 教室 の 記事 アップ し ました ← こんな の は ない けど 本日 の 更新 〜 7 月 ・ 9 月 ・ 10 月 の お 料理 教室', '2016 - 12 - 02 \\n 更新 し ました 「 ７ 月～ １０ 月 の お 菓子 教室 」 \\n こんにちは いよいよ １２ 月 そろそろ 生徒 たち の クリスマス プレゼント も 用意 し なあ かんわ 。 そして 今年 は 久しぶりに シュトーレン 焼き たい と 思って る んだ けど 、 時間 ある か なぁ … ま 、 買う ほう が お 手軽で は ある ね 本日 の 更新 ～ ７ 月～ １０ 月 の お 菓子 教室', '2016 - 12 - 09 \\n 更新 し ました 「 お参り へ 」 \\n おはよう ございます 。 メダリスト ・ オン ・ アイス の ２ 次 に も 外れて がっかり の しずく です あと は 全 日本 の ２ 次 が 当たって て くれる 事 を 祈る のみ … 本日 の 更新 お参り へ', '2016 - 12 - 10 \\n 更新 し ました 「 この 日 を 待って た 」 \\n おはよう ございます 。 寒い けど 、 いい お 天気 です ね 。 皆さん 楽しい 週 末 を 過ごせ ます ように 本日 の 更新 この 日 を 待って た ︎ 昨日 の 続き の サッカー 話し です ので 、 興味 ある 方 だけ どうぞ', '2016 - 12 - 15 \\n 更新 し ました 「 ＴＮＧ 大 忘年 会 ♪ 」 \\n こんばんは 全 日本 フィギュア の チケット 、 全滅 でした あ～あ 、 残念 。 ３ 次 は 先着 だ もん 。 ほぼ 諦め しか ない 本日 の 更新 ＴＮＧ 大 忘年 会 ♪', '2016 - 12 - 16 \\n 遠征 中 〜 \\n こんにちは 今日 は 更新 お 知らせ じゃ ない です (笑) ただいま 新 横浜 遠征 中 〜 全 日本 に 外れた ので 、 立ち見 だ けど クリスマス オン アイス に 来ちゃ い ました 大 ちゃ〜ん 1 部 が 終わって 休憩 中 スケート と 生歌 の コラボ 、 とっても 素敵です よ 〜', '2016 - 12 - 30 \\n 更新 し ました 「 忘年 会 いろいろ 」 \\n こんばんは ♪ 片付け しよう と か 、 断捨離 だ～ と か 思って た けど もう 今年 も あと 明日 のみ と いう こと で 、 諦め ました 来年 いっぱい かけて ちょっと ずつ やろう ( ほんと ？ ) 明日 は 障子 の 張り 替え と 雨戸 と 窓 掃除 の 予定 です 本日 の 更新 忘年 会 いろいろ', '2016 - 12 - 31 \\n 更新 し ました 「 たくさんの ありがとう を あなた へ 」 \\n 紅白 も いよいよ 大 トリ 、 嵐 の 登場 ＴＮＧ の 嵐 ファン の 皆さん 、 テレビ に くぎづけ か な？ 懐かしい 曲 が いっぱいだ ね 。 さて 、 皆さま 今年 は いろいろ お 世話 に なり ありがとう ございました 。 来年 も 変わら ず 仲良く して 下さい ね 本日 の 更新 その ２ ＆ ３ ( 一応 その 前 の 記事 も リンク 張って おき ます ) たくさんの ありがとう を あなた へ ２０１６ 年 を 振り返って ～ 旅行 編～', '2016 - 12 - 31 \\n 更新 し ました 「 クリスマス の 出来事 」 \\n おはよう ございます 。 \\n\\n 書き かけ の あれ や これ や \\n 今年 中 に アップ する つもりだった けど 、 今年 も 今日 で 最後 。 \\n とりあえず あまりに も 前 の やつ は 今日 中 に 何とか しよう～ \\n\\n\\n 本日 の 更新 その １ \\n\\n クリスマス の 出来事', '2017 - 01 - 06 \\n 更新 し ました 「 今年 も よろしく お 願い し ます ♪ 」 ＆ わたし の 2017 年 の おみくじ ！ \\n わたし の 2017 年 の おみくじ 結果 は ・ ・ ・ おみくじ を ひき に いく 明け まして おめでとう ございます 。 今頃 です が 初詣 ま だなんで 、 ここ で おみくじ 引いて みた けど 、 なんか 微妙 ？ 無理 せ ず 病院 へ って ねぇ 。 しかも 待人 ！ 見逃さ ぬ よう注意 って みなさま 、 私 が 見逃さ ない よう よろしく ね 本日 の 更新 今年 も よろしく お 願い し ます ♪', '2017 - 01 - 23 \\n 更新 し ました 「 お つかい と 、 ひと り 酵素 浴 デビュー 」 \\n こんにちは～ \\n\\n ただいま 、 昨日 遊び に 来て た 姪 っ子 小 ２ から \\n インフルエンザ の 第 １ 報 が 入り 、 戦 々 恐々 の 我が家 です \\n\\n 私 は 昨日 は 少し しか 会って ない けど 、 母 は なぁ … \\n 移って ない 事 を 祈る ばかり \\n\\n\\n\\n 本日 の 更新 \\n\\n お つかい と 、 ひと り 酵素 浴 デビュー', '2017 - 01 - 28 \\n 更新 し ました 「 無 呼吸 から の 酸素 設置 」 \\n こんばんは \\n\\n 久々の 父 の 状況 アップ 。 \\n 段々 結構 厳しい 状況 に なって 来 ました 。 \\n 父 自身 の 意思 が わから ない ので 、 余計に 悩む … \\n\\n やっぱり エンディング ノート って 必要 やな～ \\n\\n\\n 本日 の 更新 \\n\\n 無 呼吸 から の 酸素 設置', '2017 - 01 - 28 \\n 更新 し ました 「 八坂 さん から 葛井 寺 まで １ 月 の 出来事 を … 」 \\n こんにちは \\n\\n 今日 は 本当 は お 仕事 だった のです が \\n 色々 あって お家 に い ます 。 \\n\\n いい お 天気 な のに なぁ … \\n\\n\\n 本日 の 更新 \\n\\n 八坂 さん から 葛井 寺 まで １ 月 の 出来事 を …', '2017 - 02 - 03 \\n 更新 し ました 「 助け られて 、 支え られて 」 \\n こんにちは \\n\\n 今日 は 節分 です ね 。 \\n 今年 は どっち の ほう に 向いて 食べる の かしら ？ \\n\\n 子ども の 頃 \\n 恵 方 巻き 食べて る 間 に 電話 かかって 来たら どう すん の ？ \\n なんて 疑問 に 思って ました \\n\\n 今 みたいに 履歴 と か つか ない し ねぇ 。 \\n でも かかって 来た 記憶 は ない な \\n\\n\\n 本日 の 更新 \\n\\n 助け られて 、 支え られて \\n\\n', '2017 - 02 - 04 \\n 更新 し ました 「 診察 日 ～ 乳腺 編 」 \\n おはよう ございます \\n\\niphone 使用 中 の 私 。 \\n アップデート したら 、 めっちゃ 電池 の 減り が 早く なって \\n あっという間 に ５０ ％ 切っ ちゃう 。 \\n\\n この 日 も 病院 いる うち に ３０ ％ くらい に 。 \\n\\niphone 持ち の 皆さん 、 そんな 事 ない です か ？ \\n\\n\\n\\n 本日 の 更新 \\n\\n 診察 日 ～ 乳腺 編', '2017 - 02 - 05 \\n 更新 し ました 「 診察 日 ～ 婦人 科 編 」 \\n こんにちは \\n\\n 久しぶりの 雨 の 日曜日 。 \\n やら なきゃ いけない 事 、 いっぱい あった はずな んだ けど 。 \\n\\n とりあえず 、 明日 から 中学 受験 で お 休み して た 男の子 が 無事に 復帰 。 \\n\\n 高校 受験 は これ から が 本番 です よ ね 。 \\n 受験 生 も 、 受験 生 の ママ も 、 みんな がんばって \\n\\n\\n 本日 の 更新 \\n\\n 診察 日 ～ 婦人 科 編', '2017 - 02 - 10 \\n 更新 し ました 「 病院 の 面談 へ 」 \\n こんばんは \\n\\n 本日 は ニット の 日 らしい です よ～ 。 \\n だ から と いう わけじゃ ない けど 、 夕方 ちょっと 編み 編み して ました \\n\\n 今日 も 雪 か と ドキドキ だった けど 、 こちら は 夕方 に 少し 降った だけ 。 \\n\\n 明日 は ちょっぴり 遠出 な ので 、 お 天気 大丈夫だ と いい な 。 \\n\\n\\n\\n 本日 の 更新 \\n\\n 病院 の 面談 へ', '2017 - 02 - 12 \\n 更新 し ました 「 シングル オフ 会 」 \\n こんにちは \\n\\n いい お 天気 の １ 日 。 \\n 珍しく 世間 と 同じく 連休 です 。 \\n\\n 昨日 を 買って 来 ました 。 \\n これ めっちゃ 甘くて 美味しい の \\n\\n\\n\\n\\n\\n\\n\\n\\n\\n\\n\\n １ パック は 姪 っ子 んちへ 。 \\n もう １ パック も 別の 姪 っ子 んち へ もらわ れて いく 予定 。 \\n 私 から の 合格 お 祝い と 、 もう すぐ 入試 の 子 の 激励 も 兼ねて \\n\\n うち の 分 は 、 母 が 出して くれる って 言う んで 今日 買って き まーす 。 \\n\\n 古都 華 、 ちょっと お 高い けど 、 お 近く に 来る こと あれば お すすめ です 。 \\n 多分 道 の 駅 と か だ と 、 もう 少し お 安く 手 に 入る んじゃ ない か な ？ \\n\\n\\n 本日 の 更新 \\n\\n シングル オフ 会', '2017 - 02 - 16 \\n 更新 し ました 「 今頃 です が 、 クリスマス ・ オン ・ アイス in 新 横浜 」 \\n こんにちは 〜 今日 は 暖かい です ね 。 ダウン 着て こ なくて よかった 本日 の 更新 今頃 です が 、 クリスマス ・ オン ・ アイス in 新 横浜', '2017 - 02 - 24 \\n 更新 し ました 「 レスパイト 入院 」 \\n こんにちは 〜 \\n\\n すっかり 陽 も 長く なり ました ねぇ 。 \\n\\n\\n 昨日 から 父 は 病院 に お 泊まり です 。 \\n\\n 私 は 今朝 起きたら 9 時 過ぎて て びっくり \\n 母 も 8 時 半 やった って \\n\\n\\n やっぱり 、 母 も 疲れて た んや なぁ って 思い ました 。 \\n\\n しばらく のんびり し ます \\n\\n\\n\\n\\n 本日 の 更新 \\n\\n レスパイト 入院', '2017 - 02 - 28 \\n 更新 し ました 「 温活 ♪ 」 \\n おはよう ございます \\n\\n もう 2 月 も 今日 で 終わり 。 \\n 発表 会 が 迫って きて 、 そろそろ 焦って 来て ます \\n 生徒 は のんびり して る けど ね \\n\\n 大 声 出し 過ぎて 、 のど つぶす の も 時間 の 問題 だ わ \\n\\n\\n\\n 本日 の 更新 \\n\\n 温 活 ♪', '2017 - 03 - 03 \\n 今頃 どこ に … \\n 今日 退院 の はずだった のに 、 お 空 の むこう へ 行っちゃ った 。 行く ところ 間違って る よ 、 お 父さん 。 私 も 一緒に 行き たい って 思った 。 一緒に お うち に 帰ろう ね', '2017 - 03 - 05 \\n 更新 し ました 「 最後の 夜 」 \\n こんばんは 。 明日 、 と いう か 今日 、 父 が 旅立ち ます 。 しっかり お 見送り 出来 ます ように … 本日 の 更新 最後の 夜', '2017 - 03 - 08 \\n 更新 し ました 「 旅立ち の とき 」 \\n こんにちは 。 父 が 旅立って 、 今日 は ちょうど 初七日 を 迎え ます 。 母 が ろうそく の 火 を 消そう と して 倒しちゃ って 2 人 で あたふた したり 、 きっと 父 は ハラハラ し ながら どこ かから 見て る の か な ちなみに 、 缶 の ふた で 受けて た ので ロウ は 流れた けど 火 は 大丈夫でした 本日 の 更新 旅立ち の とき', '2017 - 03 - 28 \\n 更新 し ました 「 お礼 まわり 終了 」 \\n こんばんは \\n\\n もう ３ 月 も 終わり な のに なんか 寒い～ \\n おかげ で 、 なかなか 咲き ませ ん ね 。 \\n\\n 早く あったかく なり ます ように \\n\\n １ 人 に なる と まだまだ 涙 の 波 が 来たり し ます が 、 \\n いただいた 優しい メッセージ たち に 癒さ れて い ます \\n\\n\\n\\n 本日 の 更新 \\n\\n お礼 まわり 終了', '2017 - 03 - 29 \\n ” 繋がれ ！ ” \\n 手編み の パッド 、 ちあぱい ♪ ふんわり やわらかで コロン と かわいい 、 最近 の 私 の 毎日 に なくて は なら ない 存在 編む の も 楽しい ので 、 編んで は まわり の お 友達 に もらって いただいて ます そして こちら の ブログ 。 私 の お 友達 が 、 ちあぱい ♪ を たくさんの 人 に 届け たい ！ 、 それ だけ で なく 編める 人 から また 次の 人 へ と 広がって ほしい ！ と 活動 さ れて い ます 。 いつも 「 たくさんの しずく ちゃん を 作り たい の 」 って 言って くれて る けど 、 私 も 初 リブログ で 応援 ちあぱい ♪ って こんな の 。 これ は 裏 ね 。 左 は かぎ針 、 右 は 棒針 バージョン 編み 目 ズーム して 見る の は やめて ね〜 好きな 色 で 編める し 、 中 綿 は 出し入れ 出来る ので 大き さ の 調整 も 可能です', '2017 - 03 - 30 \\n 更新 し ました 「 どう する ？ お 墓 」 \\n こんにちは \\n\\n 昨日 は の 名所 近く に 行った けど 、 まだ 全然 咲いて なかった 。 \\n でも だいぶ 暖かく 感じた し 、 もう そろそろ か な ？ \\n\\n 我が家 は まだまだ 、 父 の 後 処理 が 半分 も 出来て ませ ん 。 \\n とりあえず 大きな もの から 対処 。 \\n ぼちぼち 頑張ろう \\n\\n\\n 本日 の 更新 \\n\\n どう する ？ お 墓', '2017 - 04 - 28 \\n 更新 し ました 「 お 花見 プチ オフ 」 \\n こんばんは \\n\\n 昨日 は １ ヶ月 ぶり の ヨガ でした \\n\\n 終わって から あまりに も 気持ち いい お 天気 だった から \\n 一緒だった ルチルス さん と 、 カフェ を さがして ２ 駅 分 お 散歩 \\n\\n お 散歩 から トータル ３ 時間 近く 、 お つきあい ありがとう ！ \\n\\n\\n\\n 本日 の 更新 \\n\\n お 花見 プチ オフ', '2017 - 05 - 03 \\n 更新 し ました 「 実印 注文 から の お 散歩 日和 ～ 藤 満開 でした ！ 」 \\n こんにちは～ \\n\\n お 休み ゆるゆる 過ごして きた ので 、 \\n 今日 あたり から そろそろ お 仕事 し ない と \\n\\n 昨日 は 藤 を 見て き ました 。 \\n 今回 は 写真 いっぱい アップ して ます \\n お 時間 ある 時 に でも どうぞ \\n\\n\\n 本日 の 更新 \\n 実印 注文 から の お 散歩 日和 ～ 藤 満開 でした ！', '2017 - 05 - 07 \\n 更新 し ました 「 お 仏壇 を お迎え 」 \\n こんにちは \\n\\n 明日 から 新 年度 の スタート です \\n\\n\\n 改訂 した ばかりで 、 その あたり に 段ボール の まま 積んで あった 新 テキスト を 出し 本棚 へ 。 \\n 古い テキスト は 天袋 へ お 片付け 。 \\n\\n ちょっと すっきり した か な \\n\\n\\n\\n 本日 の 更新 \\n\\n お 仏壇 を お迎え', '2017 - 05 - 23 \\n 更新 し ました 「 第 2 回 プチ オフ in 奈良 」 \\n こんにちは まだ 5 月 な のに 、 すっかり 暑く なって びっくり です 。 コンクール が 迫って 来て 、 データ 作り や 補講 に 追わ れて ます が 来月 、 再来月 と アイス ショー の チケット 取れた ので 、 それ を 楽しみに なんとか 乗り切り ます 久々の 生羽 生 くん やわ 〜 本日 の 更新 第 2 回 プチ オフ in 奈良', '2017 - 06 - 07 \\n 更新 し ました 「 偶然 の 出会い 」 \\n 本日 ２ 回 目 の 更新 。 \\n\\n 今後 の 自分 の ため に 、 きちんと 今 の 気持ち を 残して おき たくて 。 \\n 書く 事 で 気持ち が クリアに なる 部分 も ある の かも 。 \\n\\n\\n\\n 本日 の 更新 ２ \\n\\n 偶然 の 出会い', '2017 - 06 - 07 \\n 更新 し ました 「 初めて の ヒーリング 体験 、 そして 自分 と 向き合う 」 \\n おはよう ございます 先週 末 は さわやかで 過ごし やすかった けど そろそろ 梅雨入り か な ？ 日曜 は 姪 っ子 の 練習 を 1 時間 半 ほど 見て その後 一緒に ガトー ショコラ 作り 。 お 皿 が 和 テイスト な の は ご 愛嬌 です 本日 の 更新 初めて の ヒーリング 体験 、 そして 自分 と 向き合う', '2017 - 06 - 17 \\n 更新 し ました 「 百 箇 日 」 \\n こんにちは 。 梅雨 らしく ない 晴れ ばかり の 毎日 。 日 も 長く なって 、 あぁ 夏 が 近づいて きた なーって 感じ 。 このまま 夏 に 突入 しちゃ う の かしら ？ 本日 の 更新 百 箇 日', '2017 - 06 - 24 \\n 更新 し ました 「 愛 に あふれた 人生 」 \\n こんばんは \\n\\n 日本 中 が きっと 同じ 気持ち の ２ 日間 。 \\n\\n 愛 に あふれた 彼女 の 人生 、 まだまだ 見せて ほしかった 。 \\n\\n\\n\\n\\n 本日 の 更新 \\n\\n 愛 に あふれた 人生', '2017 - 08 - 05 \\n 更新 し ました 「 術後 ３ 年 検査 、 そして お 空 の あなた へ 」 \\n おはよう ございます 。 台風 心配です ね 。 大きな 被害 が 出 ない 事 を 祈り ます 。 昨日 、 駅 を 降りたら とっても きれいな 夕焼け 。 そして はし っこ 、 ♡ の 雲 に なって る の わかる か な 。 かわいい の 大好きだった あなた が 、 この 辺り に いる の かも って 思った よ 本日 の 更新 術後 ３ 年 検査 、 そして お 空 の あなた へ', '2017 - 08 - 07 \\n 更新 し ました 「 手編み パッド 講習 会 」 \\n こんばんは \\n\\n 今年 初 盆 を 迎える 我が家 は 、 てんやわんや です \\n\\n もう お 父さん 、 お家 に 帰って 来て る の かしら \\n\\n\\n\\n\\n 本日 の 更新 \\n\\n 手編み パッド 講習 会', '2017 - 08 - 22 \\n ” INCONVENIENCE ” \\n こんにちは \\n\\n こちら は まだまだ 暑い 日 が 続いて ます \\n 昨日 は ３５ ℃ と か いう 予報 やった し \\n\\n\\n さて さて 、 先日 手編み パッド へ の 名称 変更 の 事 を 書き ました が \\n 言葉 足らず だった ので 、 magicring さん を リブ ログ 。 \\n\\n どういう 想い で の 変更 な の か 、 ぜひぜひ 私 たち の 想い を 皆さん に も 知って いただけたら な～ と 思い ます \\n\\n 皆さま 、 「 手編み パッド 」 で よろしく ね～ \\n\\n\\n\\n\\n\\n\\n 相変わらず 絶賛 放置 中 の ブログ 、 \\n 書こう と 思う 事 は 色々 ある のです が 、 また それ は ぼちぼち と いう 事 で', '2018 - 01 - 01 \\n 更新 し ました 「 ご無沙汰 して おり ます 」 \\n 今年 も どうぞ よろしく お 願い 致し ます 。 \\n\\n 自分 の ブログ ページ 開いた の も 結構 久しぶり 。 \\n ブロ 友 さん の ところ へ も 、 タイミング が 合った とき だけ 伺ったり で \\n 本当に 申し訳ない です \\n\\n 今年 も 本当に ぼちぼち 、 ちょびっと ずつ 頑張って いき ます 。 \\n\\n 皆さま の ２０１８ 年 が 素敵な １ 年 に なり ます ように \\n\\n\\n 本日 の 更新 \\n ご無沙汰 して おり ます \\n\\n\\n 過去 の 更新 \\n ～ 手編み パッド 関連 の 更新 です 。 よければ ご覧 ください ませ \\n 女神 の つどい ♡ \\nｍ カフェ に 参加 して き ました ！', '2018 - 01 - 03 \\n 更新 し ました 「 初売り ＆ 懐かし の リカ ちゃん 」 \\n こんばんは \\n\\n きっと 明日 から お 仕事 の 方 も いっらしゃいますよね 。 \\n 私 は 土曜日 から です が 、 そろそろ 楽譜 書き は スタート さ せ なくて は \\n\\n 父 の １ 周忌 の 事 も 決め ない と だし 、 しばらく バタバタ の 日々 かも … \\n\\n\\n\\n\\n 本日 の 更新 \\n\\n 初売り ＆ 懐かし の リカ ちゃん', '2018 - 02 - 25 \\n 更新 し ました 「 一周忌 を 迎えて 」 \\n おはよう ございます \\n\\n ２ 月 も もう 数 日 で 終わり 。 \\n やる 事 山積み な んだ けど 、 オリンピック 見 ながら やって たり なんか して \\n ちっとも 進み ませ ん \\n 確定 申告 も せ なあ かんし … \\n\\n 気持ち だけ は 焦って る んだ けど \\n\\n 今日 は 父 の 一周忌 。 \\n 気持ち の 区切り を つけて 、 明日 から もう 少し 踏ん張れる と いい なぁ 。 \\n\\n\\n\\n 本日 の 更新 \\n 一周忌 を 迎えて', '2018 - 03 - 03 \\n 更新 し ました 「 一周忌 、 無事 終え ました 」 \\n おはよう ございます \\n\\n 父 が 旅立って から 、 今日 で ちょうど １ 年 。 \\n ほんと 早い なぁ 。 \\n\\n 今日 は お 仕事 な ので 、 合間 に なんとか お参り に 行く つもりな んだ けど \\n 予定 通り 進み ます ように \\n\\n さぁ 、 今日 も 笑顔 で 頑張ろう \\n\\n\\n\\n 本日 の 更新 \\n\\n 一周忌 、 無事 終え ました', '2018 - 06 - 20 \\n 更新 し ました 「 地震 と W 杯 ！ 」 \\n ご無沙汰 して い ます ブログ から は すっかり 離れて ました が 、 お 仕事 し つつ 時々 出かけたり 、 毎日 なんだかんだ 忙しく 過ごして い ました 。 地震 が 起きた 時 は たまたま リビング で 寝て いた 私 。 いつも は 、 自分 の 部屋 の ピアノ の すぐ 横 で 寝起き して い ました 。 さすが に 怖く なり 、 今 は 毎日 リビング で 枕元 に は スリッパ と 懐中 電灯 。 多分 、 関西 に 住んで る 人 は ほとんど みんな こんな 状態 だ と 思い ます 。 自然 災害 は どう する 事 も 出来 ませ ん が 、 どう か どう か このまま 終息 し ます ように … 本日 の 更新 地震 と W 杯 ！', '2018 - 06 - 28 \\n 更新 し ました 「 術後 ４ 年 目 検査 」 \\n こんばんは \\n\\n いよいよ 、 運命 の ポーランド 戦 。 \\n ドキドキ する よ～ \\n\\n 頑張れ ！ 日本 \\n\\n\\n\\n 本日 の 更新 \\n 術後 ４ 年 目 検査', '2018 - 12 - 31 \\n ” 手編み パッド 勉強 会 ” \\n 年の瀬 、 いかが お 過ごし です か ？ 超 久々の しずく です ブログ 、 いつ ぶりだろう ？ 元気に して い ます 。 お 仕事 もし つつ 、 時々 ↓ みたいな magicring 関連 の 会 に 参加 さ せて もらって ます 。 私 は ここ は 今回 初めて の 参加 でした 。 両 隣り の お初 参加 の 方々 と 一緒に 、 パッド を 編み 編み お 2 人 と も 編み物 経験 お あり だった ので 、 サクサク と 進み 、 お 1 人 は 表 は 完成 裏 の 編み 方 を お 伝え して 、 お開き の 時間 と なり ました 。 今回 の 参加 の 方々 は とっても 熱心で 、 皆さん 黙々と 編み 進めて らっしゃい ました 。 手 より お 口 が 主体 の 会 も 楽しい んだ けど ね 次回 も 参加 予定 です ！ 2 月 は スヴェンソン さん の 京都 サロン の 会 に も 、 多分 参加 し ます 。 ご 参加 希望 など 、 詳しく は magicring ブログ を ご覧 下さい ね 。 さて さて 、 時間 が あれば ちゃんと した ブログ で 今年 を 締め たい のです が 、 どうか なぁ 。 こんな 大晦日 な のに 、 今 から こちら へ ほんと は 昨日 行く 予定 が 、 生徒 の 楽譜 が 書き 終わら ず 、 やっと さっき メール で 送れた ところ いって き まーす 皆さま 、 よい お 年 を お迎え 下さい ませ 来年 も どうぞ よろしく お 願い 致し ます 。', '2019 - 01 - 04 \\n 明け まして おめでとう ございます \\n 明け まして おめでとう ございます しずく です 。 今年 も マイ ペース 更新 です が 、 よろしく お 願い 致し ます 。 昨年 より は 、 もう ちょっと 出て き たい … と は 思って ます そして もう １ つ 。 私 の メイン ブログ は ご存知 の 通り FC ２ で 、 アメブロ は その 更新 お 知らせ 用 ブログ と して 使って き ました 。 が 、 magicring メンバー みんな アメブロ な ので 、 今後 リブログ する 機会 も 増える か な と 思った こと そして 何より 、 スマホ から だ と 断然 アメブロ の ほう が 書き やすい FC ２ も アプリ ある し 、 ブラウザ 経由 でも スマホ から アップ 出来る んだ けど 書き にくい し 、 写真 も アップ する の に 時間 かかる んだ よ ね … そんな 事 も あり 、 年 が 明けた この タイミング で アメブロ の ほう へ 変更 しよう と 思い ます 。 ただ 、 過去 の ブログ は 当面 むこうに 置いた まま の つもり です 。 備忘録 と して 以前 の 事 を 書いたり も する かも だし 。 そういう わけ で 、 今後 は こちら の ほう メイン で よろしく お 願い 致し ます ♪ ♪ ♪ ♪ ♪ ♪ ♪ ♪ ♪ ♪ ♪ ♪ 父 の い ない 元旦 は ２ 回 目 。 母 は 友達 と 早朝 から お 寺 へ 。 私 は 今年 も 、 1 人 で 毛糸 かご 盛り 放題 に チャレンジ 昨年 お 昼 前 に 行ったら 地味 ～な 色味 が 多かった ので 今年 は ９ 時 前 に 行った 全部 で ２６ 個 ゲット して １０８０ 円 昨年 の 糸 も ほとんど 残って る んだ けど 、 可愛い 色 買えた から よし 他 に も 入浴 剤 と か タオル 詰め 放題 と か 、 どうでも いい もの だ けど 楽しかった ちなみに 、 昨年 の 糸 で 編んだ の は … 母 用 ミニ マフラー 姪 っ子 の リカ ちゃん ３ 点 セット リカ ちゃん の は これ から 色々 編む 気 満々 だった のに しばらく して 、 姪 っ子 が リカ ちゃん から 卒業 して しまった でも 編む の は 気持ち も 落ち着く し 、 段々 出来 上がって くる の が 嬉しく も あり 。 せっかく 糸 も ある ので 色々 編み たい と 思って ます 。 もちろん 、 手編み パッド も 今年 も 頑張り ます', '2019 - 05 - 12 \\n 令和 初日 から … \\n ご無沙汰 して い ます 今月 から 新 年度 スタート 。 たくさんの 新しい 生徒 さん と の 出会い が あり ました 。 今 年度 も ぼちぼち 頑張って いこう と 思い ます 。 さて 、 令和 の 初日 から ダウン して まして 、 連休 後半 は ほぼ 寝た まま で 終わって しまい ました 胃 の 痛み と 嘔吐 から 始まり 、 全く 食べ られ ず 。 4 日 に ついに 病院 へ 。 かかりつけ の 先生 が 連休 中 も 診察 して 下さって た ので 助かり ました 。 連休 な ので 血液 検査 が 出来 ない けど 、 多分 ウィルス 性 の 胃腸 炎 だろう と 。 でも 予想 通り 、 飲めて る なら 大丈夫 って 点滴 まで は して くれ ず 気持ち 悪くて 食べ られ ない って 言ったら 、 なつかし の プリンペラン 出さ れ ました 。 抗がん 剤 ぶり だ よ 確かに 飲んだら 気持ち 悪 さ が 減って 、 おかゆ や お うどん 食べ られる ように なり ました 。 そ したら 少しずつ 動ける ように なった ！ プリンペラン すごい わー 。 で 、 何とか 新 年度 スタート 出来た わけです が 。 仕事 始めて みたら 、 M ちゃん も 全く 同じ 日 から 同じ 症状 で 寝 込んで た 一緒に ご飯 食べた の は 、 その 4 日 も 前 な んだ けど 。 って 言って たら 、 みんな に カンピロバクター じゃ ない ？ 鶏 、 食べ へん かった ？ って 。 うん 、 食べた 。 骨つき 唐揚げ 。 それ や ！ 調べる と 加熱 不十分で も 発症 する ようで 、 記憶 を たどれば 、 あれ ？ ピンク ？ って 思った 瞬間 が あった ような … 気のせい や と 思って て ん けど 、 そう じゃ なかった の ね 随分 良く なり ました が 、 何となく だらだら 不調 は 続いて て 、 まだ 白 ごはん と うどん おかゆ の 間 を 行ったり 来たり して ます 。 皆さま も お 気 を つけ 下さい 。 ただいま 、 神戸 ノエビア スタジアム に 向かい 中 寝 込んで る 時 は 行く の 無理 かも って 思い ました が 、 無事に 行けて よかった ほんと は スタジアム で 神戸 牛 食べる の 楽しみに して た んだ けど なぁ 。 イニエスタ ワイン と か 飲んで み たかった わ', '2019 - 06 - 05 \\n 術後 ５ 年 を 過ぎ ました \\n 今日 は サッカー アンダー 世代 の 試合 が 目白押し 。 \\n どっち も アントラーズ の 選手 が 誰 も い ない の が 、 ちょっと さびしい けど \\n\\n さっき まで 見て た トゥーロン は 、 ６ 対 １ って サッカー と は 思え ない 点差 で 勝利 \\n 第 １ 戦 で イングランド に 勝った 時 も びっくり だった けど 、 今日 は チリ に 圧勝 \\n\\n メンバー は ターン オーバー して た けど 、 誰 が 出て も 点 が 取れる って すごい わ \\n あれ だけ ボール が 繋がったら 楽しい やろう なぁ 。 \\n\\n 来年 の オリンピック も 楽しみです \\n チケット 当たる と いい な \\n\\n 終了 した ところ で 、 U ２０ ワールドカップ に 移動 。 \\n こっち は スコア レス で 前半 終わり ました 。 \\n がんばれ～ \\n\\n ♪ ♪ ♪ ♪ ♪ ♪ ♪ ♪ ♪ ♪ ♪ ♪ \\n\\n 前回 の ブログ 後 も 、 ちょっと ぶり返したり で だらだら 不調 は 続き \\n 気付けば もう ６ 月 \\n やっと お 肉 と か 食べ られる ように なり ました 。 \\n\\n この 時期 、 コンクール 前 で １ 年 で １ 番 しんどい 日々 。 \\n 時間 が 足り な～い \\n\\n\\n そして ５ 月 １３ 日 で 術後 ５ 年 を 迎え ました 。 \\n\\n 長かった ような 、 早かった ような 。 \\n\\n\\n ３ 年 目 くらい まで は 色々 不安 も 多かった 。 \\n 心 の どこ か で 、 長く 生き られ ない んじゃ 、 と も 思って たし 。 \\n\\n そんな 頃 、 オフ 会 に 参加 さ せて もらって 、 同 病 の みんな と つながって 。 \\n どれ だけ 気持ち が 楽に なった 事 か 。 \\n 本当に 嬉しかった し 、 とても 感謝 して い ます \\n\\n 今 は なかなか 会う 機会 ない けど 、 \\n きっと みんな それぞれ の 生活 で 頑張って る んだろう なって 思って ます 。 \\n\\n\\n 昨年 春 から は 、 罹患 前 と 同じ ５ 日 稼働 に なり \\n 今 春 は 更に 新しい クラス も たくさん いただけ 、 \\n 生徒 数 的に は あの 頃 の 人数 に 近く なり ました 。 \\n\\n その分 、 仕事 の 準備 に 費やす 時間 も 増えて 大変だ けど \\n 有難い 事 だ な って 思い ます 。 \\n\\n ３ 歳 の クラス と か 、 やっぱり めちゃめちゃ かわいい し \\n\\n 本当 は １ 歳 と か ２ 歳 クラス も 復帰 し たい 気持ち も ある けど 、 \\n やっぱり こっち は 担当 出来る 講師 に 限り が ある ので 、 再発 した 時 を 考えたら ちょっと ね 。 \\n\\n\\n ５ 年 を 迎えて 、 以前 と 変わった の は 、 \\n 体調 どう ？ って 聞か れ なく なった 事 。 \\n みんな 私 が 乳 がん って 忘れちゃ って る んじゃ ない ？ って くらい \\n\\n ５ 年 を 迎えた と 言って も 、 検査 は まだ 今月 末 だ し \\n 私 の がん の タイプ 的に は 、 多分 これ から が 再発 の 多い 時期 に 入る んだ と 思う 。 \\n\\n その 時 に 後悔 し ない ように 、 やり たい 事 やって 、 行き たい 所 に 行っ とか なきゃ ね 。 \\n ４ 月 に は 、 母 と ２ 人 で ディズニー に も 行って 来 ました 。 \\n 母 と の 時間 も 大事に して いこう って 思って ます \\n\\n\\n\\n\\n\\n あー 日本 失点 \\n もう 残り 時間 少ない よ \\n なんとか 追いついて～ \\n\\n あ～ 負けちゃ った よ 、 残念', '2019 - 07 - 25 \\n 梅田 サロン で 手編み パッド \\n こんばんは 。 しずく です ご無沙汰 して おり ます 梅雨 も 明け 、 いよいよ 夏 本番 な 感じ 。 今日 は 夕方 大量の 雨 が 仕事場 に 着いた 後 だった ので 、 私 自身 は 雨 に は あわ なかった けど 、 スマホ に ジャンジャン 通知 が 来て びっくり 1 時間 ちょい で やんだ ようで 、 ほんと よかった さて さて 、 今日 は お 昼 に スヴェンソン さん の 梅田 サロン にて 、 手編み パッド の 会 でした 。 magicring メンバー 3 人 で お伺い 。 久しぶりの 会 な ので 、 昨夜 も なんだか 準備 で バタバタ 6 名 の 方 が 参加 して 下さい ました 編み物 経験 の ある 方 も いら して 、 表 を 完成 さ せて 筋 編み から 裏 の 途中 まで 作ら れた 方 も 皆さん 、 お 喋り も せ ず 、 もくもくと 編む 、 編む 、 編む … 何度 も やり 直し つつ 、 頑張って 編ま れて い ました 。 毎回 思う けど 、 最初の マジックリング の ところ が 難しい んだ よ ねぇ 。 上手に 伝える 方法 ない か なぁ 。 あと 、 あまり 経験 の ない 方 は 細 編み 編む に も どこ に 針 を 入れたら いい の か が わかり にくい ようで 、 1 段 編んだ あと の 目 を 拡大 した の と か あれば わかり やすい か なぁ 、 と か 。 お 伝え する ほう も 試行 錯誤 です 終わり の 時間 あたり に なって 、 皆さん リラックス さ れた の か 治療 の 事 など 色々 お 話し が 聞け ました 。 まだ 診断 のみ で これ から 治療 に 入る と いう 方 は 、 実は こういう 話し が 聞き たくて 来たって おっしゃって ました 。 編む の と お 話し と 、 バランス よく 出来れば 皆さん 楽しんで もらえる んだろう けど ね 。 なかなか 難しい ね 。 次回 は 8 月 22 日 。 予約 して 帰ろう か なって 、 嬉しい お 声 も 私 は 参加 出来る か あやしい のです が パッド 編んで み たい なって 方 は 、 ぜひ いら して 下さい ね〜 あ 、 m カフェ あるある 。 写真 撮る の 忘れた なので 雰囲気 だけ メンバー さん 達 と 別れて から 、 ひと り ランチ 。 あまり 時間 も なかった ので 、 サクッと 食べ られ そうな こちら へ 。 焼き 小籠包 って 初めて 食べた けど 、 蒸し の ほう が いい な', '2019 - 08 - 18 \\n お 休み 明け の 出来事 \\n こんばんは お 盆 休み も あっという間 に 終わって しまい 、 昨日 の 土曜日 から 通常 生活 久々で 朝 から 歌える の か 私… と 思い ました が 、 意外 と 大丈夫だった 1 クラス 目 は 保育 園生 クラス 。 お 休み も なく 全員 来て くれた 上 に 、 ちゃんと 練習 して きて くれて 。 特に 男の子 たち は 張り切って ました そして 、 恥ずかしかったり 出来 ない の が イヤだったり で 、 レッスン 中 いつも ほとんど やら ない 男の子 が いる のです 。 前回 の レッスン は 、 自分 の やり たい 気持ち と うまく 出来 ない イライラ から か 大 号泣 。 なかなか 大変な 状況 で 帰って 行き ました … 次の 日 、 ママ に メール し ました が 、 なし の つぶて で 大丈夫 か なぁ と 心配 して た のです 。 昨日 も ちょっと 遅れて 来て 、 最初の お 歌 は 興味 なさそうま 、 来て くれた だけ いい や 、 と 次の 鍵盤 の 曲 へ 。 今日 も 無理 か なぁ と 思って たら 、 なんと ！ 弾いて る やん すごい ！ と 思い つつ 、 あんまり 大げさに する と こういう タイプ の 子 は 弾か なく なったり する ので 、 手 で OK サイン 作って 、 上手 ！ と 一言 かける に とどめて おき ました 。 多分 ここ で うまく いった の が 嬉しかった から か 、 この 日 は ほとんど の 曲 ちゃん と 参加 して 、 レパートリー も 頑張って 弾いて ました ママ に は 、 焦ら ず 長い 目 で 見守って と メッセージ 送って ました が 、 レッスン 終わって から 少し お 話し した 時 目 を 赤く さ れて て 、 泣いて ら した ようです 。 もちろん 嬉しい の も あった と 思い ます が 、 あぁ ママ も 今 まで つらかった んだ な と 改めて 感じて 。 3 歳 から の 持ち上がり で 、 最初の 頃 は みんな まぁ 私 の 言う こと なんて 聞か ない 聞か ない それ が いまや みんな ちゃんと 弾いたり 歌ったり 、 私 の 指示 を 聞き ながら レッスン して る 。 そんな 中 、 やら ない 我が 子 を 見て る の は やっぱり つらい よ ね 。 きっと お家 で の 練習 頑張って くれた のだ と 思い ます 。 もちろん まだまだ これ から も 波 が ある と 思う 。 来週 は また 何も し ない かも しれ ない し 。 でも 1 つ 、 乗り越えて くれた んじゃ ない か な と 思い ます 。 仕事 初日 の しんどい 気持ち が 吹っ飛ぶ くらい 、 嬉しかった 出来事 でした']\n",
      "\n",
      "\n"
     ]
    }
   ],
   "source": [
    "for i in df['text']:\n",
    "    print(i)\n",
    "    print('\\n')"
   ]
  },
  {
   "cell_type": "code",
   "execution_count": 14,
   "metadata": {},
   "outputs": [
    {
     "ename": "KeyError",
     "evalue": "False",
     "output_type": "error",
     "traceback": [
      "\u001b[0;31m---------------------------------------------------------------------------\u001b[0m",
      "\u001b[0;31mKeyError\u001b[0m                                  Traceback (most recent call last)",
      "File \u001b[0;32m~/miniconda3/envs/summarization/lib/python3.11/site-packages/pandas/core/indexes/base.py:3653\u001b[0m, in \u001b[0;36mIndex.get_loc\u001b[0;34m(self, key)\u001b[0m\n\u001b[1;32m   3652\u001b[0m \u001b[38;5;28;01mtry\u001b[39;00m:\n\u001b[0;32m-> 3653\u001b[0m     \u001b[38;5;28;01mreturn\u001b[39;00m \u001b[38;5;28;43mself\u001b[39;49m\u001b[38;5;241;43m.\u001b[39;49m\u001b[43m_engine\u001b[49m\u001b[38;5;241;43m.\u001b[39;49m\u001b[43mget_loc\u001b[49m\u001b[43m(\u001b[49m\u001b[43mcasted_key\u001b[49m\u001b[43m)\u001b[49m\n\u001b[1;32m   3654\u001b[0m \u001b[38;5;28;01mexcept\u001b[39;00m \u001b[38;5;167;01mKeyError\u001b[39;00m \u001b[38;5;28;01mas\u001b[39;00m err:\n",
      "File \u001b[0;32m~/miniconda3/envs/summarization/lib/python3.11/site-packages/pandas/_libs/index.pyx:147\u001b[0m, in \u001b[0;36mpandas._libs.index.IndexEngine.get_loc\u001b[0;34m()\u001b[0m\n",
      "File \u001b[0;32m~/miniconda3/envs/summarization/lib/python3.11/site-packages/pandas/_libs/index.pyx:176\u001b[0m, in \u001b[0;36mpandas._libs.index.IndexEngine.get_loc\u001b[0;34m()\u001b[0m\n",
      "File \u001b[0;32mpandas/_libs/hashtable_class_helper.pxi:7080\u001b[0m, in \u001b[0;36mpandas._libs.hashtable.PyObjectHashTable.get_item\u001b[0;34m()\u001b[0m\n",
      "File \u001b[0;32mpandas/_libs/hashtable_class_helper.pxi:7088\u001b[0m, in \u001b[0;36mpandas._libs.hashtable.PyObjectHashTable.get_item\u001b[0;34m()\u001b[0m\n",
      "\u001b[0;31mKeyError\u001b[0m: False",
      "\nThe above exception was the direct cause of the following exception:\n",
      "\u001b[0;31mKeyError\u001b[0m                                  Traceback (most recent call last)",
      "Cell \u001b[0;32mIn[14], line 1\u001b[0m\n\u001b[0;32m----> 1\u001b[0m \u001b[43mdata_frame\u001b[49m\u001b[43m[\u001b[49m\u001b[38;5;124;43m'\u001b[39;49m\u001b[38;5;124;43muser\u001b[39;49m\u001b[38;5;124;43m'\u001b[39;49m\u001b[38;5;241;43m==\u001b[39;49m\u001b[38;5;124;43m\"\u001b[39;49m\u001b[38;5;124;43mshizuku-kokoro\u001b[39;49m\u001b[38;5;124;43m\"\u001b[39;49m\u001b[43m]\u001b[49m\n",
      "File \u001b[0;32m~/miniconda3/envs/summarization/lib/python3.11/site-packages/pandas/core/frame.py:3761\u001b[0m, in \u001b[0;36mDataFrame.__getitem__\u001b[0;34m(self, key)\u001b[0m\n\u001b[1;32m   3759\u001b[0m \u001b[38;5;28;01mif\u001b[39;00m \u001b[38;5;28mself\u001b[39m\u001b[38;5;241m.\u001b[39mcolumns\u001b[38;5;241m.\u001b[39mnlevels \u001b[38;5;241m>\u001b[39m \u001b[38;5;241m1\u001b[39m:\n\u001b[1;32m   3760\u001b[0m     \u001b[38;5;28;01mreturn\u001b[39;00m \u001b[38;5;28mself\u001b[39m\u001b[38;5;241m.\u001b[39m_getitem_multilevel(key)\n\u001b[0;32m-> 3761\u001b[0m indexer \u001b[38;5;241m=\u001b[39m \u001b[38;5;28;43mself\u001b[39;49m\u001b[38;5;241;43m.\u001b[39;49m\u001b[43mcolumns\u001b[49m\u001b[38;5;241;43m.\u001b[39;49m\u001b[43mget_loc\u001b[49m\u001b[43m(\u001b[49m\u001b[43mkey\u001b[49m\u001b[43m)\u001b[49m\n\u001b[1;32m   3762\u001b[0m \u001b[38;5;28;01mif\u001b[39;00m is_integer(indexer):\n\u001b[1;32m   3763\u001b[0m     indexer \u001b[38;5;241m=\u001b[39m [indexer]\n",
      "File \u001b[0;32m~/miniconda3/envs/summarization/lib/python3.11/site-packages/pandas/core/indexes/base.py:3655\u001b[0m, in \u001b[0;36mIndex.get_loc\u001b[0;34m(self, key)\u001b[0m\n\u001b[1;32m   3653\u001b[0m     \u001b[38;5;28;01mreturn\u001b[39;00m \u001b[38;5;28mself\u001b[39m\u001b[38;5;241m.\u001b[39m_engine\u001b[38;5;241m.\u001b[39mget_loc(casted_key)\n\u001b[1;32m   3654\u001b[0m \u001b[38;5;28;01mexcept\u001b[39;00m \u001b[38;5;167;01mKeyError\u001b[39;00m \u001b[38;5;28;01mas\u001b[39;00m err:\n\u001b[0;32m-> 3655\u001b[0m     \u001b[38;5;28;01mraise\u001b[39;00m \u001b[38;5;167;01mKeyError\u001b[39;00m(key) \u001b[38;5;28;01mfrom\u001b[39;00m \u001b[38;5;21;01merr\u001b[39;00m\n\u001b[1;32m   3656\u001b[0m \u001b[38;5;28;01mexcept\u001b[39;00m \u001b[38;5;167;01mTypeError\u001b[39;00m:\n\u001b[1;32m   3657\u001b[0m     \u001b[38;5;66;03m# If we have a listlike key, _check_indexing_error will raise\u001b[39;00m\n\u001b[1;32m   3658\u001b[0m     \u001b[38;5;66;03m#  InvalidIndexError. Otherwise we fall through and re-raise\u001b[39;00m\n\u001b[1;32m   3659\u001b[0m     \u001b[38;5;66;03m#  the TypeError.\u001b[39;00m\n\u001b[1;32m   3660\u001b[0m     \u001b[38;5;28mself\u001b[39m\u001b[38;5;241m.\u001b[39m_check_indexing_error(key)\n",
      "\u001b[0;31mKeyError\u001b[0m: False"
     ]
    }
   ],
   "source": [
    "data_frame['user'==\"shizuku-kokoro\"]"
   ]
  },
  {
   "cell_type": "code",
   "execution_count": 4,
   "metadata": {},
   "outputs": [],
   "source": [
    "df = pd.read_json('datasets/NLP_JP_CORPUS_INCREMENTAL_JUMAN/NLP_JP_CORPUS_INCREMENTAL_JUMAN.json', orient='records', encoding='utf-8')"
   ]
  },
  {
   "cell_type": "code",
   "execution_count": 6,
   "metadata": {},
   "outputs": [
    {
     "data": {
      "text/plain": [
       "['テキスト や 談話 を 理解 する ため に は ， まず その 文章 構造 を 理解 する 必要 が ある ．文章 構造 に 関する 従来 の 多く の 研究 で は ， 解析 に 用い られる 知識 の 問題 に 重点 が おか れて いた ．しかし ， 量的 / 質的に 十分な 計算 機 用 の 知識 が 作成 さ れる こと は しばらく の 間 期待 でき ない ．',\n",
       " 'テキスト や 談話 を 理解 する ため に は ， まず その 文章 構造 を 理解 する 必要 が ある ．文章 構造 に 関する 従来 の 多く の 研究 で は ， 解析 に 用い られる 知識 の 問題 に 重点 が おか れて いた ．しかし ， 量的 / 質的に 十分な 計算 機 用 の 知識 が 作成 さ れる こと は しばらく の 間 期待 でき ない ．本 論文 で は ， 知識 に 基づく 文 理解 と いう 処理 を 行なわ ず に ， 表層 表現 中 の 種々の 情報 を 用いる こと に より 科学 技術 文 の 文章 構造 を 自動 的に 推定 する 方法 を 示す ．表層 表現 中 の 情報 と して は ， 種々の 手がかり 表現 ， 同一 / 同 義 の 語 / 句 の 出現 ， 2 文 間 の 類似 性 ， の 3 つ の もの に 着目 した ．',\n",
       " 'テキスト や 談話 を 理解 する ため に は ， まず その 文章 構造 を 理解 する 必要 が ある ．文章 構造 に 関する 従来 の 多く の 研究 で は ， 解析 に 用い られる 知識 の 問題 に 重点 が おか れて いた ．しかし ， 量的 / 質的に 十分な 計算 機 用 の 知識 が 作成 さ れる こと は しばらく の 間 期待 でき ない ．本 論文 で は ， 知識 に 基づく 文 理解 と いう 処理 を 行なわ ず に ， 表層 表現 中 の 種々の 情報 を 用いる こと に より 科学 技術 文 の 文章 構造 を 自動 的に 推定 する 方法 を 示す ．表層 表現 中 の 情報 と して は ， 種々の 手がかり 表現 ， 同一 / 同 義 の 語 / 句 の 出現 ， 2 文 間 の 類似 性 ， の 3 つ の もの に 着目 した ．実験 の 結果 これ ら の 情報 を 組み合わせて 利用 する こと に より 科学 技術 文 の 文章 構造 の かなり の 部分 が 自動 的に 推定 可能である こと が わかった ．150 文 に 対して 実験 を 行なった ところ ， 96 % の 文節 に ついて 正しい 係り 先 を 求める こと が できた ．']"
      ]
     },
     "execution_count": 6,
     "metadata": {},
     "output_type": "execute_result"
    }
   ],
   "source": [
    "df['abs_incremental'][0]"
   ]
  },
  {
   "cell_type": "code",
   "execution_count": 10,
   "metadata": {},
   "outputs": [
    {
     "data": {
      "text/html": [
       "<div>\n",
       "<style scoped>\n",
       "    .dataframe tbody tr th:only-of-type {\n",
       "        vertical-align: middle;\n",
       "    }\n",
       "\n",
       "    .dataframe tbody tr th {\n",
       "        vertical-align: top;\n",
       "    }\n",
       "\n",
       "    .dataframe thead th {\n",
       "        text-align: right;\n",
       "    }\n",
       "</style>\n",
       "<table border=\"1\" class=\"dataframe\">\n",
       "  <thead>\n",
       "    <tr style=\"text-align: right;\">\n",
       "      <th></th>\n",
       "      <th>user</th>\n",
       "      <th>text</th>\n",
       "      <th>summary</th>\n",
       "      <th>incremental_summary</th>\n",
       "    </tr>\n",
       "  </thead>\n",
       "  <tbody>\n",
       "    <tr>\n",
       "      <th>0</th>\n",
       "      <td>12gatunoaozora</td>\n",
       "      <td>[2014 - 01 - 10 \\n 告知 \\n 2013 年 12 月 、 手術 検査 の...</td>\n",
       "      <td>[関連 イベント なし, 関連 イベント なし, 関連 イベント なし, 関連 イベント な...</td>\n",
       "      <td>[2013 年 12 月 左 乳 がん 告知 （ ステージ 0 の 初期 ）, 2013 年...</td>\n",
       "    </tr>\n",
       "    <tr>\n",
       "      <th>1</th>\n",
       "      <td>1732araiguma</td>\n",
       "      <td>[2009 - 11 - 24 \\n しこり 発見 o ( ＞ ＜ ) o\\n 先月 末 の...</td>\n",
       "      <td>[関連 イベント なし, 関連 イベント なし, 関連 イベント なし, 関連 イベント な...</td>\n",
       "      <td>[2009 年 10 月 末 左 胸 に しこり を 触知 翌日 受診 乳 がん の 可能 ...</td>\n",
       "    </tr>\n",
       "    <tr>\n",
       "      <th>2</th>\n",
       "      <td>2016kei</td>\n",
       "      <td>[2016 - 02 - 26 \\n 人間 ドッグ (((^^;) \\n 本日 から ブログ...</td>\n",
       "      <td>[関連 イベント なし, 関連 イベント なし, 関連 イベント なし, 関連 イベント な...</td>\n",
       "      <td>[201 年 の 時点 で 46 歳 \\n 2016 - 01 - 28 人間ドック, 20...</td>\n",
       "    </tr>\n",
       "    <tr>\n",
       "      <th>3</th>\n",
       "      <td>42307191112</td>\n",
       "      <td>[2009 - 05 - 31 \\n 大 運動 会 \\n 上々の お 天気 で の 運動 会...</td>\n",
       "      <td>[関連 イベント なし, 関連 イベント なし, 関連 イベント なし, 関連 イベント な...</td>\n",
       "      <td>[関連 イベント なし, 2009 - 06 - 072 日 早く 月経 が はじまる 創部...</td>\n",
       "    </tr>\n",
       "    <tr>\n",
       "      <th>4</th>\n",
       "      <td>6to-sei</td>\n",
       "      <td>[2008 - 09 - 30 \\n 病院 の 日 \\n 久しぶりに お 義父 さん に 送...</td>\n",
       "      <td>[関連 イベント なし, 関連 イベント なし, 関連 イベント なし, 関連 イベント な...</td>\n",
       "      <td>[2008 - 09 - 30 ハーセプチン 投与 しびれ あり 昨 夕 より 胃 もたれ ...</td>\n",
       "    </tr>\n",
       "    <tr>\n",
       "      <th>...</th>\n",
       "      <td>...</td>\n",
       "      <td>...</td>\n",
       "      <td>...</td>\n",
       "      <td>...</td>\n",
       "    </tr>\n",
       "    <tr>\n",
       "      <th>95</th>\n",
       "      <td>vioringo</td>\n",
       "      <td>[2022 - 09 - 08 \\n 自己 紹介 \\n 初め まして 。 vioringo ...</td>\n",
       "      <td>[関連 イベント なし, 関連 イベント なし, 関連 イベント なし, 関連 イベント な...</td>\n",
       "      <td>[2021 年 10 月 乳 がん ステージ Ⅱ b と 診断 ． \\n 2021 年 12...</td>\n",
       "    </tr>\n",
       "    <tr>\n",
       "      <th>96</th>\n",
       "      <td>y0901r1004i0816</td>\n",
       "      <td>[2016 - 03 - 06 \\n 病気 の こと \\n 病気 に ついて 2015 年 ...</td>\n",
       "      <td>[関連 イベント なし, 関連 イベント なし, 関連 イベント なし, 関連 イベント な...</td>\n",
       "      <td>[2014 年 12 月 乳 がん 告知 ． \\n 2015 年 2 月 4 日 浸潤 性 ...</td>\n",
       "    </tr>\n",
       "    <tr>\n",
       "      <th>97</th>\n",
       "      <td>yua5020</td>\n",
       "      <td>[2017 - 12 - 04 \\n 初め まして \\n 今年 の 初め に 乳 がん に ...</td>\n",
       "      <td>[2017 年 初頭 乳 がん \\n 2 月 温存 手術 \\n 現在 ホルモン 治療 中 \\...</td>\n",
       "      <td>[2017 年 初頭 乳 がん 判明 \\n 2 月 温存 手術 \\n 現在 ホルモン 治療 ...</td>\n",
       "    </tr>\n",
       "    <tr>\n",
       "      <th>98</th>\n",
       "      <td>yuki-rabbit-hutch</td>\n",
       "      <td>[2012 - 07 - 04 \\n 今日 の 気分 は 。 \\n レモン 味 。 \\n\\n...</td>\n",
       "      <td>[関連 イベント なし, 関連 イベント なし, 関連 イベント なし, 関連 イベント な...</td>\n",
       "      <td>[関連 イベント なし, 関連 イベント なし, 関連 イベント なし, 関連 イベント な...</td>\n",
       "    </tr>\n",
       "    <tr>\n",
       "      <th>99</th>\n",
       "      <td>yumyum23</td>\n",
       "      <td>[2008 - 02 - 23 \\n 強風 \\n 散歩 に 行こう と 思った けど 、 寒...</td>\n",
       "      <td>[関連 イベント なし, 不眠 \\n 明日 通院 \\n 昼食 道 に 痛み 嚥下 痛 \\n ...</td>\n",
       "      <td>[関連 イベント なし, 2008 / 2 / 26 不眠 \\n 昼食 道 に 痛み 嚥下 ...</td>\n",
       "    </tr>\n",
       "  </tbody>\n",
       "</table>\n",
       "<p>100 rows × 4 columns</p>\n",
       "</div>"
      ],
      "text/plain": [
       "                 user                                               text  \\\n",
       "0      12gatunoaozora  [2014 - 01 - 10 \\n 告知 \\n 2013 年 12 月 、 手術 検査 の...   \n",
       "1        1732araiguma  [2009 - 11 - 24 \\n しこり 発見 o ( ＞ ＜ ) o\\n 先月 末 の...   \n",
       "2             2016kei  [2016 - 02 - 26 \\n 人間 ドッグ (((^^;) \\n 本日 から ブログ...   \n",
       "3         42307191112  [2009 - 05 - 31 \\n 大 運動 会 \\n 上々の お 天気 で の 運動 会...   \n",
       "4             6to-sei  [2008 - 09 - 30 \\n 病院 の 日 \\n 久しぶりに お 義父 さん に 送...   \n",
       "..                ...                                                ...   \n",
       "95           vioringo  [2022 - 09 - 08 \\n 自己 紹介 \\n 初め まして 。 vioringo ...   \n",
       "96    y0901r1004i0816  [2016 - 03 - 06 \\n 病気 の こと \\n 病気 に ついて 2015 年 ...   \n",
       "97            yua5020  [2017 - 12 - 04 \\n 初め まして \\n 今年 の 初め に 乳 がん に ...   \n",
       "98  yuki-rabbit-hutch  [2012 - 07 - 04 \\n 今日 の 気分 は 。 \\n レモン 味 。 \\n\\n...   \n",
       "99           yumyum23  [2008 - 02 - 23 \\n 強風 \\n 散歩 に 行こう と 思った けど 、 寒...   \n",
       "\n",
       "                                              summary  \\\n",
       "0   [関連 イベント なし, 関連 イベント なし, 関連 イベント なし, 関連 イベント な...   \n",
       "1   [関連 イベント なし, 関連 イベント なし, 関連 イベント なし, 関連 イベント な...   \n",
       "2   [関連 イベント なし, 関連 イベント なし, 関連 イベント なし, 関連 イベント な...   \n",
       "3   [関連 イベント なし, 関連 イベント なし, 関連 イベント なし, 関連 イベント な...   \n",
       "4   [関連 イベント なし, 関連 イベント なし, 関連 イベント なし, 関連 イベント な...   \n",
       "..                                                ...   \n",
       "95  [関連 イベント なし, 関連 イベント なし, 関連 イベント なし, 関連 イベント な...   \n",
       "96  [関連 イベント なし, 関連 イベント なし, 関連 イベント なし, 関連 イベント な...   \n",
       "97  [2017 年 初頭 乳 がん \\n 2 月 温存 手術 \\n 現在 ホルモン 治療 中 \\...   \n",
       "98  [関連 イベント なし, 関連 イベント なし, 関連 イベント なし, 関連 イベント な...   \n",
       "99  [関連 イベント なし, 不眠 \\n 明日 通院 \\n 昼食 道 に 痛み 嚥下 痛 \\n ...   \n",
       "\n",
       "                                  incremental_summary  \n",
       "0   [2013 年 12 月 左 乳 がん 告知 （ ステージ 0 の 初期 ）, 2013 年...  \n",
       "1   [2009 年 10 月 末 左 胸 に しこり を 触知 翌日 受診 乳 がん の 可能 ...  \n",
       "2   [201 年 の 時点 で 46 歳 \\n 2016 - 01 - 28 人間ドック, 20...  \n",
       "3   [関連 イベント なし, 2009 - 06 - 072 日 早く 月経 が はじまる 創部...  \n",
       "4   [2008 - 09 - 30 ハーセプチン 投与 しびれ あり 昨 夕 より 胃 もたれ ...  \n",
       "..                                                ...  \n",
       "95  [2021 年 10 月 乳 がん ステージ Ⅱ b と 診断 ． \\n 2021 年 12...  \n",
       "96  [2014 年 12 月 乳 がん 告知 ． \\n 2015 年 2 月 4 日 浸潤 性 ...  \n",
       "97  [2017 年 初頭 乳 がん 判明 \\n 2 月 温存 手術 \\n 現在 ホルモン 治療 ...  \n",
       "98  [関連 イベント なし, 関連 イベント なし, 関連 イベント なし, 関連 イベント な...  \n",
       "99  [関連 イベント なし, 2008 / 2 / 26 不眠 \\n 昼食 道 に 痛み 嚥下 ...  \n",
       "\n",
       "[100 rows x 4 columns]"
      ]
     },
     "execution_count": 10,
     "metadata": {},
     "output_type": "execute_result"
    }
   ],
   "source": [
    "import pandas as pd\n",
    "\n",
    "data_frame = pd.read_json('datasets/tobyoki/tobyoki-event_summary_juman_processed_grouped.json', orient='records', encoding='utf-8', lines=False)\n",
    "data_frame"
   ]
  },
  {
   "cell_type": "code",
   "execution_count": 11,
   "metadata": {},
   "outputs": [
    {
     "data": {
      "text/plain": [
       "0     [2014 - 01 - 10 \\n 告知 \\n 2013 年 12 月 、 手術 検査 の...\n",
       "1     [2009 - 11 - 24 \\n しこり 発見 o ( ＞ ＜ ) o\\n 先月 末 の...\n",
       "2     [2016 - 02 - 26 \\n 人間 ドッグ (((^^;) \\n 本日 から ブログ...\n",
       "3     [2009 - 05 - 31 \\n 大 運動 会 \\n 上々の お 天気 で の 運動 会...\n",
       "4     [2008 - 09 - 30 \\n 病院 の 日 \\n 久しぶりに お 義父 さん に 送...\n",
       "                            ...                        \n",
       "95    [2022 - 09 - 08 \\n 自己 紹介 \\n 初め まして 。 vioringo ...\n",
       "96    [2016 - 03 - 06 \\n 病気 の こと \\n 病気 に ついて 2015 年 ...\n",
       "97    [2017 - 12 - 04 \\n 初め まして \\n 今年 の 初め に 乳 がん に ...\n",
       "98    [2012 - 07 - 04 \\n 今日 の 気分 は 。 \\n レモン 味 。 \\n\\n...\n",
       "99    [2008 - 02 - 23 \\n 強風 \\n 散歩 に 行こう と 思った けど 、 寒...\n",
       "Name: text, Length: 100, dtype: object"
      ]
     },
     "execution_count": 11,
     "metadata": {},
     "output_type": "execute_result"
    }
   ],
   "source": [
    "def truncate_max_segments(examples):\n",
    "    return examples[:4]\n",
    "\n"
   ]
  },
  {
   "cell_type": "code",
   "execution_count": 12,
   "metadata": {},
   "outputs": [
    {
     "data": {
      "text/plain": [
       "['2014 - 01 - 10 \\n 告知 \\n 2013 年 12 月 、 手術 検査 の 結果 を 聞き に 病院 へ 。 「 残念です が 、 乳 がん です 。 」 本当に 「 残念です が ・ ・ ・ 」 って 言う んだ～ が 最初の 感想 。 「 ステージ ０ の 初期 です が 、 治療 と して は 手術 で 左 乳房 を 全摘 し ます 。 温存 は 出来 ませ ん 。 」 ・ ・ ・ 。 おっぱい 、 とっちゃ う の ？ ？ ？ ここ から 先 は 、 ほとんど 覚えて ませ ん 。 きっつい なぁ～ こんな 思い しか 出て こ なかった ・ ・ ・',\n",
       " '2014 - 01 - 14 \\n 手術 は イヤ ！ \\n 告知 から 数 日 、 頭 の 中 は 病気 の こと ばかり 。 気 が つけば 、 涙 も 出て くる 。 乳房 再建 に ついて インターネット で 調べて も よく わから ない 。 体験 者 の 話 は 、 イヤな 部分 だけ 目 に 付く 。 こんな 中 で 衝動 的に パパ に 話した の は 、 「 手術 は 受け ない ！ 」 でした 。 みんな 、 チビ の ため って 言う けど 、 母親 を 必要 と する の は 後 何 年間 の 話 ？ それ から 先 の 数十 年 で 、 私 は 手術 を 受けた こと を 後悔 し ない の ？ 費用 だって たくさん 掛かる なら 、 その分 チビ の 将来 に まわした ほう が ・ ・ ・ そんな モヤモヤ した 気持ち が 溜まって ・ ・ ・ パパ は 黙って 聞いて くれ ました 。 「 どう する か は 自分 で 決め なさい 。 」 私 は 本当 は どう し たい の か な ・ ・ ・',\n",
       " '2014 - 01 - 17 \\n 最悪の 大晦日 \\n 12 月 31 日 に 家族 で 私 の 実家 に 帰省 。 病気 が わかって から 初めて の 帰省 な ので 、 ここ で 両親 と 病気 に ついて 話し ました 。 反応 、 うすっ ！ ！ ∑(ﾟДﾟ) 「 で 、 手術 は いつ ？ 当日 行って も ヒマだ から 、 落ち着いたら お 見舞い に 行く よ 」 だって ・ ・ ・ 娘 が ガン の 手術 だって いう のに 、 完全に 他人事 。 母親 に は 、 いろいろ 病気 の 悩み や グチ を 聞いて もらって いたら 、 側 に いた 妹 が 、 「 話し 聞いて る と イライラ する 。 自分 が カワイソウ だ と おもって る だけ でしょう 。 グチグチ いう なら さっさと 死んじゃ えば 。 」 ・ ・ ・ コイツダケニハ 、 モウナニモイワナイ ・ ・ ・ 母親 は 、 「 そんな こと より も 、 オバアチャン の お 世話 が 大変な の よ 。 なんで 私 ばかり やら なきゃ いけない の ！ ？ 」 オバアチャン 、 施設 に 入って ます けど ・ ・ ・ 1 ヶ月 に 1 度 会い に 行く だけ って 聞いて ます けど ・ ・ ・ 娘 の 病気 は 「 そんな こと 」 ？ チビ は 可愛がる けど 、 面倒 を 見る 気 は なし 。 今回 の 入院 、 退院 後 の 生活 も 自分 たち で なんとか しろ と の こと でしょう 。 妊娠 した とき も 、 妊娠 中 の 引越し は 大変だ から 手伝う と 言い ながら 、 平日 に 引っ越す と 言ったら 仕事 が ある から と 来 なかった し 、 里帰り 出産 を 希望 したら 、 近く に 大きな 病院 は ない から と 拒否 （ 産院 は あり ます ） 出産 後 も 手伝う と 言って いた のに 、 行って も やる こと が わから ない から と 結局 一 度 も 手伝い に は 来 ず ・ ・ ・ うち の 親 って ・ ・ ・ ( ｀ε ´ ) 毎回 期待 して は 裏切ら れる んだ から 、 私 も 学習 すれば いい のに ・ ・ ・ ( ﾉ _ ･ ｡ )',\n",
       " '2014 - 01 - 24 \\n ふんだり 、 けったり \\n 手術 が 2 月 の 第 一 週 と 決まり 、 後 は 入院 準備 と 思って いた 時 、 チビ が 幼稚園 から インフルエンザ を お 持ち帰り し ました 。 翌日 に は 、 私 が 。 翌々日 に は 、 パパ が 。 と 、 次々 に ダウン 。 。 。 より に よって この 時期 に ・ ・ ・ まてまて 、 この 時期 だった から 、 まだ 良かった の か な ・ ・ ・ と 考え つつ も 、 38 度 以上 の 高熱 が 続いて は 動く に 動け ず 、 でも 、 主婦 は 無理やり でも 動か なくて は いけ ず 。 少し 大変な 状況 でした 。 もう 、 病気 は 勘弁 して 欲しい です 。 ( Ｔ ▽ Ｔ ; )']"
      ]
     },
     "execution_count": 12,
     "metadata": {},
     "output_type": "execute_result"
    }
   ],
   "source": [
    "test[0]"
   ]
  }
 ],
 "metadata": {
  "kernelspec": {
   "display_name": "summarization",
   "language": "python",
   "name": "python3"
  },
  "language_info": {
   "codemirror_mode": {
    "name": "ipython",
    "version": 3
   },
   "file_extension": ".py",
   "mimetype": "text/x-python",
   "name": "python",
   "nbconvert_exporter": "python",
   "pygments_lexer": "ipython3",
   "version": "3.11.4"
  }
 },
 "nbformat": 4,
 "nbformat_minor": 2
}
