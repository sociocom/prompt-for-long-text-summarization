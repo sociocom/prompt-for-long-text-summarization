{
 "cells": [
  {
   "cell_type": "code",
   "execution_count": 1,
   "metadata": {},
   "outputs": [
    {
     "name": "stderr",
     "output_type": "stream",
     "text": [
      "/home/is/kaifan-l/miniconda3/envs/summarization/lib/python3.11/site-packages/tqdm/auto.py:21: TqdmWarning: IProgress not found. Please update jupyter and ipywidgets. See https://ipywidgets.readthedocs.io/en/stable/user_install.html\n",
      "  from .autonotebook import tqdm as notebook_tqdm\n",
      "Downloading tokenizer_config.json: 100%|██████████| 471/471 [00:00<00:00, 3.50MB/s]\n",
      "Downloading (…)tencepiece.bpe.model: 100%|██████████| 589k/589k [00:00<00:00, 2.94MB/s]\n",
      "Downloading tokenizer.json: 100%|██████████| 1.60M/1.60M [00:00<00:00, 1.87MB/s]\n",
      "Downloading (…)cial_tokens_map.json: 100%|██████████| 279/279 [00:00<00:00, 498kB/s]\n",
      "Downloading config.json: 100%|██████████| 1.79k/1.79k [00:00<00:00, 8.76MB/s]\n",
      "Downloading pytorch_model.bin: 100%|██████████| 502M/502M [00:43<00:00, 11.5MB/s] \n"
     ]
    }
   ],
   "source": [
    "from transformers import AutoTokenizer, MBartForConditionalGeneration\n",
    "tokenizer = AutoTokenizer.from_pretrained('ku-nlp/bart-base-japanese')\n",
    "model = MBartForConditionalGeneration.from_pretrained('ku-nlp/bart-base-japanese')"
   ]
  },
  {
   "cell_type": "code",
   "execution_count": null,
   "metadata": {},
   "outputs": [],
   "source": [
    "本稿では実際に計算機上で試作した論説文要約システムに関して, これで用いられている論説文要約の手法の紹介と, これによって出力された文章の評価を行う."
   ]
  },
  {
   "cell_type": "code",
   "execution_count": 8,
   "metadata": {},
   "outputs": [],
   "source": [
    "sentence = '本稿 では 実際に 計算機上 で試作した 論説文 要約システム に 関して, これで 用 いられている 論説文 要約の 手法の 紹介と, これ によって 出力された 文章の 評価を 行う.'  # input should be segmented into words by Juman++ in advance\n",
    "encoding = tokenizer(sentence, return_tensors='pt')"
   ]
  },
  {
   "cell_type": "code",
   "execution_count": 9,
   "metadata": {},
   "outputs": [
    {
     "data": {
      "text/plain": [
       "{'input_ids': tensor([[    0, 18573, 24285,  1367, 28430,  3126, 28626, 28536,    12, 28884,\n",
       "         28540,   198, 23644, 28673, 21607, 21699,     7,  2210,     3,   180,\n",
       "         28439,   235, 21911,   630, 28441, 28433, 23644, 28673, 21607, 28428,\n",
       "          3713, 28428,  1972, 28436,     3,   180,     7, 28476,    44,  3331,\n",
       "         28459,   483,  7118, 28428,  1418, 28437,   794,     3,     2]]), 'attention_mask': tensor([[1, 1, 1, 1, 1, 1, 1, 1, 1, 1, 1, 1, 1, 1, 1, 1, 1, 1, 1, 1, 1, 1, 1, 1,\n",
       "         1, 1, 1, 1, 1, 1, 1, 1, 1, 1, 1, 1, 1, 1, 1, 1, 1, 1, 1, 1, 1, 1, 1, 1,\n",
       "         1]])}"
      ]
     },
     "execution_count": 9,
     "metadata": {},
     "output_type": "execute_result"
    }
   ],
   "source": [
    "encoding"
   ]
  },
  {
   "cell_type": "code",
   "execution_count": 1,
   "metadata": {},
   "outputs": [
    {
     "ename": "Exception",
     "evalue": "Can't find JUMAN command: jumanpp",
     "output_type": "error",
     "traceback": [
      "\u001b[0;31m---------------------------------------------------------------------------\u001b[0m",
      "\u001b[0;31mException\u001b[0m                                 Traceback (most recent call last)",
      "Cell \u001b[0;32mIn[1], line 3\u001b[0m\n\u001b[1;32m      1\u001b[0m \u001b[38;5;28;01mfrom\u001b[39;00m \u001b[38;5;21;01mpyknp\u001b[39;00m \u001b[38;5;28;01mimport\u001b[39;00m Juman\n\u001b[0;32m----> 3\u001b[0m jumanpp \u001b[38;5;241m=\u001b[39m \u001b[43mJuman\u001b[49m\u001b[43m(\u001b[49m\u001b[43m)\u001b[49m\n\u001b[1;32m      5\u001b[0m text \u001b[38;5;241m=\u001b[39m \u001b[38;5;124m'\u001b[39m\u001b[38;5;124m吾輩は猫である。\u001b[39m\u001b[38;5;124m'\u001b[39m\n\u001b[1;32m      6\u001b[0m mlist \u001b[38;5;241m=\u001b[39m jumanpp\u001b[38;5;241m.\u001b[39manalysis(text)\n",
      "File \u001b[0;32m~/miniconda3/envs/summarization/lib/python3.11/site-packages/pyknp/juman/juman.py:66\u001b[0m, in \u001b[0;36mJuman.__init__\u001b[0;34m(self, command, server, port, timeout, option, rcfile, ignorepattern, pattern, jumanpp, multithreading)\u001b[0m\n\u001b[1;32m     64\u001b[0m     \u001b[38;5;28;01mraise\u001b[39;00m \u001b[38;5;167;01mException\u001b[39;00m(\u001b[38;5;124m\"\u001b[39m\u001b[38;5;124mCan\u001b[39m\u001b[38;5;124m'\u001b[39m\u001b[38;5;124mt read rcfile (\u001b[39m\u001b[38;5;132;01m%s\u001b[39;00m\u001b[38;5;124m)!\u001b[39m\u001b[38;5;124m\"\u001b[39m \u001b[38;5;241m%\u001b[39m \u001b[38;5;28mself\u001b[39m\u001b[38;5;241m.\u001b[39mrcfile)\n\u001b[1;32m     65\u001b[0m \u001b[38;5;28;01mif\u001b[39;00m distutils\u001b[38;5;241m.\u001b[39mspawn\u001b[38;5;241m.\u001b[39mfind_executable(\u001b[38;5;28mself\u001b[39m\u001b[38;5;241m.\u001b[39mcommand) \u001b[38;5;129;01mis\u001b[39;00m \u001b[38;5;28;01mNone\u001b[39;00m:\n\u001b[0;32m---> 66\u001b[0m     \u001b[38;5;28;01mraise\u001b[39;00m \u001b[38;5;167;01mException\u001b[39;00m(\u001b[38;5;124m\"\u001b[39m\u001b[38;5;124mCan\u001b[39m\u001b[38;5;124m'\u001b[39m\u001b[38;5;124mt find JUMAN command: \u001b[39m\u001b[38;5;132;01m%s\u001b[39;00m\u001b[38;5;124m\"\u001b[39m \u001b[38;5;241m%\u001b[39m \u001b[38;5;28mself\u001b[39m\u001b[38;5;241m.\u001b[39mcommand)\n",
      "\u001b[0;31mException\u001b[0m: Can't find JUMAN command: jumanpp"
     ]
    }
   ],
   "source": [
    "from pyknp import Juman\n",
    "\n",
    "jumanpp = Juman()\n",
    "\n",
    "text = '吾輩は猫である。'\n",
    "mlist = jumanpp.analysis(text)\n",
    "\n",
    "print([mrph.midasi for mrph in mlist.mrph_list()])\n",
    "# ['吾輩', 'は', '猫', 'である', '。']"
   ]
  }
 ],
 "metadata": {
  "kernelspec": {
   "display_name": "summarization",
   "language": "python",
   "name": "python3"
  },
  "language_info": {
   "codemirror_mode": {
    "name": "ipython",
    "version": 3
   },
   "file_extension": ".py",
   "mimetype": "text/x-python",
   "name": "python",
   "nbconvert_exporter": "python",
   "pygments_lexer": "ipython3",
   "version": "3.11.4"
  }
 },
 "nbformat": 4,
 "nbformat_minor": 2
}
